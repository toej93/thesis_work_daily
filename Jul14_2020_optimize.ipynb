{
 "cells": [
  {
   "cell_type": "markdown",
   "metadata": {},
   "source": [
    "# Perform optimization"
   ]
  },
  {
   "cell_type": "markdown",
   "metadata": {
    "hidePrompt": false
   },
   "source": [
    "### Jul 10, 2020"
   ]
  },
  {
   "cell_type": "markdown",
   "metadata": {
    "hideCode": false
   },
   "source": [
    "## Code"
   ]
  },
  {
   "cell_type": "code",
   "execution_count": 1,
   "metadata": {
    "hideCode": false,
    "slideshow": {
     "slide_type": "-"
    }
   },
   "outputs": [
    {
     "name": "stdout",
     "output_type": "stream",
     "text": [
      "Welcome to JupyROOT 6.18/04\n"
     ]
    }
   ],
   "source": [
    "import sys\n",
    "sys.path.insert(0,\"/users/PCON0003/cond0068/.local/lib/python3.7/\")\n",
    "sys.path.append(\"/users/PAS0654/osu8354/ARA_cvmfs/root_build/lib/\") # go to parent dir\n",
    "sys.path.append(\"/users/PCON0003/cond0068/.local/lib/python3.7/site-packages/\")\n",
    "import ROOT\n",
    "import math\n",
    "import numpy as np\n",
    "from ROOT import TH1D,TF1, gRandom, gPad, gStyle\n",
    "import matplotlib.pyplot as plt\n",
    "from ROOT import TChain, TSelector, TTree\n",
    "import os\n",
    "import matplotlib.colors as mcolors\n",
    "import scipy\n",
    "from matplotlib.colors import LogNorm"
   ]
  },
  {
   "cell_type": "code",
   "execution_count": 27,
   "metadata": {},
   "outputs": [
    {
     "data": {
      "text/plain": [
       "False"
      ]
     },
     "execution_count": 27,
     "metadata": {},
     "output_type": "execute_result"
    }
   ],
   "source": [
    "sys.path.append(\"/users/PAS0654/osu8354/ARA_cvmfs/source/AraRoot/analysis/ARA_analysis/JuPyter_Notebooks\")\n",
    "import util_analysis\n",
    "import time\n",
    "util_analysis.isBadrun(2275,2)"
   ]
  },
  {
   "cell_type": "markdown",
   "metadata": {},
   "source": [
    "### Explore ROOT file"
   ]
  },
  {
   "cell_type": "code",
   "execution_count": 3,
   "metadata": {},
   "outputs": [
    {
     "name": "stdout",
     "output_type": "stream",
     "text": [
      "TFile**\t\t/fs/project/PAS0654/ARA_DATA/A23/10pct_redo/ValsForCuts/A2/c1/cutvals_drop_FiltSurface_snrbins_0_0_wfrmsvals_-1.3_-1.4_run_2275.root\t\n",
      " TFile*\t\t/fs/project/PAS0654/ARA_DATA/A23/10pct_redo/ValsForCuts/A2/c1/cutvals_drop_FiltSurface_snrbins_0_0_wfrmsvals_-1.3_-1.4_run_2275.root\t\n",
      "  KEY: TTree\tVTree;1\tVTree\n",
      "  KEY: TTree\tHTree;1\tHTree\n",
      "  KEY: TTree\tAllTree;2\tAllTree\n",
      "  KEY: TTree\tAllTree;1\tAllTree\n",
      "  KEY: TTree\tOutputTree;1\tOutputTree\n"
     ]
    }
   ],
   "source": [
    "f = ROOT.TFile.Open(\"/fs/project/PAS0654/ARA_DATA/A23/10pct_redo/ValsForCuts/A2/c1/cutvals_drop_FiltSurface_snrbins_0_0_wfrmsvals_-1.3_-1.4_run_2275.root\")\n",
    "f.ls()"
   ]
  },
  {
   "cell_type": "code",
   "execution_count": 4,
   "metadata": {
    "scrolled": false
   },
   "outputs": [
    {
     "name": "stdout",
     "output_type": "stream",
     "text": [
      "******************************************************************************\n",
      "*Tree    :AllTree   : AllTree                                                *\n",
      "*Entries :     8827 : Total =          728591 bytes  File  Size =      58546 *\n",
      "*        :          : Tree compression factor =  12.69                       *\n",
      "******************************************************************************\n",
      "*Br    0 :cal       : cal/I                                                  *\n",
      "*Entries :     8827 : Total  Size=      35931 bytes  File Size  =       2901 *\n",
      "*Baskets :        2 : Basket Size=      32000 bytes  Compression=  12.22     *\n",
      "*............................................................................*\n",
      "*Br    1 :soft      : soft/I                                                 *\n",
      "*Entries :     8827 : Total  Size=      35937 bytes  File Size  =       2873 *\n",
      "*Baskets :        2 : Basket Size=      32000 bytes  Compression=  12.34     *\n",
      "*............................................................................*\n",
      "*Br    2 :short     : short/I                                                *\n",
      "*Entries :     8827 : Total  Size=      35943 bytes  File Size  =       2875 *\n",
      "*Baskets :        2 : Basket Size=      32000 bytes  Compression=  12.33     *\n",
      "*............................................................................*\n",
      "*Br    3 :CW        : CW/I                                                   *\n",
      "*Entries :     8827 : Total  Size=      35925 bytes  File Size  =        379 *\n",
      "*Baskets :        2 : Basket Size=      32000 bytes  Compression=  93.54     *\n",
      "*............................................................................*\n",
      "*Br    4 :box       : box/I                                                  *\n",
      "*Entries :     8827 : Total  Size=      35931 bytes  File Size  =       3008 *\n",
      "*Baskets :        2 : Basket Size=      32000 bytes  Compression=  11.79     *\n",
      "*............................................................................*\n",
      "*Br    5 :surf_V_org : surf_V_org/I                                          *\n",
      "*Entries :     8827 : Total  Size=      35973 bytes  File Size  =       2554 *\n",
      "*Baskets :        2 : Basket Size=      32000 bytes  Compression=  13.89     *\n",
      "*............................................................................*\n",
      "*Br    6 :surf_H_org : surf_H_org/I                                          *\n",
      "*Entries :     8827 : Total  Size=      35973 bytes  File Size  =       2738 *\n",
      "*Baskets :        2 : Basket Size=      32000 bytes  Compression=  12.95     *\n",
      "*............................................................................*\n",
      "*Br    7 :surf_V_new : surf_V_new/I                                          *\n",
      "*Entries :     8827 : Total  Size=      35973 bytes  File Size  =       2557 *\n",
      "*Baskets :        2 : Basket Size=      32000 bytes  Compression=  13.87     *\n",
      "*............................................................................*\n",
      "*Br    8 :surf_H_new : surf_H_new/I                                          *\n",
      "*Entries :     8827 : Total  Size=      35973 bytes  File Size  =       2738 *\n",
      "*Baskets :        2 : Basket Size=      32000 bytes  Compression=  12.95     *\n",
      "*............................................................................*\n",
      "*Br    9 :surf_top_V : surf_top_V/I                                          *\n",
      "*Entries :     8827 : Total  Size=      35973 bytes  File Size  =        578 *\n",
      "*Baskets :        2 : Basket Size=      32000 bytes  Compression=  61.36     *\n",
      "*............................................................................*\n",
      "*Br   10 :surf_top_H : surf_top_H/I                                          *\n",
      "*Entries :     8827 : Total  Size=      35973 bytes  File Size  =        642 *\n",
      "*Baskets :        2 : Basket Size=      32000 bytes  Compression=  55.25     *\n",
      "*............................................................................*\n",
      "*Br   11 :bad       : bad/I                                                  *\n",
      "*Entries :     8827 : Total  Size=      35931 bytes  File Size  =        365 *\n",
      "*Baskets :        2 : Basket Size=      32000 bytes  Compression=  97.13     *\n",
      "*............................................................................*\n",
      "*Br   12 :weight    : weight/D                                               *\n",
      "*Entries :     8827 : Total  Size=      71341 bytes  File Size  =        742 *\n",
      "*Baskets :        3 : Basket Size=      32000 bytes  Compression=  95.48     *\n",
      "*............................................................................*\n",
      "*Br   13 :unixTime  : unixTime/I                                             *\n",
      "*Entries :     8827 : Total  Size=      35961 bytes  File Size  =      12803 *\n",
      "*Baskets :        2 : Basket Size=      32000 bytes  Compression=   2.77     *\n",
      "*............................................................................*\n",
      "*Br   14 :hasBadSpareChanIssue : hasBadSpareChanIssue/I                      *\n",
      "*Entries :     8827 : Total  Size=      36033 bytes  File Size  =        400 *\n",
      "*Baskets :        2 : Basket Size=      32000 bytes  Compression=  88.72     *\n",
      "*............................................................................*\n",
      "*Br   15 :hasBadSpareChanIssue2 : hasBadSpareChanIssue2/I                    *\n",
      "*Entries :     8827 : Total  Size=      36039 bytes  File Size  =        413 *\n",
      "*Baskets :        2 : Basket Size=      32000 bytes  Compression=  85.93     *\n",
      "*............................................................................*\n",
      "*Br   16 :isFirstFiveEvent : isFirstFiveEvent/I                              *\n",
      "*Entries :     8827 : Total  Size=      36009 bytes  File Size  =        392 *\n",
      "*Baskets :        2 : Basket Size=      32000 bytes  Compression=  90.51     *\n",
      "*............................................................................*\n",
      "*Br   17 :eventNumber : eventNumber/I                                        *\n",
      "*Entries :     8827 : Total  Size=      35979 bytes  File Size  =      17084 *\n",
      "*Baskets :        2 : Basket Size=      32000 bytes  Compression=   2.08     *\n",
      "*............................................................................*\n",
      "*Br   18 :runNum    : runNum/I                                               *\n",
      "*Entries :     8827 : Total  Size=      35949 bytes  File Size  =        400 *\n",
      "*Baskets :        2 : Basket Size=      32000 bytes  Compression=  88.65     *\n",
      "*............................................................................*\n",
      "*Br   19 :badRun    : badRun/O                                               *\n",
      "*Entries :     8827 : Total  Size=       9386 bytes  File Size  =        147 *\n",
      "*Baskets :        1 : Basket Size=      32000 bytes  Compression=  60.56     *\n",
      "*............................................................................*\n"
     ]
    }
   ],
   "source": [
    "f.Get(\"AllTree\").Print()"
   ]
  },
  {
   "cell_type": "markdown",
   "metadata": {
    "hideCode": false,
    "hideOutput": false,
    "hidePrompt": false
   },
   "source": [
    "## Analyze data"
   ]
  },
  {
   "cell_type": "code",
   "execution_count": 33,
   "metadata": {},
   "outputs": [],
   "source": [
    "file_list=[]#Define an empty list\n",
    "for filename in os.listdir(\"//fs/project/PAS0654/ARA_DATA/A23/10pct_redo/ValsForCuts/A2/c1/\"):#Loop over desired directory\n",
    "    if filename.endswith(\"77.root\"): #extension, .root in this case\n",
    "        file_list.append(os.path.join(\"/fs/project/PAS0654/ARA_DATA/A23/10pct_redo/ValsForCuts/A2/c1/\", str(filename))) #add file name to the list"
   ]
  },
  {
   "cell_type": "code",
   "execution_count": 45,
   "metadata": {},
   "outputs": [],
   "source": [
    "VTree = TChain(\"VTree\") #Define chain and tree that needs to be read. \"VTree\" in this case.\n",
    "HTree = TChain(\"HTree\")\n",
    "AllTree = TChain(\"AllTree\")\n",
    "\n",
    "for line in file_list:\n",
    "    VTree.AddFile(line)\n",
    "    HTree.AddFile(line)\n",
    "    AllTree.AddFile(line)"
   ]
  },
  {
   "cell_type": "code",
   "execution_count": 66,
   "metadata": {},
   "outputs": [
    {
     "name": "stdout",
     "output_type": "stream",
     "text": [
      "It has been 4.192319631576538 seconds since the loop started\n"
     ]
    }
   ],
   "source": [
    "program_starts = time.time()\n",
    "for i in range(0, AllTree.GetEntries()):\n",
    "    AllTree.GetEvent(i)\n",
    "    if( (AllTree.soft or AllTree.bad or AllTree.hasBadSpareChanIssue or AllTree.isFirstFiveEvent or AllTree.badRun\n",
    "         or AllTree.short or AllTree.cal)):\n",
    "        continue\n",
    "    if (AllTree.runNum==3663 and AllTree.eventNumber==6):\n",
    "        continue\n",
    "    corr_val = np.array([VTree.corr_val_V_new ,HTree.corr_val_H_new])\n",
    "    snr_val = np.array([VTree.snr_val_V_new ,HTree.snr_val_H_new])\n",
    "    WFRMS = np.array([VTree.wfrms_val_V_new, HTree.wfrms_val_H_new])\n",
    "    isSurf = np.array([AllTree.surf_V_new, AllTree.surf_H_new])\n",
    "    isSurfEvent_top = np.array([AllTree.surf_top_V,AllTree.surf_top_H])\n",
    "    for pol in range(0,2):\n",
    "        if(WFRMS[pol]==0 and AllTree.box==0 and isSurf[0]==0 and isSurf[1]==0 and isSurfEvent_top[pol]==0):\n",
    "            failsCWPowerCut=False\n",
    "\n",
    "    \n",
    "now = time.time()\n",
    "print(\"It has been {0} seconds since the loop started\".format(now - program_starts))\n"
   ]
  },
  {
   "cell_type": "code",
   "execution_count": 38,
   "metadata": {},
   "outputs": [
    {
     "name": "stdout",
     "output_type": "stream",
     "text": [
      "0\n",
      "1\n"
     ]
    }
   ],
   "source": [
    "for pol in range(0,2):\n",
    "    print(pol)"
   ]
  },
  {
   "cell_type": "code",
   "execution_count": null,
   "metadata": {},
   "outputs": [],
   "source": [
    "corr_val = []\n",
    "snr_val = []\n",
    "failsRcut = []\n",
    "this_y_val = []\n",
    "weight = []\n",
    "energy = []\n",
    "peakTheta_300m = []\n",
    "peakPhi_300m = []\n",
    "for entry in chain:\n",
    "#     if(entry.peakCorr_single[0]<0.01): continue\n",
    "#     if(entry.peakPhi_single[0]<0):\n",
    "#         phi.append(entry.peakPhi_single[0]+180) #extract variables of interest\n",
    "#     else:\n",
    "    corr_val.append(entry.corr_val[0]) \n",
    "    snr_val.append(entry.snr_val[0]) \n",
    "    failsRcut.append(entry.failsRcut[0])\n",
    "    this_y_val.append(entry.this_y_val[0])\n",
    "    weight.append(entry.weight)\n",
    "    energy.append(entry.energy)\n",
    "    peakTheta_300m.append(entry.peakTheta_300m[0]+90)\n",
    "    peakPhi_300m.append(entry.peakPhi_300m[0])"
   ]
  }
 ],
 "metadata": {
  "celltoolbar": "Hide code",
  "kernelspec": {
   "display_name": "Python 3.6 (Conda 5.2) [python/3.6-conda5.2]",
   "language": "python",
   "name": "sys_python36conda"
  },
  "language_info": {
   "codemirror_mode": {
    "name": "ipython",
    "version": 3
   },
   "file_extension": ".py",
   "mimetype": "text/x-python",
   "name": "python",
   "nbconvert_exporter": "python",
   "pygments_lexer": "ipython3",
   "version": "3.6.6"
  }
 },
 "nbformat": 4,
 "nbformat_minor": 2
}
