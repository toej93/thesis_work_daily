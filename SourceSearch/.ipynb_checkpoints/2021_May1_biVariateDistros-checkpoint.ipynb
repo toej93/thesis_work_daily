{
 "cells": [
  {
   "cell_type": "markdown",
   "metadata": {},
   "source": [
    "# Bivariate distributions"
   ]
  },
  {
   "cell_type": "markdown",
   "metadata": {},
   "source": [
    "### May 1, 2021"
   ]
  },
  {
   "cell_type": "markdown",
   "metadata": {},
   "source": [
    "## Code"
   ]
  },
  {
   "cell_type": "code",
   "execution_count": 1,
   "metadata": {},
   "outputs": [
    {
     "name": "stdout",
     "output_type": "stream",
     "text": [
      "Welcome to JupyROOT 6.18/04\n"
     ]
    }
   ],
   "source": [
    "import sys\n",
    "import csv\n",
    "# sys.path.insert(0,\"/users/PCON0003/cond0068/.local/lib/python3.7/\")\n",
    "sys.path.append(\"/users/PAS0654/osu8354/ARA_cvmfs/root_build/lib/\") # go to parent dir\n",
    "sys.path.append(\"/users/PCON0003/cond0068/.local/lib/python3.7/site-packages/\")\n",
    "# sys.path.append(\"/users/PCON0003/cond0068/pyrex_sims/fromBen/thesis_work/pyrex-custom/analysis/custom/analysis/\")\n",
    "import ROOT\n",
    "import math\n",
    "import numpy as np\n",
    "from ROOT import TH1D,TF1, gRandom, gPad, gStyle\n",
    "import matplotlib as mpl\n",
    "import matplotlib.pyplot as plt\n",
    "from ROOT import TChain, TSelector, TTree\n",
    "import os\n",
    "import matplotlib.colors as mcolors\n",
    "import scipy\n",
    "from matplotlib.colors import LogNorm\n",
    "import pandas as pd\n",
    "import seaborn as sns\n",
    "%matplotlib inline\n",
    "# sys.path.insert(1, \"/users/PAS0654/osu8354/ARA_cvmfs/source/AraRoot/analysis/ARA_analysis/SourceSearch\")\n",
    "# import deDisperse_util as util\n",
    "import matplotlib.colors as colors\n",
    "\n",
    "my_path_plots = os.path.abspath(\"./plots/\")\n",
    "import re\n"
   ]
  },
  {
   "cell_type": "code",
   "execution_count": 2,
   "metadata": {},
   "outputs": [],
   "source": [
    "# mpl.use('agg') \n",
    "mpl.rcParams['text.usetex'] = True\n",
    "mpl.rcParams['text.latex.unicode'] = True\n",
    "mpl.rcParams['mathtext.rm'] = 'Times New Roman'\n",
    "mpl.rcParams['mathtext.it'] = 'Times New Roman:italic'\n",
    "mpl.rcParams['mathtext.bf'] = 'Times New Roman:bold'\n",
    "\n",
    "mpl.rc('font', family='serif', size=12)\n",
    "mpl.rcParams['xtick.labelsize'] = 14\n",
    "mpl.rcParams['ytick.labelsize'] = 14\n",
    "mpl.rcParams['xtick.major.size'] = 5\n",
    "mpl.rcParams['ytick.major.size'] = 5\n",
    "\n",
    "mpl.rcParams['axes.titlesize'] = 18\n",
    "mpl.rcParams['axes.labelsize'] = 18\n",
    "# mpl.rc('font', size=16)\n",
    "mpl.rc('axes', titlesize=20)\n",
    "\n",
    "current_palette = sns.color_palette('colorblind', 10)\n",
    "import warnings\n",
    "warnings.filterwarnings(\"ignore\")\n"
   ]
  },
  {
   "cell_type": "markdown",
   "metadata": {},
   "source": [
    "# Get data"
   ]
  },
  {
   "cell_type": "code",
   "execution_count": 12,
   "metadata": {},
   "outputs": [],
   "source": [
    "srcFolder = \"/fs/project/PAS0654/ARA_DATA/A23/10pctCalibBugFix/ValsForCuts/A2/c1/\"\n",
    "file_list=[]#Define an empty list\n",
    "for filename in os.listdir(srcFolder):#Loop over desired directory\n",
    "    if filename.endswith(\"4.root\"): #extension, .root in this case\n",
    "        file_list.append(os.path.join(srcFolder, str(filename))) #add file name to the list\n",
    "        "
   ]
  },
  {
   "cell_type": "code",
   "execution_count": 13,
   "metadata": {},
   "outputs": [],
   "source": [
    "VTree = TChain(\"VTree\")\n",
    "HTree = TChain(\"HTree\")\n",
    "AllTree = TChain(\"AllTree\")\n",
    "OutputTree = TChain(\"OutputTree\")\n",
    "for line in file_list:\n",
    "    VTree.AddFile(line)\n",
    "    HTree.AddFile(line)\n",
    "    AllTree.AddFile(line) \n",
    "    OutputTree.AddFile(line)"
   ]
  },
  {
   "cell_type": "code",
   "execution_count": 16,
   "metadata": {},
   "outputs": [],
   "source": [
    "SNR = []\n",
    "CorrVal = []\n",
    "\n",
    "numEntries = AllTree.GetEntries()\n",
    "for event in range(numEntries):\n",
    "    VTree.GetEntry(event)\n",
    "    HTree.GetEntry(event)\n",
    "    AllTree.GetEntry(event)\n",
    "    OutputTree.GetEntry(event)\n",
    "    if(AllTree.cal or AllTree.soft or AllTree.CW or AllTree.box or AllTree.bad or AllTree.short or AllTree.isFirstFiveEvent or \n",
    "       AllTree.hasBadSpareChanIssue or AllTree.surf_top_V or AllTree.surf_top_H or VTree.wfrms_val_V_new or HTree.wfrms_val_H_new or\n",
    "       AllTree.surf_V_vertex or AllTree.surf_H_vertex or AllTree.bad_updated or AllTree.isSpikey or AllTree.badRun or VTree.wfrms_val_V_new or\n",
    "       HTree.wfrms_val_H_new or AllTree.surf_H_new or AllTree.surf_V_new or AllTree.hasBadSpareChanIssue2):\n",
    "        continue\n",
    "#     print(VTree.wfrms_val_V_new)\n",
    "    SNR.append(VTree.snr_val_V_new)\n",
    "    CorrVal.append(VTree.corr_val_V_new)"
   ]
  },
  {
   "cell_type": "markdown",
   "metadata": {},
   "source": [
    "# Look at distributions"
   ]
  },
  {
   "cell_type": "code",
   "execution_count": 19,
   "metadata": {},
   "outputs": [
    {
     "data": {
      "image/png": "[encoded data removed]",
      "text/plain": [
       "<Figure size 648x432 with 2 Axes>"
      ]
     },
     "metadata": {},
     "output_type": "display_data"
    }
   ],
   "source": [
    "plt.figure(figsize=(9,6))\n",
    "plt.hist2d(CorrVal, SNR, bins=50);\n",
    "plt.colorbar(label=\"Counts\")\n",
    "\n",
    "plt.ylabel(\"SNR\")\n",
    "plt.xlabel(\"Peak. Corr\")\n",
    "plt.title(\"Reco peak angles (300m hypothesis), A2 c1\")\n",
    "plt.tight_layout()\n",
    "# plt.grid(alpha=0.6, color = \"w\", ls = \"--\")\n",
    "# plt.savefig(\"./A2_c1_bkgDistribution.png\", dpi = 200)\n",
    "# plt.ylim(0,30)\n",
    "# plt.xlim(0,0.05)"
   ]
  }
 ],
 "metadata": {
  "kernelspec": {
   "display_name": "Python 3.6 (Conda 5.2) [python/3.6-conda5.2]",
   "language": "python",
   "name": "sys_python36conda"
  },
  "language_info": {
   "codemirror_mode": {
    "name": "ipython",
    "version": 3
   },
   "file_extension": ".py",
   "mimetype": "text/x-python",
   "name": "python",
   "nbconvert_exporter": "python",
   "pygments_lexer": "ipython3",
   "version": "3.6.6"
  }
 },
 "nbformat": 4,
 "nbformat_minor": 4
}
