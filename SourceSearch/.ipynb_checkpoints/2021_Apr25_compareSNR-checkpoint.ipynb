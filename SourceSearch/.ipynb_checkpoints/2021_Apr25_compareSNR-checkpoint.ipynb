{
 "cells": [
  {
   "cell_type": "markdown",
   "metadata": {},
   "source": [
    "# Data X checks"
   ]
  },
  {
   "cell_type": "markdown",
   "metadata": {},
   "source": [
    "### Apr 19, 2021"
   ]
  },
  {
   "cell_type": "markdown",
   "metadata": {},
   "source": [
    "## Code"
   ]
  },
  {
   "cell_type": "code",
   "execution_count": 1,
   "metadata": {},
   "outputs": [
    {
     "name": "stdout",
     "output_type": "stream",
     "text": [
      "Welcome to JupyROOT 6.18/04\n"
     ]
    }
   ],
   "source": [
    "import sys\n",
    "import csv\n",
    "# sys.path.insert(0,\"/users/PCON0003/cond0068/.local/lib/python3.7/\")\n",
    "sys.path.append(\"/users/PAS0654/osu8354/ARA_cvmfs/root_build/lib/\") # go to parent dir\n",
    "sys.path.append(\"/users/PCON0003/cond0068/.local/lib/python3.7/site-packages/\")\n",
    "# sys.path.append(\"/users/PCON0003/cond0068/pyrex_sims/fromBen/thesis_work/pyrex-custom/analysis/custom/analysis/\")\n",
    "import ROOT\n",
    "import math\n",
    "import numpy as np\n",
    "from ROOT import TH1D,TF1, gRandom, gPad, gStyle\n",
    "import matplotlib as mpl\n",
    "import matplotlib.pyplot as plt\n",
    "from ROOT import TChain, TSelector, TTree\n",
    "import os\n",
    "import matplotlib.colors as mcolors\n",
    "import scipy\n",
    "from matplotlib.colors import LogNorm\n",
    "import pandas as pd\n",
    "import seaborn as sns\n",
    "%matplotlib inline\n",
    "# sys.path.insert(1, \"/users/PAS0654/osu8354/ARA_cvmfs/source/AraRoot/analysis/ARA_analysis/SourceSearch\")\n",
    "# import deDisperse_util as util\n",
    "import matplotlib.colors as colors\n",
    "\n",
    "my_path_plots = os.path.abspath(\"./plots/\")\n",
    "import re\n"
   ]
  },
  {
   "cell_type": "code",
   "execution_count": 2,
   "metadata": {},
   "outputs": [],
   "source": [
    "# mpl.use('agg') \n",
    "mpl.rcParams['text.usetex'] = True\n",
    "mpl.rcParams['text.latex.unicode'] = True\n",
    "mpl.rcParams['mathtext.rm'] = 'Times New Roman'\n",
    "mpl.rcParams['mathtext.it'] = 'Times New Roman:italic'\n",
    "mpl.rcParams['mathtext.bf'] = 'Times New Roman:bold'\n",
    "\n",
    "mpl.rc('font', family='serif', size=12)\n",
    "mpl.rcParams['xtick.labelsize'] = 14\n",
    "mpl.rcParams['ytick.labelsize'] = 14\n",
    "mpl.rcParams['xtick.major.size'] = 5\n",
    "mpl.rcParams['ytick.major.size'] = 5\n",
    "\n",
    "mpl.rcParams['axes.titlesize'] = 18\n",
    "mpl.rcParams['axes.labelsize'] = 18\n",
    "# mpl.rc('font', size=16)\n",
    "mpl.rc('axes', titlesize=20)\n",
    "\n",
    "current_palette = sns.color_palette('colorblind', 10)\n",
    "import warnings\n",
    "warnings.filterwarnings(\"ignore\")\n"
   ]
  },
  {
   "cell_type": "markdown",
   "metadata": {},
   "source": [
    "# Get data"
   ]
  },
  {
   "cell_type": "markdown",
   "metadata": {},
   "source": [
    "# Look at calpulser events"
   ]
  },
  {
   "cell_type": "code",
   "execution_count": null,
   "metadata": {},
   "outputs": [],
   "source": [
    "phi_v=[]\n",
    "theta_v=[]\n",
    "# phi_h=[]\n",
    "# theta_h=[]\n",
    "peak_corr=[]\n",
    "numruns=0\n",
    "run_number=[]\n",
    "for filename in os.listdir(\"/fs/project/PAS0654/ARA_DATA/A23/10pctCalibBugFix/Joined/A2/by_config/c5\"):#Loop over desired directory\n",
    "    if filename.endswith(\"3517_joined_bins_6_19.root\"):\n",
    "        continue\n",
    "    if filename.endswith(\".root\"): #extension, .root in this case\n",
    "        run = int(re.findall(\"(\\d{4})\", filename)[0])\n",
    "        if run>7000:\n",
    "            continue\n",
    "#         print(run)\n",
    "\n",
    "        f = ROOT.TFile.Open(os.path.join(\"/fs/project/PAS0654/ARA_DATA/A23/10pctCalibBugFix/Joined/A2/by_config/c5\", str(filename)))\n",
    "        numEntries=f.OutputTree_recoRadius_6.GetEntries()\n",
    "        if numEntries==0:\n",
    "            continue\n",
    "        f.OutputTree_recoRadius_6.GetEntry(0)\n",
    "#         print(OutputTree_recoRadius_6.run)\n",
    "#         if(isBadrun(f.OutputTree_recoRadius_19.run)==True):\n",
    "#             continue\n",
    "        numruns+=1\n",
    "        for entry in f.OutputTree_recoRadius_6:\n",
    "            if entry.isCalpulser==False:\n",
    "                continue\n",
    "#             if isBadLivetime(3,entry.unixTime):\n",
    "#                 continue\n",
    "#             run_number.append(entry.run)\n",
    "            peak_corr.append(entry.peakCorr_single[0])\n",
    "            \n",
    "            theta_v.append(entry.peakTheta_single[0])\n",
    "            phi_v.append(entry.peakPhi_single[0])\n",
    "#             theta_h.append(entry.peakTheta_single[1])\n",
    "#             phi_h.append(entry.peakPhi_single[1])"
   ]
  },
  {
   "cell_type": "code",
   "execution_count": 22,
   "metadata": {},
   "outputs": [
    {
     "data": {
      "image/png": "[encoded data removed]",
      "text/plain": [
       "<Figure size 432x288 with 2 Axes>"
      ]
     },
     "metadata": {},
     "output_type": "display_data"
    }
   ],
   "source": [
    "plt.hist2d(phi_v,theta_v, bins = 10, range=[[60,70],[0,10]],norm=mpl.colors.LogNorm());\n",
    "plt.colorbar()\n",
    "plt.xlabel(\"$\\phi$ [deg]\")\n",
    "plt.ylabel(r\"$\\theta$ [deg]\")\n",
    "plt.plot(65.19, 5.85, \"*\", color = \"red\", label =\"CP location\", markersize=20)\n",
    "plt.grid()\n",
    "plt.legend()\n",
    "plt.title(\"Config. 5, CP6: $(65.19^\\circ,5.85^\\circ)$\")\n",
    "plt.tight_layout()\n",
    "\n",
    "plt.savefig(\"./CP6RecoConfig5.pdf\", dpi=200)"
   ]
  },
  {
   "cell_type": "code",
   "execution_count": 23,
   "metadata": {},
   "outputs": [],
   "source": [
    "import corner"
   ]
  },
  {
   "cell_type": "code",
   "execution_count": 24,
   "metadata": {},
   "outputs": [
    {
     "data": {
      "image/png": "[encoded data removed]",
      "text/plain": [
       "<Figure size 396x396 with 4 Axes>"
      ]
     },
     "metadata": {},
     "output_type": "display_data"
    }
   ],
   "source": [
    "# fig = plt.figure(figsize=(10,6))\n",
    "x=phi_v\n",
    "y=theta_v\n",
    "# y = nnuTheta\n",
    "\n",
    "data = np.vstack([x,y]).T\n",
    "\n",
    "\n",
    "# Plot it.\n",
    "figure = corner.corner(data, labels=[r\"$\\phi$\", r\"$\\theta$\"],bins = 10,\n",
    "                       quantiles=[0.5],\n",
    "                       show_titles=True,smooth=True,range=[[60,70],[0,10]])\n",
    "\n",
    "corner.overplot_lines(figure, [65.19, 5.85], color=\"C1\",ls = \"-\",alpha = 0.8, label = \"T\")\n",
    "# corner.overplot_points(figure,[65.19, 5.85][None], color=\"C1\", marker=\"s\")\n",
    "plt.tight_layout()\n",
    "# plt.savefig(my_path_plots+\"/NuDirReco/KDE_Fixed_recoNnu_1E18_cornerPlot.png\", dpi=200)"
   ]
  },
  {
   "cell_type": "markdown",
   "metadata": {},
   "source": [
    "# Non calpulser events"
   ]
  },
  {
   "cell_type": "markdown",
   "metadata": {},
   "source": [
    "## Correlation value"
   ]
  },
  {
   "cell_type": "code",
   "execution_count": 27,
   "metadata": {},
   "outputs": [],
   "source": [
    "# phi_v=[]\n",
    "# theta_v=[]\n",
    "# phi_h=[]\n",
    "# theta_h=[]\n",
    "peak_corr=[]\n",
    "# SNR = []\n",
    "numruns=0\n",
    "run_number=[]\n",
    "for filename in os.listdir(\"/fs/project/PAS0654/ARA_DATA/A23/10pctCalibBugFix/Joined/A2/by_config/c5\"):#Loop over desired directory\n",
    "    if filename.endswith(\"3517_joined_bins_6_19.root\"):\n",
    "        continue\n",
    "    if filename.endswith(\".root\"): #extension, .root in this case\n",
    "        run = int(re.findall(\"(\\d{4})\", filename)[0])\n",
    "        if run>7000:\n",
    "            continue\n",
    "#         print(run)\n",
    "\n",
    "        f = ROOT.TFile.Open(os.path.join(\"/fs/project/PAS0654/ARA_DATA/A23/10pctCalibBugFix/Joined/A2/by_config/c5\", str(filename)))\n",
    "        numEntries=f.OutputTree_recoRadius_6.GetEntries()\n",
    "        if numEntries==0:\n",
    "            continue\n",
    "        f.OutputTree_recoRadius_6.GetEntry(0)\n",
    "#         print(OutputTree_recoRadius_6.run)\n",
    "#         if(isBadrun(f.OutputTree_recoRadius_19.run)==True):\n",
    "#             continue\n",
    "        numruns+=1\n",
    "        for entry in f.OutputTree_recoRadius_6:\n",
    "            if entry.isCalpulser or entry.isSoftTrigger:\n",
    "                continue\n",
    "#             if isBadLivetime(3,entry.unixTime):\n",
    "#                 continue\n",
    "#             run_number.append(entry.run)\n",
    "#             SNR.append(entry.thirdVPeakOverRMS[0])\n",
    "            peak_corr.append(entry.peakCorr_single[0])\n",
    "\n",
    "#             theta_v.append(entry.peakTheta_single[0])\n",
    "#             phi_v.append(entry.peakPhi_single[0])\n",
    "#             theta_h.append(entry.peakTheta_single[1])\n",
    "#             phi_h.append(entry.peakPhi_single[1])"
   ]
  },
  {
   "cell_type": "code",
   "execution_count": 34,
   "metadata": {},
   "outputs": [
    {
     "data": {
      "image/png": "[encoded data removed]",
      "text/plain": [
       "<Figure size 432x288 with 1 Axes>"
      ]
     },
     "metadata": {},
     "output_type": "display_data"
    }
   ],
   "source": [
    "plt.hist(peak_corr,bins = 300);\n",
    "plt.yscale(\"log\")\n",
    "plt.xlim(0,0.1)\n",
    "plt.xlabel(\"$C_{sky}$\")\n",
    "plt.grid(alpha = 0.5)\n",
    "# plt.legend()\n",
    "plt.title(\"Config. 5, distribution of corr. values (not final)\")\n",
    "plt.tight_layout()\n",
    "\n",
    "# plt.savefig(\"./CP6RecoConfig5.pdf\", dpi=200)"
   ]
  },
  {
   "cell_type": "markdown",
   "metadata": {},
   "source": [
    "## SNR"
   ]
  },
  {
   "cell_type": "code",
   "execution_count": 24,
   "metadata": {},
   "outputs": [
    {
     "ename": "IndexError",
     "evalue": "list index out of range",
     "output_type": "error",
     "traceback": [
      "\u001b[0;31m---------------------------------------------------------------------------\u001b[0m",
      "\u001b[0;31mIndexError\u001b[0m                                Traceback (most recent call last)",
      "\u001b[0;32m<ipython-input-24-0515a443d0d1>\u001b[0m in \u001b[0;36m<module>\u001b[0;34m()\u001b[0m\n\u001b[1;32m     12\u001b[0m         \u001b[0;32mcontinue\u001b[0m\u001b[0;34m\u001b[0m\u001b[0m\n\u001b[1;32m     13\u001b[0m     \u001b[0;32mif\u001b[0m \u001b[0mfilename\u001b[0m\u001b[0;34m.\u001b[0m\u001b[0mendswith\u001b[0m\u001b[0;34m(\u001b[0m\u001b[0;34m\".root\"\u001b[0m\u001b[0;34m)\u001b[0m\u001b[0;34m:\u001b[0m \u001b[0;31m#extension, .root in this case\u001b[0m\u001b[0;34m\u001b[0m\u001b[0m\n\u001b[0;32m---> 14\u001b[0;31m         \u001b[0mrun\u001b[0m \u001b[0;34m=\u001b[0m \u001b[0mint\u001b[0m\u001b[0;34m(\u001b[0m\u001b[0mre\u001b[0m\u001b[0;34m.\u001b[0m\u001b[0mfindall\u001b[0m\u001b[0;34m(\u001b[0m\u001b[0;34m\"(\\d{4})\"\u001b[0m\u001b[0;34m,\u001b[0m \u001b[0mfilename\u001b[0m\u001b[0;34m)\u001b[0m\u001b[0;34m[\u001b[0m\u001b[0;36m0\u001b[0m\u001b[0;34m]\u001b[0m\u001b[0;34m)\u001b[0m\u001b[0;34m\u001b[0m\u001b[0m\n\u001b[0m\u001b[1;32m     15\u001b[0m         \u001b[0;32mif\u001b[0m\u001b[0;34m(\u001b[0m\u001b[0mrun\u001b[0m\u001b[0;34m<\u001b[0m\u001b[0;36m3312\u001b[0m \u001b[0;32mor\u001b[0m \u001b[0mrun\u001b[0m\u001b[0;34m>\u001b[0m\u001b[0;36m3399\u001b[0m\u001b[0;34m)\u001b[0m\u001b[0;34m:\u001b[0m\u001b[0;34m\u001b[0m\u001b[0m\n\u001b[1;32m     16\u001b[0m             \u001b[0;32mcontinue\u001b[0m\u001b[0;34m\u001b[0m\u001b[0m\n",
      "\u001b[0;31mIndexError\u001b[0m: list index out of range"
     ]
    }
   ],
   "source": [
    "# phi_v=[]\n",
    "# theta_v=[]\n",
    "# phi_h=[]\n",
    "# theta_h=[]\n",
    "# peak_corr=[]\n",
    "SNR = []\n",
    "evNum = []\n",
    "numruns=0\n",
    "run_number=[]\n",
    "for filename in os.listdir(\"/fs/project/PAS0654/ARA_DATA/A23/10pctCalibBugFix/Joined/A2/by_config/c1\"):#Loop over desired directory\n",
    "    if filename.endswith(\"3517_joined_bins_6_19.root\"):\n",
    "        continue\n",
    "    if filename.endswith(\".root\"): #extension, .root in this case\n",
    "        run = int(re.findall(\"(\\d{4})\", filename)[0])\n",
    "        if(run<3312 or run>3399):\n",
    "            continue\n",
    "#         print(run)\n",
    "\n",
    "        f = ROOT.TFile.Open(os.path.join(\"/fs/project/PAS0654/ARA_DATA/A23/10pctCalibBugFix/Joined/A2/by_config/c1\", str(filename)))\n",
    "        numEntries=f.OutputTree_filter.GetEntries()\n",
    "        if numEntries==0:\n",
    "            continue\n",
    "        f.OutputTree_filter.GetEntry(0)\n",
    "#         print(OutputTree_recoRadius_6.run)\n",
    "#         if(isBadrun(f.OutputTree_recoRadius_19.run)==True):\n",
    "#             continue\n",
    "        numruns+=1\n",
    "        for entry in f.OutputTree_filter:\n",
    "            if entry.isCalpulser or entry.isSoftTrigger or entry.hasDigitizerError:\n",
    "                continue\n",
    "#             if isBadLivetime(3,entry.unixTime):\n",
    "#                 continue\n",
    "#             run_number.append(entry.run)\n",
    "            SNR.append(entry.thirdVPeakOverRMS[0])\n",
    "            evNum.append(entry.eventNumber)\n",
    "\n",
    "#             theta_v.append(entry.peakTheta_single[0])\n",
    "#             phi_v.append(entry.peakPhi_single[0])\n",
    "#             theta_h.append(entry.peakTheta_single[1])\n",
    "#             phi_h.append(entry.peakPhi_single[1])"
   ]
  },
  {
   "cell_type": "code",
   "execution_count": 23,
   "metadata": {},
   "outputs": [
    {
     "ename": "IndexError",
     "evalue": "list index out of range",
     "output_type": "error",
     "traceback": [
      "\u001b[0;31m---------------------------------------------------------------------------\u001b[0m",
      "\u001b[0;31mIndexError\u001b[0m                                Traceback (most recent call last)",
      "\u001b[0;32m<ipython-input-23-e68245dce343>\u001b[0m in \u001b[0;36m<module>\u001b[0;34m()\u001b[0m\n\u001b[1;32m     12\u001b[0m         \u001b[0;32mcontinue\u001b[0m\u001b[0;34m\u001b[0m\u001b[0m\n\u001b[1;32m     13\u001b[0m     \u001b[0;32mif\u001b[0m \u001b[0mfilename\u001b[0m\u001b[0;34m.\u001b[0m\u001b[0mendswith\u001b[0m\u001b[0;34m(\u001b[0m\u001b[0;34m\".root\"\u001b[0m\u001b[0;34m)\u001b[0m\u001b[0;34m:\u001b[0m \u001b[0;31m#extension, .root in this case\u001b[0m\u001b[0;34m\u001b[0m\u001b[0m\n\u001b[0;32m---> 14\u001b[0;31m         \u001b[0mrun\u001b[0m \u001b[0;34m=\u001b[0m \u001b[0mint\u001b[0m\u001b[0;34m(\u001b[0m\u001b[0mre\u001b[0m\u001b[0;34m.\u001b[0m\u001b[0mfindall\u001b[0m\u001b[0;34m(\u001b[0m\u001b[0;34m\"(\\d{4})\"\u001b[0m\u001b[0;34m,\u001b[0m \u001b[0mfilename\u001b[0m\u001b[0;34m)\u001b[0m\u001b[0;34m[\u001b[0m\u001b[0;36m0\u001b[0m\u001b[0;34m]\u001b[0m\u001b[0;34m)\u001b[0m\u001b[0;34m\u001b[0m\u001b[0m\n\u001b[0m\u001b[1;32m     15\u001b[0m         \u001b[0;32mif\u001b[0m\u001b[0;34m(\u001b[0m\u001b[0mrun\u001b[0m\u001b[0;34m<\u001b[0m\u001b[0;36m3312\u001b[0m \u001b[0;32mor\u001b[0m \u001b[0mrun\u001b[0m\u001b[0;34m>\u001b[0m\u001b[0;36m3399\u001b[0m\u001b[0;34m)\u001b[0m\u001b[0;34m:\u001b[0m\u001b[0;34m\u001b[0m\u001b[0m\n\u001b[1;32m     16\u001b[0m             \u001b[0;32mcontinue\u001b[0m\u001b[0;34m\u001b[0m\u001b[0m\n",
      "\u001b[0;31mIndexError\u001b[0m: list index out of range"
     ]
    }
   ],
   "source": [
    "# phi_v=[]\n",
    "# theta_v=[]\n",
    "# phi_h=[]\n",
    "# theta_h=[]\n",
    "# peak_corr=[]\n",
    "SNR_old = []\n",
    "numruns=0\n",
    "run_number=[]\n",
    "evNum_old = []\n",
    "for filename in os.listdir(\"/fs/project/PAS0654/ARA_DATA/A23/10pct_redo/Joined/A2/by_config/c1\"):#Loop over desired directory\n",
    "    if filename.endswith(\"3517_joined_bins_6_19.root\"):\n",
    "        continue\n",
    "    if filename.endswith(\".root\"): #extension, .root in this case\n",
    "        run = int(re.findall(\"(\\d{4})\", filename)[0])\n",
    "        if(run<3312 or run>3399):\n",
    "            continue\n",
    "#         print(run)\n",
    "\n",
    "        f = ROOT.TFile.Open(os.path.join(\"/fs/project/PAS0654/ARA_DATA/A23/10pct_redo/Joined/A2/by_config/c1\", str(filename)))\n",
    "        numEntries=f.OutputTree_filter.GetEntries()\n",
    "        if numEntries==0:\n",
    "            continue\n",
    "        f.OutputTree_filter.GetEntry(0)\n",
    "#         print(OutputTree_recoRadius_6.run)\n",
    "#         if(isBadrun(f.OutputTree_recoRadius_19.run)==True):\n",
    "#             continue\n",
    "        numruns+=1\n",
    "        for entry in f.OutputTree_filter:\n",
    "            if entry.isCalpulser or entry.isSoftTrigger or entry.hasDigitizerError:\n",
    "                continue\n",
    "#             if isBadLivetime(3,entry.unixTime):\n",
    "#                 continue\n",
    "#             run_number.append(entry.run)\n",
    "            SNR_old.append(entry.thirdVPeakOverRMS[0])\n",
    "            evNum_old.append(entry.eventNumber)\n",
    "            \n",
    "#             theta_v.append(entry.peakTheta_single[0])\n",
    "#             phi_v.append(entry.peakPhi_single[0])\n",
    "#             theta_h.append(entry.peakTheta_single[1])\n",
    "#             phi_h.append(entry.peakPhi_single[1])"
   ]
  },
  {
   "cell_type": "code",
   "execution_count": 4,
   "metadata": {},
   "outputs": [
    {
     "data": {
      "image/png": "[encoded data removed]",
      "text/plain": [
       "<Figure size 432x288 with 1 Axes>"
      ]
     },
     "metadata": {},
     "output_type": "display_data"
    }
   ],
   "source": [
    "plt.hist(SNR,bins = 100);\n",
    "plt.yscale(\"log\")\n",
    "plt.xlabel(\"SNR\")\n",
    "plt.grid(alpha = 0.5)\n",
    "# plt.legend()\n",
    "plt.title(\"Config. 5, distribution of corr. values (not final)\")\n",
    "plt.tight_layout()\n",
    "\n",
    "# plt.savefig(\"./SNRConfig5.pdf\", dpi=200)"
   ]
  },
  {
   "cell_type": "code",
   "execution_count": 54,
   "metadata": {},
   "outputs": [],
   "source": [
    "SNR_old = SNR_old[:18000]"
   ]
  },
  {
   "cell_type": "code",
   "execution_count": 66,
   "metadata": {},
   "outputs": [
    {
     "data": {
      "text/plain": [
       "102903"
      ]
     },
     "execution_count": 66,
     "metadata": {},
     "output_type": "execute_result"
    }
   ],
   "source": [
    "evNum[18000-1]"
   ]
  },
  {
   "cell_type": "code",
   "execution_count": 56,
   "metadata": {},
   "outputs": [],
   "source": [
    "SNR = SNR[:18000]"
   ]
  },
  {
   "cell_type": "code",
   "execution_count": 64,
   "metadata": {},
   "outputs": [
    {
     "data": {
      "text/plain": [
       "Text(0.5,0,'SNR$_{new}$-SNR$_{old}$')"
      ]
     },
     "execution_count": 64,
     "metadata": {},
     "output_type": "execute_result"
    },
    {
     "data": {
      "image/png": "[encoded data removed]",
      "text/plain": [
       "<Figure size 432x288 with 1 Axes>"
      ]
     },
     "metadata": {},
     "output_type": "display_data"
    }
   ],
   "source": [
    "plt.hist(np.array(SNR)-np.array(SNR_old), bins = 100);\n",
    "plt.xlabel(\"SNR$_{new}$-SNR$_{old}$\")"
   ]
  },
  {
   "cell_type": "code",
   "execution_count": 22,
   "metadata": {},
   "outputs": [
    {
     "name": "stdout",
     "output_type": "stream",
     "text": [
      "******************************************************************************\n",
      "*Tree    :OutputTree: OutputTree                                             *\n",
      "*Entries :    14660 : Total =        94882070 bytes  File  Size =   10413290 *\n",
      "*        :          : Tree compression factor =   9.10                       *\n",
      "******************************************************************************\n",
      "*Br    0 :isCalpulser : isCalpulser/O                                        *\n",
      "*Entries :    14660 : Total  Size=      15251 bytes  File Size  =       2598 *\n",
      "*Baskets :        1 : Basket Size=      32000 bytes  Compression=   5.68     *\n",
      "*............................................................................*\n",
      "*Br    1 :isSoftTrigger : isSoftTrigger/O                                    *\n",
      "*Entries :    14660 : Total  Size=      15261 bytes  File Size  =       2595 *\n",
      "*Baskets :        1 : Basket Size=      32000 bytes  Compression=   5.68     *\n",
      "*............................................................................*\n",
      "*Br    2 :thirdVPeakOverRMS : thirdVPeakOverRMS[3]/D                         *\n",
      "*Entries :    14660 : Total  Size=     353575 bytes  File Size  =     303507 *\n",
      "*Baskets :       12 : Basket Size=      32000 bytes  Compression=   1.16     *\n",
      "*............................................................................*\n",
      "*Br    3 :hasDigitizerError : hasDigitizerError/O                            *\n",
      "*Entries :    14660 : Total  Size=      15281 bytes  File Size  =        186 *\n",
      "*Baskets :        1 : Basket Size=      32000 bytes  Compression=  79.30     *\n",
      "*............................................................................*\n",
      "*Br    4 :unixTime  : unixTime/I                                             *\n",
      "*Entries :    14660 : Total  Size=      59307 bytes  File Size  =      20956 *\n",
      "*Baskets :        2 : Basket Size=      32000 bytes  Compression=   2.81     *\n",
      "*............................................................................*\n",
      "*Br    5 :unixTimeUs : unixTimeUs/I                                          *\n",
      "*Entries :    14660 : Total  Size=      59319 bytes  File Size  =      46146 *\n",
      "*Baskets :        2 : Basket Size=      32000 bytes  Compression=   1.27     *\n",
      "*............................................................................*\n",
      "*Br    6 :eventNumber : eventNumber/I                                        *\n",
      "*Entries :    14660 : Total  Size=      59325 bytes  File Size  =      28369 *\n",
      "*Baskets :        2 : Basket Size=      32000 bytes  Compression=   2.07     *\n",
      "*............................................................................*\n",
      "*Br    7 :maxPeakVfromSim : maxPeakVfromSim/D                                *\n",
      "*Entries :    14660 : Total  Size=     118181 bytes  File Size  =       1161 *\n",
      "*Baskets :        4 : Basket Size=      32000 bytes  Compression= 101.32     *\n",
      "*............................................................................*\n",
      "*Br    8 :PeakVfromSim : peakVfromSim[16][2]/D                               *\n",
      "*Entries :    14660 : Total  Size=    3766286 bytes  File Size  =      75622 *\n",
      "*Baskets :      119 : Basket Size=      32000 bytes  Compression=  49.76     *\n",
      "*............................................................................*\n",
      "*Br    9 :Trig_Pass : Trig_Pass[16]/I                                        *\n",
      "*Entries :    14660 : Total  Size=     941749 bytes  File Size  =       7541 *\n",
      "*Baskets :       30 : Basket Size=      32000 bytes  Compression= 124.74     *\n",
      "*............................................................................*\n",
      "*Br   10 :weight    : weight/D                                               *\n",
      "*Entries :    14660 : Total  Size=     118109 bytes  File Size  =       1125 *\n",
      "*Baskets :        4 : Basket Size=      32000 bytes  Compression= 104.53     *\n",
      "*............................................................................*\n",
      "*Br   11 :flavor    : flavor/I                                               *\n",
      "*Entries :    14660 : Total  Size=      59295 bytes  File Size  =        479 *\n",
      "*Baskets :        2 : Basket Size=      32000 bytes  Compression= 122.75     *\n",
      "*............................................................................*\n",
      "*Br   12 :nu_nubar  : nu_nubar/I                                             *\n",
      "*Entries :    14660 : Total  Size=      59307 bytes  File Size  =        483 *\n",
      "*Baskets :        2 : Basket Size=      32000 bytes  Compression= 121.74     *\n",
      "*............................................................................*\n",
      "*Br   13 :energy    : energy/D                                               *\n",
      "*Entries :    14660 : Total  Size=     118109 bytes  File Size  =       1125 *\n",
      "*Baskets :        4 : Basket Size=      32000 bytes  Compression= 104.53     *\n",
      "*............................................................................*\n",
      "*Br   14 :posnu     : posnu[3]/D                                             *\n",
      "*Entries :    14660 : Total  Size=     353383 bytes  File Size  =       3322 *\n",
      "*Baskets :       12 : Basket Size=      32000 bytes  Compression= 106.19     *\n",
      "*............................................................................*\n",
      "*Br   15 :viewAngle : viewAngle[16][2]/D                                     *\n",
      "*Entries :    14660 : Total  Size=    3765917 bytes  File Size  =      29999 *\n",
      "*Baskets :      119 : Basket Size=      32000 bytes  Compression= 125.43     *\n",
      "*............................................................................*\n",
      "*Br   16 :viewAngleAvg : viewAngleAvg[2]/D                                   *\n",
      "*Entries :    14660 : Total  Size=     235799 bytes  File Size  =       1966 *\n",
      "*Baskets :        8 : Basket Size=      32000 bytes  Compression= 119.65     *\n",
      "*............................................................................*\n",
      "*Br   17 :VPeak     : VPeak[16]/D                                            *\n",
      "*Entries :    14660 : Total  Size=    1882819 bytes  File Size  =    1780821 *\n",
      "*Baskets :       59 : Basket Size=      32000 bytes  Compression=   1.06     *\n",
      "*............................................................................*\n",
      "*Br   18 :waveformRMS : waveformRMS[16]/D                                    *\n",
      "*Entries :    14660 : Total  Size=    1883197 bytes  File Size  =      31299 *\n",
      "*Baskets :       59 : Basket Size=      32000 bytes  Compression=  60.11     *\n",
      "*............................................................................*\n",
      "*Br   19 :waveformRMS_50ns : waveformRMS_50ns[16]/D                          *\n",
      "*Entries :    14660 : Total  Size=    1883512 bytes  File Size  =    1776800 *\n",
      "*Baskets :       59 : Basket Size=      32000 bytes  Compression=   1.06     *\n",
      "*............................................................................*\n",
      "*Br   20 :VPeakOverRMS : VPeakOverRMS[16]/D                                  *\n",
      "*Entries :    14660 : Total  Size=    1883260 bytes  File Size  =    1771545 *\n",
      "*Baskets :       59 : Basket Size=      32000 bytes  Compression=   1.06     *\n",
      "*............................................................................*\n",
      "*Br   21 :avgPeakPower_5ns : avgPeakPower_5ns[16]/D                          *\n",
      "*Entries :    14660 : Total  Size=    1883512 bytes  File Size  =    1784901 *\n",
      "*Baskets :       59 : Basket Size=      32000 bytes  Compression=   1.05     *\n",
      "*............................................................................*\n",
      "*Br   22 :waveformLength : waveformLength[16]/I                              *\n",
      "*Entries :    14660 : Total  Size=     941919 bytes  File Size  =      25819 *\n",
      "*Baskets :       30 : Basket Size=      32000 bytes  Compression=  36.44     *\n",
      "*............................................................................*\n",
      "*Br   23 :TSQualParam : TSQualParam/D                                        *\n",
      "*Entries :    14660 : Total  Size=     118149 bytes  File Size  =      30625 *\n",
      "*Baskets :        4 : Basket Size=      32000 bytes  Compression=   3.84     *\n",
      "*............................................................................*\n",
      "*Br   24 :rms_pol_thresh_face_V : rms_pol_thresh_face_V[15][12]/D            *\n",
      "*Entries :    14660 : Total  Size=   21189499 bytes  File Size  =     693680 *\n",
      "*Baskets :      667 : Basket Size=      32000 bytes  Compression=  30.52     *\n",
      "*............................................................................*\n",
      "*Br   25 :rms_pol_thresh_face_H : rms_pol_thresh_face_H[15][12]/D            *\n",
      "*Entries :    14660 : Total  Size=   21189499 bytes  File Size  =     790059 *\n",
      "*Baskets :      667 : Basket Size=      32000 bytes  Compression=  26.80     *\n",
      "*............................................................................*\n",
      "*Br   26 :rms_pol_thresh_face_alternate_V :                                  *\n",
      "*         | rms_pol_thresh_face_alternate_V[15][12]/D                        *\n",
      "*Entries :    14660 : Total  Size=   21196209 bytes  File Size  =     700350 *\n",
      "*Baskets :      667 : Basket Size=      32000 bytes  Compression=  30.24     *\n",
      "*............................................................................*\n",
      "*Br   27 :rms_pol_thresh_face_alternate_H :                                  *\n",
      "*         | rms_pol_thresh_face_alternate_H[15][6]/D                         *\n",
      "*Entries :    14660 : Total  Size=   10598383 bytes  File Size  =     388825 *\n",
      "*Baskets :      334 : Basket Size=      32000 bytes  Compression=  27.24     *\n",
      "*............................................................................*\n",
      "*Br   28 :polarizationRatio : polarizationRatio/D                            *\n",
      "*Entries :    14660 : Total  Size=     118197 bytes  File Size  =     111386 *\n",
      "*Baskets :        4 : Basket Size=      32000 bytes  Compression=   1.06     *\n",
      "*............................................................................*\n"
     ]
    }
   ],
   "source": [
    "f.OutputTree_filter.Print()"
   ]
  },
  {
   "cell_type": "markdown",
   "metadata": {},
   "source": [
    "## Compare RMS"
   ]
  },
  {
   "cell_type": "markdown",
   "metadata": {},
   "source": [
    "### New"
   ]
  },
  {
   "cell_type": "code",
   "execution_count": 11,
   "metadata": {},
   "outputs": [
    {
     "name": "stdout",
     "output_type": "stream",
     "text": [
      "1\n"
     ]
    }
   ],
   "source": [
    "f = ROOT.TFile.Open(\"/fs/project/PAS0654/ARA_DATA/A23/sim_SourceSearch/A2/RunSummary/run_summary_station_2_run_20.root\")\n",
    "t = f.Get(\"SummaryTree\")\n",
    "print(t.GetEntries())\n",
    "\n"
   ]
  },
  {
   "cell_type": "code",
   "execution_count": 12,
   "metadata": {},
   "outputs": [],
   "source": [
    "RMS_new = []\n",
    "for entry in t:\n",
    "    for ch in range(0,16):\n",
    "        RMS_new.append(entry.RMS_RFTrigger[ch])"
   ]
  },
  {
   "cell_type": "code",
   "execution_count": 13,
   "metadata": {},
   "outputs": [
    {
     "name": "stdout",
     "output_type": "stream",
     "text": [
      "New\n"
     ]
    },
    {
     "data": {
      "text/plain": [
       "array([45.72832705, 45.84801566, 45.2253495 , 45.71801943, 45.25762835,\n",
       "       45.17288904, 46.27202233, 45.18464854, 45.14628619, 45.10496289,\n",
       "       45.07886392, 45.30159011, 45.0681116 , 45.10118511, 44.26869117,\n",
       "       44.98599528])"
      ]
     },
     "execution_count": 13,
     "metadata": {},
     "output_type": "execute_result"
    }
   ],
   "source": [
    "print(\"New\")\n",
    "np.array(RMS_new)"
   ]
  },
  {
   "cell_type": "code",
   "execution_count": 8,
   "metadata": {},
   "outputs": [
    {
     "name": "stdout",
     "output_type": "stream",
     "text": [
      "1\n",
      "New\n"
     ]
    },
    {
     "data": {
      "text/plain": [
       "array([41.74370848, 41.71103997, 41.22107936, 41.81389107, 56.10742809,\n",
       "       56.03199558, 56.86744517, 56.00126714, 55.79611021, 56.09179685,\n",
       "       55.97114421, 56.01544276, 55.83789844, 55.88105225, 54.75168977,\n",
       "       55.96101351])"
      ]
     },
     "execution_count": 8,
     "metadata": {},
     "output_type": "execute_result"
    }
   ],
   "source": [
    "f = ROOT.TFile.Open(\"/fs/project/PAS0654/ARA_DATA/A23/sim_v2/RunSummary/run_summary_station_2_run_20.root\")\n",
    "t = f.Get(\"SummaryTree\")\n",
    "print(t.GetEntries())\n",
    "\n",
    "RMS_new = []\n",
    "for entry in t:\n",
    "    for ch in range(0,16):\n",
    "        RMS_new.append(entry.RMS_RFTrigger[ch])\n",
    "        \n",
    "print(\"New\")\n",
    "np.array(RMS_new)"
   ]
  },
  {
   "cell_type": "markdown",
   "metadata": {},
   "source": [
    "### Rename files"
   ]
  },
  {
   "cell_type": "code",
   "execution_count": 15,
   "metadata": {},
   "outputs": [
    {
     "name": "stdout",
     "output_type": "stream",
     "text": [
      "test_0.txt\n",
      "test_1.txt\n",
      "test_2.txt\n",
      "test_3.txt\n",
      "test_4.txt\n",
      "test_5.txt\n",
      "test_6.txt\n",
      "test_7.txt\n",
      "test_8.txt\n",
      "test_9.txt\n",
      "test_10.txt\n"
     ]
    }
   ],
   "source": [
    "count = 0\n",
    "for filename in os.listdir(\"/users/PAS0654/osu8354/ARA_cvmfs/source/AraRoot/analysis/ARA_analysis/ARA_SourceSearch/OSC_scripts/step3-filter/simulation\"):#Loop over desired directory\n",
    "    if filename.endswith(\".txt\"):\n",
    "        print(filename)\n",
    "        os.rename('filename','career.guru99.txt') "
   ]
  },
  {
   "cell_type": "code",
   "execution_count": 23,
   "metadata": {},
   "outputs": [
    {
     "data": {
      "text/plain": [
       "'test_10.txt'"
      ]
     },
     "execution_count": 23,
     "metadata": {},
     "output_type": "execute_result"
    }
   ],
   "source": [
    "filename.strip()"
   ]
  },
  {
   "cell_type": "code",
   "execution_count": null,
   "metadata": {},
   "outputs": [],
   "source": []
  }
 ],
 "metadata": {
  "kernelspec": {
   "display_name": "Python 3.6 (Conda 5.2) [python/3.6-conda5.2]",
   "language": "python",
   "name": "sys_python36conda"
  },
  "language_info": {
   "codemirror_mode": {
    "name": "ipython",
    "version": 3
   },
   "file_extension": ".py",
   "mimetype": "text/x-python",
   "name": "python",
   "nbconvert_exporter": "python",
   "pygments_lexer": "ipython3",
   "version": "3.6.6"
  }
 },
 "nbformat": 4,
 "nbformat_minor": 4
}
