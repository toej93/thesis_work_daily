{
 "cells": [
  {
   "cell_type": "markdown",
   "metadata": {},
   "source": [
    "# Final plots for disserattion"
   ]
  },
  {
   "cell_type": "markdown",
   "metadata": {},
   "source": [
    "### May 4, 2021"
   ]
  },
  {
   "cell_type": "markdown",
   "metadata": {},
   "source": [
    "## Code"
   ]
  },
  {
   "cell_type": "code",
   "execution_count": 1,
   "metadata": {},
   "outputs": [
    {
     "name": "stdout",
     "output_type": "stream",
     "text": [
      "Welcome to JupyROOT 6.18/04\n"
     ]
    }
   ],
   "source": [
    "import sys\n",
    "import csv\n",
    "# sys.path.insert(0,\"/users/PCON0003/cond0068/.local/lib/python3.7/\")\n",
    "sys.path.append(\"/users/PAS0654/osu8354/ARA_cvmfs/root_build/lib/\") # go to parent dir\n",
    "sys.path.append(\"/users/PCON0003/cond0068/.local/lib/python3.7/site-packages/\")\n",
    "# sys.path.append(\"/users/PCON0003/cond0068/pyrex_sims/fromBen/thesis_work/pyrex-custom/analysis/custom/analysis/\")\n",
    "import ROOT\n",
    "import math\n",
    "import numpy as np\n",
    "from ROOT import TH1D,TF1, gRandom, gPad, gStyle\n",
    "import matplotlib as mpl\n",
    "import matplotlib.pyplot as plt\n",
    "from ROOT import TChain, TSelector, TTree\n",
    "import os\n",
    "import matplotlib.colors as mcolors\n",
    "import scipy\n",
    "from matplotlib.colors import LogNorm\n",
    "import pandas as pd\n",
    "import seaborn as sns\n",
    "%matplotlib inline\n",
    "# sys.path.insert(1, \"/users/PAS0654/osu8354/ARA_cvmfs/source/AraRoot/analysis/ARA_analysis/SourceSearch\")\n",
    "# import deDisperse_util as util\n",
    "import matplotlib.colors as colors\n",
    "\n",
    "my_path_plots = os.path.abspath(\"./plots/\")\n",
    "import re\n"
   ]
  },
  {
   "cell_type": "code",
   "execution_count": 2,
   "metadata": {},
   "outputs": [],
   "source": [
    "mpl.rcParams['text.usetex'] = True\n",
    "mpl.rcParams['text.latex.unicode'] = True\n",
    "mpl.rcParams['mathtext.rm'] = 'Times New Roman'\n",
    "mpl.rcParams['mathtext.it'] = 'Times New Roman:italic'\n",
    "mpl.rcParams['mathtext.bf'] = 'Times New Roman:bold'\n",
    "\n",
    "mpl.rc('font', family='serif', size=12)\n",
    "mpl.rcParams['xtick.labelsize'] = 14\n",
    "mpl.rcParams['ytick.labelsize'] = 14\n",
    "mpl.rcParams['xtick.major.size'] = 5\n",
    "mpl.rcParams['ytick.major.size'] = 5\n",
    "\n",
    "mpl.rcParams['axes.titlesize'] = 18\n",
    "mpl.rcParams['axes.labelsize'] = 18\n",
    "# mpl.rc('font', size=16)\n",
    "mpl.rc('axes', titlesize=20)\n",
    "\n",
    "current_palette = sns.color_palette('colorblind', 10)\n",
    "import warnings\n",
    "warnings.filterwarnings(\"ignore\")\n",
    "\n",
    "###Bigger\n",
    "# mpl.rcParams['text.usetex'] = True\n",
    "# mpl.rcParams['text.latex.unicode'] = True\n",
    "# mpl.rcParams['mathtext.rm'] = 'Times New Roman'\n",
    "# mpl.rcParams['mathtext.it'] = 'Times New Roman:italic'\n",
    "# mpl.rcParams['mathtext.bf'] = 'Times New Roman:bold'\n",
    "\n",
    "# mpl.rc('font', family='serif', size=12)\n",
    "# mpl.rcParams['xtick.labelsize'] = 18\n",
    "# mpl.rcParams['ytick.labelsize'] = 18\n",
    "# mpl.rcParams['xtick.major.size'] = 8\n",
    "# mpl.rcParams['ytick.major.size'] = 8\n",
    "\n",
    "# mpl.rcParams['axes.titlesize'] = 22\n",
    "# mpl.rcParams['axes.labelsize'] = 22\n",
    "# # mpl.rc('font', size=16)\n",
    "# mpl.rc('axes', titlesize=20)\n",
    "\n",
    "# current_palette = sns.color_palette('colorblind', 10)\n",
    "# import warnings\n",
    "# warnings.filterwarnings(\"ignore\")\n",
    "\n",
    "\n"
   ]
  },
  {
   "cell_type": "code",
   "execution_count": 3,
   "metadata": {},
   "outputs": [],
   "source": [
    "folder = \"/users/PAS0654/osu8354/ARA_cvmfs/source/AraRoot/analysis/ARA_analysis/ARA_SourceSearch/results/\"\n",
    "f = ROOT.TFile.Open(folder + \"storeValues_A2_c1.root\",\"READ\")"
   ]
  },
  {
   "cell_type": "code",
   "execution_count": 4,
   "metadata": {},
   "outputs": [],
   "source": [
    "f.Get(\"OutputTreeV\")\n",
    "\n",
    "VTree = f.Get(\"OutputTreeV\")\n",
    "HTree = f.Get(\"OutputTreeH\")"
   ]
  },
  {
   "cell_type": "code",
   "execution_count": 5,
   "metadata": {},
   "outputs": [
    {
     "name": "stdout",
     "output_type": "stream",
     "text": [
      "******************************************************************************\n",
      "*Tree    :OutputTreeH: OutputTreeH                                            *\n",
      "*Entries :    22451 : Total =          542260 bytes  File  Size =     331834 *\n",
      "*        :          : Tree compression factor =   1.63                       *\n",
      "******************************************************************************\n",
      "*Br    0 :corr_val_outH : corr_val_outH/D                                    *\n",
      "*Entries :    22451 : Total  Size=     180655 bytes  File Size  =     163902 *\n",
      "*Baskets :        6 : Basket Size=      32000 bytes  Compression=   1.10     *\n",
      "*............................................................................*\n",
      "*Br    1 :snr_val_outH : snr_val_outH/D                                      *\n",
      "*Entries :    22451 : Total  Size=     180645 bytes  File Size  =     165522 *\n",
      "*Baskets :        6 : Basket Size=      32000 bytes  Compression=   1.09     *\n",
      "*............................................................................*\n",
      "*Br    2 :weight    : weight/D                                               *\n",
      "*Entries :    22451 : Total  Size=     180585 bytes  File Size  =       1713 *\n",
      "*Baskets :        6 : Basket Size=      32000 bytes  Compression= 105.13     *\n",
      "*............................................................................*\n"
     ]
    }
   ],
   "source": [
    "HTree.Print()"
   ]
  },
  {
   "cell_type": "code",
   "execution_count": 45,
   "metadata": {},
   "outputs": [
    {
     "name": "stdout",
     "output_type": "stream",
     "text": [
      "22451\n"
     ]
    }
   ],
   "source": [
    "print(HTree.GetEntries())"
   ]
  },
  {
   "cell_type": "markdown",
   "metadata": {},
   "source": [
    "# Data"
   ]
  },
  {
   "cell_type": "code",
   "execution_count": 46,
   "metadata": {},
   "outputs": [],
   "source": [
    "corrVal_V = []\n",
    "snr_V = []\n",
    "numEntries = VTree.GetEntries()\n",
    "for event in range(numEntries):\n",
    "    VTree.GetEntry(event)\n",
    "    corrVal_V.append(VTree.corr_val_outV)\n",
    "    snr_V.append(VTree.snr_val_outV)\n",
    "\n",
    "###Hpol\n",
    "corrVal_H = []\n",
    "snr_H = []\n",
    "numEntries = HTree.GetEntries()\n",
    "for event in range(numEntries):\n",
    "    HTree.GetEntry(event)\n",
    "    corrVal_H.append(HTree.corr_val_outH)\n",
    "    snr_H.append(HTree.snr_val_outH)"
   ]
  },
  {
   "cell_type": "code",
   "execution_count": 47,
   "metadata": {},
   "outputs": [],
   "source": [
    "f.Close()"
   ]
  },
  {
   "cell_type": "markdown",
   "metadata": {},
   "source": [
    "## Bivariate distribution"
   ]
  },
  {
   "cell_type": "code",
   "execution_count": 48,
   "metadata": {},
   "outputs": [],
   "source": [
    "from mpl_toolkits.axes_grid.inset_locator import (inset_axes, InsetPosition,\n",
    "                                                  mark_inset)"
   ]
  },
  {
   "cell_type": "code",
   "execution_count": 50,
   "metadata": {},
   "outputs": [
    {
     "data": {
      "image/png": "[encoded data removed]",
      "text/plain": [
       "<Figure size 576x720 with 6 Axes>"
      ]
     },
     "metadata": {},
     "output_type": "display_data"
    }
   ],
   "source": [
    "# plt.figure(figsize=(8,5))\n",
    "fig, axes = plt.subplots(nrows=2, ncols=1, figsize=(8, 10))\n",
    "axs = axes.ravel()\n",
    "\n",
    "m = -780\n",
    "x = np.linspace(0,0.03)\n",
    "y_i = 10.4\n",
    "y = m*x + y_i\n",
    "\n",
    "ax0 = axes[0].hist2d(corrVal_V, snr_V, bins = 50, norm = mpl.colors.LogNorm());\n",
    "fig.colorbar(ax0[3], ax = axs[0], label = \"Counts\")\n",
    "axes[0].plot(x,y, c = \"red\", label=\"$SNR=mC_{sky}+y_i$,\\n $m=%0.0f\\,,y_i=%0.1f$\"%(m,y_i))\n",
    "axes[0].set_xlim(0,0.03)\n",
    "axes[0].set_ylim(0,30)\n",
    "axes[0].grid(ls=\"--\")\n",
    "axes[0].set_xlabel(\"$C_{sky}$\")\n",
    "axes[0].set_ylabel(\"SNR\")\n",
    "axes[0].set_title(\"Vpol (A2, c1)\", fontsize = 24)\n",
    "axes[0].legend(loc = \"lower right\", fontsize = 14, title=\"RCut [Vpol]\", fancybox=True)\n",
    "\n",
    "left, bottom, width, height = [0.4, 0.73, 0.25, 0.2]\n",
    "ins1 = fig.add_axes([left, bottom, width, height])\n",
    "ip = InsetPosition(axes[0], [left, bottom, width, height])\n",
    "ins1.hist2d(corrVal_V, snr_V, bins = 50, norm = mpl.colors.LogNorm());\n",
    "mark_inset(axes[0], ins1, loc1=2, loc2=4, fc=\"none\", ec='0.7')\n",
    "#####HPOL########\n",
    "m = -720\n",
    "x = np.linspace(0,0.03)\n",
    "y_i = 10.5\n",
    "y = m*x + y_i\n",
    "\n",
    "ax1 = axes[1].hist2d(corrVal_H, snr_H, bins = 50, norm = mpl.colors.LogNorm());\n",
    "fig.colorbar(ax1[3], ax = axs[1], label = \"Counts\")\n",
    "axes[1].plot(x,y, c = \"red\", label=\"$SNR=mC_{sky}+y_i$,\\n $m=%0.0f\\,,y_i=%0.1f$\"%(m,y_i))\n",
    "axes[1].set_xlim(0,0.03)\n",
    "axes[1].set_ylim(0,30)\n",
    "axes[1].grid(ls=\"--\")\n",
    "axes[1].set_xlabel(\"$C_{sky}$\")\n",
    "axes[1].set_ylabel(\"SNR\")\n",
    "axes[1].set_title(\"Hpol (A2, c1)\", fontsize = 24)\n",
    "axes[1].legend(loc = \"lower right\", fontsize = 14, title=\"RCut [Hpol]\", fancybox=True)\n",
    "\n",
    "left, bottom, width, height = [0.4, 0.23, 0.25, 0.2]\n",
    "ins2 = fig.add_axes([left, bottom, width, height])\n",
    "ip2 = InsetPosition(axes[1], [left, bottom, width, height])\n",
    "ins2.hist2d(corrVal_H, snr_H, bins = 50, norm = mpl.colors.LogNorm());\n",
    "mark_inset(axes[1], ins2, loc1=2, loc2=4, fc=\"none\", ec='0.7')\n",
    "plt.tight_layout()\n",
    "plt.savefig(\"./A2_c1_biVariatePlaneDist_latestMay9.pdf\")"
   ]
  },
  {
   "cell_type": "markdown",
   "metadata": {},
   "source": [
    "# Simulation"
   ]
  },
  {
   "cell_type": "code",
   "execution_count": 6,
   "metadata": {},
   "outputs": [],
   "source": [
    "folder = \"/users/PAS0654/osu8354/ARA_cvmfs/source/AraRoot/analysis/ARA_analysis/ARA_SourceSearch/results/\"\n",
    "\n",
    "f = ROOT.TFile.Open(folder + \"storeValues_A2_c1_sim.root\",\"READ\")"
   ]
  },
  {
   "cell_type": "code",
   "execution_count": 7,
   "metadata": {},
   "outputs": [],
   "source": [
    "f.Get(\"OutputTreeV\")\n",
    "\n",
    "VTree = f.Get(\"OutputTreeV\")\n",
    "HTree = f.Get(\"OutputTreeH\")"
   ]
  },
  {
   "cell_type": "code",
   "execution_count": 8,
   "metadata": {},
   "outputs": [
    {
     "name": "stdout",
     "output_type": "stream",
     "text": [
      "******************************************************************************\n",
      "*Tree    :OutputTreeV: OutputTreeV                                            *\n",
      "*Entries :    16823 : Total =          627939 bytes  File  Size =     484150 *\n",
      "*        :          : Tree compression factor =   1.29                       *\n",
      "******************************************************************************\n",
      "*Br    0 :corr_val_outV : corr_val_outV/D                                    *\n",
      "*Entries :    16823 : Total  Size=     135544 bytes  File Size  =     128238 *\n",
      "*Baskets :        5 : Basket Size=      32000 bytes  Compression=   1.05     *\n",
      "*............................................................................*\n",
      "*Br    1 :snr_val_outV : snr_val_outV/D                                      *\n",
      "*Entries :    16823 : Total  Size=     135535 bytes  File Size  =     126590 *\n",
      "*Baskets :        5 : Basket Size=      32000 bytes  Compression=   1.07     *\n",
      "*............................................................................*\n",
      "*Br    2 :weight    : weight/D                                               *\n",
      "*Entries :    16823 : Total  Size=     135481 bytes  File Size  =     113546 *\n",
      "*Baskets :        5 : Basket Size=      32000 bytes  Compression=   1.19     *\n",
      "*............................................................................*\n",
      "*Br    3 :energy_out : energy_out/D                                          *\n",
      "*Entries :    16823 : Total  Size=     135517 bytes  File Size  =      90235 *\n",
      "*Baskets :        5 : Basket Size=      32000 bytes  Compression=   1.50     *\n",
      "*............................................................................*\n",
      "*Br    4 :pass0     : pass0/O                                                *\n",
      "*Entries :    16823 : Total  Size=      17381 bytes  File Size  =       3599 *\n",
      "*Baskets :        1 : Basket Size=      32000 bytes  Compression=   4.70     *\n",
      "*............................................................................*\n",
      "*Br    5 :RecoTheta_outV : RecoTheta_outV/I                                  *\n",
      "*Entries :    16823 : Total  Size=      68077 bytes  File Size  =      20891 *\n",
      "*Baskets :        3 : Basket Size=      32000 bytes  Compression=   3.23     *\n",
      "*............................................................................*\n"
     ]
    }
   ],
   "source": [
    "VTree.Print()"
   ]
  },
  {
   "cell_type": "code",
   "execution_count": 9,
   "metadata": {},
   "outputs": [],
   "source": [
    "corrVal_V = []\n",
    "snr_V = []\n",
    "weights_V = []\n",
    "energy = []\n",
    "pass0 = []\n",
    "RecoTheta = []\n",
    "inBox = []\n",
    "numEntries = VTree.GetEntries()\n",
    "for event in range(numEntries):\n",
    "    VTree.GetEntry(event)\n",
    "    corrVal_V.append(VTree.corr_val_outV)\n",
    "    snr_V.append(VTree.snr_val_outV)\n",
    "    weights_V.append(VTree.weight)\n",
    "    energy.append(VTree.energy_out)\n",
    "    pass0.append(VTree.pass0)\n",
    "    RecoTheta.append(VTree.RecoTheta_outV)\n",
    "###Hpol\n",
    "corrVal_H = []\n",
    "snr_H = []\n",
    "weights_H = []\n",
    "numEntries = HTree.GetEntries()\n",
    "for event in range(numEntries):\n",
    "    HTree.GetEntry(event)\n",
    "    corrVal_H.append(HTree.corr_val_outH)\n",
    "    snr_H.append(HTree.snr_val_outH)\n",
    "    weights_H.append(HTree.weight)"
   ]
  },
  {
   "cell_type": "code",
   "execution_count": 10,
   "metadata": {},
   "outputs": [],
   "source": [
    "f.Close()"
   ]
  },
  {
   "cell_type": "code",
   "execution_count": 11,
   "metadata": {},
   "outputs": [
    {
     "data": {
      "image/png": "[encoded data removed]",
      "text/plain": [
       "<Figure size 1224x432 with 3 Axes>"
      ]
     },
     "metadata": {},
     "output_type": "display_data"
    }
   ],
   "source": [
    "# plt.figure(figsize=(8,5))\n",
    "fig, axes = plt.subplots(nrows=1, ncols=2, figsize=(17, 6))\n",
    "axs = axes.ravel()\n",
    "\n",
    "m = -950\n",
    "x = np.linspace(0,0.03)\n",
    "y_i = 11.3\n",
    "y = m*x + y_i\n",
    "\n",
    "ax0 = axes[0].hist2d(corrVal_V, snr_V, bins = 50, weights = weights_V, norm = mpl.colors.LogNorm());\n",
    "fig.colorbar(ax0[3], ax = axs[0], label = \"Counts\")\n",
    "axes[0].plot(x,y, c = \"red\", label=\"$SNR=mC_{sky}+y_i$,\\n $m=%0.0f\\,,y_i=%0.1f$\"%(m,y_i))\n",
    "axes[0].set_xlim(0,0.03)\n",
    "axes[0].set_ylim(0,30)\n",
    "axes[0].grid(ls=\"--\")\n",
    "axes[0].set_xlabel(\"$C_{sky}$\")\n",
    "axes[0].set_ylabel(\"SNR\")\n",
    "axes[0].set_title(\"Vpol (A2, simulation)\", fontsize = 28)\n",
    "axes[0].legend(loc = \"lower right\", fontsize = 14, title=\"RCut [Vpol]\", fancybox=True)\n",
    "\n",
    "#####HPOL########\n",
    "# m = -1320\n",
    "# x = np.linspace(0,0.03)\n",
    "# y_i = 14.3\n",
    "# y = m*x + y_i\n",
    "\n",
    "ax1 = axes[1].hist2d(corrVal_H, snr_H, bins = 50,weights = weights_V, norm = mpl.colors.LogNorm());\n",
    "# fig.colorbar(ax1[3], ax = axs[1], label = \"Counts\")\n",
    "# axes[1].plot(x,y, c = \"red\", label=\"$SNR=mC_{sky}+y_i$,\\n $m=%0.0f\\,,y_i=%0.1f$\"%(m,y_i))\n",
    "# axes[1].set_xlim(0,0.03)\n",
    "# axes[1].set_ylim(0,30)\n",
    "# axes[1].grid(ls=\"--\")\n",
    "# axes[1].set_xlabel(\"$C_{sky}$\")\n",
    "# axes[1].set_ylabel(\"SNR\")\n",
    "# axes[1].set_title(\"Hpol (A2, simulation)\", fontsize = 28)\n",
    "# axes[1].legend(loc = \"lower right\", fontsize = 14, title=\"RCut [Hpol]\", fancybox=True)\n",
    "\n",
    "plt.tight_layout()\n",
    "# plt.savefig(\"./A2_c1_biVariatePlaneDist_sim.pdf\")"
   ]
  },
  {
   "cell_type": "markdown",
   "metadata": {},
   "source": [
    "## Calculate efficiency"
   ]
  },
  {
   "cell_type": "code",
   "execution_count": 12,
   "metadata": {},
   "outputs": [
    {
     "data": {
      "text/plain": [
       "16823"
      ]
     },
     "execution_count": 12,
     "metadata": {},
     "output_type": "execute_result"
    }
   ],
   "source": [
    "df = pd.DataFrame({'energy':abs(np.array(energy)),'weight':np.array(weights_V),'corrVal_V':np.array(corrVal_V), 'snr_V':np.array(snr_V),\n",
    "                  'pass0':np.array(pass0)})\n",
    "\n",
    "len(df)"
   ]
  },
  {
   "cell_type": "code",
   "execution_count": 13,
   "metadata": {},
   "outputs": [
    {
     "data": {
      "text/html": [
       "<div>\n",
       "<style scoped>\n",
       "    .dataframe tbody tr th:only-of-type {\n",
       "        vertical-align: middle;\n",
       "    }\n",
       "\n",
       "    .dataframe tbody tr th {\n",
       "        vertical-align: top;\n",
       "    }\n",
       "\n",
       "    .dataframe thead th {\n",
       "        text-align: right;\n",
       "    }\n",
       "</style>\n",
       "<table border=\"1\" class=\"dataframe\">\n",
       "  <thead>\n",
       "    <tr style=\"text-align: right;\">\n",
       "      <th></th>\n",
       "      <th>energy</th>\n",
       "      <th>weight</th>\n",
       "      <th>corrVal_V</th>\n",
       "      <th>snr_V</th>\n",
       "      <th>pass0</th>\n",
       "    </tr>\n",
       "  </thead>\n",
       "  <tbody>\n",
       "    <tr>\n",
       "      <th>0</th>\n",
       "      <td>9.897977e+08</td>\n",
       "      <td>0.999659</td>\n",
       "      <td>0.018331</td>\n",
       "      <td>13.662647</td>\n",
       "      <td>0</td>\n",
       "    </tr>\n",
       "    <tr>\n",
       "      <th>1</th>\n",
       "      <td>5.496331e+08</td>\n",
       "      <td>0.999576</td>\n",
       "      <td>0.006175</td>\n",
       "      <td>7.069937</td>\n",
       "      <td>1</td>\n",
       "    </tr>\n",
       "    <tr>\n",
       "      <th>2</th>\n",
       "      <td>1.828228e+09</td>\n",
       "      <td>0.997573</td>\n",
       "      <td>0.003957</td>\n",
       "      <td>4.250838</td>\n",
       "      <td>0</td>\n",
       "    </tr>\n",
       "    <tr>\n",
       "      <th>3</th>\n",
       "      <td>6.896503e+08</td>\n",
       "      <td>0.998762</td>\n",
       "      <td>0.002909</td>\n",
       "      <td>3.957914</td>\n",
       "      <td>0</td>\n",
       "    </tr>\n",
       "    <tr>\n",
       "      <th>4</th>\n",
       "      <td>8.828989e+08</td>\n",
       "      <td>0.998489</td>\n",
       "      <td>0.004762</td>\n",
       "      <td>5.798480</td>\n",
       "      <td>0</td>\n",
       "    </tr>\n",
       "  </tbody>\n",
       "</table>\n",
       "</div>"
      ],
      "text/plain": [
       "         energy    weight  corrVal_V      snr_V  pass0\n",
       "0  9.897977e+08  0.999659   0.018331  13.662647      0\n",
       "1  5.496331e+08  0.999576   0.006175   7.069937      1\n",
       "2  1.828228e+09  0.997573   0.003957   4.250838      0\n",
       "3  6.896503e+08  0.998762   0.002909   3.957914      0\n",
       "4  8.828989e+08  0.998489   0.004762   5.798480      0"
      ]
     },
     "execution_count": 13,
     "metadata": {},
     "output_type": "execute_result"
    }
   ],
   "source": [
    "df.head()"
   ]
  },
  {
   "cell_type": "code",
   "execution_count": 14,
   "metadata": {},
   "outputs": [
    {
     "data": {
      "image/png": "[encoded data removed]",
      "text/plain": [
       "<Figure size 432x288 with 1 Axes>"
      ]
     },
     "metadata": {},
     "output_type": "display_data"
    }
   ],
   "source": [
    "plt.hist2d(df.energy,df.snr_V, bins = 50, range=[[1E6,1E9],[0,15]]);\n",
    "plt.xscale(\"log\")"
   ]
  },
  {
   "cell_type": "code",
   "execution_count": 15,
   "metadata": {},
   "outputs": [
    {
     "data": {
      "text/plain": [
       "0.9947996996192388"
      ]
     },
     "execution_count": 15,
     "metadata": {},
     "output_type": "execute_result"
    }
   ],
   "source": [
    "min(df.weight)"
   ]
  },
  {
   "cell_type": "code",
   "execution_count": 16,
   "metadata": {},
   "outputs": [],
   "source": [
    "m_V, y_iV = -780,10.4\n",
    "m_H, y_iH = -720,105"
   ]
  },
  {
   "cell_type": "code",
   "execution_count": 17,
   "metadata": {},
   "outputs": [],
   "source": [
    "SNR_bins = np.linspace(0,45,45)\n",
    "# SNR_bins\n",
    "df[\"binnedSNR_V\"] = pd.cut(df.snr_V, bins=SNR_bins, labels=SNR_bins[1:]).astype(float)\n",
    "# df[\"binnedSNR_H\"] = pd.cut(df.snr_H, bins=SNR_bins, labels=SNR_bins[1:]).astype(float)\n",
    "df[\"passV\"] = df.snr_V>m_V*df.corrVal_V+y_iV\n",
    "# df[\"passH\"] = df.snr_H>m_H*df.corrVal_H+y_iH\n",
    "df[\"passes\"]= (df.pass0==True) & (df.passV==True)"
   ]
  },
  {
   "cell_type": "code",
   "execution_count": 18,
   "metadata": {},
   "outputs": [
    {
     "data": {
      "text/html": [
       "<div>\n",
       "<style scoped>\n",
       "    .dataframe tbody tr th:only-of-type {\n",
       "        vertical-align: middle;\n",
       "    }\n",
       "\n",
       "    .dataframe tbody tr th {\n",
       "        vertical-align: top;\n",
       "    }\n",
       "\n",
       "    .dataframe thead th {\n",
       "        text-align: right;\n",
       "    }\n",
       "</style>\n",
       "<table border=\"1\" class=\"dataframe\">\n",
       "  <thead>\n",
       "    <tr style=\"text-align: right;\">\n",
       "      <th></th>\n",
       "      <th>energy</th>\n",
       "      <th>weight</th>\n",
       "      <th>corrVal_V</th>\n",
       "      <th>snr_V</th>\n",
       "      <th>pass0</th>\n",
       "      <th>binnedSNR_V</th>\n",
       "      <th>passV</th>\n",
       "      <th>passes</th>\n",
       "    </tr>\n",
       "  </thead>\n",
       "  <tbody>\n",
       "    <tr>\n",
       "      <th>0</th>\n",
       "      <td>9.897977e+08</td>\n",
       "      <td>0.999659</td>\n",
       "      <td>0.018331</td>\n",
       "      <td>13.662647</td>\n",
       "      <td>0</td>\n",
       "      <td>14.318182</td>\n",
       "      <td>True</td>\n",
       "      <td>False</td>\n",
       "    </tr>\n",
       "    <tr>\n",
       "      <th>1</th>\n",
       "      <td>5.496331e+08</td>\n",
       "      <td>0.999576</td>\n",
       "      <td>0.006175</td>\n",
       "      <td>7.069937</td>\n",
       "      <td>1</td>\n",
       "      <td>7.159091</td>\n",
       "      <td>True</td>\n",
       "      <td>True</td>\n",
       "    </tr>\n",
       "    <tr>\n",
       "      <th>2</th>\n",
       "      <td>1.828228e+09</td>\n",
       "      <td>0.997573</td>\n",
       "      <td>0.003957</td>\n",
       "      <td>4.250838</td>\n",
       "      <td>0</td>\n",
       "      <td>5.113636</td>\n",
       "      <td>False</td>\n",
       "      <td>False</td>\n",
       "    </tr>\n",
       "    <tr>\n",
       "      <th>3</th>\n",
       "      <td>6.896503e+08</td>\n",
       "      <td>0.998762</td>\n",
       "      <td>0.002909</td>\n",
       "      <td>3.957914</td>\n",
       "      <td>0</td>\n",
       "      <td>4.090909</td>\n",
       "      <td>False</td>\n",
       "      <td>False</td>\n",
       "    </tr>\n",
       "    <tr>\n",
       "      <th>4</th>\n",
       "      <td>8.828989e+08</td>\n",
       "      <td>0.998489</td>\n",
       "      <td>0.004762</td>\n",
       "      <td>5.798480</td>\n",
       "      <td>0</td>\n",
       "      <td>6.136364</td>\n",
       "      <td>False</td>\n",
       "      <td>False</td>\n",
       "    </tr>\n",
       "  </tbody>\n",
       "</table>\n",
       "</div>"
      ],
      "text/plain": [
       "         energy    weight  corrVal_V      snr_V  pass0  binnedSNR_V  passV  \\\n",
       "0  9.897977e+08  0.999659   0.018331  13.662647      0    14.318182   True   \n",
       "1  5.496331e+08  0.999576   0.006175   7.069937      1     7.159091   True   \n",
       "2  1.828228e+09  0.997573   0.003957   4.250838      0     5.113636  False   \n",
       "3  6.896503e+08  0.998762   0.002909   3.957914      0     4.090909  False   \n",
       "4  8.828989e+08  0.998489   0.004762   5.798480      0     6.136364  False   \n",
       "\n",
       "   passes  \n",
       "0   False  \n",
       "1    True  \n",
       "2   False  \n",
       "3   False  \n",
       "4   False  "
      ]
     },
     "execution_count": 18,
     "metadata": {},
     "output_type": "execute_result"
    }
   ],
   "source": [
    "df.head()"
   ]
  },
  {
   "cell_type": "code",
   "execution_count": 19,
   "metadata": {},
   "outputs": [
    {
     "data": {
      "text/plain": [
       "<matplotlib.legend.Legend at 0x2b4c9f7d1160>"
      ]
     },
     "execution_count": 19,
     "metadata": {},
     "output_type": "execute_result"
    },
    {
     "data": {
      "image/png": "[encoded data removed]",
      "text/plain": [
       "<Figure size 576x432 with 2 Axes>"
      ]
     },
     "metadata": {},
     "output_type": "display_data"
    }
   ],
   "source": [
    "m = -950\n",
    "x = np.linspace(0,0.03)\n",
    "y_i = 11.3\n",
    "y = m*x + y_i\n",
    "plt.figure(figsize=(8,6))\n",
    "plt.hist2d(df.loc[(df.energy<1E7) & (df.pass0==True)].corrVal_V,df.loc[(df.energy<1E7) & (df.pass0==True)].snr_V, bins = 50, weights = df.loc[(df.energy<1E7) & (df.pass0==True)].weight, norm = mpl.colors.LogNorm());\n",
    "plt.colorbar(label = \"Counts\")\n",
    "plt.plot(x,y, c = \"red\", label=\"$SNR=mC_{sky}+y_i$,\\n $m=%0.0f\\,,y_i=%0.1f$\"%(m,y_i))\n",
    "plt.xlim(0,0.03)\n",
    "plt.ylim(0,30)\n",
    "plt.grid(ls=\"--\")\n",
    "plt.xlabel(\"$C_{sky}$\")\n",
    "plt.ylabel(\"SNR\")\n",
    "plt.title(r\"Vpol (A2, simulation), $E_\\nu<10^{16}$\", fontsize = 28)\n",
    "plt.legend(loc = \"lower right\", fontsize = 14, title=\"RCut [Vpol]\", fancybox=True)"
   ]
  },
  {
   "cell_type": "code",
   "execution_count": 20,
   "metadata": {},
   "outputs": [
    {
     "data": {
      "text/html": [
       "<div>\n",
       "<style scoped>\n",
       "    .dataframe tbody tr th:only-of-type {\n",
       "        vertical-align: middle;\n",
       "    }\n",
       "\n",
       "    .dataframe tbody tr th {\n",
       "        vertical-align: top;\n",
       "    }\n",
       "\n",
       "    .dataframe thead th {\n",
       "        text-align: right;\n",
       "    }\n",
       "</style>\n",
       "<table border=\"1\" class=\"dataframe\">\n",
       "  <thead>\n",
       "    <tr style=\"text-align: right;\">\n",
       "      <th></th>\n",
       "      <th>binnedSNR_V</th>\n",
       "    </tr>\n",
       "    <tr>\n",
       "      <th>SNR</th>\n",
       "      <th></th>\n",
       "    </tr>\n",
       "  </thead>\n",
       "  <tbody>\n",
       "    <tr>\n",
       "      <th>4.090909</th>\n",
       "      <td>536</td>\n",
       "    </tr>\n",
       "    <tr>\n",
       "      <th>5.113636</th>\n",
       "      <td>2639</td>\n",
       "    </tr>\n",
       "    <tr>\n",
       "      <th>6.136364</th>\n",
       "      <td>2165</td>\n",
       "    </tr>\n",
       "    <tr>\n",
       "      <th>7.159091</th>\n",
       "      <td>1589</td>\n",
       "    </tr>\n",
       "    <tr>\n",
       "      <th>8.181818</th>\n",
       "      <td>1133</td>\n",
       "    </tr>\n",
       "  </tbody>\n",
       "</table>\n",
       "</div>"
      ],
      "text/plain": [
       "          binnedSNR_V\n",
       "SNR                  \n",
       "4.090909          536\n",
       "5.113636         2639\n",
       "6.136364         2165\n",
       "7.159091         1589\n",
       "8.181818         1133"
      ]
     },
     "execution_count": 20,
     "metadata": {},
     "output_type": "execute_result"
    }
   ],
   "source": [
    "total_num = df.binnedSNR_V.value_counts(sort=False)\n",
    "total_num=total_num.sort_index()\n",
    "forEff_SNR = pd.DataFrame(data = total_num)\n",
    "forEff_SNR.index.name = 'SNR'\n",
    "forEff_SNR.head()"
   ]
  },
  {
   "cell_type": "code",
   "execution_count": 21,
   "metadata": {},
   "outputs": [
    {
     "data": {
      "text/html": [
       "<div>\n",
       "<style scoped>\n",
       "    .dataframe tbody tr th:only-of-type {\n",
       "        vertical-align: middle;\n",
       "    }\n",
       "\n",
       "    .dataframe tbody tr th {\n",
       "        vertical-align: top;\n",
       "    }\n",
       "\n",
       "    .dataframe thead th {\n",
       "        text-align: right;\n",
       "    }\n",
       "</style>\n",
       "<table border=\"1\" class=\"dataframe\">\n",
       "  <thead>\n",
       "    <tr style=\"text-align: right;\">\n",
       "      <th></th>\n",
       "      <th>binnedSNR_V</th>\n",
       "      <th>passesCuts_SNR</th>\n",
       "    </tr>\n",
       "    <tr>\n",
       "      <th>SNR</th>\n",
       "      <th></th>\n",
       "      <th></th>\n",
       "    </tr>\n",
       "  </thead>\n",
       "  <tbody>\n",
       "    <tr>\n",
       "      <th>4.090909</th>\n",
       "      <td>536</td>\n",
       "      <td>1</td>\n",
       "    </tr>\n",
       "    <tr>\n",
       "      <th>5.113636</th>\n",
       "      <td>2639</td>\n",
       "      <td>14</td>\n",
       "    </tr>\n",
       "    <tr>\n",
       "      <th>6.136364</th>\n",
       "      <td>2165</td>\n",
       "      <td>205</td>\n",
       "    </tr>\n",
       "    <tr>\n",
       "      <th>7.159091</th>\n",
       "      <td>1589</td>\n",
       "      <td>747</td>\n",
       "    </tr>\n",
       "    <tr>\n",
       "      <th>8.181818</th>\n",
       "      <td>1133</td>\n",
       "      <td>905</td>\n",
       "    </tr>\n",
       "    <tr>\n",
       "      <th>9.204545</th>\n",
       "      <td>953</td>\n",
       "      <td>774</td>\n",
       "    </tr>\n",
       "    <tr>\n",
       "      <th>10.227273</th>\n",
       "      <td>789</td>\n",
       "      <td>662</td>\n",
       "    </tr>\n",
       "    <tr>\n",
       "      <th>11.250000</th>\n",
       "      <td>571</td>\n",
       "      <td>475</td>\n",
       "    </tr>\n",
       "    <tr>\n",
       "      <th>12.272727</th>\n",
       "      <td>501</td>\n",
       "      <td>424</td>\n",
       "    </tr>\n",
       "    <tr>\n",
       "      <th>13.295455</th>\n",
       "      <td>447</td>\n",
       "      <td>365</td>\n",
       "    </tr>\n",
       "    <tr>\n",
       "      <th>14.318182</th>\n",
       "      <td>411</td>\n",
       "      <td>345</td>\n",
       "    </tr>\n",
       "    <tr>\n",
       "      <th>15.340909</th>\n",
       "      <td>328</td>\n",
       "      <td>287</td>\n",
       "    </tr>\n",
       "    <tr>\n",
       "      <th>16.363636</th>\n",
       "      <td>289</td>\n",
       "      <td>244</td>\n",
       "    </tr>\n",
       "    <tr>\n",
       "      <th>17.386364</th>\n",
       "      <td>267</td>\n",
       "      <td>221</td>\n",
       "    </tr>\n",
       "    <tr>\n",
       "      <th>18.409091</th>\n",
       "      <td>244</td>\n",
       "      <td>206</td>\n",
       "    </tr>\n",
       "    <tr>\n",
       "      <th>19.431818</th>\n",
       "      <td>223</td>\n",
       "      <td>194</td>\n",
       "    </tr>\n",
       "    <tr>\n",
       "      <th>20.454545</th>\n",
       "      <td>189</td>\n",
       "      <td>163</td>\n",
       "    </tr>\n",
       "    <tr>\n",
       "      <th>21.477273</th>\n",
       "      <td>176</td>\n",
       "      <td>149</td>\n",
       "    </tr>\n",
       "    <tr>\n",
       "      <th>22.500000</th>\n",
       "      <td>171</td>\n",
       "      <td>142</td>\n",
       "    </tr>\n",
       "    <tr>\n",
       "      <th>23.522727</th>\n",
       "      <td>159</td>\n",
       "      <td>138</td>\n",
       "    </tr>\n",
       "  </tbody>\n",
       "</table>\n",
       "</div>"
      ],
      "text/plain": [
       "           binnedSNR_V  passesCuts_SNR\n",
       "SNR                                   \n",
       "4.090909           536               1\n",
       "5.113636          2639              14\n",
       "6.136364          2165             205\n",
       "7.159091          1589             747\n",
       "8.181818          1133             905\n",
       "9.204545           953             774\n",
       "10.227273          789             662\n",
       "11.250000          571             475\n",
       "12.272727          501             424\n",
       "13.295455          447             365\n",
       "14.318182          411             345\n",
       "15.340909          328             287\n",
       "16.363636          289             244\n",
       "17.386364          267             221\n",
       "18.409091          244             206\n",
       "19.431818          223             194\n",
       "20.454545          189             163\n",
       "21.477273          176             149\n",
       "22.500000          171             142\n",
       "23.522727          159             138"
      ]
     },
     "execution_count": 21,
     "metadata": {},
     "output_type": "execute_result"
    }
   ],
   "source": [
    "passesCuts_SNR = df.loc[(df.passV == True) & (df.pass0==True)].binnedSNR_V.value_counts()\n",
    "passesCuts_SNR = passesCuts_SNR.sort_index()\n",
    "forEff_SNR[\"passesCuts_SNR\"]=passesCuts_SNR\n",
    "forEff_SNR.passesCuts_SNR=forEff_SNR.passesCuts_SNR.fillna(0)\n",
    "forEff_SNR.head(20)"
   ]
  },
  {
   "cell_type": "code",
   "execution_count": 22,
   "metadata": {},
   "outputs": [],
   "source": [
    "diffuse_EffSNR_Brian = pd.read_csv(\"../data/Eff_vs_SNR_Brian.txt\")\n"
   ]
  },
  {
   "cell_type": "code",
   "execution_count": 24,
   "metadata": {},
   "outputs": [
    {
     "data": {
      "image/png": "[encoded data removed]",
      "text/plain": [
       "<Figure size 504x360 with 1 Axes>"
      ]
     },
     "metadata": {},
     "output_type": "display_data"
    }
   ],
   "source": [
    "plt.figure(figsize=(7,5))\n",
    "plt.plot(forEff_SNR.index, 100*forEff_SNR.passesCuts_SNR/forEff_SNR.binnedSNR_V, linewidth = 3, label = \"Cen A source search\")\n",
    "# plt.plot(diffuse_EffSNR.snr, 100*diffuse_EffSNR[\"eff\"], label = \"Diffuse search (A2, MYL)\")\n",
    "plt.plot(diffuse_EffSNR_Brian.snr, 100*diffuse_EffSNR_Brian[\"a2_eff\"],\"--\", linewidth = 3, label = \"Diffuse search (A2, OSU)\")\n",
    "plt.scatter(7.2, 50, s=120, marker = \"*\",color = \"C6\", label=r'50\\% point, SNR $\\approx 7.2$')\n",
    "plt.scatter(8.2,50, s=70, color=\"C3\",marker = \"o\", label=r'50\\% point, SNR $\\approx 8.2$')\n",
    "\n",
    "# plt.xscale('log')\n",
    "plt.xlabel(\"SNR\")\n",
    "plt.ylabel(r\"Efficiency [\\%]\")\n",
    "plt.title(\"Vpol Efficiency (A2, c1)\")\n",
    "plt.grid()\n",
    "plt.xlim(0,25)\n",
    "plt.ylim(0,110)\n",
    "\n",
    "plt.legend()\n",
    "plt.tight_layout()\n",
    "plt.savefig(\"./CenA_search_SNRefficiency.pdf\")\n"
   ]
  },
  {
   "cell_type": "markdown",
   "metadata": {},
   "source": [
    "## Do Energy binning"
   ]
  },
  {
   "cell_type": "code",
   "execution_count": 75,
   "metadata": {},
   "outputs": [],
   "source": [
    "df.head()\n",
    "df.energy = df.energy*1E9"
   ]
  },
  {
   "cell_type": "code",
   "execution_count": 76,
   "metadata": {},
   "outputs": [
    {
     "data": {
      "text/plain": [
       "array([3.16227766e+15, 3.16227766e+16, 3.16227766e+17, 3.16227766e+18,\n",
       "       3.16227766e+19, 3.16227766e+20])"
      ]
     },
     "execution_count": 76,
     "metadata": {},
     "output_type": "execute_result"
    }
   ],
   "source": [
    "forBins_half = np.logspace(15.5, 20.5, num=6)\n",
    "forBins_half"
   ]
  },
  {
   "cell_type": "code",
   "execution_count": 77,
   "metadata": {},
   "outputs": [
    {
     "data": {
      "text/plain": [
       "array([1.e+15, 1.e+16, 1.e+17, 1.e+18, 1.e+19, 1.e+20])"
      ]
     },
     "execution_count": 77,
     "metadata": {},
     "output_type": "execute_result"
    }
   ],
   "source": [
    "forBins = np.logspace(15, 20, num=6)\n",
    "forBins"
   ]
  },
  {
   "cell_type": "code",
   "execution_count": 78,
   "metadata": {},
   "outputs": [],
   "source": [
    "Ebins = np.concatenate([forBins_half,forBins])\n",
    "Ebins = np.sort(Ebins)"
   ]
  },
  {
   "cell_type": "code",
   "execution_count": 79,
   "metadata": {},
   "outputs": [],
   "source": [
    "df[\"binnedE\"] = pd.cut(df.energy, bins=Ebins, labels=Ebins[1:]).astype(float)"
   ]
  },
  {
   "cell_type": "code",
   "execution_count": 80,
   "metadata": {},
   "outputs": [
    {
     "data": {
      "text/plain": [
       "3.162278e+18    9047\n",
       "1.000000e+18    5332\n",
       "3.162278e+17    1668\n",
       "1.000000e+17     506\n",
       "3.162278e+16     186\n",
       "1.000000e+16      59\n",
       "3.162278e+15      18\n",
       "Name: binnedE, dtype: int64"
      ]
     },
     "execution_count": 80,
     "metadata": {},
     "output_type": "execute_result"
    }
   ],
   "source": [
    "df.head()\n",
    "df.binnedE.value_counts()"
   ]
  },
  {
   "cell_type": "code",
   "execution_count": 81,
   "metadata": {},
   "outputs": [],
   "source": [
    "total_num = df.binnedE.value_counts(sort=False)\n",
    "total_num=total_num.sort_index()\n",
    "forEff = pd.DataFrame(data = total_num)\n",
    "forEff.index.name = 'Energy'\n",
    "# forEff.index"
   ]
  },
  {
   "cell_type": "code",
   "execution_count": 82,
   "metadata": {},
   "outputs": [
    {
     "data": {
      "text/plain": [
       "3.162278e+15       9\n",
       "1.000000e+16      30\n",
       "3.162278e+16     104\n",
       "1.000000e+17     268\n",
       "3.162278e+17     882\n",
       "1.000000e+18    3023\n",
       "3.162278e+18    5014\n",
       "Name: binnedE, dtype: int64"
      ]
     },
     "execution_count": 82,
     "metadata": {},
     "output_type": "execute_result"
    }
   ],
   "source": [
    "passesCuts = df.loc[(df.passV == True) & (df.pass0==True)].binnedE.value_counts()\n",
    "passesCuts = passesCuts.sort_index()\n",
    "forEff[\"passesCuts\"]=passesCuts\n",
    "passesCuts"
   ]
  },
  {
   "cell_type": "code",
   "execution_count": 83,
   "metadata": {},
   "outputs": [
    {
     "data": {
      "text/html": [
       "<div>\n",
       "<style scoped>\n",
       "    .dataframe tbody tr th:only-of-type {\n",
       "        vertical-align: middle;\n",
       "    }\n",
       "\n",
       "    .dataframe tbody tr th {\n",
       "        vertical-align: top;\n",
       "    }\n",
       "\n",
       "    .dataframe thead th {\n",
       "        text-align: right;\n",
       "    }\n",
       "</style>\n",
       "<table border=\"1\" class=\"dataframe\">\n",
       "  <thead>\n",
       "    <tr style=\"text-align: right;\">\n",
       "      <th></th>\n",
       "      <th>binnedE</th>\n",
       "      <th>passesCuts</th>\n",
       "    </tr>\n",
       "    <tr>\n",
       "      <th>Energy</th>\n",
       "      <th></th>\n",
       "      <th></th>\n",
       "    </tr>\n",
       "  </thead>\n",
       "  <tbody>\n",
       "    <tr>\n",
       "      <th>3.162278e+15</th>\n",
       "      <td>18</td>\n",
       "      <td>9</td>\n",
       "    </tr>\n",
       "    <tr>\n",
       "      <th>1.000000e+16</th>\n",
       "      <td>59</td>\n",
       "      <td>30</td>\n",
       "    </tr>\n",
       "    <tr>\n",
       "      <th>3.162278e+16</th>\n",
       "      <td>186</td>\n",
       "      <td>104</td>\n",
       "    </tr>\n",
       "    <tr>\n",
       "      <th>1.000000e+17</th>\n",
       "      <td>506</td>\n",
       "      <td>268</td>\n",
       "    </tr>\n",
       "    <tr>\n",
       "      <th>3.162278e+17</th>\n",
       "      <td>1668</td>\n",
       "      <td>882</td>\n",
       "    </tr>\n",
       "  </tbody>\n",
       "</table>\n",
       "</div>"
      ],
      "text/plain": [
       "              binnedE  passesCuts\n",
       "Energy                           \n",
       "3.162278e+15       18           9\n",
       "1.000000e+16       59          30\n",
       "3.162278e+16      186         104\n",
       "1.000000e+17      506         268\n",
       "3.162278e+17     1668         882"
      ]
     },
     "execution_count": 83,
     "metadata": {},
     "output_type": "execute_result"
    }
   ],
   "source": [
    "forEff.passesCuts=forEff.passesCuts.fillna(0)\n",
    "forEff.head()"
   ]
  },
  {
   "cell_type": "code",
   "execution_count": 84,
   "metadata": {},
   "outputs": [
    {
     "data": {
      "text/html": [
       "<div>\n",
       "<style scoped>\n",
       "    .dataframe tbody tr th:only-of-type {\n",
       "        vertical-align: middle;\n",
       "    }\n",
       "\n",
       "    .dataframe tbody tr th {\n",
       "        vertical-align: top;\n",
       "    }\n",
       "\n",
       "    .dataframe thead th {\n",
       "        text-align: right;\n",
       "    }\n",
       "</style>\n",
       "<table border=\"1\" class=\"dataframe\">\n",
       "  <thead>\n",
       "    <tr style=\"text-align: right;\">\n",
       "      <th></th>\n",
       "      <th>energy</th>\n",
       "      <th>eff</th>\n",
       "    </tr>\n",
       "  </thead>\n",
       "  <tbody>\n",
       "    <tr>\n",
       "      <th>0</th>\n",
       "      <td>11300000.0</td>\n",
       "      <td>0.0688</td>\n",
       "    </tr>\n",
       "    <tr>\n",
       "      <th>1</th>\n",
       "      <td>18200000.0</td>\n",
       "      <td>0.1100</td>\n",
       "    </tr>\n",
       "    <tr>\n",
       "      <th>2</th>\n",
       "      <td>28800000.0</td>\n",
       "      <td>0.1490</td>\n",
       "    </tr>\n",
       "    <tr>\n",
       "      <th>3</th>\n",
       "      <td>39600000.0</td>\n",
       "      <td>0.1820</td>\n",
       "    </tr>\n",
       "    <tr>\n",
       "      <th>4</th>\n",
       "      <td>60900000.0</td>\n",
       "      <td>0.2090</td>\n",
       "    </tr>\n",
       "  </tbody>\n",
       "</table>\n",
       "</div>"
      ],
      "text/plain": [
       "       energy     eff\n",
       "0  11300000.0  0.0688\n",
       "1  18200000.0  0.1100\n",
       "2  28800000.0  0.1490\n",
       "3  39600000.0  0.1820\n",
       "4  60900000.0  0.2090"
      ]
     },
     "execution_count": 84,
     "metadata": {},
     "output_type": "execute_result"
    }
   ],
   "source": [
    "diffuseEff = pd.read_csv(\"../data/diffuse_eff.txt\")\n",
    "diffuseEff_OSU = pd.read_csv(\"../data/diffuse_eff_OSU.txt\")\n",
    "diffuseEff.head()\n"
   ]
  },
  {
   "cell_type": "code",
   "execution_count": 85,
   "metadata": {},
   "outputs": [
    {
     "data": {
      "image/png": "[encoded data removed]",
      "text/plain": [
       "<Figure size 432x288 with 1 Axes>"
      ]
     },
     "metadata": {},
     "output_type": "display_data"
    }
   ],
   "source": [
    "plt.plot(forEff.index/1E9, 100*forEff.passesCuts/forEff.binnedE,linewidth = 3, label = \"Cen A source search\")\n",
    "plt.plot(np.power(10,diffuseEff_OSU.E)/1E9, 100*diffuseEff_OSU[\"a2_eff\"],\"--\", linewidth = 3, label = \"Diffuse search (A2, OSU)\")\n",
    "\n",
    "plt.xscale('log')\n",
    "plt.xlabel(\"Neutrino energy [GeV]\")\n",
    "plt.ylabel(r\"Efficiency [\\%]\")\n",
    "plt.title(\"Analysis efficiency\")\n",
    "plt.xlim(1E6,1E12)\n",
    "plt.ylim(0,100)\n",
    "\n",
    "plt.grid()\n",
    "plt.legend()\n",
    "plt.tight_layout()"
   ]
  },
  {
   "cell_type": "code",
   "execution_count": null,
   "metadata": {},
   "outputs": [],
   "source": []
  }
 ],
 "metadata": {
  "kernelspec": {
   "display_name": "Python 3.6 (Conda 5.2) [python/3.6-conda5.2]",
   "language": "python",
   "name": "sys_python36conda"
  },
  "language_info": {
   "codemirror_mode": {
    "name": "ipython",
    "version": 3
   },
   "file_extension": ".py",
   "mimetype": "text/x-python",
   "name": "python",
   "nbconvert_exporter": "python",
   "pygments_lexer": "ipython3",
   "version": "3.6.6"
  }
 },
 "nbformat": 4,
 "nbformat_minor": 4
}
