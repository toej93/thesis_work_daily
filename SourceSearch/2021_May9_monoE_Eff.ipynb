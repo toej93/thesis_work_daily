{
 "cells": [
  {
   "cell_type": "markdown",
   "metadata": {},
   "source": [
    "# Mono energetic efficiency"
   ]
  },
  {
   "cell_type": "markdown",
   "metadata": {},
   "source": [
    "### May 9, 2021"
   ]
  },
  {
   "cell_type": "markdown",
   "metadata": {},
   "source": [
    "## Code"
   ]
  },
  {
   "cell_type": "code",
   "execution_count": 5,
   "metadata": {},
   "outputs": [
    {
     "name": "stdout",
     "output_type": "stream",
     "text": [
      "Welcome to JupyROOT 6.18/04\n"
     ]
    }
   ],
   "source": [
    "import sys\n",
    "import csv\n",
    "# sys.path.insert(0,\"/users/PCON0003/cond0068/.local/lib/python3.7/\")\n",
    "sys.path.append(\"/users/PAS0654/osu8354/ARA_cvmfs/root_build/lib/\") # go to parent dir\n",
    "sys.path.append(\"/users/PCON0003/cond0068/.local/lib/python3.7/site-packages/\")\n",
    "# sys.path.append(\"/users/PCON0003/cond0068/pyrex_sims/fromBen/thesis_work/pyrex-custom/analysis/custom/analysis/\")\n",
    "import ROOT\n",
    "import math\n",
    "import numpy as np\n",
    "from ROOT import TH1D,TF1, gRandom, gPad, gStyle\n",
    "import matplotlib as mpl\n",
    "import matplotlib.pyplot as plt\n",
    "from ROOT import TChain, TSelector, TTree\n",
    "import os\n",
    "import matplotlib.colors as mcolors\n",
    "import scipy\n",
    "from matplotlib.colors import LogNorm\n",
    "import pandas as pd\n",
    "import seaborn as sns\n",
    "%matplotlib inline\n",
    "# sys.path.insert(1, \"/users/PAS0654/osu8354/ARA_cvmfs/source/AraRoot/analysis/ARA_analysis/SourceSearch\")\n",
    "# import deDisperse_util as util\n",
    "import matplotlib.colors as colors\n",
    "\n",
    "my_path_plots = os.path.abspath(\"./plots/\")\n",
    "import re\n"
   ]
  },
  {
   "cell_type": "code",
   "execution_count": 6,
   "metadata": {},
   "outputs": [],
   "source": [
    "mpl.rcParams['text.usetex'] = True\n",
    "mpl.rcParams['text.latex.unicode'] = True\n",
    "mpl.rcParams['mathtext.rm'] = 'Times New Roman'\n",
    "mpl.rcParams['mathtext.it'] = 'Times New Roman:italic'\n",
    "mpl.rcParams['mathtext.bf'] = 'Times New Roman:bold'\n",
    "\n",
    "mpl.rc('font', family='serif', size=12)\n",
    "mpl.rcParams['xtick.labelsize'] = 14\n",
    "mpl.rcParams['ytick.labelsize'] = 14\n",
    "mpl.rcParams['xtick.major.size'] = 5\n",
    "mpl.rcParams['ytick.major.size'] = 5\n",
    "\n",
    "mpl.rcParams['axes.titlesize'] = 18\n",
    "mpl.rcParams['axes.labelsize'] = 18\n",
    "# mpl.rc('font', size=16)\n",
    "mpl.rc('axes', titlesize=20)\n",
    "\n",
    "current_palette = sns.color_palette('colorblind', 10)\n",
    "import warnings\n",
    "warnings.filterwarnings(\"ignore\")\n",
    "\n",
    "###Bigger\n",
    "# mpl.rcParams['text.usetex'] = True\n",
    "# mpl.rcParams['text.latex.unicode'] = True\n",
    "# mpl.rcParams['mathtext.rm'] = 'Times New Roman'\n",
    "# mpl.rcParams['mathtext.it'] = 'Times New Roman:italic'\n",
    "# mpl.rcParams['mathtext.bf'] = 'Times New Roman:bold'\n",
    "\n",
    "# mpl.rc('font', family='serif', size=12)\n",
    "# mpl.rcParams['xtick.labelsize'] = 18\n",
    "# mpl.rcParams['ytick.labelsize'] = 18\n",
    "# mpl.rcParams['xtick.major.size'] = 8\n",
    "# mpl.rcParams['ytick.major.size'] = 8\n",
    "\n",
    "# mpl.rcParams['axes.titlesize'] = 22\n",
    "# mpl.rcParams['axes.labelsize'] = 22\n",
    "# # mpl.rc('font', size=16)\n",
    "# mpl.rc('axes', titlesize=20)\n",
    "\n",
    "# current_palette = sns.color_palette('colorblind', 10)\n",
    "# import warnings\n",
    "# warnings.filterwarnings(\"ignore\")\n",
    "\n",
    "\n"
   ]
  },
  {
   "cell_type": "code",
   "execution_count": 15,
   "metadata": {},
   "outputs": [],
   "source": [
    "folder = \"/users/PAS0654/osu8354/ARA_cvmfs/source/AraRoot/analysis/ARA_analysis/ARA_SourceSearch/results/\"\n",
    "# f = ROOT.TFile.Open(folder + \"storeValues_A2_c1.root\",\"READ\")"
   ]
  },
  {
   "cell_type": "code",
   "execution_count": 16,
   "metadata": {},
   "outputs": [],
   "source": [
    "srcFolder = \"/users/PAS0654/osu8354/ARA_cvmfs/source/AraRoot/analysis/ARA_analysis/ARA_SourceSearch/results/storeValues_sim\"\n",
    "file_list=[]#Define an empty list\n",
    "for filename in os.listdir(srcFolder):#Loop over desired directory\n",
    "    if filename.endswith(\"560.root\"): #extension, .root in this case\n",
    "        file_list.append(os.path.join(srcFolder, str(filename))) #add file name to the list\n",
    "        "
   ]
  },
  {
   "cell_type": "code",
   "execution_count": 17,
   "metadata": {},
   "outputs": [],
   "source": [
    "VTree = TChain(\"OutputTreeV\")\n",
    "HTree = TChain(\"OutputTreeH\")\n",
    "# AllTree = TChain(\"AllTree\")\n",
    "# OutputTree = TChain(\"OutputTree\")\n",
    "for line in file_list:\n",
    "    VTree.AddFile(line)\n",
    "    HTree.AddFile(line)\n",
    "#     AllTree.AddFile(line) \n",
    "#     OutputTree.AddFile(line)"
   ]
  },
  {
   "cell_type": "code",
   "execution_count": 18,
   "metadata": {},
   "outputs": [],
   "source": [
    "corrVal_V = []\n",
    "snr_V = []\n",
    "weights_V = []\n",
    "energy = []\n",
    "pass0 = []\n",
    "RecoTheta = []\n",
    "inBox = []\n",
    "numEntries = VTree.GetEntries()\n",
    "for event in range(numEntries):\n",
    "    VTree.GetEntry(event)\n",
    "    corrVal_V.append(VTree.corr_val_outV)\n",
    "    snr_V.append(VTree.snr_val_outV)\n",
    "    weights_V.append(VTree.weight)\n",
    "    energy.append(VTree.energy_out)\n",
    "    pass0.append(VTree.pass0)\n",
    "    RecoTheta.append(VTree.RecoTheta_outV)"
   ]
  },
  {
   "cell_type": "code",
   "execution_count": 19,
   "metadata": {},
   "outputs": [],
   "source": [
    "df = pd.DataFrame({'energy':abs(np.array(energy)),'weight':np.array(weights_V),'corrVal_V':np.array(corrVal_V), 'snr_V':np.array(snr_V),\n",
    "                  'pass0':np.array(pass0)})\n",
    "df.loc[df.snr_V>30].snr_V = 30\n",
    "df.loc[(df.snr_V>30),'snr_V']=30\n"
   ]
  },
  {
   "cell_type": "code",
   "execution_count": 20,
   "metadata": {},
   "outputs": [
    {
     "data": {
      "image/png": "[encoded data removed]",
      "text/plain": [
       "<Figure size 432x288 with 1 Axes>"
      ]
     },
     "metadata": {},
     "output_type": "display_data"
    }
   ],
   "source": [
    "plt.hist2d(df.corrVal_V, df.snr_V, bins=20);"
   ]
  },
  {
   "cell_type": "code",
   "execution_count": 21,
   "metadata": {},
   "outputs": [],
   "source": [
    "m_V, y_iV = -780,10.4\n",
    "m_H, y_iH = -720,105"
   ]
  },
  {
   "cell_type": "code",
   "execution_count": 22,
   "metadata": {},
   "outputs": [],
   "source": [
    "df[\"passV\"] = df.snr_V>m_V*df.corrVal_V+y_iV\n",
    "# df[\"passH\"] = df.snr_H>m_H*df.corrVal_H+y_iH\n",
    "df[\"passes\"]= (df.pass0==True) & (df.passV==True)"
   ]
  },
  {
   "cell_type": "code",
   "execution_count": 23,
   "metadata": {},
   "outputs": [
    {
     "data": {
      "text/plain": [
       "0.19576185671039353"
      ]
     },
     "execution_count": 23,
     "metadata": {},
     "output_type": "execute_result"
    }
   ],
   "source": [
    "len(df.loc[(df.passes == True)])/len(df)"
   ]
  },
  {
   "cell_type": "markdown",
   "metadata": {},
   "source": [
    "## Try 2"
   ]
  },
  {
   "cell_type": "code",
   "execution_count": 90,
   "metadata": {},
   "outputs": [],
   "source": [
    "m_V, y_iV = -780,10.4\n",
    "m_H, y_iH = -720,10.5"
   ]
  },
  {
   "cell_type": "code",
   "execution_count": 91,
   "metadata": {},
   "outputs": [
    {
     "name": "stdout",
     "output_type": "stream",
     "text": [
      "0.19576185671039353 16.0\n",
      "0.34823316218665057 16.5\n",
      "0.4626036808942366 17.0\n",
      "0.5148132573875148 17.5\n",
      "0.5324132568762756 18.0\n",
      "0.5570702480729746 18.5\n",
      "0.5836126966869016 19.0\n",
      "0.5895014000919463 19.5\n",
      "0.5933887868639948 20.0\n",
      "0.6096294076515832 20.5\n"
     ]
    }
   ],
   "source": [
    "srcFolder = \"/users/PAS0654/osu8354/ARA_cvmfs/source/AraRoot/analysis/ARA_analysis/ARA_SourceSearch/results/storeValues_sim/\"\n",
    "E_ev = []\n",
    "eff_E = []\n",
    "for energy in range(560,610,5):\n",
    "    files = []\n",
    "    for filename in os.listdir(srcFolder):\n",
    "        if filename.endswith(\"E%i.root\"%energy):\n",
    "            f = ROOT.TFile.Open(srcFolder+filename)\n",
    "            VTree = f.Get(\"OutputTreeV\")\n",
    "            corrVal_V = []\n",
    "            snr_V = []\n",
    "            weights_V = []\n",
    "            pass0 = []\n",
    "            RecoTheta = []\n",
    "            inBox = []\n",
    "            numEntries = VTree.GetEntries()\n",
    "            for event in range(numEntries):\n",
    "                VTree.GetEntry(event)\n",
    "                corrVal_V.append(VTree.corr_val_outV)\n",
    "                snr_V.append(VTree.snr_val_outV)\n",
    "                weights_V.append(VTree.weight)\n",
    "#                 energy.append(VTree.energy_out)\n",
    "                pass0.append(VTree.pass0)\n",
    "                RecoTheta.append(VTree.RecoTheta_outV)\n",
    "            f.Close()\n",
    "            df = pd.DataFrame({'energy':abs(np.array(energy)),'weight':np.array(weights_V),'corrVal_V':np.array(corrVal_V), 'snr_V':np.array(snr_V),\n",
    "                      'pass0':np.array(pass0)})\n",
    "#             df.loc[(df.snr_V>30),'snr_V']=30\n",
    "            df = df.loc[(df.snr_V<30)]\n",
    "            df[\"passV\"] = df.snr_V>m_V*df.corrVal_V+y_iV\n",
    "            # df[\"passH\"] = df.snr_H>m_H*df.corrVal_H+y_iH\n",
    "            df[\"passes\"]= (df.pass0==True) & (df.passV==True)\n",
    "            \n",
    "            print(len(df.loc[(df.passes == True)])/len(df),0.1*(energy-400))\n",
    "            eff = len(df.loc[(df.passes == True)])/len(df)\n",
    "            E_ev.append(0.1*(energy-400))\n",
    "            eff_E.append(eff)\n",
    "            "
   ]
  },
  {
   "cell_type": "code",
   "execution_count": 92,
   "metadata": {},
   "outputs": [
    {
     "data": {
      "text/plain": [
       "[0.19576185671039353,\n",
       " 0.34823316218665057,\n",
       " 0.4626036808942366,\n",
       " 0.5148132573875148,\n",
       " 0.5324132568762756,\n",
       " 0.5570702480729746,\n",
       " 0.5836126966869016,\n",
       " 0.5895014000919463,\n",
       " 0.5933887868639948,\n",
       " 0.6096294076515832]"
      ]
     },
     "execution_count": 92,
     "metadata": {},
     "output_type": "execute_result"
    }
   ],
   "source": [
    "eff_E"
   ]
  },
  {
   "cell_type": "markdown",
   "metadata": {},
   "source": [
    "## The plot"
   ]
  },
  {
   "cell_type": "code",
   "execution_count": 93,
   "metadata": {},
   "outputs": [
    {
     "data": {
      "text/html": [
       "<div>\n",
       "<style scoped>\n",
       "    .dataframe tbody tr th:only-of-type {\n",
       "        vertical-align: middle;\n",
       "    }\n",
       "\n",
       "    .dataframe tbody tr th {\n",
       "        vertical-align: top;\n",
       "    }\n",
       "\n",
       "    .dataframe thead th {\n",
       "        text-align: right;\n",
       "    }\n",
       "</style>\n",
       "<table border=\"1\" class=\"dataframe\">\n",
       "  <thead>\n",
       "    <tr style=\"text-align: right;\">\n",
       "      <th></th>\n",
       "      <th>energy</th>\n",
       "      <th>eff</th>\n",
       "    </tr>\n",
       "  </thead>\n",
       "  <tbody>\n",
       "    <tr>\n",
       "      <th>0</th>\n",
       "      <td>11300000.0</td>\n",
       "      <td>0.0688</td>\n",
       "    </tr>\n",
       "    <tr>\n",
       "      <th>1</th>\n",
       "      <td>18200000.0</td>\n",
       "      <td>0.1100</td>\n",
       "    </tr>\n",
       "    <tr>\n",
       "      <th>2</th>\n",
       "      <td>28800000.0</td>\n",
       "      <td>0.1490</td>\n",
       "    </tr>\n",
       "    <tr>\n",
       "      <th>3</th>\n",
       "      <td>39600000.0</td>\n",
       "      <td>0.1820</td>\n",
       "    </tr>\n",
       "    <tr>\n",
       "      <th>4</th>\n",
       "      <td>60900000.0</td>\n",
       "      <td>0.2090</td>\n",
       "    </tr>\n",
       "  </tbody>\n",
       "</table>\n",
       "</div>"
      ],
      "text/plain": [
       "       energy     eff\n",
       "0  11300000.0  0.0688\n",
       "1  18200000.0  0.1100\n",
       "2  28800000.0  0.1490\n",
       "3  39600000.0  0.1820\n",
       "4  60900000.0  0.2090"
      ]
     },
     "execution_count": 93,
     "metadata": {},
     "output_type": "execute_result"
    }
   ],
   "source": [
    "diffuseEff = pd.read_csv(\"../data/diffuse_eff.txt\")\n",
    "diffuseEff_OSU = pd.read_csv(\"../data/diffuse_eff_OSU.txt\")\n",
    "diffuseEff.head()\n"
   ]
  },
  {
   "cell_type": "code",
   "execution_count": 94,
   "metadata": {},
   "outputs": [
    {
     "data": {
      "text/plain": [
       "array([1.00000000e+07, 3.16227766e+07, 1.00000000e+08, 3.16227766e+08,\n",
       "       1.00000000e+09, 3.16227766e+09, 1.00000000e+10, 3.16227766e+10,\n",
       "       1.00000000e+11, 3.16227766e+11])"
      ]
     },
     "execution_count": 94,
     "metadata": {},
     "output_type": "execute_result"
    }
   ],
   "source": [
    "E_ev = np.power(10,np.array(E_ev))/1E9\n",
    "E_ev"
   ]
  },
  {
   "cell_type": "code",
   "execution_count": 95,
   "metadata": {},
   "outputs": [
    {
     "data": {
      "image/png": "[encoded data removed]",
      "text/plain": [
       "<Figure size 504x360 with 1 Axes>"
      ]
     },
     "metadata": {},
     "output_type": "display_data"
    }
   ],
   "source": [
    "plt.figure(figsize=(7,5))\n",
    "\n",
    "plt.plot(E_ev, 100*np.array(eff_E),linewidth = 3, label = \"Cen A source search\")\n",
    "plt.plot(np.power(10,diffuseEff_OSU.E)/1E9, 100*diffuseEff_OSU[\"a2_eff\"],\"--\", linewidth = 3, label = \"Diffuse search (A2, OSU)\")\n",
    "\n",
    "plt.xscale('log')\n",
    "plt.xlabel(\"Neutrino energy [GeV]\")\n",
    "plt.ylabel(r\"Efficiency [\\%]\")\n",
    "# plt.title(\"Analysis efficiency\")\n",
    "plt.xlim(1E6,1E12)\n",
    "plt.ylim(0,100)\n",
    "\n",
    "plt.grid()\n",
    "plt.legend()\n",
    "plt.tight_layout()\n",
    "# plt.savefig(\"./Eff_Energy_CenASearch.pdf\")"
   ]
  },
  {
   "cell_type": "markdown",
   "metadata": {},
   "source": [
    "## Loop over different resolutions"
   ]
  },
  {
   "cell_type": "code",
   "execution_count": 96,
   "metadata": {},
   "outputs": [
    {
     "data": {
      "image/png": "[encoded data removed]",
      "text/plain": [
       "<Figure size 504x360 with 1 Axes>"
      ]
     },
     "metadata": {},
     "output_type": "display_data"
    }
   ],
   "source": [
    "srcFolder = \"/users/PAS0654/osu8354/ARA_cvmfs/source/AraRoot/analysis/ARA_analysis/ARA_SourceSearch/results/storeValues_sim/\"\n",
    "plt.figure(figsize=(7,5))\n",
    "# E_ev = np.power(10,np.array(E_ev))/1E9\n",
    "plt.plot(E_ev, 100*np.array(eff_E),linewidth = 3, label = \"This search\")\n",
    "plt.plot(np.power(10,diffuseEff_OSU.E)/1E9, 100*diffuseEff_OSU[\"a2_eff\"],\"--\", linewidth = 3, label = \"Diffuse search (A2, OSU)\")\n",
    "\n",
    "# # for intercept in np.arange(8.4,10.4+0.4,0.5):\n",
    "for resolution in np.array([10,5,1,0.1]):\n",
    "#     resolution = 5\n",
    "    alpha = (resolution**2)/(360*180)\n",
    "    m_V, y_iV = -780,10.40-np.log(alpha)/-6.4\n",
    "\n",
    "    E_ev = []\n",
    "    eff_E = []\n",
    "    for energy in range(560,610,5):\n",
    "        files = []\n",
    "        for filename in os.listdir(srcFolder):\n",
    "            if filename.endswith(\"E%i.root\"%energy):\n",
    "                f = ROOT.TFile.Open(srcFolder+filename)\n",
    "                VTree = f.Get(\"OutputTreeV\")\n",
    "                corrVal_V = []\n",
    "                snr_V = []\n",
    "                weights_V = []\n",
    "                pass0 = []\n",
    "                RecoTheta = []\n",
    "                inBox = []\n",
    "                numEntries = VTree.GetEntries()\n",
    "                for event in range(numEntries):\n",
    "                    VTree.GetEntry(event)\n",
    "                    corrVal_V.append(VTree.corr_val_outV)\n",
    "                    snr_V.append(VTree.snr_val_outV)\n",
    "                    weights_V.append(VTree.weight)\n",
    "    #                 energy.append(VTree.energy_out)\n",
    "                    pass0.append(VTree.pass0)\n",
    "                    RecoTheta.append(VTree.RecoTheta_outV)\n",
    "                f.Close()\n",
    "                df = pd.DataFrame({'energy':abs(np.array(energy)),'weight':np.array(weights_V),'corrVal_V':np.array(corrVal_V), 'snr_V':np.array(snr_V),\n",
    "                          'pass0':np.array(pass0)})\n",
    "    #             df.loc[(df.snr_V>30),'snr_V']=30\n",
    "                df = df.loc[(df.snr_V<30)]\n",
    "                df[\"passV\"] = df.snr_V>m_V*df.corrVal_V+y_iV\n",
    "                # df[\"passH\"] = df.snr_H>m_H*df.corrVal_H+y_iH\n",
    "                df[\"passes\"]= (df.pass0==True) & (df.passV==True)\n",
    "\n",
    "#                 print(len(df.loc[(df.passes == True)])/len(df),0.1*(energy-400))\n",
    "                eff = len(df.loc[(df.passes == True)])/len(df)\n",
    "                E_ev.append(0.1*(energy-400))\n",
    "                eff_E.append(eff)\n",
    "    E_ev = np.power(10,np.array(E_ev))/1E9\n",
    "    plt.plot(E_ev, 100*np.array(eff_E),linewidth = 3, label = r\"$\\Delta\\theta_\\nu = \\Delta\\phi_\\nu$ = %0.1f$^\\circ$\"%resolution)\n",
    "\n",
    "plt.xscale('log')\n",
    "plt.xlabel(\"Neutrino energy [GeV]\")\n",
    "plt.ylabel(r\"Efficiency [\\%]\")\n",
    "# plt.title(\"Analysis efficiency\")\n",
    "plt.xlim(1E7,1E12)\n",
    "plt.ylim(0,100)\n",
    "plt.title(\"Efficiency projection for different directional resolutions\")\n",
    "plt.grid()\n",
    "plt.legend()\n",
    "plt.tight_layout()\n",
    "plt.savefig(\"./Eff_Energy_CenASearch_projection.pdf\")\n",
    "            "
   ]
  },
  {
   "cell_type": "code",
   "execution_count": null,
   "metadata": {},
   "outputs": [],
   "source": []
  }
 ],
 "metadata": {
  "kernelspec": {
   "display_name": "Python 3.6 (Conda 5.2) [python/3.6-conda5.2]",
   "language": "python",
   "name": "sys_python36conda"
  },
  "language_info": {
   "codemirror_mode": {
    "name": "ipython",
    "version": 3
   },
   "file_extension": ".py",
   "mimetype": "text/x-python",
   "name": "python",
   "nbconvert_exporter": "python",
   "pygments_lexer": "ipython3",
   "version": "3.6.6"
  }
 },
 "nbformat": 4,
 "nbformat_minor": 4
}
