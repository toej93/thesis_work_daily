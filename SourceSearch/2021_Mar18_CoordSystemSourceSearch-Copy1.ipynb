{
 "cells": [
  {
   "cell_type": "markdown",
   "metadata": {},
   "source": [
    "\n",
    "===================================================================\n",
    "Determining and plotting the altitude/azimuth of Centarus A (Cen A), with respect to ARA\n",
    "===================================================================\n",
    "\n",
    "This notebook is based on an Astropy example: https://docs.astropy.org/en/stable/generated/examples/coordinates/plot_obs-planning.html\n",
    "\n",
    "We first make a `~astropy.coordinates.SkyCoord` instance for Cen A.\n",
    "The altitude-azimuth coordinates are then found using\n",
    "`astropy.coordinates.EarthLocation` and `astropy.time.Time` objects.\n",
    "\n",
    "\n",
    "*By: Jorge Torres (torresespinosa.1@osu.edu)*\n",
    "\n",
    "\n",
    "\n"
   ]
  },
  {
   "cell_type": "markdown",
   "metadata": {},
   "source": [
    "Let's first import useful python modules\n"
   ]
  },
  {
   "cell_type": "code",
   "execution_count": 1,
   "metadata": {},
   "outputs": [
    {
     "data": {
      "text/plain": [
       "<astropy.visualization.units.quantity_support.<locals>.MplQuantityConverter at 0x2aaf2b6faf98>"
      ]
     },
     "execution_count": 1,
     "metadata": {},
     "output_type": "execute_result"
    }
   ],
   "source": [
    "import sys\n",
    "import csv\n",
    "# sys.path.insert(0,\"/users/PCON0003/cond0068/.local/lib/python3.7/\")\n",
    "sys.path.append(\"/users/PAS0654/osu8354/ARA_cvmfs/root_build/lib/\") # go to parent dir\n",
    "sys.path.append(\"/users/PCON0003/cond0068/.local/lib/python3.7/site-packages/\")\n",
    "# sys.path.append(\"/users/PCON0003/cond0068/pyrex_sims/fromBen/thesis_work/pyrex-custom/analysis/custom/analysis/\")\n",
    "# import ROOT\n",
    "import math\n",
    "import numpy as np\n",
    "# from ROOT import TH1D,TF1, gRandom, gPad, gStyle\n",
    "import matplotlib as mpl\n",
    "import matplotlib.pyplot as plt\n",
    "# from ROOT import TChain, TSelector, TTree\n",
    "import os\n",
    "import matplotlib.colors as mcolors\n",
    "import scipy\n",
    "from matplotlib.colors import LogNorm\n",
    "import pandas as pd\n",
    "import pyrex\n",
    "import seaborn as sns\n",
    "%matplotlib inline\n",
    "sys.path.insert(1, \"/users/PAS0654/osu8354/ARA_cvmfs/source/AraRoot/analysis/ARA_analysis/ARA_Reconstruction/\")\n",
    "import reco_util as util\n",
    "# from pyrex.internal_functions import normalize\n",
    "my_path_plots = os.path.abspath(\"./plots/\")\n",
    "# import pyrex.custom.ara as ara\n",
    "\n",
    "from astropy.visualization import astropy_mpl_style, quantity_support #astropy utilities\n",
    "# plt.style.use(astropy_mpl_style)\n",
    "quantity_support()"
   ]
  },
  {
   "cell_type": "code",
   "execution_count": 2,
   "metadata": {},
   "outputs": [],
   "source": [
    "# mpl.use('agg') \n",
    "mpl.rcParams['text.usetex'] = True\n",
    "mpl.rcParams['text.latex.unicode'] = True\n",
    "mpl.rcParams['mathtext.rm'] = 'Times New Roman'\n",
    "mpl.rcParams['mathtext.it'] = 'Times New Roman:italic'\n",
    "mpl.rcParams['mathtext.bf'] = 'Times New Roman:bold'\n",
    "\n",
    "mpl.rc('font', family='serif', size=12)\n",
    "mpl.rcParams['xtick.labelsize'] = 14\n",
    "mpl.rcParams['ytick.labelsize'] = 14\n",
    "mpl.rcParams['xtick.major.size'] = 5\n",
    "mpl.rcParams['ytick.major.size'] = 5\n",
    "\n",
    "mpl.rcParams['axes.titlesize'] = 18\n",
    "mpl.rcParams['axes.labelsize'] = 18\n",
    "# mpl.rc('font', size=16)\n",
    "mpl.rc('axes', titlesize=20)\n",
    "\n",
    "current_palette = sns.color_palette('colorblind', 10)\n",
    "import warnings\n",
    "warnings.filterwarnings(\"ignore\")"
   ]
  },
  {
   "cell_type": "markdown",
   "metadata": {},
   "source": [
    "Import the packages necessary for finding coordinates and making\n",
    "coordinate transformations\n",
    "\n"
   ]
  },
  {
   "cell_type": "code",
   "execution_count": 3,
   "metadata": {},
   "outputs": [],
   "source": [
    "import astropy.units as u #astropy's units module\n",
    "from astropy.time import Time\n",
    "from astropy.coordinates import SkyCoord, EarthLocation, AltAz\n",
    "from matplotlib.ticker import FormatStrFormatter\n",
    "from matplotlib.ticker import StrMethodFormatter\n",
    "import datetime"
   ]
  },
  {
   "cell_type": "markdown",
   "metadata": {},
   "source": [
    "`astropy.coordinates.SkyCoord.from_name` uses the SIMBAD Astronomical Database to resolve object\n",
    "names and retrieve coordinates.\n",
    "\n",
    "Get the coordinates of Cen A:"
   ]
  },
  {
   "cell_type": "code",
   "execution_count": 4,
   "metadata": {},
   "outputs": [],
   "source": [
    "CenA = SkyCoord.from_name('Cen A')"
   ]
  },
  {
   "cell_type": "markdown",
   "metadata": {},
   "source": [
    "Use `astropy.coordinates.EarthLocation` to provide the South Pole's location at a given time. For this example we use the whole year of 2015.\n",
    "\n"
   ]
  },
  {
   "cell_type": "code",
   "execution_count": 5,
   "metadata": {},
   "outputs": [],
   "source": [
    "south_pole = EarthLocation(lat=-90.0*u.deg, lon=-74.22*u.deg, height=-30*u.m)\n",
    "utcoffset = -0*u.hour  # No UTC offset, as the South Pole uses UTC\n",
    "time = Time('2013-1-01 00:00:00') - utcoffset"
   ]
  },
  {
   "cell_type": "markdown",
   "metadata": {},
   "source": [
    "Use `astropy.coordinates` to find the Alt, Az coordinates of Cen A at as\n",
    "observed from the South Pole on the first day of 2015."
   ]
  },
  {
   "cell_type": "code",
   "execution_count": 11,
   "metadata": {},
   "outputs": [
    {
     "name": "stdout",
     "output_type": "stream",
     "text": [
      "Cen A's Altitude = 4.3e+01 deg\n"
     ]
    }
   ],
   "source": [
    "CenAaltaz = CenA.transform_to(AltAz(obstime=time,location=south_pole))\n",
    "print(\"Cen A's Altitude = {0.alt:.2}\".format(CenAaltaz))"
   ]
  },
  {
   "cell_type": "markdown",
   "metadata": {},
   "source": [
    "Find the alt,az coordinates of Cen A at 365*5 times evenly spaced between Jan 1st and Dec 31, 2015\n",
    "\n"
   ]
  },
  {
   "cell_type": "code",
   "execution_count": 13,
   "metadata": {},
   "outputs": [],
   "source": [
    "endtime = Time('2016-12-31 23:00:00') - utcoffset\n",
    "delta_endtime = np.linspace(0, 365*4, 365*40)*u.day\n",
    "frame_endtime = AltAz(obstime=endtime+delta_endtime,\n",
    "                          location=south_pole)\n",
    "CenAaltazs_endtime = CenA.transform_to(frame_endtime)"
   ]
  },
  {
   "cell_type": "markdown",
   "metadata": {},
   "source": [
    "Use  `~astropy.coordinates.get_sun` to find the location of the Sun at 365*5\n",
    "evenly spaced times between Jan 1st and Dec 31, 2015:\n",
    "\n"
   ]
  },
  {
   "cell_type": "code",
   "execution_count": 14,
   "metadata": {},
   "outputs": [],
   "source": [
    "from astropy.coordinates import get_sun\n",
    "delta_endtime = np.linspace(0, 365*4, 365*40)*u.day\n",
    "timestimeRange = endtime + delta_endtime\n",
    "frametimeRange = AltAz(obstime=timestimeRange, location=south_pole)\n",
    "sunaltazstimeRange = get_sun(timestimeRange).transform_to(frametimeRange)"
   ]
  },
  {
   "cell_type": "markdown",
   "metadata": {},
   "source": [
    "Do the same with `~astropy.coordinates.get_moon` to find when the moon is\n",
    "up. Be aware that this will need to download a 10MB file from the internet\n",
    "to get a precise location of the moon.\n",
    "\n"
   ]
  },
  {
   "cell_type": "code",
   "execution_count": 15,
   "metadata": {},
   "outputs": [],
   "source": [
    "from astropy.coordinates import get_moon\n",
    "moontimeRange = get_moon(timestimeRange)\n",
    "moonaltazstimeRange = moontimeRange.transform_to(frametimeRange)"
   ]
  },
  {
   "cell_type": "markdown",
   "metadata": {},
   "source": [
    "Find the alt,az coordinates of Cen A at those same times:\n",
    "\n"
   ]
  },
  {
   "cell_type": "code",
   "execution_count": 16,
   "metadata": {},
   "outputs": [],
   "source": [
    "CenAaltazstimeRange = CenA.transform_to(frametimeRange)"
   ]
  },
  {
   "cell_type": "markdown",
   "metadata": {},
   "source": [
    "Make a figure illustrating the altitudes of Cen A, the Sun and the Moon, as well as when the night starts at the South Pole, over that time:\n",
    "\n"
   ]
  },
  {
   "cell_type": "code",
   "execution_count": 17,
   "metadata": {},
   "outputs": [
    {
     "data": {
      "text/plain": [
       "Text(0.5,1,'Sun, Moon and Cen A as seen from the South Pole')"
      ]
     },
     "execution_count": 17,
     "metadata": {},
     "output_type": "execute_result"
    },
    {
     "data": {
      "image/png": "[encoded data removed]",
      "text/plain": [
       "<Figure size 576x288 with 2 Axes>"
      ]
     },
     "metadata": {},
     "output_type": "display_data"
    }
   ],
   "source": [
    "plt.figure(figsize=(8,4))\n",
    "plt.plot(delta_endtime, sunaltazstimeRange.alt, color='r', label='Sun')\n",
    "# plt.plot(delta_endtime, moonaltazstimeRange.alt, color=[0.75]*3, ls='--', label='Moon')\n",
    "plt.scatter(delta_endtime, CenAaltazstimeRange.alt,\n",
    "            c=CenAaltazstimeRange.az, label='Cen A', lw=0, s=8,\n",
    "            cmap='viridis')\n",
    "plt.fill_between(delta_endtime, -30*u.deg, 90*u.deg,\n",
    "                 sunaltazstimeRange.alt < -0*u.deg, color='0.5', zorder=0, label=\"Dusk\")\n",
    "plt.fill_between(delta_endtime, -30*u.deg, 90*u.deg,\n",
    "                 sunaltazstimeRange.alt < -18*u.deg, color='k', zorder=0, label=\"Night\")\n",
    "plt.colorbar().set_label('Azimuth [deg]')\n",
    "plt.legend(loc='upper left')\n",
    "# plt.xlim(0*u.day, 365*u.day)\n",
    "# plt.xticks((np.arange(13)*2-12)*u.hour)\n",
    "plt.ylim(-30*u.deg, 90*u.deg)\n",
    "plt.xlabel('Days of the year in 2015')\n",
    "plt.ylabel('Altitude [deg]')\n",
    "plt.title(\"Sun, Moon and Cen A as seen from the South Pole\", fontsize=14)\n",
    "# plt.savefig(\"CenA_plus_MS.png\",dpi=200)"
   ]
  },
  {
   "cell_type": "markdown",
   "metadata": {},
   "source": [
    "Make a zoomed version of the altitude as a function of time for Cen A"
   ]
  },
  {
   "cell_type": "code",
   "execution_count": 21,
   "metadata": {},
   "outputs": [
    {
     "data": {
      "image/png": "[encoded data removed]",
      "text/plain": [
       "<Figure size 720x360 with 1 Axes>"
      ]
     },
     "metadata": {},
     "output_type": "display_data"
    }
   ],
   "source": [
    "dates = np.arange(datetime.datetime(2013, 1,1), datetime.datetime(2016, 12,31), datetime.timedelta(days=1/10)) #create manual entry for dates\n",
    "plt.figure(figsize=(10, 5))\n",
    "# plt.scatter(dates, CenAaltazstimeRange.alt,\n",
    "#             c=CenAaltazstimeRange.az, label='Cen A', lw=0, s=8,\n",
    "#             cmap='viridis')\n",
    "plt.plot(dates,CenAaltazstimeRange.alt)\n",
    "# plt.colorbar().set_label('Azimuth [deg]')\n",
    "plt.gca().yaxis.set_major_formatter(StrMethodFormatter('{x:,.3f}')) \n",
    "# plt.yticks(np.arange(43.09, 43.12, step=0.01)*u.deg)\n",
    "plt.xlabel('Date')\n",
    "plt.ylabel('Altitude [deg]')\n",
    "plt.grid()\n",
    "plt.title(\"Cen A as seen from A2\")\n",
    "plt.savefig(\"CenA_alt_A23dates.pdf\")"
   ]
  },
  {
   "cell_type": "markdown",
   "metadata": {},
   "source": [
    "Notice that it barely moves wrt to ARA!"
   ]
  },
  {
   "cell_type": "markdown",
   "metadata": {},
   "source": [
    "Now make a plot of the azimuth angle (phi angle for theta) as a function of time. We expect this to oscillate, with a period of 1 day as the Earth rotates"
   ]
  },
  {
   "cell_type": "code",
   "execution_count": 13,
   "metadata": {},
   "outputs": [
    {
     "data": {
      "image/png": "[encoded data removed]",
      "text/plain": [
       "<Figure size 576x360 with 2 Axes>"
      ]
     },
     "metadata": {},
     "output_type": "display_data"
    }
   ],
   "source": [
    "fig, axes = plt.subplots(nrows=2, ncols=1, figsize=(8, 5), sharex=True)\n",
    "axes[0].plot(dates,CenAaltazstimeRange.az,lw = 0.5,  label = \"Cen A\")\n",
    "\n",
    "# plt.plot(delta_endtime[::4],CenAaltazstimeRange.az[::4]) #I'm plotting every 4 points, as the plot gets really busy\n",
    "# axes[0].set_xlabel('Days of the year in 2015')\n",
    "axes[0].set_ylabel('Azimuth [deg]')\n",
    "# plt.title(\"Cen A as seen from the South Pole\", fontsize=14)\n",
    "axes[0].yaxis.set_major_formatter(StrMethodFormatter('{x:,.0f}')) \n",
    "# plt.xlim(0,30)\n",
    "axes[0].legend()\n",
    "axes[0].grid()\n",
    "\n",
    "axes[1].plot(dates,CenAaltazstimeRange.zen, lw = 3, label = \"Cen A\")\n",
    "axes[1].yaxis.set_major_formatter(StrMethodFormatter('{x:,.3f}'))\n",
    "axes[1].set_ylabel('Zenith [deg]')\n",
    "axes[1].set_xlabel('Date')\n",
    "axes[1].set_yticks(np.arange(46.87, 46.9, step=0.01)*u.deg)\n",
    "\n",
    "axes[1].legend()\n",
    "axes[1].grid()\n",
    "\n",
    "\n",
    "plt.tight_layout()\n",
    "# plt.savefig(\"CenA_az.png\",dpi=200)"
   ]
  },
  {
   "cell_type": "markdown",
   "metadata": {},
   "source": [
    "# Where is the Sun?"
   ]
  },
  {
   "cell_type": "code",
   "execution_count": 9,
   "metadata": {},
   "outputs": [],
   "source": [
    "from astropy.coordinates import get_sun\n",
    "\n",
    "sun = pd.read_csv(\"../data/Sun.txt\")\n",
    "sun2 = pd.read_csv(\"/users/PAS0654/osu8354/ARA_cvmfs/source/AraRoot/analysis/ARA_analysis/ARA_Reconstruction/posSun.csv\")"
   ]
  },
  {
   "cell_type": "code",
   "execution_count": 10,
   "metadata": {},
   "outputs": [
    {
     "data": {
      "text/html": [
       "<div>\n",
       "<style scoped>\n",
       "    .dataframe tbody tr th:only-of-type {\n",
       "        vertical-align: middle;\n",
       "    }\n",
       "\n",
       "    .dataframe tbody tr th {\n",
       "        vertical-align: top;\n",
       "    }\n",
       "\n",
       "    .dataframe thead th {\n",
       "        text-align: right;\n",
       "    }\n",
       "</style>\n",
       "<table border=\"1\" class=\"dataframe\">\n",
       "  <thead>\n",
       "    <tr style=\"text-align: right;\">\n",
       "      <th></th>\n",
       "      <th>year</th>\n",
       "      <th>month</th>\n",
       "      <th>day</th>\n",
       "      <th>hour</th>\n",
       "      <th>min</th>\n",
       "      <th>second</th>\n",
       "      <th>minsincemidnight</th>\n",
       "      <th>phi</th>\n",
       "      <th>theta</th>\n",
       "      <th>predictphi</th>\n",
       "      <th>predicttheta</th>\n",
       "    </tr>\n",
       "  </thead>\n",
       "  <tbody>\n",
       "    <tr>\n",
       "      <th>2318</th>\n",
       "      <td>2011</td>\n",
       "      <td>2</td>\n",
       "      <td>15</td>\n",
       "      <td>2</td>\n",
       "      <td>58</td>\n",
       "      <td>6</td>\n",
       "      <td>178</td>\n",
       "      <td>-49.226944</td>\n",
       "      <td>21</td>\n",
       "      <td>-49.033963</td>\n",
       "      <td>77.198489</td>\n",
       "    </tr>\n",
       "    <tr>\n",
       "      <th>2319</th>\n",
       "      <td>2011</td>\n",
       "      <td>2</td>\n",
       "      <td>15</td>\n",
       "      <td>2</td>\n",
       "      <td>58</td>\n",
       "      <td>17</td>\n",
       "      <td>178</td>\n",
       "      <td>-48.226944</td>\n",
       "      <td>22</td>\n",
       "      <td>-49.033963</td>\n",
       "      <td>77.198545</td>\n",
       "    </tr>\n",
       "    <tr>\n",
       "      <th>2320</th>\n",
       "      <td>2011</td>\n",
       "      <td>2</td>\n",
       "      <td>15</td>\n",
       "      <td>2</td>\n",
       "      <td>58</td>\n",
       "      <td>21</td>\n",
       "      <td>178</td>\n",
       "      <td>-47.226944</td>\n",
       "      <td>26</td>\n",
       "      <td>-49.033963</td>\n",
       "      <td>77.198565</td>\n",
       "    </tr>\n",
       "    <tr>\n",
       "      <th>2321</th>\n",
       "      <td>2011</td>\n",
       "      <td>2</td>\n",
       "      <td>15</td>\n",
       "      <td>2</td>\n",
       "      <td>58</td>\n",
       "      <td>48</td>\n",
       "      <td>178</td>\n",
       "      <td>-47.226944</td>\n",
       "      <td>22</td>\n",
       "      <td>-49.033963</td>\n",
       "      <td>77.198703</td>\n",
       "    </tr>\n",
       "    <tr>\n",
       "      <th>2322</th>\n",
       "      <td>2011</td>\n",
       "      <td>2</td>\n",
       "      <td>15</td>\n",
       "      <td>2</td>\n",
       "      <td>58</td>\n",
       "      <td>59</td>\n",
       "      <td>178</td>\n",
       "      <td>-48.226944</td>\n",
       "      <td>23</td>\n",
       "      <td>-49.033963</td>\n",
       "      <td>77.198759</td>\n",
       "    </tr>\n",
       "  </tbody>\n",
       "</table>\n",
       "</div>"
      ],
      "text/plain": [
       "      year  month  day  hour  min  second  minsincemidnight        phi  theta  \\\n",
       "2318  2011      2   15     2   58       6               178 -49.226944     21   \n",
       "2319  2011      2   15     2   58      17               178 -48.226944     22   \n",
       "2320  2011      2   15     2   58      21               178 -47.226944     26   \n",
       "2321  2011      2   15     2   58      48               178 -47.226944     22   \n",
       "2322  2011      2   15     2   58      59               178 -48.226944     23   \n",
       "\n",
       "      predictphi  predicttheta  \n",
       "2318  -49.033963     77.198489  \n",
       "2319  -49.033963     77.198545  \n",
       "2320  -49.033963     77.198565  \n",
       "2321  -49.033963     77.198703  \n",
       "2322  -49.033963     77.198759  "
      ]
     },
     "execution_count": 10,
     "metadata": {},
     "output_type": "execute_result"
    }
   ],
   "source": [
    "sun.tail()"
   ]
  },
  {
   "cell_type": "code",
   "execution_count": 11,
   "metadata": {},
   "outputs": [],
   "source": [
    "sun[\"minute\"] = sun[\"min\"]"
   ]
  },
  {
   "cell_type": "code",
   "execution_count": 12,
   "metadata": {},
   "outputs": [],
   "source": [
    "sun[\"date\"] = pd.to_datetime(sun[['year', 'month', 'day', 'hour', 'minute']])"
   ]
  },
  {
   "cell_type": "code",
   "execution_count": 13,
   "metadata": {},
   "outputs": [],
   "source": [
    "from astropy.coordinates import get_sun\n",
    "\n",
    "time = Time('2011-2-15 01:00:00') - utcoffset\n",
    "endtime = Time('2011-3-15 0:02:00') - utcoffset\n",
    "delta_endtime = np.linspace(0, 60, 60*2)*u.minute\n",
    "frame_endtime = AltAz(obstime=time+delta_endtime,\n",
    "                          location=south_pole)\n",
    "\n",
    "timestimeRange = time + delta_endtime\n",
    "frametimeRange = AltAz(obstime=timestimeRange, location=south_pole)\n",
    "sunaltazstimeRange = get_sun(timestimeRange).transform_to(frametimeRange)\n",
    "dates = np.arange(datetime.datetime(2011,2,15,2,0), datetime.datetime(2011,2,15,3,0), datetime.timedelta(minutes=1/2),) #create manual entry for dates\n"
   ]
  },
  {
   "cell_type": "code",
   "execution_count": 22,
   "metadata": {},
   "outputs": [
    {
     "data": {
      "image/png": "[encoded data removed]",
      "text/plain": [
       "<Figure size 720x288 with 1 Axes>"
      ]
     },
     "metadata": {},
     "output_type": "display_data"
    }
   ],
   "source": [
    "import matplotlib.dates as mdates\n",
    "\n",
    "plt.figure(figsize=(10,4))\n",
    "plt.gca().xaxis.set_major_formatter(mdates.DateFormatter('%H:%M'))\n",
    "plt.gca().xaxis.set_major_locator(mdates.MinuteLocator(interval=5))\n",
    "plt.plot(dates, 180*u.deg-sunaltazstimeRange.az-0.*u.deg, color='r', lw = 2, label='Sun Astropy')\n",
    "# plt.plot(sun[\"date\"], sun[\"predictphi\"], label = \"Sun Brian\",lw = 2)\n",
    "# plt.plot(dates, sun2.azimuth,\"--\", label = \"Sun AraRoot\", color = \"violet\",lw = 2)\n",
    "plt.scatter(sun[\"date\"], sun[\"phi\"], label = \"Solar flare data\", alpha = 0.5, color = \"C0\")\n",
    "plt.gcf().autofmt_xdate()\n",
    "plt.legend(loc='upper left')\n",
    "plt.ylabel('Azimuth [deg]')\n",
    "plt.grid()\n",
    "# plt.yticks(np.arange(-60, -38, step=2)*u.deg)\n",
    "# plt.xlim(-30,60)\n",
    "plt.ylim(-65,-45)\n",
    "plt.xlabel(\"UTC time on Feb 15 2011\")\n",
    "plt.tight_layout()\n",
    "# plt.savefig(\"sunPos_comparison.pdf\", dpi = 200)"
   ]
  },
  {
   "cell_type": "code",
   "execution_count": 24,
   "metadata": {},
   "outputs": [
    {
     "data": {
      "image/png": "[encoded data removed]",
      "text/plain": [
       "<Figure size 720x288 with 1 Axes>"
      ]
     },
     "metadata": {},
     "output_type": "display_data"
    }
   ],
   "source": [
    "plt.figure(figsize=(10,4))\n",
    "plt.gca().xaxis.set_major_formatter(mdates.DateFormatter('%H:%M'))\n",
    "plt.gca().xaxis.set_major_locator(mdates.MinuteLocator(interval=5))\n",
    "plt.plot(dates, sunaltazstimeRange.zen, color='r', lw = 2, label='Sun Astropy')\n",
    "# plt.plot(sun[\"date\"], sun[\"predictphi\"], label = \"Sun Brian\",lw = 2)\n",
    "# plt.plot(dates, sun2.azimuth,\"--\", label = \"Sun AraRoot\", color = \"violet\",lw = 2)\n",
    "plt.gcf().autofmt_xdate()\n",
    "\n",
    "plt.legend(loc='upper left')\n",
    "plt.ylabel('Zenith [deg]')\n",
    "plt.grid()\n",
    "plt.gca().yaxis.set_major_formatter(FormatStrFormatter('%g'))\n",
    "plt.yticks(np.arange(77.1, 77.2, step=0.01)*u.deg)\n",
    "# plt.xlim(-30,60)\n",
    "# plt.ylim(-65,-45)\n",
    "plt.xlabel(\"UTC time on Feb 15 2011\")\n",
    "plt.tight_layout()\n",
    "# plt.savefig(\"sunZenith_comparison.pdf\", dpi = 200)"
   ]
  },
  {
   "cell_type": "code",
   "execution_count": null,
   "metadata": {},
   "outputs": [],
   "source": []
  },
  {
   "cell_type": "code",
   "execution_count": 19,
   "metadata": {},
   "outputs": [],
   "source": [
    "sun = pd.read_csv(\"./data/Sun.txt\")\n",
    "sun2 = pd.read_csv(\"/users/PAS0654/osu8354/ARA_cvmfs/source/AraRoot/analysis/ARA_analysis/ARA_Reconstruction/posSun.csv\")"
   ]
  },
  {
   "cell_type": "code",
   "execution_count": 73,
   "metadata": {},
   "outputs": [
    {
     "data": {
      "text/html": [
       "<div>\n",
       "<style scoped>\n",
       "    .dataframe tbody tr th:only-of-type {\n",
       "        vertical-align: middle;\n",
       "    }\n",
       "\n",
       "    .dataframe tbody tr th {\n",
       "        vertical-align: top;\n",
       "    }\n",
       "\n",
       "    .dataframe thead th {\n",
       "        text-align: right;\n",
       "    }\n",
       "</style>\n",
       "<table border=\"1\" class=\"dataframe\">\n",
       "  <thead>\n",
       "    <tr style=\"text-align: right;\">\n",
       "      <th></th>\n",
       "      <th>year</th>\n",
       "      <th>month</th>\n",
       "      <th>day</th>\n",
       "      <th>hour</th>\n",
       "      <th>min</th>\n",
       "      <th>second</th>\n",
       "      <th>minsincemidnight</th>\n",
       "      <th>phi</th>\n",
       "      <th>theta</th>\n",
       "      <th>predictphi</th>\n",
       "      <th>predicttheta</th>\n",
       "      <th>minute</th>\n",
       "      <th>date</th>\n",
       "    </tr>\n",
       "  </thead>\n",
       "  <tbody>\n",
       "    <tr>\n",
       "      <th>2318</th>\n",
       "      <td>2011</td>\n",
       "      <td>2</td>\n",
       "      <td>15</td>\n",
       "      <td>2</td>\n",
       "      <td>58</td>\n",
       "      <td>6</td>\n",
       "      <td>178</td>\n",
       "      <td>-49.226944</td>\n",
       "      <td>21</td>\n",
       "      <td>-49.033963</td>\n",
       "      <td>77.198489</td>\n",
       "      <td>58</td>\n",
       "      <td>2011-02-15 02:58:00</td>\n",
       "    </tr>\n",
       "    <tr>\n",
       "      <th>2319</th>\n",
       "      <td>2011</td>\n",
       "      <td>2</td>\n",
       "      <td>15</td>\n",
       "      <td>2</td>\n",
       "      <td>58</td>\n",
       "      <td>17</td>\n",
       "      <td>178</td>\n",
       "      <td>-48.226944</td>\n",
       "      <td>22</td>\n",
       "      <td>-49.033963</td>\n",
       "      <td>77.198545</td>\n",
       "      <td>58</td>\n",
       "      <td>2011-02-15 02:58:00</td>\n",
       "    </tr>\n",
       "    <tr>\n",
       "      <th>2320</th>\n",
       "      <td>2011</td>\n",
       "      <td>2</td>\n",
       "      <td>15</td>\n",
       "      <td>2</td>\n",
       "      <td>58</td>\n",
       "      <td>21</td>\n",
       "      <td>178</td>\n",
       "      <td>-47.226944</td>\n",
       "      <td>26</td>\n",
       "      <td>-49.033963</td>\n",
       "      <td>77.198565</td>\n",
       "      <td>58</td>\n",
       "      <td>2011-02-15 02:58:00</td>\n",
       "    </tr>\n",
       "    <tr>\n",
       "      <th>2321</th>\n",
       "      <td>2011</td>\n",
       "      <td>2</td>\n",
       "      <td>15</td>\n",
       "      <td>2</td>\n",
       "      <td>58</td>\n",
       "      <td>48</td>\n",
       "      <td>178</td>\n",
       "      <td>-47.226944</td>\n",
       "      <td>22</td>\n",
       "      <td>-49.033963</td>\n",
       "      <td>77.198703</td>\n",
       "      <td>58</td>\n",
       "      <td>2011-02-15 02:58:00</td>\n",
       "    </tr>\n",
       "    <tr>\n",
       "      <th>2322</th>\n",
       "      <td>2011</td>\n",
       "      <td>2</td>\n",
       "      <td>15</td>\n",
       "      <td>2</td>\n",
       "      <td>58</td>\n",
       "      <td>59</td>\n",
       "      <td>178</td>\n",
       "      <td>-48.226944</td>\n",
       "      <td>23</td>\n",
       "      <td>-49.033963</td>\n",
       "      <td>77.198759</td>\n",
       "      <td>58</td>\n",
       "      <td>2011-02-15 02:58:00</td>\n",
       "    </tr>\n",
       "  </tbody>\n",
       "</table>\n",
       "</div>"
      ],
      "text/plain": [
       "      year  month  day  hour  min  second  minsincemidnight        phi  theta  \\\n",
       "2318  2011      2   15     2   58       6               178 -49.226944     21   \n",
       "2319  2011      2   15     2   58      17               178 -48.226944     22   \n",
       "2320  2011      2   15     2   58      21               178 -47.226944     26   \n",
       "2321  2011      2   15     2   58      48               178 -47.226944     22   \n",
       "2322  2011      2   15     2   58      59               178 -48.226944     23   \n",
       "\n",
       "      predictphi  predicttheta  minute                date  \n",
       "2318  -49.033963     77.198489      58 2011-02-15 02:58:00  \n",
       "2319  -49.033963     77.198545      58 2011-02-15 02:58:00  \n",
       "2320  -49.033963     77.198565      58 2011-02-15 02:58:00  \n",
       "2321  -49.033963     77.198703      58 2011-02-15 02:58:00  \n",
       "2322  -49.033963     77.198759      58 2011-02-15 02:58:00  "
      ]
     },
     "execution_count": 73,
     "metadata": {},
     "output_type": "execute_result"
    }
   ],
   "source": [
    "sun.tail()"
   ]
  },
  {
   "cell_type": "code",
   "execution_count": 48,
   "metadata": {},
   "outputs": [],
   "source": [
    "sun[\"minute\"] = sun[\"min\"]"
   ]
  },
  {
   "cell_type": "code",
   "execution_count": 49,
   "metadata": {},
   "outputs": [],
   "source": [
    "sun[\"date\"] = pd.to_datetime(sun[['year', 'month', 'day', 'hour', 'minute']])"
   ]
  },
  {
   "cell_type": "code",
   "execution_count": 16,
   "metadata": {},
   "outputs": [],
   "source": [
    "TB = np.array([-0.5986468972,0.8010128835,-0.000399302])"
   ]
  },
  {
   "cell_type": "code",
   "execution_count": 21,
   "metadata": {},
   "outputs": [
    {
     "data": {
      "text/plain": [
       "126.77305555392341"
      ]
     },
     "execution_count": 21,
     "metadata": {},
     "output_type": "execute_result"
    }
   ],
   "source": [
    "np.degrees(np.arctan2(TB[1],TB[0]))"
   ]
  },
  {
   "cell_type": "code",
   "execution_count": 11,
   "metadata": {},
   "outputs": [],
   "source": [
    "def convertToARACoord(phi_AstroPy):\n",
    "    phi_CCW = np.mod(np.pi/2-phi_AstroPy,2*np.pi) # Convert from CW coord. system to CCW\n",
    "    phi_ARA = np.mod((phi_CCW+np.pi),2*np.pi)-np.pi/2#+np.pi/2 #Convert from [0,360] to [-180,180]+ 90 deg out of phase with the ISO 6709\n",
    "    return phi_ARA\n"
   ]
  },
  {
   "cell_type": "markdown",
   "metadata": {},
   "source": [
    "## Cross check: convert ARA coordinates to AltAz"
   ]
  },
  {
   "cell_type": "code",
   "execution_count": 12,
   "metadata": {},
   "outputs": [
    {
     "data": {
      "text/html": [
       "<div>\n",
       "<style scoped>\n",
       "    .dataframe tbody tr th:only-of-type {\n",
       "        vertical-align: middle;\n",
       "    }\n",
       "\n",
       "    .dataframe tbody tr th {\n",
       "        vertical-align: top;\n",
       "    }\n",
       "\n",
       "    .dataframe thead th {\n",
       "        text-align: right;\n",
       "    }\n",
       "</style>\n",
       "<table border=\"1\" class=\"dataframe\">\n",
       "  <thead>\n",
       "    <tr style=\"text-align: right;\">\n",
       "      <th></th>\n",
       "      <th>year</th>\n",
       "      <th>month</th>\n",
       "      <th>day</th>\n",
       "      <th>hour</th>\n",
       "      <th>min</th>\n",
       "      <th>second</th>\n",
       "      <th>minsincemidnight</th>\n",
       "      <th>phi</th>\n",
       "      <th>theta</th>\n",
       "      <th>predictphi</th>\n",
       "      <th>predicttheta</th>\n",
       "      <th>minute</th>\n",
       "      <th>date</th>\n",
       "    </tr>\n",
       "  </thead>\n",
       "  <tbody>\n",
       "    <tr>\n",
       "      <th>2318</th>\n",
       "      <td>2011</td>\n",
       "      <td>2</td>\n",
       "      <td>15</td>\n",
       "      <td>2</td>\n",
       "      <td>58</td>\n",
       "      <td>6</td>\n",
       "      <td>178</td>\n",
       "      <td>-49.226944</td>\n",
       "      <td>21</td>\n",
       "      <td>-49.033963</td>\n",
       "      <td>77.198489</td>\n",
       "      <td>58</td>\n",
       "      <td>2011-02-15 02:58:00</td>\n",
       "    </tr>\n",
       "    <tr>\n",
       "      <th>2319</th>\n",
       "      <td>2011</td>\n",
       "      <td>2</td>\n",
       "      <td>15</td>\n",
       "      <td>2</td>\n",
       "      <td>58</td>\n",
       "      <td>17</td>\n",
       "      <td>178</td>\n",
       "      <td>-48.226944</td>\n",
       "      <td>22</td>\n",
       "      <td>-49.033963</td>\n",
       "      <td>77.198545</td>\n",
       "      <td>58</td>\n",
       "      <td>2011-02-15 02:58:00</td>\n",
       "    </tr>\n",
       "    <tr>\n",
       "      <th>2320</th>\n",
       "      <td>2011</td>\n",
       "      <td>2</td>\n",
       "      <td>15</td>\n",
       "      <td>2</td>\n",
       "      <td>58</td>\n",
       "      <td>21</td>\n",
       "      <td>178</td>\n",
       "      <td>-47.226944</td>\n",
       "      <td>26</td>\n",
       "      <td>-49.033963</td>\n",
       "      <td>77.198565</td>\n",
       "      <td>58</td>\n",
       "      <td>2011-02-15 02:58:00</td>\n",
       "    </tr>\n",
       "    <tr>\n",
       "      <th>2321</th>\n",
       "      <td>2011</td>\n",
       "      <td>2</td>\n",
       "      <td>15</td>\n",
       "      <td>2</td>\n",
       "      <td>58</td>\n",
       "      <td>48</td>\n",
       "      <td>178</td>\n",
       "      <td>-47.226944</td>\n",
       "      <td>22</td>\n",
       "      <td>-49.033963</td>\n",
       "      <td>77.198703</td>\n",
       "      <td>58</td>\n",
       "      <td>2011-02-15 02:58:00</td>\n",
       "    </tr>\n",
       "    <tr>\n",
       "      <th>2322</th>\n",
       "      <td>2011</td>\n",
       "      <td>2</td>\n",
       "      <td>15</td>\n",
       "      <td>2</td>\n",
       "      <td>58</td>\n",
       "      <td>59</td>\n",
       "      <td>178</td>\n",
       "      <td>-48.226944</td>\n",
       "      <td>23</td>\n",
       "      <td>-49.033963</td>\n",
       "      <td>77.198759</td>\n",
       "      <td>58</td>\n",
       "      <td>2011-02-15 02:58:00</td>\n",
       "    </tr>\n",
       "  </tbody>\n",
       "</table>\n",
       "</div>"
      ],
      "text/plain": [
       "      year  month  day  hour  min  second  minsincemidnight        phi  theta  \\\n",
       "2318  2011      2   15     2   58       6               178 -49.226944     21   \n",
       "2319  2011      2   15     2   58      17               178 -48.226944     22   \n",
       "2320  2011      2   15     2   58      21               178 -47.226944     26   \n",
       "2321  2011      2   15     2   58      48               178 -47.226944     22   \n",
       "2322  2011      2   15     2   58      59               178 -48.226944     23   \n",
       "\n",
       "      predictphi  predicttheta  minute                date  \n",
       "2318  -49.033963     77.198489      58 2011-02-15 02:58:00  \n",
       "2319  -49.033963     77.198545      58 2011-02-15 02:58:00  \n",
       "2320  -49.033963     77.198565      58 2011-02-15 02:58:00  \n",
       "2321  -49.033963     77.198703      58 2011-02-15 02:58:00  \n",
       "2322  -49.033963     77.198759      58 2011-02-15 02:58:00  "
      ]
     },
     "execution_count": 12,
     "metadata": {},
     "output_type": "execute_result"
    }
   ],
   "source": [
    "sun.tail()"
   ]
  },
  {
   "cell_type": "code",
   "execution_count": 13,
   "metadata": {},
   "outputs": [],
   "source": [
    "def modInverse(phi):\n",
    "    a = np.mod(phi-np.pi, 2*np.pi)+np.pi\n",
    "    b = np.mod(-a+np.pi/2,2*np.pi)+np.pi/2\n",
    "    return b"
   ]
  },
  {
   "cell_type": "code",
   "execution_count": 14,
   "metadata": {},
   "outputs": [],
   "source": [
    "az = np.degrees(modInverse(np.radians(sun.predictphi)))\n",
    "\n",
    "az_convert = convertToARACoord(np.radians(np.array(sunaltazstimeRange.az/u.deg)))\n",
    "az_convert = np.degrees(modInverse((az_convert)))"
   ]
  },
  {
   "cell_type": "code",
   "execution_count": 27,
   "metadata": {},
   "outputs": [
    {
     "data": {
      "text/plain": [
       "[<matplotlib.lines.Line2D at 0x2b8ed8cc56a0>]"
      ]
     },
     "execution_count": 27,
     "metadata": {},
     "output_type": "execute_result"
    },
    {
     "data": {
      "image/png": "[encoded data removed]",
      "text/plain": [
       "<Figure size 432x288 with 1 Axes>"
      ]
     },
     "metadata": {},
     "output_type": "display_data"
    }
   ],
   "source": [
    "plt.plot(dates, sunaltazstimeRange.az, color='r', lw = 2, label='Sun Astropy')\n",
    "plt.plot(sun[\"date\"], az, color='b', lw = 2, label='Sun Astropy')\n",
    "plt.plot(dates, az_convert, color='k',ls = \"--\", lw = 2, label='Sun Astropy')"
   ]
  },
  {
   "cell_type": "code",
   "execution_count": 16,
   "metadata": {},
   "outputs": [],
   "source": [
    "from pynverse import inversefunc"
   ]
  },
  {
   "cell_type": "code",
   "execution_count": 20,
   "metadata": {},
   "outputs": [
    {
     "data": {
      "text/plain": [
       "array(1.57079633)"
      ]
     },
     "execution_count": 20,
     "metadata": {},
     "output_type": "execute_result"
    }
   ],
   "source": [
    "inversefunc(convertToARACoord)(np.pi/2)"
   ]
  },
  {
   "cell_type": "code",
   "execution_count": 21,
   "metadata": {},
   "outputs": [
    {
     "data": {
      "text/latex": [
       "$242^\\circ45{}^\\prime29.5723{}^{\\prime\\prime}$"
      ],
      "text/plain": [
       "<Longitude 242.75821452 deg>"
      ]
     },
     "execution_count": 21,
     "metadata": {},
     "output_type": "execute_result"
    }
   ],
   "source": [
    "sunaltazstimeRange.az[0]"
   ]
  },
  {
   "cell_type": "code",
   "execution_count": 20,
   "metadata": {},
   "outputs": [
    {
     "data": {
      "text/latex": [
       "$242^\\circ45{}^\\prime29.5723{}^{\\prime\\prime}$"
      ],
      "text/plain": [
       "<Angle 242.75821452 deg>"
      ]
     },
     "execution_count": 20,
     "metadata": {},
     "output_type": "execute_result"
    }
   ],
   "source": [
    "np.degrees(sunaltazstimeRange.az[0])"
   ]
  },
  {
   "cell_type": "code",
   "execution_count": null,
   "metadata": {},
   "outputs": [],
   "source": []
  }
 ],
 "metadata": {
  "kernelspec": {
   "display_name": "Python 3.6 (Conda 5.2) [python/3.6-conda5.2]",
   "language": "python",
   "name": "sys_python36conda"
  },
  "language_info": {
   "codemirror_mode": {
    "name": "ipython",
    "version": 3
   },
   "file_extension": ".py",
   "mimetype": "text/x-python",
   "name": "python",
   "nbconvert_exporter": "python",
   "pygments_lexer": "ipython3",
   "version": "3.6.6"
  }
 },
 "nbformat": 4,
 "nbformat_minor": 4
}
