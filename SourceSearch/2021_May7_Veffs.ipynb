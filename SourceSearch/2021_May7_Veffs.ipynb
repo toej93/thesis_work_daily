{
 "cells": [
  {
   "cell_type": "markdown",
   "metadata": {},
   "source": [
    "# Get effective areas/volumes"
   ]
  },
  {
   "cell_type": "markdown",
   "metadata": {},
   "source": [
    "### May 7, 2021"
   ]
  },
  {
   "cell_type": "markdown",
   "metadata": {},
   "source": [
    "## Code"
   ]
  },
  {
   "cell_type": "code",
   "execution_count": 1,
   "metadata": {},
   "outputs": [],
   "source": [
    "import sys\n",
    "import csv\n",
    "# sys.path.insert(0,\"/users/PCON0003/cond0068/.local/lib/python3.7/\")\n",
    "sys.path.append(\"/users/PAS0654/osu8354/ARA_cvmfs/root_build/lib/\") # go to parent dir\n",
    "sys.path.append(\"/users/PCON0003/cond0068/.local/lib/python3.7/site-packages/\")\n",
    "# sys.path.append(\"/users/PCON0003/cond0068/pyrex_sims/fromBen/thesis_work/pyrex-custom/analysis/custom/analysis/\")\n",
    "# import ROOT\n",
    "import math\n",
    "import numpy as np\n",
    "# from ROOT import TH1D,TF1, gRandom, gPad, gStyle\n",
    "import matplotlib as mpl\n",
    "import matplotlib.pyplot as plt\n",
    "# from ROOT import TChain, TSelector, TTree\n",
    "import os\n",
    "import matplotlib.colors as mcolors\n",
    "import scipy\n",
    "from matplotlib.colors import LogNorm\n",
    "import pandas as pd\n",
    "import seaborn as sns\n",
    "%matplotlib inline\n",
    "# sys.path.insert(1, \"/users/PAS0654/osu8354/ARA_cvmfs/source/AraRoot/analysis/ARA_analysis/SourceSearch\")\n",
    "# import deDisperse_util as util\n",
    "import matplotlib.colors as colors\n",
    "\n",
    "my_path_plots = os.path.abspath(\"./plots/\")\n",
    "import re\n"
   ]
  },
  {
   "cell_type": "code",
   "execution_count": 2,
   "metadata": {},
   "outputs": [],
   "source": [
    "# mpl.use('agg') \n",
    "mpl.rcParams['text.usetex'] = True\n",
    "mpl.rcParams['text.latex.unicode'] = True\n",
    "mpl.rcParams['mathtext.rm'] = 'Times New Roman'\n",
    "mpl.rcParams['mathtext.it'] = 'Times New Roman:italic'\n",
    "mpl.rcParams['mathtext.bf'] = 'Times New Roman:bold'\n",
    "\n",
    "mpl.rc('font', family='serif', size=12)\n",
    "mpl.rcParams['xtick.labelsize'] = 14\n",
    "mpl.rcParams['ytick.labelsize'] = 14\n",
    "mpl.rcParams['xtick.major.size'] = 5\n",
    "mpl.rcParams['ytick.major.size'] = 5\n",
    "\n",
    "mpl.rcParams['axes.titlesize'] = 18\n",
    "mpl.rcParams['axes.labelsize'] = 18\n",
    "# mpl.rc('font', size=16)\n",
    "mpl.rc('axes', titlesize=20)\n",
    "\n",
    "current_palette = sns.color_palette('colorblind', 10)\n",
    "import warnings\n",
    "warnings.filterwarnings(\"ignore\")\n"
   ]
  },
  {
   "cell_type": "markdown",
   "metadata": {},
   "source": [
    "# Get data"
   ]
  },
  {
   "cell_type": "code",
   "execution_count": 3,
   "metadata": {},
   "outputs": [],
   "source": [
    "colName=[\"Energy\", \"Aeff\", \"Err\", \"Nthrown\", \"Npassed\", \"weight_thrown\", \"Veff\",\"Err_Veff\"]\n",
    "\n",
    "folder = \"/users/PAS0654/osu8354/ARA_cvmfs/source/AraRoot/analysis/ARA_analysis/ARA_SourceSearch/sim_util/veff/veffs/\"\n",
    "veffs = pd.read_csv(folder+\"Veff_source_Search.txt\", names=colName)"
   ]
  },
  {
   "cell_type": "code",
   "execution_count": 4,
   "metadata": {},
   "outputs": [
    {
     "data": {
      "text/html": [
       "<div>\n",
       "<style scoped>\n",
       "    .dataframe tbody tr th:only-of-type {\n",
       "        vertical-align: middle;\n",
       "    }\n",
       "\n",
       "    .dataframe tbody tr th {\n",
       "        vertical-align: top;\n",
       "    }\n",
       "\n",
       "    .dataframe thead th {\n",
       "        text-align: right;\n",
       "    }\n",
       "</style>\n",
       "<table border=\"1\" class=\"dataframe\">\n",
       "  <thead>\n",
       "    <tr style=\"text-align: right;\">\n",
       "      <th></th>\n",
       "      <th>Energy</th>\n",
       "      <th>Aeff</th>\n",
       "      <th>Err</th>\n",
       "      <th>Nthrown</th>\n",
       "      <th>Npassed</th>\n",
       "      <th>weight_thrown</th>\n",
       "      <th>Veff</th>\n",
       "      <th>Err_Veff</th>\n",
       "    </tr>\n",
       "  </thead>\n",
       "  <tbody>\n",
       "    <tr>\n",
       "      <th>0</th>\n",
       "      <td>1.000000e+16</td>\n",
       "      <td>3.906901e+03</td>\n",
       "      <td>1.443047e+02</td>\n",
       "      <td>24040000</td>\n",
       "      <td>732.9002</td>\n",
       "      <td>24180460.0</td>\n",
       "      <td>0.002586</td>\n",
       "      <td>0.000096</td>\n",
       "    </tr>\n",
       "    <tr>\n",
       "      <th>1</th>\n",
       "      <td>3.162278e+16</td>\n",
       "      <td>5.891815e+04</td>\n",
       "      <td>8.226032e+02</td>\n",
       "      <td>24040000</td>\n",
       "      <td>5129.1600</td>\n",
       "      <td>24265360.0</td>\n",
       "      <td>0.024633</td>\n",
       "      <td>0.000344</td>\n",
       "    </tr>\n",
       "    <tr>\n",
       "      <th>2</th>\n",
       "      <td>1.000000e+17</td>\n",
       "      <td>4.492323e+05</td>\n",
       "      <td>3.224303e+03</td>\n",
       "      <td>24040000</td>\n",
       "      <td>19406.3500</td>\n",
       "      <td>24201290.0</td>\n",
       "      <td>0.121731</td>\n",
       "      <td>0.000874</td>\n",
       "    </tr>\n",
       "    <tr>\n",
       "      <th>3</th>\n",
       "      <td>3.162278e+17</td>\n",
       "      <td>1.929686e+06</td>\n",
       "      <td>9.737941e+03</td>\n",
       "      <td>24040000</td>\n",
       "      <td>39247.7600</td>\n",
       "      <td>24289020.0</td>\n",
       "      <td>0.347167</td>\n",
       "      <td>0.001752</td>\n",
       "    </tr>\n",
       "    <tr>\n",
       "      <th>4</th>\n",
       "      <td>1.000000e+18</td>\n",
       "      <td>6.408768e+06</td>\n",
       "      <td>7.061817e+04</td>\n",
       "      <td>3010000</td>\n",
       "      <td>8228.4110</td>\n",
       "      <td>3047736.0</td>\n",
       "      <td>0.779374</td>\n",
       "      <td>0.008588</td>\n",
       "    </tr>\n",
       "    <tr>\n",
       "      <th>5</th>\n",
       "      <td>3.162278e+18</td>\n",
       "      <td>1.906629e+07</td>\n",
       "      <td>1.667804e+05</td>\n",
       "      <td>3010000</td>\n",
       "      <td>13048.2200</td>\n",
       "      <td>3025904.0</td>\n",
       "      <td>1.595937</td>\n",
       "      <td>0.013960</td>\n",
       "    </tr>\n",
       "    <tr>\n",
       "      <th>6</th>\n",
       "      <td>1.000000e+19</td>\n",
       "      <td>5.103732e+07</td>\n",
       "      <td>3.654204e+05</td>\n",
       "      <td>3010000</td>\n",
       "      <td>19456.4000</td>\n",
       "      <td>3055771.0</td>\n",
       "      <td>2.985129</td>\n",
       "      <td>0.021373</td>\n",
       "    </tr>\n",
       "    <tr>\n",
       "      <th>7</th>\n",
       "      <td>3.162278e+19</td>\n",
       "      <td>1.204967e+08</td>\n",
       "      <td>7.621498e+05</td>\n",
       "      <td>3010000</td>\n",
       "      <td>24893.0000</td>\n",
       "      <td>3045319.0</td>\n",
       "      <td>4.988406</td>\n",
       "      <td>0.031552</td>\n",
       "    </tr>\n",
       "    <tr>\n",
       "      <th>8</th>\n",
       "      <td>1.000000e+20</td>\n",
       "      <td>2.544412e+08</td>\n",
       "      <td>1.471179e+06</td>\n",
       "      <td>3010000</td>\n",
       "      <td>29722.8700</td>\n",
       "      <td>3035932.0</td>\n",
       "      <td>7.538420</td>\n",
       "      <td>0.043587</td>\n",
       "    </tr>\n",
       "    <tr>\n",
       "      <th>9</th>\n",
       "      <td>3.162278e+20</td>\n",
       "      <td>5.000642e+08</td>\n",
       "      <td>2.825052e+06</td>\n",
       "      <td>3010000</td>\n",
       "      <td>31037.2800</td>\n",
       "      <td>3036900.0</td>\n",
       "      <td>10.714380</td>\n",
       "      <td>0.060530</td>\n",
       "    </tr>\n",
       "  </tbody>\n",
       "</table>\n",
       "</div>"
      ],
      "text/plain": [
       "         Energy          Aeff           Err   Nthrown     Npassed  \\\n",
       "0  1.000000e+16  3.906901e+03  1.443047e+02  24040000    732.9002   \n",
       "1  3.162278e+16  5.891815e+04  8.226032e+02  24040000   5129.1600   \n",
       "2  1.000000e+17  4.492323e+05  3.224303e+03  24040000  19406.3500   \n",
       "3  3.162278e+17  1.929686e+06  9.737941e+03  24040000  39247.7600   \n",
       "4  1.000000e+18  6.408768e+06  7.061817e+04   3010000   8228.4110   \n",
       "5  3.162278e+18  1.906629e+07  1.667804e+05   3010000  13048.2200   \n",
       "6  1.000000e+19  5.103732e+07  3.654204e+05   3010000  19456.4000   \n",
       "7  3.162278e+19  1.204967e+08  7.621498e+05   3010000  24893.0000   \n",
       "8  1.000000e+20  2.544412e+08  1.471179e+06   3010000  29722.8700   \n",
       "9  3.162278e+20  5.000642e+08  2.825052e+06   3010000  31037.2800   \n",
       "\n",
       "   weight_thrown       Veff  Err_Veff  \n",
       "0     24180460.0   0.002586  0.000096  \n",
       "1     24265360.0   0.024633  0.000344  \n",
       "2     24201290.0   0.121731  0.000874  \n",
       "3     24289020.0   0.347167  0.001752  \n",
       "4      3047736.0   0.779374  0.008588  \n",
       "5      3025904.0   1.595937  0.013960  \n",
       "6      3055771.0   2.985129  0.021373  \n",
       "7      3045319.0   4.988406  0.031552  \n",
       "8      3035932.0   7.538420  0.043587  \n",
       "9      3036900.0  10.714380  0.060530  "
      ]
     },
     "execution_count": 4,
     "metadata": {},
     "output_type": "execute_result"
    }
   ],
   "source": [
    "veffs=veffs.sort_values(by='Energy')\n",
    "veffs=veffs.reset_index()\n",
    "veffs = veffs.drop(\"index\",axis=1)\n",
    "veffs\n"
   ]
  },
  {
   "cell_type": "code",
   "execution_count": 5,
   "metadata": {},
   "outputs": [
    {
     "data": {
      "text/html": [
       "<div>\n",
       "<style scoped>\n",
       "    .dataframe tbody tr th:only-of-type {\n",
       "        vertical-align: middle;\n",
       "    }\n",
       "\n",
       "    .dataframe tbody tr th {\n",
       "        vertical-align: top;\n",
       "    }\n",
       "\n",
       "    .dataframe thead th {\n",
       "        text-align: right;\n",
       "    }\n",
       "</style>\n",
       "<table border=\"1\" class=\"dataframe\">\n",
       "  <thead>\n",
       "    <tr style=\"text-align: right;\">\n",
       "      <th></th>\n",
       "      <th>energy</th>\n",
       "      <th>veff</th>\n",
       "    </tr>\n",
       "  </thead>\n",
       "  <tbody>\n",
       "    <tr>\n",
       "      <th>15</th>\n",
       "      <td>1.220000e+17</td>\n",
       "      <td>680.0</td>\n",
       "    </tr>\n",
       "    <tr>\n",
       "      <th>16</th>\n",
       "      <td>1.900000e+17</td>\n",
       "      <td>809.0</td>\n",
       "    </tr>\n",
       "    <tr>\n",
       "      <th>17</th>\n",
       "      <td>2.940000e+17</td>\n",
       "      <td>978.0</td>\n",
       "    </tr>\n",
       "    <tr>\n",
       "      <th>18</th>\n",
       "      <td>4.490000e+17</td>\n",
       "      <td>1170.0</td>\n",
       "    </tr>\n",
       "    <tr>\n",
       "      <th>19</th>\n",
       "      <td>6.170000e+17</td>\n",
       "      <td>1260.0</td>\n",
       "    </tr>\n",
       "  </tbody>\n",
       "</table>\n",
       "</div>"
      ],
      "text/plain": [
       "          energy    veff\n",
       "15  1.220000e+17   680.0\n",
       "16  1.900000e+17   809.0\n",
       "17  2.940000e+17   978.0\n",
       "18  4.490000e+17  1170.0\n",
       "19  6.170000e+17  1260.0"
      ]
     },
     "execution_count": 5,
     "metadata": {},
     "output_type": "execute_result"
    }
   ],
   "source": [
    "IceCube = pd.read_csv(\"dataForVeff/IceCube_avg_Dec-30-90.txt\")\n",
    "IceCube.veff = IceCube.veff*1E6\n",
    "IceCube.tail()\n"
   ]
  },
  {
   "cell_type": "code",
   "execution_count": 6,
   "metadata": {},
   "outputs": [
    {
     "data": {
      "image/png": "[encoded data removed]",
      "text/plain": [
       "<Figure size 576x360 with 1 Axes>"
      ]
     },
     "metadata": {},
     "output_type": "display_data"
    }
   ],
   "source": [
    "mpl.rcParams['text.latex.preamble'] = [r'\\usepackage{amsmath}'] #for \\text command\n",
    "\n",
    "plt.figure(figsize=(8,5))\n",
    "plt.loglog(veffs[\"Energy\"], (veffs[\"Aeff\"]/1E4), label=r\"A2 $\\nu_{e,\\mu,\\tau}$ CC and NC, $\\delta_{\\text{Cen A}}=-47^\\circ$\", lw = 3)\n",
    "plt.loglog(IceCube.energy, IceCube.veff, label=\"IceCube (IC86) $\\\\nu_\\mu$ CC, $\\delta\\in [-90^\\circ, -30^\\circ]$\", lw = 3)\n",
    "\n",
    "\n",
    "plt.fill_between(veffs[\"Energy\"],veffs[\"Aeff\"]/1E4-veffs[\"Err\"]/1E4,veffs[\"Aeff\"]/1E4+veffs[\"Err\"]/1E4, alpha=0.5)\n",
    "\n",
    "plt.xlabel(\"Energy [eV]\")\n",
    "plt.ylabel(\"$A_{eff}$ [m$^2$]\")\n",
    "plt.grid()\n",
    "plt.legend(fontsize = 14)\n",
    "plt.tight_layout()\n",
    "# plt.savefig(\"./Veff_A2_CenA_IceCube.pdf\")"
   ]
  },
  {
   "cell_type": "markdown",
   "metadata": {},
   "source": [
    "### Digitize flux from 1906.07419"
   ]
  },
  {
   "cell_type": "code",
   "execution_count": 5,
   "metadata": {},
   "outputs": [],
   "source": [
    "energy = np.array([3.87e+14,5.00e+14,6.47e+14,8.56e+14,1.16e+15,1.57e+15,2.28e+15,3.32e+15,4.81e+15,6.99e+15,1.01e+16,1.47e+16,2.14e+16,3.11e+16,4.51e+16,6.55e+16,9.53e+16,1.38e+17,2.00e+17,2.91e+17,4.22e+17,5.78e+17,8.15e+17,1.09e+18,1.52e+18,2.00e+18,2.40e+18,])\n",
    "flux = np.array([3.36e-10,4.61e-10,6.19e-10,8.26e-10,1.07e-9,1.45e-9,1.90e-9,2.42e-9,2.88e-9,3.35e-9,3.77e-9,4.27e-9,4.60e-9,4.64e-9,4.36e-9,3.98e-9,3.53e-9,3.03e-9,2.54e-9,1.98e-9,1.49e-9,1.14e-9,9.10e-10,6.80e-10,4.88e-10,3.63e-10,3.05e-10])"
   ]
  },
  {
   "cell_type": "code",
   "execution_count": 6,
   "metadata": {},
   "outputs": [],
   "source": [
    "energy_Auger = np.array([4.51e+16,6.44e+16,9.53e+16,1.39e+17,2.00e+17,2.92e+17,4.22e+17,6.04e+17,8.54e+17,1.18e+18,1.60e+18,2.12e+18,2.39e+18,])\n"
   ]
  },
  {
   "cell_type": "code",
   "execution_count": 7,
   "metadata": {},
   "outputs": [],
   "source": [
    "limit_Auger = np.array([4.21e-7,3.84e-7,3.39e-7,2.91e-7,2.45e-7,1.91e-7,1.44e-7,1.10e-7,8.35e-8,6.09e-8,4.52e-8,3.42e-8,2.84e-8,])"
   ]
  },
  {
   "cell_type": "code",
   "execution_count": 8,
   "metadata": {},
   "outputs": [
    {
     "data": {
      "text/plain": [
       "Text(0,0.5,'$E^2 dN/dE$ [GeV cm$^{-2}$ s$^{-1}$]')"
      ]
     },
     "execution_count": 8,
     "metadata": {},
     "output_type": "execute_result"
    },
    {
     "data": {
      "image/png": "[encoded data removed]",
      "text/plain": [
       "<Figure size 432x288 with 1 Axes>"
      ]
     },
     "metadata": {},
     "output_type": "display_data"
    }
   ],
   "source": [
    "plt.loglog(energy,flux)\n",
    "plt.ylim(3E-10,1E-6)\n",
    "plt.xlabel(\"Energy [eV]\")\n",
    "plt.ylabel(\"$E^2 dN/dE$ [GeV cm$^{-2}$ s$^{-1}$]\")"
   ]
  },
  {
   "cell_type": "code",
   "execution_count": 10,
   "metadata": {},
   "outputs": [],
   "source": [
    "eff = np.array([0.19576185671039353,0.34823316218665057,0.4626036808942366,0.5148132573875148,0.5324132568762756,0.5570702480729746,0.5836126966869016,0.5895014000919463,0.5933887868639948,0.6096294076515832])\n",
    "energyGev = veffs[\"Energy\"]/1E9"
   ]
  },
  {
   "cell_type": "code",
   "execution_count": 11,
   "metadata": {},
   "outputs": [],
   "source": [
    "def calculateLimit(energy, exposure_time, Aeff, efficiency, E2=False): #energy in GeV, exposure_time in years. Aeff in cm^2\n",
    "    n = 2.44 #FC limit\n",
    "    exposure = efficiency*Aeff*exposure_time*3600*24*365 #Converting time to seconds\n",
    "    if(E2==False):\n",
    "        limit = n/(exposure*np.log(10)*1)\n",
    "    else:\n",
    "        limit = energy*n/(exposure*np.log(10)*1)\n",
    "    return limit"
   ]
  },
  {
   "cell_type": "code",
   "execution_count": 12,
   "metadata": {},
   "outputs": [],
   "source": [
    "limit = calculateLimit(energyGev, 4, veffs[\"Aeff\"], eff, True)\n",
    "projectedLim = calculateLimit(energyGev, 2.5*100, veffs[\"Aeff\"], eff, True)\n",
    "\n",
    "# limitIC86 = calculateLimit(np.array(IceCube.energy)/1E9, 10, np.array(IceCube.veff)*1E4, 1, True)"
   ]
  },
  {
   "cell_type": "code",
   "execution_count": 13,
   "metadata": {},
   "outputs": [],
   "source": [
    "def Nevents(Energy, flux, efficiency, Aeff, time):\n",
    "    exposure = Aeff*time*3600*24*365\n",
    "    fluxInterp = np.interp(Energy,energy/1E9,flux)\n",
    "#     print(fluxInterp)\n",
    "    return fluxInterp*exposure*efficiency*0.5*np.log(10)"
   ]
  },
  {
   "cell_type": "code",
   "execution_count": 14,
   "metadata": {},
   "outputs": [
    {
     "data": {
      "text/plain": [
       "0    0.000042\n",
       "1    0.000436\n",
       "2    0.001049\n",
       "3    0.000860\n",
       "4    0.000374\n",
       "5    0.000149\n",
       "6    0.000132\n",
       "7    0.000099\n",
       "8    0.000067\n",
       "9    0.000043\n",
       "dtype: float64"
      ]
     },
     "execution_count": 14,
     "metadata": {},
     "output_type": "execute_result"
    }
   ],
   "source": [
    "Nevents(energyGev, flux, eff, veffs[\"Aeff\"], 4)/energyGev"
   ]
  },
  {
   "cell_type": "code",
   "execution_count": 15,
   "metadata": {},
   "outputs": [
    {
     "data": {
      "text/plain": [
       "0.0028683332851777705"
      ]
     },
     "execution_count": 15,
     "metadata": {},
     "output_type": "execute_result"
    }
   ],
   "source": [
    "sum(Nevents(energyGev, flux, eff, veffs[\"Aeff\"], 4)[1:6]/energyGev[1:6])"
   ]
  },
  {
   "cell_type": "code",
   "execution_count": 22,
   "metadata": {},
   "outputs": [
    {
     "data": {
      "image/png": "[encoded data removed]",
      "text/plain": [
       "<Figure size 576x396 with 1 Axes>"
      ]
     },
     "metadata": {},
     "output_type": "display_data"
    }
   ],
   "source": [
    "plt.figure(figsize=(8,5.5))\n",
    "\n",
    "plt.loglog(energy/1E9,flux, lw = 3, c=\"C1\", ls=\"-\",label = \"Cen A core \\n (Kachelriess, \\\\textit{et al.})\")\n",
    "# plt.loglog(energyGev,limit, ls=\"-\", lw = 3, color = \"gray\")\n",
    "plt.loglog(energyGev[0:6],(2.44/0.0028)*np.interp(energyGev,energy/1E9,flux)[0:6], ls=\"--\", lw = 3, color = \"gray\")\n",
    "# plt.loglog(energyGev,projectedLim, ls=\"-\", lw = 3, color = \"blue\")\n",
    "# plt.loglog(energyGev,np.interp(energyGev,energy/1E9,flux)/(Nevents(energyGev, flux, eff, veffs[\"Aeff\"], 4)/energyGev))\n",
    "plt.loglog(energyGev[0:6],(1/0.0028)*np.interp(energyGev,energy/1E9,flux)[0:6]/(30/4), ls=\"--\", lw = 3, color = \"blue\")\n",
    "\n",
    "\n",
    "plt.loglog(energy_Auger/1E9,3*limit_Auger, ls=\"-\",color=\"forestgreen\", lw = 3, )\n",
    "plt.loglog(np.logspace(5,8, num=6), 3*1E-8*np.ones(6),color=\"dodgerblue\",  lw = 3)\n",
    "plt.loglog(np.logspace(4,5, num=6), 3*1.3E-8*np.ones(6), color = \"mediumvioletred\", lw = 3)\n",
    "\n",
    "##ANOTATE\n",
    "plt.annotate('IceCube (7 y), $E^{-2}$',xy=(9e6, 3*1.3e-8), xycoords='data',horizontalalignment='center', color='dodgerblue', rotation=0, fontsize=12,fontweight=\"bold\")\n",
    "plt.annotate('ANTARES (11 y), $E^{-2}$',xy=(9e4, 3*1.5e-8), xycoords='data',horizontalalignment='center', color='mediumvioletred', rotation=0, fontsize=12,fontweight=\"bold\")\n",
    "plt.annotate('Auger (14.5 y)',xy=(4e8, 2*5.5e-7), xycoords='data',horizontalalignment='center', color='forestgreen', rotation=-30, fontsize=12,fontweight=\"bold\")\n",
    "plt.annotate('ARA (A2, 4 y)',xy=(7e8, 2.5e-6), xycoords='data',horizontalalignment='center', color='gray', rotation=-30, fontsize=12,fontweight=\"bold\")\n",
    "plt.annotate('ARA 5 (SES, 2012-2023)',xy=(7e8, 2e-7), xycoords='data',horizontalalignment='center', color='blue', rotation=-35, fontsize=12,fontweight=\"bold\")\n",
    "\n",
    "\n",
    "plt.grid(alpha = 0.6)\n",
    "# plt.ylim(5E-10,2E-4)\n",
    "plt.ylim(5E-10,1E-5)\n",
    "plt.xlim(1E4,1E10)\n",
    "plt.xlabel(\"Neutrino Energy [GeV]\")\n",
    "plt.ylabel(\"$E^2 dN/dE$ [GeV cm$^{-2}$ s$^{-1}$]\")\n",
    "plt.legend(loc=\"upper left\", fontsize=13, fancybox=\"True\")\n",
    "plt.savefig(\"ARA_limit_CenA_E2_v2.pdf\")"
   ]
  },
  {
   "cell_type": "code",
   "execution_count": 44,
   "metadata": {},
   "outputs": [],
   "source": [
    "def Nevents(Energy, flux, efficiency, Aeff, time):\n",
    "    exposure = Aeff*time*3600*24*365\n",
    "    fluxInterp = np.interp(Energy,energy/1E9,flux)\n",
    "#     print(fluxInterp)\n",
    "    return fluxInterp*exposure*efficiency*0.5*np.log(10)"
   ]
  },
  {
   "cell_type": "code",
   "execution_count": 45,
   "metadata": {},
   "outputs": [
    {
     "data": {
      "text/plain": [
       "0    0.000042\n",
       "1    0.000436\n",
       "2    0.001049\n",
       "3    0.000860\n",
       "4    0.000374\n",
       "5    0.000149\n",
       "6    0.000132\n",
       "7    0.000099\n",
       "8    0.000067\n",
       "9    0.000043\n",
       "dtype: float64"
      ]
     },
     "execution_count": 45,
     "metadata": {},
     "output_type": "execute_result"
    }
   ],
   "source": [
    "Nevents(energyGev, flux, eff, veffs[\"Aeff\"], 4)/energyGev"
   ]
  },
  {
   "cell_type": "code",
   "execution_count": 58,
   "metadata": {},
   "outputs": [
    {
     "data": {
      "text/plain": [
       "0.0028683332851777705"
      ]
     },
     "execution_count": 58,
     "metadata": {},
     "output_type": "execute_result"
    }
   ],
   "source": [
    "sum(Nevents(energyGev, flux, eff, veffs[\"Aeff\"], 4)[1:6]/energyGev[1:6])"
   ]
  },
  {
   "cell_type": "code",
   "execution_count": 22,
   "metadata": {},
   "outputs": [
    {
     "data": {
      "text/plain": [
       "0.15387558369589793"
      ]
     },
     "execution_count": 22,
     "metadata": {},
     "output_type": "execute_result"
    }
   ],
   "source": [
    "num1 = np.cos(np.radians(-20+13))-np.cos(np.radians(-20-13))\n",
    "num1"
   ]
  },
  {
   "cell_type": "code",
   "execution_count": 17,
   "metadata": {},
   "outputs": [
    {
     "data": {
      "text/plain": [
       "1.1519173063162575"
      ]
     },
     "execution_count": 17,
     "metadata": {},
     "output_type": "execute_result"
    }
   ],
   "source": [
    "num2 = np.radians(33*2)\n",
    "num2"
   ]
  },
  {
   "cell_type": "code",
   "execution_count": 18,
   "metadata": {},
   "outputs": [
    {
     "data": {
      "text/plain": [
       "0.0035943923075882097"
      ]
     },
     "execution_count": 18,
     "metadata": {},
     "output_type": "execute_result"
    }
   ],
   "source": [
    "alpha = (num1*num2)/(4*np.pi)\n",
    "alpha"
   ]
  },
  {
   "cell_type": "code",
   "execution_count": 21,
   "metadata": {},
   "outputs": [
    {
     "data": {
      "text/plain": [
       "0.6097971927566891"
      ]
     },
     "execution_count": 21,
     "metadata": {},
     "output_type": "execute_result"
    }
   ],
   "source": [
    "np.log(0.0264)/-5.96"
   ]
  },
  {
   "cell_type": "code",
   "execution_count": 20,
   "metadata": {},
   "outputs": [
    {
     "data": {
      "text/plain": [
       "0.02648148148148148"
      ]
     },
     "execution_count": 20,
     "metadata": {},
     "output_type": "execute_result"
    }
   ],
   "source": [
    "(13*2*33*2)/(180*360)"
   ]
  },
  {
   "cell_type": "code",
   "execution_count": null,
   "metadata": {},
   "outputs": [],
   "source": []
  }
 ],
 "metadata": {
  "kernelspec": {
   "display_name": "Python 3.6 (Conda 5.2) [python/3.6-conda5.2]",
   "language": "python",
   "name": "sys_python36conda"
  },
  "language_info": {
   "codemirror_mode": {
    "name": "ipython",
    "version": 3
   },
   "file_extension": ".py",
   "mimetype": "text/x-python",
   "name": "python",
   "nbconvert_exporter": "python",
   "pygments_lexer": "ipython3",
   "version": "3.6.6"
  }
 },
 "nbformat": 4,
 "nbformat_minor": 4
}
