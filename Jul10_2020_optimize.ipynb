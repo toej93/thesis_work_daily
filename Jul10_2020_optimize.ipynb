{
 "cells": [
  {
   "cell_type": "markdown",
   "metadata": {},
   "source": [
    "# Perform optimization"
   ]
  },
  {
   "cell_type": "markdown",
   "metadata": {
    "hidePrompt": false
   },
   "source": [
    "### Jul 10, 2020"
   ]
  },
  {
   "cell_type": "markdown",
   "metadata": {
    "hideCode": false
   },
   "source": [
    "## Code"
   ]
  },
  {
   "cell_type": "code",
   "execution_count": 1,
   "metadata": {
    "hideCode": false,
    "slideshow": {
     "slide_type": "-"
    }
   },
   "outputs": [
    {
     "name": "stdout",
     "output_type": "stream",
     "text": [
      "Welcome to JupyROOT 6.18/04\n"
     ]
    }
   ],
   "source": [
    "import sys\n",
    "sys.path.insert(0,\"/users/PCON0003/cond0068/.local/lib/python3.7/\")\n",
    "sys.path.append(\"/users/PAS0654/osu8354/ARA_cvmfs/root_build/lib/\") # go to parent dir\n",
    "sys.path.append(\"/users/PCON0003/cond0068/.local/lib/python3.7/site-packages/\")\n",
    "import ROOT\n",
    "import math\n",
    "import numpy as np\n",
    "from ROOT import TH1D,TF1, gRandom, gPad, gStyle\n",
    "import matplotlib.pyplot as plt\n",
    "from ROOT import TChain, TSelector, TTree\n",
    "import os\n",
    "import matplotlib.colors as mcolors\n",
    "import scipy\n",
    "from matplotlib.colors import LogNorm"
   ]
  },
  {
   "cell_type": "markdown",
   "metadata": {},
   "source": [
    "### Explore ROOT file"
   ]
  },
  {
   "cell_type": "code",
   "execution_count": 2,
   "metadata": {},
   "outputs": [
    {
     "name": "stdout",
     "output_type": "stream",
     "text": [
      "TFile**\t\t/fs/project/PAS0654/ARA_DATA/A23/10pct_redo/ValsForCuts/A2/c1/cutvals_drop_FiltSurface_snrbins_0_0_wfrmsvals_-1.3_-1.4_run_2376.root\t\n",
      " TFile*\t\t/fs/project/PAS0654/ARA_DATA/A23/10pct_redo/ValsForCuts/A2/c1/cutvals_drop_FiltSurface_snrbins_0_0_wfrmsvals_-1.3_-1.4_run_2376.root\t\n",
      "  KEY: TTree\tVTree;1\tVTree\n",
      "  KEY: TTree\tHTree;1\tHTree\n",
      "  KEY: TTree\tAllTree;2\tAllTree\n",
      "  KEY: TTree\tAllTree;1\tAllTree\n",
      "  KEY: TTree\tOutputTree;1\tOutputTree\n"
     ]
    }
   ],
   "source": [
    "f = ROOT.TFile.Open(\"/fs/project/PAS0654/ARA_DATA/A23/10pct_redo/ValsForCuts/A2/c1/cutvals_drop_FiltSurface_snrbins_0_0_wfrmsvals_-1.3_-1.4_run_2376.root\")\n",
    "f.ls()"
   ]
  },
  {
   "cell_type": "code",
   "execution_count": 3,
   "metadata": {},
   "outputs": [
    {
     "name": "stdout",
     "output_type": "stream",
     "text": [
      "******************************************************************************\n",
      "*Tree    :VTree     : VTree                                                  *\n",
      "*Entries :    14498 : Total =         2048061 bytes  File  Size =     651512 *\n",
      "*        :          : Tree compression factor =   3.13                       *\n",
      "******************************************************************************\n",
      "*Br    0 :corr_val_V_org : corr_val_V_org/D                                  *\n",
      "*Entries :    14498 : Total  Size=     116841 bytes  File Size  =     108136 *\n",
      "*Baskets :        4 : Basket Size=      32000 bytes  Compression=   1.08     *\n",
      "*............................................................................*\n",
      "*Br    1 :snr_val_V_org : snr_val_V_org/D                                    *\n",
      "*Entries :    14498 : Total  Size=     116833 bytes  File Size  =     108807 *\n",
      "*Baskets :        4 : Basket Size=      32000 bytes  Compression=   1.07     *\n",
      "*............................................................................*\n",
      "*Br    2 :wfrms_val_V_org : wfrms_val_V_org/I                                *\n",
      "*Entries :    14498 : Total  Size=      58683 bytes  File Size  =       5264 *\n",
      "*Baskets :        2 : Basket Size=      32000 bytes  Compression=  11.05     *\n",
      "*............................................................................*\n",
      "*Br    3 :theta_300_V_org : theta_300_V_org/I                                *\n",
      "*Entries :    14498 : Total  Size=      58683 bytes  File Size  =      23823 *\n",
      "*Baskets :        2 : Basket Size=      32000 bytes  Compression=   2.44     *\n",
      "*............................................................................*\n",
      "*Br    4 :theta_41_V_org : theta_41_V_org/I                                  *\n",
      "*Entries :    14498 : Total  Size=      58677 bytes  File Size  =      24107 *\n",
      "*Baskets :        2 : Basket Size=      32000 bytes  Compression=   2.41     *\n",
      "*............................................................................*\n",
      "*Br    5 :phi_300_V_org : phi_300_V_org/I                                    *\n",
      "*Entries :    14498 : Total  Size=      58671 bytes  File Size  =      25146 *\n",
      "*Baskets :        2 : Basket Size=      32000 bytes  Compression=   2.31     *\n",
      "*............................................................................*\n",
      "*Br    6 :phi_41_V_org : phi_41_V_org/I                                      *\n",
      "*Entries :    14498 : Total  Size=      58665 bytes  File Size  =      25170 *\n",
      "*Baskets :        2 : Basket Size=      32000 bytes  Compression=   2.31     *\n",
      "*............................................................................*\n",
      "*Br    7 :corr_val_V_new : corr_val_V_new/D                                  *\n",
      "*Entries :    14498 : Total  Size=     116841 bytes  File Size  =     108135 *\n",
      "*Baskets :        4 : Basket Size=      32000 bytes  Compression=   1.08     *\n",
      "*............................................................................*\n",
      "*Br    8 :snr_val_V_new : snr_val_V_new/D                                    *\n",
      "*Entries :    14498 : Total  Size=     116833 bytes  File Size  =     108805 *\n",
      "*Baskets :        4 : Basket Size=      32000 bytes  Compression=   1.07     *\n",
      "*............................................................................*\n",
      "*Br    9 :wfrms_val_V_new : wfrms_val_V_new/I                                *\n",
      "*Entries :    14498 : Total  Size=      58683 bytes  File Size  =       5263 *\n",
      "*Baskets :        2 : Basket Size=      32000 bytes  Compression=  11.05     *\n",
      "*............................................................................*\n",
      "*Br   10 :theta_300_V_new : theta_300_V_new/I                                *\n",
      "*Entries :    14498 : Total  Size=      58683 bytes  File Size  =      23822 *\n",
      "*Baskets :        2 : Basket Size=      32000 bytes  Compression=   2.44     *\n",
      "*............................................................................*\n",
      "*Br   11 :theta_41_V_new : theta_41_V_new/I                                  *\n",
      "*Entries :    14498 : Total  Size=      58677 bytes  File Size  =      24105 *\n",
      "*Baskets :        2 : Basket Size=      32000 bytes  Compression=   2.41     *\n",
      "*............................................................................*\n",
      "*Br   12 :phi_300_V_new : phi_300_V_new/I                                    *\n",
      "*Entries :    14498 : Total  Size=      58671 bytes  File Size  =      25145 *\n",
      "*Baskets :        2 : Basket Size=      32000 bytes  Compression=   2.31     *\n",
      "*............................................................................*\n",
      "*Br   13 :phi_41_V_new : phi_41_V_new/I                                      *\n",
      "*Entries :    14498 : Total  Size=      58665 bytes  File Size  =      25167 *\n",
      "*Baskets :        2 : Basket Size=      32000 bytes  Compression=   2.31     *\n",
      "*............................................................................*\n",
      "*Br   14 :Refilt_V  : Refilt_V/I                                             *\n",
      "*Entries :    14498 : Total  Size=      58641 bytes  File Size  =        486 *\n",
      "*Baskets :        2 : Basket Size=      32000 bytes  Compression= 119.64     *\n",
      "*............................................................................*\n",
      "*Br   15 :PowerNotch_Chan0 : PowerNotch_Chan0/D                              *\n",
      "*Entries :    14498 : Total  Size=     116857 bytes  File Size  =       1024 *\n",
      "*Baskets :        4 : Basket Size=      32000 bytes  Compression= 113.59     *\n",
      "*............................................................................*\n",
      "*Br   16 :PowerNotch_Chan1 : PowerNotch_Chan1/D                              *\n",
      "*Entries :    14498 : Total  Size=     116857 bytes  File Size  =       1021 *\n",
      "*Baskets :        4 : Basket Size=      32000 bytes  Compression= 113.93     *\n",
      "*............................................................................*\n",
      "*Br   17 :PowerNotch_Chan2 : PowerNotch_Chan2/D                              *\n",
      "*Entries :    14498 : Total  Size=     116857 bytes  File Size  =       1021 *\n",
      "*Baskets :        4 : Basket Size=      32000 bytes  Compression= 113.93     *\n",
      "*............................................................................*\n",
      "*Br   18 :PowerNotch_Chan3 : PowerNotch_Chan3/D                              *\n",
      "*Entries :    14498 : Total  Size=     116857 bytes  File Size  =       1023 *\n",
      "*Baskets :        4 : Basket Size=      32000 bytes  Compression= 113.70     *\n",
      "*............................................................................*\n",
      "*Br   19 :PowerNotch_Chan4 : PowerNotch_Chan4/D                              *\n",
      "*Entries :    14498 : Total  Size=     116857 bytes  File Size  =       1023 *\n",
      "*Baskets :        4 : Basket Size=      32000 bytes  Compression= 113.70     *\n",
      "*............................................................................*\n",
      "*Br   20 :PowerNotch_Chan5 : PowerNotch_Chan5/D                              *\n",
      "*Entries :    14498 : Total  Size=     116857 bytes  File Size  =       1023 *\n",
      "*Baskets :        4 : Basket Size=      32000 bytes  Compression= 113.70     *\n",
      "*............................................................................*\n",
      "*Br   21 :PowerNotch_Chan6 : PowerNotch_Chan6/D                              *\n",
      "*Entries :    14498 : Total  Size=     116857 bytes  File Size  =       1025 *\n",
      "*Baskets :        4 : Basket Size=      32000 bytes  Compression= 113.48     *\n",
      "*............................................................................*\n",
      "*Br   22 :PowerNotch_Chan7 : PowerNotch_Chan7/D                              *\n",
      "*Entries :    14498 : Total  Size=     116857 bytes  File Size  =       1026 *\n",
      "*Baskets :        4 : Basket Size=      32000 bytes  Compression= 113.37     *\n",
      "*............................................................................*\n"
     ]
    }
   ],
   "source": [
    "f.Get(\"VTree\").Print()"
   ]
  },
  {
   "cell_type": "markdown",
   "metadata": {
    "hideCode": false,
    "hideOutput": false,
    "hidePrompt": false
   },
   "source": [
    "## Plots"
   ]
  },
  {
   "cell_type": "code",
   "execution_count": null,
   "metadata": {},
   "outputs": [],
   "source": [
    "file_list=[]#Define an empty list\n",
    "for filename in os.listdir(\"/fs/project/PAS0654/ARA_DATA/A23/10pct_redo/ValsForCuts/A2\"):#Loop over desired directory\n",
    "    if filename.endswith(\".root\"): #extension, .root in this case\n",
    "        file_list.append(os.path.join(\"/fs/project/PAS0654/ARA_DATA/A23/10pct_redo/ValsForCuts/A2\", str(filename))) #add file name to the list"
   ]
  },
  {
   "cell_type": "code",
   "execution_count": null,
   "metadata": {},
   "outputs": [],
   "source": [
    "chain = TChain(\"allCuts\") #Define chain and tree that needs to be read. \"allCuts\" in this case.\n",
    "for line in file_list:\n",
    "    chain.AddFile(line)"
   ]
  },
  {
   "cell_type": "code",
   "execution_count": null,
   "metadata": {},
   "outputs": [],
   "source": [
    "corr_val = []\n",
    "snr_val = []\n",
    "failsRcut = []\n",
    "this_y_val = []\n",
    "weight = []\n",
    "energy = []\n",
    "peakTheta_300m = []\n",
    "peakPhi_300m = []\n",
    "for entry in chain:\n",
    "#     if(entry.peakCorr_single[0]<0.01): continue\n",
    "#     if(entry.peakPhi_single[0]<0):\n",
    "#         phi.append(entry.peakPhi_single[0]+180) #extract variables of interest\n",
    "#     else:\n",
    "    corr_val.append(entry.corr_val[0]) \n",
    "    snr_val.append(entry.snr_val[0]) \n",
    "    failsRcut.append(entry.failsRcut[0])\n",
    "    this_y_val.append(entry.this_y_val[0])\n",
    "    weight.append(entry.weight)\n",
    "    energy.append(entry.energy)\n",
    "    peakTheta_300m.append(entry.peakTheta_300m[0]+90)\n",
    "    peakPhi_300m.append(entry.peakPhi_300m[0])"
   ]
  }
 ],
 "metadata": {
  "celltoolbar": "Hide code",
  "kernelspec": {
   "display_name": "Python 3.6 (Conda 5.2) [python/3.6-conda5.2]",
   "language": "python",
   "name": "sys_python36conda"
  },
  "language_info": {
   "codemirror_mode": {
    "name": "ipython",
    "version": 3
   },
   "file_extension": ".py",
   "mimetype": "text/x-python",
   "name": "python",
   "nbconvert_exporter": "python",
   "pygments_lexer": "ipython3",
   "version": "3.6.6"
  }
 },
 "nbformat": 4,
 "nbformat_minor": 2
}
