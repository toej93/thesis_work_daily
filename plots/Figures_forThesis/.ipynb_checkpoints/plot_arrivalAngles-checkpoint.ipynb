{
 "cells": [
  {
   "cell_type": "code",
   "execution_count": 1,
   "metadata": {},
   "outputs": [
    {
     "name": "stdout",
     "output_type": "stream",
     "text": [
      "Welcome to JupyROOT 6.18/04\n"
     ]
    }
   ],
   "source": [
    "import sys\n",
    "import csv\n",
    "# sys.path.insert(0,\"/users/PCON0003/cond0068/.local/lib/python3.7/\")\n",
    "sys.path.append(\"/users/PAS0654/osu8354/ARA_cvmfs/root_build/lib/\") # go to parent dir\n",
    "sys.path.append(\"/users/PCON0003/cond0068/.local/lib/python3.7/site-packages/\")\n",
    "# sys.path.append(\"/users/PCON0003/cond0068/pyrex_sims/fromBen/thesis_work/pyrex-custom/analysis/custom/analysis/\")\n",
    "import ROOT\n",
    "import math\n",
    "import numpy as np\n",
    "# from ROOT import TH1D,TF1, gRandom, gPad, gStyle\n",
    "import matplotlib as mpl\n",
    "import matplotlib.pyplot as plt\n",
    "# from ROOT import TChain, TSelector, TTree\n",
    "import os\n",
    "import matplotlib.colors as mcolors\n",
    "import scipy\n",
    "from matplotlib.colors import LogNorm\n",
    "import pandas as pd\n",
    "import pyrex\n",
    "import seaborn as sns\n",
    "%matplotlib inline\n",
    "import matplotlib.patches as mpatches\n",
    "import scipy.stats as stats\n",
    "import pyrex"
   ]
  },
  {
   "cell_type": "code",
   "execution_count": 2,
   "metadata": {},
   "outputs": [],
   "source": [
    "# mpl.use('agg') \n",
    "mpl.rcParams['text.usetex'] = True\n",
    "mpl.rcParams['text.latex.unicode'] = True\n",
    "mpl.rcParams['mathtext.rm'] = 'Times New Roman'\n",
    "mpl.rcParams['mathtext.it'] = 'Times New Roman:italic'\n",
    "mpl.rcParams['mathtext.bf'] = 'Times New Roman:bold'\n",
    "\n",
    "mpl.rc('font', family='serif', size=12)\n",
    "mpl.rcParams['xtick.labelsize'] = 14\n",
    "mpl.rcParams['ytick.labelsize'] = 14\n",
    "mpl.rcParams['xtick.major.size'] = 5\n",
    "mpl.rcParams['ytick.major.size'] = 5\n",
    "\n",
    "mpl.rcParams['axes.titlesize'] = 18\n",
    "mpl.rcParams['axes.labelsize'] = 18\n",
    "# mpl.rc('font', size=16)\n",
    "mpl.rc('axes', titlesize=20)\n",
    "\n",
    "current_palette = sns.color_palette('colorblind', 10)\n",
    "import warnings\n",
    "warnings.filterwarnings(\"ignore\")"
   ]
  },
  {
   "cell_type": "code",
   "execution_count": 114,
   "metadata": {},
   "outputs": [],
   "source": [
    "energy_array=np.arange(18.0,19,1)\n",
    "# energy_array=[18.0]"
   ]
  },
  {
   "cell_type": "code",
   "execution_count": null,
   "metadata": {},
   "outputs": [
    {
     "name": "stdout",
     "output_type": "stream",
     "text": [
      "arrivalAngles_36_tree\n",
      "arrivalAngles_38_tree\n",
      "arrivalAngles_40_tree\n"
     ]
    }
   ],
   "source": [
    "for energy in energy_array:\n",
    "    f = ROOT.TFile.Open(\"/users/PAS0654/osu8354/ARA_cvmfs/source/AraSim/outputs/recAngles_%0.1f.root\"%energy)\n",
    "    tree = f.Get('arrivalAngles_%0.0f_tree'% int(energy*2))\n",
    "    print('arrivalAngles_%0.0f_tree'%int(energy*2))\n",
    "\n",
    "\n",
    "    ang_forHist=[]\n",
    "    ang_cutoff=[]\n",
    "    weights = []\n",
    "    for event in range(tree.GetEntries()):\n",
    "        tree.GetEntry(event)\n",
    "        ang_forHist.append(np.degrees(tree.theta-np.pi/2))\n",
    "        weights.append(tree.weight)\n",
    "#         if (np.degrees(tree.theta-np.pi/2)<-25):\n",
    "#             ang_cutoff.append(np.degrees(tree.theta-np.pi/2))\n",
    "    # plt.hist(np.cos(ang_forHist), bins=1000, density=True);\n",
    "    # plt.ylim(0,5)\n",
    "    numBins=int(tree.GetEntries()/10)\n",
    "    plt.figure(figsize=(7, 5))\n",
    "\n",
    "    values, bins, patches = plt.hist(ang_forHist, bins=numBins, weights=weights, range=(-100, 100), density=True, alpha=0.7);\n",
    "    bin_to_integrate = int(len(bins)-125/np.diff(bins)[0])\n",
    "    line = plt.axvline(-24, color='forestgreen', linestyle='dashed', linewidth=2, label=\"$\\\\theta_{rec}=-24$\")\n",
    "#     print(bins[bin_to_integrate])\n",
    "    area = sum(np.diff(bins[:bin_to_integrate+1])*values[:bin_to_integrate])\n",
    "    # axes[0].set_title(\"Histogram of $\\\\theta_{rec}$\", fontsize=12)\n",
    "    for i in range(0,bin_to_integrate):    \n",
    "        patches[i].set_facecolor('r')\n",
    "    plt.xlabel(\"$\\\\theta_{rec}$ [deg]\")\n",
    "    plt.ylabel(\"counts [normalized]\")\n",
    "    plt.yscale(\"log\")\n",
    "    plt.ylim(1E-4, 5E-1)\n",
    "    plt.grid(linestyle='--', linewidth=0.8)\n",
    "    red_patch = mpatches.Patch(color='red', alpha=0.7, label='Excluded region: %0.2f'%(area*100))\n",
    "    plt.legend(handles=[red_patch,line])\n",
    "\n",
    "#     axes[1].hist(np.cos(np.radians(ang_forHist)), bins=numBins, density=True,alpha=0.8);\n",
    "#     # axes[1].set_title(\"Histogram of $\\cos(\\\\theta_{rec})$\", fontsize=12)\n",
    "#     axes[1].set_xlabel(\"$\\cos(\\\\theta_{rec})$\", fontsize=12)\n",
    "#     axes[1].set_yscale(\"log\")\n",
    "#     axes[1].set_ylim(5E-2, 1E1)\n",
    "#     axes[1].grid(linestyle='--', linewidth=0.8)\n",
    "\n",
    "\n",
    "    # axes[1].set_ylim(0,0.01)\n",
    "\n",
    "    # axes[1].set_yscale('log')\n",
    "    # plt.legend()\n",
    "    plt.title(\"$E_{\\\\nu} = 10^{%0.1f} $ eV\" %energy, fontsize=15)\n",
    "    plt.tight_layout(rect=[0, 0.09, 1, 0.95])\n",
    "    plt.savefig(\"theta_rec_distro_1E%0.1f.pdf\"%energy)"
   ]
  },
  {
   "cell_type": "code",
   "execution_count": 93,
   "metadata": {},
   "outputs": [],
   "source": [
    "rt = pyrex.RayTracer(from_point=(0, 0, -1250), to_point=(2400, 0, -179.93))\n"
   ]
  },
  {
   "cell_type": "code",
   "execution_count": 94,
   "metadata": {},
   "outputs": [],
   "source": [
    "path = rt.solutions[0]\n",
    "path2 = rt.solutions[1]"
   ]
  },
  {
   "cell_type": "code",
   "execution_count": 95,
   "metadata": {},
   "outputs": [],
   "source": [
    "x = np.array([0,2400])\n",
    "y = np.array([-1250,-179.93])"
   ]
  },
  {
   "cell_type": "code",
   "execution_count": 100,
   "metadata": {},
   "outputs": [],
   "source": [
    "theta_d=np.degrees(np.arccos(path.received_direction[2])-np.pi/2)\n",
    "theta_r=np.degrees(np.arccos(path2.received_direction[2])-np.pi/2)\n",
    "theta_g = np.degrees(np.arctan((-1250+179.93)/2400))"
   ]
  },
  {
   "cell_type": "code",
   "execution_count": 101,
   "metadata": {},
   "outputs": [
    {
     "data": {
      "text/plain": [
       "-24.030300022490742"
      ]
     },
     "execution_count": 101,
     "metadata": {},
     "output_type": "execute_result"
    }
   ],
   "source": [
    "theta_g"
   ]
  },
  {
   "cell_type": "code",
   "execution_count": 111,
   "metadata": {},
   "outputs": [
    {
     "data": {
      "image/png": "[encoded data removed]",
      "text/plain": [
       "<Figure size 648x360 with 1 Axes>"
      ]
     },
     "metadata": {},
     "output_type": "display_data"
    }
   ],
   "source": [
    "fig, ax1 = plt.subplots(figsize=(9,5))\n",
    "\n",
    "# plt.plot(path.coordinates[0],path.coordinates[2], label=\"Direct ray ($\\\\theta_d =%0.1f^\\circ$)\"% theta_d)\n",
    "# plt.plot(path2.coordinates[0],path2.coordinates[2], label=\"Reflected ray ($\\\\theta_r =%0.1f^\\circ$)\"% theta_r)\n",
    "plt.plot(path.coordinates[0],path.coordinates[2], label=\"Direct ray ($\\\\theta_{D} = %0.1f^{\\circ}$)\"%theta_d)\n",
    "plt.plot(path2.coordinates[0],path2.coordinates[2], label=\"Reflected ray ($\\\\theta_{R} = %0.1f^{\\circ}$)\"%theta_r)\n",
    "plt.plot(x,y, \"--\", c = \"black\", alpha = 0.5, label = \"Geodesic ($\\\\theta_{G} = %0.1f^{\\circ}$)\"%theta_g)\n",
    "\n",
    "plt.plot(2400, -179.93,\"o\", label=\"A2\", markersize = 10)\n",
    "plt.plot(0, -1250, \"^\", label=\"SPIceCore\", markersize = 10)\n",
    "plt.legend(fontsize = 13)\n",
    "plt.ylabel(\"Depth [m]\")\n",
    "plt.xlabel(\"Distance [m]\")\n",
    "plt.grid()\n",
    "# plt.title(\"Ray solutions between A2 and SPIceCore\", fontsize=14)\n",
    "plt.tight_layout()\n",
    "# plt.savefig(my_path_plots+'/SpiceCorePolReco/A2_SPIceCore.png', dpi=250)\n",
    "# plt.xlim(2370,2500)\n",
    "# plt.ylim(-200,-150)\n",
    "plt.savefig('./A2_SPIceCore_disappearing.pdf')"
   ]
  },
  {
   "cell_type": "code",
   "execution_count": 77,
   "metadata": {},
   "outputs": [
    {
     "data": {
      "text/plain": [
       "-21.140729599125223"
      ]
     },
     "execution_count": 77,
     "metadata": {},
     "output_type": "execute_result"
    }
   ],
   "source": [
    "theta_d"
   ]
  },
  {
   "cell_type": "code",
   "execution_count": null,
   "metadata": {},
   "outputs": [],
   "source": []
  }
 ],
 "metadata": {
  "kernelspec": {
   "display_name": "Python 3.6 (Conda 5.2) [python/3.6-conda5.2]",
   "language": "python",
   "name": "sys_python36conda"
  },
  "language_info": {
   "codemirror_mode": {
    "name": "ipython",
    "version": 3
   },
   "file_extension": ".py",
   "mimetype": "text/x-python",
   "name": "python",
   "nbconvert_exporter": "python",
   "pygments_lexer": "ipython3",
   "version": "3.6.6"
  }
 },
 "nbformat": 4,
 "nbformat_minor": 4
}
