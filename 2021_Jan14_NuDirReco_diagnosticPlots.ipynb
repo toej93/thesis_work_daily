{
 "cells": [
  {
   "cell_type": "markdown",
   "metadata": {},
   "source": [
    "# Neutrino direction reconstruction using events from a fixed source and Kotera Max flux\n"
   ]
  },
  {
   "cell_type": "markdown",
   "metadata": {},
   "source": [
    "### Jan 14, 2021"
   ]
  },
  {
   "cell_type": "markdown",
   "metadata": {},
   "source": [
    "## Code"
   ]
  },
  {
   "cell_type": "code",
   "execution_count": 1,
   "metadata": {},
   "outputs": [
    {
     "name": "stdout",
     "output_type": "stream",
     "text": [
      "Welcome to JupyROOT 6.18/04\n"
     ]
    }
   ],
   "source": [
    "import sys\n",
    "import csv\n",
    "# sys.path.insert(0,\"/users/PCON0003/cond0068/.local/lib/python3.7/\")\n",
    "sys.path.append(\"/users/PAS0654/osu8354/ARA_cvmfs/root_build/lib/\") # go to parent dir\n",
    "sys.path.append(\"/users/PCON0003/cond0068/.local/lib/python3.7/site-packages/\")\n",
    "# sys.path.append(\"/users/PCON0003/cond0068/pyrex_sims/fromBen/thesis_work/pyrex-custom/analysis/custom/analysis/\")\n",
    "import ROOT\n",
    "import math\n",
    "import numpy as np\n",
    "from ROOT import TH1D,TF1, gRandom, gPad, gStyle\n",
    "import matplotlib as mpl\n",
    "import matplotlib.pyplot as plt\n",
    "from ROOT import TChain, TSelector, TTree\n",
    "import os\n",
    "import matplotlib.colors as mcolors\n",
    "import scipy\n",
    "from matplotlib.colors import LogNorm\n",
    "import pandas as pd\n",
    "import seaborn as sns\n",
    "%matplotlib inline\n",
    "sys.path.insert(1, \"/users/PAS0654/osu8354/ARA_cvmfs/source/AraRoot/analysis/ARA_analysis/CenA_sourceSearch/Stokes\")\n",
    "import deDisperse_util as util\n",
    "my_path_plots = os.path.abspath(\"./plots/\")"
   ]
  },
  {
   "cell_type": "code",
   "execution_count": 2,
   "metadata": {},
   "outputs": [],
   "source": [
    "# mpl.use('agg') \n",
    "mpl.rcParams['text.usetex'] = True\n",
    "mpl.rcParams['text.latex.unicode'] = True\n",
    "mpl.rcParams['mathtext.rm'] = 'Times New Roman'\n",
    "mpl.rcParams['mathtext.it'] = 'Times New Roman:italic'\n",
    "mpl.rcParams['mathtext.bf'] = 'Times New Roman:bold'\n",
    "\n",
    "mpl.rc('font', family='serif', size=12)\n",
    "mpl.rcParams['xtick.labelsize'] = 14\n",
    "mpl.rcParams['ytick.labelsize'] = 14\n",
    "mpl.rcParams['xtick.major.size'] = 5\n",
    "mpl.rcParams['ytick.major.size'] = 5\n",
    "\n",
    "mpl.rcParams['axes.titlesize'] = 18\n",
    "mpl.rcParams['axes.labelsize'] = 18\n",
    "# mpl.rc('font', size=16)\n",
    "mpl.rc('axes', titlesize=20)\n",
    "\n",
    "current_palette = sns.color_palette('colorblind', 10)\n",
    "import warnings\n",
    "warnings.filterwarnings(\"ignore\")\n"
   ]
  },
  {
   "cell_type": "code",
   "execution_count": 3,
   "metadata": {},
   "outputs": [],
   "source": [
    "def nuDirReco(polVec,propVec,viewAng):\n",
    "    propVec = -propVec\n",
    "    recoDir = np.sin(viewAng)*polVec-np.cos(viewAng)*propVec\n",
    "    return recoDir\n",
    "\n",
    "def SphericalToCartesian(phi, theta):\n",
    "    x = np.sin(theta)*np.cos(phi)\n",
    "    y = np.sin(theta)*np.sin(phi)\n",
    "    z = np.cos(theta)\n",
    "    \n",
    "    return np.array([x,y,z])\n",
    "chAngle = 55.8 #Cherenkov angle in ice"
   ]
  },
  {
   "cell_type": "code",
   "execution_count": 4,
   "metadata": {},
   "outputs": [
    {
     "name": "stdout",
     "output_type": "stream",
     "text": [
      "158887\n"
     ]
    },
    {
     "name": "stderr",
     "output_type": "stream",
     "text": [
      "/usr/local/python/3.6-conda5.2/lib/python3.6/site-packages/ipykernel_launcher.py:42: RuntimeWarning: invalid value encountered in sqrt\n",
      "/users/PAS0654/osu8354/ARA_cvmfs/source/AraRoot/analysis/ARA_analysis/CenA_sourceSearch/Stokes/deDisperse_util.py:625: RuntimeWarning: invalid value encountered in sqrt\n",
      "  R = np.sqrt(powerH/powerV)*signR\n",
      "/usr/local/python/3.6-conda5.2/lib/python3.6/site-packages/ipykernel_launcher.py:81: RuntimeWarning: invalid value encountered in arccos\n"
     ]
    }
   ],
   "source": [
    "appended_data = []\n",
    "import os\n",
    "for filename in os.listdir(\"/users/PAS0654/osu8354/ARA_cvmfs/source/AraRoot/analysis/ARA_analysis/CenA_sourceSearch/Stokes/noiseOn/window_Sol0\"):#Loop over desired directory\n",
    "        if (filename.startswith(\"pol_quant\")): #extension, .root in this case\n",
    "            name = os.path.join(\"/users/PAS0654/osu8354/ARA_cvmfs/source/AraRoot/analysis/ARA_analysis/CenA_sourceSearch/Stokes/noiseOn/window_Sol0/\", str(filename))\n",
    "            data = pd.read_pickle(name)\n",
    "            appended_data.append(data)\n",
    "recoNu = pd.concat(appended_data) \n",
    "# recoNu = pd.read_pickle(\"/users/PAS0654/osu8354/ARA_cvmfs/source/AraRoot/analysis/ARA_analysis/CenA_sourceSearch/Stokes/debug/pol_quant_noiseless.pkl\")\n",
    "# recoNu = recoNu.loc[abs(recoNu.maxV)>1]\n",
    "# recoNu = recoNu.loc[abs(recoNu.maxV)<1350]\n",
    "# recoNu = recoNu.loc[abs(recoNu.maxH)>1]\n",
    "# recoNu = recoNu.loc[abs(recoNu.maxH)<1350]\n",
    "recoNu = recoNu.loc[recoNu.theta_reco>=np.pi/2]\n",
    "# recoNu = recoNu.loc[recoNu.weight>1E-100]\n",
    "# recoNu[\"SNR_V\"] = abs(recoNu.maxV)/recoNu.rmsV\n",
    "# recoNu[\"SNR_H\"] = abs(recoNu.maxH)/recoNu.rmsH\n",
    "# recoNu = recoNu.loc[abs(recoNu.SNR_H-5)<1]\n",
    "# recoNu = recoNu.loc[recoNu.SNR_H>=5]\n",
    "# recoNu = recoNu.loc[recoNu.SNR_V>=5]\n",
    "print(len(recoNu))\n",
    "\n",
    "\n",
    "array2 = []\n",
    "R_True = []\n",
    "R_Reco = []\n",
    "propVec = []\n",
    "dot = []\n",
    "nnu_Reco = []\n",
    "rec_angle = []\n",
    "for i in recoNu.itertuples(): \n",
    "    thetaHat = np.array([np.cos(i.theta_reco)*np.cos(i.phi_reco), np.cos(i.theta_reco)*np.sin(i.phi_reco), -np.sin(i.theta_reco)])\n",
    "    phiHat = np.array([-np.sin(i.phi_reco), np.cos(i.phi_reco),0])\n",
    "    if(i.powerH==0 or i.powerV==0):\n",
    "        R_Reco.append(np.nan)\n",
    "        R_True.append(np.nan)\n",
    "        array2.append(np.nan)\n",
    "        dot.append(np.nan)\n",
    "        nnu_Reco.append(np.nan)\n",
    "        rec_angle.append(np.nan)\n",
    "        continue\n",
    "    R_Reco.append(np.sqrt(i.powerH/i.powerV))\n",
    "#     R_Reco.append(abs(i.peak_H/i.peak_V))\n",
    "    R = np.dot(i.PolTrue,phiHat)/(np.dot(i.PolTrue,thetaHat))\n",
    "    R_True.append(R)\n",
    "    array2.append(util.PolVectorRecoPower_debug(i.powerV,i.powerH, i.theta_reco, i.phi_reco,np.sign(R)))\n",
    "    phi_launch = np.arctan2(i.dirProp[1],i.dirProp[0])\n",
    "    theta_launch = np.pi-i.launch_ang\n",
    "    launchVec = SphericalToCartesian(phi_launch,theta_launch)\n",
    "    nnu_Reco.append(nuDirReco(i.PolTrue,launchVec,i.view_ang))\n",
    "    propVec = np.array([np.sin(i.theta_reco)*np.cos(i.phi_reco),np.sin(i.theta_reco)*np.sin(i.phi_reco),np.cos(i.theta_reco)])\n",
    "    dot.append(np.dot(propVec,i.PolTrue))\n",
    "    rec_angle.append(np.arccos(i.dirProp[2]))\n",
    "recoNu[\"PolReco2\"] = array2\n",
    "recoNu[\"nnu_Reco\"] = nnu_Reco\n",
    "recoNu[\"rec_angle\"] = rec_angle\n",
    "\n",
    "recoNu[\"R_True\"] = R_True\n",
    "recoNu[\"R_Reco\"] = R_Reco\n",
    "recoNu[\"dotProd\"] = dot\n",
    "recoNu = recoNu.dropna()\n",
    "\n",
    "Px_true = np.array([element[0] for element in recoNu.PolTrue])\n",
    "Py_true = np.array([element[1] for element in recoNu.PolTrue])\n",
    "Pz_true = np.array([element[2] for element in recoNu.PolTrue])\n",
    "\n",
    "Px_reco = np.array([element[0] for element in recoNu.PolReco2])\n",
    "Py_reco = np.array([element[1] for element in recoNu.PolReco2])\n",
    "Pz_reco = np.array([element[2] for element in recoNu.PolReco2])\n",
    "\n",
    "\n",
    "nnuX_true = np.array([element[0] for element in recoNu.nnu])\n",
    "nnuY_true = np.array([element[1] for element in recoNu.nnu])\n",
    "nnuZ_true = np.array([element[2] for element in recoNu.nnu])\n",
    "\n",
    "nnuX_reco = -1*np.array([element[0] for element in recoNu.nnu_Reco])\n",
    "nnuY_reco = -1*np.array([element[1] for element in recoNu.nnu_Reco])\n",
    "nnuZ_reco = -1*np.array([element[2] for element in recoNu.nnu_Reco])\n",
    "\n",
    "thetaNnu_true = np.degrees(np.arccos((nnuZ_true)))\n",
    "thetaNnu_reco = np.degrees(np.arccos((nnuZ_reco)))\n",
    "phiNnu_true = np.degrees(np.arctan((nnuY_true)/(nnuX_true)))\n",
    "phiNnu_reco = np.degrees(np.arctan((nnuY_reco)/(nnuX_reco)))\n",
    "\n",
    "recoNu[\"thetaNnu_reco\"] = thetaNnu_reco\n",
    "recoNu[\"phiNnu_reco\"] = phiNnu_reco\n",
    "recoNu[\"thetaNnu_true\"] = thetaNnu_true\n",
    "recoNu[\"phiNnu_true\"] = phiNnu_true\n",
    "recoNu[\"delta\"] = thetaNnu_reco-thetaNnu_true\n",
    "recoNu[\"deltaPhi\"] = phiNnu_reco-phiNnu_true\n",
    "\n",
    "recoNu = recoNu.dropna()"
   ]
  },
  {
   "cell_type": "code",
   "execution_count": 5,
   "metadata": {},
   "outputs": [
    {
     "data": {
      "text/plain": [
       "<matplotlib.collections.PathCollection at 0x2b097717b2b0>"
      ]
     },
     "execution_count": 5,
     "metadata": {},
     "output_type": "execute_result"
    },
    {
     "data": {
      "image/png": "[encoded data removed]",
      "text/plain": [
       "<Figure size 432x288 with 1 Axes>"
      ]
     },
     "metadata": {},
     "output_type": "display_data"
    }
   ],
   "source": [
    "plt.hist2d(np.degrees(recoNu.phi_reco),90-np.degrees(recoNu.theta_reco)+chAngle, bins=100, weights=recoNu.weight);\n",
    "plt.scatter(recoNu.phiNnu_true[0],90-recoNu.thetaNnu_true[0],s=100,c=\"red\",marker=\"*\",label =\"True source\")\n",
    "\n",
    "# plt.ylim(50,125)"
   ]
  },
  {
   "cell_type": "code",
   "execution_count": 6,
   "metadata": {},
   "outputs": [
    {
     "ename": "AttributeError",
     "evalue": "'DataFrame' object has no attribute 'phi_antenna'",
     "output_type": "error",
     "traceback": [
      "\u001b[0;31m---------------------------------------------------------------------------\u001b[0m",
      "\u001b[0;31mAttributeError\u001b[0m                            Traceback (most recent call last)",
      "\u001b[0;32m<ipython-input-6-b34a38e8912b>\u001b[0m in \u001b[0;36m<module>\u001b[0;34m()\u001b[0m\n\u001b[0;32m----> 1\u001b[0;31m \u001b[0mplt\u001b[0m\u001b[0;34m.\u001b[0m\u001b[0mhist2d\u001b[0m\u001b[0;34m(\u001b[0m\u001b[0mnp\u001b[0m\u001b[0;34m.\u001b[0m\u001b[0mdegrees\u001b[0m\u001b[0;34m(\u001b[0m\u001b[0mrecoNu\u001b[0m\u001b[0;34m.\u001b[0m\u001b[0mphi_antenna\u001b[0m\u001b[0;34m)\u001b[0m\u001b[0;34m,\u001b[0m\u001b[0;36m90\u001b[0m\u001b[0;34m-\u001b[0m\u001b[0mnp\u001b[0m\u001b[0;34m.\u001b[0m\u001b[0mdegrees\u001b[0m\u001b[0;34m(\u001b[0m\u001b[0mrecoNu\u001b[0m\u001b[0;34m.\u001b[0m\u001b[0mtheta_antenna\u001b[0m\u001b[0;34m)\u001b[0m\u001b[0;34m+\u001b[0m\u001b[0mchAngle\u001b[0m\u001b[0;34m,\u001b[0m \u001b[0mbins\u001b[0m\u001b[0;34m=\u001b[0m\u001b[0;36m100\u001b[0m\u001b[0;34m,\u001b[0m \u001b[0mweights\u001b[0m\u001b[0;34m=\u001b[0m\u001b[0mrecoNu\u001b[0m\u001b[0;34m.\u001b[0m\u001b[0mweight\u001b[0m\u001b[0;34m)\u001b[0m\u001b[0;34m;\u001b[0m\u001b[0;34m\u001b[0m\u001b[0m\n\u001b[0m\u001b[1;32m      2\u001b[0m \u001b[0mplt\u001b[0m\u001b[0;34m.\u001b[0m\u001b[0mscatter\u001b[0m\u001b[0;34m(\u001b[0m\u001b[0mrecoNu\u001b[0m\u001b[0;34m.\u001b[0m\u001b[0mphiNnu_true\u001b[0m\u001b[0;34m[\u001b[0m\u001b[0;36m0\u001b[0m\u001b[0;34m]\u001b[0m\u001b[0;34m,\u001b[0m\u001b[0mrecoNu\u001b[0m\u001b[0;34m.\u001b[0m\u001b[0mthetaNnu_true\u001b[0m\u001b[0;34m[\u001b[0m\u001b[0;36m0\u001b[0m\u001b[0;34m]\u001b[0m\u001b[0;34m-\u001b[0m\u001b[0;36m90\u001b[0m\u001b[0;34m,\u001b[0m\u001b[0ms\u001b[0m\u001b[0;34m=\u001b[0m\u001b[0;36m100\u001b[0m\u001b[0;34m,\u001b[0m\u001b[0mc\u001b[0m\u001b[0;34m=\u001b[0m\u001b[0;34m\"red\"\u001b[0m\u001b[0;34m,\u001b[0m\u001b[0mmarker\u001b[0m\u001b[0;34m=\u001b[0m\u001b[0;34m\"*\"\u001b[0m\u001b[0;34m,\u001b[0m\u001b[0mlabel\u001b[0m \u001b[0;34m=\u001b[0m\u001b[0;34m\"True source\"\u001b[0m\u001b[0;34m)\u001b[0m\u001b[0;34m\u001b[0m\u001b[0m\n\u001b[1;32m      3\u001b[0m \u001b[0;34m\u001b[0m\u001b[0m\n\u001b[1;32m      4\u001b[0m \u001b[0mplt\u001b[0m\u001b[0;34m.\u001b[0m\u001b[0mylim\u001b[0m\u001b[0;34m(\u001b[0m\u001b[0;36m40\u001b[0m\u001b[0;34m,\u001b[0m\u001b[0;36m70\u001b[0m\u001b[0;34m)\u001b[0m\u001b[0;34m\u001b[0m\u001b[0m\n",
      "\u001b[0;32m/usr/local/python/3.6-conda5.2/lib/python3.6/site-packages/pandas/core/generic.py\u001b[0m in \u001b[0;36m__getattr__\u001b[0;34m(self, name)\u001b[0m\n\u001b[1;32m   5272\u001b[0m             \u001b[0;32mif\u001b[0m \u001b[0mself\u001b[0m\u001b[0;34m.\u001b[0m\u001b[0m_info_axis\u001b[0m\u001b[0;34m.\u001b[0m\u001b[0m_can_hold_identifiers_and_holds_name\u001b[0m\u001b[0;34m(\u001b[0m\u001b[0mname\u001b[0m\u001b[0;34m)\u001b[0m\u001b[0;34m:\u001b[0m\u001b[0;34m\u001b[0m\u001b[0m\n\u001b[1;32m   5273\u001b[0m                 \u001b[0;32mreturn\u001b[0m \u001b[0mself\u001b[0m\u001b[0;34m[\u001b[0m\u001b[0mname\u001b[0m\u001b[0;34m]\u001b[0m\u001b[0;34m\u001b[0m\u001b[0m\n\u001b[0;32m-> 5274\u001b[0;31m             \u001b[0;32mreturn\u001b[0m \u001b[0mobject\u001b[0m\u001b[0;34m.\u001b[0m\u001b[0m__getattribute__\u001b[0m\u001b[0;34m(\u001b[0m\u001b[0mself\u001b[0m\u001b[0;34m,\u001b[0m \u001b[0mname\u001b[0m\u001b[0;34m)\u001b[0m\u001b[0;34m\u001b[0m\u001b[0m\n\u001b[0m\u001b[1;32m   5275\u001b[0m \u001b[0;34m\u001b[0m\u001b[0m\n\u001b[1;32m   5276\u001b[0m     \u001b[0;32mdef\u001b[0m \u001b[0m__setattr__\u001b[0m\u001b[0;34m(\u001b[0m\u001b[0mself\u001b[0m\u001b[0;34m,\u001b[0m \u001b[0mname\u001b[0m\u001b[0;34m:\u001b[0m \u001b[0mstr\u001b[0m\u001b[0;34m,\u001b[0m \u001b[0mvalue\u001b[0m\u001b[0;34m)\u001b[0m \u001b[0;34m->\u001b[0m \u001b[0;32mNone\u001b[0m\u001b[0;34m:\u001b[0m\u001b[0;34m\u001b[0m\u001b[0m\n",
      "\u001b[0;31mAttributeError\u001b[0m: 'DataFrame' object has no attribute 'phi_antenna'"
     ]
    }
   ],
   "source": [
    "plt.hist2d(np.degrees(recoNu.phi_antenna),90-np.degrees(recoNu.theta_antenna)+chAngle, bins=100, weights=recoNu.weight);\n",
    "plt.scatter(recoNu.phiNnu_true[0],recoNu.thetaNnu_true[0]-90,s=100,c=\"red\",marker=\"*\",label =\"True source\")\n",
    "\n",
    "plt.ylim(40,70)"
   ]
  },
  {
   "cell_type": "code",
   "execution_count": null,
   "metadata": {},
   "outputs": [],
   "source": [
    "plt.hist2d(recoNu.phiNnu_reco,recoNu.thetaNnu_reco, bins=200, weights=recoNu.weight);\n",
    "plt.scatter(recoNu.phiNnu_true[0],recoNu.thetaNnu_true[0],s=100,c=\"red\",marker=\"*\",label =\"True source\")\n",
    "plt.legend()\n",
    "# plt.xlim(-20,20)\n",
    "# plt.ylim(131,135)\n",
    "plt.xlabel(\"$\\phi$\")\n",
    "plt.ylabel(\"$\\\\theta$\")"
   ]
  },
  {
   "cell_type": "markdown",
   "metadata": {},
   "source": [
    "# Convert to Galactic coordinates with AstroPy"
   ]
  },
  {
   "cell_type": "code",
   "execution_count": null,
   "metadata": {},
   "outputs": [],
   "source": [
    "import astropy.units as u\n",
    "from astropy.time import Time\n",
    "from astropy.coordinates import SkyCoord, EarthLocation, AltAz\n",
    "import astropy.coordinates as coord\n",
    "from astropy.io import ascii"
   ]
  },
  {
   "cell_type": "code",
   "execution_count": null,
   "metadata": {},
   "outputs": [],
   "source": [
    "galactic_longitudes = np.arange(start=0, stop=360, step=0.1)\n",
    "galactic_latitudes = [0] * len(galactic_longitudes)\n",
    "icrs = SkyCoord(galactic_longitudes, galactic_latitudes, unit=\"deg\", frame=\"galactic\").icrs\n",
    "gal_ra = icrs.ra\n",
    "gal_ra = gal_ra.wrap_at(180*u.degree)\n",
    "gal_dec = icrs.dec\n",
    "\n",
    "gal_center_long = 180.\n",
    "gal_center_lat = 0.\n",
    "cena_long = 309.51589568\n",
    "cena_lat = 19.41727350\n",
    "icrs2 = SkyCoord(gal_center_long, gal_center_lat, unit=\"deg\", frame=\"galactic\").icrs\n",
    "gal_center_ra = icrs2.ra\n",
    "gal_center_ra = gal_center_ra.wrap_at(180*u.degree)\n",
    "gal_center_dec = icrs2.dec\n",
    "\n",
    "icrs3 = SkyCoord(cena_long, cena_lat, unit=\"deg\", frame=\"galactic\").icrs\n",
    "#cena_ra = icrs3.ra\n",
    "#cena_ra = cena_ra.wrap_at(180*u.degree)\n",
    "#cena_dec = icrs3.dec\n",
    "ra_gc=np.degrees(recoNu.phi_antenna)*u.degree\n",
    "dec_gc=(np.degrees(recoNu.theta_antenna)-chAngle)* u.degree\n",
    "ra_cena = 201.3625*u.degree\n",
    "dec_cena = -43.0192*u.degree\n",
    "\n",
    "true_ra = (recoNu.phiNnu_true[9])*u.degree\n",
    "true_dec = (recoNu.thetaNnu_true[9]-90)*u.degree\n",
    "c2 = SkyCoord(ra=true_ra, dec=true_dec, frame='icrs')\n",
    "true_ra = c2.ra.wrap_at(180 * u.deg).radian\n",
    "true_dec = c2.dec.radian\n",
    "\n",
    "reco_ra = (recoNu.phiNnu_reco)*u.degree\n",
    "reco_dec = (recoNu.thetaNnu_reco-90)*u.degree\n",
    "c3 = SkyCoord(ra=reco_ra, dec=reco_dec, frame='icrs')\n",
    "reco_ra = c3.ra.wrap_at(180 * u.deg).radian\n",
    "reco_dec = c3.dec.radian"
   ]
  },
  {
   "cell_type": "code",
   "execution_count": null,
   "metadata": {},
   "outputs": [],
   "source": [
    "c = SkyCoord(ra=ra_gc, dec=dec_gc, frame='icrs')\n",
    "fig = plt.figure(figsize=(8,6))\n",
    "\n",
    "ax = fig.add_subplot(111, projection=\"hammer\")\n",
    "ra_rad = c.ra.wrap_at(180 * u.deg).radian\n",
    "dec_rad = c.dec.radian\n",
    "ax.grid(color='k', linestyle='solid', linewidth=0.5)\n",
    "r = 90\n",
    "\n",
    "plt.plot(true_ra, -true_dec, '*',color='firebrick',markersize=15,mec='green',label='True source')\n",
    "plt.scatter(ra_rad, -dec_rad, alpha=0.6,label='Interferometric reco.')\n",
    "plt.scatter(reco_ra, -reco_dec, alpha=0.6,label='Reco source (interf. + pol. info)')\n",
    "\n",
    "\n",
    "# plt.scatter(recoNu.phiNnu_true[0]*u.degree,(recoNu.thetaNnu_true[0])*u.degree,c=\"red\",marker=\"*\",label =\"True source\")\n",
    "\n",
    "# ax.plot(cena_ra, cena_dec,'^',markersize=9,color='m',label='Centaurus A')\n",
    "# plt.plot(gal_ra.radian[0:2970], -gal_dec.radian[0:2970],color='firebrick',linewidth=2,label='Galactic Plane',zorder=1)\n",
    "# plt.plot(gal_ra.radian[2980:], -gal_dec.radian[2980:],color='firebrick',linewidth=2,zorder=2)\n",
    "\n",
    " \n",
    "\n",
    "# legend.get_frame().set_facecolor('#ffe4c4')\n",
    "ax.legend(loc = 'upper left')\n",
    "ax.set_ylabel('Dec (deg)') #give it a title\n",
    "ax.set_xlabel('RA (deg)',labelpad=20) #give it a title\n",
    "ax.axes.get_xaxis().set_ticks([-np.pi/3, -2*np.pi/3, -np.pi,0,np.pi/3, 2*np.pi/3, np.pi])\n",
    "plt.title(\"Directional reconstruction using MC truth\",y=1.08)\n",
    "\n",
    "ax_new = fig.add_axes([0.6, 0.6, 0.25, 0.2]) # the position of zoom-out plot compare to the ratio of zoom-in plot \n",
    "\n",
    "plt.plot(np.degrees(true_ra), np.degrees(-true_dec), '*',color='firebrick',markersize=15,mec='green',label='True source')\n",
    "plt.scatter(np.degrees(ra_rad), np.degrees(-dec_rad), alpha=0.6,label='Interferometric reco.')\n",
    "plt.scatter(np.degrees(reco_ra), np.degrees(-reco_dec), alpha=0.6,label='Reco source (interf. + pol. info)')\n",
    "ax_new.set_xticks(np.arange(-80,80,20))\n",
    "ax_new.set_yticks(np.arange(-60,40,10))\n",
    "ax_new.grid()\n",
    "\n",
    "for tick in ax_new.xaxis.get_major_ticks():\n",
    "                tick.label.set_fontsize(10) \n",
    "for tick in ax_new.yaxis.get_major_ticks():\n",
    "                tick.label.set_fontsize(10) \n",
    "plt.tight_layout()\n",
    "# ax.show()\n",
    "plt.savefig(my_path_plots+'/NuDirReco/SkyMap_fixedSourceKotera.png', dpi=250)"
   ]
  },
  {
   "cell_type": "code",
   "execution_count": null,
   "metadata": {},
   "outputs": [],
   "source": [
    "from scipy.stats import gaussian_kde\n",
    "from matplotlib.colors import BoundaryNorm\n",
    "from matplotlib.ticker import MaxNLocator\n",
    "import matplotlib.colors as colors\n",
    "import matplotlib.ticker as ticker\n",
    "from matplotlib.colors import LogNorm\n",
    "\n",
    "x=reco_ra\n",
    "y=-reco_dec\n",
    "# y = theta\n",
    "xy = np.vstack([x,y])\n",
    "kernel = gaussian_kde(xy, bw_method='silverman')\n",
    "\n",
    "xmin = min(x)-.1\n",
    "xmax = max(x)+.1\n",
    "ymin = min(y)-.1\n",
    "ymax = max(y)+.1"
   ]
  },
  {
   "cell_type": "code",
   "execution_count": null,
   "metadata": {},
   "outputs": [],
   "source": [
    "X, Y = np.mgrid[xmin:xmax:100j, ymin:ymax:100j]\n",
    "positions = np.vstack([X.ravel(), Y.ravel()])\n",
    "Z = np.reshape(kernel(positions).T, X.shape)"
   ]
  },
  {
   "cell_type": "code",
   "execution_count": null,
   "metadata": {},
   "outputs": [],
   "source": [
    "fig = plt.figure(figsize=(8,6))\n",
    "\n",
    "# ax = fig.add_subplot(111, projection=\"hammer\")\n",
    "\n",
    "levels = [1e-2]\n",
    "\n",
    "contours = plt.contour(X, Y, Z,levels,locator=plt.LogLocator(),colors=\"black\")\n",
    "# cmap = plt.contourf(X, Y, Z,200)\n",
    "fmt = ticker.LogFormatterMathtext()\n",
    "fmt.create_dummy_axis()\n",
    "plt.clabel(contours, contours.levels,color=\"black\", fmt=fmt, inline=True)\n",
    "# cmap=plt.pcolormesh(X, Y, Z,shading='gouraud', norm=colors.LogNorm(vmax=10))\n",
    "plt.scatter(reco_ra, -reco_dec, alpha=0.6,label='Reco source (interf. + pol. info)')\n",
    "\n",
    "# cmap = plt.get_cmap('PiYG')\n",
    "# plt.colorbar(cmap,label='Probability density',norm=LogNorm())\n",
    "plt.title(\"Hpol\", fontsize=14)\n",
    "plt.xlabel(\"$\\phi$\", fontsize=14)\n",
    "plt.ylabel(\"$\\cos(\\\\theta)$\", fontsize=14)\n",
    "plt.grid(color='k', linestyle='solid', linewidth=0.5)\n",
    "plt.tight_layout()\n",
    "# plt.savefig(\"KDE_CenA_recoPeak_300m_hpol.pdf\", dpi=300)"
   ]
  },
  {
   "cell_type": "code",
   "execution_count": null,
   "metadata": {},
   "outputs": [],
   "source": [
    "np.degrees(np.arccos(-0.03892302)) #From AraOut"
   ]
  },
  {
   "cell_type": "code",
   "execution_count": null,
   "metadata": {},
   "outputs": [],
   "source": [
    "87.8875 #From AraSim"
   ]
  },
  {
   "cell_type": "code",
   "execution_count": null,
   "metadata": {},
   "outputs": [],
   "source": [
    "180-np.degrees(np.arccos(-0.03892302)) #180-AraOut = AraSim"
   ]
  },
  {
   "cell_type": "markdown",
   "metadata": {},
   "source": [
    "### Scatter plot of receiving angle vs launch angle"
   ]
  },
  {
   "cell_type": "code",
   "execution_count": 7,
   "metadata": {},
   "outputs": [
    {
     "data": {
      "image/png": "[encoded data removed]",
      "text/plain": [
       "<Figure size 576x360 with 2 Axes>"
      ]
     },
     "metadata": {},
     "output_type": "display_data"
    }
   ],
   "source": [
    "plt.figure(figsize=(8,5))\n",
    "x = np.linspace(0,100,100)\n",
    "y = x\n",
    "plt.hist2d(np.degrees(np.pi-recoNu.rec_angle),np.degrees(recoNu.launch_ang),bins = 500, weights=recoNu.weight,norm=mpl.colors.LogNorm(vmin=1E-6,vmax=1E3));\n",
    "plt.grid()\n",
    "plt.colorbar(label=\"Counts [weighted]\")\n",
    "plt.xlabel(\"$\\\\theta_{receive}$ [deg]\")\n",
    "plt.ylabel(\"$\\\\theta_{launch}$ [deg]\")\n",
    "plt.title(\"Receive vs. launch angle for direct solutions\")\n",
    "plt.xlim(0,100)\n",
    "plt.ylim(0,100)\n",
    "plt.xticks(np.arange(0,100,10))\n",
    "plt.yticks(np.arange(0,100,10))\n",
    "\n",
    "plt.plot(x,y,\"--\", c = \"red\", alpha = 0.3, label = \"$y=x$\")\n",
    "plt.legend()\n",
    "plt.tight_layout()\n",
    "plt.savefig(my_path_plots+'/NuDirReco/receive_vs_launch_direct.png', dpi=250)\n"
   ]
  },
  {
   "cell_type": "code",
   "execution_count": 10,
   "metadata": {},
   "outputs": [
    {
     "data": {
      "text/html": [
       "<div>\n",
       "<style scoped>\n",
       "    .dataframe tbody tr th:only-of-type {\n",
       "        vertical-align: middle;\n",
       "    }\n",
       "\n",
       "    .dataframe tbody tr th {\n",
       "        vertical-align: top;\n",
       "    }\n",
       "\n",
       "    .dataframe thead th {\n",
       "        text-align: right;\n",
       "    }\n",
       "</style>\n",
       "<table border=\"1\" class=\"dataframe\">\n",
       "  <thead>\n",
       "    <tr style=\"text-align: right;\">\n",
       "      <th></th>\n",
       "      <th>rec_angle</th>\n",
       "      <th>launch_ang</th>\n",
       "    </tr>\n",
       "  </thead>\n",
       "  <tbody>\n",
       "    <tr>\n",
       "      <th>0</th>\n",
       "      <td>2.084096</td>\n",
       "      <td>1.022523</td>\n",
       "    </tr>\n",
       "    <tr>\n",
       "      <th>2</th>\n",
       "      <td>1.737203</td>\n",
       "      <td>1.319686</td>\n",
       "    </tr>\n",
       "    <tr>\n",
       "      <th>0</th>\n",
       "      <td>2.194831</td>\n",
       "      <td>0.920198</td>\n",
       "    </tr>\n",
       "    <tr>\n",
       "      <th>0</th>\n",
       "      <td>2.181849</td>\n",
       "      <td>0.934720</td>\n",
       "    </tr>\n",
       "    <tr>\n",
       "      <th>0</th>\n",
       "      <td>2.338354</td>\n",
       "      <td>0.784954</td>\n",
       "    </tr>\n",
       "    <tr>\n",
       "      <th>...</th>\n",
       "      <td>...</td>\n",
       "      <td>...</td>\n",
       "    </tr>\n",
       "    <tr>\n",
       "      <th>142</th>\n",
       "      <td>1.985823</td>\n",
       "      <td>1.113160</td>\n",
       "    </tr>\n",
       "    <tr>\n",
       "      <th>143</th>\n",
       "      <td>1.966250</td>\n",
       "      <td>1.128449</td>\n",
       "    </tr>\n",
       "    <tr>\n",
       "      <th>145</th>\n",
       "      <td>1.826458</td>\n",
       "      <td>1.246338</td>\n",
       "    </tr>\n",
       "    <tr>\n",
       "      <th>150</th>\n",
       "      <td>2.057996</td>\n",
       "      <td>1.049154</td>\n",
       "    </tr>\n",
       "    <tr>\n",
       "      <th>155</th>\n",
       "      <td>2.023661</td>\n",
       "      <td>1.080672</td>\n",
       "    </tr>\n",
       "  </tbody>\n",
       "</table>\n",
       "<p>115720 rows × 2 columns</p>\n",
       "</div>"
      ],
      "text/plain": [
       "     rec_angle  launch_ang\n",
       "0     2.084096    1.022523\n",
       "2     1.737203    1.319686\n",
       "0     2.194831    0.920198\n",
       "0     2.181849    0.934720\n",
       "0     2.338354    0.784954\n",
       "..         ...         ...\n",
       "142   1.985823    1.113160\n",
       "143   1.966250    1.128449\n",
       "145   1.826458    1.246338\n",
       "150   2.057996    1.049154\n",
       "155   2.023661    1.080672\n",
       "\n",
       "[115720 rows x 2 columns]"
      ]
     },
     "execution_count": 10,
     "metadata": {},
     "output_type": "execute_result"
    }
   ],
   "source": [
    "newDF = recoNu[['rec_angle', 'launch_ang']].copy()\n",
    "newDF"
   ]
  }
 ],
 "metadata": {
  "kernelspec": {
   "display_name": "Python 3.6 (Conda 5.2) [python/3.6-conda5.2]",
   "language": "python",
   "name": "sys_python36conda"
  },
  "language_info": {
   "codemirror_mode": {
    "name": "ipython",
    "version": 3
   },
   "file_extension": ".py",
   "mimetype": "text/x-python",
   "name": "python",
   "nbconvert_exporter": "python",
   "pygments_lexer": "ipython3",
   "version": "3.6.6"
  }
 },
 "nbformat": 4,
 "nbformat_minor": 4
}
