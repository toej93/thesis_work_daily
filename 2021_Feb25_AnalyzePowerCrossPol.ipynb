{
 "cells": [
  {
   "cell_type": "markdown",
   "metadata": {},
   "source": [
    "# Analyzer power to find crosspol contribution"
   ]
  },
  {
   "cell_type": "markdown",
   "metadata": {},
   "source": [
    "### Feb 26, 2021"
   ]
  },
  {
   "cell_type": "markdown",
   "metadata": {},
   "source": [
    "## Code"
   ]
  },
  {
   "cell_type": "code",
   "execution_count": 1,
   "metadata": {},
   "outputs": [],
   "source": [
    "import sys\n",
    "import csv\n",
    "# sys.path.insert(0,\"/users/PCON0003/cond0068/.local/lib/python3.7/\")\n",
    "sys.path.append(\"/users/PAS0654/osu8354/ARA_cvmfs/root_build/lib/\") # go to parent dir\n",
    "sys.path.append(\"/users/PCON0003/cond0068/.local/lib/python3.7/site-packages/\")\n",
    "# sys.path.append(\"/users/PCON0003/cond0068/pyrex_sims/fromBen/thesis_work/pyrex-custom/analysis/custom/analysis/\")\n",
    "# import ROOT\n",
    "import math\n",
    "import numpy as np\n",
    "# from ROOT import TH1D,TF1, gRandom, gPad, gStyle\n",
    "import matplotlib as mpl\n",
    "import matplotlib.pyplot as plt\n",
    "# from ROOT import TChain, TSelector, TTree\n",
    "import os\n",
    "import matplotlib.colors as mcolors\n",
    "import scipy\n",
    "from matplotlib.colors import LogNorm\n",
    "import pandas as pd\n",
    "import pyrex\n",
    "import seaborn as sns\n",
    "%matplotlib inline\n",
    "sys.path.insert(1, \"/users/PAS0654/osu8354/ARA_cvmfs/source/AraRoot/analysis/ARA_analysis/CenA_sourceSearch/Stokes\")\n",
    "# import deDisperse_util as util\n",
    "# from pyrex.internal_functions import normalize\n",
    "my_path_plots = os.path.abspath(\"./plots/\")\n",
    "# import pyrex.custom.ara as ara\n"
   ]
  },
  {
   "cell_type": "code",
   "execution_count": 2,
   "metadata": {},
   "outputs": [],
   "source": [
    "# mpl.use('agg') \n",
    "mpl.rcParams['text.usetex'] = True\n",
    "mpl.rcParams['text.latex.unicode'] = True\n",
    "mpl.rcParams['mathtext.rm'] = 'Times New Roman'\n",
    "mpl.rcParams['mathtext.it'] = 'Times New Roman:italic'\n",
    "mpl.rcParams['mathtext.bf'] = 'Times New Roman:bold'\n",
    "\n",
    "mpl.rc('font', family='serif', size=12)\n",
    "mpl.rcParams['xtick.labelsize'] = 14\n",
    "mpl.rcParams['ytick.labelsize'] = 14\n",
    "mpl.rcParams['xtick.major.size'] = 5\n",
    "mpl.rcParams['ytick.major.size'] = 5\n",
    "\n",
    "mpl.rcParams['axes.titlesize'] = 18\n",
    "mpl.rcParams['axes.labelsize'] = 18\n",
    "# mpl.rc('font', size=16)\n",
    "mpl.rc('axes', titlesize=20)\n",
    "\n",
    "current_palette = sns.color_palette('colorblind', 10)\n",
    "import warnings\n",
    "warnings.filterwarnings(\"ignore\")"
   ]
  },
  {
   "cell_type": "code",
   "execution_count": 3,
   "metadata": {},
   "outputs": [],
   "source": [
    "def rotation_matrix_from_vectors(vec1, vec2):\n",
    "    \"\"\" Find the rotation matrix that aligns vec1 to vec2\n",
    "    :param vec1: A 3d \"source\" vector\n",
    "    :param vec2: A 3d \"destination\" vector\n",
    "    :return mat: A transform matrix (3x3) which when applied to vec1, aligns it with vec2.\n",
    "    \"\"\"\n",
    "    a, b = (vec1 / np.linalg.norm(vec1)).reshape(3), (vec2 / np.linalg.norm(vec2)).reshape(3)\n",
    "    v = np.cross(a, b)\n",
    "    c = np.dot(a, b)\n",
    "    s = np.linalg.norm(v)\n",
    "    kmat = np.array([[0, -v[2], v[1]], [v[2], 0, -v[0]], [-v[1], v[0], 0]])\n",
    "    rotation_matrix = np.eye(3) + kmat + kmat.dot(kmat) * ((1 - c) / (s ** 2))\n",
    "    return rotation_matrix\n",
    "\n",
    "def rotatePolVector(launchVecSrc, recVec, PolVecAntenna):\n",
    "    recVec = -recVec #receiving vector needs to be reflected, otherwise rotation matrix will be off by pi\n",
    "    newPol = np.dot(PolVecAntenna,rotation_matrix_from_vectors(launchVecSrc,recVec))\n",
    "    return newPol\n",
    "\n",
    "def Rx(theta):\n",
    "    return np.matrix([[ 1, 0           , 0           ],\n",
    "                   [ 0, np.cos(theta),-np.sin(theta)],\n",
    "                   [ 0, np.sin(theta), np.cos(theta)]])"
   ]
  },
  {
   "cell_type": "markdown",
   "metadata": {},
   "source": [
    "#### From Dave Besson, the cross pol is of about 25%, and it's due to the transmitter beam pattern."
   ]
  },
  {
   "cell_type": "markdown",
   "metadata": {},
   "source": [
    "## Expected polarization "
   ]
  },
  {
   "cell_type": "code",
   "execution_count": 4,
   "metadata": {},
   "outputs": [],
   "source": [
    "def estimatePolRayTracer(depth):\n",
    "    #Take depth of pulser and calculate polarization rotation based on raytracer results.\n",
    "    rt = pyrex.RayTracer(from_point=(0, 0, -depth), to_point=(2400, 0, -179.93)) #Use the depth of the transmitter as the z-\n",
    "    #coordinate. A2 is at a horizontal distance of 2400 m from the pulser, and at a depth of 179.93 m\n",
    "    path = rt.solutions[0] #We only care about direct solutions\n",
    "    rotMat = rotation_matrix_from_vectors(path.received_direction,path.emitted_direction)\n",
    "    initPulserPol = np.array([0,0,1])\n",
    "#     initPulserPol = np.array([np.sqrt(0.25/2),np.sqrt(0.25/2),np.sqrt(0.75)])\n",
    "    rotAngle = np.pi/2-np.arccos(path.emitted_direction[2])\n",
    "#     pulserPol = np.array(np.matmul(initPulserPol,Rx(rotAngle)))[0]\n",
    "    rotatedPol = np.dot(initPulserPol,rotMat)\n",
    "    newOmegaPol = np.degrees(np.arccos(rotatedPol[2]))\n",
    "    return newOmegaPol-np.degrees(rotAngle)"
   ]
  },
  {
   "cell_type": "markdown",
   "metadata": {},
   "source": [
    "# Load data"
   ]
  },
  {
   "cell_type": "markdown",
   "metadata": {},
   "source": [
    "### Dec 26"
   ]
  },
  {
   "cell_type": "code",
   "execution_count": 5,
   "metadata": {},
   "outputs": [],
   "source": [
    "SpiceCore0 = pd.read_pickle(\"../ARA_analysis/ARA_Reconstruction/RecoOmegaCh0_8_run_012577.pkl\")\n",
    "# SpiceCore0 = SpiceCore0.loc[SpiceCore0.theta_reco>=90]\n",
    "\n",
    "SpiceCore1 = pd.read_pickle(\"../ARA_analysis/ARA_Reconstruction/RecoOmegaCh1_9_run_012577.pkl\")\n",
    "# SpiceCore1 = SpiceCore1.loc[SpiceCore1.theta_reco>=90]\n",
    "\n",
    "SpiceCore2 = pd.read_pickle(\"../ARA_analysis/ARA_Reconstruction/RecoOmegaCh2_10_run_012577.pkl\")\n",
    "# SpiceCore2 = SpiceCore2.loc[SpiceCore2.theta_reco>=90]\n",
    "\n",
    "SpiceCore3 = pd.read_pickle(\"../ARA_analysis/ARA_Reconstruction/RecoOmegaCh3_11_run_012577.pkl\")\n",
    "# SpiceCore3 = SpiceCore3.loc[SpiceCore3.theta_reco>=90]\n",
    "\n",
    "SpiceCore4 = pd.read_pickle(\"../ARA_analysis/ARA_Reconstruction/RecoOmegaCh4_12_run_012577.pkl\")\n",
    "# SpiceCore4 = SpiceCore4.loc[SpiceCore4.theta_reco>=90]\n",
    "\n",
    "SpiceCore5 = pd.read_pickle(\"../ARA_analysis/ARA_Reconstruction/RecoOmegaCh5_13_run_012577.pkl\")\n",
    "# SpiceCore5 = SpiceCore5.loc[SpiceCore5.theta_reco>=90]\n",
    "\n",
    "SpiceCore6 = pd.read_pickle(\"../ARA_analysis/ARA_Reconstruction/RecoOmegaCh6_14_run_012577.pkl\")\n",
    "# SpiceCore6 = SpiceCore6.loc[SpiceCore6.theta_reco>=90]"
   ]
  },
  {
   "cell_type": "code",
   "execution_count": 6,
   "metadata": {},
   "outputs": [],
   "source": [
    "depth_1226 = pd.read_csv(\"./plots/SpiceCorePolReco/A2_1226Depth.txt\")\n",
    "time = pd.to_datetime(depth_1226.NZ_Time)\n",
    "# time = time.reindex(time)\n",
    "# time = time.tz_localize('NZ').tz_convert(\"UTC\")\n",
    "time.head()\n",
    "newTime = time.apply(lambda dt: dt.replace(day=26, month = 12, year = 2018))\n",
    "# newTime#Still in NZ local time. Need to translate to UTC\n",
    "df = pd.DataFrame(1, index=newTime, columns=['X'])\n",
    "import pytz\n",
    "nz = pytz.timezone('NZ')\n",
    "utc = pytz.timezone('UTC')\n",
    "df.index = df.index.tz_localize(nz).tz_convert(utc)\n",
    "unixTimeDepth = (df.index - pd.Timestamp(\"1970-01-01\").tz_localize(utc)) // pd.Timedelta('1s')#This is unix time "
   ]
  },
  {
   "cell_type": "code",
   "execution_count": 7,
   "metadata": {},
   "outputs": [],
   "source": [
    "f = scipy.interpolate.interp1d(unixTimeDepth, depth_1226.depth,bounds_error=False, fill_value=0.)\n",
    "SpiceCore2ForInterp = SpiceCore2.loc[(SpiceCore2.unixtime>min(SpiceCore2.unixtime)) & (SpiceCore2.unixtime<3.5*1E3+1.54579*1E9)]\n",
    "interp_depth = f(SpiceCore2ForInterp.unixtime)\n",
    "SpiceCore2ForInterp[\"interp_depth\"] = interp_depth"
   ]
  },
  {
   "cell_type": "code",
   "execution_count": 8,
   "metadata": {},
   "outputs": [],
   "source": [
    "SpiceCore0ForInterp = SpiceCore0.loc[(SpiceCore0.unixtime>min(SpiceCore0.unixtime)) & (SpiceCore0.unixtime<3.5*1E3+1.54579*1E9)]\n",
    "interp_depth = f(SpiceCore0ForInterp.unixtime)\n",
    "SpiceCore0ForInterp[\"interp_depth\"] = interp_depth\n",
    "\n",
    "SpiceCore1ForInterp = SpiceCore1.loc[(SpiceCore1.unixtime>min(SpiceCore1.unixtime)) & (SpiceCore1.unixtime<3.5*1E3+1.54579*1E9)]\n",
    "interp_depth = f(SpiceCore1ForInterp.unixtime)\n",
    "SpiceCore1ForInterp[\"interp_depth\"] = interp_depth\n",
    "\n",
    "SpiceCore2ForInterp = SpiceCore2.loc[(SpiceCore2.unixtime>min(SpiceCore2.unixtime)) & (SpiceCore2.unixtime<3.5*1E3+1.54579*1E9)]\n",
    "interp_depth = f(SpiceCore2ForInterp.unixtime)\n",
    "SpiceCore2ForInterp[\"interp_depth\"] = interp_depth\n",
    "\n",
    "SpiceCore3ForInterp = SpiceCore3.loc[(SpiceCore3.unixtime>min(SpiceCore3.unixtime)) & (SpiceCore3.unixtime<3.5*1E3+1.54579*1E9)]\n",
    "interp_depth = f(SpiceCore3ForInterp.unixtime)\n",
    "SpiceCore3ForInterp[\"interp_depth\"] = interp_depth\n",
    "\n",
    "SpiceCore4ForInterp = SpiceCore4.loc[(SpiceCore4.unixtime>min(SpiceCore4.unixtime)) & (SpiceCore4.unixtime<3.5*1E3+1.54579*1E9)]\n",
    "interp_depth = f(SpiceCore4ForInterp.unixtime)\n",
    "SpiceCore4ForInterp[\"interp_depth\"] = interp_depth\n",
    "\n",
    "SpiceCore5ForInterp = SpiceCore5.loc[(SpiceCore5.unixtime>min(SpiceCore5.unixtime)) & (SpiceCore5.unixtime<3.5*1E3+1.54579*1E9)]\n",
    "interp_depth = f(SpiceCore5ForInterp.unixtime)\n",
    "SpiceCore5ForInterp[\"interp_depth\"] = interp_depth\n",
    "\n",
    "SpiceCore6ForInterp = SpiceCore6.loc[(SpiceCore6.unixtime>min(SpiceCore6.unixtime)) & (SpiceCore6.unixtime<3.5*1E3+1.54579*1E9)]\n",
    "interp_depth = f(SpiceCore6ForInterp.unixtime)\n",
    "SpiceCore6ForInterp[\"interp_depth\"] = interp_depth"
   ]
  },
  {
   "cell_type": "code",
   "execution_count": 20,
   "metadata": {},
   "outputs": [
    {
     "data": {
      "text/html": [
       "<div>\n",
       "<style scoped>\n",
       "    .dataframe tbody tr th:only-of-type {\n",
       "        vertical-align: middle;\n",
       "    }\n",
       "\n",
       "    .dataframe tbody tr th {\n",
       "        vertical-align: top;\n",
       "    }\n",
       "\n",
       "    .dataframe thead th {\n",
       "        text-align: right;\n",
       "    }\n",
       "</style>\n",
       "<table border=\"1\" class=\"dataframe\">\n",
       "  <thead>\n",
       "    <tr style=\"text-align: right;\">\n",
       "      <th></th>\n",
       "      <th>EvNum</th>\n",
       "      <th>Omega_reco</th>\n",
       "      <th>unixtime</th>\n",
       "      <th>SNR_V</th>\n",
       "      <th>SNR_H</th>\n",
       "      <th>theta_reco</th>\n",
       "      <th>power_V</th>\n",
       "      <th>power_H</th>\n",
       "      <th>powerV_noise</th>\n",
       "      <th>powerH_noise</th>\n",
       "      <th>interp_depth</th>\n",
       "      <th>Omega_reco2</th>\n",
       "    </tr>\n",
       "  </thead>\n",
       "  <tbody>\n",
       "    <tr>\n",
       "      <th>1</th>\n",
       "      <td>8408</td>\n",
       "      <td>45.049790</td>\n",
       "      <td>1545787829</td>\n",
       "      <td>8.280617</td>\n",
       "      <td>1.011316</td>\n",
       "      <td>45.0</td>\n",
       "      <td>2.247058e+07</td>\n",
       "      <td>2.071045e+07</td>\n",
       "      <td>6.979042e+06</td>\n",
       "      <td>5.164978e+06</td>\n",
       "      <td>1441.650000</td>\n",
       "      <td>45.0</td>\n",
       "    </tr>\n",
       "    <tr>\n",
       "      <th>2</th>\n",
       "      <td>14725</td>\n",
       "      <td>46.525709</td>\n",
       "      <td>1545788957</td>\n",
       "      <td>8.151678</td>\n",
       "      <td>2.650173</td>\n",
       "      <td>40.0</td>\n",
       "      <td>2.201129e+07</td>\n",
       "      <td>2.188760e+07</td>\n",
       "      <td>6.979042e+06</td>\n",
       "      <td>5.164978e+06</td>\n",
       "      <td>1284.511905</td>\n",
       "      <td>50.0</td>\n",
       "    </tr>\n",
       "    <tr>\n",
       "      <th>3</th>\n",
       "      <td>19862</td>\n",
       "      <td>3.538807</td>\n",
       "      <td>1545789840</td>\n",
       "      <td>16.867103</td>\n",
       "      <td>2.546491</td>\n",
       "      <td>115.0</td>\n",
       "      <td>3.716380e+08</td>\n",
       "      <td>6.559614e+06</td>\n",
       "      <td>6.979042e+06</td>\n",
       "      <td>5.164978e+06</td>\n",
       "      <td>1140.000000</td>\n",
       "      <td>25.0</td>\n",
       "    </tr>\n",
       "    <tr>\n",
       "      <th>4</th>\n",
       "      <td>19952</td>\n",
       "      <td>7.693883</td>\n",
       "      <td>1545789857</td>\n",
       "      <td>14.379622</td>\n",
       "      <td>3.012198</td>\n",
       "      <td>114.0</td>\n",
       "      <td>5.555183e+08</td>\n",
       "      <td>1.517642e+07</td>\n",
       "      <td>6.979042e+06</td>\n",
       "      <td>5.164978e+06</td>\n",
       "      <td>1137.166667</td>\n",
       "      <td>24.0</td>\n",
       "    </tr>\n",
       "    <tr>\n",
       "      <th>5</th>\n",
       "      <td>20099</td>\n",
       "      <td>5.690687</td>\n",
       "      <td>1545789884</td>\n",
       "      <td>21.804438</td>\n",
       "      <td>2.997519</td>\n",
       "      <td>115.0</td>\n",
       "      <td>5.772374e+08</td>\n",
       "      <td>1.082761e+07</td>\n",
       "      <td>6.979042e+06</td>\n",
       "      <td>5.164978e+06</td>\n",
       "      <td>1132.666667</td>\n",
       "      <td>25.0</td>\n",
       "    </tr>\n",
       "    <tr>\n",
       "      <th>6</th>\n",
       "      <td>20329</td>\n",
       "      <td>6.196452</td>\n",
       "      <td>1545789924</td>\n",
       "      <td>34.302168</td>\n",
       "      <td>2.473993</td>\n",
       "      <td>114.0</td>\n",
       "      <td>4.385364e+08</td>\n",
       "      <td>1.025213e+07</td>\n",
       "      <td>6.979042e+06</td>\n",
       "      <td>5.164978e+06</td>\n",
       "      <td>1127.000000</td>\n",
       "      <td>24.0</td>\n",
       "    </tr>\n",
       "    <tr>\n",
       "      <th>7</th>\n",
       "      <td>22611</td>\n",
       "      <td>12.157900</td>\n",
       "      <td>1545790282</td>\n",
       "      <td>21.213089</td>\n",
       "      <td>0.133709</td>\n",
       "      <td>69.0</td>\n",
       "      <td>2.899082e+08</td>\n",
       "      <td>1.829680e+07</td>\n",
       "      <td>6.979042e+06</td>\n",
       "      <td>5.164978e+06</td>\n",
       "      <td>1076.333333</td>\n",
       "      <td>21.0</td>\n",
       "    </tr>\n",
       "    <tr>\n",
       "      <th>8</th>\n",
       "      <td>22843</td>\n",
       "      <td>9.594864</td>\n",
       "      <td>1545790321</td>\n",
       "      <td>23.821427</td>\n",
       "      <td>0.931748</td>\n",
       "      <td>113.0</td>\n",
       "      <td>7.137921e+08</td>\n",
       "      <td>2.536305e+07</td>\n",
       "      <td>6.979042e+06</td>\n",
       "      <td>5.164978e+06</td>\n",
       "      <td>1069.833333</td>\n",
       "      <td>23.0</td>\n",
       "    </tr>\n",
       "    <tr>\n",
       "      <th>9</th>\n",
       "      <td>23380</td>\n",
       "      <td>13.304966</td>\n",
       "      <td>1545790398</td>\n",
       "      <td>21.892469</td>\n",
       "      <td>2.920239</td>\n",
       "      <td>113.0</td>\n",
       "      <td>2.891047e+08</td>\n",
       "      <td>2.094243e+07</td>\n",
       "      <td>6.979042e+06</td>\n",
       "      <td>5.164978e+06</td>\n",
       "      <td>1057.000000</td>\n",
       "      <td>23.0</td>\n",
       "    </tr>\n",
       "    <tr>\n",
       "      <th>10</th>\n",
       "      <td>25363</td>\n",
       "      <td>8.311387</td>\n",
       "      <td>1545790711</td>\n",
       "      <td>16.603915</td>\n",
       "      <td>0.129982</td>\n",
       "      <td>111.0</td>\n",
       "      <td>2.485575e+08</td>\n",
       "      <td>1.032062e+07</td>\n",
       "      <td>6.979042e+06</td>\n",
       "      <td>5.164978e+06</td>\n",
       "      <td>1012.361111</td>\n",
       "      <td>21.0</td>\n",
       "    </tr>\n",
       "    <tr>\n",
       "      <th>11</th>\n",
       "      <td>27162</td>\n",
       "      <td>NaN</td>\n",
       "      <td>1545790996</td>\n",
       "      <td>8.308521</td>\n",
       "      <td>3.582513</td>\n",
       "      <td>42.0</td>\n",
       "      <td>-1.000000e+00</td>\n",
       "      <td>3.160114e+07</td>\n",
       "      <td>6.979042e+06</td>\n",
       "      <td>5.164978e+06</td>\n",
       "      <td>956.933333</td>\n",
       "      <td>48.0</td>\n",
       "    </tr>\n",
       "    <tr>\n",
       "      <th>12</th>\n",
       "      <td>30977</td>\n",
       "      <td>45.313169</td>\n",
       "      <td>1545791573</td>\n",
       "      <td>8.326222</td>\n",
       "      <td>1.166363</td>\n",
       "      <td>46.0</td>\n",
       "      <td>2.312678e+07</td>\n",
       "      <td>2.166966e+07</td>\n",
       "      <td>6.979042e+06</td>\n",
       "      <td>5.164978e+06</td>\n",
       "      <td>846.341667</td>\n",
       "      <td>44.0</td>\n",
       "    </tr>\n",
       "    <tr>\n",
       "      <th>13</th>\n",
       "      <td>34164</td>\n",
       "      <td>50.270985</td>\n",
       "      <td>1545792063</td>\n",
       "      <td>8.631392</td>\n",
       "      <td>3.071584</td>\n",
       "      <td>47.0</td>\n",
       "      <td>1.942787e+07</td>\n",
       "      <td>2.318899e+07</td>\n",
       "      <td>6.979042e+06</td>\n",
       "      <td>5.164978e+06</td>\n",
       "      <td>759.500000</td>\n",
       "      <td>43.0</td>\n",
       "    </tr>\n",
       "    <tr>\n",
       "      <th>14</th>\n",
       "      <td>37759</td>\n",
       "      <td>35.837305</td>\n",
       "      <td>1545792616</td>\n",
       "      <td>8.535119</td>\n",
       "      <td>1.731947</td>\n",
       "      <td>49.0</td>\n",
       "      <td>2.423429e+07</td>\n",
       "      <td>1.416517e+07</td>\n",
       "      <td>6.979042e+06</td>\n",
       "      <td>5.164978e+06</td>\n",
       "      <td>656.800000</td>\n",
       "      <td>41.0</td>\n",
       "    </tr>\n",
       "  </tbody>\n",
       "</table>\n",
       "</div>"
      ],
      "text/plain": [
       "    EvNum  Omega_reco    unixtime      SNR_V     SNR_H  theta_reco  \\\n",
       "1    8408   45.049790  1545787829   8.280617  1.011316        45.0   \n",
       "2   14725   46.525709  1545788957   8.151678  2.650173        40.0   \n",
       "3   19862    3.538807  1545789840  16.867103  2.546491       115.0   \n",
       "4   19952    7.693883  1545789857  14.379622  3.012198       114.0   \n",
       "5   20099    5.690687  1545789884  21.804438  2.997519       115.0   \n",
       "6   20329    6.196452  1545789924  34.302168  2.473993       114.0   \n",
       "7   22611   12.157900  1545790282  21.213089  0.133709        69.0   \n",
       "8   22843    9.594864  1545790321  23.821427  0.931748       113.0   \n",
       "9   23380   13.304966  1545790398  21.892469  2.920239       113.0   \n",
       "10  25363    8.311387  1545790711  16.603915  0.129982       111.0   \n",
       "11  27162         NaN  1545790996   8.308521  3.582513        42.0   \n",
       "12  30977   45.313169  1545791573   8.326222  1.166363        46.0   \n",
       "13  34164   50.270985  1545792063   8.631392  3.071584        47.0   \n",
       "14  37759   35.837305  1545792616   8.535119  1.731947        49.0   \n",
       "\n",
       "         power_V       power_H  powerV_noise  powerH_noise  interp_depth  \\\n",
       "1   2.247058e+07  2.071045e+07  6.979042e+06  5.164978e+06   1441.650000   \n",
       "2   2.201129e+07  2.188760e+07  6.979042e+06  5.164978e+06   1284.511905   \n",
       "3   3.716380e+08  6.559614e+06  6.979042e+06  5.164978e+06   1140.000000   \n",
       "4   5.555183e+08  1.517642e+07  6.979042e+06  5.164978e+06   1137.166667   \n",
       "5   5.772374e+08  1.082761e+07  6.979042e+06  5.164978e+06   1132.666667   \n",
       "6   4.385364e+08  1.025213e+07  6.979042e+06  5.164978e+06   1127.000000   \n",
       "7   2.899082e+08  1.829680e+07  6.979042e+06  5.164978e+06   1076.333333   \n",
       "8   7.137921e+08  2.536305e+07  6.979042e+06  5.164978e+06   1069.833333   \n",
       "9   2.891047e+08  2.094243e+07  6.979042e+06  5.164978e+06   1057.000000   \n",
       "10  2.485575e+08  1.032062e+07  6.979042e+06  5.164978e+06   1012.361111   \n",
       "11 -1.000000e+00  3.160114e+07  6.979042e+06  5.164978e+06    956.933333   \n",
       "12  2.312678e+07  2.166966e+07  6.979042e+06  5.164978e+06    846.341667   \n",
       "13  1.942787e+07  2.318899e+07  6.979042e+06  5.164978e+06    759.500000   \n",
       "14  2.423429e+07  1.416517e+07  6.979042e+06  5.164978e+06    656.800000   \n",
       "\n",
       "    Omega_reco2  \n",
       "1          45.0  \n",
       "2          50.0  \n",
       "3          25.0  \n",
       "4          24.0  \n",
       "5          25.0  \n",
       "6          24.0  \n",
       "7          21.0  \n",
       "8          23.0  \n",
       "9          23.0  \n",
       "10         21.0  \n",
       "11         48.0  \n",
       "12         44.0  \n",
       "13         43.0  \n",
       "14         41.0  "
      ]
     },
     "execution_count": 20,
     "metadata": {},
     "output_type": "execute_result"
    }
   ],
   "source": [
    "SpiceCore6ForInterp"
   ]
  },
  {
   "cell_type": "code",
   "execution_count": 21,
   "metadata": {},
   "outputs": [],
   "source": [
    "SpiceCore6ForInterp[\"R\"] = np.sqrt((SpiceCore6ForInterp.power_H-SpiceCore6ForInterp.powerH_noise)/(SpiceCore6ForInterp.power_V-SpiceCore6ForInterp.powerV_noise))\n",
    "SpiceCore6ForInterp[\"Omega_reco2\"] = np.degrees(np.arccos(np.sin(np.radians(SpiceCore6ForInterp.theta_reco))/np.sqrt(1+SpiceCore6ForInterp.R**2)))"
   ]
  },
  {
   "cell_type": "code",
   "execution_count": 16,
   "metadata": {},
   "outputs": [
    {
     "data": {
      "text/plain": [
       "Text(0,0.5,'$H_{power}$/$V_{power}$ [noise subtracted]')"
      ]
     },
     "execution_count": 16,
     "metadata": {},
     "output_type": "execute_result"
    },
    {
     "data": {
      "image/png": "[encoded data removed]",
      "text/plain": [
       "<Figure size 432x288 with 1 Axes>"
      ]
     },
     "metadata": {},
     "output_type": "display_data"
    }
   ],
   "source": [
    "plt.scatter(SpiceCore0ForInterp.interp_depth, np.sqrt(SpiceCore0ForInterp.power_H-SpiceCore0ForInterp.powerH_noise)/np.sqrt(SpiceCore0ForInterp.power_V-SpiceCore0ForInterp.powerV_noise))\n",
    "# plt.colorbar(label = \"Counts\")\n",
    "# plt.yscale(\"log\")\n",
    "# plt.xscale(\"log\")\n",
    "plt.ylim(0,0.15)\n",
    "plt.xlim(500,600)\n",
    "\n",
    "plt.xlabel(\"Pulser depth [m]\")\n",
    "plt.ylabel(\"$H_{power}$/$V_{power}$ [noise subtracted]\")"
   ]
  },
  {
   "cell_type": "code",
   "execution_count": 64,
   "metadata": {},
   "outputs": [
    {
     "data": {
      "text/plain": [
       "0.5729386976834859"
      ]
     },
     "execution_count": 64,
     "metadata": {},
     "output_type": "execute_result"
    }
   ],
   "source": [
    "np.degrees(np.arctan(0.01))"
   ]
  },
  {
   "cell_type": "code",
   "execution_count": 43,
   "metadata": {},
   "outputs": [
    {
     "name": "stderr",
     "output_type": "stream",
     "text": [
      "No handles with labels found to put in legend.\n"
     ]
    },
    {
     "data": {
      "image/png": "[encoded data removed]",
      "text/plain": [
       "<Figure size 1008x360 with 8 Axes>"
      ]
     },
     "metadata": {},
     "output_type": "display_data"
    }
   ],
   "source": [
    "fig, ax = plt.subplots(2, 4, sharex='col', sharey='row', figsize=(14,5))\n",
    "axs = ax.ravel()\n",
    "sns.regplot(x=SpiceCore0ForInterp.interp_depth, y=SpiceCore0ForInterp.Omega_reco, x_bins=50, fit_reg=None, ax =axs[0], label = \"$\\Omega_{reco}$ [Ch0, Ch8]\")\n",
    "sns.regplot(x=SpiceCore1ForInterp.interp_depth, y=SpiceCore1ForInterp.Omega_reco, x_bins=50, fit_reg=None, ax =axs[1], label = \"$\\Omega_{reco}$ [Ch1, Ch9]\")\n",
    "sns.regplot(x=SpiceCore2ForInterp.interp_depth, y=SpiceCore2ForInterp.Omega_reco, x_bins=50, fit_reg=None, ax =axs[2], label = \"$\\Omega_{reco}$ [Ch2, Ch10]\")\n",
    "sns.regplot(x=SpiceCore3ForInterp.interp_depth, y=SpiceCore3ForInterp.Omega_reco, x_bins=50, fit_reg=None, ax =axs[3], label = \"$\\Omega_{reco}$ [Ch3, Ch11]\")\n",
    "sns.regplot(x=SpiceCore4ForInterp.interp_depth, y=SpiceCore4ForInterp.Omega_reco, x_bins=50, fit_reg=None, ax =axs[4], label = \"$\\Omega_{reco}$ [Ch4, Ch12]\")\n",
    "sns.regplot(x=SpiceCore5ForInterp.interp_depth, y=SpiceCore5ForInterp.Omega_reco, x_bins=50, fit_reg=None, ax =axs[5], label = \"$\\Omega_{reco}$ [Ch5, Ch13]\")\n",
    "sns.regplot(x=SpiceCore6ForInterp.interp_depth, y=SpiceCore6ForInterp.Omega_reco, x_bins=50, fit_reg=None, ax =axs[6], label = \"$\\Omega_{reco}$ [Ch6, Ch14]\")\n",
    "\n",
    "# axs[6].set_xlabel(\"unixTime\")\n",
    "fig.text(0.5, 0.03, 'Pulser depth [m]', ha='center', va='center', fontsize=20)\n",
    "fig.text(0.03, 0.5, '$\\Omega_{reco}$ [deg]', ha='center', va='center', rotation='vertical', fontsize=20)\n",
    "\n",
    "for ax in axs:\n",
    "#     ax.set_xlabel(\"a\")\n",
    "    ax.set_xlim(350,1200)\n",
    "#     ax.set_ylim(0,25)\n",
    "    ax.set(xlabel=\"\", ylabel = \"\")\n",
    "#     ax.plot(depthArr,pol,\"--\",lw=3,c =\"darkviolet\", label = \"$\\Omega_{true}$\")\n",
    "\n",
    "\n",
    "    ax.legend(loc=\"upper right\")\n",
    "\n",
    "plt.suptitle(\"Run 012577 [Dec 26, 2018]\", fontsize=20)\n",
    "plt.tight_layout(rect=[0.03, 0.03, 1, 0.95])\n",
    "# plt.savefig(my_path_plots+'/SpiceCorePolReco/SpiceCoreScatterOmegaRecoTrueVsDepth_run012577_AllCh_reject_Profile_wSatCut.png', dpi=250)\n",
    "# plt.savefig(my_path_plots+'/SpiceCorePolReco/SpiceCoreOmegaRecoTrueVsDepth_run012577_beforeDelays.png', dpi=250)\n"
   ]
  },
  {
   "cell_type": "markdown",
   "metadata": {},
   "source": [
    "# Dec 24"
   ]
  },
  {
   "cell_type": "code",
   "execution_count": 24,
   "metadata": {},
   "outputs": [],
   "source": [
    "SpiceCore0 = pd.read_pickle(\"../ARA_analysis/ARA_Reconstruction/RecoOmegaCh0_8_run_012559.pkl\")\n",
    "SpiceCore0 = SpiceCore0.loc[SpiceCore0.theta_reco>=90]\n",
    "\n",
    "SpiceCore1 = pd.read_pickle(\"../ARA_analysis/ARA_Reconstruction/RecoOmegaCh1_9_run_012559.pkl\")\n",
    "SpiceCore1 = SpiceCore1.loc[SpiceCore1.theta_reco>=90]\n",
    "\n",
    "SpiceCore2 = pd.read_pickle(\"../ARA_analysis/ARA_Reconstruction/RecoOmegaCh2_10_run_012559.pkl\")\n",
    "SpiceCore2 = SpiceCore2.loc[SpiceCore2.theta_reco>=90]\n",
    "\n",
    "SpiceCore3 = pd.read_pickle(\"../ARA_analysis/ARA_Reconstruction/RecoOmegaCh3_11_run_012559.pkl\")\n",
    "SpiceCore3 = SpiceCore3.loc[SpiceCore3.theta_reco>=90]\n",
    "\n",
    "SpiceCore4 = pd.read_pickle(\"../ARA_analysis/ARA_Reconstruction/RecoOmegaCh4_12_run_012559.pkl\")\n",
    "SpiceCore4 = SpiceCore4.loc[SpiceCore4.theta_reco>=90]\n",
    "\n",
    "SpiceCore5 = pd.read_pickle(\"../ARA_analysis/ARA_Reconstruction/RecoOmegaCh5_13_run_012559.pkl\")\n",
    "SpiceCore5 = SpiceCore5.loc[SpiceCore5.theta_reco>=90]\n",
    "\n",
    "SpiceCore6 = pd.read_pickle(\"../ARA_analysis/ARA_Reconstruction/RecoOmegaCh6_14_run_012559.pkl\")\n",
    "SpiceCore6 = SpiceCore6.loc[SpiceCore6.theta_reco>=90]"
   ]
  },
  {
   "cell_type": "code",
   "execution_count": 25,
   "metadata": {},
   "outputs": [],
   "source": [
    "depth_1224 = pd.read_csv(\"./plots/SpiceCorePolReco/A2_1224Depth.txt\")\n",
    "time = pd.to_datetime(depth_1224.NZ_Time)\n",
    "# time = time.reindex(time)\n",
    "# time = time.tz_localize('NZ').tz_convert(\"UTC\")\n",
    "time.head()\n",
    "newTime = time.apply(lambda dt: dt.replace(day=24, month = 12, year = 2018))\n",
    "# newTime#Still in NZ local time. Need to translate to UTC\n",
    "df = pd.DataFrame(1, index=newTime, columns=['X'])\n",
    "import pytz\n",
    "nz = pytz.timezone('NZ')\n",
    "utc = pytz.timezone('UTC')\n",
    "df.index = df.index.tz_localize(nz).tz_convert(utc)\n",
    "unixTimeDepth = (df.index - pd.Timestamp(\"1970-01-01\").tz_localize(utc)) // pd.Timedelta('1s')#This is unix time "
   ]
  },
  {
   "cell_type": "code",
   "execution_count": 26,
   "metadata": {},
   "outputs": [],
   "source": [
    "f = scipy.interpolate.interp1d(unixTimeDepth, depth_1224.depth,bounds_error=False, fill_value=0.)\n",
    "SpiceCore2ForInterp = SpiceCore2.loc[(SpiceCore2.unixtime>min(SpiceCore2.unixtime)) & (SpiceCore2.unixtime<2.15*1E4+1.5456*1E9)]\n",
    "interp_depth = f(SpiceCore2ForInterp.unixtime)\n",
    "SpiceCore2ForInterp[\"interp_depth\"] = interp_depth"
   ]
  },
  {
   "cell_type": "code",
   "execution_count": 27,
   "metadata": {},
   "outputs": [],
   "source": [
    "SpiceCore0ForInterp = SpiceCore0.loc[(SpiceCore0.unixtime>min(SpiceCore0.unixtime)) & (SpiceCore0.unixtime<2.15*1E4+1.5456*1E9)]\n",
    "interp_depth = f(SpiceCore0ForInterp.unixtime)\n",
    "SpiceCore0ForInterp[\"interp_depth\"] = interp_depth\n",
    "\n",
    "SpiceCore1ForInterp = SpiceCore1.loc[(SpiceCore1.unixtime>min(SpiceCore1.unixtime)) & (SpiceCore1.unixtime<2.15*1E4+1.5456*1E9)]\n",
    "interp_depth = f(SpiceCore1ForInterp.unixtime)\n",
    "SpiceCore1ForInterp[\"interp_depth\"] = interp_depth\n",
    "\n",
    "SpiceCore2ForInterp = SpiceCore2.loc[(SpiceCore2.unixtime>min(SpiceCore2.unixtime)) & (SpiceCore2.unixtime<2.15*1E4+1.5456*1E9)]\n",
    "interp_depth = f(SpiceCore2ForInterp.unixtime)\n",
    "SpiceCore2ForInterp[\"interp_depth\"] = interp_depth\n",
    "\n",
    "SpiceCore3ForInterp = SpiceCore3.loc[(SpiceCore3.unixtime>min(SpiceCore3.unixtime)) & (SpiceCore3.unixtime<2.15*1E4+1.5456*1E9)]\n",
    "interp_depth = f(SpiceCore3ForInterp.unixtime)\n",
    "SpiceCore3ForInterp[\"interp_depth\"] = interp_depth\n",
    "\n",
    "SpiceCore4ForInterp = SpiceCore4.loc[(SpiceCore4.unixtime>min(SpiceCore4.unixtime)) & (SpiceCore4.unixtime<2.15*1E4+1.5456*1E9)]\n",
    "interp_depth = f(SpiceCore4ForInterp.unixtime)\n",
    "SpiceCore4ForInterp[\"interp_depth\"] = interp_depth\n",
    "\n",
    "SpiceCore5ForInterp = SpiceCore5.loc[(SpiceCore5.unixtime>min(SpiceCore5.unixtime)) & (SpiceCore5.unixtime<2.15*1E4+1.5456*1E9)]\n",
    "interp_depth = f(SpiceCore5ForInterp.unixtime)\n",
    "SpiceCore5ForInterp[\"interp_depth\"] = interp_depth\n",
    "\n",
    "SpiceCore6ForInterp = SpiceCore6.loc[(SpiceCore6.unixtime>min(SpiceCore6.unixtime)) & (SpiceCore6.unixtime<2.15*1E4+1.5456*1E9)]\n",
    "interp_depth = f(SpiceCore6ForInterp.unixtime)\n",
    "SpiceCore6ForInterp[\"interp_depth\"] = interp_depth"
   ]
  },
  {
   "cell_type": "code",
   "execution_count": 28,
   "metadata": {},
   "outputs": [],
   "source": [
    "SpiceCore6ForInterp[\"R\"] = np.sqrt((SpiceCore6ForInterp.power_H-SpiceCore6ForInterp.powerH_noise)/(SpiceCore6ForInterp.power_V-SpiceCore6ForInterp.powerV_noise))\n",
    "SpiceCore6ForInterp[\"Omega_reco2\"] = np.degrees(np.arccos(np.sin(np.radians(SpiceCore6ForInterp.theta_reco))/np.sqrt(1+SpiceCore6ForInterp.R**2)))"
   ]
  },
  {
   "cell_type": "code",
   "execution_count": 32,
   "metadata": {},
   "outputs": [
    {
     "name": "stderr",
     "output_type": "stream",
     "text": [
      "No handles with labels found to put in legend.\n"
     ]
    },
    {
     "data": {
      "image/png": "[encoded data removed]",
      "text/plain": [
       "<Figure size 1008x360 with 8 Axes>"
      ]
     },
     "metadata": {},
     "output_type": "display_data"
    }
   ],
   "source": [
    "fig, ax = plt.subplots(2, 4, sharex='col', sharey='row', figsize=(14,5))\n",
    "axs = ax.ravel()\n",
    "sns.regplot(x=SpiceCore0ForInterp.interp_depth, y=SpiceCore0ForInterp.Omega_reco, x_bins=50, fit_reg=None, ax =axs[0], label = \"$\\Omega_{reco}$ [Ch0, Ch8]\")\n",
    "sns.regplot(x=SpiceCore1ForInterp.interp_depth, y=SpiceCore1ForInterp.Omega_reco, x_bins=50, fit_reg=None, ax =axs[1], label = \"$\\Omega_{reco}$ [Ch1, Ch9]\")\n",
    "sns.regplot(x=SpiceCore2ForInterp.interp_depth, y=SpiceCore2ForInterp.Omega_reco, x_bins=50, fit_reg=None, ax =axs[2], label = \"$\\Omega_{reco}$ [Ch2, Ch10]\")\n",
    "sns.regplot(x=SpiceCore3ForInterp.interp_depth, y=SpiceCore3ForInterp.Omega_reco, x_bins=50, fit_reg=None, ax =axs[3], label = \"$\\Omega_{reco}$ [Ch3, Ch11]\")\n",
    "sns.regplot(x=SpiceCore4ForInterp.interp_depth, y=SpiceCore4ForInterp.Omega_reco, x_bins=50, fit_reg=None, ax =axs[4], label = \"$\\Omega_{reco}$ [Ch4, Ch12]\")\n",
    "sns.regplot(x=SpiceCore5ForInterp.interp_depth, y=SpiceCore5ForInterp.Omega_reco, x_bins=50, fit_reg=None, ax =axs[5], label = \"$\\Omega_{reco}$ [Ch5, Ch13]\")\n",
    "sns.regplot(x=SpiceCore6ForInterp.interp_depth, y=SpiceCore6ForInterp.Omega_reco2, x_bins=50, fit_reg=None, ax =axs[6], label = \"$\\Omega_{reco}$ [Ch6, Ch14]\")\n",
    "\n",
    "# axs[6].set_xlabel(\"unixTime\")\n",
    "fig.text(0.5, 0.03, 'Pulser depth [m]', ha='center', va='center', fontsize=20)\n",
    "fig.text(0.03, 0.5, '$\\Omega_{reco}$ [deg]', ha='center', va='center', rotation='vertical', fontsize=20)\n",
    "\n",
    "for ax in axs:\n",
    "#     ax.set_xlabel(\"a\")\n",
    "    ax.set_xlim(350,1200)\n",
    "    ax.set_ylim(0,25)\n",
    "    ax.set(xlabel=\"\", ylabel = \"\")\n",
    "#     ax.plot(depthArr,pol,\"--\",lw=3,c =\"darkviolet\", label = \"$\\Omega_{true}$\")\n",
    "\n",
    "\n",
    "    ax.legend(loc=\"upper left\")\n",
    "\n",
    "plt.suptitle(\"Run 012559 [Dec 24, 2018]\", fontsize=20)\n",
    "plt.tight_layout(rect=[0.03, 0.03, 1, 0.95])\n",
    "# plt.savefig(my_path_plots+'/SpiceCorePolReco/SpiceCoreOmegaRecoTrueVsDepth_run012559_beforeDelays.png', dpi=250)\n"
   ]
  },
  {
   "cell_type": "code",
   "execution_count": null,
   "metadata": {},
   "outputs": [],
   "source": [
    "fig, ax = plt.subplots(2, 4, sharex='col', sharey='row', figsize=(14,5))\n",
    "axs = ax.ravel()\n",
    "sns.regplot(x=SpiceCore0ForInterp.interp_depth, y=SpiceCore0ForInterp.SNR_V, x_bins=40, ax =axs[0], label = \"Ch0\")\n",
    "sns.regplot(x=SpiceCore1ForInterp.interp_depth, y=SpiceCore1ForInterp.SNR_V, x_bins=40, ax =axs[1], label = \"Ch1\")\n",
    "sns.regplot(x=SpiceCore2ForInterp.interp_depth, y=SpiceCore2ForInterp.SNR_V, x_bins=40, ax =axs[2], label = \"Ch2\")\n",
    "sns.regplot(x=SpiceCore3ForInterp.interp_depth, y=SpiceCore3ForInterp.SNR_V, x_bins=40, ax =axs[3], label = \"Ch3\")\n",
    "sns.regplot(x=SpiceCore4ForInterp.interp_depth, y=SpiceCore4ForInterp.SNR_V, x_bins=40, ax =axs[4], label = \"Ch4\")\n",
    "sns.regplot(x=SpiceCore5ForInterp.interp_depth, y=SpiceCore5ForInterp.SNR_V, x_bins=40, ax =axs[5], label = \"Ch5\")\n",
    "sns.regplot(x=SpiceCore6ForInterp.interp_depth, y=SpiceCore6ForInterp.SNR_V, x_bins=40, ax =axs[6], label = \"Ch6\")\n",
    "\n",
    "# axs[6].set_xlabel(\"unixTime\")\n",
    "fig.text(0.5, 0.03, 'Pulser depth [m]', ha='center', va='center', fontsize=20)\n",
    "fig.text(0.03, 0.5, 'SNR', ha='center', va='center', rotation='vertical', fontsize=20)\n",
    "\n",
    "for ax in axs:\n",
    "#     ax.set_xlabel(\"a\")\n",
    "    ax.set_xlim(350,1000)\n",
    "    ax.set_ylim(10,60)\n",
    "    ax.set(xlabel=\"\", ylabel = \"\")\n",
    "\n",
    "    ax.legend(loc=\"upper right\")\n",
    "\n",
    "plt.suptitle(\"Run 012559 [Dec 24, 2018]\", fontsize=20)\n",
    "plt.tight_layout(rect=[0.03, 0.03, 1, 0.95])\n",
    "# plt.savefig(my_path_plots+'/SpiceCorePolReco/SpiceCorePolSNRVsDepth_run012559_AllCh_reject_Profile.png', dpi=250)\n"
   ]
  },
  {
   "cell_type": "code",
   "execution_count": null,
   "metadata": {},
   "outputs": [],
   "source": [
    "fig, ax = plt.subplots(2, 4, sharex='col', sharey='row', figsize=(14,5))\n",
    "axs = ax.ravel()\n",
    "sns.regplot(x=SpiceCore0ForInterp.interp_depth, y=SpiceCore0ForInterp.SNR_H, x_bins=40, ax =axs[0], label = \"Ch8\")\n",
    "sns.regplot(x=SpiceCore1ForInterp.interp_depth, y=SpiceCore1ForInterp.SNR_H, x_bins=40, ax =axs[1], label = \"Ch9\")\n",
    "sns.regplot(x=SpiceCore2ForInterp.interp_depth, y=SpiceCore2ForInterp.SNR_H, x_bins=40, ax =axs[2], label = \"Ch10\")\n",
    "sns.regplot(x=SpiceCore3ForInterp.interp_depth, y=SpiceCore3ForInterp.SNR_H, x_bins=40, ax =axs[3], label = \"Ch11\")\n",
    "sns.regplot(x=SpiceCore4ForInterp.interp_depth, y=SpiceCore4ForInterp.SNR_H, x_bins=40, ax =axs[4], label = \"Ch12\")\n",
    "sns.regplot(x=SpiceCore5ForInterp.interp_depth, y=SpiceCore5ForInterp.SNR_H, x_bins=40, ax =axs[5], label = \"Ch13\")\n",
    "sns.regplot(x=SpiceCore6ForInterp.interp_depth, y=SpiceCore6ForInterp.SNR_H, x_bins=40, ax =axs[6], label = \"Ch14\")\n",
    "\n",
    "# axs[6].set_xlabel(\"unixTime\")\n",
    "fig.text(0.5, 0.03, 'Pulser depth [m]', ha='center', va='center', fontsize=20)\n",
    "fig.text(0.03, 0.5, 'SNR', ha='center', va='center', rotation='vertical', fontsize=20)\n",
    "\n",
    "for ax in axs:\n",
    "#     ax.set_xlabel(\"a\")\n",
    "    ax.set_xlim(350,1000)\n",
    "    ax.set_ylim(0,6)\n",
    "    ax.set(xlabel=\"\", ylabel = \"\")\n",
    "\n",
    "    ax.legend(loc=\"upper right\")\n",
    "\n",
    "plt.suptitle(\"Run 012559 [Dec 24, 2018]\", fontsize=20)\n",
    "plt.tight_layout(rect=[0.03, 0.03, 1, 0.95])\n",
    "# plt.savefig(my_path_plots+'/SpiceCorePolReco/SpiceCorePolSNRVsDepth_run012559_AllCh_reject_ProfileHpol.png', dpi=250)\n"
   ]
  },
  {
   "cell_type": "code",
   "execution_count": 20,
   "metadata": {},
   "outputs": [
    {
     "data": {
      "text/plain": [
       "Text(0.5,1,'$\\\\Delta\\\\Omega$ for SpiceCore events using a single channel pair')"
      ]
     },
     "execution_count": 20,
     "metadata": {},
     "output_type": "execute_result"
    },
    {
     "data": {
      "image/png": "[encoded data removed]",
      "text/plain": [
       "<Figure size 504x360 with 1 Axes>"
      ]
     },
     "metadata": {},
     "output_type": "display_data"
    }
   ],
   "source": [
    "plt.figure(figsize=(7,5))\n",
    "\n",
    "plt.plot(SNR_arr,meanV, lw = 3,label=\"$\\Delta \\Omega$ median\")\n",
    "plt.fill_between(SNR_arr,meanV-sigmaV,meanV+sigmaV, alpha = 0.3, label=\"$\\Delta \\Omega$ 68\\% CL\")\n",
    "plt.xlabel(\"SNR$_{V}$\")\n",
    "plt.ylabel(\"Median [deg]\")\n",
    "plt.grid()\n",
    "plt.legend()\n",
    "plt.title(\"$\\Delta\\Omega$ for SpiceCore events using a single channel pair\")\n",
    "# plt.savefig(my_path_plots+'/SpiceCorePolReco/deltaOmegaVsSNR_preliminary.png', dpi=250)"
   ]
  }
 ],
 "metadata": {
  "kernelspec": {
   "display_name": "Python 3.6 (Conda 5.2) [python/3.6-conda5.2]",
   "language": "python",
   "name": "sys_python36conda"
  },
  "language_info": {
   "codemirror_mode": {
    "name": "ipython",
    "version": 3
   },
   "file_extension": ".py",
   "mimetype": "text/x-python",
   "name": "python",
   "nbconvert_exporter": "python",
   "pygments_lexer": "ipython3",
   "version": "3.6.6"
  }
 },
 "nbformat": 4,
 "nbformat_minor": 4
}
