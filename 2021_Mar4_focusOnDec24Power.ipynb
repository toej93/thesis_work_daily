{
 "cells": [
  {
   "cell_type": "markdown",
   "metadata": {},
   "source": [
    "# Estimate polarization from raytracing and compare to reco pol"
   ]
  },
  {
   "cell_type": "markdown",
   "metadata": {},
   "source": [
    "#### Reco pol is now done by using the same window for both hpol and vpol"
   ]
  },
  {
   "cell_type": "markdown",
   "metadata": {},
   "source": [
    "### Mar 3, 2021"
   ]
  },
  {
   "cell_type": "markdown",
   "metadata": {},
   "source": [
    "## Code"
   ]
  },
  {
   "cell_type": "code",
   "execution_count": 1,
   "metadata": {},
   "outputs": [],
   "source": [
    "import sys\n",
    "import csv\n",
    "# sys.path.insert(0,\"/users/PCON0003/cond0068/.local/lib/python3.7/\")\n",
    "sys.path.append(\"/users/PAS0654/osu8354/ARA_cvmfs/root_build/lib/\") # go to parent dir\n",
    "sys.path.append(\"/users/PCON0003/cond0068/.local/lib/python3.7/site-packages/\")\n",
    "# sys.path.append(\"/users/PCON0003/cond0068/pyrex_sims/fromBen/thesis_work/pyrex-custom/analysis/custom/analysis/\")\n",
    "# import ROOT\n",
    "import math\n",
    "import numpy as np\n",
    "# from ROOT import TH1D,TF1, gRandom, gPad, gStyle\n",
    "import matplotlib as mpl\n",
    "import matplotlib.pyplot as plt\n",
    "# from ROOT import TChain, TSelector, TTree\n",
    "import os\n",
    "import matplotlib.colors as mcolors\n",
    "import scipy\n",
    "from matplotlib.colors import LogNorm\n",
    "import pandas as pd\n",
    "import pyrex\n",
    "import seaborn as sns\n",
    "%matplotlib inline\n",
    "sys.path.insert(1, \"/users/PAS0654/osu8354/ARA_cvmfs/source/AraRoot/analysis/ARA_analysis/CenA_sourceSearch/Stokes\")\n",
    "# import deDisperse_util as util\n",
    "# from pyrex.internal_functions import normalize\n",
    "my_path_plots = os.path.abspath(\"./plots/\")\n",
    "# import pyrex.custom.ara as ara\n"
   ]
  },
  {
   "cell_type": "code",
   "execution_count": 2,
   "metadata": {},
   "outputs": [],
   "source": [
    "# mpl.use('agg') \n",
    "mpl.rcParams['text.usetex'] = True\n",
    "mpl.rcParams['text.latex.unicode'] = True\n",
    "mpl.rcParams['mathtext.rm'] = 'Times New Roman'\n",
    "mpl.rcParams['mathtext.it'] = 'Times New Roman:italic'\n",
    "mpl.rcParams['mathtext.bf'] = 'Times New Roman:bold'\n",
    "\n",
    "mpl.rc('font', family='serif', size=12)\n",
    "mpl.rcParams['xtick.labelsize'] = 14\n",
    "mpl.rcParams['ytick.labelsize'] = 14\n",
    "mpl.rcParams['xtick.major.size'] = 5\n",
    "mpl.rcParams['ytick.major.size'] = 5\n",
    "\n",
    "mpl.rcParams['axes.titlesize'] = 18\n",
    "mpl.rcParams['axes.labelsize'] = 18\n",
    "# mpl.rc('font', size=16)\n",
    "mpl.rc('axes', titlesize=20)\n",
    "\n",
    "current_palette = sns.color_palette('colorblind', 10)\n",
    "import warnings\n",
    "warnings.filterwarnings(\"ignore\")"
   ]
  },
  {
   "cell_type": "code",
   "execution_count": 3,
   "metadata": {},
   "outputs": [],
   "source": [
    "def rotation_matrix_from_vectors(vec1, vec2):\n",
    "    \"\"\" Find the rotation matrix that aligns vec1 to vec2\n",
    "    :param vec1: A 3d \"source\" vector\n",
    "    :param vec2: A 3d \"destination\" vector\n",
    "    :return mat: A transform matrix (3x3) which when applied to vec1, aligns it with vec2.\n",
    "    \"\"\"\n",
    "    a, b = (vec1 / np.linalg.norm(vec1)).reshape(3), (vec2 / np.linalg.norm(vec2)).reshape(3)\n",
    "    v = np.cross(a, b)\n",
    "    c = np.dot(a, b)\n",
    "    s = np.linalg.norm(v)\n",
    "    kmat = np.array([[0, -v[2], v[1]], [v[2], 0, -v[0]], [-v[1], v[0], 0]])\n",
    "    rotation_matrix = np.eye(3) + kmat + kmat.dot(kmat) * ((1 - c) / (s ** 2))\n",
    "    return rotation_matrix\n",
    "\n",
    "def rotatePolVector(launchVecSrc, recVec, PolVecAntenna):\n",
    "    recVec = -recVec #receiving vector needs to be reflected, otherwise rotation matrix will be off by pi\n",
    "    newPol = np.dot(PolVecAntenna,rotation_matrix_from_vectors(launchVecSrc,recVec))\n",
    "    return newPol\n",
    "\n",
    "def Rx(theta):\n",
    "    return np.matrix([[ 1, 0           , 0           ],\n",
    "                   [ 0, np.cos(theta),-np.sin(theta)],\n",
    "                   [ 0, np.sin(theta), np.cos(theta)]])"
   ]
  },
  {
   "cell_type": "markdown",
   "metadata": {},
   "source": [
    "#### From Dave Besson, the cross pol is of about 25%, and it's due to the transmitter beam pattern."
   ]
  },
  {
   "cell_type": "markdown",
   "metadata": {},
   "source": [
    "## Expected polarization "
   ]
  },
  {
   "cell_type": "code",
   "execution_count": 128,
   "metadata": {},
   "outputs": [],
   "source": [
    "def estimatePolRayTracer(depth):\n",
    "    #Take depth of pulser and calculate polarization rotation based on raytracer results.\n",
    "    rt = pyrex.RayTracer(from_point=(0, 0, -depth), to_point=(2400, 0, -179.93)) #Use the depth of the transmitter as the z-\n",
    "    #coordinate. A2 is at a horizontal distance of 2400 m from the pulser, and at a depth of 179.93 m\n",
    "    path = rt.solutions[0] #We only care about direct solutions\n",
    "    path2 = rt.solutions[1] #We only care about direct solutions\n",
    "\n",
    "    rotMat = rotation_matrix_from_vectors(path.received_direction,path.emitted_direction)\n",
    "    initPulserPol = np.array([0,0,1])\n",
    "#     initPulserPol = np.array([np.sqrt(0.25/2),np.sqrt(0.25/2),np.sqrt(0.75)])\n",
    "    rotAngle = np.pi/2-np.arccos(path.emitted_direction[2])\n",
    "#     pulserPol = np.array(np.matmul(initPulserPol,Rx(rotAngle)))[0]\n",
    "    rotatedPol = np.dot(initPulserPol,rotMat)\n",
    "    newOmegaPol = np.degrees(np.arccos(rotatedPol[2]))\n",
    "    polFinal = newOmegaPol-np.degrees(rotAngle)\n",
    "    return polFinal, np.degrees(rt.solutions[0].theta0),np.degrees(np.arccos(path.received_direction[2])),np.degrees(np.arccos(path2.received_direction[2]))"
   ]
  },
  {
   "cell_type": "code",
   "execution_count": 149,
   "metadata": {},
   "outputs": [],
   "source": [
    "rt = pyrex.RayTracer(from_point=(0, 0, -500), to_point=(2400, 0, -179.93))"
   ]
  },
  {
   "cell_type": "code",
   "execution_count": 150,
   "metadata": {},
   "outputs": [
    {
     "ename": "IndexError",
     "evalue": "list index out of range",
     "output_type": "error",
     "traceback": [
      "\u001b[0;31m---------------------------------------------------------------------------\u001b[0m",
      "\u001b[0;31mIndexError\u001b[0m                                Traceback (most recent call last)",
      "\u001b[0;32m<ipython-input-150-8777265a3099>\u001b[0m in \u001b[0;36m<module>\u001b[0;34m()\u001b[0m\n\u001b[0;32m----> 1\u001b[0;31m \u001b[0mpath\u001b[0m \u001b[0;34m=\u001b[0m \u001b[0mrt\u001b[0m\u001b[0;34m.\u001b[0m\u001b[0msolutions\u001b[0m\u001b[0;34m[\u001b[0m\u001b[0;36m0\u001b[0m\u001b[0;34m]\u001b[0m\u001b[0;34m\u001b[0m\u001b[0m\n\u001b[0m\u001b[1;32m      2\u001b[0m \u001b[0mpath2\u001b[0m \u001b[0;34m=\u001b[0m \u001b[0mrt\u001b[0m\u001b[0;34m.\u001b[0m\u001b[0msolutions\u001b[0m\u001b[0;34m[\u001b[0m\u001b[0;36m1\u001b[0m\u001b[0;34m]\u001b[0m\u001b[0;34m\u001b[0m\u001b[0m\n\u001b[1;32m      3\u001b[0m \u001b[0marr_ang\u001b[0m \u001b[0;34m=\u001b[0m \u001b[0mnp\u001b[0m\u001b[0;34m.\u001b[0m\u001b[0mdegrees\u001b[0m\u001b[0;34m(\u001b[0m\u001b[0mnp\u001b[0m\u001b[0;34m.\u001b[0m\u001b[0marccos\u001b[0m\u001b[0;34m(\u001b[0m\u001b[0mpath\u001b[0m\u001b[0;34m.\u001b[0m\u001b[0mreceived_direction\u001b[0m\u001b[0;34m[\u001b[0m\u001b[0;36m2\u001b[0m\u001b[0;34m]\u001b[0m\u001b[0;34m)\u001b[0m\u001b[0;34m)\u001b[0m\u001b[0;34m\u001b[0m\u001b[0m\n",
      "\u001b[0;31mIndexError\u001b[0m: list index out of range"
     ]
    }
   ],
   "source": [
    "path = rt.solutions[0]\n",
    "path2 = rt.solutions[1]\n",
    "arr_ang = np.degrees(np.arccos(path.received_direction[2]))"
   ]
  },
  {
   "cell_type": "code",
   "execution_count": 82,
   "metadata": {},
   "outputs": [],
   "source": [
    "theta_d=np.degrees(np.arccos(path.received_direction[2])-np.pi/2)\n",
    "theta_r=np.degrees(np.arccos(path2.received_direction[2])-np.pi/2)"
   ]
  },
  {
   "cell_type": "code",
   "execution_count": 146,
   "metadata": {},
   "outputs": [
    {
     "data": {
      "text/plain": [
       "(-1500, 0)"
      ]
     },
     "execution_count": 146,
     "metadata": {},
     "output_type": "execute_result"
    },
    {
     "data": {
      "image/png": "[encoded data removed]",
      "text/plain": [
       "<Figure size 432x288 with 1 Axes>"
      ]
     },
     "metadata": {},
     "output_type": "display_data"
    }
   ],
   "source": [
    "fig, ax1 = plt.subplots(figsize=(6,4))\n",
    "\n",
    "# plt.plot(path.coordinates[0],path.coordinates[2], label=\"Direct ray ($\\\\theta_d =%0.1f^\\circ$)\"% theta_d)\n",
    "# plt.plot(path2.coordinates[0],path2.coordinates[2], label=\"Reflected ray ($\\\\theta_r =%0.1f^\\circ$)\"% theta_r)\n",
    "plt.plot(path.coordinates[0],path.coordinates[2], label=\"Direct ray, $\\\\theta_{receive} = %0.2f$ deg\"%arr_ang)\n",
    "plt.plot(path2.coordinates[0],path2.coordinates[2], label=\"Reflected ray\")\n",
    "\n",
    "plt.plot(2400, -179.93,\"o\", label=\"A2\", markersize = 10)\n",
    "plt.plot(0, -600, \"^\", label=\"SPIceCore\", markersize = 10)\n",
    "plt.legend()\n",
    "plt.ylabel(\"Depth [m]\")\n",
    "plt.xlabel(\"Distance [m]\")\n",
    "plt.grid()\n",
    "plt.title(\"Ray solutions between A2 and SPIceCore\", fontsize=14)\n",
    "plt.tight_layout()\n",
    "# plt.savefig(my_path_plots+'/SpiceCorePolReco/A2_SPIceCore.png', dpi=250)\n",
    "np.degrees(path.theta0)\n",
    "plt.ylim(-1500,0)\n",
    "# plt.savefig(my_path_plots+'/SpiceCorePolReco/A2_SPIceCore.png', dpi=250)"
   ]
  },
  {
   "cell_type": "code",
   "execution_count": 131,
   "metadata": {},
   "outputs": [],
   "source": [
    "depthArr = []\n",
    "pol = []\n",
    "launchAng = []\n",
    "recAng = [[],[]]\n",
    "for depth in range(600,1700):\n",
    "    depthArr.append(depth)\n",
    "    pol.append(abs(estimatePolRayTracer(depth)[0]))\n",
    "    launchAng.append((estimatePolRayTracer(depth)[1]))\n",
    "    recAng[0].append((estimatePolRayTracer(depth)[2]))\n",
    "    recAng[1].append((estimatePolRayTracer(depth)[3]))"
   ]
  },
  {
   "cell_type": "code",
   "execution_count": 90,
   "metadata": {},
   "outputs": [
    {
     "data": {
      "text/plain": [
       "[<matplotlib.lines.Line2D at 0x2afdd797cef0>]"
      ]
     },
     "execution_count": 90,
     "metadata": {},
     "output_type": "execute_result"
    },
    {
     "data": {
      "image/png": "[encoded data removed]",
      "text/plain": [
       "<Figure size 432x288 with 1 Axes>"
      ]
     },
     "metadata": {},
     "output_type": "display_data"
    }
   ],
   "source": [
    "plt.plot(depthArr,180-np.array(recAng))\n",
    "# plt.xlim(600,650)"
   ]
  },
  {
   "cell_type": "markdown",
   "metadata": {},
   "source": [
    "# Compare to real data"
   ]
  },
  {
   "cell_type": "markdown",
   "metadata": {},
   "source": [
    "# Dec 24"
   ]
  },
  {
   "cell_type": "code",
   "execution_count": 119,
   "metadata": {},
   "outputs": [],
   "source": [
    "SpiceCore0 = pd.read_pickle(\"../ARA_analysis/ARA_Reconstruction/RecoOmegaCh0_8_run_012559.pkl\")\n",
    "# SpiceCore0 = SpiceCore0.loc[(SpiceCore0.theta_reco>=90) & (SpiceCore0.power_H>0) & (SpiceCore0.power_V>0)]\n",
    "\n",
    "\n",
    "SpiceCore1 = pd.read_pickle(\"../ARA_analysis/ARA_Reconstruction/RecoOmegaCh1_9_run_012559.pkl\")\n",
    "# SpiceCore1 = SpiceCore1.loc[(SpiceCore1.theta_reco>=90) & (SpiceCore1.power_H>0) & (SpiceCore1.power_V>0)]\n",
    "\n",
    "SpiceCore2 = pd.read_pickle(\"../ARA_analysis/ARA_Reconstruction/RecoOmegaCh2_10_run_012559.pkl\")\n",
    "# SpiceCore2 = SpiceCore2.loc[(SpiceCore2.theta_reco>=90) & (SpiceCore2.power_H>0) & (SpiceCore2.power_V>0)]\n",
    "\n",
    "SpiceCore3 = pd.read_pickle(\"../ARA_analysis/ARA_Reconstruction/RecoOmegaCh3_11_run_012559.pkl\")\n",
    "# SpiceCore3 = SpiceCore3.loc[(SpiceCore3.theta_reco>=90) & (SpiceCore3.power_H>0) & (SpiceCore3.power_V>0)]\n",
    "\n",
    "SpiceCore4 = pd.read_pickle(\"../ARA_analysis/ARA_Reconstruction/RecoOmegaCh4_12_run_012559.pkl\")\n",
    "# SpiceCore4 = SpiceCore4.loc[(SpiceCore4.theta_reco>=90) & (SpiceCore4.power_H>0) & (SpiceCore4.power_V>0)]\n",
    "\n",
    "SpiceCore5 = pd.read_pickle(\"../ARA_analysis/ARA_Reconstruction/RecoOmegaCh5_13_run_012559.pkl\")\n",
    "# SpiceCore5 = SpiceCore5.loc[(SpiceCore5.theta_reco>=90) & (SpiceCore5.power_H>0) & (SpiceCore5.power_V>0)]\n",
    "\n",
    "SpiceCore6 = pd.read_pickle(\"../ARA_analysis/ARA_Reconstruction/RecoOmegaCh6_14_run_012559.pkl\")\n",
    "# SpiceCore6 = SpiceCore6.loc[(SpiceCore6.theta_reco>=90) & (SpiceCore6.power_H>0) & (SpiceCore6.power_V>0)]"
   ]
  },
  {
   "cell_type": "code",
   "execution_count": 120,
   "metadata": {},
   "outputs": [],
   "source": [
    "depth_1224 = pd.read_csv(\"./plots/SpiceCorePolReco/A2_1224Depth.txt\")\n",
    "time = pd.to_datetime(depth_1224.NZ_Time)\n",
    "# time = time.reindex(time)\n",
    "# time = time.tz_localize('NZ').tz_convert(\"UTC\")\n",
    "time.head()\n",
    "newTime = time.apply(lambda dt: dt.replace(day=24, month = 12, year = 2018))\n",
    "# newTime#Still in NZ local time. Need to translate to UTC\n",
    "df = pd.DataFrame(1, index=newTime, columns=['X'])\n",
    "import pytz\n",
    "nz = pytz.timezone('NZ')\n",
    "utc = pytz.timezone('UTC')\n",
    "df.index = df.index.tz_localize(nz).tz_convert(utc)\n",
    "unixTimeDepth = (df.index - pd.Timestamp(\"1970-01-01\").tz_localize(utc)) // pd.Timedelta('1s')#This is unix time "
   ]
  },
  {
   "cell_type": "code",
   "execution_count": 121,
   "metadata": {},
   "outputs": [],
   "source": [
    "f = scipy.interpolate.interp1d(unixTimeDepth, depth_1224.depth,bounds_error=False, fill_value=0.)\n",
    "SpiceCore2ForInterp = SpiceCore2.loc[(SpiceCore2.unixtime>min(SpiceCore2.unixtime)) & (SpiceCore2.unixtime<2.15*1E4+1.5456*1E9)]\n",
    "interp_depth = f(SpiceCore2ForInterp.unixtime)\n",
    "SpiceCore2ForInterp[\"interp_depth\"] = interp_depth"
   ]
  },
  {
   "cell_type": "code",
   "execution_count": 122,
   "metadata": {},
   "outputs": [],
   "source": [
    "SpiceCore0ForInterp = SpiceCore0.loc[(SpiceCore0.unixtime>min(SpiceCore0.unixtime)) & (SpiceCore0.unixtime<2.15*1E4+1.5456*1E9)]\n",
    "interp_depth = f(SpiceCore0ForInterp.unixtime)\n",
    "SpiceCore0ForInterp[\"interp_depth\"] = interp_depth\n",
    "\n",
    "SpiceCore1ForInterp = SpiceCore1.loc[(SpiceCore1.unixtime>min(SpiceCore1.unixtime)) & (SpiceCore1.unixtime<2.15*1E4+1.5456*1E9)]\n",
    "interp_depth = f(SpiceCore1ForInterp.unixtime)\n",
    "SpiceCore1ForInterp[\"interp_depth\"] = interp_depth\n",
    "\n",
    "SpiceCore2ForInterp = SpiceCore2.loc[(SpiceCore2.unixtime>min(SpiceCore2.unixtime)) & (SpiceCore2.unixtime<2.15*1E4+1.5456*1E9)]\n",
    "interp_depth = f(SpiceCore2ForInterp.unixtime)\n",
    "SpiceCore2ForInterp[\"interp_depth\"] = interp_depth\n",
    "\n",
    "SpiceCore3ForInterp = SpiceCore3.loc[(SpiceCore3.unixtime>min(SpiceCore3.unixtime)) & (SpiceCore3.unixtime<2.15*1E4+1.5456*1E9)]\n",
    "interp_depth = f(SpiceCore3ForInterp.unixtime)\n",
    "SpiceCore3ForInterp[\"interp_depth\"] = interp_depth\n",
    "\n",
    "SpiceCore4ForInterp = SpiceCore4.loc[(SpiceCore4.unixtime>min(SpiceCore4.unixtime)) & (SpiceCore4.unixtime<2.15*1E4+1.5456*1E9)]\n",
    "interp_depth = f(SpiceCore4ForInterp.unixtime)\n",
    "SpiceCore4ForInterp[\"interp_depth\"] = interp_depth\n",
    "\n",
    "SpiceCore5ForInterp = SpiceCore5.loc[(SpiceCore5.unixtime>min(SpiceCore5.unixtime)) & (SpiceCore5.unixtime<2.15*1E4+1.5456*1E9)]\n",
    "interp_depth = f(SpiceCore5ForInterp.unixtime)\n",
    "SpiceCore5ForInterp[\"interp_depth\"] = interp_depth\n",
    "\n",
    "SpiceCore6ForInterp = SpiceCore6.loc[(SpiceCore6.unixtime>min(SpiceCore6.unixtime)) & (SpiceCore6.unixtime<2.15*1E4+1.5456*1E9)]\n",
    "interp_depth = f(SpiceCore6ForInterp.unixtime)\n",
    "SpiceCore6ForInterp[\"interp_depth\"] = interp_depth"
   ]
  },
  {
   "cell_type": "code",
   "execution_count": 123,
   "metadata": {},
   "outputs": [],
   "source": [
    "X_pol = 0.1#Fraction of crosspol"
   ]
  },
  {
   "cell_type": "code",
   "execution_count": 124,
   "metadata": {},
   "outputs": [],
   "source": [
    "SpiceCore0ForInterp[\"R\"] = np.sqrt((SpiceCore0ForInterp.power_H-SpiceCore0ForInterp.powerH_noise)/(SpiceCore0ForInterp.power_V-SpiceCore0ForInterp.powerV_noise))\n",
    "SpiceCore0ForInterp[\"Omega_reco2\"] = np.degrees(np.arccos(np.sin(np.radians(SpiceCore0ForInterp.theta_reco))/np.sqrt(1+SpiceCore0ForInterp.R**2)))\n",
    "SpiceCore0ForInterp[\"R2\"] = np.sqrt((SpiceCore0ForInterp.power_H-SpiceCore0ForInterp.powerH_noise)/(SpiceCore0ForInterp.power_V-SpiceCore0ForInterp.powerV_noise))*(1-X_pol)-X_pol\n",
    "SpiceCore0ForInterp[\"Omega_reco3\"] = np.degrees(np.arccos(np.sin(np.radians(SpiceCore0ForInterp.theta_reco))/np.sqrt(1+SpiceCore0ForInterp.R2**2)))\n",
    "\n",
    "SpiceCore1ForInterp[\"R\"] = np.sqrt((SpiceCore1ForInterp.power_H-SpiceCore1ForInterp.powerH_noise)/(SpiceCore1ForInterp.power_V-SpiceCore1ForInterp.powerV_noise))\n",
    "SpiceCore1ForInterp[\"Omega_reco2\"] = np.degrees(np.arccos(np.sin(np.radians(SpiceCore1ForInterp.theta_reco))/np.sqrt(1+SpiceCore1ForInterp.R**2)))\n",
    "SpiceCore1ForInterp[\"R2\"] = np.sqrt((SpiceCore1ForInterp.power_H-SpiceCore1ForInterp.powerH_noise)/(SpiceCore1ForInterp.power_V-SpiceCore1ForInterp.powerV_noise))*(1-X_pol)-X_pol\n",
    "SpiceCore1ForInterp[\"Omega_reco3\"] = np.degrees(np.arccos(np.sin(np.radians(SpiceCore1ForInterp.theta_reco))/np.sqrt(1+SpiceCore1ForInterp.R2**2)))\n",
    "\n",
    "\n",
    "SpiceCore2ForInterp[\"R\"] = np.sqrt((SpiceCore2ForInterp.power_H-SpiceCore2ForInterp.powerH_noise)/(SpiceCore2ForInterp.power_V-SpiceCore2ForInterp.powerV_noise))\n",
    "SpiceCore2ForInterp[\"Omega_reco2\"] = np.degrees(np.arccos(np.sin(np.radians(SpiceCore2ForInterp.theta_reco))/np.sqrt(1+SpiceCore2ForInterp.R**2)))\n",
    "SpiceCore2ForInterp[\"R2\"] = np.sqrt((SpiceCore2ForInterp.power_H-SpiceCore2ForInterp.powerH_noise)/(SpiceCore2ForInterp.power_V-SpiceCore2ForInterp.powerV_noise))*(1-X_pol)-X_pol\n",
    "SpiceCore2ForInterp[\"Omega_reco3\"] = np.degrees(np.arccos(np.sin(np.radians(SpiceCore2ForInterp.theta_reco))/np.sqrt(1+SpiceCore2ForInterp.R2**2)))\n",
    "\n",
    "SpiceCore3ForInterp[\"R\"] = np.sqrt((SpiceCore3ForInterp.power_H-SpiceCore3ForInterp.powerH_noise)/(SpiceCore3ForInterp.power_V-SpiceCore3ForInterp.powerV_noise))\n",
    "SpiceCore3ForInterp[\"Omega_reco2\"] = np.degrees(np.arccos(np.sin(np.radians(SpiceCore3ForInterp.theta_reco))/np.sqrt(1+SpiceCore3ForInterp.R**2)))\n",
    "SpiceCore3ForInterp[\"R2\"] = np.sqrt((SpiceCore3ForInterp.power_H-SpiceCore3ForInterp.powerH_noise)/(SpiceCore3ForInterp.power_V-SpiceCore3ForInterp.powerV_noise))*(1-X_pol)-X_pol\n",
    "SpiceCore3ForInterp[\"Omega_reco3\"] = np.degrees(np.arccos(np.sin(np.radians(SpiceCore3ForInterp.theta_reco))/np.sqrt(1+SpiceCore3ForInterp.R2**2)))\n",
    "\n",
    "SpiceCore4ForInterp[\"R\"] = np.sqrt((SpiceCore4ForInterp.power_H-SpiceCore4ForInterp.powerH_noise)/(SpiceCore4ForInterp.power_V-SpiceCore4ForInterp.powerV_noise))\n",
    "SpiceCore4ForInterp[\"Omega_reco2\"] = np.degrees(np.arccos(np.sin(np.radians(SpiceCore4ForInterp.theta_reco))/np.sqrt(1+SpiceCore4ForInterp.R**2)))\n",
    "SpiceCore4ForInterp[\"R2\"] = np.sqrt((SpiceCore4ForInterp.power_H-SpiceCore4ForInterp.powerH_noise)/(SpiceCore4ForInterp.power_V-SpiceCore4ForInterp.powerV_noise))*(1-X_pol)-X_pol\n",
    "SpiceCore4ForInterp[\"Omega_reco3\"] = np.degrees(np.arccos(np.sin(np.radians(SpiceCore4ForInterp.theta_reco))/np.sqrt(1+SpiceCore4ForInterp.R2**2)))\n",
    "\n",
    "SpiceCore5ForInterp[\"R\"] = np.sqrt((SpiceCore5ForInterp.power_H-SpiceCore5ForInterp.powerH_noise)/(SpiceCore5ForInterp.power_V-SpiceCore5ForInterp.powerV_noise))\n",
    "SpiceCore5ForInterp[\"Omega_reco2\"] = np.degrees(np.arccos(np.sin(np.radians(SpiceCore5ForInterp.theta_reco))/np.sqrt(1+SpiceCore5ForInterp.R**2)))\n",
    "SpiceCore5ForInterp[\"R2\"] = np.sqrt((SpiceCore5ForInterp.power_H-SpiceCore5ForInterp.powerH_noise)/(SpiceCore5ForInterp.power_V-SpiceCore5ForInterp.powerV_noise))*(1-X_pol)-X_pol\n",
    "SpiceCore5ForInterp[\"Omega_reco3\"] = np.degrees(np.arccos(np.sin(np.radians(SpiceCore5ForInterp.theta_reco))/np.sqrt(1+SpiceCore5ForInterp.R2**2)))\n",
    "\n",
    "\n",
    "SpiceCore6ForInterp[\"R\"] = np.sqrt((SpiceCore6ForInterp.power_H-SpiceCore6ForInterp.powerH_noise)/(SpiceCore6ForInterp.power_V-SpiceCore6ForInterp.powerV_noise))\n",
    "SpiceCore6ForInterp[\"Omega_reco2\"] = np.degrees(np.arccos(np.sin(np.radians(SpiceCore6ForInterp.theta_reco))/np.sqrt(1+SpiceCore6ForInterp.R**2)))\n",
    "SpiceCore6ForInterp[\"R2\"] = np.sqrt((SpiceCore6ForInterp.power_H-SpiceCore6ForInterp.powerH_noise)/(SpiceCore6ForInterp.power_V-SpiceCore6ForInterp.powerV_noise))*(1-X_pol)-X_pol\n",
    "SpiceCore6ForInterp[\"Omega_reco3\"] = np.degrees(np.arccos(np.sin(np.radians(SpiceCore6ForInterp.theta_reco))/np.sqrt(1+SpiceCore6ForInterp.R2**2)))\n",
    "\n",
    "\n",
    "# SpiceCore0ForInterp = SpiceCore0ForInterp.dropna()\n",
    "# SpiceCore1ForInterp = SpiceCore1ForInterp.dropna()\n",
    "# SpiceCore2ForInterp = SpiceCore2ForInterp.dropna()\n",
    "# SpiceCore3ForInterp = SpiceCore3ForInterp.dropna()\n",
    "# SpiceCore4ForInterp = SpiceCore4ForInterp.dropna()\n",
    "# SpiceCore5ForInterp = SpiceCore5ForInterp.dropna()\n",
    "# SpiceCore6ForInterp = SpiceCore6ForInterp.dropna()"
   ]
  },
  {
   "cell_type": "code",
   "execution_count": 125,
   "metadata": {},
   "outputs": [
    {
     "data": {
      "text/plain": [
       "<matplotlib.legend.Legend at 0x2afdd76c92b0>"
      ]
     },
     "execution_count": 125,
     "metadata": {},
     "output_type": "execute_result"
    },
    {
     "data": {
      "image/png": "[encoded data removed]",
      "text/plain": [
       "<Figure size 432x288 with 1 Axes>"
      ]
     },
     "metadata": {},
     "output_type": "display_data"
    }
   ],
   "source": [
    "plt.hist(SpiceCore0ForInterp.power_H-SpiceCore0ForInterp.powerH_noise, bins = 100, density=True, label = \"Ch 8\");\n",
    "# plt.axvline(SpiceCore0ForInterp.powerH_noise.unique()[0], c = \"red\", label = \"Soft-triggers avg. noise power\")\n",
    "plt.yscale('log')\n",
    "plt.xlabel(\"Power [deconvolved trace, \\n noise subtracted]\")\n",
    "plt.ylabel(\"Normalized counts\")\n",
    "plt.legend()"
   ]
  },
  {
   "cell_type": "code",
   "execution_count": 126,
   "metadata": {},
   "outputs": [
    {
     "data": {
      "text/plain": [
       "7515525.90979793"
      ]
     },
     "execution_count": 126,
     "metadata": {},
     "output_type": "execute_result"
    }
   ],
   "source": [
    "SpiceCore0ForInterp.powerH_noise.unique()[0]"
   ]
  },
  {
   "cell_type": "code",
   "execution_count": 145,
   "metadata": {},
   "outputs": [
    {
     "data": {
      "text/plain": [
       "<matplotlib.legend.Legend at 0x2afde2655a90>"
      ]
     },
     "execution_count": 145,
     "metadata": {},
     "output_type": "execute_result"
    },
    {
     "data": {
      "image/png": "[encoded data removed]",
      "text/plain": [
       "<Figure size 576x360 with 1 Axes>"
      ]
     },
     "metadata": {},
     "output_type": "display_data"
    }
   ],
   "source": [
    "plt.figure(figsize=(8,5))\n",
    "plt.plot(depthArr,180-np.array(recAng[0]), c = \"C1\", lw = 3,label = \"From ray-tracer [direct]\")\n",
    "plt.plot(depthArr,180-np.array(recAng[1]), c = \"C2\", lw = 3,label = \"From ray-tracer [refracted/reflected]\")\n",
    "\n",
    "plt.scatter(SpiceCore0ForInterp.interp_depth, SpiceCore0ForInterp.theta_reco, label=\"Interferometry\", alpha = 0.5)\n",
    "plt.xlim(300,1100)\n",
    "plt.ylim(60,115)\n",
    "\n",
    "plt.ylabel(\"$\\\\theta$\")\n",
    "plt.xlabel(\"Depth [m]\")\n",
    "plt.legend()"
   ]
  },
  {
   "cell_type": "code",
   "execution_count": null,
   "metadata": {},
   "outputs": [],
   "source": []
  }
 ],
 "metadata": {
  "kernelspec": {
   "display_name": "Python 3.6 (Conda 5.2) [python/3.6-conda5.2]",
   "language": "python",
   "name": "sys_python36conda"
  },
  "language_info": {
   "codemirror_mode": {
    "name": "ipython",
    "version": 3
   },
   "file_extension": ".py",
   "mimetype": "text/x-python",
   "name": "python",
   "nbconvert_exporter": "python",
   "pygments_lexer": "ipython3",
   "version": "3.6.6"
  }
 },
 "nbformat": 4,
 "nbformat_minor": 4
}
