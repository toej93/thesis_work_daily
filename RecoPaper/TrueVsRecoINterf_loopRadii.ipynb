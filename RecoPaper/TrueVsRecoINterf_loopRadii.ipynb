{
 "cells": [
  {
   "cell_type": "markdown",
   "metadata": {},
   "source": [
    "# True vs Reco for interferometry"
   ]
  },
  {
   "cell_type": "code",
   "execution_count": 1,
   "metadata": {},
   "outputs": [
    {
     "name": "stdout",
     "output_type": "stream",
     "text": [
      "Welcome to JupyROOT 6.18/04\n"
     ]
    }
   ],
   "source": [
    "import numpy as np\n",
    "import matplotlib.pyplot as plt\n",
    "import matplotlib as mpl\n",
    "import pandas as pd\n",
    "import pyrex\n",
    "import pyrex.custom.ara as ara\n",
    "from pyrex.internal_functions import normalize\n",
    "import os\n",
    "import sys\n",
    "import seaborn as sns\n",
    "\n",
    "sys.path.append(\"/users/PAS0654/osu8354/ARA_cvmfs/root_build/lib/\") # go to parent dir\n",
    "sys.path.append(\"/users/PCON0003/cond0068/.local/lib/python3.7/site-packages/\")\n",
    "# sys.path.append(\"/users/PCON0003/cond0068/pyrex_sims/fromBen/thesis_work/pyrex-custom/analysis/custom/analysis/\")\n",
    "import ROOT\n",
    "import math\n",
    "from ROOT import TH1D,TF1, gRandom, gPad, gStyle\n",
    "import matplotlib as mpl\n",
    "import matplotlib.pyplot as plt\n",
    "from ROOT import TChain, TSelector, TTree\n",
    "\n",
    "# mpl.use('agg') \n",
    "mpl.rcParams['text.usetex'] = True\n",
    "mpl.rcParams['text.latex.unicode'] = True\n",
    "mpl.rcParams['mathtext.rm'] = 'Times New Roman'\n",
    "mpl.rcParams['mathtext.it'] = 'Times New Roman:italic'\n",
    "mpl.rcParams['mathtext.bf'] = 'Times New Roman:bold'\n",
    "\n",
    "mpl.rc('font', family='serif', size=12)\n",
    "mpl.rcParams['xtick.labelsize'] = 14\n",
    "mpl.rcParams['ytick.labelsize'] = 14\n",
    "mpl.rcParams['xtick.major.size'] = 5\n",
    "mpl.rcParams['ytick.major.size'] = 5\n",
    "\n",
    "mpl.rcParams['axes.titlesize'] = 18\n",
    "mpl.rcParams['axes.labelsize'] = 18\n",
    "mpl.rc('font', size=16)\n",
    "mpl.rc('axes', titlesize=20)\n",
    "\n",
    "# import mplcyberpunk\n",
    "# plt.style.use(\"cyberpunk\")\n",
    "\n",
    "current_palette = sns.color_palette('colorblind', 10)"
   ]
  },
  {
   "cell_type": "code",
   "execution_count": 2,
   "metadata": {},
   "outputs": [],
   "source": [
    "def weighted_avg_and_std(values, weights):\n",
    "    \"\"\"\n",
    "    Return the weighted average and standard deviation.\n",
    "\n",
    "    values, weights -- Numpy ndarrays with the same shape.\n",
    "    \"\"\"\n",
    "    average = np.average(values, weights=weights)\n",
    "    # Fast and numerically precise:\n",
    "    variance = np.average((values-average)**2, weights=weights)\n",
    "    return (average, np.sqrt(variance))"
   ]
  },
  {
   "cell_type": "code",
   "execution_count": 24,
   "metadata": {},
   "outputs": [],
   "source": [
    "def convertToLocal(posnu_x,posnu_y,posnu_z):\n",
    "    posNu = np.array([posnu_x, posnu_y, posnu_z])\n",
    "    avgVec = np.array([10000.83568, 9998.89765, 6359452.44702])\n",
    "    posNu2 = posNu-avgVec #AraSim adds avgVec when transforming coordinates, and this is what AraSim outputs\n",
    "    norm = np.linalg.norm(posNu2)\n",
    "    posNu2 = posNu2/norm#Normalize\n",
    "    posnu_theta = np.degrees(np.arccos((posNu2[2])))\n",
    "    posnu_phi = np.degrees(np.arctan2(posNu2[1],posNu2[0])%(np.pi))\n",
    "    return posnu_phi, posnu_theta"
   ]
  },
  {
   "cell_type": "code",
   "execution_count": 25,
   "metadata": {},
   "outputs": [],
   "source": [
    "srcFolder = \"/users/PAS0654/osu8354/ARA_cvmfs/source/AraRoot/analysis/ARA_analysis/Reco_sim/reco_code/Interf_files/loop\"\n",
    "file_list=[]#Define an empty list\n",
    "for filename in os.listdir(srcFolder):#Loop over desired directory\n",
    "    if filename.endswith(\".root\"): #extension, .root in this case\n",
    "        file_list.append(os.path.join(srcFolder, str(filename))) #add file name to the list\n",
    "        "
   ]
  },
  {
   "cell_type": "code",
   "execution_count": 26,
   "metadata": {},
   "outputs": [],
   "source": [
    "OutputTree = TChain(\"OutputTree\")\n",
    "for line in file_list:\n",
    "    OutputTree.AddFile(line)"
   ]
  },
  {
   "cell_type": "code",
   "execution_count": 27,
   "metadata": {},
   "outputs": [],
   "source": [
    "# OutputTree.Print()"
   ]
  },
  {
   "cell_type": "code",
   "execution_count": 96,
   "metadata": {},
   "outputs": [],
   "source": [
    "phi_peak = []\n",
    "theta_peak = []\n",
    "posnu_phi = []\n",
    "posnu_theta = []\n",
    "peakV = []\n",
    "SNR = []\n",
    "weight = []\n",
    "for event in OutputTree:\n",
    "    corrValArray = np.zeros(4)\n",
    "    corrValArray[0] = event.peakCorr_dir[34]\n",
    "    corrValArray[1] = event.peakCorr_dir[69]\n",
    "    corrValArray[2] = event.peakCorr_ref[34]\n",
    "    corrValArray[3] = event.peakCorr_dir[69]\n",
    "    maxBin = np.argmax(corrValArray)\n",
    "#     print(maxBin)\n",
    "    if(maxBin==0):\n",
    "        theta_peak.append(90-event.peakTheta_dir[34])\n",
    "        phi_peak.append(event.peakPhi_dir[34]%(180))\n",
    "    elif(maxBin==1):\n",
    "        theta_peak.append(90-event.peakTheta_dir[69])\n",
    "        phi_peak.append(event.peakPhi_dir[69]%(180))\n",
    "    elif(maxBin==2):\n",
    "        theta_peak.append(90-event.peakTheta_ref[34])\n",
    "        phi_peak.append(event.peakPhi_ref[34]%(180))\n",
    "    elif(maxBin==3):\n",
    "        theta_peak.append(90-event.peakTheta_ref[69])\n",
    "        phi_peak.append(event.peakPhi_ref[69]%(180))\n",
    "    phi, theta = convertToLocal(event.posnu[0],event.posnu[1],event.posnu[2])\n",
    "    posnu_phi.append(phi)\n",
    "    posnu_theta.append(theta)\n",
    "    peakV.append(event.PeakVfromSim[0])\n",
    "    SNR.append(event.thirdVPeakOverRMS_out[2])\n",
    "    weight.append(event.weight)\n",
    "        \n",
    "#     print(event.peakPhi_dir[0],event.peakPhi_ref[0])"
   ]
  },
  {
   "cell_type": "code",
   "execution_count": 52,
   "metadata": {},
   "outputs": [],
   "source": [
    "phi_peak = []\n",
    "theta_peak = []\n",
    "posnu_phi = []\n",
    "posnu_theta = []\n",
    "peakV = []\n",
    "SNR = []\n",
    "weight = []\n",
    "for event in OutputTree:\n",
    "    corrValTmp_ref = np.zeros(70)\n",
    "    corrValTmp_dir = np.zeros(70)\n",
    "    for i in range(len(event.peakTheta_dir)):\n",
    "        corrValTmp_dir[i]=event.peakCorr_dir[i]\n",
    "        corrValTmp_ref[i]=event.peakCorr_ref[i]\n",
    "    argMax_dir = np.argmax(corrValTmp_dir)\n",
    "    argMax_ref = np.argmax(corrValTmp_ref)\n",
    "    argMax = 0\n",
    "    if(corrValTmp_dir[argMax_dir]>=corrValTmp_ref[argMax_ref]):\n",
    "        argMax=argMax_dir\n",
    "        theta_peak.append(90-event.peakTheta_dir[argMax])\n",
    "        phi_peak.append(event.peakPhi_dir[argMax]%(180))\n",
    "\n",
    "    else:\n",
    "        argMax=argMax_ref\n",
    "        theta_peak.append(90-event.peakTheta_ref[argMax])\n",
    "        phi_peak.append(event.peakPhi_ref[argMax]%(180))\n",
    "    phi, theta = convertToLocal(event.posnu[0],event.posnu[1],event.posnu[2])\n",
    "    posnu_phi.append(phi)\n",
    "    posnu_theta.append(theta)\n",
    "    peakV.append(event.PeakVfromSim[0])\n",
    "    SNR.append(event.thirdVPeakOverRMS_out[2])\n",
    "    weight.append(event.weight)"
   ]
  },
  {
   "cell_type": "code",
   "execution_count": 73,
   "metadata": {},
   "outputs": [
    {
     "name": "stdout",
     "output_type": "stream",
     "text": [
      "350\n"
     ]
    }
   ],
   "source": [
    "df = pd.DataFrame({\"phi_peak\":np.array(phi_peak),\"theta_peak\": np.array(theta_peak),\"posnu_phi\": np.array(posnu_phi),\n",
    "                   \"posnu_theta\": np.array(posnu_theta),\"SNR\": np.array(SNR),  \"weight\":np.array(weight)})\n",
    "df.tail()\n",
    "df = df.loc[df.SNR>9]\n",
    "df = df.loc[df.SNR<30]\n",
    "print(len(df))\n",
    "# df = df.loc[df.theta_peak>50]"
   ]
  },
  {
   "cell_type": "code",
   "execution_count": 79,
   "metadata": {},
   "outputs": [
    {
     "data": {
      "text/plain": [
       "Text(0.5,0,'$\\\\theta_{true}-\\\\theta_{reco}$')"
      ]
     },
     "execution_count": 79,
     "metadata": {},
     "output_type": "execute_result"
    },
    {
     "data": {
      "image/png": "[encoded data removed]",
      "text/plain": [
       "<Figure size 432x288 with 1 Axes>"
      ]
     },
     "metadata": {},
     "output_type": "display_data"
    }
   ],
   "source": [
    "delta = df.posnu_theta-df.theta_peak\n",
    "plt.hist(delta,bins=50);\n",
    "# plt.hist(delta,bins=50, weights=df.weight);\n",
    "# sns.distplot(delta,bins=100)\n",
    "plt.grid()\n",
    "plt.title(\"Interferometric reconstruction (300 m hypot.)\")\n",
    "plt.xlabel(r\"$\\theta_{true}-\\theta_{reco}$\")\n",
    "# plt.yscale(\"log\")\n",
    "# plt.xlim(-10,10)\n"
   ]
  },
  {
   "cell_type": "code",
   "execution_count": 80,
   "metadata": {},
   "outputs": [
    {
     "data": {
      "text/plain": [
       "Text(0,0.5,'$\\\\theta_{reco}$')"
      ]
     },
     "execution_count": 80,
     "metadata": {},
     "output_type": "execute_result"
    },
    {
     "name": "stderr",
     "output_type": "stream",
     "text": [
      "/apps/python/3.6-conda5.2/lib/python3.6/site-packages/matplotlib/colors.py:1031: RuntimeWarning: invalid value encountered in less_equal\n",
      "  mask |= resdat <= 0\n"
     ]
    },
    {
     "data": {
      "image/png": "[encoded data removed]",
      "text/plain": [
       "<Figure size 720x432 with 2 Axes>"
      ]
     },
     "metadata": {},
     "output_type": "display_data"
    }
   ],
   "source": [
    "plt.figure(figsize=(10,6))\n",
    "plt.hist2d(df.posnu_theta, df.theta_peak, bins = 50,cmin=1, norm=mpl.colors.LogNorm());\n",
    "plt.colorbar()\n",
    "plt.grid(alpha = 0.5)\n",
    "plt.xlabel(r\"$\\theta_{true}$\")\n",
    "plt.ylabel(r\"$\\theta_{reco}$\")\n"
   ]
  },
  {
   "cell_type": "code",
   "execution_count": 76,
   "metadata": {},
   "outputs": [
    {
     "data": {
      "text/plain": [
       "12.05717208615682"
      ]
     },
     "execution_count": 76,
     "metadata": {},
     "output_type": "execute_result"
    }
   ],
   "source": [
    "delta.std()"
   ]
  },
  {
   "cell_type": "code",
   "execution_count": 77,
   "metadata": {},
   "outputs": [
    {
     "data": {
      "text/plain": [
       "Text(0.5,0,'$\\\\phi_{true}-\\\\phi_{reco}$')"
      ]
     },
     "execution_count": 77,
     "metadata": {},
     "output_type": "execute_result"
    },
    {
     "data": {
      "image/png": "[encoded data removed]",
      "text/plain": [
       "<Figure size 432x288 with 1 Axes>"
      ]
     },
     "metadata": {},
     "output_type": "display_data"
    }
   ],
   "source": [
    "delta_phi = df.posnu_phi-df.phi_peak\n",
    "\n",
    "plt.hist(delta_phi,bins=50, weights=df.weight);\n",
    "plt.grid()\n",
    "plt.title(\"Interferometric reconstruction (300 m hypot.)\")\n",
    "plt.xlabel(r\"$\\phi_{true}-\\phi_{reco}$\")\n",
    "# plt.yscale(\"log\"\n"
   ]
  },
  {
   "cell_type": "code",
   "execution_count": null,
   "metadata": {},
   "outputs": [],
   "source": []
  }
 ],
 "metadata": {
  "kernelspec": {
   "display_name": "Python 3.6 (Conda 5.2) [python/3.6-conda5.2]",
   "language": "python",
   "name": "sys_python36conda"
  },
  "language_info": {
   "codemirror_mode": {
    "name": "ipython",
    "version": 3
   },
   "file_extension": ".py",
   "mimetype": "text/x-python",
   "name": "python",
   "nbconvert_exporter": "python",
   "pygments_lexer": "ipython3",
   "version": "3.6.6"
  }
 },
 "nbformat": 4,
 "nbformat_minor": 4
}
