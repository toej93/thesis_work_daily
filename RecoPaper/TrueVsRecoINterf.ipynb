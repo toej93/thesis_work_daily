{
 "cells": [
  {
   "cell_type": "markdown",
   "metadata": {},
   "source": [
    "# True vs Reco for interferometry"
   ]
  },
  {
   "cell_type": "code",
   "execution_count": 1,
   "metadata": {},
   "outputs": [],
   "source": [
    "import numpy as np\n",
    "import matplotlib.pyplot as plt\n",
    "import matplotlib as mpl\n",
    "import pandas as pd\n",
    "import pyrex\n",
    "import pyrex.custom.ara as ara\n",
    "from pyrex.internal_functions import normalize\n",
    "import os\n",
    "\n",
    "import seaborn as sns\n",
    "\n",
    "# mpl.use('agg') \n",
    "mpl.rcParams['text.usetex'] = True\n",
    "mpl.rcParams['text.latex.unicode'] = True\n",
    "mpl.rcParams['mathtext.rm'] = 'Times New Roman'\n",
    "mpl.rcParams['mathtext.it'] = 'Times New Roman:italic'\n",
    "mpl.rcParams['mathtext.bf'] = 'Times New Roman:bold'\n",
    "\n",
    "mpl.rc('font', family='serif', size=12)\n",
    "mpl.rcParams['xtick.labelsize'] = 14\n",
    "mpl.rcParams['ytick.labelsize'] = 14\n",
    "mpl.rcParams['xtick.major.size'] = 5\n",
    "mpl.rcParams['ytick.major.size'] = 5\n",
    "\n",
    "mpl.rcParams['axes.titlesize'] = 18\n",
    "mpl.rcParams['axes.labelsize'] = 18\n",
    "mpl.rc('font', size=16)\n",
    "mpl.rc('axes', titlesize=20)\n",
    "\n",
    "# import mplcyberpunk\n",
    "# plt.style.use(\"cyberpunk\")\n",
    "\n",
    "current_palette = sns.color_palette('colorblind', 10)"
   ]
  },
  {
   "cell_type": "code",
   "execution_count": 31,
   "metadata": {},
   "outputs": [
    {
     "data": {
      "text/html": [
       "<div>\n",
       "<style scoped>\n",
       "    .dataframe tbody tr th:only-of-type {\n",
       "        vertical-align: middle;\n",
       "    }\n",
       "\n",
       "    .dataframe tbody tr th {\n",
       "        vertical-align: top;\n",
       "    }\n",
       "\n",
       "    .dataframe thead th {\n",
       "        text-align: right;\n",
       "    }\n",
       "</style>\n",
       "<table border=\"1\" class=\"dataframe\">\n",
       "  <thead>\n",
       "    <tr style=\"text-align: right;\">\n",
       "      <th></th>\n",
       "      <th>EvNum</th>\n",
       "      <th>theta_reco</th>\n",
       "      <th>theta_true</th>\n",
       "      <th>phi_reco</th>\n",
       "      <th>phi_true</th>\n",
       "      <th>weight</th>\n",
       "      <th>maxAmplitude</th>\n",
       "    </tr>\n",
       "  </thead>\n",
       "  <tbody>\n",
       "    <tr>\n",
       "      <th>1117</th>\n",
       "      <td>992021</td>\n",
       "      <td>93.0</td>\n",
       "      <td>98.521396</td>\n",
       "      <td>164.0</td>\n",
       "      <td>163.780311</td>\n",
       "      <td>1.168158e-04</td>\n",
       "      <td>809.613764</td>\n",
       "    </tr>\n",
       "    <tr>\n",
       "      <th>1118</th>\n",
       "      <td>992156</td>\n",
       "      <td>109.0</td>\n",
       "      <td>111.173859</td>\n",
       "      <td>127.0</td>\n",
       "      <td>126.753027</td>\n",
       "      <td>3.503074e-08</td>\n",
       "      <td>543.626240</td>\n",
       "    </tr>\n",
       "    <tr>\n",
       "      <th>1124</th>\n",
       "      <td>999719</td>\n",
       "      <td>117.0</td>\n",
       "      <td>118.171773</td>\n",
       "      <td>38.0</td>\n",
       "      <td>38.659708</td>\n",
       "      <td>4.266334e-09</td>\n",
       "      <td>535.852974</td>\n",
       "    </tr>\n",
       "    <tr>\n",
       "      <th>1125</th>\n",
       "      <td>1000579</td>\n",
       "      <td>96.0</td>\n",
       "      <td>99.759033</td>\n",
       "      <td>152.0</td>\n",
       "      <td>152.046855</td>\n",
       "      <td>9.987306e-01</td>\n",
       "      <td>590.628185</td>\n",
       "    </tr>\n",
       "    <tr>\n",
       "      <th>1126</th>\n",
       "      <td>1002024</td>\n",
       "      <td>116.0</td>\n",
       "      <td>116.448518</td>\n",
       "      <td>178.0</td>\n",
       "      <td>178.214368</td>\n",
       "      <td>9.953586e-01</td>\n",
       "      <td>851.932194</td>\n",
       "    </tr>\n",
       "  </tbody>\n",
       "</table>\n",
       "</div>"
      ],
      "text/plain": [
       "        EvNum  theta_reco  theta_true  phi_reco    phi_true        weight  \\\n",
       "1117   992021        93.0   98.521396     164.0  163.780311  1.168158e-04   \n",
       "1118   992156       109.0  111.173859     127.0  126.753027  3.503074e-08   \n",
       "1124   999719       117.0  118.171773      38.0   38.659708  4.266334e-09   \n",
       "1125  1000579        96.0   99.759033     152.0  152.046855  9.987306e-01   \n",
       "1126  1002024       116.0  116.448518     178.0  178.214368  9.953586e-01   \n",
       "\n",
       "      maxAmplitude  \n",
       "1117    809.613764  \n",
       "1118    543.626240  \n",
       "1124    535.852974  \n",
       "1125    590.628185  \n",
       "1126    851.932194  "
      ]
     },
     "execution_count": 31,
     "metadata": {},
     "output_type": "execute_result"
    }
   ],
   "source": [
    "interf = pd.read_pickle(\"/users/PAS0654/osu8354/ARA_cvmfs/source/AraRoot/analysis/ARA_analysis/Reco_sim/reco_code/Interf_RecoVsTrue_simple.pkl\")\n",
    "interf = interf.loc[interf.maxAmplitude<1500]\n",
    "interf = interf.loc[interf.maxAmplitude>500]\n",
    "\n",
    "interf = interf.loc[interf.theta_reco>90]\n",
    "\n",
    "interf.tail()"
   ]
  },
  {
   "cell_type": "code",
   "execution_count": 32,
   "metadata": {},
   "outputs": [
    {
     "data": {
      "text/plain": [
       "245"
      ]
     },
     "execution_count": 32,
     "metadata": {},
     "output_type": "execute_result"
    }
   ],
   "source": [
    "len(interf)"
   ]
  },
  {
   "cell_type": "code",
   "execution_count": 33,
   "metadata": {},
   "outputs": [
    {
     "data": {
      "text/plain": [
       "Text(0.5,0,'$\\\\theta_{true}-\\\\theta_{reco}$')"
      ]
     },
     "execution_count": 33,
     "metadata": {},
     "output_type": "execute_result"
    },
    {
     "data": {
      "image/png": "[encoded data removed]",
      "text/plain": [
       "<Figure size 432x288 with 1 Axes>"
      ]
     },
     "metadata": {},
     "output_type": "display_data"
    }
   ],
   "source": [
    "delta = np.array(interf.theta_true-interf.theta_reco)\n",
    "plt.hist(delta, bins = 100, weights=interf.weight);\n",
    "plt.grid()\n",
    "plt.title(\"Interferometric reconstruction\")\n",
    "plt.xlabel(r\"$\\theta_{true}-\\theta_{reco}$\")\n",
    "# plt.yscale(\"log\")\n",
    "# plt.xlim(-15,15)"
   ]
  },
  {
   "cell_type": "code",
   "execution_count": 34,
   "metadata": {},
   "outputs": [
    {
     "data": {
      "text/plain": [
       "1.7337382998527866"
      ]
     },
     "execution_count": 34,
     "metadata": {},
     "output_type": "execute_result"
    }
   ],
   "source": [
    "delta.mean()"
   ]
  },
  {
   "cell_type": "code",
   "execution_count": 35,
   "metadata": {},
   "outputs": [
    {
     "data": {
      "text/plain": [
       "Text(0.5,0,'$\\\\phi_{true}-\\\\phi_{reco}$')"
      ]
     },
     "execution_count": 35,
     "metadata": {},
     "output_type": "execute_result"
    },
    {
     "data": {
      "image/png": "[encoded data removed]",
      "text/plain": [
       "<Figure size 432x288 with 1 Axes>"
      ]
     },
     "metadata": {},
     "output_type": "display_data"
    }
   ],
   "source": [
    "delta = np.array(interf.phi_true-interf.phi_reco)\n",
    "plt.hist(delta, bins = 100, weights=interf.weight);\n",
    "plt.grid()\n",
    "plt.title(\"Interferometric reconstruction (300 m hypot.)\")\n",
    "plt.xlabel(r\"$\\phi_{true}-\\phi_{reco}$\")\n",
    "# plt.yscale(\"log\")\n",
    "# plt.xlim(-15,15)"
   ]
  },
  {
   "cell_type": "code",
   "execution_count": 36,
   "metadata": {},
   "outputs": [],
   "source": [
    "def weighted_avg_and_std(values, weights):\n",
    "    \"\"\"\n",
    "    Return the weighted average and standard deviation.\n",
    "\n",
    "    values, weights -- Numpy ndarrays with the same shape.\n",
    "    \"\"\"\n",
    "    average = np.average(values, weights=weights)\n",
    "    # Fast and numerically precise:\n",
    "    variance = np.average((values-average)**2, weights=weights)\n",
    "    return (average, np.sqrt(variance))"
   ]
  },
  {
   "cell_type": "code",
   "execution_count": 37,
   "metadata": {},
   "outputs": [
    {
     "data": {
      "text/plain": [
       "(0.3845224004134849, 4.352910146845365)"
      ]
     },
     "execution_count": 37,
     "metadata": {},
     "output_type": "execute_result"
    }
   ],
   "source": [
    "weighted_avg_and_std(delta, interf.weight)"
   ]
  },
  {
   "cell_type": "code",
   "execution_count": 21,
   "metadata": {},
   "outputs": [
    {
     "data": {
      "image/png": "[encoded data removed]",
      "text/plain": [
       "<Figure size 432x288 with 1 Axes>"
      ]
     },
     "metadata": {},
     "output_type": "display_data"
    }
   ],
   "source": [
    "plt.hist(interf.maxAmplitude, bins = 100);"
   ]
  },
  {
   "cell_type": "code",
   "execution_count": 45,
   "metadata": {},
   "outputs": [
    {
     "data": {
      "text/plain": [
       "9.725906277630415"
      ]
     },
     "execution_count": 45,
     "metadata": {},
     "output_type": "execute_result"
    }
   ],
   "source": [
    "100*len(interf.loc[interf.maxAmplitude>1499])/len(interf)"
   ]
  },
  {
   "cell_type": "code",
   "execution_count": null,
   "metadata": {},
   "outputs": [],
   "source": []
  }
 ],
 "metadata": {
  "kernelspec": {
   "display_name": "Python 3.6 (Conda 5.2) [python/3.6-conda5.2]",
   "language": "python",
   "name": "sys_python36conda"
  },
  "language_info": {
   "codemirror_mode": {
    "name": "ipython",
    "version": 3
   },
   "file_extension": ".py",
   "mimetype": "text/x-python",
   "name": "python",
   "nbconvert_exporter": "python",
   "pygments_lexer": "ipython3",
   "version": "3.6.6"
  }
 },
 "nbformat": 4,
 "nbformat_minor": 4
}
