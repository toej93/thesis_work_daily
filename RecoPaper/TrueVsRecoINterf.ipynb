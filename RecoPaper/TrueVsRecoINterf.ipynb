{
 "cells": [
  {
   "cell_type": "markdown",
   "metadata": {},
   "source": [
    "# True vs Reco for interferometry"
   ]
  },
  {
   "cell_type": "code",
   "execution_count": 1,
   "metadata": {},
   "outputs": [],
   "source": [
    "import numpy as np\n",
    "import matplotlib.pyplot as plt\n",
    "import matplotlib as mpl\n",
    "import pandas as pd\n",
    "import pyrex\n",
    "import pyrex.custom.ara as ara\n",
    "from pyrex.internal_functions import normalize\n",
    "import os\n",
    "\n",
    "import seaborn as sns\n",
    "\n",
    "# mpl.use('agg') \n",
    "mpl.rcParams['text.usetex'] = True\n",
    "mpl.rcParams['text.latex.unicode'] = True\n",
    "mpl.rcParams['mathtext.rm'] = 'Times New Roman'\n",
    "mpl.rcParams['mathtext.it'] = 'Times New Roman:italic'\n",
    "mpl.rcParams['mathtext.bf'] = 'Times New Roman:bold'\n",
    "\n",
    "mpl.rc('font', family='serif', size=12)\n",
    "mpl.rcParams['xtick.labelsize'] = 14\n",
    "mpl.rcParams['ytick.labelsize'] = 14\n",
    "mpl.rcParams['xtick.major.size'] = 5\n",
    "mpl.rcParams['ytick.major.size'] = 5\n",
    "\n",
    "mpl.rcParams['axes.titlesize'] = 18\n",
    "mpl.rcParams['axes.labelsize'] = 18\n",
    "mpl.rc('font', size=16)\n",
    "mpl.rc('axes', titlesize=20)\n",
    "\n",
    "# import mplcyberpunk\n",
    "# plt.style.use(\"cyberpunk\")\n",
    "\n",
    "current_palette = sns.color_palette('colorblind', 10)"
   ]
  },
  {
   "cell_type": "code",
   "execution_count": 73,
   "metadata": {},
   "outputs": [
    {
     "data": {
      "text/html": [
       "<div>\n",
       "<style scoped>\n",
       "    .dataframe tbody tr th:only-of-type {\n",
       "        vertical-align: middle;\n",
       "    }\n",
       "\n",
       "    .dataframe tbody tr th {\n",
       "        vertical-align: top;\n",
       "    }\n",
       "\n",
       "    .dataframe thead th {\n",
       "        text-align: right;\n",
       "    }\n",
       "</style>\n",
       "<table border=\"1\" class=\"dataframe\">\n",
       "  <thead>\n",
       "    <tr style=\"text-align: right;\">\n",
       "      <th></th>\n",
       "      <th>EvNum</th>\n",
       "      <th>theta_reco</th>\n",
       "      <th>theta_true</th>\n",
       "      <th>phi_reco</th>\n",
       "      <th>phi_true</th>\n",
       "      <th>R_posnu</th>\n",
       "      <th>weight</th>\n",
       "      <th>maxAmplitude</th>\n",
       "    </tr>\n",
       "  </thead>\n",
       "  <tbody>\n",
       "    <tr>\n",
       "      <th>1126</th>\n",
       "      <td>1002024</td>\n",
       "      <td>117.0</td>\n",
       "      <td>116.448518</td>\n",
       "      <td>178.0</td>\n",
       "      <td>178.214368</td>\n",
       "      <td>1483.840415</td>\n",
       "      <td>9.953586e-01</td>\n",
       "      <td>851.932194</td>\n",
       "    </tr>\n",
       "    <tr>\n",
       "      <th>1127</th>\n",
       "      <td>1003347</td>\n",
       "      <td>101.0</td>\n",
       "      <td>100.314599</td>\n",
       "      <td>89.0</td>\n",
       "      <td>88.460804</td>\n",
       "      <td>1824.074641</td>\n",
       "      <td>9.991989e-01</td>\n",
       "      <td>414.780886</td>\n",
       "    </tr>\n",
       "    <tr>\n",
       "      <th>1128</th>\n",
       "      <td>1006689</td>\n",
       "      <td>106.0</td>\n",
       "      <td>105.633871</td>\n",
       "      <td>117.0</td>\n",
       "      <td>116.905861</td>\n",
       "      <td>1541.782804</td>\n",
       "      <td>9.991505e-01</td>\n",
       "      <td>374.471332</td>\n",
       "    </tr>\n",
       "    <tr>\n",
       "      <th>1129</th>\n",
       "      <td>1007144</td>\n",
       "      <td>105.0</td>\n",
       "      <td>97.586631</td>\n",
       "      <td>150.0</td>\n",
       "      <td>151.755934</td>\n",
       "      <td>1410.584189</td>\n",
       "      <td>1.594640e-11</td>\n",
       "      <td>309.370968</td>\n",
       "    </tr>\n",
       "    <tr>\n",
       "      <th>1130</th>\n",
       "      <td>1009710</td>\n",
       "      <td>102.0</td>\n",
       "      <td>102.114535</td>\n",
       "      <td>47.0</td>\n",
       "      <td>46.953464</td>\n",
       "      <td>2550.929703</td>\n",
       "      <td>9.987323e-01</td>\n",
       "      <td>329.643926</td>\n",
       "    </tr>\n",
       "  </tbody>\n",
       "</table>\n",
       "</div>"
      ],
      "text/plain": [
       "        EvNum  theta_reco  theta_true  phi_reco    phi_true      R_posnu  \\\n",
       "1126  1002024       117.0  116.448518     178.0  178.214368  1483.840415   \n",
       "1127  1003347       101.0  100.314599      89.0   88.460804  1824.074641   \n",
       "1128  1006689       106.0  105.633871     117.0  116.905861  1541.782804   \n",
       "1129  1007144       105.0   97.586631     150.0  151.755934  1410.584189   \n",
       "1130  1009710       102.0  102.114535      47.0   46.953464  2550.929703   \n",
       "\n",
       "            weight  maxAmplitude  \n",
       "1126  9.953586e-01    851.932194  \n",
       "1127  9.991989e-01    414.780886  \n",
       "1128  9.991505e-01    374.471332  \n",
       "1129  1.594640e-11    309.370968  \n",
       "1130  9.987323e-01    329.643926  "
      ]
     },
     "execution_count": 73,
     "metadata": {},
     "output_type": "execute_result"
    }
   ],
   "source": [
    "interf = pd.read_pickle(\"/users/PAS0654/osu8354/ARA_cvmfs/source/AraRoot/analysis/ARA_analysis/Reco_sim/reco_code/Interf_RecoVsTrue_simple.pkl\")\n",
    "interf = interf.loc[interf.maxAmplitude<1500]\n",
    "# interf = interf.loc[interf.maxAmplitude>500]\n",
    "\n",
    "# interf = interf.loc[interf.theta_true>100]\n",
    "\n",
    "interf.tail()"
   ]
  },
  {
   "cell_type": "code",
   "execution_count": 74,
   "metadata": {},
   "outputs": [
    {
     "data": {
      "text/plain": [
       "1021"
      ]
     },
     "execution_count": 74,
     "metadata": {},
     "output_type": "execute_result"
    }
   ],
   "source": [
    "len(interf)"
   ]
  },
  {
   "cell_type": "code",
   "execution_count": 75,
   "metadata": {},
   "outputs": [
    {
     "data": {
      "text/plain": [
       "(-15, 15)"
      ]
     },
     "execution_count": 75,
     "metadata": {},
     "output_type": "execute_result"
    },
    {
     "data": {
      "image/png": "[encoded data removed]",
      "text/plain": [
       "<Figure size 432x288 with 1 Axes>"
      ]
     },
     "metadata": {},
     "output_type": "display_data"
    }
   ],
   "source": [
    "delta = np.array(interf.theta_true-interf.theta_reco)\n",
    "plt.hist(delta, bins = 100, weights=interf.weight);\n",
    "plt.grid()\n",
    "plt.title(\"Interferometric reconstruction (3000 m hypot.)\")\n",
    "plt.xlabel(r\"$\\theta_{true}-\\theta_{reco}$\")\n",
    "# plt.yscale(\"log\")\n",
    "plt.xlim(-15,15)\n",
    "# plt.ylim(1E-1)"
   ]
  },
  {
   "cell_type": "code",
   "execution_count": 76,
   "metadata": {},
   "outputs": [
    {
     "data": {
      "text/plain": [
       "Text(0,0.5,'$\\\\theta_{reco}$')"
      ]
     },
     "execution_count": 76,
     "metadata": {},
     "output_type": "execute_result"
    },
    {
     "name": "stderr",
     "output_type": "stream",
     "text": [
      "/apps/python/3.6-conda5.2/lib/python3.6/site-packages/matplotlib/colors.py:1031: RuntimeWarning: invalid value encountered in less_equal\n",
      "  mask |= resdat <= 0\n"
     ]
    },
    {
     "data": {
      "image/png": "[encoded data removed]",
      "text/plain": [
       "<Figure size 720x432 with 2 Axes>"
      ]
     },
     "metadata": {},
     "output_type": "display_data"
    }
   ],
   "source": [
    "plt.figure(figsize=(10,6))\n",
    "plt.hist2d(interf.theta_true, interf.theta_reco, bins = 50,cmin=1, norm=mpl.colors.LogNorm());\n",
    "plt.colorbar()\n",
    "plt.grid(alpha = 0.5)\n",
    "plt.xlabel(r\"$\\theta_{true}$\")\n",
    "plt.ylabel(r\"$\\theta_{reco}$\")\n"
   ]
  },
  {
   "cell_type": "code",
   "execution_count": 77,
   "metadata": {},
   "outputs": [
    {
     "data": {
      "text/plain": [
       "-3.5766710082074513"
      ]
     },
     "execution_count": 77,
     "metadata": {},
     "output_type": "execute_result"
    }
   ],
   "source": [
    "delta.mean()"
   ]
  },
  {
   "cell_type": "code",
   "execution_count": 78,
   "metadata": {},
   "outputs": [
    {
     "data": {
      "text/plain": [
       "(-10, 10)"
      ]
     },
     "execution_count": 78,
     "metadata": {},
     "output_type": "execute_result"
    },
    {
     "data": {
      "image/png": "[encoded data removed]",
      "text/plain": [
       "<Figure size 432x288 with 1 Axes>"
      ]
     },
     "metadata": {},
     "output_type": "display_data"
    }
   ],
   "source": [
    "delta = np.array(interf.phi_true-interf.phi_reco)\n",
    "plt.hist(delta, bins = 100, weights=interf.weight);\n",
    "plt.grid()\n",
    "plt.title(\"Interferometric reconstruction (300 m hypot.)\")\n",
    "plt.xlabel(r\"$\\phi_{true}-\\phi_{reco}$\")\n",
    "# plt.yscale(\"log\")\n",
    "# plt.ylim(3E0)\n",
    "plt.xlim(-10,10)"
   ]
  },
  {
   "cell_type": "code",
   "execution_count": 71,
   "metadata": {},
   "outputs": [
    {
     "data": {
      "text/plain": [
       "Text(0,0.5,'$\\\\theta_{reco}$')"
      ]
     },
     "execution_count": 71,
     "metadata": {},
     "output_type": "execute_result"
    },
    {
     "data": {
      "image/png": "[encoded data removed]",
      "text/plain": [
       "<Figure size 720x432 with 2 Axes>"
      ]
     },
     "metadata": {},
     "output_type": "display_data"
    }
   ],
   "source": [
    "plt.figure(figsize=(10,6))\n",
    "plt.hist2d(interf.phi_true, interf.phi_reco, bins = 50, cmin=1);\n",
    "plt.colorbar()\n",
    "plt.grid(alpha = 0.5)\n",
    "plt.xlabel(r\"$\\theta_{true}$\")\n",
    "plt.ylabel(r\"$\\theta_{reco}$\")\n"
   ]
  },
  {
   "cell_type": "code",
   "execution_count": 72,
   "metadata": {},
   "outputs": [],
   "source": [
    "def weighted_avg_and_std(values, weights):\n",
    "    \"\"\"\n",
    "    Return the weighted average and standard deviation.\n",
    "\n",
    "    values, weights -- Numpy ndarrays with the same shape.\n",
    "    \"\"\"\n",
    "    average = np.average(values, weights=weights)\n",
    "    # Fast and numerically precise:\n",
    "    variance = np.average((values-average)**2, weights=weights)\n",
    "    return (average, np.sqrt(variance))"
   ]
  },
  {
   "cell_type": "code",
   "execution_count": 63,
   "metadata": {},
   "outputs": [
    {
     "data": {
      "text/plain": [
       "(-2.7911513615820422, 4.276665135164609)"
      ]
     },
     "execution_count": 63,
     "metadata": {},
     "output_type": "execute_result"
    }
   ],
   "source": [
    "weighted_avg_and_std(delta, interf.weight)"
   ]
  },
  {
   "cell_type": "code",
   "execution_count": 64,
   "metadata": {},
   "outputs": [
    {
     "data": {
      "text/plain": [
       "Text(0,0.5,'$\\\\theta_{reco}$')"
      ]
     },
     "execution_count": 64,
     "metadata": {},
     "output_type": "execute_result"
    },
    {
     "name": "stderr",
     "output_type": "stream",
     "text": [
      "/apps/python/3.6-conda5.2/lib/python3.6/site-packages/matplotlib/colors.py:1031: RuntimeWarning: invalid value encountered in less_equal\n",
      "  mask |= resdat <= 0\n"
     ]
    },
    {
     "data": {
      "image/png": "[encoded data removed]",
      "text/plain": [
       "<Figure size 720x432 with 2 Axes>"
      ]
     },
     "metadata": {},
     "output_type": "display_data"
    }
   ],
   "source": [
    "plt.figure(figsize=(10,6))\n",
    "plt.hist2d(interf.R_posnu, np.array(interf.theta_true-interf.theta_reco), bins = 50,cmin=1, norm=mpl.colors.LogNorm());\n",
    "plt.colorbar()\n",
    "plt.grid(alpha = 0.5)\n",
    "plt.xlabel(r\"$\\theta_{true}$\")\n",
    "plt.ylabel(r\"$\\theta_{reco}$\")\n"
   ]
  },
  {
   "cell_type": "code",
   "execution_count": null,
   "metadata": {},
   "outputs": [],
   "source": []
  }
 ],
 "metadata": {
  "kernelspec": {
   "display_name": "Python 3.6 (Conda 5.2) [python/3.6-conda5.2]",
   "language": "python",
   "name": "sys_python36conda"
  },
  "language_info": {
   "codemirror_mode": {
    "name": "ipython",
    "version": 3
   },
   "file_extension": ".py",
   "mimetype": "text/x-python",
   "name": "python",
   "nbconvert_exporter": "python",
   "pygments_lexer": "ipython3",
   "version": "3.6.6"
  }
 },
 "nbformat": 4,
 "nbformat_minor": 4
}
