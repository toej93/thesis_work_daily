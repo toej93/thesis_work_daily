{
 "cells": [
  {
   "cell_type": "markdown",
   "metadata": {},
   "source": [
    "# Get analysis efficiency"
   ]
  },
  {
   "cell_type": "markdown",
   "metadata": {},
   "source": [
    "### June 15, 2020"
   ]
  },
  {
   "cell_type": "markdown",
   "metadata": {},
   "source": [
    "## Code"
   ]
  },
  {
   "cell_type": "markdown",
   "metadata": {},
   "source": [
    "### Import needed packages"
   ]
  },
  {
   "cell_type": "code",
   "execution_count": 1,
   "metadata": {},
   "outputs": [
    {
     "name": "stdout",
     "output_type": "stream",
     "text": [
      "Welcome to JupyROOT 6.18/04\n"
     ]
    }
   ],
   "source": [
    "import sys\n",
    "sys.path.insert(0,\"/users/PCON0003/cond0068/.local/lib/python3.7/\")\n",
    "sys.path.append(\"/users/PAS0654/osu8354/ARA_cvmfs/root_build/lib/\") # go to parent dir\n",
    "sys.path.append(\"/users/PCON0003/cond0068/.local/lib/python3.7/site-packages/\")\n",
    "import ROOT\n",
    "import math\n",
    "import numpy as np\n",
    "from ROOT import TH1D,TF1, gRandom, gPad, gStyle\n",
    "import matplotlib.pyplot as plt\n",
    "from ROOT import TChain, TSelector, TTree\n",
    "import os\n",
    "import matplotlib.colors as mcolors\n",
    "import scipy\n",
    "from matplotlib.colors import LogNorm\n",
    "import seaborn as sns\n",
    "import pandas as pd"
   ]
  },
  {
   "cell_type": "markdown",
   "metadata": {},
   "source": [
    "### Get data from ROOT files"
   ]
  },
  {
   "cell_type": "code",
   "execution_count": 2,
   "metadata": {},
   "outputs": [],
   "source": [
    "file_list=[]#Define an empty list\n",
    "for filename in os.listdir(\"/users/PAS0654/osu8354/ARA_cvmfs/source/AraRoot/analysis/allCuts/data/\"):#Loop over desired directory\n",
    "    if filename.endswith(\".root\"): #extension, .root in this case\n",
    "        file_list.append(os.path.join(\"/users/PAS0654/osu8354/ARA_cvmfs/source/AraRoot/analysis/allCuts/data/\", str(filename))) #add file name to the list\n",
    "        \n",
    "        "
   ]
  },
  {
   "cell_type": "code",
   "execution_count": 3,
   "metadata": {},
   "outputs": [],
   "source": [
    "chain = TChain(\"allCuts\") #Define chain and tree that needs to be read. \"allCuts\" in this case.\n",
    "for line in file_list:\n",
    "    chain.AddFile(line)"
   ]
  },
  {
   "cell_type": "code",
   "execution_count": 4,
   "metadata": {},
   "outputs": [],
   "source": [
    "corr_val = []\n",
    "snr_val = []\n",
    "failsRcut_V = []\n",
    "failsRcut_H = []\n",
    "# this_y_val = []\n",
    "weight = []\n",
    "energy = []\n",
    "failsTopV = []\n",
    "failsTopH = []\n",
    "isSurface = []\n",
    "# peakTheta_300m = []\n",
    "# peakPhi_300m = []\n",
    "for entry in chain:\n",
    "#     if(entry.peakCorr_single[0]<0.01): continue\n",
    "#     if(entry.peakPhi_single[0]<0):\n",
    "#         phi.append(entry.peakPhi_single[0]+180) #extract variables of interest\n",
    "#     else:\n",
    "    corr_val.append(entry.corr_val[0]) \n",
    "    snr_val.append(entry.snr_val[0]) \n",
    "    failsRcut_V.append(entry.failsRcut[0])\n",
    "    failsRcut_H.append(entry.failsRcut[1])\n",
    "    failsTopV.append(entry.failsTopV)\n",
    "    failsTopH.append(entry.failsTopH)\n",
    "    isSurface.append(entry.isSurface)\n",
    "\n",
    "    \n",
    "#     this_y_val.append(entry.this_y_val[0])\n",
    "    weight.append(entry.weight)\n",
    "    energy.append(entry.energy)\n",
    "#     peakTheta_300m.append(entry.peakTheta_300m[0]+90)\n",
    "#     peakPhi_300m.append(entry.peakPhi_300m[0])"
   ]
  },
  {
   "cell_type": "markdown",
   "metadata": {},
   "source": [
    "### Let's first bin up the energies"
   ]
  },
  {
   "cell_type": "code",
   "execution_count": 5,
   "metadata": {},
   "outputs": [
    {
     "data": {
      "text/html": [
       "<div>\n",
       "<style scoped>\n",
       "    .dataframe tbody tr th:only-of-type {\n",
       "        vertical-align: middle;\n",
       "    }\n",
       "\n",
       "    .dataframe tbody tr th {\n",
       "        vertical-align: top;\n",
       "    }\n",
       "\n",
       "    .dataframe thead th {\n",
       "        text-align: right;\n",
       "    }\n",
       "</style>\n",
       "<table border=\"1\" class=\"dataframe\">\n",
       "  <thead>\n",
       "    <tr style=\"text-align: right;\">\n",
       "      <th></th>\n",
       "      <th>energy</th>\n",
       "      <th>snr</th>\n",
       "      <th>corr</th>\n",
       "      <th>failsCutV</th>\n",
       "      <th>failsCutH</th>\n",
       "      <th>failsTopV</th>\n",
       "      <th>failsTopH</th>\n",
       "      <th>isSurface</th>\n",
       "      <th>failsCut</th>\n",
       "      <th>failsTopCut</th>\n",
       "      <th>passes</th>\n",
       "    </tr>\n",
       "  </thead>\n",
       "  <tbody>\n",
       "    <tr>\n",
       "      <th>0</th>\n",
       "      <td>5.724450e+17</td>\n",
       "      <td>5.266871</td>\n",
       "      <td>0.005361</td>\n",
       "      <td>1</td>\n",
       "      <td>1</td>\n",
       "      <td>1</td>\n",
       "      <td>1</td>\n",
       "      <td>1</td>\n",
       "      <td>True</td>\n",
       "      <td>True</td>\n",
       "      <td>False</td>\n",
       "    </tr>\n",
       "    <tr>\n",
       "      <th>1</th>\n",
       "      <td>7.536998e+16</td>\n",
       "      <td>5.756939</td>\n",
       "      <td>0.006587</td>\n",
       "      <td>1</td>\n",
       "      <td>1</td>\n",
       "      <td>0</td>\n",
       "      <td>0</td>\n",
       "      <td>0</td>\n",
       "      <td>True</td>\n",
       "      <td>False</td>\n",
       "      <td>False</td>\n",
       "    </tr>\n",
       "    <tr>\n",
       "      <th>2</th>\n",
       "      <td>1.427773e+18</td>\n",
       "      <td>8.434304</td>\n",
       "      <td>0.010894</td>\n",
       "      <td>0</td>\n",
       "      <td>1</td>\n",
       "      <td>0</td>\n",
       "      <td>1</td>\n",
       "      <td>1</td>\n",
       "      <td>False</td>\n",
       "      <td>True</td>\n",
       "      <td>False</td>\n",
       "    </tr>\n",
       "    <tr>\n",
       "      <th>3</th>\n",
       "      <td>1.754024e+18</td>\n",
       "      <td>10.980052</td>\n",
       "      <td>0.014154</td>\n",
       "      <td>0</td>\n",
       "      <td>1</td>\n",
       "      <td>0</td>\n",
       "      <td>0</td>\n",
       "      <td>1</td>\n",
       "      <td>False</td>\n",
       "      <td>False</td>\n",
       "      <td>False</td>\n",
       "    </tr>\n",
       "    <tr>\n",
       "      <th>4</th>\n",
       "      <td>2.848059e+18</td>\n",
       "      <td>40.007315</td>\n",
       "      <td>0.029302</td>\n",
       "      <td>0</td>\n",
       "      <td>0</td>\n",
       "      <td>0</td>\n",
       "      <td>0</td>\n",
       "      <td>0</td>\n",
       "      <td>False</td>\n",
       "      <td>False</td>\n",
       "      <td>True</td>\n",
       "    </tr>\n",
       "  </tbody>\n",
       "</table>\n",
       "</div>"
      ],
      "text/plain": [
       "         energy        snr      corr  failsCutV  failsCutH  failsTopV  \\\n",
       "0  5.724450e+17   5.266871  0.005361          1          1          1   \n",
       "1  7.536998e+16   5.756939  0.006587          1          1          0   \n",
       "2  1.427773e+18   8.434304  0.010894          0          1          0   \n",
       "3  1.754024e+18  10.980052  0.014154          0          1          0   \n",
       "4  2.848059e+18  40.007315  0.029302          0          0          0   \n",
       "\n",
       "   failsTopH  isSurface  failsCut  failsTopCut  passes  \n",
       "0          1          1      True         True   False  \n",
       "1          0          0      True        False   False  \n",
       "2          1          1     False         True   False  \n",
       "3          0          1     False        False   False  \n",
       "4          0          0     False        False    True  "
      ]
     },
     "execution_count": 5,
     "metadata": {},
     "output_type": "execute_result"
    }
   ],
   "source": [
    "d = {'energy':np.array(energy), 'snr':np.array(snr_val), 'corr':np.array(corr_val), \"failsCutV\":np.array(failsRcut_V), \"failsCutH\":np.array(failsRcut_H), \"failsTopV\":failsTopV, \"failsTopH\":np.array(failsTopH), \"isSurface\":np.array(isSurface)}\n",
    "cuts = pd.DataFrame(data=d)\n",
    "cuts[\"failsCut\"] = ((cuts.failsCutV==1) & (cuts.failsCutH==1))\n",
    "cuts[\"failsTopCut\"] = ((cuts.failsTopV==1) | (cuts.failsTopH==1))\n",
    "\n",
    "cuts[\"passes\"] = ((cuts.failsCut==False) & (cuts.failsTopCut==False) & (cuts.isSurface==False))\n",
    "# cuts.energy.value_counts()\n",
    "cuts.head()"
   ]
  },
  {
   "cell_type": "code",
   "execution_count": 6,
   "metadata": {},
   "outputs": [
    {
     "data": {
      "text/plain": [
       "array([3.16227766e+15, 3.16227766e+16, 3.16227766e+17, 3.16227766e+18,\n",
       "       3.16227766e+19, 3.16227766e+20])"
      ]
     },
     "execution_count": 6,
     "metadata": {},
     "output_type": "execute_result"
    }
   ],
   "source": [
    "forBins_half = np.logspace(15.5, 20.5, num=6)\n",
    "forBins_half"
   ]
  },
  {
   "cell_type": "code",
   "execution_count": 7,
   "metadata": {},
   "outputs": [
    {
     "data": {
      "text/plain": [
       "array([1.e+15, 1.e+16, 1.e+17, 1.e+18, 1.e+19, 1.e+20])"
      ]
     },
     "execution_count": 7,
     "metadata": {},
     "output_type": "execute_result"
    }
   ],
   "source": [
    "forBins = np.logspace(15, 20, num=6)\n",
    "forBins"
   ]
  },
  {
   "cell_type": "code",
   "execution_count": 8,
   "metadata": {},
   "outputs": [],
   "source": [
    "Ebins = np.concatenate([forBins_half,forBins])\n",
    "Ebins = np.sort(Ebins)"
   ]
  },
  {
   "cell_type": "code",
   "execution_count": 9,
   "metadata": {},
   "outputs": [],
   "source": [
    "cuts[\"binnedE\"] = pd.cut(cuts.energy, bins=Ebins, labels=Ebins[1:]).astype(float)"
   ]
  },
  {
   "cell_type": "code",
   "execution_count": 10,
   "metadata": {},
   "outputs": [
    {
     "data": {
      "text/html": [
       "<div>\n",
       "<style scoped>\n",
       "    .dataframe tbody tr th:only-of-type {\n",
       "        vertical-align: middle;\n",
       "    }\n",
       "\n",
       "    .dataframe tbody tr th {\n",
       "        vertical-align: top;\n",
       "    }\n",
       "\n",
       "    .dataframe thead th {\n",
       "        text-align: right;\n",
       "    }\n",
       "</style>\n",
       "<table border=\"1\" class=\"dataframe\">\n",
       "  <thead>\n",
       "    <tr style=\"text-align: right;\">\n",
       "      <th></th>\n",
       "      <th>energy</th>\n",
       "      <th>snr</th>\n",
       "      <th>corr</th>\n",
       "      <th>failsCutV</th>\n",
       "      <th>failsCutH</th>\n",
       "      <th>failsTopV</th>\n",
       "      <th>failsTopH</th>\n",
       "      <th>isSurface</th>\n",
       "      <th>failsCut</th>\n",
       "      <th>failsTopCut</th>\n",
       "      <th>passes</th>\n",
       "      <th>binnedE</th>\n",
       "    </tr>\n",
       "  </thead>\n",
       "  <tbody>\n",
       "    <tr>\n",
       "      <th>0</th>\n",
       "      <td>5.724450e+17</td>\n",
       "      <td>5.266871</td>\n",
       "      <td>0.005361</td>\n",
       "      <td>1</td>\n",
       "      <td>1</td>\n",
       "      <td>1</td>\n",
       "      <td>1</td>\n",
       "      <td>1</td>\n",
       "      <td>True</td>\n",
       "      <td>True</td>\n",
       "      <td>False</td>\n",
       "      <td>1.000000e+18</td>\n",
       "    </tr>\n",
       "    <tr>\n",
       "      <th>1</th>\n",
       "      <td>7.536998e+16</td>\n",
       "      <td>5.756939</td>\n",
       "      <td>0.006587</td>\n",
       "      <td>1</td>\n",
       "      <td>1</td>\n",
       "      <td>0</td>\n",
       "      <td>0</td>\n",
       "      <td>0</td>\n",
       "      <td>True</td>\n",
       "      <td>False</td>\n",
       "      <td>False</td>\n",
       "      <td>1.000000e+17</td>\n",
       "    </tr>\n",
       "    <tr>\n",
       "      <th>2</th>\n",
       "      <td>1.427773e+18</td>\n",
       "      <td>8.434304</td>\n",
       "      <td>0.010894</td>\n",
       "      <td>0</td>\n",
       "      <td>1</td>\n",
       "      <td>0</td>\n",
       "      <td>1</td>\n",
       "      <td>1</td>\n",
       "      <td>False</td>\n",
       "      <td>True</td>\n",
       "      <td>False</td>\n",
       "      <td>3.162278e+18</td>\n",
       "    </tr>\n",
       "    <tr>\n",
       "      <th>3</th>\n",
       "      <td>1.754024e+18</td>\n",
       "      <td>10.980052</td>\n",
       "      <td>0.014154</td>\n",
       "      <td>0</td>\n",
       "      <td>1</td>\n",
       "      <td>0</td>\n",
       "      <td>0</td>\n",
       "      <td>1</td>\n",
       "      <td>False</td>\n",
       "      <td>False</td>\n",
       "      <td>False</td>\n",
       "      <td>3.162278e+18</td>\n",
       "    </tr>\n",
       "    <tr>\n",
       "      <th>4</th>\n",
       "      <td>2.848059e+18</td>\n",
       "      <td>40.007315</td>\n",
       "      <td>0.029302</td>\n",
       "      <td>0</td>\n",
       "      <td>0</td>\n",
       "      <td>0</td>\n",
       "      <td>0</td>\n",
       "      <td>0</td>\n",
       "      <td>False</td>\n",
       "      <td>False</td>\n",
       "      <td>True</td>\n",
       "      <td>3.162278e+18</td>\n",
       "    </tr>\n",
       "  </tbody>\n",
       "</table>\n",
       "</div>"
      ],
      "text/plain": [
       "         energy        snr      corr  failsCutV  failsCutH  failsTopV  \\\n",
       "0  5.724450e+17   5.266871  0.005361          1          1          1   \n",
       "1  7.536998e+16   5.756939  0.006587          1          1          0   \n",
       "2  1.427773e+18   8.434304  0.010894          0          1          0   \n",
       "3  1.754024e+18  10.980052  0.014154          0          1          0   \n",
       "4  2.848059e+18  40.007315  0.029302          0          0          0   \n",
       "\n",
       "   failsTopH  isSurface  failsCut  failsTopCut  passes       binnedE  \n",
       "0          1          1      True         True   False  1.000000e+18  \n",
       "1          0          0      True        False   False  1.000000e+17  \n",
       "2          1          1     False         True   False  3.162278e+18  \n",
       "3          0          1     False        False   False  3.162278e+18  \n",
       "4          0          0     False        False    True  3.162278e+18  "
      ]
     },
     "execution_count": 10,
     "metadata": {},
     "output_type": "execute_result"
    }
   ],
   "source": [
    "cuts.head()"
   ]
  },
  {
   "cell_type": "markdown",
   "metadata": {},
   "source": [
    "### Can now bin up the SNRs"
   ]
  },
  {
   "cell_type": "code",
   "execution_count": 43,
   "metadata": {},
   "outputs": [],
   "source": [
    "SNR_bins = np.linspace(0,45,45)\n",
    "# SNR_bins\n",
    "cuts[\"binnedSNR\"] = pd.cut(cuts.snr, bins=SNR_bins, labels=SNR_bins[1:]).astype(float)"
   ]
  },
  {
   "cell_type": "code",
   "execution_count": 44,
   "metadata": {},
   "outputs": [
    {
     "data": {
      "text/html": [
       "<div>\n",
       "<style scoped>\n",
       "    .dataframe tbody tr th:only-of-type {\n",
       "        vertical-align: middle;\n",
       "    }\n",
       "\n",
       "    .dataframe tbody tr th {\n",
       "        vertical-align: top;\n",
       "    }\n",
       "\n",
       "    .dataframe thead th {\n",
       "        text-align: right;\n",
       "    }\n",
       "</style>\n",
       "<table border=\"1\" class=\"dataframe\">\n",
       "  <thead>\n",
       "    <tr style=\"text-align: right;\">\n",
       "      <th></th>\n",
       "      <th>energy</th>\n",
       "      <th>snr</th>\n",
       "      <th>corr</th>\n",
       "      <th>failsCutV</th>\n",
       "      <th>failsCutH</th>\n",
       "      <th>failsTopV</th>\n",
       "      <th>failsTopH</th>\n",
       "      <th>isSurface</th>\n",
       "      <th>failsCut</th>\n",
       "      <th>failsTopCut</th>\n",
       "      <th>passes</th>\n",
       "      <th>binnedE</th>\n",
       "      <th>binnedSNR</th>\n",
       "    </tr>\n",
       "  </thead>\n",
       "  <tbody>\n",
       "    <tr>\n",
       "      <th>0</th>\n",
       "      <td>5.724450e+17</td>\n",
       "      <td>5.266871</td>\n",
       "      <td>0.005361</td>\n",
       "      <td>1</td>\n",
       "      <td>1</td>\n",
       "      <td>1</td>\n",
       "      <td>1</td>\n",
       "      <td>1</td>\n",
       "      <td>True</td>\n",
       "      <td>True</td>\n",
       "      <td>False</td>\n",
       "      <td>1.000000e+18</td>\n",
       "      <td>6.136364</td>\n",
       "    </tr>\n",
       "    <tr>\n",
       "      <th>1</th>\n",
       "      <td>7.536998e+16</td>\n",
       "      <td>5.756939</td>\n",
       "      <td>0.006587</td>\n",
       "      <td>1</td>\n",
       "      <td>1</td>\n",
       "      <td>0</td>\n",
       "      <td>0</td>\n",
       "      <td>0</td>\n",
       "      <td>True</td>\n",
       "      <td>False</td>\n",
       "      <td>False</td>\n",
       "      <td>1.000000e+17</td>\n",
       "      <td>6.136364</td>\n",
       "    </tr>\n",
       "    <tr>\n",
       "      <th>2</th>\n",
       "      <td>1.427773e+18</td>\n",
       "      <td>8.434304</td>\n",
       "      <td>0.010894</td>\n",
       "      <td>0</td>\n",
       "      <td>1</td>\n",
       "      <td>0</td>\n",
       "      <td>1</td>\n",
       "      <td>1</td>\n",
       "      <td>False</td>\n",
       "      <td>True</td>\n",
       "      <td>False</td>\n",
       "      <td>3.162278e+18</td>\n",
       "      <td>9.204545</td>\n",
       "    </tr>\n",
       "    <tr>\n",
       "      <th>3</th>\n",
       "      <td>1.754024e+18</td>\n",
       "      <td>10.980052</td>\n",
       "      <td>0.014154</td>\n",
       "      <td>0</td>\n",
       "      <td>1</td>\n",
       "      <td>0</td>\n",
       "      <td>0</td>\n",
       "      <td>1</td>\n",
       "      <td>False</td>\n",
       "      <td>False</td>\n",
       "      <td>False</td>\n",
       "      <td>3.162278e+18</td>\n",
       "      <td>11.250000</td>\n",
       "    </tr>\n",
       "    <tr>\n",
       "      <th>4</th>\n",
       "      <td>2.848059e+18</td>\n",
       "      <td>40.007315</td>\n",
       "      <td>0.029302</td>\n",
       "      <td>0</td>\n",
       "      <td>0</td>\n",
       "      <td>0</td>\n",
       "      <td>0</td>\n",
       "      <td>0</td>\n",
       "      <td>False</td>\n",
       "      <td>False</td>\n",
       "      <td>True</td>\n",
       "      <td>3.162278e+18</td>\n",
       "      <td>40.909091</td>\n",
       "    </tr>\n",
       "  </tbody>\n",
       "</table>\n",
       "</div>"
      ],
      "text/plain": [
       "         energy        snr      corr  failsCutV  failsCutH  failsTopV  \\\n",
       "0  5.724450e+17   5.266871  0.005361          1          1          1   \n",
       "1  7.536998e+16   5.756939  0.006587          1          1          0   \n",
       "2  1.427773e+18   8.434304  0.010894          0          1          0   \n",
       "3  1.754024e+18  10.980052  0.014154          0          1          0   \n",
       "4  2.848059e+18  40.007315  0.029302          0          0          0   \n",
       "\n",
       "   failsTopH  isSurface  failsCut  failsTopCut  passes       binnedE  \\\n",
       "0          1          1      True         True   False  1.000000e+18   \n",
       "1          0          0      True        False   False  1.000000e+17   \n",
       "2          1          1     False         True   False  3.162278e+18   \n",
       "3          0          1     False        False   False  3.162278e+18   \n",
       "4          0          0     False        False    True  3.162278e+18   \n",
       "\n",
       "   binnedSNR  \n",
       "0   6.136364  \n",
       "1   6.136364  \n",
       "2   9.204545  \n",
       "3  11.250000  \n",
       "4  40.909091  "
      ]
     },
     "execution_count": 44,
     "metadata": {},
     "output_type": "execute_result"
    }
   ],
   "source": [
    "cuts.head()"
   ]
  },
  {
   "cell_type": "markdown",
   "metadata": {},
   "source": [
    "### Get the efficiencies per energy"
   ]
  },
  {
   "cell_type": "code",
   "execution_count": 45,
   "metadata": {},
   "outputs": [],
   "source": [
    "total_num = cuts.binnedE.value_counts(sort=False)\n",
    "total_num=total_num.sort_index()\n",
    "forEff = pd.DataFrame(data = total_num)\n",
    "forEff.index.name = 'Energy'\n",
    "# forEff.index"
   ]
  },
  {
   "cell_type": "code",
   "execution_count": 46,
   "metadata": {},
   "outputs": [
    {
     "data": {
      "text/plain": [
       "1.000000e+16       7\n",
       "3.162278e+16     186\n",
       "1.000000e+17     898\n",
       "3.162278e+17    2169\n",
       "1.000000e+18    3194\n",
       "3.162278e+18    3377\n",
       "1.000000e+19    2725\n",
       "3.162278e+19    1509\n",
       "1.000000e+20     653\n",
       "3.162278e+20     308\n",
       "Name: binnedE, dtype: int64"
      ]
     },
     "execution_count": 46,
     "metadata": {},
     "output_type": "execute_result"
    }
   ],
   "source": [
    "passesCuts = cuts.loc[cuts.passes == True].binnedE.value_counts()\n",
    "passesCuts = passesCuts.sort_index()\n",
    "forEff[\"passesCuts\"]=passesCuts\n",
    "passesCuts"
   ]
  },
  {
   "cell_type": "code",
   "execution_count": 47,
   "metadata": {
    "scrolled": true
   },
   "outputs": [
    {
     "data": {
      "text/html": [
       "<div>\n",
       "<style scoped>\n",
       "    .dataframe tbody tr th:only-of-type {\n",
       "        vertical-align: middle;\n",
       "    }\n",
       "\n",
       "    .dataframe tbody tr th {\n",
       "        vertical-align: top;\n",
       "    }\n",
       "\n",
       "    .dataframe thead th {\n",
       "        text-align: right;\n",
       "    }\n",
       "</style>\n",
       "<table border=\"1\" class=\"dataframe\">\n",
       "  <thead>\n",
       "    <tr style=\"text-align: right;\">\n",
       "      <th></th>\n",
       "      <th>binnedE</th>\n",
       "      <th>passesCuts</th>\n",
       "    </tr>\n",
       "    <tr>\n",
       "      <th>Energy</th>\n",
       "      <th></th>\n",
       "      <th></th>\n",
       "    </tr>\n",
       "  </thead>\n",
       "  <tbody>\n",
       "    <tr>\n",
       "      <th>3.162278e+15</th>\n",
       "      <td>103</td>\n",
       "      <td>0.0</td>\n",
       "    </tr>\n",
       "    <tr>\n",
       "      <th>1.000000e+16</th>\n",
       "      <td>278</td>\n",
       "      <td>7.0</td>\n",
       "    </tr>\n",
       "    <tr>\n",
       "      <th>3.162278e+16</th>\n",
       "      <td>1062</td>\n",
       "      <td>186.0</td>\n",
       "    </tr>\n",
       "    <tr>\n",
       "      <th>1.000000e+17</th>\n",
       "      <td>3450</td>\n",
       "      <td>898.0</td>\n",
       "    </tr>\n",
       "    <tr>\n",
       "      <th>3.162278e+17</th>\n",
       "      <td>6195</td>\n",
       "      <td>2169.0</td>\n",
       "    </tr>\n",
       "  </tbody>\n",
       "</table>\n",
       "</div>"
      ],
      "text/plain": [
       "              binnedE  passesCuts\n",
       "Energy                           \n",
       "3.162278e+15      103         0.0\n",
       "1.000000e+16      278         7.0\n",
       "3.162278e+16     1062       186.0\n",
       "1.000000e+17     3450       898.0\n",
       "3.162278e+17     6195      2169.0"
      ]
     },
     "execution_count": 47,
     "metadata": {},
     "output_type": "execute_result"
    }
   ],
   "source": [
    "forEff.passesCuts=forEff.passesCuts.fillna(0)\n",
    "forEff.head()"
   ]
  },
  {
   "cell_type": "markdown",
   "metadata": {},
   "source": [
    "### Energies are binned up, let's calculate the efficiency"
   ]
  },
  {
   "cell_type": "code",
   "execution_count": 107,
   "metadata": {},
   "outputs": [
    {
     "data": {
      "text/html": [
       "<div>\n",
       "<style scoped>\n",
       "    .dataframe tbody tr th:only-of-type {\n",
       "        vertical-align: middle;\n",
       "    }\n",
       "\n",
       "    .dataframe tbody tr th {\n",
       "        vertical-align: top;\n",
       "    }\n",
       "\n",
       "    .dataframe thead th {\n",
       "        text-align: right;\n",
       "    }\n",
       "</style>\n",
       "<table border=\"1\" class=\"dataframe\">\n",
       "  <thead>\n",
       "    <tr style=\"text-align: right;\">\n",
       "      <th></th>\n",
       "      <th>energy</th>\n",
       "      <th>eff</th>\n",
       "    </tr>\n",
       "  </thead>\n",
       "  <tbody>\n",
       "    <tr>\n",
       "      <th>0</th>\n",
       "      <td>11300000.0</td>\n",
       "      <td>0.0688</td>\n",
       "    </tr>\n",
       "    <tr>\n",
       "      <th>1</th>\n",
       "      <td>18200000.0</td>\n",
       "      <td>0.1100</td>\n",
       "    </tr>\n",
       "    <tr>\n",
       "      <th>2</th>\n",
       "      <td>28800000.0</td>\n",
       "      <td>0.1490</td>\n",
       "    </tr>\n",
       "    <tr>\n",
       "      <th>3</th>\n",
       "      <td>39600000.0</td>\n",
       "      <td>0.1820</td>\n",
       "    </tr>\n",
       "    <tr>\n",
       "      <th>4</th>\n",
       "      <td>60900000.0</td>\n",
       "      <td>0.2090</td>\n",
       "    </tr>\n",
       "  </tbody>\n",
       "</table>\n",
       "</div>"
      ],
      "text/plain": [
       "       energy     eff\n",
       "0  11300000.0  0.0688\n",
       "1  18200000.0  0.1100\n",
       "2  28800000.0  0.1490\n",
       "3  39600000.0  0.1820\n",
       "4  60900000.0  0.2090"
      ]
     },
     "execution_count": 107,
     "metadata": {},
     "output_type": "execute_result"
    }
   ],
   "source": [
    "diffuseEff = pd.read_csv(\"./data/diffuse_eff.txt\")\n",
    "diffuseEff_OSU = pd.read_csv(\"./data/diffuse_eff_OSU.txt\")\n",
    "diffuseEff.head()"
   ]
  },
  {
   "cell_type": "code",
   "execution_count": 114,
   "metadata": {},
   "outputs": [
    {
     "data": {
      "image/png": "[encoded data removed]",
      "text/plain": [
       "<Figure size 432x288 with 1 Axes>"
      ]
     },
     "metadata": {},
     "output_type": "display_data"
    }
   ],
   "source": [
    "plt.plot(forEff.index/1E9, 100*forEff.passesCuts/forEff.binnedE,linewidth = 3, label = \"Cen A source search\")\n",
    "plt.plot(np.power(10,diffuseEff_OSU.E)/1E9, 100*diffuseEff_OSU[\"a2_eff\"],\"--\", linewidth = 3, label = \"Diffuse search (A2, OSU)\")\n",
    "\n",
    "plt.xscale('log')\n",
    "plt.xlabel(\"Neutrino energy [GeV]\", fontsize=12)\n",
    "plt.ylabel(\"Efficiency [%]\", fontsize=12)\n",
    "plt.title(\"Analysis efficiency\")\n",
    "plt.xlim(1E6,1E12)\n",
    "plt.ylim(0,100)\n",
    "\n",
    "plt.grid()\n",
    "plt.legend()\n",
    "plt.tight_layout()\n",
    "plt.savefig(\"./plots/CenA_search_efficiency_OSU.png\", dpi=200) "
   ]
  },
  {
   "cell_type": "markdown",
   "metadata": {},
   "source": [
    "### Efficiencies as a function of SNR"
   ]
  },
  {
   "cell_type": "code",
   "execution_count": 50,
   "metadata": {},
   "outputs": [
    {
     "data": {
      "text/html": [
       "<div>\n",
       "<style scoped>\n",
       "    .dataframe tbody tr th:only-of-type {\n",
       "        vertical-align: middle;\n",
       "    }\n",
       "\n",
       "    .dataframe tbody tr th {\n",
       "        vertical-align: top;\n",
       "    }\n",
       "\n",
       "    .dataframe thead th {\n",
       "        text-align: right;\n",
       "    }\n",
       "</style>\n",
       "<table border=\"1\" class=\"dataframe\">\n",
       "  <thead>\n",
       "    <tr style=\"text-align: right;\">\n",
       "      <th></th>\n",
       "      <th>binnedSNR</th>\n",
       "    </tr>\n",
       "    <tr>\n",
       "      <th>SNR</th>\n",
       "      <th></th>\n",
       "    </tr>\n",
       "  </thead>\n",
       "  <tbody>\n",
       "    <tr>\n",
       "      <th>3.068182</th>\n",
       "      <td>2</td>\n",
       "    </tr>\n",
       "    <tr>\n",
       "      <th>4.090909</th>\n",
       "      <td>1727</td>\n",
       "    </tr>\n",
       "    <tr>\n",
       "      <th>5.113636</th>\n",
       "      <td>5826</td>\n",
       "    </tr>\n",
       "    <tr>\n",
       "      <th>6.136364</th>\n",
       "      <td>3811</td>\n",
       "    </tr>\n",
       "    <tr>\n",
       "      <th>7.159091</th>\n",
       "      <td>2511</td>\n",
       "    </tr>\n",
       "  </tbody>\n",
       "</table>\n",
       "</div>"
      ],
      "text/plain": [
       "          binnedSNR\n",
       "SNR                \n",
       "3.068182          2\n",
       "4.090909       1727\n",
       "5.113636       5826\n",
       "6.136364       3811\n",
       "7.159091       2511"
      ]
     },
     "execution_count": 50,
     "metadata": {},
     "output_type": "execute_result"
    }
   ],
   "source": [
    "total_num = cuts.binnedSNR.value_counts(sort=False)\n",
    "total_num=total_num.sort_index()\n",
    "forEff_SNR = pd.DataFrame(data = total_num)\n",
    "forEff_SNR.index.name = 'SNR'\n",
    "forEff_SNR.head()"
   ]
  },
  {
   "cell_type": "code",
   "execution_count": 51,
   "metadata": {},
   "outputs": [
    {
     "data": {
      "text/html": [
       "<div>\n",
       "<style scoped>\n",
       "    .dataframe tbody tr th:only-of-type {\n",
       "        vertical-align: middle;\n",
       "    }\n",
       "\n",
       "    .dataframe tbody tr th {\n",
       "        vertical-align: top;\n",
       "    }\n",
       "\n",
       "    .dataframe thead th {\n",
       "        text-align: right;\n",
       "    }\n",
       "</style>\n",
       "<table border=\"1\" class=\"dataframe\">\n",
       "  <thead>\n",
       "    <tr style=\"text-align: right;\">\n",
       "      <th></th>\n",
       "      <th>binnedSNR</th>\n",
       "      <th>passesCuts_SNR</th>\n",
       "    </tr>\n",
       "    <tr>\n",
       "      <th>SNR</th>\n",
       "      <th></th>\n",
       "      <th></th>\n",
       "    </tr>\n",
       "  </thead>\n",
       "  <tbody>\n",
       "    <tr>\n",
       "      <th>3.068182</th>\n",
       "      <td>2</td>\n",
       "      <td>0.0</td>\n",
       "    </tr>\n",
       "    <tr>\n",
       "      <th>4.090909</th>\n",
       "      <td>1727</td>\n",
       "      <td>7.0</td>\n",
       "    </tr>\n",
       "    <tr>\n",
       "      <th>5.113636</th>\n",
       "      <td>5826</td>\n",
       "      <td>69.0</td>\n",
       "    </tr>\n",
       "    <tr>\n",
       "      <th>6.136364</th>\n",
       "      <td>3811</td>\n",
       "      <td>526.0</td>\n",
       "    </tr>\n",
       "    <tr>\n",
       "      <th>7.159091</th>\n",
       "      <td>2511</td>\n",
       "      <td>1160.0</td>\n",
       "    </tr>\n",
       "  </tbody>\n",
       "</table>\n",
       "</div>"
      ],
      "text/plain": [
       "          binnedSNR  passesCuts_SNR\n",
       "SNR                                \n",
       "3.068182          2             0.0\n",
       "4.090909       1727             7.0\n",
       "5.113636       5826            69.0\n",
       "6.136364       3811           526.0\n",
       "7.159091       2511          1160.0"
      ]
     },
     "execution_count": 51,
     "metadata": {},
     "output_type": "execute_result"
    }
   ],
   "source": [
    "passesCuts_SNR = cuts.loc[cuts.passes == True].binnedSNR.value_counts()\n",
    "passesCuts_SNR = passesCuts_SNR.sort_index()\n",
    "forEff_SNR[\"passesCuts_SNR\"]=passesCuts_SNR\n",
    "forEff_SNR.passesCuts_SNR=forEff_SNR.passesCuts_SNR.fillna(0)\n",
    "forEff_SNR.head()"
   ]
  },
  {
   "cell_type": "code",
   "execution_count": 69,
   "metadata": {},
   "outputs": [
    {
     "data": {
      "text/html": [
       "<div>\n",
       "<style scoped>\n",
       "    .dataframe tbody tr th:only-of-type {\n",
       "        vertical-align: middle;\n",
       "    }\n",
       "\n",
       "    .dataframe tbody tr th {\n",
       "        vertical-align: top;\n",
       "    }\n",
       "\n",
       "    .dataframe thead th {\n",
       "        text-align: right;\n",
       "    }\n",
       "</style>\n",
       "<table border=\"1\" class=\"dataframe\">\n",
       "  <thead>\n",
       "    <tr style=\"text-align: right;\">\n",
       "      <th></th>\n",
       "      <th>snr</th>\n",
       "      <th>a2_eff</th>\n",
       "      <th>a2_err</th>\n",
       "      <th>a3_eff</th>\n",
       "      <th>a3_err</th>\n",
       "    </tr>\n",
       "  </thead>\n",
       "  <tbody>\n",
       "    <tr>\n",
       "      <th>0</th>\n",
       "      <td>4.0</td>\n",
       "      <td>0.0004</td>\n",
       "      <td>0.0001</td>\n",
       "      <td>0.0006</td>\n",
       "      <td>0.0002</td>\n",
       "    </tr>\n",
       "    <tr>\n",
       "      <th>1</th>\n",
       "      <td>5.0</td>\n",
       "      <td>0.0112</td>\n",
       "      <td>0.0009</td>\n",
       "      <td>0.0068</td>\n",
       "      <td>0.0006</td>\n",
       "    </tr>\n",
       "    <tr>\n",
       "      <th>2</th>\n",
       "      <td>6.0</td>\n",
       "      <td>0.0939</td>\n",
       "      <td>0.0033</td>\n",
       "      <td>0.0944</td>\n",
       "      <td>0.0031</td>\n",
       "    </tr>\n",
       "    <tr>\n",
       "      <th>3</th>\n",
       "      <td>7.0</td>\n",
       "      <td>0.2905</td>\n",
       "      <td>0.0073</td>\n",
       "      <td>0.2884</td>\n",
       "      <td>0.0069</td>\n",
       "    </tr>\n",
       "    <tr>\n",
       "      <th>4</th>\n",
       "      <td>8.0</td>\n",
       "      <td>0.4719</td>\n",
       "      <td>0.0114</td>\n",
       "      <td>0.3603</td>\n",
       "      <td>0.0145</td>\n",
       "    </tr>\n",
       "    <tr>\n",
       "      <th>5</th>\n",
       "      <td>9.0</td>\n",
       "      <td>0.5854</td>\n",
       "      <td>0.0146</td>\n",
       "      <td>0.5275</td>\n",
       "      <td>0.0131</td>\n",
       "    </tr>\n",
       "    <tr>\n",
       "      <th>6</th>\n",
       "      <td>10.0</td>\n",
       "      <td>0.6367</td>\n",
       "      <td>0.0170</td>\n",
       "      <td>0.5693</td>\n",
       "      <td>0.0151</td>\n",
       "    </tr>\n",
       "    <tr>\n",
       "      <th>7</th>\n",
       "      <td>11.0</td>\n",
       "      <td>0.6633</td>\n",
       "      <td>0.0185</td>\n",
       "      <td>0.6065</td>\n",
       "      <td>0.0170</td>\n",
       "    </tr>\n",
       "    <tr>\n",
       "      <th>8</th>\n",
       "      <td>12.0</td>\n",
       "      <td>0.6890</td>\n",
       "      <td>0.0206</td>\n",
       "      <td>0.6143</td>\n",
       "      <td>0.0184</td>\n",
       "    </tr>\n",
       "    <tr>\n",
       "      <th>9</th>\n",
       "      <td>13.0</td>\n",
       "      <td>0.6929</td>\n",
       "      <td>0.0218</td>\n",
       "      <td>0.6053</td>\n",
       "      <td>0.0191</td>\n",
       "    </tr>\n",
       "    <tr>\n",
       "      <th>10</th>\n",
       "      <td>14.0</td>\n",
       "      <td>0.7138</td>\n",
       "      <td>0.0241</td>\n",
       "      <td>0.6229</td>\n",
       "      <td>0.0210</td>\n",
       "    </tr>\n",
       "    <tr>\n",
       "      <th>11</th>\n",
       "      <td>15.0</td>\n",
       "      <td>0.7054</td>\n",
       "      <td>0.0251</td>\n",
       "      <td>0.6159</td>\n",
       "      <td>0.0221</td>\n",
       "    </tr>\n",
       "    <tr>\n",
       "      <th>12</th>\n",
       "      <td>16.0</td>\n",
       "      <td>0.7113</td>\n",
       "      <td>0.0256</td>\n",
       "      <td>0.6123</td>\n",
       "      <td>0.0225</td>\n",
       "    </tr>\n",
       "    <tr>\n",
       "      <th>13</th>\n",
       "      <td>17.0</td>\n",
       "      <td>0.6954</td>\n",
       "      <td>0.0268</td>\n",
       "      <td>0.6250</td>\n",
       "      <td>0.0245</td>\n",
       "    </tr>\n",
       "    <tr>\n",
       "      <th>14</th>\n",
       "      <td>18.0</td>\n",
       "      <td>0.6963</td>\n",
       "      <td>0.0290</td>\n",
       "      <td>0.6128</td>\n",
       "      <td>0.0258</td>\n",
       "    </tr>\n",
       "    <tr>\n",
       "      <th>15</th>\n",
       "      <td>19.0</td>\n",
       "      <td>0.7119</td>\n",
       "      <td>0.0298</td>\n",
       "      <td>0.6155</td>\n",
       "      <td>0.0263</td>\n",
       "    </tr>\n",
       "    <tr>\n",
       "      <th>16</th>\n",
       "      <td>20.0</td>\n",
       "      <td>0.7277</td>\n",
       "      <td>0.0323</td>\n",
       "      <td>0.6240</td>\n",
       "      <td>0.0285</td>\n",
       "    </tr>\n",
       "    <tr>\n",
       "      <th>17</th>\n",
       "      <td>21.0</td>\n",
       "      <td>0.7309</td>\n",
       "      <td>0.0334</td>\n",
       "      <td>0.6204</td>\n",
       "      <td>0.0289</td>\n",
       "    </tr>\n",
       "    <tr>\n",
       "      <th>18</th>\n",
       "      <td>22.0</td>\n",
       "      <td>0.7256</td>\n",
       "      <td>0.0338</td>\n",
       "      <td>0.6322</td>\n",
       "      <td>0.0295</td>\n",
       "    </tr>\n",
       "    <tr>\n",
       "      <th>19</th>\n",
       "      <td>23.0</td>\n",
       "      <td>0.7286</td>\n",
       "      <td>0.0348</td>\n",
       "      <td>0.6498</td>\n",
       "      <td>0.0313</td>\n",
       "    </tr>\n",
       "    <tr>\n",
       "      <th>20</th>\n",
       "      <td>24.0</td>\n",
       "      <td>0.7673</td>\n",
       "      <td>0.0057</td>\n",
       "      <td>0.6689</td>\n",
       "      <td>0.0056</td>\n",
       "    </tr>\n",
       "  </tbody>\n",
       "</table>\n",
       "</div>"
      ],
      "text/plain": [
       "     snr  a2_eff  a2_err  a3_eff  a3_err\n",
       "0    4.0  0.0004  0.0001  0.0006  0.0002\n",
       "1    5.0  0.0112  0.0009  0.0068  0.0006\n",
       "2    6.0  0.0939  0.0033  0.0944  0.0031\n",
       "3    7.0  0.2905  0.0073  0.2884  0.0069\n",
       "4    8.0  0.4719  0.0114  0.3603  0.0145\n",
       "5    9.0  0.5854  0.0146  0.5275  0.0131\n",
       "6   10.0  0.6367  0.0170  0.5693  0.0151\n",
       "7   11.0  0.6633  0.0185  0.6065  0.0170\n",
       "8   12.0  0.6890  0.0206  0.6143  0.0184\n",
       "9   13.0  0.6929  0.0218  0.6053  0.0191\n",
       "10  14.0  0.7138  0.0241  0.6229  0.0210\n",
       "11  15.0  0.7054  0.0251  0.6159  0.0221\n",
       "12  16.0  0.7113  0.0256  0.6123  0.0225\n",
       "13  17.0  0.6954  0.0268  0.6250  0.0245\n",
       "14  18.0  0.6963  0.0290  0.6128  0.0258\n",
       "15  19.0  0.7119  0.0298  0.6155  0.0263\n",
       "16  20.0  0.7277  0.0323  0.6240  0.0285\n",
       "17  21.0  0.7309  0.0334  0.6204  0.0289\n",
       "18  22.0  0.7256  0.0338  0.6322  0.0295\n",
       "19  23.0  0.7286  0.0348  0.6498  0.0313\n",
       "20  24.0  0.7673  0.0057  0.6689  0.0056"
      ]
     },
     "execution_count": 69,
     "metadata": {},
     "output_type": "execute_result"
    }
   ],
   "source": [
    "diffuse_EffSNR = pd.read_csv(\"./data/Eff_vs_SNR.txt\")\n",
    "diffuse_EffSNR_Brian = pd.read_csv(\"./data/Eff_vs_SNR_Brian.txt\")\n",
    "\n",
    "diffuse_EffSNR.head()"
   ]
  },
  {
   "cell_type": "code",
   "execution_count": 158,
   "metadata": {
    "scrolled": false
   },
   "outputs": [
    {
     "data": {
      "image/png": "[encoded data removed]",
      "text/plain": [
       "<Figure size 432x288 with 1 Axes>"
      ]
     },
     "metadata": {},
     "output_type": "display_data"
    }
   ],
   "source": [
    "plt.plot(forEff_SNR.index, 100*forEff_SNR.passesCuts_SNR/forEff_SNR.binnedSNR, linewidth = 3, label = \"Cen A source search\")\n",
    "# plt.plot(diffuse_EffSNR.snr, 100*diffuse_EffSNR[\"eff\"], label = \"Diffuse search (A2, MYL)\")\n",
    "plt.scatter(7.159091, 46.196734, s=100, marker = \"*\",color = \"C2\", label=r'50% point, SNR$\\approx 7.16$')\n",
    "plt.plot(diffuse_EffSNR_Brian.snr, 100*diffuse_EffSNR_Brian[\"a2_eff\"],\"--\", linewidth = 3, label = \"Diffuse search (A2, OSU)\")\n",
    "plt.scatter(8.0,100*0.4719, s=70, color=\"C3\",marker = \"o\", label=r'50% point, SNR$\\approx 8.0$')\n",
    "\n",
    "# plt.xscale('log')\n",
    "plt.xlabel(\"SNR\", fontsize=12)\n",
    "plt.ylabel(\"Efficiency [%]\", fontsize=12)\n",
    "plt.title(\"Signal efficiency vs. SNR\", fontsize=14)\n",
    "plt.grid()\n",
    "plt.xlim(0,25)\n",
    "plt.ylim(0,100)\n",
    "\n",
    "plt.legend()\n",
    "plt.tight_layout()\n",
    "plt.savefig(\"./plots/CenA_search_SNRefficiency.png\", dpi=200)"
   ]
  },
  {
   "cell_type": "markdown",
   "metadata": {},
   "source": [
    "#### 50% point change"
   ]
  },
  {
   "cell_type": "code",
   "execution_count": 80,
   "metadata": {},
   "outputs": [
    {
     "data": {
      "text/html": [
       "<div>\n",
       "<style scoped>\n",
       "    .dataframe tbody tr th:only-of-type {\n",
       "        vertical-align: middle;\n",
       "    }\n",
       "\n",
       "    .dataframe tbody tr th {\n",
       "        vertical-align: top;\n",
       "    }\n",
       "\n",
       "    .dataframe thead th {\n",
       "        text-align: right;\n",
       "    }\n",
       "</style>\n",
       "<table border=\"1\" class=\"dataframe\">\n",
       "  <thead>\n",
       "    <tr style=\"text-align: right;\">\n",
       "      <th></th>\n",
       "      <th>snr</th>\n",
       "      <th>a2_eff</th>\n",
       "      <th>a2_err</th>\n",
       "      <th>a3_eff</th>\n",
       "      <th>a3_err</th>\n",
       "    </tr>\n",
       "  </thead>\n",
       "  <tbody>\n",
       "    <tr>\n",
       "      <th>4</th>\n",
       "      <td>8.0</td>\n",
       "      <td>0.4719</td>\n",
       "      <td>0.0114</td>\n",
       "      <td>0.3603</td>\n",
       "      <td>0.0145</td>\n",
       "    </tr>\n",
       "  </tbody>\n",
       "</table>\n",
       "</div>"
      ],
      "text/plain": [
       "   snr  a2_eff  a2_err  a3_eff  a3_err\n",
       "4  8.0  0.4719  0.0114  0.3603  0.0145"
      ]
     },
     "execution_count": 80,
     "metadata": {},
     "output_type": "execute_result"
    }
   ],
   "source": [
    "diffuse_EffSNR_Brian.loc[diffuse_EffSNR_Brian.index==4]"
   ]
  },
  {
   "cell_type": "code",
   "execution_count": 102,
   "metadata": {},
   "outputs": [
    {
     "data": {
      "text/html": [
       "<div>\n",
       "<style scoped>\n",
       "    .dataframe tbody tr th:only-of-type {\n",
       "        vertical-align: middle;\n",
       "    }\n",
       "\n",
       "    .dataframe tbody tr th {\n",
       "        vertical-align: top;\n",
       "    }\n",
       "\n",
       "    .dataframe thead th {\n",
       "        text-align: right;\n",
       "    }\n",
       "</style>\n",
       "<table border=\"1\" class=\"dataframe\">\n",
       "  <thead>\n",
       "    <tr style=\"text-align: right;\">\n",
       "      <th></th>\n",
       "      <th>binnedSNR</th>\n",
       "      <th>passesCuts_SNR</th>\n",
       "      <th>eff</th>\n",
       "    </tr>\n",
       "    <tr>\n",
       "      <th>SNR</th>\n",
       "      <th></th>\n",
       "      <th></th>\n",
       "      <th></th>\n",
       "    </tr>\n",
       "  </thead>\n",
       "  <tbody>\n",
       "    <tr>\n",
       "      <th>3.068182</th>\n",
       "      <td>2</td>\n",
       "      <td>0.0</td>\n",
       "      <td>0.000000</td>\n",
       "    </tr>\n",
       "    <tr>\n",
       "      <th>4.090909</th>\n",
       "      <td>1727</td>\n",
       "      <td>7.0</td>\n",
       "      <td>0.405327</td>\n",
       "    </tr>\n",
       "    <tr>\n",
       "      <th>5.113636</th>\n",
       "      <td>5826</td>\n",
       "      <td>69.0</td>\n",
       "      <td>1.184346</td>\n",
       "    </tr>\n",
       "    <tr>\n",
       "      <th>6.136364</th>\n",
       "      <td>3811</td>\n",
       "      <td>526.0</td>\n",
       "      <td>13.802152</td>\n",
       "    </tr>\n",
       "    <tr>\n",
       "      <th>7.159091</th>\n",
       "      <td>2511</td>\n",
       "      <td>1160.0</td>\n",
       "      <td>46.196734</td>\n",
       "    </tr>\n",
       "  </tbody>\n",
       "</table>\n",
       "</div>"
      ],
      "text/plain": [
       "          binnedSNR  passesCuts_SNR        eff\n",
       "SNR                                           \n",
       "3.068182          2             0.0   0.000000\n",
       "4.090909       1727             7.0   0.405327\n",
       "5.113636       5826            69.0   1.184346\n",
       "6.136364       3811           526.0  13.802152\n",
       "7.159091       2511          1160.0  46.196734"
      ]
     },
     "execution_count": 102,
     "metadata": {},
     "output_type": "execute_result"
    }
   ],
   "source": [
    "forEff_SNR[\"eff\"] = 100*forEff_SNR.passesCuts_SNR/forEff_SNR.binnedSNR\n",
    "forEff_SNR.loc[forEff_SNR.eff < 50]\n",
    "# forEff_SNR"
   ]
  },
  {
   "cell_type": "markdown",
   "metadata": {},
   "source": [
    "#### Put cut line in the SNR vs $C_{sky}$ plot"
   ]
  },
  {
   "cell_type": "code",
   "execution_count": 6,
   "metadata": {},
   "outputs": [],
   "source": [
    "m = -2080\n",
    "y = np.linspace(0,1,50);\n",
    "interc = 20.6-0.54\n",
    "interc2 = 20.6\n",
    "\n",
    "x = m*y+interc\n",
    "x2 = m*y+interc2"
   ]
  },
  {
   "cell_type": "code",
   "execution_count": 7,
   "metadata": {},
   "outputs": [
    {
     "ename": "NameError",
     "evalue": "name 'cuts' is not defined",
     "output_type": "error",
     "traceback": [
      "\u001b[0;31m---------------------------------------------------------------------------\u001b[0m",
      "\u001b[0;31mNameError\u001b[0m                                 Traceback (most recent call last)",
      "\u001b[0;32m<ipython-input-7-144a4ad17037>\u001b[0m in \u001b[0;36m<module>\u001b[0;34m()\u001b[0m\n\u001b[1;32m      1\u001b[0m \u001b[0;31m# sns.catplot(x=\"snr\", y=\"corr\", data=df2, hue='failsRcut');\u001b[0m\u001b[0;34m\u001b[0m\u001b[0;34m\u001b[0m\u001b[0m\n\u001b[0;32m----> 2\u001b[0;31m \u001b[0msns\u001b[0m\u001b[0;34m.\u001b[0m\u001b[0mlmplot\u001b[0m\u001b[0;34m(\u001b[0m \u001b[0mx\u001b[0m\u001b[0;34m=\u001b[0m\u001b[0;34m\"snr\"\u001b[0m\u001b[0;34m,\u001b[0m \u001b[0my\u001b[0m\u001b[0;34m=\u001b[0m\u001b[0;34m\"corr\"\u001b[0m\u001b[0;34m,\u001b[0m \u001b[0mdata\u001b[0m\u001b[0;34m=\u001b[0m\u001b[0mcuts\u001b[0m\u001b[0;34m,\u001b[0m \u001b[0mfit_reg\u001b[0m\u001b[0;34m=\u001b[0m\u001b[0;32mFalse\u001b[0m\u001b[0;34m,\u001b[0m \u001b[0mhue\u001b[0m\u001b[0;34m=\u001b[0m\u001b[0;34m'failsCut'\u001b[0m\u001b[0;34m,\u001b[0m \u001b[0mlegend\u001b[0m\u001b[0;34m=\u001b[0m\u001b[0;32mTrue\u001b[0m\u001b[0;34m,\u001b[0m \u001b[0mpalette\u001b[0m\u001b[0;34m=\u001b[0m\u001b[0;34m\"Set1\"\u001b[0m\u001b[0;34m,\u001b[0m \u001b[0mlegend_out\u001b[0m\u001b[0;34m=\u001b[0m\u001b[0;32mFalse\u001b[0m\u001b[0;34m,\u001b[0m \u001b[0mscatter_kws\u001b[0m\u001b[0;34m=\u001b[0m\u001b[0;34m{\u001b[0m\u001b[0;34m\"s\"\u001b[0m\u001b[0;34m:\u001b[0m \u001b[0;36m1\u001b[0m\u001b[0;34m}\u001b[0m\u001b[0;34m)\u001b[0m\u001b[0;34m\u001b[0m\u001b[0m\n\u001b[0m\u001b[1;32m      3\u001b[0m \u001b[0mplt\u001b[0m\u001b[0;34m.\u001b[0m\u001b[0mplot\u001b[0m\u001b[0;34m(\u001b[0m\u001b[0mx\u001b[0m\u001b[0;34m,\u001b[0m\u001b[0my\u001b[0m\u001b[0;34m,\u001b[0m \u001b[0mcolor\u001b[0m\u001b[0;34m=\u001b[0m\u001b[0;34m\"C2\"\u001b[0m\u001b[0;34m,\u001b[0m \u001b[0mlabel\u001b[0m \u001b[0;34m=\u001b[0m \u001b[0;34m\"Cen A cut\"\u001b[0m\u001b[0;34m)\u001b[0m\u001b[0;34m\u001b[0m\u001b[0m\n\u001b[1;32m      4\u001b[0m \u001b[0mplt\u001b[0m\u001b[0;34m.\u001b[0m\u001b[0mplot\u001b[0m\u001b[0;34m(\u001b[0m\u001b[0mx2\u001b[0m\u001b[0;34m,\u001b[0m\u001b[0my\u001b[0m\u001b[0;34m,\u001b[0m \u001b[0mcolor\u001b[0m\u001b[0;34m=\u001b[0m\u001b[0;34m\"C1\"\u001b[0m\u001b[0;34m,\u001b[0m \u001b[0mlabel\u001b[0m \u001b[0;34m=\u001b[0m \u001b[0;34m\"Diffuse cut\"\u001b[0m\u001b[0;34m)\u001b[0m\u001b[0;34m\u001b[0m\u001b[0m\n\u001b[1;32m      5\u001b[0m \u001b[0;34m\u001b[0m\u001b[0m\n",
      "\u001b[0;31mNameError\u001b[0m: name 'cuts' is not defined"
     ]
    }
   ],
   "source": [
    "# sns.catplot(x=\"snr\", y=\"corr\", data=df2, hue='failsRcut');\n",
    "sns.lmplot( x=\"snr\", y=\"corr\", data=cuts, fit_reg=False, hue='failsCut', legend=True, palette=\"Set1\", legend_out=False, scatter_kws={\"s\": 1})\n",
    "plt.plot(x,y, color=\"C2\", label = \"Cen A cut\")\n",
    "plt.plot(x2,y, color=\"C1\", label = \"Diffuse cut\")\n",
    "\n",
    "\n",
    "plt.xlabel(\"SNR\", fontsize=14)\n",
    "plt.ylabel(\"$C_{sky}$\", fontsize=14)\n",
    "# plt.xscale('log')\n",
    "# plt.xscale('log')\n",
    "\n",
    "plt.xlim(0,40)\n",
    "plt.ylim(1e-4,0.04)\n",
    "plt.grid()\n",
    "plt.grid(which='minor', axis='both')\n",
    "plt.title(\"Simulated neutrinos from Cen A\", fontsize=16)\n",
    "plt.legend()\n",
    "plt.tight_layout()\n",
    "# plt.savefig(\"./plots/SNRvsCsky_CenA.png\", dpi=200)\n"
   ]
  },
  {
   "cell_type": "code",
   "execution_count": 13,
   "metadata": {
    "scrolled": true
   },
   "outputs": [
    {
     "data": {
      "image/png": "[encoded data removed]",
      "text/plain": [
       "<Figure size 504x288 with 2 Axes>"
      ]
     },
     "metadata": {},
     "output_type": "display_data"
    }
   ],
   "source": [
    "plt.figure(figsize=(7,4))\n",
    "plt.hist2d(snr_val,corr_val, bins=120, weights=weight,norm=LogNorm());\n",
    "\n",
    "# plt.hist2d(snr_val,corr_val, bins=420, weights=weight,norm=LogNorm());\n",
    "\n",
    "plt.colorbar(label=\"Weighted event\" )\n",
    "plt.xlabel(\"SNR\", fontsize=14)\n",
    "plt.ylabel(\"$C_{sky}$\", fontsize=14)\n",
    "# plt.xscale('log')\n",
    "# plt.xscale('log')\n",
    "plt.plot(x,y, color=\"C0\", label = \"Cen A cut\")\n",
    "plt.plot(x2,y, color=\"C3\", label = \"Diffuse cut\")\n",
    "\n",
    "plt.xlim(0,10)\n",
    "plt.ylim(1e-4,0.02)\n",
    "plt.grid()\n",
    "plt.grid(which='minor', axis='both')\n",
    "plt.legend()\n",
    "plt.title(\"Simulated neutrinos from Cen A\", fontsize=16)\n",
    "plt.tight_layout()\n",
    "plt.savefig(\"./plots/SNRvsCsky_CenADiffuse_zoom.png\", dpi=200)"
   ]
  },
  {
   "cell_type": "markdown",
   "metadata": {},
   "source": [
    "## Comments"
   ]
  },
  {
   "cell_type": "code",
   "execution_count": 170,
   "metadata": {},
   "outputs": [
    {
     "data": {
      "text/plain": [
       "-0.538745207042544"
      ]
     },
     "execution_count": 170,
     "metadata": {},
     "output_type": "execute_result"
    }
   ],
   "source": [
    "a=(29.03)/(360*2)\n",
    "-np.log(a)/-5.96"
   ]
  },
  {
   "cell_type": "code",
   "execution_count": null,
   "metadata": {},
   "outputs": [],
   "source": []
  }
 ],
 "metadata": {
  "kernelspec": {
   "display_name": "Python 3.6 (Conda 5.2) [python/3.6-conda5.2]",
   "language": "python",
   "name": "sys_python36conda"
  },
  "language_info": {
   "codemirror_mode": {
    "name": "ipython",
    "version": 3
   },
   "file_extension": ".py",
   "mimetype": "text/x-python",
   "name": "python",
   "nbconvert_exporter": "python",
   "pygments_lexer": "ipython3",
   "version": "3.6.6"
  }
 },
 "nbformat": 4,
 "nbformat_minor": 2
}
