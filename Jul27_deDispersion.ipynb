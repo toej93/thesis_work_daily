{
 "cells": [
  {
   "cell_type": "markdown",
   "metadata": {},
   "source": [
    "# Title"
   ]
  },
  {
   "cell_type": "markdown",
   "metadata": {},
   "source": [
    "### Date"
   ]
  },
  {
   "cell_type": "markdown",
   "metadata": {},
   "source": [
    "## Code"
   ]
  },
  {
   "cell_type": "code",
   "execution_count": 1,
   "metadata": {},
   "outputs": [
    {
     "name": "stdout",
     "output_type": "stream",
     "text": [
      "Welcome to JupyROOT 6.18/04\n"
     ]
    }
   ],
   "source": [
    "import sys\n",
    "sys.path.insert(0,\"/users/PCON0003/cond0068/.local/lib/python3.7/\")\n",
    "sys.path.append(\"/users/PAS0654/osu8354/ARA_cvmfs/root_build/lib/\") # go to parent dir\n",
    "sys.path.append(\"/users/PCON0003/cond0068/.local/lib/python3.7/site-packages/\")\n",
    "# sys.path.append(\"/users/PCON0003/cond0068/pyrex_sims/fromBen/thesis_work/pyrex-custom/analysis/custom/analysis/\")\n",
    "import ROOT\n",
    "import math\n",
    "import numpy as np\n",
    "from ROOT import TH1D,TF1, gRandom, gPad, gStyle\n",
    "import matplotlib.pyplot as plt\n",
    "from ROOT import TChain, TSelector, TTree\n",
    "import os\n",
    "import matplotlib.colors as mcolors\n",
    "import scipy\n",
    "from matplotlib.colors import LogNorm\n",
    "import pandas as pd\n",
    "# import pyrex\n",
    "# import pyrex.custom.analysis\n",
    "# import pyrex.custom.araroot as araroot\n",
    "\n"
   ]
  },
  {
   "cell_type": "code",
   "execution_count": 2,
   "metadata": {},
   "outputs": [
    {
     "name": "stdout",
     "output_type": "stream",
     "text": [
      "TFile**\t\t/fs/scratch/PAS0654/jorge/sim_results/default/AraOut.default_A2_c1_E610.txt.run9.root\tara\n",
      " TFile*\t\t/fs/scratch/PAS0654/jorge/sim_results/default/AraOut.default_A2_c1_E610.txt.run9.root\tara\n",
      "  KEY: TTree\tAraTree2;4\tAraTree2\n",
      "  KEY: TTree\tAraTree2;3\tAraTree2\n",
      "  KEY: TTree\teventTree;3\tTree of ARA Events\n",
      "  KEY: TTree\teventTree;2\tTree of ARA Events\n",
      "  KEY: TTree\tAraTree;1\tAraTree\n"
     ]
    },
    {
     "name": "stderr",
     "output_type": "stream",
     "text": [
      "Warning in <TClass::Init>: no dictionary for class Detector is available\n",
      "Warning in <TClass::Init>: no dictionary for class Parameters is available\n",
      "Warning in <TClass::Init>: no dictionary for class ARA_station is available\n",
      "Warning in <TClass::Init>: no dictionary for class Position is available\n",
      "Warning in <TClass::Init>: no dictionary for class Vector is available\n",
      "Warning in <TClass::Init>: no dictionary for class Antenna_string is available\n",
      "Warning in <TClass::Init>: no dictionary for class InstalledStation is available\n",
      "Warning in <TClass::Init>: no dictionary for class IdealStation is available\n",
      "Warning in <TClass::Init>: no dictionary for class IceModel is available\n",
      "Warning in <TClass::Init>: no dictionary for class EarthModel is available\n",
      "Warning in <TClass::Init>: no dictionary for class Trigger is available\n",
      "Warning in <TClass::Init>: no dictionary for class Settings is available\n",
      "Warning in <TClass::Init>: no dictionary for class Spectra is available\n",
      "Warning in <TClass::Init>: no dictionary for class Event is available\n",
      "Warning in <TClass::Init>: no dictionary for class Interaction is available\n",
      "Warning in <TClass::Init>: no dictionary for class Report is available\n",
      "Warning in <TClass::Init>: no dictionary for class Station_r is available\n",
      "Warning in <TClass::Init>: no dictionary for class String_r is available\n",
      "Warning in <TClass::Init>: no dictionary for class UsefulIcrrStationEvent is available\n",
      "Warning in <TClass::Init>: no dictionary for class RawIcrrStationEvent is available\n",
      "Warning in <TClass::Init>: no dictionary for class RawAraStationEvent is available\n",
      "Warning in <TClass::Init>: no dictionary for class RawAraGenericHeader is available\n",
      "Warning in <TClass::Init>: no dictionary for class UsefulAraStationEvent is available\n",
      "Warning in <TClass::Init>: no dictionary for class RawIcrrStationHeader is available\n",
      "Warning in <TClass::Init>: no dictionary for class AraRawIcrrRFChannel is available\n",
      "Warning in <TClass::Init>: no dictionary for class IcrrTriggerMonitor is available\n",
      "Warning in <TClass::Init>: no dictionary for class IcrrHkData is available\n",
      "Warning in <TClass::Init>: no dictionary for class AraEventCalibrator is available\n",
      "Warning in <TClass::Init>: no dictionary for class UsefulAtriStationEvent is available\n",
      "Warning in <TClass::Init>: no dictionary for class RawAtriStationEvent is available\n",
      "Warning in <TClass::Init>: no dictionary for class RawAtriStationBlock is available\n",
      "Warning in <TClass::Init>: no dictionary for class Antenna_r is available\n",
      "Warning in <TClass::Init>: no dictionary for class Surface_antenna_r is available\n",
      "Warning in <TClass::Init>: no dictionary for class Antenna is available\n",
      "Warning in <TClass::Init>: no dictionary for class Surface_antenna is available\n"
     ]
    }
   ],
   "source": [
    "# f = ROOT.TFile.Open(\"/fs/scratch/PAS0654/jorge/sim_results/CenA_atzero/AraOut.CenA_fixed_source_seed4.txt.run0.root\")\n",
    "f = ROOT.TFile.Open(\"/fs/scratch/PAS0654/jorge/sim_results/default/AraOut.default_A2_c1_E610.txt.run9.root\")\n",
    "f.ls()\n",
    "tree = f.Get(\"AraTree2\")\n",
    "# tree.Print()"
   ]
  },
  {
   "cell_type": "code",
   "execution_count": 3,
   "metadata": {
    "scrolled": true
   },
   "outputs": [
    {
     "name": "stdout",
     "output_type": "stream",
     "text": [
      "1e+21\n",
      "1e+21\n",
      "1e+21\n",
      "1e+21\n",
      "1e+21\n",
      "1e+21\n",
      "1e+21\n",
      "1e+21\n",
      "1e+21\n",
      "1e+21\n"
     ]
    }
   ],
   "source": [
    "for i in range(10):\n",
    "    tree.GetEntry(i)\n",
    "    tree.GetEvent(i)\n",
    "    PT = tree.GetLeaf(\"pnu\").GetValue(i)\n",
    "    print(PT)"
   ]
  },
  {
   "cell_type": "code",
   "execution_count": 21,
   "metadata": {},
   "outputs": [],
   "source": [
    "# for i in range(tree.GetEntries()):\n",
    "for i in range(10):\n",
    "    tree.GetEntry(i)\n",
    "    tree.GetEvent(i)\n",
    "    for j in range(0,10000):\n",
    "        PT = tree.GetLeaf(\"stations.Global_Pass\").GetValue(j)\n",
    "    #     PT.Global_Pass\n",
    "        if(PT<=0.0):\n",
    "            continue\n",
    "        print(PT)"
   ]
  },
  {
   "cell_type": "code",
   "execution_count": 39,
   "metadata": {},
   "outputs": [
    {
     "data": {
      "text/plain": [
       "-1"
      ]
     },
     "execution_count": 39,
     "metadata": {},
     "output_type": "execute_result"
    },
    {
     "name": "stderr",
     "output_type": "stream",
     "text": [
      "Error in <TUnixSystem::FindDynamicLibrary>: libAra.so does not exist in /apps/python/3.6-conda5.2/lib:/users/PCON0003/cond0068/lib:/opt/torque/lib64:/opt/torque/lib::.:/users/PAS0654/osu8354/root6_18_build/lib:/lib64/tls/x86_64:/lib64/tls:/lib64/x86_64:/lib64:/usr/lib64/tls/x86_64:/usr/lib64/tls:/usr/lib64/x86_64:/usr/lib64\n"
     ]
    }
   ],
   "source": [
    "from ROOT import gInterpreter, gSystem\n",
    "gInterpreter.ProcessLine('#include \"/users/PCON0003/cond0068/ARA/AraSim/Position.h\"')\n",
    "gInterpreter.ProcessLine('#include \"/users/PCON0003/cond0068/ARA/AraSim/Report.h\"')\n",
    "gSystem.Load('libAra.so')"
   ]
  },
  {
   "cell_type": "markdown",
   "metadata": {},
   "source": [
    "## Plots"
   ]
  },
  {
   "cell_type": "markdown",
   "metadata": {},
   "source": [
    "## Comments"
   ]
  },
  {
   "cell_type": "code",
   "execution_count": 40,
   "metadata": {},
   "outputs": [
    {
     "data": {
      "text/plain": [
       "-1"
      ]
     },
     "execution_count": 40,
     "metadata": {},
     "output_type": "execute_result"
    },
    {
     "name": "stderr",
     "output_type": "stream",
     "text": [
      "cling::DynamicLibraryManager::loadLibrary(): libGraf.so: cannot open shared object file: No such file or directory\n"
     ]
    }
   ],
   "source": [
    "ROOT.gSystem.Load(\"/users/PAS0654/osu8354/ARA_cvmfs/build/lib/libAraEvent.so\")"
   ]
  },
  {
   "cell_type": "code",
   "execution_count": null,
   "metadata": {},
   "outputs": [],
   "source": []
  }
 ],
 "metadata": {
  "kernelspec": {
   "display_name": "Python 3.6 (Conda 5.2) [python/3.6-conda5.2]",
   "language": "python",
   "name": "sys_python36conda"
  },
  "language_info": {
   "codemirror_mode": {
    "name": "ipython",
    "version": 3
   },
   "file_extension": ".py",
   "mimetype": "text/x-python",
   "name": "python",
   "nbconvert_exporter": "python",
   "pygments_lexer": "ipython3",
   "version": "3.6.6"
  }
 },
 "nbformat": 4,
 "nbformat_minor": 2
}
