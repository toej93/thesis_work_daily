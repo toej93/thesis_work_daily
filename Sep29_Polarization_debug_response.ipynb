{
 "cells": [
  {
   "cell_type": "markdown",
   "metadata": {},
   "source": [
    "# Polarization reconstruction debugging (almost there!!)"
   ]
  },
  {
   "cell_type": "markdown",
   "metadata": {},
   "source": [
    "### Sep 28, 2020"
   ]
  },
  {
   "cell_type": "markdown",
   "metadata": {},
   "source": [
    "## Code"
   ]
  },
  {
   "cell_type": "code",
   "execution_count": 1,
   "metadata": {},
   "outputs": [
    {
     "name": "stdout",
     "output_type": "stream",
     "text": [
      "Welcome to JupyROOT 6.18/04\n"
     ]
    }
   ],
   "source": [
    "import sys\n",
    "import csv\n",
    "# sys.path.insert(0,\"/users/PCON0003/cond0068/.local/lib/python3.7/\")\n",
    "sys.path.append(\"/users/PAS0654/osu8354/ARA_cvmfs/root_build/lib/\") # go to parent dir\n",
    "sys.path.append(\"/users/PCON0003/cond0068/.local/lib/python3.7/site-packages/\")\n",
    "# sys.path.append(\"/users/PCON0003/cond0068/pyrex_sims/fromBen/thesis_work/pyrex-custom/analysis/custom/analysis/\")\n",
    "import ROOT\n",
    "import math\n",
    "import numpy as np\n",
    "from ROOT import TH1D,TF1, gRandom, gPad, gStyle\n",
    "import matplotlib as mpl\n",
    "import matplotlib.pyplot as plt\n",
    "from ROOT import TChain, TSelector, TTree\n",
    "import os\n",
    "import matplotlib.colors as mcolors\n",
    "import scipy\n",
    "from matplotlib.colors import LogNorm\n",
    "import pandas as pd\n",
    "import pyrex\n",
    "import seaborn as sns\n",
    "%matplotlib inline\n",
    "sys.path.insert(1, \"/users/PAS0654/osu8354/ARA_cvmfs/source/AraRoot/analysis/ARA_analysis/CenA_sourceSearch/Stokes\")\n",
    "import deDisperse_util as util\n",
    "from pyrex.internal_functions import normalize"
   ]
  },
  {
   "cell_type": "code",
   "execution_count": 2,
   "metadata": {},
   "outputs": [],
   "source": [
    "# mpl.use('agg') \n",
    "# mpl.rcParams['text.usetex'] = True\n",
    "# mpl.rcParams['text.latex.unicode'] = True\n",
    "# mpl.rcParams['mathtext.rm'] = 'Times New Roman'\n",
    "# mpl.rcParams['mathtext.it'] = 'Times New Roman:italic'\n",
    "# mpl.rcParams['mathtext.bf'] = 'Times New Roman:bold'\n",
    "\n",
    "# mpl.rc('font', family='serif', size=12)\n",
    "# mpl.rcParams['xtick.labelsize'] = 14\n",
    "# mpl.rcParams['ytick.labelsize'] = 14\n",
    "# mpl.rcParams['xtick.major.size'] = 5\n",
    "# mpl.rcParams['ytick.major.size'] = 5\n",
    "\n",
    "# mpl.rcParams['axes.titlesize'] = 18\n",
    "# mpl.rcParams['axes.labelsize'] = 18\n",
    "# # mpl.rc('font', size=16)\n",
    "# mpl.rc('axes', titlesize=20)\n",
    "\n",
    "# import mplcyberpunk\n",
    "# plt.style.use(\"cyberpunk\")\n",
    "\n",
    "current_palette = sns.color_palette('colorblind', 10)\n",
    "import warnings\n",
    "warnings.filterwarnings(\"ignore\")\n"
   ]
  },
  {
   "cell_type": "markdown",
   "metadata": {},
   "source": [
    "## Define function"
   ]
  },
  {
   "cell_type": "code",
   "execution_count": 3,
   "metadata": {},
   "outputs": [],
   "source": [
    "def random_three_vector():\n",
    "    \"\"\"\n",
    "    Generates a random 3D unit vector (direction) with a uniform spherical distribution\n",
    "    Algo from http://stackoverflow.com/questions/5408276/python-uniform-spherical-distribution\n",
    "    :return:\n",
    "    \"\"\"\n",
    "#     np.random.seed(9)\n",
    "    phi = np.random.uniform(0,2*np.pi)\n",
    "    costheta = np.random.uniform(-1,1)\n",
    "\n",
    "    theta = np.arccos( costheta )\n",
    "    x = np.sin( theta) * np.cos( phi )\n",
    "    y = np.sin( theta) * np.sin( phi )\n",
    "    z = costheta\n",
    "    return np.array([x,y,z])"
   ]
  },
  {
   "cell_type": "code",
   "execution_count": 4,
   "metadata": {},
   "outputs": [
    {
     "name": "stdout",
     "output_type": "stream",
     "text": [
      "phi:0.00\n",
      "theta:90.00\n"
     ]
    }
   ],
   "source": [
    "# phi = np.deg2rad(90)\n",
    "# theta = np.deg2rad(90)\n",
    "from scipy import signal\n",
    "pol_ev = np.array([0.,0,1])\n",
    "dirProp = np.array([1,0,0])\n",
    "# pol_ev = np.array([0.73464503,0.66096714,0.15303304])\n",
    "# dirProp = np.array([0.12301928,0.09204764,0.98812625])\n",
    "\n",
    "# dirProp = random_three_vector()\n",
    "phi = np.arctan2(dirProp[1],dirProp[0])\n",
    "print(\"phi:%0.2f\"%phi)\n",
    "theta = np.arccos(dirProp[2])\n",
    "print(\"theta:%0.2f\"%np.degrees(theta))\n",
    "\n",
    "wform = pd.read_pickle(\"./wform_forDebug_PyREx.pkl\")\n",
    "\n",
    "sig = pyrex.Signal(wform[\"time\"]*1E-9,wform.voltage*1E-3,'voltage') # times in seconds\n",
    "antV = util.ara.VpolAntenna(name=\"Dummy Vpol\", position=(0, 0, 0), power_threshold=0)\n",
    "antV.set_orientation(z_axis=(0, 0, 1), x_axis=(1, 0, 0))\n",
    "sig = antV.apply_response(sig, direction=dirProp, polarization=pol_ev, force_real=True)\n",
    "output = antV.front_end(sig)\n",
    "\n",
    "timeV = output.times*1E9 #in ns\n",
    "voltageV = output.values*1E3 #in mV"
   ]
  },
  {
   "cell_type": "code",
   "execution_count": 5,
   "metadata": {},
   "outputs": [],
   "source": [
    "# plt.plot(sigH.times, sig.values)"
   ]
  },
  {
   "cell_type": "code",
   "execution_count": 6,
   "metadata": {},
   "outputs": [
    {
     "data": {
      "text/plain": [
       "<matplotlib.legend.Legend at 0x2b7afb83a320>"
      ]
     },
     "execution_count": 6,
     "metadata": {},
     "output_type": "execute_result"
    },
    {
     "data": {
      "image/png": "[encoded data removed]",
      "text/plain": [
       "<Figure size 432x288 with 1 Axes>"
      ]
     },
     "metadata": {},
     "output_type": "display_data"
    }
   ],
   "source": [
    "sigH = pyrex.Signal(wform[\"time\"]*1E-9,wform.voltage*1E-3,'voltage') # times in seconds\n",
    "\n",
    "antH = util.ara.HpolAntenna(name=\"Dummy Hpol\", position=(0, 0, 0), power_threshold=0)\n",
    "antH.set_orientation(z_axis=(0, 0, 1), x_axis=(1, 0, 0))\n",
    "sigH = antH.apply_response(sigH, direction=dirProp, polarization=pol_ev, force_real=True)\n",
    "outputH = antH.front_end(sigH)\n",
    "timeH = outputH.times*1E9 #in ns\n",
    "voltageH = outputH.values*1E3 #in mV\n",
    "\n",
    "plt.plot(timeV,voltageV, label=\"Vpol\")\n",
    "plt.plot(timeH,voltageH, label=\"Hpol\")\n",
    "plt.legend()"
   ]
  },
  {
   "cell_type": "code",
   "execution_count": 7,
   "metadata": {},
   "outputs": [
    {
     "data": {
      "text/plain": [
       "Text(0,0.5,'Voltage [mV]')"
      ]
     },
     "execution_count": 7,
     "metadata": {},
     "output_type": "execute_result"
    },
    {
     "data": {
      "image/png": "[encoded data removed]",
      "text/plain": [
       "<Figure size 432x288 with 1 Axes>"
      ]
     },
     "metadata": {},
     "output_type": "display_data"
    }
   ],
   "source": [
    "deConv_V_t,deConv_V_v = util.deConvolve_antenna(timeV, voltageV, theta, phi, 0)\n",
    "deConv_H_t,deConv_H_v = util.deConvolve_antenna(timeH, voltageH, theta, phi, 1)\n",
    "plt.plot(deConv_V_t,deConv_V_v, label = \"Vpol\")\n",
    "plt.plot(deConv_H_t,deConv_H_v, label = \"Hpol\")\n",
    "plt.legend()\n",
    "plt.title(\"Waveform, no noise\")\n",
    "plt.xlabel(\"Time [ns]\")\n",
    "plt.ylabel(\"Voltage [mV]\")\n"
   ]
  },
  {
   "cell_type": "markdown",
   "metadata": {},
   "source": [
    "### Calculate polarization angle from Stokes parameters"
   ]
  },
  {
   "cell_type": "code",
   "execution_count": 8,
   "metadata": {},
   "outputs": [],
   "source": [
    "def PolAngleStokes(Hpol,Vpol):\n",
    "    return np.degrees(0.5*np.arctan2(2*Hpol*Vpol,(Hpol**2-Vpol**2)))"
   ]
  },
  {
   "cell_type": "code",
   "execution_count": 9,
   "metadata": {},
   "outputs": [
    {
     "data": {
      "text/plain": [
       "90.0"
      ]
     },
     "execution_count": 9,
     "metadata": {},
     "output_type": "execute_result"
    }
   ],
   "source": [
    "PolAngleStokes(max(abs(deConv_H_v)),max(abs(deConv_V_v)))"
   ]
  },
  {
   "cell_type": "code",
   "execution_count": 10,
   "metadata": {},
   "outputs": [
    {
     "data": {
      "text/plain": [
       "90.0"
      ]
     },
     "execution_count": 10,
     "metadata": {},
     "output_type": "execute_result"
    }
   ],
   "source": [
    "abs(np.degrees(np.pi/2-np.arccos(pol_ev[2])))"
   ]
  },
  {
   "cell_type": "code",
   "execution_count": 11,
   "metadata": {},
   "outputs": [],
   "source": [
    "def PolRatio(Hpol,Vpol):\n",
    "    return np.degrees(np.arctan(Hpol/Vpol))"
   ]
  },
  {
   "cell_type": "code",
   "execution_count": 12,
   "metadata": {},
   "outputs": [],
   "source": [
    "def findMaxAmp(voltage):\n",
    "    if(abs(max(voltage))>=abs(min(voltage))):\n",
    "        maxAmp = max(voltage)\n",
    "    else:\n",
    "        maxAmp = min(voltage)\n",
    "    return maxAmp"
   ]
  },
  {
   "cell_type": "markdown",
   "metadata": {},
   "source": [
    "# Generate random polarizations"
   ]
  },
  {
   "cell_type": "code",
   "execution_count": 16,
   "metadata": {},
   "outputs": [],
   "source": [
    "reco=[]\n",
    "true=[]\n",
    "phi_ = []\n",
    "antV = util.ara.VpolAntenna(name=\"Dummy Vpol\", position=(0, 0, -100), power_threshold=0)\n",
    "antH = util.ara.HpolAntenna(name=\"Dummy Hpol\", position=(0, 0, -100), power_threshold=0)\n",
    "# antV.set_orientation(z_axis=(0, 0, 1), x_axis=(1, 0, 0))\n",
    "# antH.set_orientation(z_axis=(0, 0, 1), x_axis=(1, 0, 0))\n",
    "\n",
    "wform = pd.read_pickle(\"./wform_forDebug_PyREx.pkl\")\n",
    "for count in range(0,10000):\n",
    "#     dirProp = np.array([1/np.sqrt(2),0,1/np.sqrt(2)])\n",
    "    dirProp =  random_three_vector()\n",
    "    pol_ev = np.random.randn(3)  # take a random vector\n",
    "    pol_ev -= pol_ev.dot(dirProp) * dirProp       # make it orthogonal to k\n",
    "    pol_ev /= np.linalg.norm(pol_ev) \n",
    "    \n",
    "    _, theta, phi = antV.antenna._convert_to_antenna_coordinates(antV.position - normalize(dirProp))\n",
    "    x = np.sin( theta) * np.cos( phi )\n",
    "    y = np.sin( theta) * np.sin( phi )\n",
    "    z = np.cos(theta)\n",
    "    newdirProp = np.array([x,y,z])\n",
    "    y_axis = np.cross(antV.antenna.z_axis, antV.antenna.x_axis)\n",
    "    transformation = np.array([antV.antenna.x_axis, y_axis, antV.antenna.z_axis])\n",
    "    ant_pol = np.dot(transformation, normalize(pol_ev))\n",
    "#     pol_ev2 = np.random.randn(3)  # take a random vector\n",
    "#     pol_ev2 -= pol_ev.dot(newdirProp) * newdirProp       # make it orthogonal to k\n",
    "#     pol_ev2 /= np.linalg.norm(pol_ev2) \n",
    "#     phi = np.arctan2(dirProp[1],dirProp[0])\n",
    "#     theta = np.arccos(dirProp[2])\n",
    "#     pol_ev = random_three_vector()\n",
    "    \n",
    "    sig = pyrex.Signal(wform[\"time\"]*1E-9,wform.voltage*1E-3,'voltage') # times in seconds\n",
    "    sig = antV.apply_response(sig, direction=dirProp, polarization=pol_ev, force_real=True)\n",
    "    output = antV.front_end(sig)\n",
    "\n",
    "    timeV = output.times*1E9 #in ns\n",
    "    voltageV = output.values*1E3 #in mV\n",
    "\n",
    "    sigH = pyrex.Signal(wform[\"time\"]*1E-9,wform.voltage*1E-3,'voltage') # times in seconds\n",
    "\n",
    "    sigH = antH.apply_response(sigH, direction=dirProp, polarization=pol_ev, force_real=True)\n",
    "    outputH = antH.front_end(sigH)\n",
    "    timeH = outputH.times*1E9 #in ns\n",
    "    voltageH = outputH.values*1E3 #in mV\n",
    "\n",
    "    deConv_V_t,deConv_V_v = util.deConvolve_antenna(timeV, voltageV, theta, phi, 0)\n",
    "    deConv_H_t,deConv_H_v = util.deConvolve_antenna(timeH, voltageH, theta, phi, 1)\n",
    "    reco_ = PolAngleStokes(max(abs(deConv_H_v)),max(abs(deConv_V_v)))\n",
    "    true_ = abs(np.degrees(np.pi/2-np.arccos(ant_pol[2])))\n",
    "#     if(reco_-true_>100):\n",
    "# # #         continue\n",
    "# # #         true_=abs(90-true_)\n",
    "#     if(reco_-abs(true_))>70:\n",
    "#     if(reco_)<5:\n",
    "# #         continue\n",
    "#         print(\"dir_prop:%s\"%newdirProp)\n",
    "#         print(\"pol_vec:%s\"%ant_pol)\n",
    "#         print(\"theta_prop:%0.3f\"%np.degrees(theta))\n",
    "#         print(\"theta_reco:%0.3f\"%reco_)\n",
    "#         print(\"theta_true:%0.3f\"%true_)\n",
    "#         print(np.degrees(np.arccos(pol_ev[2])))\n",
    "#         print(\"Dot product is %f\"%np.dot(newdirProp,ant_pol))\n",
    "# #         plt.plot(deConv_V_t,deConv_V_v,label=\"Vpol\")\n",
    "# #         plt.plot(deConv_H_t,deConv_H_v, label=\"Hpol\")\n",
    "#         plt.figure()\n",
    "#         plt.plot(timeV,voltageV,label=\"Vpol\")\n",
    "#         plt.plot(timeH,voltageH, label=\"Hpol\")\n",
    "#         plt.legend()\n",
    "#         plt.figure()\n",
    "#         plt.plot(deConv_V_t,deConv_V_v,label=\"Vpol\")\n",
    "#         plt.plot(deConv_H_t,deConv_H_v, label=\"Hpol\")\n",
    "#         plt.legend()\n",
    "#         break\n",
    "    reco.append(reco_)\n",
    "    true.append(true_)\n",
    "    phi_.append(np.degrees(phi))\n",
    "#     print((PolAngleStokes(max(abs(deConv_H_v)),max(abs(deConv_V_v)))-np.degrees(theta)))"
   ]
  },
  {
   "cell_type": "code",
   "execution_count": 17,
   "metadata": {},
   "outputs": [],
   "source": [
    "reco=np.array(reco)\n",
    "true=np.array(true)\n",
    "phi_=np.array(phi_)\n",
    "\n",
    "# dist = pd.DataFrame({\"reco\":reco, \"true\":true})\n",
    "# dist.head()\n",
    "# gt90 = dist.loc[dist.true>0]\n",
    "# lt90 = dist.loc[dist.true<=0]"
   ]
  },
  {
   "cell_type": "code",
   "execution_count": 18,
   "metadata": {},
   "outputs": [
    {
     "data": {
      "image/png": "[encoded data removed]",
      "text/plain": [
       "<Figure size 504x360 with 1 Axes>"
      ]
     },
     "metadata": {},
     "output_type": "display_data"
    }
   ],
   "source": [
    "plt.figure(figsize=(7,5))\n",
    "plt.hist(reco-abs(true), bins=100, density=True, alpha=1,label=\"\");\n",
    "\n",
    "plt.xlabel(\"$\\\\theta_{reco}-\\\\theta_{true}$\")\n",
    "# plt.xlabel(\"$\\\\theta$\")\n",
    "plt.ylabel('Counts [norm.]')\n",
    "plt.title(\"Polarization reconstruction vs. MC truth\")\n",
    "# plt.yscale(\"log\")\n",
    "# mplcyberpunk.add_glow_effects()\n",
    "plt.tight_layout()\n",
    "# plt.legend()"
   ]
  },
  {
   "cell_type": "code",
   "execution_count": 19,
   "metadata": {},
   "outputs": [
    {
     "data": {
      "image/png": "[encoded data removed]",
      "text/plain": [
       "<Figure size 504x360 with 1 Axes>"
      ]
     },
     "metadata": {},
     "output_type": "display_data"
    }
   ],
   "source": [
    "plt.figure(figsize=(7,5))\n",
    "plt.hist(true, bins=100, density=True, alpha=0.5,label=\"True\");\n",
    "plt.hist(reco, bins=100, density=True, alpha=0.2,label=\"Reco\");\n",
    "\n",
    "# plt.xlabel(\"$\\\\theta_{reco}-abs(\\\\theta_{true})$\")\n",
    "plt.xlabel(\"$\\\\theta$\")\n",
    "plt.ylabel('Counts [norm.]')\n",
    "plt.title(\"Polarization reconstruction vs. MC truth\")\n",
    "# plt.yscale(\"log\")\n",
    "# mplcyberpunk.add_glow_effects()\n",
    "plt.tight_layout()\n",
    "plt.legend()\n",
    "plt.show()\n",
    "\n",
    "# plt.savefig(\"./plots/Stokes/recoVsTrue_MC_abs.png\", dpi=200)"
   ]
  },
  {
   "cell_type": "code",
   "execution_count": 20,
   "metadata": {},
   "outputs": [
    {
     "data": {
      "image/png": "[encoded data removed]",
      "text/plain": [
       "<Figure size 576x360 with 2 Axes>"
      ]
     },
     "metadata": {},
     "output_type": "display_data"
    }
   ],
   "source": [
    "plt.figure(figsize=(8,5))\n",
    "plt.hist2d(true,reco-true, bins=50, normed=True);\n",
    "# plt.hist2d(angle_Stokes,angle_Stokes-angle_true)\n",
    "plt.colorbar(label=\"Counts [norm]\")\n",
    "plt.xlabel(\"$\\\\theta_{true}$\")\n",
    "plt.ylabel(\"$\\\\theta_{reco}-\\\\theta_{true}$\")\n",
    "plt.tight_layout()\n",
    "# plt.ylim(-10,10)\n",
    "# plt.savefig(\"./plots/Stokes/recovsRecoMinusTrue.pdf\")"
   ]
  },
  {
   "cell_type": "code",
   "execution_count": 21,
   "metadata": {},
   "outputs": [
    {
     "data": {
      "text/html": [
       "<div>\n",
       "<style scoped>\n",
       "    .dataframe tbody tr th:only-of-type {\n",
       "        vertical-align: middle;\n",
       "    }\n",
       "\n",
       "    .dataframe tbody tr th {\n",
       "        vertical-align: top;\n",
       "    }\n",
       "\n",
       "    .dataframe thead th {\n",
       "        text-align: right;\n",
       "    }\n",
       "</style>\n",
       "<table border=\"1\" class=\"dataframe\">\n",
       "  <thead>\n",
       "    <tr style=\"text-align: right;\">\n",
       "      <th></th>\n",
       "      <th>reco</th>\n",
       "      <th>true</th>\n",
       "      <th>phi</th>\n",
       "    </tr>\n",
       "  </thead>\n",
       "  <tbody>\n",
       "    <tr>\n",
       "      <th>0</th>\n",
       "      <td>32.593868</td>\n",
       "      <td>45.464668</td>\n",
       "      <td>315.996426</td>\n",
       "    </tr>\n",
       "    <tr>\n",
       "      <th>1</th>\n",
       "      <td>60.900956</td>\n",
       "      <td>26.277339</td>\n",
       "      <td>243.090606</td>\n",
       "    </tr>\n",
       "    <tr>\n",
       "      <th>2</th>\n",
       "      <td>0.510544</td>\n",
       "      <td>0.602316</td>\n",
       "      <td>241.039004</td>\n",
       "    </tr>\n",
       "    <tr>\n",
       "      <th>3</th>\n",
       "      <td>74.916460</td>\n",
       "      <td>65.579691</td>\n",
       "      <td>47.557830</td>\n",
       "    </tr>\n",
       "    <tr>\n",
       "      <th>4</th>\n",
       "      <td>24.347170</td>\n",
       "      <td>65.472115</td>\n",
       "      <td>27.008775</td>\n",
       "    </tr>\n",
       "  </tbody>\n",
       "</table>\n",
       "</div>"
      ],
      "text/plain": [
       "        reco       true         phi\n",
       "0  32.593868  45.464668  315.996426\n",
       "1  60.900956  26.277339  243.090606\n",
       "2   0.510544   0.602316  241.039004\n",
       "3  74.916460  65.579691   47.557830\n",
       "4  24.347170  65.472115   27.008775"
      ]
     },
     "execution_count": 21,
     "metadata": {},
     "output_type": "execute_result"
    }
   ],
   "source": [
    "dist = pd.DataFrame({\"reco\":reco, \"true\":true, \"phi\":phi_})\n",
    "dist.head()"
   ]
  },
  {
   "cell_type": "code",
   "execution_count": 26,
   "metadata": {},
   "outputs": [
    {
     "data": {
      "text/plain": [
       "Text(0.5,0,'$\\\\phi$')"
      ]
     },
     "execution_count": 26,
     "metadata": {},
     "output_type": "execute_result"
    },
    {
     "data": {
      "image/png": "[encoded data removed]",
      "text/plain": [
       "<Figure size 432x288 with 1 Axes>"
      ]
     },
     "metadata": {},
     "output_type": "display_data"
    }
   ],
   "source": [
    "tail = dist.loc[(dist.reco-dist.true)>40]\n",
    "# plt.hist(phi_)\n",
    "plt.hist(tail.phi, bins=30);\n",
    "plt.xlabel(\"$\\phi$\")"
   ]
  },
  {
   "cell_type": "code",
   "execution_count": null,
   "metadata": {},
   "outputs": [],
   "source": []
  },
  {
   "cell_type": "code",
   "execution_count": 23,
   "metadata": {},
   "outputs": [
    {
     "data": {
      "text/plain": [
       "Text(0.5,0,'$\\\\phi$')"
      ]
     },
     "execution_count": 23,
     "metadata": {},
     "output_type": "execute_result"
    },
    {
     "data": {
      "image/png": "[encoded data removed]",
      "text/plain": [
       "<Figure size 432x288 with 1 Axes>"
      ]
     },
     "metadata": {},
     "output_type": "display_data"
    }
   ],
   "source": [
    "center = dist.loc[abs(dist.reco-dist.true)<1]\n",
    "plt.title(\"Events where abs(dist.reco-dist.true)<1\")\n",
    "plt.hist(center.phi, bins=50);\n",
    "plt.xlabel(\"$\\phi$\")"
   ]
  },
  {
   "cell_type": "code",
   "execution_count": 24,
   "metadata": {},
   "outputs": [
    {
     "data": {
      "text/plain": [
       "Text(0.5,0,'$\\\\phi$')"
      ]
     },
     "execution_count": 24,
     "metadata": {},
     "output_type": "execute_result"
    },
    {
     "data": {
      "image/png": "[encoded data removed]",
      "text/plain": [
       "<Figure size 432x288 with 1 Axes>"
      ]
     },
     "metadata": {},
     "output_type": "display_data"
    }
   ],
   "source": [
    "plt.hist(center.reco, bins=50);\n",
    "plt.xlabel(\"$\\phi$\")"
   ]
  },
  {
   "cell_type": "code",
   "execution_count": null,
   "metadata": {},
   "outputs": [],
   "source": [
    "\n",
    "deltaTheta=[]\n",
    "deltaPhi=[]\n",
    "for count in range(0,10000):\n",
    "\n",
    "    dirProp =  random_three_vector()\n",
    "    pol_ev = np.random.randn(3)  # take a random vector\n",
    "    pol_ev -= pol_ev.dot(dirProp) * dirProp       # make it orthogonal to k\n",
    "    pol_ev /= np.linalg.norm(pol_ev) \n",
    "\n",
    "    phi = np.arctan2(dirProp[1],dirProp[0])\n",
    "    theta = np.arccos(dirProp[2])\n",
    "    # print(np.degrees(phi))\n",
    "    # print(np.degrees(theta))\n",
    "    _, direction_theta, direction_phi = antV.antenna._convert_to_antenna_coordinates(antV.position - normalize(dirProp))\n",
    "    # print(np.degrees(direction_phi))\n",
    "    # print(np.degrees(direction_theta))\n",
    "    deltaTheta.append(np.degrees(theta))\n",
    "    deltaPhi.append(np.degrees(phi))"
   ]
  },
  {
   "cell_type": "code",
   "execution_count": null,
   "metadata": {},
   "outputs": [],
   "source": [
    "plt.hist(abs(np.array(deltaTheta)),bins=100);"
   ]
  },
  {
   "cell_type": "code",
   "execution_count": null,
   "metadata": {},
   "outputs": [],
   "source": [
    "pickle = pd.read_pickle(\"/users/PAS0654/osu8354/ARA_cvmfs/source/AraRoot/analysis/ARA_analysis/CenA_sourceSearch/Stokes/pol_quant_debug.pkl\")"
   ]
  },
  {
   "cell_type": "code",
   "execution_count": null,
   "metadata": {},
   "outputs": [],
   "source": [
    "pickle.head()"
   ]
  },
  {
   "cell_type": "code",
   "execution_count": null,
   "metadata": {},
   "outputs": [],
   "source": [
    "plt.hist(pickle.phi_reco,bins=50);"
   ]
  },
  {
   "cell_type": "code",
   "execution_count": null,
   "metadata": {},
   "outputs": [],
   "source": [
    "plt.hist(np.degrees(np.arccos(pickle.pol_z)), bins=50);"
   ]
  },
  {
   "cell_type": "code",
   "execution_count": null,
   "metadata": {},
   "outputs": [],
   "source": [
    "plt.hist(pickle.AngStokes-np.degrees(np.arctan(abs(pickle.pol_z))),bins=100);"
   ]
  },
  {
   "cell_type": "code",
   "execution_count": null,
   "metadata": {},
   "outputs": [],
   "source": [
    "pickle.pol_x**2+pickle.pol_y**2+pickle.pol_z**2"
   ]
  },
  {
   "cell_type": "code",
   "execution_count": 38,
   "metadata": {},
   "outputs": [],
   "source": [
    "costheta = [np.random.uniform(-1,1) for i in range(0,1000)]\n"
   ]
  },
  {
   "cell_type": "code",
   "execution_count": 46,
   "metadata": {},
   "outputs": [
    {
     "data": {
      "image/png": "[encoded data removed]",
      "text/plain": [
       "<Figure size 432x288 with 1 Axes>"
      ]
     },
     "metadata": {},
     "output_type": "display_data"
    }
   ],
   "source": [
    "plt.hist(np.arccos(costheta), bins=100);"
   ]
  },
  {
   "cell_type": "code",
   "execution_count": null,
   "metadata": {},
   "outputs": [],
   "source": [
    "d=(sin_t*cos_t, )"
   ]
  }
 ],
 "metadata": {
  "kernelspec": {
   "display_name": "Python 3.6 (Conda 5.2) [python/3.6-conda5.2]",
   "language": "python",
   "name": "sys_python36conda"
  },
  "language_info": {
   "codemirror_mode": {
    "name": "ipython",
    "version": 3
   },
   "file_extension": ".py",
   "mimetype": "text/x-python",
   "name": "python",
   "nbconvert_exporter": "python",
   "pygments_lexer": "ipython3",
   "version": "3.6.6"
  }
 },
 "nbformat": 4,
 "nbformat_minor": 4
}
