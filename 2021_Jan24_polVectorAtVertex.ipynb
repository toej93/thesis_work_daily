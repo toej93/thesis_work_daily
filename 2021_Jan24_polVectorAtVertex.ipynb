{
 "cells": [
  {
   "cell_type": "markdown",
   "metadata": {},
   "source": [
    "# Neutrino direction reconstruction\n"
   ]
  },
  {
   "cell_type": "markdown",
   "metadata": {},
   "source": [
    "### Jan 7, 2021"
   ]
  },
  {
   "cell_type": "markdown",
   "metadata": {},
   "source": [
    "## Code"
   ]
  },
  {
   "cell_type": "code",
   "execution_count": 5,
   "metadata": {},
   "outputs": [],
   "source": [
    "import sys\n",
    "import csv\n",
    "# sys.path.insert(0,\"/users/PCON0003/cond0068/.local/lib/python3.7/\")\n",
    "sys.path.append(\"/users/PAS0654/osu8354/ARA_cvmfs/root_build/lib/\") # go to parent dir\n",
    "sys.path.append(\"/users/PCON0003/cond0068/.local/lib/python3.7/site-packages/\")\n",
    "# sys.path.append(\"/users/PCON0003/cond0068/pyrex_sims/fromBen/thesis_work/pyrex-custom/analysis/custom/analysis/\")\n",
    "import ROOT\n",
    "import math\n",
    "import numpy as np\n",
    "from ROOT import TH1D,TF1, gRandom, gPad, gStyle\n",
    "import matplotlib as mpl\n",
    "import matplotlib.pyplot as plt\n",
    "from ROOT import TChain, TSelector, TTree\n",
    "import os\n",
    "import matplotlib.colors as mcolors\n",
    "import scipy\n",
    "from matplotlib.colors import LogNorm\n",
    "import pandas as pd\n",
    "import pyrex\n",
    "import seaborn as sns\n",
    "%matplotlib inline\n",
    "sys.path.insert(1, \"/users/PAS0654/osu8354/ARA_cvmfs/source/AraRoot/analysis/ARA_analysis/CenA_sourceSearch/Stokes\")\n",
    "import deDisperse_util as util\n",
    "from pyrex.internal_functions import normalize\n",
    "my_path_plots = os.path.abspath(\"./plots/\")\n",
    "import pyrex.custom.ara as ara\n"
   ]
  },
  {
   "cell_type": "code",
   "execution_count": 6,
   "metadata": {},
   "outputs": [],
   "source": [
    "# mpl.use('agg') \n",
    "mpl.rcParams['text.usetex'] = True\n",
    "mpl.rcParams['text.latex.unicode'] = True\n",
    "mpl.rcParams['mathtext.rm'] = 'Times New Roman'\n",
    "mpl.rcParams['mathtext.it'] = 'Times New Roman:italic'\n",
    "mpl.rcParams['mathtext.bf'] = 'Times New Roman:bold'\n",
    "\n",
    "mpl.rc('font', family='serif', size=12)\n",
    "mpl.rcParams['xtick.labelsize'] = 14\n",
    "mpl.rcParams['ytick.labelsize'] = 14\n",
    "mpl.rcParams['xtick.major.size'] = 5\n",
    "mpl.rcParams['ytick.major.size'] = 5\n",
    "\n",
    "mpl.rcParams['axes.titlesize'] = 18\n",
    "mpl.rcParams['axes.labelsize'] = 18\n",
    "# mpl.rc('font', size=16)\n",
    "mpl.rc('axes', titlesize=20)\n",
    "\n",
    "current_palette = sns.color_palette('colorblind', 10)\n",
    "import warnings\n",
    "warnings.filterwarnings(\"ignore\")\n"
   ]
  },
  {
   "cell_type": "code",
   "execution_count": 7,
   "metadata": {},
   "outputs": [],
   "source": [
    "def SphericalToCartesian(phi, theta):\n",
    "    x = np.sin(theta)*np.cos(phi)\n",
    "    y = np.sin(theta)*np.sin(phi)\n",
    "    z = np.cos(theta)\n",
    "    \n",
    "    return np.array([x,y,z])"
   ]
  },
  {
   "cell_type": "markdown",
   "metadata": {},
   "source": [
    "## Yet another event"
   ]
  },
  {
   "cell_type": "markdown",
   "metadata": {},
   "source": [
    "The MC truth neutrino direction (in AraSim Earth-centered coordinates) is \n",
    "$$\n",
    "\\hat{v} = (-0.3454016638537625, -0.7187225447988469, -0.6034364872999659)\n",
    "$$"
   ]
  },
  {
   "cell_type": "markdown",
   "metadata": {},
   "source": [
    "#### Using MC from AraSim at source"
   ]
  },
  {
   "cell_type": "code",
   "execution_count": 8,
   "metadata": {},
   "outputs": [],
   "source": [
    "polSrc = np.array([0.123453,0.168241,0.977985])\n",
    "launchVecSrc = np.array([-0.383979,-0.900658,0.203409])\n",
    "viewAngleSrc = np.radians(48.9129)"
   ]
  },
  {
   "cell_type": "code",
   "execution_count": 9,
   "metadata": {},
   "outputs": [
    {
     "data": {
      "text/plain": [
       "array([0.34540107, 0.71872261, 0.6034369 ])"
      ]
     },
     "execution_count": 9,
     "metadata": {},
     "output_type": "execute_result"
    }
   ],
   "source": [
    "np.sin(viewAngleSrc)*polSrc-np.cos(viewAngleSrc)*launchVecSrc #equal to nnu, module a minus sign (TBD)"
   ]
  },
  {
   "cell_type": "code",
   "execution_count": 10,
   "metadata": {},
   "outputs": [],
   "source": [
    "theta = np.arccos(launchVecSrc[2])\n",
    "# 180-np.degrees(np.arccos(0.28209558))"
   ]
  },
  {
   "cell_type": "code",
   "execution_count": 11,
   "metadata": {},
   "outputs": [
    {
     "data": {
      "text/plain": [
       "78.26362074470669"
      ]
     },
     "execution_count": 11,
     "metadata": {},
     "output_type": "execute_result"
    }
   ],
   "source": [
    "np.degrees(theta)"
   ]
  },
  {
   "cell_type": "markdown",
   "metadata": {},
   "source": [
    "#### Using output from AraSim at antenna"
   ]
  },
  {
   "cell_type": "code",
   "execution_count": 17,
   "metadata": {},
   "outputs": [
    {
     "name": "stdout",
     "output_type": "stream",
     "text": [
      "ViewAngle = 48.913\n"
     ]
    }
   ],
   "source": [
    "polVec = np.array([0.059005,0.017102,0.998111])\n",
    "propVec = np.array([0.39201006, 0.91913715, -0.03892302])\n",
    "phi = np.arctan2(propVec[1],propVec[0])\n",
    "theta = np.pi-np.arccos(launchVecSrc[2])\n",
    "recVec = propVec\n",
    "propVec = -1*SphericalToCartesian(phi,theta)\n",
    "viewAngle = 0.8536910375076152\n",
    "antennaPos = np.array([10004.71607,9989.46621,6359632.39013])\n",
    "antennaPos = antennaPos/np.linalg.norm(antennaPos)\n",
    "print(\"ViewAngle = %0.3f\"%np.degrees(viewAngle))"
   ]
  },
  {
   "cell_type": "code",
   "execution_count": 13,
   "metadata": {},
   "outputs": [
    {
     "data": {
      "text/plain": [
       "array([0.29690918, 0.60477202, 0.618606  ])"
      ]
     },
     "execution_count": 13,
     "metadata": {},
     "output_type": "execute_result"
    }
   ],
   "source": [
    "np.sin(viewAngle)*polVec-np.cos(viewAngle)*propVec #Not equal to nnu"
   ]
  },
  {
   "cell_type": "code",
   "execution_count": 14,
   "metadata": {},
   "outputs": [],
   "source": []
  },
  {
   "cell_type": "code",
   "execution_count": 42,
   "metadata": {},
   "outputs": [],
   "source": [
    "recAngle = np.pi-np.arccos(recVec[2])\n",
    "launchAngle = np.arccos(launchVecSrc[2])\n",
    "angleChange = recAngle-launchAngle\n",
    "polOmega = np.arccos(polVec[2])\n",
    "polPsi = np.arctan2(polVec[1],polVec[0])\n",
    "newPolOmega =polOmega+angleChange "
   ]
  },
  {
   "cell_type": "code",
   "execution_count": 43,
   "metadata": {},
   "outputs": [
    {
     "data": {
      "text/plain": [
       "array([0.2165154 , 0.06275479, 0.97426019])"
      ]
     },
     "execution_count": 43,
     "metadata": {},
     "output_type": "execute_result"
    }
   ],
   "source": [
    "SphericalToCartesian(polPsi,newPolOmega)"
   ]
  },
  {
   "cell_type": "code",
   "execution_count": 49,
   "metadata": {},
   "outputs": [
    {
     "data": {
      "text/plain": [
       "0.2254264421625083"
      ]
     },
     "execution_count": 49,
     "metadata": {},
     "output_type": "execute_result"
    }
   ],
   "source": [
    "np.sin(newPolOmega)"
   ]
  },
  {
   "cell_type": "markdown",
   "metadata": {},
   "source": [
    "#### Enter rotation matrix"
   ]
  },
  {
   "cell_type": "code",
   "execution_count": 44,
   "metadata": {},
   "outputs": [],
   "source": [
    "def rotation_matrix_from_vectors(vec1, vec2):\n",
    "    \"\"\" Find the rotation matrix that aligns vec1 to vec2\n",
    "    :param vec1: A 3d \"source\" vector\n",
    "    :param vec2: A 3d \"destination\" vector\n",
    "    :return mat: A transform matrix (3x3) which when applied to vec1, aligns it with vec2.\n",
    "    \"\"\"\n",
    "    a, b = (vec1 / np.linalg.norm(vec1)).reshape(3), (vec2 / np.linalg.norm(vec2)).reshape(3)\n",
    "    v = np.cross(a, b)\n",
    "    c = np.dot(a, b)\n",
    "    s = np.linalg.norm(v)\n",
    "    kmat = np.array([[0, -v[2], v[1]], [v[2], 0, -v[0]], [-v[1], v[0], 0]])\n",
    "    rotation_matrix = np.eye(3) + kmat + kmat.dot(kmat) * ((1 - c) / (s ** 2))\n",
    "    return rotation_matrix"
   ]
  },
  {
   "cell_type": "code",
   "execution_count": 52,
   "metadata": {},
   "outputs": [
    {
     "data": {
      "text/plain": [
       "array([0.12345296, 0.16824094, 0.97798466])"
      ]
     },
     "execution_count": 52,
     "metadata": {},
     "output_type": "execute_result"
    }
   ],
   "source": [
    "np.dot(polVec,rotation_matrix_from_vectors(polSrc,polVec))"
   ]
  },
  {
   "cell_type": "code",
   "execution_count": null,
   "metadata": {},
   "outputs": [],
   "source": []
  }
 ],
 "metadata": {
  "kernelspec": {
   "display_name": "Python 3.6 (Conda 5.2) [python/3.6-conda5.2]",
   "language": "python",
   "name": "sys_python36conda"
  },
  "language_info": {
   "codemirror_mode": {
    "name": "ipython",
    "version": 3
   },
   "file_extension": ".py",
   "mimetype": "text/x-python",
   "name": "python",
   "nbconvert_exporter": "python",
   "pygments_lexer": "ipython3",
   "version": "3.6.6"
  }
 },
 "nbformat": 4,
 "nbformat_minor": 4
}
