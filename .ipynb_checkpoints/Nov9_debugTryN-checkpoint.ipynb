{
 "cells": [
  {
   "cell_type": "markdown",
   "metadata": {},
   "source": [
    "# Polarization reconstruction with neutrinos"
   ]
  },
  {
   "cell_type": "markdown",
   "metadata": {},
   "source": [
    "### Nov 3, 2020"
   ]
  },
  {
   "cell_type": "markdown",
   "metadata": {},
   "source": [
    "## Code"
   ]
  },
  {
   "cell_type": "code",
   "execution_count": 1,
   "metadata": {},
   "outputs": [
    {
     "name": "stdout",
     "output_type": "stream",
     "text": [
      "Welcome to JupyROOT 6.18/04\n"
     ]
    }
   ],
   "source": [
    "import sys\n",
    "import csv\n",
    "# sys.path.insert(0,\"/users/PCON0003/cond0068/.local/lib/python3.7/\")\n",
    "sys.path.append(\"/users/PAS0654/osu8354/ARA_cvmfs/root_build/lib/\") # go to parent dir\n",
    "sys.path.append(\"/users/PCON0003/cond0068/.local/lib/python3.7/site-packages/\")\n",
    "# sys.path.append(\"/users/PCON0003/cond0068/pyrex_sims/fromBen/thesis_work/pyrex-custom/analysis/custom/analysis/\")\n",
    "import ROOT\n",
    "import math\n",
    "import numpy as np\n",
    "from ROOT import TH1D,TF1, gRandom, gPad, gStyle\n",
    "import matplotlib as mpl\n",
    "import matplotlib.pyplot as plt\n",
    "from ROOT import TChain, TSelector, TTree\n",
    "import os\n",
    "import matplotlib.colors as mcolors\n",
    "import scipy\n",
    "from matplotlib.colors import LogNorm\n",
    "import pandas as pd\n",
    "import pyrex\n",
    "import seaborn as sns\n",
    "%matplotlib inline\n",
    "sys.path.insert(1, \"/users/PAS0654/osu8354/ARA_cvmfs/source/AraRoot/analysis/ARA_analysis/CenA_sourceSearch/Stokes\")\n",
    "import deDisperse_util as util\n",
    "from pyrex.internal_functions import normalize\n",
    "my_path_plots = os.path.abspath(\"./plots/\")"
   ]
  },
  {
   "cell_type": "code",
   "execution_count": 2,
   "metadata": {},
   "outputs": [],
   "source": [
    "# mpl.use('agg') \n",
    "mpl.rcParams['text.usetex'] = True\n",
    "mpl.rcParams['text.latex.unicode'] = True\n",
    "mpl.rcParams['mathtext.rm'] = 'Times New Roman'\n",
    "mpl.rcParams['mathtext.it'] = 'Times New Roman:italic'\n",
    "mpl.rcParams['mathtext.bf'] = 'Times New Roman:bold'\n",
    "\n",
    "mpl.rc('font', family='serif', size=12)\n",
    "mpl.rcParams['xtick.labelsize'] = 14\n",
    "mpl.rcParams['ytick.labelsize'] = 14\n",
    "mpl.rcParams['xtick.major.size'] = 5\n",
    "mpl.rcParams['ytick.major.size'] = 5\n",
    "\n",
    "mpl.rcParams['axes.titlesize'] = 18\n",
    "mpl.rcParams['axes.labelsize'] = 18\n",
    "# mpl.rc('font', size=16)\n",
    "mpl.rc('axes', titlesize=20)\n",
    "\n",
    "current_palette = sns.color_palette('colorblind', 10)\n",
    "import warnings\n",
    "warnings.filterwarnings(\"ignore\")\n"
   ]
  },
  {
   "cell_type": "markdown",
   "metadata": {},
   "source": [
    "## Events debugging"
   ]
  },
  {
   "cell_type": "code",
   "execution_count": 4,
   "metadata": {},
   "outputs": [],
   "source": [
    "appended_data = []\n",
    "import os\n",
    "for filename in os.listdir(\"/users/PAS0654/osu8354/ARA_cvmfs/source/AraRoot/analysis/ARA_analysis/CenA_sourceSearch/Stokes\"):#Loop over desired directory\n",
    "        if (filename.startswith(\"pol_quant_noiseless_\")): #extension, .root in this case\n",
    "            name = os.path.join(\"/users/PAS0654/osu8354/ARA_cvmfs/source/AraRoot/analysis/ARA_analysis/CenA_sourceSearch/Stokes\", str(filename))\n",
    "            data = pd.read_pickle(name)\n",
    "            appended_data.append(data)\n",
    "recoNu = pd.concat(appended_data)     \n",
    "\n",
    "recoNu = recoNu.loc[recoNu.rmsV>200]\n",
    "recoNu = recoNu.loc[recoNu.rmsV<1400]\n",
    "recoNu = recoNu.loc[recoNu.rmsH>200]\n",
    "recoNu = recoNu.loc[recoNu.rmsH<1400]\n",
    "# recoNu.PolReco2 = util.PolVectorReco(recoNu.rmsV, recoNu.rmsH, recoNu.theta_reco, recoNu.phi_reco)\n",
    "\n",
    "Px_true = np.array([element[0] for element in recoNu.PolTrue])\n",
    "Py_true = np.array([element[1] for element in recoNu.PolTrue])\n",
    "Pz_true = np.array([element[2] for element in recoNu.PolTrue])\n",
    "\n",
    "Px_reco = np.array([element[0] for element in recoNu.PolReco])\n",
    "Py_reco = np.array([element[1] for element in recoNu.PolReco])\n",
    "Pz_reco = np.array([element[2] for element in recoNu.PolReco])\n",
    "\n",
    "\n",
    "thetaPol_true = np.degrees(np.arccos((Pz_true)))\n",
    "thetaPol_reco = np.degrees(np.arccos((Pz_reco)))\n",
    "phiPol_true = np.degrees(np.arctan2(Py_true,Px_true))\n",
    "phiPol_reco = np.degrees(np.arctan2(Py_reco,Px_reco))\n",
    "# # recoNu[\"theta_pol\"] = np.degrees(np.arccos(abs(recoNu.pol_z)))\n",
    "# recoNu[\"theta_pol\"] = recoNu[\"theta_pol\"]\n",
    "# recoNu[\"deltaTheta\"] = -90-recoNu.AngRatio+(90+recoNu.theta_pol)\n",
    "\n",
    "recoNu[\"delta\"] = thetaPol_reco-thetaPol_true\n",
    "delta = thetaPol_reco-thetaPol_true\n",
    "deltaPhi = phiPol_reco-phiPol_true\n",
    "\n",
    "# delta = delta[~np.isnan(delta)]"
   ]
  },
  {
   "cell_type": "code",
   "execution_count": 5,
   "metadata": {},
   "outputs": [
    {
     "data": {
      "text/html": [
       "<div>\n",
       "<style scoped>\n",
       "    .dataframe tbody tr th:only-of-type {\n",
       "        vertical-align: middle;\n",
       "    }\n",
       "\n",
       "    .dataframe tbody tr th {\n",
       "        vertical-align: top;\n",
       "    }\n",
       "\n",
       "    .dataframe thead th {\n",
       "        text-align: right;\n",
       "    }\n",
       "</style>\n",
       "<table border=\"1\" class=\"dataframe\">\n",
       "  <thead>\n",
       "    <tr style=\"text-align: right;\">\n",
       "      <th></th>\n",
       "      <th>EvNum</th>\n",
       "      <th>theta_reco</th>\n",
       "      <th>phi_reco</th>\n",
       "      <th>PolTrue</th>\n",
       "      <th>PolReco</th>\n",
       "      <th>rmsV</th>\n",
       "      <th>rmsH</th>\n",
       "      <th>delta</th>\n",
       "    </tr>\n",
       "  </thead>\n",
       "  <tbody>\n",
       "    <tr>\n",
       "      <th>1673</th>\n",
       "      <td>107461</td>\n",
       "      <td>0.917386</td>\n",
       "      <td>152.560965</td>\n",
       "      <td>[0.5826966984304127, 0.681897937782828, -0.442...</td>\n",
       "      <td>[-0.6763307235095378, -0.6053611079812069, 0.4...</td>\n",
       "      <td>1079.428083</td>\n",
       "      <td>1246.529661</td>\n",
       "      <td>-51.053058</td>\n",
       "    </tr>\n",
       "    <tr>\n",
       "      <th>1688</th>\n",
       "      <td>108488</td>\n",
       "      <td>1.365345</td>\n",
       "      <td>298.892991</td>\n",
       "      <td>[0.2667154015973868, 0.7462468021996428, 0.609...</td>\n",
       "      <td>[0.7305566031749336, 0.2521245758466412, 0.634...</td>\n",
       "      <td>1100.117463</td>\n",
       "      <td>908.042014</td>\n",
       "      <td>-1.808196</td>\n",
       "    </tr>\n",
       "    <tr>\n",
       "      <th>1696</th>\n",
       "      <td>108879</td>\n",
       "      <td>1.009413</td>\n",
       "      <td>30.917213</td>\n",
       "      <td>[0.5473768834441572, 0.25856199310211164, 0.79...</td>\n",
       "      <td>[-0.1614904597851132, 0.8606713906583946, 0.48...</td>\n",
       "      <td>1141.630236</td>\n",
       "      <td>1354.101040</td>\n",
       "      <td>23.871195</td>\n",
       "    </tr>\n",
       "    <tr>\n",
       "      <th>1699</th>\n",
       "      <td>109109</td>\n",
       "      <td>1.426743</td>\n",
       "      <td>150.900710</td>\n",
       "      <td>[-0.6777950402412858, -0.4703667748149654, 0.5...</td>\n",
       "      <td>[0.3252059852826119, 0.7543789220234354, 0.570...</td>\n",
       "      <td>266.064805</td>\n",
       "      <td>259.306478</td>\n",
       "      <td>-0.355821</td>\n",
       "    </tr>\n",
       "    <tr>\n",
       "      <th>1704</th>\n",
       "      <td>109792</td>\n",
       "      <td>1.308242</td>\n",
       "      <td>172.967472</td>\n",
       "      <td>[-0.9718279488827187, -0.16479239208358723, 0....</td>\n",
       "      <td>[-0.19719529592425866, -0.9321866909708432, 0....</td>\n",
       "      <td>957.120056</td>\n",
       "      <td>409.903432</td>\n",
       "      <td>-7.969986</td>\n",
       "    </tr>\n",
       "  </tbody>\n",
       "</table>\n",
       "</div>"
      ],
      "text/plain": [
       "       EvNum  theta_reco    phi_reco  \\\n",
       "1673  107461    0.917386  152.560965   \n",
       "1688  108488    1.365345  298.892991   \n",
       "1696  108879    1.009413   30.917213   \n",
       "1699  109109    1.426743  150.900710   \n",
       "1704  109792    1.308242  172.967472   \n",
       "\n",
       "                                                PolTrue  \\\n",
       "1673  [0.5826966984304127, 0.681897937782828, -0.442...   \n",
       "1688  [0.2667154015973868, 0.7462468021996428, 0.609...   \n",
       "1696  [0.5473768834441572, 0.25856199310211164, 0.79...   \n",
       "1699  [-0.6777950402412858, -0.4703667748149654, 0.5...   \n",
       "1704  [-0.9718279488827187, -0.16479239208358723, 0....   \n",
       "\n",
       "                                                PolReco         rmsV  \\\n",
       "1673  [-0.6763307235095378, -0.6053611079812069, 0.4...  1079.428083   \n",
       "1688  [0.7305566031749336, 0.2521245758466412, 0.634...  1100.117463   \n",
       "1696  [-0.1614904597851132, 0.8606713906583946, 0.48...  1141.630236   \n",
       "1699  [0.3252059852826119, 0.7543789220234354, 0.570...   266.064805   \n",
       "1704  [-0.19719529592425866, -0.9321866909708432, 0....   957.120056   \n",
       "\n",
       "             rmsH      delta  \n",
       "1673  1246.529661 -51.053058  \n",
       "1688   908.042014  -1.808196  \n",
       "1696  1354.101040  23.871195  \n",
       "1699   259.306478  -0.355821  \n",
       "1704   409.903432  -7.969986  "
      ]
     },
     "execution_count": 5,
     "metadata": {},
     "output_type": "execute_result"
    }
   ],
   "source": [
    "recoNu.tail()"
   ]
  },
  {
   "cell_type": "code",
   "execution_count": 25,
   "metadata": {},
   "outputs": [
    {
     "data": {
      "image/png": "[encoded data removed]",
      "text/plain": [
       "<Figure size 504x360 with 1 Axes>"
      ]
     },
     "metadata": {},
     "output_type": "display_data"
    }
   ],
   "source": [
    "plt.figure(figsize=(7,5))\n",
    "# plt.hist(recoNu.AngStokes-np.degrees(np.arccos(abs(recoNu.pol_z))), bins=100, density=False, alpha=1);\n",
    "delta_std = (delta[delta>-25]).std()\n",
    "delta_mean = (delta[delta>-25]).mean()\n",
    "sns.distplot((delta[delta>-25]), bins=100,label = \"No noise [$\\mu$=%0.2f, $\\sigma$=%0.2f]\"%(delta_mean, delta_std));\n",
    "\n",
    "# delta_std = recoNu_noise.deltaTheta.std()\n",
    "# delta_mean = recoNu_noise.deltaTheta.mean()\n",
    "# plt.hist(recoNu_noise.deltaTheta, bins=500, density=True, alpha=0.5, color=\"C1\",label = \"W/noise [$\\mu$=%0.2f, $\\sigma$=%0.2f]\"%(delta_mean, delta_std));\n",
    "\n",
    "plt.xlabel(\"$\\\\theta_{reco}-\\\\theta_{true}$ [deg]\")\n",
    "# plt.xlabel(\"$\\\\theta$\")\n",
    "plt.ylabel('Counts [norm.]')\n",
    "# plt.title(\"Polarization reconstruction vs. MC truth \\n $10^{18}-10^{21}$ eV events (no cuts)\")\n",
    "plt.title(\"Polarization reconstruction vs. MC truth \\n $10^{18}-10^{21}$ eV events ($V_{peak}$+saturation cut)\")\n",
    "\n",
    "# plt.yscale(\"log\")\n",
    "# mplcyberpunk.add_glow_effects()\n",
    "# plt.yscale('log')\n",
    "plt.grid()\n",
    "plt.legend()\n",
    "plt.tight_layout()\n",
    "# plt.savefig(my_path_plots+'/Dumpster/recoVsTrue_AraSim_noCuts.pdf')\n",
    "# plt.savefig(my_path_plots+'/Dumpster/recoVsTrue_AraSim_Cuts.png', dpi=150)\n"
   ]
  },
  {
   "cell_type": "code",
   "execution_count": 22,
   "metadata": {},
   "outputs": [
    {
     "data": {
      "image/png": "[encoded data removed]",
      "text/plain": [
       "<Figure size 504x360 with 1 Axes>"
      ]
     },
     "metadata": {},
     "output_type": "display_data"
    }
   ],
   "source": [
    "plt.figure(figsize=(7,5))\n",
    "# plt.hist(recoNu.AngStokes-np.degrees(np.arccos(abs(recoNu.pol_z))), bins=100, density=False, alpha=1);\n",
    "delta_std = (deltaPhi).std()\n",
    "delta_mean = (deltaPhi).mean()\n",
    "plt.hist((deltaPhi), bins=100, density=False, alpha=0.7,label = \"No noise [$\\mu$=%0.2f, $\\sigma$=%0.2f]\"%(delta_mean, delta_std));\n",
    "\n",
    "# delta_std = recoNu_noise.deltaTheta.std()\n",
    "# delta_mean = recoNu_noise.deltaTheta.mean()\n",
    "# plt.hist(recoNu_noise.deltaTheta, bins=500, density=True, alpha=0.5, color=\"C1\",label = \"W/noise [$\\mu$=%0.2f, $\\sigma$=%0.2f]\"%(delta_mean, delta_std));\n",
    "\n",
    "plt.xlabel(\"$\\phi_{reco}-\\phi_{true}$ [deg]\")\n",
    "# plt.xlabel(\"$\\\\theta$\")\n",
    "plt.ylabel('Counts [norm.]')\n",
    "# plt.title(\"Polarization reconstruction vs. MC truth \\n $10^{18}-10^{21}$ eV events (no cuts)\")\n",
    "plt.title(\"Polarization reconstruction vs. MC truth \\n $10^{18}-10^{21}$ eV events ($V_{peak}$+saturation cut)\")\n",
    "\n",
    "# plt.yscale(\"log\")\n",
    "# mplcyberpunk.add_glow_effects()\n",
    "# plt.yscale('log')\n",
    "plt.grid()\n",
    "plt.legend()\n",
    "plt.tight_layout()\n",
    "# plt.savefig(my_path_plots+'/Dumpster/recoVsTrue_AraSim_noCuts.pdf')\n",
    "# plt.savefig(my_path_plots+'/Dumpster/recoVsTrue_AraSim_Cuts.png', dpi=150)\n"
   ]
  },
  {
   "cell_type": "code",
   "execution_count": 7,
   "metadata": {},
   "outputs": [
    {
     "data": {
      "image/png": "[encoded data removed]",
      "text/plain": [
       "<Figure size 576x360 with 2 Axes>"
      ]
     },
     "metadata": {},
     "output_type": "display_data"
    }
   ],
   "source": [
    "plt.figure(figsize=(8,5))\n",
    "plt.hist2d(deltaPhi,delta, bins=100, normed=True,norm=mpl.colors.LogNorm());\n",
    "# plt.hist2d(90-recoNu_noise.AngStokes,recoNu_noise.AngStokes-recoNu_noise.theta_pol, bins=100, normed=True,norm=mpl.colors.LogNorm());\n",
    "# plt.title(\"No noise, no cuts\")\n",
    "plt.title(\"No noise, w/cuts\")\n",
    "# plt.hist2d(angle_Stokes,angle_Stokes-angle_true)\n",
    "plt.grid()\n",
    "plt.colorbar(label=\"Counts [norm]\")\n",
    "plt.xlabel(\"$\\\\theta_{true}$ [deg]\")\n",
    "plt.ylabel(\"$\\\\theta_{reco}-\\\\theta_{true}$ [deg]\")\n",
    "# plt.title(\"$10^{21}$ eV neutrinos\")\n",
    "plt.tight_layout()\n",
    "# plt.xlim(0,90)\n",
    "# plt.savefig(my_path_plots+'/Dumpster/deltaMCvsTrue_AraSim_noiseless_noCuts.pdf')\n",
    "# plt.savefig(my_path_plots+'/Dumpster/deltaMCvsTrue_AraSim_noiseless_Cuts.pdf')\n",
    "# plt.savefig(my_path_plots+'/Dumpster/deltaMCvsReco_AraSim_noiseless_noCuts.png', dpi=150)"
   ]
  },
  {
   "cell_type": "code",
   "execution_count": 72,
   "metadata": {},
   "outputs": [
    {
     "data": {
      "image/png": "[encoded data removed]",
      "text/plain": [
       "<Figure size 576x360 with 2 Axes>"
      ]
     },
     "metadata": {},
     "output_type": "display_data"
    }
   ],
   "source": [
    "plt.figure(figsize=(8,5))\n",
    "plt.hist2d(thetaPol_true,delta, bins=100, normed=True,norm=mpl.colors.LogNorm());\n",
    "# plt.hist2d(90-recoNu_noise.AngStokes,recoNu_noise.AngStokes-recoNu_noise.theta_pol, bins=100, normed=True,norm=mpl.colors.LogNorm());\n",
    "# plt.title(\"No noise, no cuts\")\n",
    "plt.title(\"No noise, w/cuts\")\n",
    "# plt.hist2d(angle_Stokes,angle_Stokes-angle_true)\n",
    "plt.grid()\n",
    "plt.colorbar(label=\"Counts [norm]\")\n",
    "plt.xlabel(\"$\\\\theta_{true}$ [deg]\")\n",
    "plt.ylabel(\"$\\\\theta_{reco}-\\\\theta_{true}$ [deg]\")\n",
    "# plt.title(\"$10^{21}$ eV neutrinos\")\n",
    "plt.tight_layout()\n",
    "# plt.xlim(0,90)\n",
    "# plt.savefig(my_path_plots+'/Dumpster/deltaMCvsTrue_AraSim_noiseless_noCuts.pdf')\n",
    "# plt.savefig(my_path_plots+'/Dumpster/deltaMCvsTrue_AraSim_noiseless_Cuts.pdf')\n",
    "# plt.savefig(my_path_plots+'/Dumpster/deltaMCvsReco_AraSim_noiseless_noCuts.png', dpi=150)"
   ]
  },
  {
   "cell_type": "code",
   "execution_count": 83,
   "metadata": {},
   "outputs": [
    {
     "data": {
      "image/png": "[encoded data removed]",
      "text/plain": [
       "<Figure size 432x288 with 1 Axes>"
      ]
     },
     "metadata": {},
     "output_type": "display_data"
    }
   ],
   "source": [
    "sns.distplot(Pz_true-Pz_reco, bins = 200);"
   ]
  },
  {
   "cell_type": "code",
   "execution_count": 93,
   "metadata": {},
   "outputs": [
    {
     "data": {
      "text/plain": [
       "<matplotlib.legend.Legend at 0x2b5408ec2400>"
      ]
     },
     "execution_count": 93,
     "metadata": {},
     "output_type": "execute_result"
    },
    {
     "data": {
      "image/png": "[encoded data removed]",
      "text/plain": [
       "<Figure size 432x288 with 1 Axes>"
      ]
     },
     "metadata": {},
     "output_type": "display_data"
    }
   ],
   "source": [
    "# Pz_true = Pz_true[Pz_true<0]\n",
    "sns.distplot(thetaPol_reco, bins=200, label = \"Reco\");\n",
    "sns.distplot(thetaPol_true, bins=200, label = \"True\");\n",
    "plt.legend()"
   ]
  },
  {
   "cell_type": "code",
   "execution_count": 73,
   "metadata": {},
   "outputs": [
    {
     "data": {
      "image/png": "[encoded data removed]",
      "text/plain": [
       "<Figure size 1080x360 with 3 Axes>"
      ]
     },
     "metadata": {},
     "output_type": "display_data"
    }
   ],
   "source": [
    "fig, (ax1, ax2, ax3) = plt.subplots(1, 3,figsize=(15,5))\n",
    "ax1.hist(Px_true, bins=200, normed=False, alpha=0.5, label= \"True\");\n",
    "ax1.hist(Px_reco, bins=200, normed=False,alpha=0.4, label= \"Reco\");\n",
    "ax1.set_xlabel(\"$P_x$\")\n",
    "ax1.legend()\n",
    "\n",
    "ax2.hist(Py_true, bins=200, normed=False, alpha=0.5, label= \"True\");\n",
    "ax2.hist(Py_reco, bins=200, normed=False,alpha=0.4, label= \"Reco\");\n",
    "ax2.set_xlabel(\"$P_y$\")\n",
    "ax2.legend()\n",
    "\n",
    "ax3.hist(Pz_true, bins=200, normed=False, alpha=0.5, label= \"True\");\n",
    "ax3.hist(Pz_reco, bins=200, normed=False,alpha=0.4, label= \"Reco\");\n",
    "ax3.set_xlabel(\"$P_z$\")\n",
    "ax3.legend()\n",
    "\n",
    "# plt.grid()\n",
    "# plt.legend()\n",
    "plt.tight_layout()\n",
    "plt.savefig(my_path_plots+'/Dumpster/recoVsTrue_PxPyPz.png', dpi=150)\n"
   ]
  },
  {
   "cell_type": "code",
   "execution_count": 85,
   "metadata": {},
   "outputs": [
    {
     "data": {
      "text/plain": [
       "array([0.53652086, 0.50085033, 0.67918651])"
      ]
     },
     "execution_count": 85,
     "metadata": {},
     "output_type": "execute_result"
    }
   ],
   "source": [
    "util.PolVectorReco(821.799,881.427,1.481+np.pi,5.380)"
   ]
  },
  {
   "cell_type": "code",
   "execution_count": 86,
   "metadata": {},
   "outputs": [
    {
     "data": {
      "text/plain": [
       "array([ 0.61224182,  0.40480321, -0.67918651])"
      ]
     },
     "execution_count": 86,
     "metadata": {},
     "output_type": "execute_result"
    }
   ],
   "source": [
    "util.PolVectorReco(821.799,881.427,1.481,5.380)"
   ]
  },
  {
   "cell_type": "code",
   "execution_count": 73,
   "metadata": {},
   "outputs": [
    {
     "data": {
      "text/plain": [
       "(0.426, 0.634, 0.646)"
      ]
     },
     "execution_count": 73,
     "metadata": {},
     "output_type": "execute_result"
    }
   ],
   "source": [
    "(0.426,0.634,0.646)"
   ]
  },
  {
   "cell_type": "code",
   "execution_count": null,
   "metadata": {},
   "outputs": [],
   "source": [
    "plt.hist(recoNu.phi_reco, bins=100);"
   ]
  },
  {
   "cell_type": "code",
   "execution_count": 11,
   "metadata": {},
   "outputs": [],
   "source": [
    "def findMaxSign(s1):\n",
    "    if(abs(max(s1))>=abs(min(s1))):\n",
    "        value = max(s1)\n",
    "    else:\n",
    "        value = min(s1)\n",
    "    return value"
   ]
  },
  {
   "cell_type": "code",
   "execution_count": 15,
   "metadata": {},
   "outputs": [],
   "source": [
    "s = np.array([1,-3,2,-1,3])"
   ]
  },
  {
   "cell_type": "code",
   "execution_count": 16,
   "metadata": {},
   "outputs": [
    {
     "data": {
      "text/plain": [
       "3"
      ]
     },
     "execution_count": 16,
     "metadata": {},
     "output_type": "execute_result"
    }
   ],
   "source": [
    "findMaxSign(s)"
   ]
  },
  {
   "cell_type": "code",
   "execution_count": 9,
   "metadata": {},
   "outputs": [
    {
     "data": {
      "text/html": [
       "<div>\n",
       "<style scoped>\n",
       "    .dataframe tbody tr th:only-of-type {\n",
       "        vertical-align: middle;\n",
       "    }\n",
       "\n",
       "    .dataframe tbody tr th {\n",
       "        vertical-align: top;\n",
       "    }\n",
       "\n",
       "    .dataframe thead th {\n",
       "        text-align: right;\n",
       "    }\n",
       "</style>\n",
       "<table border=\"1\" class=\"dataframe\">\n",
       "  <thead>\n",
       "    <tr style=\"text-align: right;\">\n",
       "      <th></th>\n",
       "      <th>EvNum</th>\n",
       "      <th>theta_reco</th>\n",
       "      <th>phi_reco</th>\n",
       "      <th>PolTrue</th>\n",
       "      <th>PolReco</th>\n",
       "      <th>rmsV</th>\n",
       "      <th>rmsH</th>\n",
       "      <th>delta</th>\n",
       "    </tr>\n",
       "  </thead>\n",
       "  <tbody>\n",
       "    <tr>\n",
       "      <th>139</th>\n",
       "      <td>13705</td>\n",
       "      <td>84.572956</td>\n",
       "      <td>115.422098</td>\n",
       "      <td>[-0.14956978767233234, -0.09507879522878132, -...</td>\n",
       "      <td>[0.5016762169105584, 0.14881219723846717, 0.85...</td>\n",
       "      <td>531.576924</td>\n",
       "      <td>234.433435</td>\n",
       "      <td>-138.238778</td>\n",
       "    </tr>\n",
       "    <tr>\n",
       "      <th>188</th>\n",
       "      <td>13461</td>\n",
       "      <td>86.432989</td>\n",
       "      <td>345.148337</td>\n",
       "      <td>[-0.357684598197105, -0.15534809974035774, -0....</td>\n",
       "      <td>[0.011251418529540369, 0.2761574084519752, 0.9...</td>\n",
       "      <td>1358.312786</td>\n",
       "      <td>221.265820</td>\n",
       "      <td>-141.003131</td>\n",
       "    </tr>\n",
       "    <tr>\n",
       "      <th>262</th>\n",
       "      <td>19258</td>\n",
       "      <td>75.448936</td>\n",
       "      <td>85.567624</td>\n",
       "      <td>[-0.2444057162623606, -0.10688120168650476, -0...</td>\n",
       "      <td>[-0.4227936489117761, -0.19749033552771172, 0....</td>\n",
       "      <td>320.823226</td>\n",
       "      <td>232.812350</td>\n",
       "      <td>-136.712102</td>\n",
       "    </tr>\n",
       "    <tr>\n",
       "      <th>910</th>\n",
       "      <td>77311</td>\n",
       "      <td>78.927970</td>\n",
       "      <td>283.657327</td>\n",
       "      <td>[0.16610715371835466, -0.1224646027600148, -0....</td>\n",
       "      <td>[-0.4439864419384628, 0.07197745558503559, 0.8...</td>\n",
       "      <td>1373.880453</td>\n",
       "      <td>432.194950</td>\n",
       "      <td>-141.360447</td>\n",
       "    </tr>\n",
       "    <tr>\n",
       "      <th>984</th>\n",
       "      <td>84065</td>\n",
       "      <td>83.887525</td>\n",
       "      <td>228.294653</td>\n",
       "      <td>[-0.15248713279107567, 0.3185434653351006, -0....</td>\n",
       "      <td>[-0.217726991798559, 0.3259840617847816, 0.919...</td>\n",
       "      <td>799.776012</td>\n",
       "      <td>215.580513</td>\n",
       "      <td>-136.239728</td>\n",
       "    </tr>\n",
       "    <tr>\n",
       "      <th>250</th>\n",
       "      <td>19985</td>\n",
       "      <td>78.830305</td>\n",
       "      <td>207.946440</td>\n",
       "      <td>[-0.22299845802662566, 0.321736596351884, -0.9...</td>\n",
       "      <td>[0.341161763489813, -0.2628228037764818, 0.902...</td>\n",
       "      <td>957.994696</td>\n",
       "      <td>262.628234</td>\n",
       "      <td>-131.445091</td>\n",
       "    </tr>\n",
       "    <tr>\n",
       "      <th>622</th>\n",
       "      <td>50515</td>\n",
       "      <td>84.770229</td>\n",
       "      <td>282.387891</td>\n",
       "      <td>[0.039534701437881244, -0.22961184948364277, -...</td>\n",
       "      <td>[-0.4515986846515834, -0.015590474927569015, 0...</td>\n",
       "      <td>769.782064</td>\n",
       "      <td>234.742501</td>\n",
       "      <td>-139.663220</td>\n",
       "    </tr>\n",
       "    <tr>\n",
       "      <th>986</th>\n",
       "      <td>78216</td>\n",
       "      <td>86.773141</td>\n",
       "      <td>3.064384</td>\n",
       "      <td>[-0.08358969265905125, -0.05336732581747243, -...</td>\n",
       "      <td>[-0.030693064427940335, -0.3950028727560122, 0...</td>\n",
       "      <td>839.770872</td>\n",
       "      <td>206.010774</td>\n",
       "      <td>-150.968009</td>\n",
       "    </tr>\n",
       "    <tr>\n",
       "      <th>1227</th>\n",
       "      <td>99370</td>\n",
       "      <td>85.059053</td>\n",
       "      <td>209.470479</td>\n",
       "      <td>[-0.20614938019157722, 0.20906252569837255, -0...</td>\n",
       "      <td>[0.2894104452936439, -0.35601254027203016, 0.8...</td>\n",
       "      <td>900.313188</td>\n",
       "      <td>287.393918</td>\n",
       "      <td>-135.615896</td>\n",
       "    </tr>\n",
       "    <tr>\n",
       "      <th>329</th>\n",
       "      <td>22224</td>\n",
       "      <td>83.368615</td>\n",
       "      <td>309.991170</td>\n",
       "      <td>[-0.10185064824891266, -0.29320646790357024, -...</td>\n",
       "      <td>[0.24913252540004666, 0.3462304443580429, 0.90...</td>\n",
       "      <td>992.726891</td>\n",
       "      <td>284.319653</td>\n",
       "      <td>-136.668469</td>\n",
       "    </tr>\n",
       "    <tr>\n",
       "      <th>1094</th>\n",
       "      <td>75744</td>\n",
       "      <td>84.930986</td>\n",
       "      <td>242.956130</td>\n",
       "      <td>[-0.1139926973748007, 0.3966745189231168, -0.9...</td>\n",
       "      <td>[0.3416353225201265, -0.08115123201616872, 0.9...</td>\n",
       "      <td>1391.328218</td>\n",
       "      <td>309.886040</td>\n",
       "      <td>-135.066496</td>\n",
       "    </tr>\n",
       "    <tr>\n",
       "      <th>450</th>\n",
       "      <td>32234</td>\n",
       "      <td>87.802155</td>\n",
       "      <td>3.215423</td>\n",
       "      <td>[-0.15886827950758486, -0.030659969519359974, ...</td>\n",
       "      <td>[0.006681568406730408, -0.642962156404695, 0.7...</td>\n",
       "      <td>810.647558</td>\n",
       "      <td>427.215551</td>\n",
       "      <td>-130.672970</td>\n",
       "    </tr>\n",
       "    <tr>\n",
       "      <th>1405</th>\n",
       "      <td>97218</td>\n",
       "      <td>81.647243</td>\n",
       "      <td>145.892896</td>\n",
       "      <td>[-0.08217590961933166, 0.11929326988244893, -0...</td>\n",
       "      <td>[-0.16488917814187778, -0.47045915112868475, 0...</td>\n",
       "      <td>613.840684</td>\n",
       "      <td>216.402742</td>\n",
       "      <td>-141.768955</td>\n",
       "    </tr>\n",
       "    <tr>\n",
       "      <th>580</th>\n",
       "      <td>39139</td>\n",
       "      <td>68.653227</td>\n",
       "      <td>33.737507</td>\n",
       "      <td>[-0.12813288210338977, -0.35281604357896945, -...</td>\n",
       "      <td>[-0.4392719429540142, 0.025821145714884284, 0....</td>\n",
       "      <td>1226.181224</td>\n",
       "      <td>219.742588</td>\n",
       "      <td>-131.847457</td>\n",
       "    </tr>\n",
       "    <tr>\n",
       "      <th>1119</th>\n",
       "      <td>72366</td>\n",
       "      <td>69.835223</td>\n",
       "      <td>260.544298</td>\n",
       "      <td>[0.34040670357324904, 0.04393587835678537, -0....</td>\n",
       "      <td>[0.39616736099692945, 0.2616713325610303, 0.88...</td>\n",
       "      <td>1008.603611</td>\n",
       "      <td>252.265148</td>\n",
       "      <td>-131.580862</td>\n",
       "    </tr>\n",
       "    <tr>\n",
       "      <th>1275</th>\n",
       "      <td>81495</td>\n",
       "      <td>70.324358</td>\n",
       "      <td>12.174720</td>\n",
       "      <td>[-0.17749926716951353, -0.3059257275126, -0.93...</td>\n",
       "      <td>[-0.37860035504121364, 0.23857671502764552, 0....</td>\n",
       "      <td>976.260739</td>\n",
       "      <td>212.486466</td>\n",
       "      <td>-132.703369</td>\n",
       "    </tr>\n",
       "    <tr>\n",
       "      <th>1419</th>\n",
       "      <td>90756</td>\n",
       "      <td>79.010338</td>\n",
       "      <td>91.176633</td>\n",
       "      <td>[-0.1928955745195838, -0.1621495474733174, -0....</td>\n",
       "      <td>[-0.2885243591905804, -0.18826907946699784, 0....</td>\n",
       "      <td>1178.269639</td>\n",
       "      <td>217.609828</td>\n",
       "      <td>-145.252160</td>\n",
       "    </tr>\n",
       "  </tbody>\n",
       "</table>\n",
       "</div>"
      ],
      "text/plain": [
       "      EvNum  theta_reco    phi_reco  \\\n",
       "139   13705   84.572956  115.422098   \n",
       "188   13461   86.432989  345.148337   \n",
       "262   19258   75.448936   85.567624   \n",
       "910   77311   78.927970  283.657327   \n",
       "984   84065   83.887525  228.294653   \n",
       "250   19985   78.830305  207.946440   \n",
       "622   50515   84.770229  282.387891   \n",
       "986   78216   86.773141    3.064384   \n",
       "1227  99370   85.059053  209.470479   \n",
       "329   22224   83.368615  309.991170   \n",
       "1094  75744   84.930986  242.956130   \n",
       "450   32234   87.802155    3.215423   \n",
       "1405  97218   81.647243  145.892896   \n",
       "580   39139   68.653227   33.737507   \n",
       "1119  72366   69.835223  260.544298   \n",
       "1275  81495   70.324358   12.174720   \n",
       "1419  90756   79.010338   91.176633   \n",
       "\n",
       "                                                PolTrue  \\\n",
       "139   [-0.14956978767233234, -0.09507879522878132, -...   \n",
       "188   [-0.357684598197105, -0.15534809974035774, -0....   \n",
       "262   [-0.2444057162623606, -0.10688120168650476, -0...   \n",
       "910   [0.16610715371835466, -0.1224646027600148, -0....   \n",
       "984   [-0.15248713279107567, 0.3185434653351006, -0....   \n",
       "250   [-0.22299845802662566, 0.321736596351884, -0.9...   \n",
       "622   [0.039534701437881244, -0.22961184948364277, -...   \n",
       "986   [-0.08358969265905125, -0.05336732581747243, -...   \n",
       "1227  [-0.20614938019157722, 0.20906252569837255, -0...   \n",
       "329   [-0.10185064824891266, -0.29320646790357024, -...   \n",
       "1094  [-0.1139926973748007, 0.3966745189231168, -0.9...   \n",
       "450   [-0.15886827950758486, -0.030659969519359974, ...   \n",
       "1405  [-0.08217590961933166, 0.11929326988244893, -0...   \n",
       "580   [-0.12813288210338977, -0.35281604357896945, -...   \n",
       "1119  [0.34040670357324904, 0.04393587835678537, -0....   \n",
       "1275  [-0.17749926716951353, -0.3059257275126, -0.93...   \n",
       "1419  [-0.1928955745195838, -0.1621495474733174, -0....   \n",
       "\n",
       "                                                PolReco         rmsV  \\\n",
       "139   [0.5016762169105584, 0.14881219723846717, 0.85...   531.576924   \n",
       "188   [0.011251418529540369, 0.2761574084519752, 0.9...  1358.312786   \n",
       "262   [-0.4227936489117761, -0.19749033552771172, 0....   320.823226   \n",
       "910   [-0.4439864419384628, 0.07197745558503559, 0.8...  1373.880453   \n",
       "984   [-0.217726991798559, 0.3259840617847816, 0.919...   799.776012   \n",
       "250   [0.341161763489813, -0.2628228037764818, 0.902...   957.994696   \n",
       "622   [-0.4515986846515834, -0.015590474927569015, 0...   769.782064   \n",
       "986   [-0.030693064427940335, -0.3950028727560122, 0...   839.770872   \n",
       "1227  [0.2894104452936439, -0.35601254027203016, 0.8...   900.313188   \n",
       "329   [0.24913252540004666, 0.3462304443580429, 0.90...   992.726891   \n",
       "1094  [0.3416353225201265, -0.08115123201616872, 0.9...  1391.328218   \n",
       "450   [0.006681568406730408, -0.642962156404695, 0.7...   810.647558   \n",
       "1405  [-0.16488917814187778, -0.47045915112868475, 0...   613.840684   \n",
       "580   [-0.4392719429540142, 0.025821145714884284, 0....  1226.181224   \n",
       "1119  [0.39616736099692945, 0.2616713325610303, 0.88...  1008.603611   \n",
       "1275  [-0.37860035504121364, 0.23857671502764552, 0....   976.260739   \n",
       "1419  [-0.2885243591905804, -0.18826907946699784, 0....  1178.269639   \n",
       "\n",
       "            rmsH       delta  \n",
       "139   234.433435 -138.238778  \n",
       "188   221.265820 -141.003131  \n",
       "262   232.812350 -136.712102  \n",
       "910   432.194950 -141.360447  \n",
       "984   215.580513 -136.239728  \n",
       "250   262.628234 -131.445091  \n",
       "622   234.742501 -139.663220  \n",
       "986   206.010774 -150.968009  \n",
       "1227  287.393918 -135.615896  \n",
       "329   284.319653 -136.668469  \n",
       "1094  309.886040 -135.066496  \n",
       "450   427.215551 -130.672970  \n",
       "1405  216.402742 -141.768955  \n",
       "580   219.742588 -131.847457  \n",
       "1119  252.265148 -131.580862  \n",
       "1275  212.486466 -132.703369  \n",
       "1419  217.609828 -145.252160  "
      ]
     },
     "execution_count": 9,
     "metadata": {},
     "output_type": "execute_result"
    }
   ],
   "source": [
    "tail = recoNu.loc[recoNu.delta<-130]\n",
    "tail.theta_reco = np.degrees(tail.theta_reco)\n",
    "\n",
    "tail2 = recoNu.loc[recoNu.delta>130]\n",
    "tail2.theta_reco = np.degrees(tail2.theta_reco)\n",
    "\n",
    "tail"
   ]
  },
  {
   "cell_type": "code",
   "execution_count": 10,
   "metadata": {},
   "outputs": [
    {
     "data": {
      "text/plain": [
       "array([-0.3576846 , -0.1553481 , -0.92083044])"
      ]
     },
     "execution_count": 10,
     "metadata": {},
     "output_type": "execute_result"
    }
   ],
   "source": [
    "tail.PolTrue[188]"
   ]
  },
  {
   "cell_type": "code",
   "execution_count": 11,
   "metadata": {},
   "outputs": [
    {
     "data": {
      "text/plain": [
       "array([0.01125142, 0.27615741, 0.96104656])"
      ]
     },
     "execution_count": 11,
     "metadata": {},
     "output_type": "execute_result"
    }
   ],
   "source": [
    "tail.PolReco[188]"
   ]
  },
  {
   "cell_type": "code",
   "execution_count": 12,
   "metadata": {},
   "outputs": [
    {
     "data": {
      "image/png": "[encoded data removed]",
      "text/plain": [
       "<Figure size 432x288 with 1 Axes>"
      ]
     },
     "metadata": {},
     "output_type": "display_data"
    }
   ],
   "source": [
    "plt.hist(180-tail.theta_reco, density=True, alpha = 0.4);\n",
    "plt.hist(180-np.degrees(recoNu.theta_reco), bins=100, alpha =0.4, density=True);\n",
    "plt.hist(180-tail2.theta_reco, density=True, alpha = 0.4);\n"
   ]
  },
  {
   "cell_type": "code",
   "execution_count": null,
   "metadata": {},
   "outputs": [],
   "source": []
  }
 ],
 "metadata": {
  "kernelspec": {
   "display_name": "Python 3.6 (Conda 5.2) [python/3.6-conda5.2]",
   "language": "python",
   "name": "sys_python36conda"
  },
  "language_info": {
   "codemirror_mode": {
    "name": "ipython",
    "version": 3
   },
   "file_extension": ".py",
   "mimetype": "text/x-python",
   "name": "python",
   "nbconvert_exporter": "python",
   "pygments_lexer": "ipython3",
   "version": "3.6.6"
  }
 },
 "nbformat": 4,
 "nbformat_minor": 4
}
