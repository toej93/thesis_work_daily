{
 "cells": [
  {
   "cell_type": "markdown",
   "metadata": {},
   "source": [
    "# Polarization reconstruction with neutrinos"
   ]
  },
  {
   "cell_type": "markdown",
   "metadata": {},
   "source": [
    "### Oct 9, 2020"
   ]
  },
  {
   "cell_type": "markdown",
   "metadata": {},
   "source": [
    "## Code"
   ]
  },
  {
   "cell_type": "code",
   "execution_count": 3,
   "metadata": {},
   "outputs": [],
   "source": [
    "import sys\n",
    "import csv\n",
    "# sys.path.insert(0,\"/users/PCON0003/cond0068/.local/lib/python3.7/\")\n",
    "sys.path.append(\"/users/PAS0654/osu8354/ARA_cvmfs/root_build/lib/\") # go to parent dir\n",
    "sys.path.append(\"/users/PCON0003/cond0068/.local/lib/python3.7/site-packages/\")\n",
    "# sys.path.append(\"/users/PCON0003/cond0068/pyrex_sims/fromBen/thesis_work/pyrex-custom/analysis/custom/analysis/\")\n",
    "import ROOT\n",
    "import math\n",
    "import numpy as np\n",
    "from ROOT import TH1D,TF1, gRandom, gPad, gStyle\n",
    "import matplotlib as mpl\n",
    "import matplotlib.pyplot as plt\n",
    "from ROOT import TChain, TSelector, TTree\n",
    "import os\n",
    "import matplotlib.colors as mcolors\n",
    "import scipy\n",
    "from matplotlib.colors import LogNorm\n",
    "import pandas as pd\n",
    "import pyrex\n",
    "import seaborn as sns\n",
    "%matplotlib inline\n",
    "sys.path.insert(1, \"/users/PAS0654/osu8354/ARA_cvmfs/source/AraRoot/analysis/ARA_analysis/CenA_sourceSearch/Stokes\")\n",
    "import deDisperse_util as util\n",
    "from pyrex.internal_functions import normalize\n",
    "my_path_plots = os.path.abspath(\"./plots/\")"
   ]
  },
  {
   "cell_type": "code",
   "execution_count": 4,
   "metadata": {},
   "outputs": [],
   "source": [
    "# mpl.use('agg') \n",
    "mpl.rcParams['text.usetex'] = True\n",
    "mpl.rcParams['text.latex.unicode'] = True\n",
    "mpl.rcParams['mathtext.rm'] = 'Times New Roman'\n",
    "mpl.rcParams['mathtext.it'] = 'Times New Roman:italic'\n",
    "mpl.rcParams['mathtext.bf'] = 'Times New Roman:bold'\n",
    "\n",
    "mpl.rc('font', family='serif', size=12)\n",
    "mpl.rcParams['xtick.labelsize'] = 14\n",
    "mpl.rcParams['ytick.labelsize'] = 14\n",
    "mpl.rcParams['xtick.major.size'] = 5\n",
    "mpl.rcParams['ytick.major.size'] = 5\n",
    "\n",
    "mpl.rcParams['axes.titlesize'] = 18\n",
    "mpl.rcParams['axes.labelsize'] = 18\n",
    "# mpl.rc('font', size=16)\n",
    "mpl.rc('axes', titlesize=20)\n",
    "\n",
    "current_palette = sns.color_palette('colorblind', 10)\n",
    "import warnings\n",
    "warnings.filterwarnings(\"ignore\")\n"
   ]
  },
  {
   "cell_type": "markdown",
   "metadata": {},
   "source": [
    "## Gather data"
   ]
  },
  {
   "cell_type": "code",
   "execution_count": 77,
   "metadata": {},
   "outputs": [
    {
     "data": {
      "text/html": [
       "<div>\n",
       "<style scoped>\n",
       "    .dataframe tbody tr th:only-of-type {\n",
       "        vertical-align: middle;\n",
       "    }\n",
       "\n",
       "    .dataframe tbody tr th {\n",
       "        vertical-align: top;\n",
       "    }\n",
       "\n",
       "    .dataframe thead th {\n",
       "        text-align: right;\n",
       "    }\n",
       "</style>\n",
       "<table border=\"1\" class=\"dataframe\">\n",
       "  <thead>\n",
       "    <tr style=\"text-align: right;\">\n",
       "      <th></th>\n",
       "      <th>EvNum</th>\n",
       "      <th>theta_reco</th>\n",
       "      <th>phi_reco</th>\n",
       "      <th>pol_x</th>\n",
       "      <th>pol_y</th>\n",
       "      <th>pol_z</th>\n",
       "      <th>AngStokes</th>\n",
       "      <th>AngRatio</th>\n",
       "      <th>rms</th>\n",
       "    </tr>\n",
       "  </thead>\n",
       "  <tbody>\n",
       "    <tr>\n",
       "      <th>0</th>\n",
       "      <td>20</td>\n",
       "      <td>180.0</td>\n",
       "      <td>0.0</td>\n",
       "      <td>-0.493117</td>\n",
       "      <td>-0.869447</td>\n",
       "      <td>-0.029949</td>\n",
       "      <td>89.681451</td>\n",
       "      <td>89.681451</td>\n",
       "      <td>inf</td>\n",
       "    </tr>\n",
       "    <tr>\n",
       "      <th>1</th>\n",
       "      <td>81</td>\n",
       "      <td>180.0</td>\n",
       "      <td>0.0</td>\n",
       "      <td>-0.031895</td>\n",
       "      <td>-0.110548</td>\n",
       "      <td>-0.993359</td>\n",
       "      <td>3.643037</td>\n",
       "      <td>3.643037</td>\n",
       "      <td>inf</td>\n",
       "    </tr>\n",
       "    <tr>\n",
       "      <th>2</th>\n",
       "      <td>138</td>\n",
       "      <td>180.0</td>\n",
       "      <td>0.0</td>\n",
       "      <td>-0.184691</td>\n",
       "      <td>-0.357834</td>\n",
       "      <td>-0.915338</td>\n",
       "      <td>77.287946</td>\n",
       "      <td>77.287946</td>\n",
       "      <td>inf</td>\n",
       "    </tr>\n",
       "    <tr>\n",
       "      <th>3</th>\n",
       "      <td>144</td>\n",
       "      <td>180.0</td>\n",
       "      <td>0.0</td>\n",
       "      <td>-0.335761</td>\n",
       "      <td>-0.199976</td>\n",
       "      <td>-0.920475</td>\n",
       "      <td>74.049778</td>\n",
       "      <td>74.049778</td>\n",
       "      <td>inf</td>\n",
       "    </tr>\n",
       "    <tr>\n",
       "      <th>4</th>\n",
       "      <td>316</td>\n",
       "      <td>180.0</td>\n",
       "      <td>0.0</td>\n",
       "      <td>-0.525521</td>\n",
       "      <td>-0.458821</td>\n",
       "      <td>-0.716457</td>\n",
       "      <td>75.961872</td>\n",
       "      <td>75.961872</td>\n",
       "      <td>inf</td>\n",
       "    </tr>\n",
       "    <tr>\n",
       "      <th>...</th>\n",
       "      <td>...</td>\n",
       "      <td>...</td>\n",
       "      <td>...</td>\n",
       "      <td>...</td>\n",
       "      <td>...</td>\n",
       "      <td>...</td>\n",
       "      <td>...</td>\n",
       "      <td>...</td>\n",
       "      <td>...</td>\n",
       "    </tr>\n",
       "    <tr>\n",
       "      <th>3474</th>\n",
       "      <td>219752</td>\n",
       "      <td>107.0</td>\n",
       "      <td>318.0</td>\n",
       "      <td>0.580837</td>\n",
       "      <td>0.350199</td>\n",
       "      <td>0.734840</td>\n",
       "      <td>61.867772</td>\n",
       "      <td>61.867772</td>\n",
       "      <td>64.546555</td>\n",
       "    </tr>\n",
       "    <tr>\n",
       "      <th>3475</th>\n",
       "      <td>219779</td>\n",
       "      <td>107.0</td>\n",
       "      <td>331.0</td>\n",
       "      <td>-0.358357</td>\n",
       "      <td>-0.112565</td>\n",
       "      <td>-0.926774</td>\n",
       "      <td>34.478879</td>\n",
       "      <td>34.478879</td>\n",
       "      <td>149.837636</td>\n",
       "    </tr>\n",
       "    <tr>\n",
       "      <th>3476</th>\n",
       "      <td>219812</td>\n",
       "      <td>180.0</td>\n",
       "      <td>0.0</td>\n",
       "      <td>-0.675164</td>\n",
       "      <td>0.729093</td>\n",
       "      <td>-0.112148</td>\n",
       "      <td>0.000000</td>\n",
       "      <td>0.000000</td>\n",
       "      <td>NaN</td>\n",
       "    </tr>\n",
       "    <tr>\n",
       "      <th>3477</th>\n",
       "      <td>219979</td>\n",
       "      <td>180.0</td>\n",
       "      <td>0.0</td>\n",
       "      <td>-0.625864</td>\n",
       "      <td>-0.713860</td>\n",
       "      <td>-0.314161</td>\n",
       "      <td>88.182879</td>\n",
       "      <td>88.182879</td>\n",
       "      <td>inf</td>\n",
       "    </tr>\n",
       "    <tr>\n",
       "      <th>3478</th>\n",
       "      <td>219986</td>\n",
       "      <td>180.0</td>\n",
       "      <td>0.0</td>\n",
       "      <td>-0.544992</td>\n",
       "      <td>0.713312</td>\n",
       "      <td>-0.440646</td>\n",
       "      <td>81.044644</td>\n",
       "      <td>81.044644</td>\n",
       "      <td>inf</td>\n",
       "    </tr>\n",
       "  </tbody>\n",
       "</table>\n",
       "<p>10835 rows × 9 columns</p>\n",
       "</div>"
      ],
      "text/plain": [
       "       EvNum  theta_reco  phi_reco     pol_x     pol_y     pol_z  AngStokes  \\\n",
       "0         20       180.0       0.0 -0.493117 -0.869447 -0.029949  89.681451   \n",
       "1         81       180.0       0.0 -0.031895 -0.110548 -0.993359   3.643037   \n",
       "2        138       180.0       0.0 -0.184691 -0.357834 -0.915338  77.287946   \n",
       "3        144       180.0       0.0 -0.335761 -0.199976 -0.920475  74.049778   \n",
       "4        316       180.0       0.0 -0.525521 -0.458821 -0.716457  75.961872   \n",
       "...      ...         ...       ...       ...       ...       ...        ...   \n",
       "3474  219752       107.0     318.0  0.580837  0.350199  0.734840  61.867772   \n",
       "3475  219779       107.0     331.0 -0.358357 -0.112565 -0.926774  34.478879   \n",
       "3476  219812       180.0       0.0 -0.675164  0.729093 -0.112148   0.000000   \n",
       "3477  219979       180.0       0.0 -0.625864 -0.713860 -0.314161  88.182879   \n",
       "3478  219986       180.0       0.0 -0.544992  0.713312 -0.440646  81.044644   \n",
       "\n",
       "       AngRatio         rms  \n",
       "0     89.681451         inf  \n",
       "1      3.643037         inf  \n",
       "2     77.287946         inf  \n",
       "3     74.049778         inf  \n",
       "4     75.961872         inf  \n",
       "...         ...         ...  \n",
       "3474  61.867772   64.546555  \n",
       "3475  34.478879  149.837636  \n",
       "3476   0.000000         NaN  \n",
       "3477  88.182879         inf  \n",
       "3478  81.044644         inf  \n",
       "\n",
       "[10835 rows x 9 columns]"
      ]
     },
     "execution_count": 77,
     "metadata": {},
     "output_type": "execute_result"
    }
   ],
   "source": [
    "appended_data = []\n",
    "import os\n",
    "for filename in os.listdir(\"/users/PAS0654/osu8354/ARA_cvmfs/source/AraRoot/analysis/ARA_analysis/CenA_sourceSearch/Stokes\"):#Loop over desired directory\n",
    "        if (filename.startswith(\"pol_quant_noiseless\")): #extension, .root in this case\n",
    "            name = os.path.join(\"/users/PAS0654/osu8354/ARA_cvmfs/source/AraRoot/analysis/ARA_analysis/CenA_sourceSearch/Stokes\", str(filename))\n",
    "            data = pd.read_pickle(name)\n",
    "            appended_data.append(data)\n",
    "recoNu = pd.concat(appended_data)     \n",
    "recoNu"
   ]
  },
  {
   "cell_type": "code",
   "execution_count": 78,
   "metadata": {},
   "outputs": [
    {
     "data": {
      "text/html": [
       "<div>\n",
       "<style scoped>\n",
       "    .dataframe tbody tr th:only-of-type {\n",
       "        vertical-align: middle;\n",
       "    }\n",
       "\n",
       "    .dataframe tbody tr th {\n",
       "        vertical-align: top;\n",
       "    }\n",
       "\n",
       "    .dataframe thead th {\n",
       "        text-align: right;\n",
       "    }\n",
       "</style>\n",
       "<table border=\"1\" class=\"dataframe\">\n",
       "  <thead>\n",
       "    <tr style=\"text-align: right;\">\n",
       "      <th></th>\n",
       "      <th>EvNum</th>\n",
       "      <th>theta_reco</th>\n",
       "      <th>phi_reco</th>\n",
       "      <th>pol_x</th>\n",
       "      <th>pol_y</th>\n",
       "      <th>pol_z</th>\n",
       "      <th>AngStokes</th>\n",
       "      <th>AngRatio</th>\n",
       "      <th>rms</th>\n",
       "      <th>theta_pol</th>\n",
       "    </tr>\n",
       "  </thead>\n",
       "  <tbody>\n",
       "    <tr>\n",
       "      <th>0</th>\n",
       "      <td>20</td>\n",
       "      <td>180.0</td>\n",
       "      <td>0.0</td>\n",
       "      <td>-0.493117</td>\n",
       "      <td>-0.869447</td>\n",
       "      <td>-0.029949</td>\n",
       "      <td>89.681451</td>\n",
       "      <td>89.681451</td>\n",
       "      <td>inf</td>\n",
       "      <td>88.283818</td>\n",
       "    </tr>\n",
       "    <tr>\n",
       "      <th>1</th>\n",
       "      <td>81</td>\n",
       "      <td>180.0</td>\n",
       "      <td>0.0</td>\n",
       "      <td>-0.031895</td>\n",
       "      <td>-0.110548</td>\n",
       "      <td>-0.993359</td>\n",
       "      <td>3.643037</td>\n",
       "      <td>3.643037</td>\n",
       "      <td>inf</td>\n",
       "      <td>6.606898</td>\n",
       "    </tr>\n",
       "    <tr>\n",
       "      <th>2</th>\n",
       "      <td>138</td>\n",
       "      <td>180.0</td>\n",
       "      <td>0.0</td>\n",
       "      <td>-0.184691</td>\n",
       "      <td>-0.357834</td>\n",
       "      <td>-0.915338</td>\n",
       "      <td>77.287946</td>\n",
       "      <td>77.287946</td>\n",
       "      <td>inf</td>\n",
       "      <td>23.746159</td>\n",
       "    </tr>\n",
       "    <tr>\n",
       "      <th>3</th>\n",
       "      <td>144</td>\n",
       "      <td>180.0</td>\n",
       "      <td>0.0</td>\n",
       "      <td>-0.335761</td>\n",
       "      <td>-0.199976</td>\n",
       "      <td>-0.920475</td>\n",
       "      <td>74.049778</td>\n",
       "      <td>74.049778</td>\n",
       "      <td>inf</td>\n",
       "      <td>23.004401</td>\n",
       "    </tr>\n",
       "    <tr>\n",
       "      <th>4</th>\n",
       "      <td>316</td>\n",
       "      <td>180.0</td>\n",
       "      <td>0.0</td>\n",
       "      <td>-0.525521</td>\n",
       "      <td>-0.458821</td>\n",
       "      <td>-0.716457</td>\n",
       "      <td>75.961872</td>\n",
       "      <td>75.961872</td>\n",
       "      <td>inf</td>\n",
       "      <td>44.237258</td>\n",
       "    </tr>\n",
       "  </tbody>\n",
       "</table>\n",
       "</div>"
      ],
      "text/plain": [
       "   EvNum  theta_reco  phi_reco     pol_x     pol_y     pol_z  AngStokes  \\\n",
       "0     20       180.0       0.0 -0.493117 -0.869447 -0.029949  89.681451   \n",
       "1     81       180.0       0.0 -0.031895 -0.110548 -0.993359   3.643037   \n",
       "2    138       180.0       0.0 -0.184691 -0.357834 -0.915338  77.287946   \n",
       "3    144       180.0       0.0 -0.335761 -0.199976 -0.920475  74.049778   \n",
       "4    316       180.0       0.0 -0.525521 -0.458821 -0.716457  75.961872   \n",
       "\n",
       "    AngRatio  rms  theta_pol  \n",
       "0  89.681451  inf  88.283818  \n",
       "1   3.643037  inf   6.606898  \n",
       "2  77.287946  inf  23.746159  \n",
       "3  74.049778  inf  23.004401  \n",
       "4  75.961872  inf  44.237258  "
      ]
     },
     "execution_count": 78,
     "metadata": {},
     "output_type": "execute_result"
    }
   ],
   "source": [
    "# recoNu = pd.read_pickle(\"/users/PAS0654/osu8354/ARA_cvmfs/source/AraRoot/analysis/ARA_analysis/CenA_sourceSearch/Stokes/pol_quant_debug.pkl\")\n",
    "# recoNu = pd.read_pickle(\"/users/PAS0654/osu8354/ARA_cvmfs/source/AraRoot/analysis/ARA_analysis/CenA_sourceSearch/Stokes/pol_quant_debug_2.pkl\")\n",
    "\n",
    "recoNu[\"theta_pol\"] = np.degrees(np.arccos(abs(recoNu.pol_z)))\n",
    "# recoNu.loc[recoNu.theta_pol >90,\"theta_pol\"] = 180-recoNu.theta_pol\n",
    "# recoNu = recoNu.loc[recoNu.rms<9]\n",
    "\n",
    "recoNu.head()"
   ]
  },
  {
   "cell_type": "code",
   "execution_count": 79,
   "metadata": {},
   "outputs": [],
   "source": [
    "peak20 = recoNu.loc[abs((recoNu.AngStokes-recoNu.theta_pol)-15)>5]"
   ]
  },
  {
   "cell_type": "code",
   "execution_count": 80,
   "metadata": {},
   "outputs": [
    {
     "data": {
      "image/png": "[encoded data removed]",
      "text/plain": [
       "<Figure size 504x360 with 1 Axes>"
      ]
     },
     "metadata": {},
     "output_type": "display_data"
    }
   ],
   "source": [
    "plt.figure(figsize=(7,5))\n",
    "# plt.hist(recoNu.AngStokes-np.degrees(np.arccos(abs(recoNu.pol_z))), bins=100, density=False, alpha=1);\n",
    "delta_std = (recoNu.AngStokes-recoNu.theta_pol).std()\n",
    "delta_mean = (recoNu.AngStokes-recoNu.theta_pol).mean()\n",
    "\n",
    "\n",
    "plt.hist(recoNu.AngStokes-recoNu.theta_pol, bins=100, density=True, alpha=1,label = \"$\\mu$=%0.2f,$\\sigma$=%0.2f\"%(delta_mean, delta_std));\n",
    "\n",
    "plt.xlabel(\"$\\\\theta_{reco}-\\\\theta_{true}$ [deg]\")\n",
    "# plt.xlabel(\"$\\\\theta$\")\n",
    "# plt.ylabel('Counts [norm.]')\n",
    "# plt.title(\"Polarization reconstruction vs. MC truth ($10^{21}$ eV)\")\n",
    "# plt.yscale(\"log\")\n",
    "# mplcyberpunk.add_glow_effects()\n",
    "plt.legend()\n",
    "plt.tight_layout()\n",
    "# plt.savefig(my_path_plots+'/Dumpster/recoVsTrue_AraSim.png', dpi=200)"
   ]
  },
  {
   "cell_type": "code",
   "execution_count": 81,
   "metadata": {},
   "outputs": [
    {
     "data": {
      "image/png": "[encoded data removed]",
      "text/plain": [
       "<Figure size 576x360 with 2 Axes>"
      ]
     },
     "metadata": {},
     "output_type": "display_data"
    }
   ],
   "source": [
    "plt.figure(figsize=(8,5))\n",
    "plt.hist2d(90-recoNu.AngStokes,recoNu.AngStokes-recoNu.theta_pol, bins=100, normed=True);\n",
    "# plt.hist2d(angle_Stokes,angle_Stokes-angle_true)\n",
    "plt.colorbar(label=\"Counts [norm]\")\n",
    "plt.xlabel(\"$\\\\theta_{true}$ [deg]\")\n",
    "plt.ylabel(\"$\\\\theta_{reco}-\\\\theta_{true}$ [deg]\")\n",
    "# plt.title(\"$10^{21}$ eV neutrinos\")\n",
    "plt.tight_layout()\n",
    "# plt.ylim(-10,10)\n",
    "# plt.savefig(my_path_plots+'/Dumpster/deltaMCvsTrue_AraSim.png', dpi=200)"
   ]
  },
  {
   "cell_type": "code",
   "execution_count": 54,
   "metadata": {},
   "outputs": [
    {
     "data": {
      "image/png": "[encoded data removed]",
      "text/plain": [
       "<Figure size 576x360 with 2 Axes>"
      ]
     },
     "metadata": {},
     "output_type": "display_data"
    }
   ],
   "source": [
    "plt.figure(figsize=(8,5))\n",
    "plt.hist2d(recoNu.theta_reco,recoNu.AngStokes-recoNu.theta_pol, normed=True);\n",
    "# plt.hist2d(angle_Stokes,angle_Stokes-angle_true)\n",
    "plt.colorbar(label=\"Counts [norm]\")\n",
    "plt.xlabel(\"$\\\\theta_{rec}$ [deg]\")\n",
    "plt.ylabel(\"$\\\\theta_{reco}-\\\\theta_{true}$ [deg]\")\n",
    "plt.xlim(8,95)\n",
    "plt.tight_layout()"
   ]
  },
  {
   "cell_type": "code",
   "execution_count": 61,
   "metadata": {},
   "outputs": [
    {
     "data": {
      "image/png": "[encoded data removed]",
      "text/plain": [
       "<Figure size 576x360 with 2 Axes>"
      ]
     },
     "metadata": {},
     "output_type": "display_data"
    }
   ],
   "source": [
    "plt.figure(figsize=(8,5))\n",
    "plt.hist2d(recoNu.theta_pol,recoNu.AngStokes, bins=50, normed=True);\n",
    "# plt.hist2d(angle_Stokes,angle_Stokes-angle_true)\n",
    "plt.colorbar(label=\"Counts [norm]\")\n",
    "plt.xlabel(\"$\\\\theta_{true}$ [deg]\")\n",
    "plt.ylabel(\"$\\\\theta_{reco}$ [deg]\")\n",
    "plt.tight_layout()\n",
    "# plt.savefig(my_path_plots+'/Dumpster/deltavsTrue2D.pdf')"
   ]
  },
  {
   "cell_type": "code",
   "execution_count": 62,
   "metadata": {},
   "outputs": [
    {
     "data": {
      "text/plain": [
       "Text(0.5,0,'$\\\\theta_{rec}$')"
      ]
     },
     "execution_count": 62,
     "metadata": {},
     "output_type": "execute_result"
    },
    {
     "data": {
      "image/png": "[encoded data removed]",
      "text/plain": [
       "<Figure size 432x288 with 1 Axes>"
      ]
     },
     "metadata": {},
     "output_type": "display_data"
    }
   ],
   "source": [
    "plt.hist(recoNu.theta_reco, bins=50);\n",
    "plt.xlabel(\"$\\\\theta_{rec}$\",fontsize=14)"
   ]
  },
  {
   "cell_type": "code",
   "execution_count": 63,
   "metadata": {},
   "outputs": [
    {
     "data": {
      "text/plain": [
       "Text(0.5,0,'$\\\\Omega_{true}$ [deg]')"
      ]
     },
     "execution_count": 63,
     "metadata": {},
     "output_type": "execute_result"
    },
    {
     "data": {
      "image/png": "[encoded data removed]",
      "text/plain": [
       "<Figure size 432x288 with 1 Axes>"
      ]
     },
     "metadata": {},
     "output_type": "display_data"
    }
   ],
   "source": [
    "plt.hist(np.degrees(np.arccos(abs(recoNu.pol_z))), bins=50);\n",
    "plt.xlabel(\"$\\\\Omega_{true}$ [deg]\",fontsize=14)"
   ]
  },
  {
   "cell_type": "code",
   "execution_count": 2,
   "metadata": {},
   "outputs": [
    {
     "name": "stdout",
     "output_type": "stream",
     "text": [
      "/users/PAS0654/osu8354/ARA_cvmfs/source/AraRoot/analysis/thesis_work_daily\n"
     ]
    }
   ],
   "source": [
    "!pwd"
   ]
  }
 ],
 "metadata": {
  "kernelspec": {
   "display_name": "Python 3.6 (Conda 5.2) [python/3.6-conda5.2]",
   "language": "python",
   "name": "sys_python36conda"
  },
  "language_info": {
   "codemirror_mode": {
    "name": "ipython",
    "version": 3
   },
   "file_extension": ".py",
   "mimetype": "text/x-python",
   "name": "python",
   "nbconvert_exporter": "python",
   "pygments_lexer": "ipython3",
   "version": "3.6.6"
  }
 },
 "nbformat": 4,
 "nbformat_minor": 4
}
