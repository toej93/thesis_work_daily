{
 "cells": [
  {
   "cell_type": "markdown",
   "metadata": {},
   "source": [
    "# Estimate cross pol"
   ]
  },
  {
   "cell_type": "markdown",
   "metadata": {},
   "source": [
    "Estimate best $\\chi_{pol}$ (fixed)"
   ]
  },
  {
   "cell_type": "markdown",
   "metadata": {},
   "source": [
    "### Mar 11, 2021"
   ]
  },
  {
   "cell_type": "markdown",
   "metadata": {},
   "source": [
    "## Code"
   ]
  },
  {
   "cell_type": "code",
   "execution_count": 1,
   "metadata": {},
   "outputs": [],
   "source": [
    "import sys\n",
    "import csv\n",
    "# sys.path.insert(0,\"/users/PCON0003/cond0068/.local/lib/python3.7/\")\n",
    "sys.path.append(\"/users/PAS0654/osu8354/ARA_cvmfs/root_build/lib/\") # go to parent dir\n",
    "sys.path.append(\"/users/PCON0003/cond0068/.local/lib/python3.7/site-packages/\")\n",
    "# sys.path.append(\"/users/PCON0003/cond0068/pyrex_sims/fromBen/thesis_work/pyrex-custom/analysis/custom/analysis/\")\n",
    "# import ROOT\n",
    "import math\n",
    "import numpy as np\n",
    "# from ROOT import TH1D,TF1, gRandom, gPad, gStyle\n",
    "import matplotlib as mpl\n",
    "import matplotlib.pyplot as plt\n",
    "# from ROOT import TChain, TSelector, TTree\n",
    "import os\n",
    "import matplotlib.colors as mcolors\n",
    "import scipy\n",
    "from matplotlib.colors import LogNorm\n",
    "import pandas as pd\n",
    "import pyrex\n",
    "import seaborn as sns\n",
    "%matplotlib inline\n",
    "sys.path.insert(1, \"/users/PAS0654/osu8354/ARA_cvmfs/source/AraRoot/analysis/ARA_analysis/CenA_sourceSearch/Stokes\")\n",
    "# import deDisperse_util as util\n",
    "# from pyrex.internal_functions import normalize\n",
    "my_path_plots = os.path.abspath(\"./plots/\")\n",
    "# import pyrex.custom.ara as ara\n"
   ]
  },
  {
   "cell_type": "code",
   "execution_count": 2,
   "metadata": {},
   "outputs": [],
   "source": [
    "# mpl.use('agg') \n",
    "mpl.rcParams['text.usetex'] = True\n",
    "mpl.rcParams['text.latex.unicode'] = True\n",
    "mpl.rcParams['mathtext.rm'] = 'Times New Roman'\n",
    "mpl.rcParams['mathtext.it'] = 'Times New Roman:italic'\n",
    "mpl.rcParams['mathtext.bf'] = 'Times New Roman:bold'\n",
    "\n",
    "mpl.rc('font', family='serif', size=12)\n",
    "mpl.rcParams['xtick.labelsize'] = 14\n",
    "mpl.rcParams['ytick.labelsize'] = 14\n",
    "mpl.rcParams['xtick.major.size'] = 5\n",
    "mpl.rcParams['ytick.major.size'] = 5\n",
    "\n",
    "mpl.rcParams['axes.titlesize'] = 18\n",
    "mpl.rcParams['axes.labelsize'] = 18\n",
    "# mpl.rc('font', size=16)\n",
    "mpl.rc('axes', titlesize=20)\n",
    "\n",
    "current_palette = sns.color_palette('colorblind', 10)\n",
    "import warnings\n",
    "warnings.filterwarnings(\"ignore\")"
   ]
  },
  {
   "cell_type": "code",
   "execution_count": 3,
   "metadata": {},
   "outputs": [],
   "source": [
    "def rotation_matrix_from_vectors(vec1, vec2):\n",
    "    \"\"\" Find the rotation matrix that aligns vec1 to vec2\n",
    "    :param vec1: A 3d \"source\" vector\n",
    "    :param vec2: A 3d \"destination\" vector\n",
    "    :return mat: A transform matrix (3x3) which when applied to vec1, aligns it with vec2.\n",
    "    \"\"\"\n",
    "    a, b = (vec1 / np.linalg.norm(vec1)).reshape(3), (vec2 / np.linalg.norm(vec2)).reshape(3)\n",
    "    v = np.cross(a, b)\n",
    "    c = np.dot(a, b)\n",
    "    s = np.linalg.norm(v)\n",
    "    kmat = np.array([[0, -v[2], v[1]], [v[2], 0, -v[0]], [-v[1], v[0], 0]])\n",
    "    rotation_matrix = np.eye(3) + kmat + kmat.dot(kmat) * ((1 - c) / (s ** 2))\n",
    "    return rotation_matrix\n",
    "\n",
    "def rotatePolVector(launchVecSrc, recVec, PolVecAntenna):\n",
    "    recVec = -recVec #receiving vector needs to be reflected, otherwise rotation matrix will be off by pi\n",
    "    newPol = np.dot(PolVecAntenna,rotation_matrix_from_vectors(launchVecSrc,recVec))\n",
    "    return newPol\n",
    "\n",
    "def Rx(theta):\n",
    "    return np.matrix([[ 1, 0           , 0           ],\n",
    "                   [ 0, np.cos(theta),-np.sin(theta)],\n",
    "                   [ 0, np.sin(theta), np.cos(theta)]])"
   ]
  },
  {
   "cell_type": "markdown",
   "metadata": {},
   "source": [
    "## Expected polarization "
   ]
  },
  {
   "cell_type": "code",
   "execution_count": 4,
   "metadata": {},
   "outputs": [],
   "source": [
    "def estimatePolRayTracer(depth):\n",
    "    #Take depth of pulser and calculate polarization rotation based on raytracer results.\n",
    "    rt = pyrex.RayTracer(from_point=(0, 0, -depth), to_point=(2400, 0, -179.93)) #Use the depth of the transmitter as the z-\n",
    "    #coordinate. A2 is at a horizontal distance of 2400 m from the pulser, and at a depth of 179.93 m\n",
    "    path = rt.solutions[0] #We only care about direct solutions\n",
    "    rotMat = rotation_matrix_from_vectors(path.received_direction,path.emitted_direction)\n",
    "    initPulserPol = np.array([0,0,1])\n",
    "#     initPulserPol = np.array([np.sqrt(0.25/2),np.sqrt(0.25/2),np.sqrt(0.75)])\n",
    "    rotAngle = np.pi/2-np.arccos(path.emitted_direction[2])\n",
    "#     pulserPol = np.array(np.matmul(initPulserPol,Rx(rotAngle)))[0]\n",
    "    rotatedPol = np.dot(initPulserPol,rotMat)\n",
    "    newOmegaPol = np.degrees(np.arccos(rotatedPol[2]))\n",
    "    polFinal = newOmegaPol-np.degrees(rotAngle)\n",
    "    return polFinal, np.degrees(rt.solutions[0].theta0), 180-np.degrees(np.arccos(path.received_direction[2]))\n",
    "\n",
    "def estimateRecAngle(depth):\n",
    "    #Take depth of pulser and calculate the receiving angle at the antenna\n",
    "    rt = pyrex.RayTracer(from_point=(0, 0, -depth), to_point=(2400, 0, -179.93)) #Use the depth of the transmitter as the z-\n",
    "    #coordinate. A2 is at a horizontal distance of 2400 m from the pulser, and at a depth of 179.93 m\n",
    "    path = rt.solutions[0] #We only care about direct solutions\n",
    "    return 180-np.degrees(np.arccos(path.received_direction[2]))"
   ]
  },
  {
   "cell_type": "code",
   "execution_count": 5,
   "metadata": {},
   "outputs": [],
   "source": [
    "depthArr = []\n",
    "pol = []\n",
    "launchAng = []\n",
    "for depth in range(600,1200):\n",
    "    depthArr.append(depth)\n",
    "    pol.append(abs(estimatePolRayTracer(depth)[0]))\n",
    "    launchAng.append((estimatePolRayTracer(depth)[1]))"
   ]
  },
  {
   "cell_type": "code",
   "execution_count": 6,
   "metadata": {},
   "outputs": [
    {
     "data": {
      "text/plain": [
       "[<matplotlib.lines.Line2D at 0x2ba988fcb5c0>]"
      ]
     },
     "execution_count": 6,
     "metadata": {},
     "output_type": "execute_result"
    },
    {
     "data": {
      "image/png": "[encoded data removed]",
      "text/plain": [
       "<Figure size 432x288 with 1 Axes>"
      ]
     },
     "metadata": {},
     "output_type": "display_data"
    }
   ],
   "source": [
    "plt.plot(depthArr,(np.array(pol)))\n",
    "# plt.xlim(600,650)"
   ]
  },
  {
   "cell_type": "markdown",
   "metadata": {},
   "source": [
    "# Compare to real data"
   ]
  },
  {
   "cell_type": "markdown",
   "metadata": {},
   "source": [
    "# Dec 24"
   ]
  },
  {
   "cell_type": "code",
   "execution_count": 21,
   "metadata": {},
   "outputs": [],
   "source": [
    "SpiceCore0 = pd.read_pickle(\"../ARA_analysis/ARA_Reconstruction/RecoOmegaCh0_8_run_012559.pkl\")\n",
    "SpiceCore0 = SpiceCore0.loc[(SpiceCore0.theta_reco>=90) & (SpiceCore0.power_H>0) & (SpiceCore0.power_V>0)]\n",
    "# SpiceCore0 = SpiceCore0.drop(columns=['Omega_reco'])\n",
    "\n",
    "SpiceCore1 = pd.read_pickle(\"../ARA_analysis/ARA_Reconstruction/RecoOmegaCh1_9_run_012559.pkl\")\n",
    "SpiceCore1 = SpiceCore1.loc[(SpiceCore1.theta_reco>=90) & (SpiceCore1.power_H>0) & (SpiceCore1.power_V>0)]\n",
    "# SpiceCore1 = SpiceCore1.drop(columns=['Omega_reco'])\n",
    "\n",
    "SpiceCore2 = pd.read_pickle(\"../ARA_analysis/ARA_Reconstruction/RecoOmegaCh2_10_run_012559.pkl\")\n",
    "SpiceCore2 = SpiceCore2.loc[(SpiceCore2.theta_reco>=90) & (SpiceCore2.power_H>0) & (SpiceCore2.power_V>0)]\n",
    "# SpiceCore2 = SpiceCore2.drop(columns=['Omega_reco'])\n",
    "\n",
    "SpiceCore3 = pd.read_pickle(\"../ARA_analysis/ARA_Reconstruction/RecoOmegaCh3_11_run_012559.pkl\")\n",
    "SpiceCore3 = SpiceCore3.loc[(SpiceCore3.theta_reco>=90) & (SpiceCore3.power_H>0) & (SpiceCore3.power_V>0)]\n",
    "# SpiceCore3 = SpiceCore3.drop(columns=['Omega_reco'])\n",
    "\n",
    "SpiceCore4 = pd.read_pickle(\"../ARA_analysis/ARA_Reconstruction/RecoOmegaCh4_12_run_012559.pkl\")\n",
    "SpiceCore4 = SpiceCore4.loc[(SpiceCore4.theta_reco>=90) & (SpiceCore4.power_H>0) & (SpiceCore4.power_V>0)]\n",
    "# SpiceCore4 = SpiceCore4.drop(columns=['Omega_reco'])\n",
    "\n",
    "SpiceCore5 = pd.read_pickle(\"../ARA_analysis/ARA_Reconstruction/RecoOmegaCh5_13_run_012559.pkl\")\n",
    "SpiceCore5 = SpiceCore5.loc[(SpiceCore5.theta_reco>=90) & (SpiceCore5.power_H>0) & (SpiceCore5.power_V>0)]\n",
    "# SpiceCore5 = SpiceCore5.drop(columns=['Omega_reco'])\n",
    "\n",
    "SpiceCore6 = pd.read_pickle(\"../ARA_analysis/ARA_Reconstruction/RecoOmegaCh6_14_run_012559.pkl\")\n",
    "SpiceCore6 = SpiceCore6.loc[(SpiceCore6.theta_reco>=90) & (SpiceCore6.power_H>0) & (SpiceCore6.power_V>0)]\n",
    "# SpiceCore6 = SpiceCore6.drop(columns=['Omega_reco']);"
   ]
  },
  {
   "cell_type": "code",
   "execution_count": 8,
   "metadata": {},
   "outputs": [],
   "source": [
    "depth_1224 = pd.read_csv(\"./plots/SpiceCorePolReco/A2_1224Depth.txt\")\n",
    "time = pd.to_datetime(depth_1224.NZ_Time)\n",
    "# time = time.reindex(time)\n",
    "# time = time.tz_localize('NZ').tz_convert(\"UTC\")\n",
    "time.head()\n",
    "newTime = time.apply(lambda dt: dt.replace(day=24, month = 12, year = 2018))\n",
    "# newTime#Still in NZ local time. Need to translate to UTC\n",
    "df = pd.DataFrame(1, index=newTime, columns=['X'])\n",
    "import pytz\n",
    "nz = pytz.timezone('NZ')\n",
    "utc = pytz.timezone('UTC')\n",
    "df.index = df.index.tz_localize(nz).tz_convert(utc)\n",
    "unixTimeDepth = (df.index - pd.Timestamp(\"1970-01-01\").tz_localize(utc)) // pd.Timedelta('1s')#This is unix time "
   ]
  },
  {
   "cell_type": "code",
   "execution_count": 9,
   "metadata": {},
   "outputs": [],
   "source": [
    "f = scipy.interpolate.interp1d(unixTimeDepth, depth_1224.depth,bounds_error=False, fill_value=0.)\n",
    "SpiceCore2ForInterp = SpiceCore2.loc[(SpiceCore2.unixtime>min(SpiceCore2.unixtime)) & (SpiceCore2.unixtime<2.15*1E4+1.5456*1E9)]\n",
    "interp_depth = f(SpiceCore2ForInterp.unixtime)\n",
    "SpiceCore2ForInterp[\"interp_depth\"] = interp_depth"
   ]
  },
  {
   "cell_type": "code",
   "execution_count": 10,
   "metadata": {},
   "outputs": [],
   "source": [
    "SpiceCore0ForInterp = SpiceCore0.loc[(SpiceCore0.unixtime>min(SpiceCore0.unixtime)) & (SpiceCore0.unixtime<2.15*1E4+1.5456*1E9)]\n",
    "interp_depth = f(SpiceCore0ForInterp.unixtime)\n",
    "SpiceCore0ForInterp[\"interp_depth\"] = interp_depth\n",
    "\n",
    "SpiceCore1ForInterp = SpiceCore1.loc[(SpiceCore1.unixtime>min(SpiceCore1.unixtime)) & (SpiceCore1.unixtime<2.15*1E4+1.5456*1E9)]\n",
    "interp_depth = f(SpiceCore1ForInterp.unixtime)\n",
    "SpiceCore1ForInterp[\"interp_depth\"] = interp_depth\n",
    "\n",
    "SpiceCore2ForInterp = SpiceCore2.loc[(SpiceCore2.unixtime>min(SpiceCore2.unixtime)) & (SpiceCore2.unixtime<2.15*1E4+1.5456*1E9)]\n",
    "interp_depth = f(SpiceCore2ForInterp.unixtime)\n",
    "SpiceCore2ForInterp[\"interp_depth\"] = interp_depth\n",
    "\n",
    "SpiceCore3ForInterp = SpiceCore3.loc[(SpiceCore3.unixtime>min(SpiceCore3.unixtime)) & (SpiceCore3.unixtime<2.15*1E4+1.5456*1E9)]\n",
    "interp_depth = f(SpiceCore3ForInterp.unixtime)\n",
    "SpiceCore3ForInterp[\"interp_depth\"] = interp_depth\n",
    "\n",
    "SpiceCore4ForInterp = SpiceCore4.loc[(SpiceCore4.unixtime>min(SpiceCore4.unixtime)) & (SpiceCore4.unixtime<2.15*1E4+1.5456*1E9)]\n",
    "interp_depth = f(SpiceCore4ForInterp.unixtime)\n",
    "SpiceCore4ForInterp[\"interp_depth\"] = interp_depth\n",
    "\n",
    "SpiceCore5ForInterp = SpiceCore5.loc[(SpiceCore5.unixtime>min(SpiceCore5.unixtime)) & (SpiceCore5.unixtime<2.15*1E4+1.5456*1E9)]\n",
    "interp_depth = f(SpiceCore5ForInterp.unixtime)\n",
    "SpiceCore5ForInterp[\"interp_depth\"] = interp_depth\n",
    "\n",
    "SpiceCore6ForInterp = SpiceCore6.loc[(SpiceCore6.unixtime>min(SpiceCore6.unixtime)) & (SpiceCore6.unixtime<2.15*1E4+1.5456*1E9)]\n",
    "interp_depth = f(SpiceCore6ForInterp.unixtime)\n",
    "SpiceCore6ForInterp[\"interp_depth\"] = interp_depth"
   ]
  },
  {
   "cell_type": "code",
   "execution_count": 11,
   "metadata": {},
   "outputs": [],
   "source": [
    "# SpiceCore0ForInterp_limited = 0\n",
    "SpiceCore0ForInterp = SpiceCore0ForInterp.loc[(SpiceCore0ForInterp.interp_depth>600) & (SpiceCore0ForInterp.interp_depth<1000)]\n",
    "SpiceCore1ForInterp = SpiceCore1ForInterp.loc[(SpiceCore1ForInterp.interp_depth>600) & (SpiceCore1ForInterp.interp_depth<1000)]\n",
    "SpiceCore2ForInterp = SpiceCore2ForInterp.loc[(SpiceCore2ForInterp.interp_depth>600) & (SpiceCore2ForInterp.interp_depth<1000)]\n",
    "SpiceCore3ForInterp = SpiceCore3ForInterp.loc[(SpiceCore3ForInterp.interp_depth>600) & (SpiceCore3ForInterp.interp_depth<1000)]\n",
    "SpiceCore4ForInterp = SpiceCore4ForInterp.loc[(SpiceCore4ForInterp.interp_depth>600) & (SpiceCore4ForInterp.interp_depth<1000)]\n",
    "SpiceCore5ForInterp = SpiceCore5ForInterp.loc[(SpiceCore5ForInterp.interp_depth>600) & (SpiceCore5ForInterp.interp_depth<1000)]\n",
    "SpiceCore6ForInterp = SpiceCore6ForInterp.loc[(SpiceCore6ForInterp.interp_depth>600) & (SpiceCore6ForInterp.interp_depth<1000)]\n"
   ]
  },
  {
   "cell_type": "code",
   "execution_count": 12,
   "metadata": {},
   "outputs": [],
   "source": [
    "\n",
    "depthArr0 = []\n",
    "pol0 = []\n",
    "launchAng0 = []\n",
    "recAng0 = []\n",
    "\n",
    "depthArr1 = []\n",
    "pol1 = []\n",
    "launchAng1 = []\n",
    "recAng1 = []\n",
    "\n",
    "depthArr2 = []\n",
    "pol2 = []\n",
    "launchAng2 = []\n",
    "recAng2 = []\n",
    "\n",
    "depthArr3 = []\n",
    "pol3 = []\n",
    "launchAng3 = []\n",
    "recAng3 = []\n",
    "\n",
    "depthArr4 = []\n",
    "pol4 = []\n",
    "launchAng4 = []\n",
    "recAng4 = []\n",
    "\n",
    "depthArr5 = []\n",
    "pol5 = []\n",
    "launchAng5 = []\n",
    "recAng5 = []\n",
    "\n",
    "depthArr6 = []\n",
    "pol6 = []\n",
    "launchAng6 = []\n",
    "recAng6 = []\n",
    "\n",
    "for i in SpiceCore0ForInterp.itertuples():\n",
    "    depthArr0.append(i.interp_depth)\n",
    "    tracerArray = estimatePolRayTracer(i.interp_depth)\n",
    "    pol0.append(abs(tracerArray[0]))\n",
    "    launchAng0.append((tracerArray[1]))\n",
    "    recAng0.append((tracerArray[2]))\n",
    "\n",
    "for i in SpiceCore1ForInterp.itertuples():\n",
    "    depthArr1.append(i.interp_depth)\n",
    "    tracerArray = estimatePolRayTracer(i.interp_depth)\n",
    "    pol1.append(abs(tracerArray[0]))\n",
    "    launchAng1.append((tracerArray[1]))\n",
    "    recAng1.append((tracerArray[2]))\n",
    "\n",
    "for i in SpiceCore2ForInterp.itertuples():\n",
    "    depthArr2.append(i.interp_depth)\n",
    "    tracerArray = estimatePolRayTracer(i.interp_depth)\n",
    "    pol2.append(abs(tracerArray[0]))\n",
    "    launchAng2.append((tracerArray[1]))\n",
    "    recAng2.append((tracerArray[2]))\n",
    "\n",
    "for i in SpiceCore3ForInterp.itertuples():\n",
    "    depthArr3.append(i.interp_depth)\n",
    "    tracerArray = estimatePolRayTracer(i.interp_depth)\n",
    "    pol3.append(abs(tracerArray[0]))\n",
    "    launchAng3.append((tracerArray[1]))\n",
    "    recAng3.append((tracerArray[2]))\n",
    "\n",
    "for i in SpiceCore4ForInterp.itertuples():\n",
    "    depthArr4.append(i.interp_depth)\n",
    "    tracerArray = estimatePolRayTracer(i.interp_depth)\n",
    "    pol4.append(abs(tracerArray[0]))\n",
    "    launchAng4.append((tracerArray[1]))\n",
    "    recAng4.append((tracerArray[2]))\n",
    "\n",
    "for i in SpiceCore5ForInterp.itertuples():\n",
    "    depthArr5.append(i.interp_depth)\n",
    "    tracerArray = estimatePolRayTracer(i.interp_depth)\n",
    "    pol5.append(abs(tracerArray[0]))\n",
    "    launchAng5.append((tracerArray[1]))\n",
    "    recAng5.append((tracerArray[2]))\n",
    "\n",
    "for i in SpiceCore6ForInterp.itertuples():\n",
    "    depthArr6.append(i.interp_depth)\n",
    "    tracerArray = estimatePolRayTracer(i.interp_depth)\n",
    "    pol6.append(abs(tracerArray[0]))\n",
    "    launchAng6.append((tracerArray[1]))\n",
    "    recAng6.append((tracerArray[2]))\n"
   ]
  },
  {
   "cell_type": "code",
   "execution_count": 13,
   "metadata": {},
   "outputs": [],
   "source": [
    "SpiceCore0ForInterp[\"Omega_true\"] = pol0\n",
    "SpiceCore1ForInterp[\"Omega_true\"] = pol1\n",
    "SpiceCore2ForInterp[\"Omega_true\"] = pol2\n",
    "SpiceCore3ForInterp[\"Omega_true\"] = pol3\n",
    "SpiceCore4ForInterp[\"Omega_true\"] = pol4\n",
    "SpiceCore5ForInterp[\"Omega_true\"] = pol5\n",
    "SpiceCore6ForInterp[\"Omega_true\"] = pol6\n",
    "\n",
    "SpiceCore0ForInterp[\"launchAng\"] = launchAng0\n",
    "SpiceCore1ForInterp[\"launchAng\"] = launchAng1\n",
    "SpiceCore2ForInterp[\"launchAng\"] = launchAng2\n",
    "SpiceCore3ForInterp[\"launchAng\"] = launchAng3\n",
    "SpiceCore4ForInterp[\"launchAng\"] = launchAng4\n",
    "SpiceCore5ForInterp[\"launchAng\"] = launchAng5\n",
    "SpiceCore6ForInterp[\"launchAng\"] = launchAng6\n",
    "\n",
    "SpiceCore0ForInterp[\"recAng\"] = recAng0\n",
    "SpiceCore1ForInterp[\"recAng\"] = recAng1\n",
    "SpiceCore2ForInterp[\"recAng\"] = recAng2\n",
    "SpiceCore3ForInterp[\"recAng\"] = recAng3\n",
    "SpiceCore4ForInterp[\"recAng\"] = recAng4\n",
    "SpiceCore5ForInterp[\"recAng\"] = recAng5\n",
    "SpiceCore6ForInterp[\"recAng\"] = recAng6"
   ]
  },
  {
   "cell_type": "code",
   "execution_count": 14,
   "metadata": {},
   "outputs": [],
   "source": [
    "X_pol = 0.5"
   ]
  },
  {
   "cell_type": "code",
   "execution_count": 18,
   "metadata": {},
   "outputs": [],
   "source": [
    "def getPsi(theta, phi, R):\n",
    "    theta = np.radians(theta)\n",
    "    phi = np.radians(phi)\n",
    "    numerator = np.cos(theta)*np.sin(phi)+R*np.cos(phi)\n",
    "    denominator = np.cos(theta)*np.cos(phi)-R*np.sin(phi)\n",
    "    return np.degrees(np.arctan(R))\n",
    "\n",
    "def getOmega(theta, R):\n",
    "    theta = np.radians(theta)\n",
    "    numerator = np.sin(theta)\n",
    "    denominator = np.sqrt(1+R**2)\n",
    "    return np.degrees(np.arccos(numerator/denominator))\n",
    "\n",
    "def getR(powH, powH_noise, powV, powV_noise, chi=0):\n",
    "    Rmeas = np.sqrt(abs(powH-powH_noise)/(powV-powV_noise))\n",
    "    return Rmeas#np.sqrt((1-chi)*Rmeas**2-chi)"
   ]
  },
  {
   "cell_type": "code",
   "execution_count": 43,
   "metadata": {},
   "outputs": [],
   "source": [
    "\n",
    "rms = [[] for i in range(7)]\n",
    "chi = []\n",
    "for X_pol in np.arange(0,0.01,0.01):\n",
    "\n",
    "    SpiceCore0Loop = SpiceCore0ForInterp.copy()\n",
    "    SpiceCore1Loop = SpiceCore1ForInterp.copy()\n",
    "    SpiceCore2Loop = SpiceCore2ForInterp.copy()\n",
    "    SpiceCore3Loop = SpiceCore3ForInterp.copy()\n",
    "    SpiceCore4Loop = SpiceCore4ForInterp.copy()\n",
    "    SpiceCore5Loop = SpiceCore5ForInterp.copy()\n",
    "    SpiceCore6Loop = SpiceCore6ForInterp.copy()\n",
    "\n",
    "    \n",
    "    SpiceCore0Loop[\"R\"] = getR(SpiceCore0Loop.power_H, SpiceCore0Loop.powerH_noise, SpiceCore0Loop.power_V, SpiceCore0Loop.powerV_noise, X_pol)\n",
    "    SpiceCore0Loop[\"Omega_reco\"] = getOmega(SpiceCore0Loop.recAng, SpiceCore0Loop.R)\n",
    "#     SpiceCore0Loop[\"Psi\"] = getPsi(SpiceCore0Loop.recAng, 255.5, SpiceCore0Loop.R)\n",
    "#     SpiceCore0Loop[\"deltaOmega\"] = SpiceCore0Loop.Omega_reco-SpiceCore0Loop.Omega_true\n",
    "\n",
    "#     SpiceCore1Loop[\"R\"] = np.sqrt(abs(SpiceCore1Loop.power_H-SpiceCore1Loop.powerH_noise)/(SpiceCore1Loop.power_V-SpiceCore1Loop.powerV_noise))*(1-X_pol)-X_pol\n",
    "#     SpiceCore1Loop[\"Omega_reco\"] = getOmega(SpiceCore1Loop.recAng, SpiceCore1Loop.R)\n",
    "#     SpiceCore1Loop[\"Psi\"] = getPsi(SpiceCore1Loop.recAng, 255.5, SpiceCore1Loop.R)\n",
    "#     SpiceCore1Loop[\"deltaOmega\"] = SpiceCore1Loop.Omega_reco-SpiceCore1Loop.Omega_true\n",
    "\n",
    "#     SpiceCore2Loop[\"R\"] = np.sqrt(abs(SpiceCore2Loop.power_H-SpiceCore2Loop.powerH_noise)/(SpiceCore2Loop.power_V-SpiceCore2Loop.powerV_noise))*(1-X_pol)-X_pol\n",
    "#     SpiceCore2Loop[\"Omega_reco\"] = getOmega(SpiceCore2Loop.recAng, SpiceCore2Loop.R)\n",
    "#     SpiceCore2Loop[\"Psi\"] = getPsi(SpiceCore2Loop.recAng, 255.5, SpiceCore2Loop.R)\n",
    "#     SpiceCore2Loop[\"deltaOmega\"] = SpiceCore2Loop.Omega_reco-SpiceCore2Loop.Omega_true\n",
    "\n",
    "#     SpiceCore3Loop[\"R\"] = np.sqrt(abs(SpiceCore3Loop.power_H-SpiceCore3Loop.powerH_noise)/(SpiceCore3Loop.power_V-SpiceCore3Loop.powerV_noise))*(1-X_pol)-X_pol\n",
    "#     SpiceCore3Loop[\"Omega_reco\"] = getOmega(SpiceCore3Loop.recAng, SpiceCore3Loop.R)\n",
    "#     SpiceCore3Loop[\"Psi\"] = getPsi(SpiceCore3Loop.recAng, 255.5, SpiceCore3Loop.R)\n",
    "#     SpiceCore3Loop[\"deltaOmega\"] = SpiceCore3Loop.Omega_reco-SpiceCore3Loop.Omega_true\n",
    "\n",
    "#     SpiceCore4Loop[\"R\"] = np.sqrt(abs(SpiceCore4Loop.power_H-SpiceCore4Loop.powerH_noise)/(SpiceCore4Loop.power_V-SpiceCore4Loop.powerV_noise))*(1-X_pol)-X_pol\n",
    "#     SpiceCore4Loop[\"Omega_reco\"] = getOmega(SpiceCore4Loop.recAng, SpiceCore4Loop.R)\n",
    "#     SpiceCore4Loop[\"Psi\"] = getPsi(SpiceCore4Loop.recAng, 255.5, SpiceCore4Loop.R)\n",
    "#     SpiceCore4Loop[\"deltaOmega\"] = SpiceCore4Loop.Omega_reco-SpiceCore4Loop.Omega_true\n",
    "\n",
    "#     SpiceCore5Loop[\"R\"] = np.sqrt(abs(SpiceCore5Loop.power_H-SpiceCore5Loop.powerH_noise)/(SpiceCore5Loop.power_V-SpiceCore5Loop.powerV_noise))*(1-X_pol)-X_pol\n",
    "#     SpiceCore5Loop[\"Omega_reco\"] = getOmega(SpiceCore5Loop.recAng, SpiceCore5Loop.R)\n",
    "#     SpiceCore5Loop[\"Psi\"] = getPsi(SpiceCore5Loop.recAng, 255.5, SpiceCore5Loop.R)\n",
    "#     SpiceCore5Loop[\"deltaOmega\"] = SpiceCore5Loop.Omega_reco-SpiceCore5Loop.Omega_true\n",
    "\n",
    "#     SpiceCore6Loop[\"R\"] = np.sqrt(abs(SpiceCore6Loop.power_H-SpiceCore6Loop.powerH_noise)/(SpiceCore6Loop.power_V-SpiceCore6Loop.powerV_noise))*(1-X_pol)-X_pol\n",
    "#     SpiceCore6Loop[\"Omega_reco\"] = getOmega(SpiceCore6Loop.recAng, SpiceCore6Loop.R)\n",
    "#     SpiceCore6Loop[\"Psi\"] = getPsi(SpiceCore6Loop.recAng, 255.5, SpiceCore6Loop.R)\n",
    "#     SpiceCore6Loop[\"deltaOmega\"] = SpiceCore6Loop.Omega_reco-SpiceCore6Loop.Omega_true\n",
    "\n",
    "\n",
    "#     SpiceCore0Loop = SpiceCore0Loop.dropna()\n",
    "#     SpiceCore1Loop = SpiceCore1Loop.dropna()\n",
    "#     SpiceCore2Loop = SpiceCore2Loop.dropna()\n",
    "#     SpiceCore3Loop = SpiceCore3Loop.dropna()\n",
    "#     SpiceCore4Loop = SpiceCore4Loop.dropna()\n",
    "#     SpiceCore5Loop = SpiceCore5Loop.dropna()\n",
    "#     SpiceCore6Loop = SpiceCore6Loop.dropna()\n",
    "    \n",
    "#     print(\"chi: %0.3f\"%X_pol)\n",
    "#     chi.append(X_pol)\n",
    "#     rms[0].append(np.array(SpiceCore0Loop[\"deltaOmega\"]).std())\n",
    "#     rms[1].append(np.array(SpiceCore1Loop[\"deltaOmega\"]).std())\n",
    "#     rms[2].append(np.array(SpiceCore2Loop[\"deltaOmega\"]).std())\n",
    "#     rms[3].append(np.array(SpiceCore3Loop[\"deltaOmega\"]).std())\n",
    "#     rms[4].append(np.array(SpiceCore4Loop[\"deltaOmega\"]).std())\n",
    "#     rms[5].append(np.array(SpiceCore5Loop[\"deltaOmega\"]).std())\n",
    "#     rms[6].append(np.array(SpiceCore6Loop[\"deltaOmega\"]).std())\n",
    "    \n",
    "    \n",
    "    "
   ]
  },
  {
   "cell_type": "code",
   "execution_count": 45,
   "metadata": {},
   "outputs": [
    {
     "data": {
      "text/plain": [
       "468     105.042549\n",
       "469     105.031996\n",
       "470     105.016161\n",
       "471     105.010881\n",
       "472     105.005600\n",
       "           ...    \n",
       "1976     91.087646\n",
       "1977     91.075351\n",
       "1987     90.887897\n",
       "1993     90.772539\n",
       "1999     90.641615\n",
       "Name: recAng, Length: 1159, dtype: float64"
      ]
     },
     "execution_count": 45,
     "metadata": {},
     "output_type": "execute_result"
    }
   ],
   "source": [
    "SpiceCore0Loop.recAng"
   ]
  },
  {
   "cell_type": "code",
   "execution_count": 29,
   "metadata": {},
   "outputs": [
    {
     "data": {
      "text/plain": [
       "Text(0,0.5,'$\\\\sigma_{\\\\Delta\\\\Omega}$')"
      ]
     },
     "execution_count": 29,
     "metadata": {},
     "output_type": "execute_result"
    },
    {
     "data": {
      "image/png": "[encoded data removed]",
      "text/plain": [
       "<Figure size 504x360 with 1 Axes>"
      ]
     },
     "metadata": {},
     "output_type": "display_data"
    }
   ],
   "source": [
    "plt.figure(figsize=(7,5))\n",
    "for i in range(0,7):\n",
    "    plt.plot(chi,rms[i], marker = \"o\", label = \"Ch pair %i, %i\"%(i,i+8))\n",
    "plt.legend(ncol=2)\n",
    "plt.grid()\n",
    "plt.xlabel(\"$\\chi_{pol}$\")\n",
    "plt.ylabel(\"$\\sigma_{\\Delta\\Omega}$\")"
   ]
  },
  {
   "cell_type": "code",
   "execution_count": null,
   "metadata": {},
   "outputs": [],
   "source": []
  }
 ],
 "metadata": {
  "kernelspec": {
   "display_name": "Python 3.6 (Conda 5.2) [python/3.6-conda5.2]",
   "language": "python",
   "name": "sys_python36conda"
  },
  "language_info": {
   "codemirror_mode": {
    "name": "ipython",
    "version": 3
   },
   "file_extension": ".py",
   "mimetype": "text/x-python",
   "name": "python",
   "nbconvert_exporter": "python",
   "pygments_lexer": "ipython3",
   "version": "3.6.6"
  }
 },
 "nbformat": 4,
 "nbformat_minor": 4
}
