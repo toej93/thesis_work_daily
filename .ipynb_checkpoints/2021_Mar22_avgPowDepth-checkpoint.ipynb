{
 "cells": [
  {
   "cell_type": "markdown",
   "metadata": {},
   "source": [
    "# Averaged power over depth bins"
   ]
  },
  {
   "cell_type": "markdown",
   "metadata": {},
   "source": [
    "### Mar 22, 2021"
   ]
  },
  {
   "cell_type": "markdown",
   "metadata": {},
   "source": [
    "## Code"
   ]
  },
  {
   "cell_type": "code",
   "execution_count": 10,
   "metadata": {},
   "outputs": [],
   "source": [
    "import sys\n",
    "import csv\n",
    "# sys.path.insert(0,\"/users/PCON0003/cond0068/.local/lib/python3.7/\")\n",
    "sys.path.append(\"/users/PAS0654/osu8354/ARA_cvmfs/root_build/lib/\") # go to parent dir\n",
    "sys.path.append(\"/users/PCON0003/cond0068/.local/lib/python3.7/site-packages/\")\n",
    "# sys.path.append(\"/users/PCON0003/cond0068/pyrex_sims/fromBen/thesis_work/pyrex-custom/analysis/custom/analysis/\")\n",
    "# import ROOT\n",
    "import math\n",
    "import numpy as np\n",
    "# from ROOT import TH1D,TF1, gRandom, gPad, gStyle\n",
    "import matplotlib as mpl\n",
    "import matplotlib.pyplot as plt\n",
    "# from ROOT import TChain, TSelector, TTree\n",
    "import os\n",
    "import matplotlib.colors as mcolors\n",
    "import scipy\n",
    "from matplotlib.colors import LogNorm\n",
    "import pandas as pd\n",
    "import pyrex\n",
    "import seaborn as sns\n",
    "%matplotlib inline\n",
    "sys.path.insert(1, \"/users/PAS0654/osu8354/ARA_cvmfs/source/AraRoot/analysis/ARA_analysis/CenA_sourceSearch/Stokes\")\n",
    "# import deDisperse_util as util\n",
    "# from pyrex.internal_functions import normalize\n",
    "my_path_plots = os.path.abspath(\"./plots/\")\n",
    "# import pyrex.custom.ara as ara\n",
    "\n",
    "\n",
    "\n",
    "from uncertainties import ufloat\n",
    "from uncertainties import unumpy\n"
   ]
  },
  {
   "cell_type": "code",
   "execution_count": 2,
   "metadata": {},
   "outputs": [],
   "source": [
    "# mpl.use('agg') \n",
    "mpl.rcParams['text.usetex'] = True\n",
    "mpl.rcParams['text.latex.unicode'] = True\n",
    "mpl.rcParams['mathtext.rm'] = 'Times New Roman'\n",
    "mpl.rcParams['mathtext.it'] = 'Times New Roman:italic'\n",
    "mpl.rcParams['mathtext.bf'] = 'Times New Roman:bold'\n",
    "\n",
    "mpl.rc('font', family='serif', size=12)\n",
    "mpl.rcParams['xtick.labelsize'] = 14\n",
    "mpl.rcParams['ytick.labelsize'] = 14\n",
    "mpl.rcParams['xtick.major.size'] = 5\n",
    "mpl.rcParams['ytick.major.size'] = 5\n",
    "\n",
    "mpl.rcParams['axes.titlesize'] = 18\n",
    "mpl.rcParams['axes.labelsize'] = 18\n",
    "# mpl.rc('font', size=16)\n",
    "mpl.rc('axes', titlesize=20)\n",
    "\n",
    "current_palette = sns.color_palette('colorblind', 10)\n",
    "import warnings\n",
    "warnings.filterwarnings(\"ignore\")"
   ]
  },
  {
   "cell_type": "markdown",
   "metadata": {},
   "source": [
    "# Soft triggers distribution"
   ]
  },
  {
   "cell_type": "code",
   "execution_count": 3,
   "metadata": {},
   "outputs": [],
   "source": [
    "wf = pd.read_pickle(\"/users/PAS0654/osu8354/ARA_cvmfs/source/AraRoot/analysis/ARA_analysis/ARA_Reconstruction/DPulsePower_run012559.pkl\")\n",
    "wf = wf.loc[wf.theta_reco>=90]\n",
    "#   = pd.read_pickle(\"/users/PAS0654/osu8354/ARA_cvmfs/source/AraRoot/analysis/ARA_analysis/ARA_Reconstruction/PowerNoise_softTriggers_run012559_newCalib.pkl\")"
   ]
  },
  {
   "cell_type": "markdown",
   "metadata": {},
   "source": [
    "### Add interpolated depth to df"
   ]
  },
  {
   "cell_type": "code",
   "execution_count": 4,
   "metadata": {},
   "outputs": [],
   "source": [
    "depth_1224 = pd.read_csv(\"./plots/SpiceCorePolReco/A2_1224Depth.txt\")\n",
    "time = pd.to_datetime(depth_1224.NZ_Time)\n",
    "# time = time.reindex(time)\n",
    "# time = time.tz_localize('NZ').tz_convert(\"UTC\")\n",
    "time.head()\n",
    "newTime = time.apply(lambda dt: dt.replace(day=24, month = 12, year = 2018))\n",
    "# newTime#Still in NZ local time. Need to translate to UTC\n",
    "df = pd.DataFrame(1, index=newTime, columns=['X'])\n",
    "import pytz\n",
    "nz = pytz.timezone('NZ')\n",
    "utc = pytz.timezone('UTC')\n",
    "df.index = df.index.tz_localize(nz).tz_convert(utc)\n",
    "unixTimeDepth = (df.index - pd.Timestamp(\"1970-01-01\").tz_localize(utc)) // pd.Timedelta('1s')#This is unix time "
   ]
  },
  {
   "cell_type": "code",
   "execution_count": 5,
   "metadata": {},
   "outputs": [],
   "source": [
    "f = scipy.interpolate.interp1d(unixTimeDepth, depth_1224.depth,bounds_error=False, fill_value=0.)\n",
    "wf = wf.loc[(wf.unixTime>min(wf.unixTime)) & (wf.unixTime<2.15*1E4+1.5456*1E9)]\n",
    "# softWf = softWf.loc[(softWf.unixTime>min(wf.unixTime)) & (softWf.unixTime<2.15*1E4+1.5456*1E9)]\n",
    "\n",
    "interp_depth = f(wf.unixTime)\n",
    "# interp_depthSoft = f(softWf.unixTime)\n",
    "\n",
    "wf[\"interp_depth\"] = interp_depth\n",
    "# softWf[\"interp_depth\"] = interp_depthSoft"
   ]
  },
  {
   "cell_type": "code",
   "execution_count": 6,
   "metadata": {},
   "outputs": [],
   "source": [
    "def rotation_matrix_from_vectors(vec1, vec2):\n",
    "    \"\"\" Find the rotation matrix that aligns vec1 to vec2\n",
    "    :param vec1: A 3d \"source\" vector\n",
    "    :param vec2: A 3d \"destination\" vector\n",
    "    :return mat: A transform matrix (3x3) which when applied to vec1, aligns it with vec2.\n",
    "    \"\"\"\n",
    "    a, b = (vec1 / np.linalg.norm(vec1)).reshape(3), (vec2 / np.linalg.norm(vec2)).reshape(3)\n",
    "    v = np.cross(a, b)\n",
    "    c = np.dot(a, b)\n",
    "    s = np.linalg.norm(v)\n",
    "    kmat = np.array([[0, -v[2], v[1]], [v[2], 0, -v[0]], [-v[1], v[0], 0]])\n",
    "    rotation_matrix = np.eye(3) + kmat + kmat.dot(kmat) * ((1 - c) / (s ** 2))\n",
    "    return rotation_matrix\n",
    "\n",
    "def rotatePolVector(launchVecSrc, recVec, PolVecAntenna):\n",
    "    recVec = -recVec #receiving vector needs to be reflected, otherwise rotation matrix will be off by pi\n",
    "    newPol = np.dot(PolVecAntenna,rotation_matrix_from_vectors(launchVecSrc,recVec))\n",
    "    return newPol\n",
    "\n",
    "def Rx(theta):\n",
    "    return np.matrix([[ 1, 0           , 0           ],\n",
    "                   [ 0, np.cos(theta),-np.sin(theta)],\n",
    "                   [ 0, np.sin(theta), np.cos(theta)]])"
   ]
  },
  {
   "cell_type": "code",
   "execution_count": 7,
   "metadata": {},
   "outputs": [],
   "source": [
    "def estimatePolRayTracer(depth):\n",
    "    #Take depth of pulser and calculate polarization rotation based on raytracer results.\n",
    "    rt = pyrex.RayTracer(from_point=(0, 0, -depth), to_point=(2400, 0, -179.93)) #Use the depth of the transmitter as the z-\n",
    "    #coordinate. A2 is at a horizontal distance of 2400 m from the pulser, and at a depth of 179.93 m\n",
    "    path = rt.solutions[0] #We only care about direct solutions\n",
    "    rotMat = rotation_matrix_from_vectors(path.received_direction,path.emitted_direction)\n",
    "    initPulserPol = np.array([0,0,1])\n",
    "#     initPulserPol = np.array([np.sqrt(0.25/2),np.sqrt(0.25/2),np.sqrt(0.75)])\n",
    "    rotAngle = np.pi/2-np.arccos(path.emitted_direction[2])\n",
    "#     pulserPol = np.array(np.matmul(initPulserPol,Rx(rotAngle)))[0]\n",
    "    rotatedPol = np.dot(initPulserPol,rotMat)\n",
    "    newOmegaPol = np.degrees(np.arccos(rotatedPol[2]))\n",
    "    polFinal = newOmegaPol-np.degrees(rotAngle)\n",
    "    return polFinal, np.degrees(rt.solutions[0].theta0), 180-np.degrees(np.arccos(path.received_direction[2]))\n",
    "\n",
    "def estimateRecAngle(depth):\n",
    "    #Take depth of pulser and calculate the receiving angle at the antenna\n",
    "    rt = pyrex.RayTracer(from_point=(0, 0, -depth), to_point=(2400, 0, -179.93)) #Use the depth of the transmitter as the z-\n",
    "    #coordinate. A2 is at a horizontal distance of 2400 m from the pulser, and at a depth of 179.93 m\n",
    "    path = rt.solutions[0] #We only care about direct solutions\n",
    "    return 180-np.degrees(np.arccos(path.received_direction[2]))"
   ]
  },
  {
   "cell_type": "markdown",
   "metadata": {},
   "source": [
    "### Average waveforms over certain depth"
   ]
  },
  {
   "cell_type": "code",
   "execution_count": 8,
   "metadata": {},
   "outputs": [],
   "source": [
    "def calculatePower(t, v):\n",
    "    dT = t[1]-t[0]\n",
    "    power = np.sum(v**2)*dT\n",
    "    return power"
   ]
  },
  {
   "cell_type": "code",
   "execution_count": 74,
   "metadata": {},
   "outputs": [
    {
     "data": {
      "text/plain": [
       "<Figure size 576x360 with 0 Axes>"
      ]
     },
     "metadata": {},
     "output_type": "display_data"
    }
   ],
   "source": [
    "plt.figure(figsize=(8,5))\n",
    "\n",
    "avgArray = []\n",
    "depthArr = []\n",
    "recAng = []\n",
    "errorArr = []\n",
    "errorArr2 = []\n",
    "increase = 20 # average waveoform values every 20 m\n",
    "for depth in range(600,1000,increase):\n",
    "    depthWf = wf.loc[(wf.interp_depth>=depth) & (wf.interp_depth<(depth+increase))]\n",
    "    depthWf = depthWf.drop(columns=['evNum','theta_reco', 'phi_reco', 'unixTime', 'interp_depth'])\n",
    "    if(len(depthWf)==0):\n",
    "        continue\n",
    "    errorArr.append(depthWf[\"ch2Wf\"].std())\n",
    "    errorArr2.append(depthWf[\"ch10Wf\"].std())\n",
    "    avg = []\n",
    "    for column in depthWf.columns:\n",
    "        avg.append(unumpy.uarray(np.array(depthWf[\"%s\"%column].mean()),depthWf[\"ch2Wf\"].std()/len(depthWf)))\n",
    "    avgArray.append(avg)\n",
    "    depthArr.append(depth)\n",
    "    tracerArray = estimatePolRayTracer(depth+increase/2)\n",
    "    recAng.append((tracerArray[2]))\n",
    "#     plt.hist(depthWf[\"ch2Wf\"], bins =20, alpha = 0.5, label = \"%i\"%depth);\n",
    "avgWf = pd.DataFrame(avgArray, columns = [*depthWf.columns])\n",
    "avgWf[\"depth\"] = depthArr\n",
    "avgWf[\"recAng\"] = recAng\n",
    "avgWf[\"error\"] = errorArr\n",
    "avgWf[\"error2\"] = errorArr2\n",
    "\n",
    "# plt.legend()\n",
    "# plt.xlabel(\"Vpol power\")\n",
    "avgWf = avgWf.dropna()"
   ]
  },
  {
   "cell_type": "code",
   "execution_count": 75,
   "metadata": {},
   "outputs": [],
   "source": [
    "noisePowerChan = np.array([ 198948.83237201,  618793.94802602,  741895.28129648,\n",
    "        272935.49802384,  324209.48699648,  208490.58954556,\n",
    "        641412.61161848,  341862.21483048,  986471.80705882,\n",
    "        608865.14894156,  710127.49137097,  551354.39763633,\n",
    "        691066.29589686,  360988.99495955,  834482.5863635 ,\n",
    "       2020906.83550409])"
   ]
  },
  {
   "cell_type": "code",
   "execution_count": 78,
   "metadata": {},
   "outputs": [],
   "source": [
    "from uncertainties import ufloat #uncertainties package\n",
    "from uncertainties import unumpy\n",
    "\n",
    "\n",
    "def getPsi(R):\n",
    "#     theta = np.radians(theta)\n",
    "#     phi = np.radians(phi)\n",
    "#     numerator = np.cos(theta)*np.sin(phi)+R*np.cos(phi)\n",
    "#     denominator = np.cos(theta)*np.cos(phi)-R*np.sin(phi)\n",
    "    return unumpy.degrees(unumpy.arctan(R))\n",
    "\n",
    "def getOmega(theta, R):\n",
    "#     R = ufloat(R, sigmaR)\n",
    "    theta = np.radians(theta)\n",
    "    numerator = np.sin(theta)\n",
    "    denominator = unumpy.sqrt(1+R**2)\n",
    "    return unumpy.degrees(unumpy.arccos(numerator/denominator))\n",
    "\n",
    "def getR(powH, powH_noise, powV, powV_noise, chi):\n",
    "    Rmeas = unumpy.sqrt((powH-powH_noise)/(powV-powV_noise))\n",
    "    return unumpy.sqrt((1-chi)*Rmeas**2-chi)\n",
    "\n",
    "def getDenom(powV):\n",
    "    denominator = powV\n",
    "    return denominator\n"
   ]
  },
  {
   "cell_type": "code",
   "execution_count": 77,
   "metadata": {},
   "outputs": [
    {
     "data": {
      "image/png": "[encoded data removed]",
      "text/plain": [
       "<Figure size 576x360 with 1 Axes>"
      ]
     },
     "metadata": {},
     "output_type": "display_data"
    }
   ],
   "source": [
    "plt.figure(figsize=(8,5))\n",
    "values = unumpy.nominal_values(getOmega(avgWf.recAng,getR(avgWf.ch10Wf/noisePowerChan[10],noisePowerChan[10]/noisePowerChan[10],avgWf.ch2Wf/noisePowerChan[2],noisePowerChan[2]/noisePowerChan[2],0)))\n",
    "errors = unumpy.std_devs(getOmega(avgWf.recAng,getR(avgWf.ch10Wf/noisePowerChan[10],noisePowerChan[10]/noisePowerChan[10],avgWf.ch2Wf/noisePowerChan[2],noisePowerChan[2]/noisePowerChan[2],0)))\n",
    "plt.scatter(avgWf.depth, values,label = \"$\\Omega_{measured}$ [Ch2, Ch10]\")\n",
    "# plt.plot(avgWf.depth, getOmega(avgWf.recAng,np.sqrt(unumpy.nominal_values(1/(-1+avgWf.ch2Wf/noisePowerChan[2])))),\"--\",lw=3,c =\"darkviolet\", label = \"$\\Omega_{true}$\")\n",
    "plt.plot(avgWf.depth, getOmega(avgWf.recAng,0),\"--\",lw=3,c =\"darkviolet\", label = \"$\\Omega_{true}$\")\n",
    "\n",
    "plt.errorbar(avgWf.depth,values, yerr=errors,alpha = 0.8, label = '$\\sigma/\\sqrt{N}$')\n",
    "plt.xlabel('Pulser depth [m]')\n",
    "plt.ylabel('$\\Omega$ [deg]')\n",
    "plt.legend()\n",
    "plt.grid()"
   ]
  },
  {
   "cell_type": "code",
   "execution_count": 64,
   "metadata": {},
   "outputs": [
    {
     "data": {
      "text/plain": [
       "array([0.15694179, 0.17443651, 0.17007574, 0.20693574, 0.20297445,\n",
       "       0.21019132, 0.22964626, 0.20976346, 0.22395967, 0.22528796,\n",
       "       0.22611234, 0.19171855, 0.19427527, 0.20389681, 0.21025702,\n",
       "       0.22433248, 0.2276034 , 0.229878  ])"
      ]
     },
     "execution_count": 64,
     "metadata": {},
     "output_type": "execute_result"
    }
   ],
   "source": [
    "np.sqrt(unumpy.nominal_values(noisePowerChan[10]/avgWf.ch2Wf))"
   ]
  },
  {
   "cell_type": "code",
   "execution_count": 37,
   "metadata": {},
   "outputs": [
    {
     "data": {
      "text/plain": [
       "array([0.04230923774692682+/-0.1250430499256177,\n",
       "       0.06441959150471367+/-0.06749029377652763,\n",
       "       0.05781563908849723+/-0.06438306931983175,\n",
       "       0.08022722035905279+/-0.02952836556428028,\n",
       "       0.081901379120896+/-0.05692381247816184,\n",
       "       0.09436641455354206+/-0.05547067926999318,\n",
       "       0.10376446181765137+/-0.05378036183502796,\n",
       "       0.09597704095171888+/-0.07490438089227462,\n",
       "       0.07958276908922769+/-0.03690623522239305,\n",
       "       0.08132408238152405+/-0.06274864399389178,\n",
       "       0.12131014213145147+/-0.022483065160579793,\n",
       "       0.08446982160831122+/-0.06620034014320707,\n",
       "       0.10414019472473694+/-0.07245043306678273,\n",
       "       0.09949133306061034+/-0.08183850104432701,\n",
       "       0.10597496255021868+/-0.16957344404240826,\n",
       "       0.13428699434159222+/-0.039947356326761635,\n",
       "       0.13068234096944428+/-0.06242198344716808,\n",
       "       0.16117558752934005+/-0.030216247702199186], dtype=object)"
      ]
     },
     "execution_count": 37,
     "metadata": {},
     "output_type": "execute_result"
    }
   ],
   "source": [
    "R = getR(avgWf.ch10Wf/noisePowerChan[10],1,avgWf.ch2Wf/noisePowerChan[2],1,0)\n",
    "R"
   ]
  },
  {
   "cell_type": "code",
   "execution_count": 269,
   "metadata": {},
   "outputs": [],
   "source": [
    "Om = getOmega(avgWf.recAng,R)"
   ]
  },
  {
   "cell_type": "code",
   "execution_count": 270,
   "metadata": {},
   "outputs": [
    {
     "data": {
      "text/plain": [
       "array([ 2.50280858,  4.15406187,  4.47160411,  6.07043859,  6.75049919,\n",
       "        7.83506864,  8.76551311,  9.05028989,  9.12679077,  9.7692829 ,\n",
       "       11.54022194, 11.00353967, 12.06832575, 12.47795335, 14.19844959,\n",
       "       15.41831638, 15.80097383, 17.10996243])"
      ]
     },
     "execution_count": 270,
     "metadata": {},
     "output_type": "execute_result"
    }
   ],
   "source": [
    "unumpy.nominal_values(Om)"
   ]
  },
  {
   "cell_type": "code",
   "execution_count": 286,
   "metadata": {},
   "outputs": [
    {
     "data": {
      "text/plain": [
       "array([11.327147122468794, 11.469189701146423, 11.698421105306732,\n",
       "       11.981361126267222, 12.300621633978984, 12.645753826819028,\n",
       "       13.009911736689167, 13.388346852610676, 13.777629955238933,\n",
       "       14.175165865873893, 14.57905275711632, 14.98778934144868,\n",
       "       15.400178094942277, 15.815260020329498, 17.069564421636784,\n",
       "       17.488906719526803, 17.90819189418258, 18.327106398576696],\n",
       "      dtype=object)"
      ]
     },
     "execution_count": 286,
     "metadata": {},
     "output_type": "execute_result"
    }
   ],
   "source": [
    "getOmega(avgWf.recAng,np.sqrt(0.04))"
   ]
  },
  {
   "cell_type": "code",
   "execution_count": null,
   "metadata": {},
   "outputs": [],
   "source": []
  }
 ],
 "metadata": {
  "kernelspec": {
   "display_name": "Python 3.6 (Conda 5.2) [python/3.6-conda5.2]",
   "language": "python",
   "name": "sys_python36conda"
  },
  "language_info": {
   "codemirror_mode": {
    "name": "ipython",
    "version": 3
   },
   "file_extension": ".py",
   "mimetype": "text/x-python",
   "name": "python",
   "nbconvert_exporter": "python",
   "pygments_lexer": "ipython3",
   "version": "3.6.6"
  }
 },
 "nbformat": 4,
 "nbformat_minor": 4
}
