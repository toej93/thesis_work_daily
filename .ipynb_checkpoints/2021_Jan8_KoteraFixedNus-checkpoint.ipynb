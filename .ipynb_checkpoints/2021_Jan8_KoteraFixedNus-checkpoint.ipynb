{
 "cells": [
  {
   "cell_type": "markdown",
   "metadata": {},
   "source": [
    "# Neutrino direction reconstruction using events from a fixed source and Kotera Max flux\n"
   ]
  },
  {
   "cell_type": "markdown",
   "metadata": {},
   "source": [
    "### Jan 8, 2021"
   ]
  },
  {
   "cell_type": "markdown",
   "metadata": {},
   "source": [
    "## Code"
   ]
  },
  {
   "cell_type": "code",
   "execution_count": 1,
   "metadata": {},
   "outputs": [
    {
     "name": "stdout",
     "output_type": "stream",
     "text": [
      "Welcome to JupyROOT 6.18/04\n"
     ]
    }
   ],
   "source": [
    "import sys\n",
    "import csv\n",
    "# sys.path.insert(0,\"/users/PCON0003/cond0068/.local/lib/python3.7/\")\n",
    "sys.path.append(\"/users/PAS0654/osu8354/ARA_cvmfs/root_build/lib/\") # go to parent dir\n",
    "sys.path.append(\"/users/PCON0003/cond0068/.local/lib/python3.7/site-packages/\")\n",
    "# sys.path.append(\"/users/PCON0003/cond0068/pyrex_sims/fromBen/thesis_work/pyrex-custom/analysis/custom/analysis/\")\n",
    "import ROOT\n",
    "import math\n",
    "import numpy as np\n",
    "from ROOT import TH1D,TF1, gRandom, gPad, gStyle\n",
    "import matplotlib as mpl\n",
    "import matplotlib.pyplot as plt\n",
    "from ROOT import TChain, TSelector, TTree\n",
    "import os\n",
    "import matplotlib.colors as mcolors\n",
    "import scipy\n",
    "from matplotlib.colors import LogNorm\n",
    "import pandas as pd\n",
    "import pyrex\n",
    "import seaborn as sns\n",
    "%matplotlib inline\n",
    "sys.path.insert(1, \"/users/PAS0654/osu8354/ARA_cvmfs/source/AraRoot/analysis/ARA_analysis/CenA_sourceSearch/Stokes\")\n",
    "import deDisperse_util as util\n",
    "from pyrex.internal_functions import normalize\n",
    "my_path_plots = os.path.abspath(\"./plots/\")\n",
    "import pyrex.custom.ara as ara\n"
   ]
  },
  {
   "cell_type": "code",
   "execution_count": 2,
   "metadata": {},
   "outputs": [],
   "source": [
    "# mpl.use('agg') \n",
    "mpl.rcParams['text.usetex'] = True\n",
    "mpl.rcParams['text.latex.unicode'] = True\n",
    "mpl.rcParams['mathtext.rm'] = 'Times New Roman'\n",
    "mpl.rcParams['mathtext.it'] = 'Times New Roman:italic'\n",
    "mpl.rcParams['mathtext.bf'] = 'Times New Roman:bold'\n",
    "\n",
    "mpl.rc('font', family='serif', size=12)\n",
    "mpl.rcParams['xtick.labelsize'] = 14\n",
    "mpl.rcParams['ytick.labelsize'] = 14\n",
    "mpl.rcParams['xtick.major.size'] = 5\n",
    "mpl.rcParams['ytick.major.size'] = 5\n",
    "\n",
    "mpl.rcParams['axes.titlesize'] = 18\n",
    "mpl.rcParams['axes.labelsize'] = 18\n",
    "# mpl.rc('font', size=16)\n",
    "mpl.rc('axes', titlesize=20)\n",
    "\n",
    "current_palette = sns.color_palette('colorblind', 10)\n",
    "import warnings\n",
    "warnings.filterwarnings(\"ignore\")\n"
   ]
  },
  {
   "cell_type": "code",
   "execution_count": 3,
   "metadata": {},
   "outputs": [],
   "source": [
    "def nuDirReco(polVec,propVec,viewAng):\n",
    "    propVec = -propVec\n",
    "    recoDir = np.sin(viewAng)*polVec-np.cos(viewAng)*propVec\n",
    "    return recoDir"
   ]
  },
  {
   "cell_type": "code",
   "execution_count": 4,
   "metadata": {},
   "outputs": [
    {
     "ename": "IndentationError",
     "evalue": "unexpected indent (<ipython-input-4-8051d93f4b5c>, line 48)",
     "output_type": "error",
     "traceback": [
      "\u001b[0;36m  File \u001b[0;32m\"<ipython-input-4-8051d93f4b5c>\"\u001b[0;36m, line \u001b[0;32m48\u001b[0m\n\u001b[0;31m    propVec = np.array([np.sin(i.theta_reco)*np.cos(i.phi_reco),np.sin(i.theta_reco)*np.sin(i.phi_reco),np.cos(i.theta_reco)])\u001b[0m\n\u001b[0m    ^\u001b[0m\n\u001b[0;31mIndentationError\u001b[0m\u001b[0;31m:\u001b[0m unexpected indent\n"
     ]
    }
   ],
   "source": [
    "appended_data = []\n",
    "import os\n",
    "for filename in os.listdir(\"/users/PAS0654/osu8354/ARA_cvmfs/source/AraRoot/analysis/ARA_analysis/CenA_sourceSearch/Stokes/KoteraFixed/\"):#Loop over desired directory\n",
    "        if (filename.startswith(\"KoteraFixed\")): #extension, .root in this case\n",
    "            name = os.path.join(\"/users/PAS0654/osu8354/ARA_cvmfs/source/AraRoot/analysis/ARA_analysis/CenA_sourceSearch/Stokes/KoteraFixed/\", str(filename))\n",
    "            data = pd.read_pickle(name)\n",
    "            appended_data.append(data)\n",
    "recoNu = pd.concat(appended_data) \n",
    "# recoNu = pd.read_pickle(\"/users/PAS0654/osu8354/ARA_cvmfs/source/AraRoot/analysis/ARA_analysis/CenA_sourceSearch/Stokes/debug/pol_quant_noiseless.pkl\")\n",
    "recoNu = recoNu.loc[abs(recoNu.maxV)>1]\n",
    "recoNu = recoNu.loc[abs(recoNu.maxV)<1350]\n",
    "recoNu = recoNu.loc[abs(recoNu.maxH)>1]\n",
    "recoNu = recoNu.loc[abs(recoNu.maxH)<1350]\n",
    "recoNu = recoNu.loc[recoNu.theta_reco>=np.pi/2]\n",
    "# recoNu = recoNu.loc[recoNu.weight>1E-100]\n",
    "# recoNu[\"SNR_V\"] = abs(recoNu.maxV)/recoNu.rmsV\n",
    "# recoNu[\"SNR_H\"] = abs(recoNu.maxH)/recoNu.rmsH\n",
    "# recoNu = recoNu.loc[abs(recoNu.SNR_H-5)<1]\n",
    "# recoNu = recoNu.loc[recoNu.SNR_H>=5]\n",
    "# recoNu = recoNu.loc[recoNu.SNR_V>=5]\n",
    "print(len(recoNu))\n",
    "\n",
    "\n",
    "array2 = []\n",
    "R_True = []\n",
    "R_Reco = []\n",
    "propVec = []\n",
    "dot = []\n",
    "nnu_Reco = []\n",
    "for i in recoNu.itertuples(): \n",
    "    thetaHat = np.array([np.cos(i.theta_reco)*np.cos(i.phi_reco), np.cos(i.theta_reco)*np.sin(i.phi_reco), -np.sin(i.theta_reco)])\n",
    "    phiHat = np.array([-np.sin(i.phi_reco), np.cos(i.phi_reco),0])\n",
    "    if(i.powerH==0 or i.powerV==0):\n",
    "        R_Reco.append(np.nan)\n",
    "        R_True.append(np.nan)\n",
    "        array2.append(np.nan)\n",
    "        dot.append(np.nan)\n",
    "        nnu_Reco.append(np.nan)\n",
    "        continue\n",
    "    R_Reco.append(np.sqrt(i.powerH/i.powerV))\n",
    "#     R_Reco.append(abs(i.peak_H/i.peak_V))\n",
    "    R = np.dot(i.PolTrue,phiHat)/(np.dot(i.PolTrue,thetaHat))\n",
    "    R_True.append(R)\n",
    "    array2.append(util.PolVectorRecoPower_debug(i.powerV,i.powerH, i.theta_reco, i.phi_reco,np.sign(R)))\n",
    "#     array2.append(util.PolVectorReco_debug(i.peak_V,i.peak_H, i.theta_reco, i.phi_reco,np.sign(R)))\n",
    "# nnu_Reco.append(nuDirReco(util.PolVectorRecoPower_debug(i.powerV,i.powerH, i.theta_reco, i.phi_reco,np.sign(R)),i.dirProp,i.view_ang))\n",
    "    nnu_Reco.append(nuDirReco(i.recoNu.PolTrue,i.dirProp,i.view_ang))\n",
    "    propVec = np.array([np.sin(i.theta_reco)*np.cos(i.phi_reco),np.sin(i.theta_reco)*np.sin(i.phi_reco),np.cos(i.theta_reco)])\n",
    "    dot.append(np.dot(propVec,i.PolTrue))\n",
    "recoNu[\"PolReco2\"] = array2\n",
    "recoNu[\"nnu_Reco\"] = nnu_Reco\n",
    "# recoNu[\"PolReco2\"] = util.PolVectorReco(recoNu.maxV, recoNu.maxH, recoNu.theta_reco,recoNu.phi_reco)\n",
    "\n",
    "recoNu[\"R_True\"] = R_True\n",
    "recoNu[\"R_Reco\"] = R_Reco\n",
    "recoNu[\"dotProd\"] = dot\n",
    "recoNu = recoNu.dropna()\n",
    "\n",
    "# recoNu = recoNu.loc[abs(np.degrees(recoNu.view_ang)-56.037)<5]\n",
    "\n",
    "\n",
    "Px_true = np.array([element[0] for element in recoNu.PolTrue])\n",
    "Py_true = np.array([element[1] for element in recoNu.PolTrue])\n",
    "Pz_true = np.array([element[2] for element in recoNu.PolTrue])\n",
    "\n",
    "Px_reco = np.array([element[0] for element in recoNu.PolReco2])\n",
    "Py_reco = np.array([element[1] for element in recoNu.PolReco2])\n",
    "Pz_reco = np.array([element[2] for element in recoNu.PolReco2])\n",
    "\n",
    "\n",
    "nnuX_true = np.array([element[0] for element in recoNu.nnu])\n",
    "nnuY_true = np.array([element[1] for element in recoNu.nnu])\n",
    "nnuZ_true = np.array([element[2] for element in recoNu.nnu])\n",
    "\n",
    "nnuX_reco = -1*np.array([element[0] for element in recoNu.nnu_Reco])\n",
    "nnuY_reco = -1*np.array([element[1] for element in recoNu.nnu_Reco])\n",
    "nnuZ_reco = -1*np.array([element[2] for element in recoNu.nnu_Reco])\n",
    "\n",
    "thetaNnu_true = np.degrees(np.arccos((nnuZ_true)))\n",
    "thetaNnu_reco = np.degrees(np.arccos((nnuZ_reco)))\n",
    "phiNnu_true = np.degrees(np.arctan2((nnuY_true),(nnuX_true)))\n",
    "phiNnu_reco = np.degrees(np.arctan2((nnuY_reco),(nnuX_reco)))\n",
    "\n",
    "\n",
    "\n",
    "recoNu[\"delta\"] = thetaNnu_reco-thetaNnu_true\n",
    "# recoNu[\"thetaPol_reco\"] = thetaPol_reco\n",
    "# recoNu[\"thetaPol_true\"] = thetaPol_true\n",
    "\n",
    "recoNu[\"deltaPhi\"] = phiNnu_reco-phiNnu_true\n",
    "# # recoNu.loc[np.sign(recoNu.R_True)-recoNu.R_recoSign==0]\n",
    "\n",
    "\n",
    "# delta = thetaPol_reco-thetaPol_true\n",
    "# deltaPhi = phiPol_reco-phiPol_true\n",
    "recoNu = recoNu.dropna()\n",
    "# delta = delta[~np.isnan(delta)]\n"
   ]
  },
  {
   "cell_type": "code",
   "execution_count": 5,
   "metadata": {},
   "outputs": [
    {
     "data": {
      "image/png": "[encoded data removed]",
      "text/plain": [
       "<Figure size 504x360 with 1 Axes>"
      ]
     },
     "metadata": {},
     "output_type": "display_data"
    }
   ],
   "source": [
    "delta = recoNu[\"delta\"]\n",
    "plt.figure(figsize=(7,5))\n",
    "delta_mean= np.ma.average(delta,weights=recoNu.weight)\n",
    "variance = np.dot(recoNu.weight, (delta - delta_mean) ** 2) / recoNu.weight.sum()\n",
    "delta_std = np.sqrt(variance)\n",
    "\n",
    "sns.distplot(delta, bins=100,hist_kws={'weights': recoNu.weight},norm_hist=True,kde=False,label = \"Using MC truth [$\\sigma$=%0.2f]\"%(delta_std));\n",
    "\n",
    "# delta_std = recoNu_noise.deltaTheta.std()\n",
    "# delta_mean = recoNu_noise.deltaTheta.mean()\n",
    "# plt.hist(recoNu_noise.deltaTheta, bins=500, density=True, alpha=0.5, color=\"C1\",label = \"W/noise [$\\mu$=%0.2f, $\\sigma$=%0.2f]\"%(delta_mean, delta_std));\n",
    "\n",
    "plt.xlabel(\"$\\\\theta_{reco}-\\\\theta_{true}$ [deg]\")\n",
    "# plt.xlabel(\"$\\\\theta$\")\n",
    "plt.ylabel('Counts [norm, weighted.]')\n",
    "# plt.title(\"Polarization reconstruction vs. MC truth \\n $10^{18}-10^{21}$ eV events (no cuts)\")\n",
    "plt.title(\"Neutrino directional reconstruction using MC truth \\n $10^{18}-10^{20}$ eV (SNR$>$5 +saturation cut+no 2nd solution+no mag.)\", fontsize=16)\n",
    "# plt.xlim(-10,10)\n",
    "# plt.yscale('log')\n",
    "plt.grid()\n",
    "plt.legend()\n",
    "plt.tight_layout()\n",
    "# plt.savefig(my_path_plots+'/Dumpster/recoVsTrue_AraSim_noCuts.pdf')\n",
    "# plt.savefig(my_path_plots+'/Dumpster/recoVsTrue_noNoiseOmega.png', dpi=250)\n"
   ]
  },
  {
   "cell_type": "code",
   "execution_count": 64,
   "metadata": {},
   "outputs": [
    {
     "data": {
      "text/plain": [
       "(-10, 10)"
      ]
     },
     "execution_count": 64,
     "metadata": {},
     "output_type": "execute_result"
    },
    {
     "data": {
      "image/png": "[encoded data removed]",
      "text/plain": [
       "<Figure size 432x288 with 1 Axes>"
      ]
     },
     "metadata": {},
     "output_type": "display_data"
    }
   ],
   "source": [
    "plt.hist(delta, weights=recoNu.weight,bins=1000);\n",
    "plt.xlim(-10,10)"
   ]
  },
  {
   "cell_type": "code",
   "execution_count": null,
   "metadata": {},
   "outputs": [],
   "source": []
  }
 ],
 "metadata": {
  "kernelspec": {
   "display_name": "Python 3.6 (Conda 5.2) [python/3.6-conda5.2]",
   "language": "python",
   "name": "sys_python36conda"
  },
  "language_info": {
   "codemirror_mode": {
    "name": "ipython",
    "version": 3
   },
   "file_extension": ".py",
   "mimetype": "text/x-python",
   "name": "python",
   "nbconvert_exporter": "python",
   "pygments_lexer": "ipython3",
   "version": "3.6.6"
  }
 },
 "nbformat": 4,
 "nbformat_minor": 4
}
