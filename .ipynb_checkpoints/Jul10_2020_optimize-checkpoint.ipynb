{
 "cells": [
  {
   "cell_type": "markdown",
   "metadata": {},
   "source": [
    "# Analyze 10 % data and get new slope"
   ]
  },
  {
   "cell_type": "markdown",
   "metadata": {
    "hidePrompt": false
   },
   "source": [
    "### Jun 24, 2020"
   ]
  },
  {
   "cell_type": "markdown",
   "metadata": {
    "hideCode": false
   },
   "source": [
    "## Code"
   ]
  },
  {
   "cell_type": "code",
   "execution_count": 2,
   "metadata": {
    "hideCode": false,
    "slideshow": {
     "slide_type": "-"
    }
   },
   "outputs": [
    {
     "name": "stdout",
     "output_type": "stream",
     "text": [
      "Welcome to JupyROOT 6.18/04\n"
     ]
    }
   ],
   "source": [
    "import sys\n",
    "sys.path.insert(0,\"/users/PCON0003/cond0068/.local/lib/python3.7/\")\n",
    "sys.path.append(\"/users/PAS0654/osu8354/ARA_cvmfs/root_build/lib/\") # go to parent dir\n",
    "sys.path.append(\"/users/PCON0003/cond0068/.local/lib/python3.7/site-packages/\")\n",
    "import ROOT\n",
    "import math\n",
    "import numpy as np\n",
    "from ROOT import TH1D,TF1, gRandom, gPad, gStyle\n",
    "import matplotlib.pyplot as plt\n",
    "from ROOT import TChain, TSelector, TTree\n",
    "import os\n",
    "import matplotlib.colors as mcolors\n",
    "import scipy\n",
    "from matplotlib.colors import LogNorm"
   ]
  },
  {
   "cell_type": "markdown",
   "metadata": {},
   "source": [
    "### Explore ROOT file"
   ]
  },
  {
   "cell_type": "code",
   "execution_count": 21,
   "metadata": {},
   "outputs": [
    {
     "name": "stdout",
     "output_type": "stream",
     "text": [
      "TFile**\t\t/fs/project/PAS0654/ARA_DATA/A23/10pct_redo/ValsForCuts/A2/c1/cutvals_drop_FiltSurface_snrbins_0_0_wfrmsvals_-1.3_-1.4_run_2275.root\t\n",
      " TFile*\t\t/fs/project/PAS0654/ARA_DATA/A23/10pct_redo/ValsForCuts/A2/c1/cutvals_drop_FiltSurface_snrbins_0_0_wfrmsvals_-1.3_-1.4_run_2275.root\t\n",
      "  KEY: TTree\tVTree;1\tVTree\n",
      "  KEY: TTree\tHTree;1\tHTree\n",
      "  KEY: TTree\tAllTree;2\tAllTree\n",
      "  KEY: TTree\tAllTree;1\tAllTree\n",
      "  KEY: TTree\tOutputTree;1\tOutputTree\n"
     ]
    }
   ],
   "source": [
    "f = ROOT.TFile.Open(\"/fs/project/PAS0654/ARA_DATA/A23/10pct_redo/ValsForCuts/A2/c1/cutvals_drop_FiltSurface_snrbins_0_0_wfrmsvals_-1.3_-1.4_run_2275.root\")\n",
    "f.ls()"
   ]
  },
  {
   "cell_type": "code",
   "execution_count": 25,
   "metadata": {},
   "outputs": [
    {
     "name": "stdout",
     "output_type": "stream",
     "text": [
      "******************************************************************************\n",
      "*Tree    :VTree     : VTree                                                  *\n",
      "*Entries :     8827 : Total =         1253123 bytes  File  Size =     399123 *\n",
      "*        :          : Tree compression factor =   3.12                       *\n",
      "******************************************************************************\n",
      "*Br    0 :corr_val_V_org : corr_val_V_org/D                                  *\n",
      "*Entries :     8827 : Total  Size=      71391 bytes  File Size  =      65775 *\n",
      "*Baskets :        3 : Basket Size=      32000 bytes  Compression=   1.08     *\n",
      "*............................................................................*\n",
      "*Br    1 :snr_val_V_org : snr_val_V_org/D                                    *\n",
      "*Entries :     8827 : Total  Size=      71384 bytes  File Size  =      66303 *\n",
      "*Baskets :        3 : Basket Size=      32000 bytes  Compression=   1.07     *\n",
      "*............................................................................*\n",
      "*Br    2 :wfrms_val_V_org : wfrms_val_V_org/I                                *\n",
      "*Entries :     8827 : Total  Size=      35999 bytes  File Size  =       3276 *\n",
      "*Baskets :        2 : Basket Size=      32000 bytes  Compression=  10.83     *\n",
      "*............................................................................*\n",
      "*Br    3 :theta_300_V_org : theta_300_V_org/I                                *\n",
      "*Entries :     8827 : Total  Size=      35999 bytes  File Size  =      14611 *\n",
      "*Baskets :        2 : Basket Size=      32000 bytes  Compression=   2.43     *\n",
      "*............................................................................*\n",
      "*Br    4 :theta_41_V_org : theta_41_V_org/I                                  *\n",
      "*Entries :     8827 : Total  Size=      35993 bytes  File Size  =      14763 *\n",
      "*Baskets :        2 : Basket Size=      32000 bytes  Compression=   2.40     *\n",
      "*............................................................................*\n",
      "*Br    5 :phi_300_V_org : phi_300_V_org/I                                    *\n",
      "*Entries :     8827 : Total  Size=      35987 bytes  File Size  =      15443 *\n",
      "*Baskets :        2 : Basket Size=      32000 bytes  Compression=   2.30     *\n",
      "*............................................................................*\n",
      "*Br    6 :phi_41_V_org : phi_41_V_org/I                                      *\n",
      "*Entries :     8827 : Total  Size=      35981 bytes  File Size  =      15359 *\n",
      "*Baskets :        2 : Basket Size=      32000 bytes  Compression=   2.31     *\n",
      "*............................................................................*\n",
      "*Br    7 :corr_val_V_new : corr_val_V_new/D                                  *\n",
      "*Entries :     8827 : Total  Size=      71391 bytes  File Size  =      65774 *\n",
      "*Baskets :        3 : Basket Size=      32000 bytes  Compression=   1.08     *\n",
      "*............................................................................*\n",
      "*Br    8 :snr_val_V_new : snr_val_V_new/D                                    *\n",
      "*Entries :     8827 : Total  Size=      71384 bytes  File Size  =      66303 *\n",
      "*Baskets :        3 : Basket Size=      32000 bytes  Compression=   1.07     *\n",
      "*............................................................................*\n",
      "*Br    9 :wfrms_val_V_new : wfrms_val_V_new/I                                *\n",
      "*Entries :     8827 : Total  Size=      35999 bytes  File Size  =       3276 *\n",
      "*Baskets :        2 : Basket Size=      32000 bytes  Compression=  10.83     *\n",
      "*............................................................................*\n",
      "*Br   10 :theta_300_V_new : theta_300_V_new/I                                *\n",
      "*Entries :     8827 : Total  Size=      35999 bytes  File Size  =      14611 *\n",
      "*Baskets :        2 : Basket Size=      32000 bytes  Compression=   2.43     *\n",
      "*............................................................................*\n",
      "*Br   11 :theta_41_V_new : theta_41_V_new/I                                  *\n",
      "*Entries :     8827 : Total  Size=      35993 bytes  File Size  =      14763 *\n",
      "*Baskets :        2 : Basket Size=      32000 bytes  Compression=   2.40     *\n",
      "*............................................................................*\n",
      "*Br   12 :phi_300_V_new : phi_300_V_new/I                                    *\n",
      "*Entries :     8827 : Total  Size=      35987 bytes  File Size  =      15444 *\n",
      "*Baskets :        2 : Basket Size=      32000 bytes  Compression=   2.30     *\n",
      "*............................................................................*\n",
      "*Br   13 :phi_41_V_new : phi_41_V_new/I                                      *\n",
      "*Entries :     8827 : Total  Size=      35981 bytes  File Size  =      15357 *\n",
      "*Baskets :        2 : Basket Size=      32000 bytes  Compression=   2.31     *\n",
      "*............................................................................*\n",
      "*Br   14 :Refilt_V  : Refilt_V/I                                             *\n",
      "*Entries :     8827 : Total  Size=      35957 bytes  File Size  =        387 *\n",
      "*Baskets :        2 : Basket Size=      32000 bytes  Compression=  91.63     *\n",
      "*............................................................................*\n",
      "*Br   15 :PowerNotch_Chan0 : PowerNotch_Chan0/D                              *\n",
      "*Entries :     8827 : Total  Size=      71405 bytes  File Size  =        720 *\n",
      "*Baskets :        3 : Basket Size=      32000 bytes  Compression=  98.43     *\n",
      "*............................................................................*\n",
      "*Br   16 :PowerNotch_Chan1 : PowerNotch_Chan1/D                              *\n",
      "*Entries :     8827 : Total  Size=      71405 bytes  File Size  =        720 *\n",
      "*Baskets :        3 : Basket Size=      32000 bytes  Compression=  98.43     *\n",
      "*............................................................................*\n",
      "*Br   17 :PowerNotch_Chan2 : PowerNotch_Chan2/D                              *\n",
      "*Entries :     8827 : Total  Size=      71405 bytes  File Size  =        717 *\n",
      "*Baskets :        3 : Basket Size=      32000 bytes  Compression=  98.84     *\n",
      "*............................................................................*\n",
      "*Br   18 :PowerNotch_Chan3 : PowerNotch_Chan3/D                              *\n",
      "*Entries :     8827 : Total  Size=      71405 bytes  File Size  =        718 *\n",
      "*Baskets :        3 : Basket Size=      32000 bytes  Compression=  98.70     *\n",
      "*............................................................................*\n",
      "*Br   19 :PowerNotch_Chan4 : PowerNotch_Chan4/D                              *\n",
      "*Entries :     8827 : Total  Size=      71405 bytes  File Size  =        721 *\n",
      "*Baskets :        3 : Basket Size=      32000 bytes  Compression=  98.29     *\n",
      "*............................................................................*\n",
      "*Br   20 :PowerNotch_Chan5 : PowerNotch_Chan5/D                              *\n",
      "*Entries :     8827 : Total  Size=      71405 bytes  File Size  =        717 *\n",
      "*Baskets :        3 : Basket Size=      32000 bytes  Compression=  98.84     *\n",
      "*............................................................................*\n",
      "*Br   21 :PowerNotch_Chan6 : PowerNotch_Chan6/D                              *\n",
      "*Entries :     8827 : Total  Size=      71405 bytes  File Size  =        714 *\n",
      "*Baskets :        3 : Basket Size=      32000 bytes  Compression=  99.25     *\n",
      "*............................................................................*\n",
      "*Br   22 :PowerNotch_Chan7 : PowerNotch_Chan7/D                              *\n",
      "*Entries :     8827 : Total  Size=      71405 bytes  File Size  =        721 *\n",
      "*Baskets :        3 : Basket Size=      32000 bytes  Compression=  98.29     *\n",
      "*............................................................................*\n"
     ]
    }
   ],
   "source": [
    "f.Get(\"VTree\").Print()"
   ]
  },
  {
   "cell_type": "markdown",
   "metadata": {
    "hideCode": false,
    "hideOutput": false,
    "hidePrompt": false
   },
   "source": [
    "## Plots"
   ]
  },
  {
   "cell_type": "code",
   "execution_count": null,
   "metadata": {},
   "outputs": [],
   "source": [
    "file_list=[]#Define an empty list\n",
    "for filename in os.listdir(\"/fs/project/PAS0654/ARA_DATA/A23/10pct_redo/ValsForCuts/A2\"):#Loop over desired directory\n",
    "    if filename.endswith(\".root\"): #extension, .root in this case\n",
    "        file_list.append(os.path.join(\"/fs/project/PAS0654/ARA_DATA/A23/10pct_redo/ValsForCuts/A2\", str(filename))) #add file name to the list"
   ]
  },
  {
   "cell_type": "code",
   "execution_count": null,
   "metadata": {},
   "outputs": [],
   "source": [
    "chain = TChain(\"allCuts\") #Define chain and tree that needs to be read. \"allCuts\" in this case.\n",
    "for line in file_list:\n",
    "    chain.AddFile(line)"
   ]
  },
  {
   "cell_type": "code",
   "execution_count": null,
   "metadata": {},
   "outputs": [],
   "source": [
    "corr_val = []\n",
    "snr_val = []\n",
    "failsRcut = []\n",
    "this_y_val = []\n",
    "weight = []\n",
    "energy = []\n",
    "peakTheta_300m = []\n",
    "peakPhi_300m = []\n",
    "for entry in chain:\n",
    "#     if(entry.peakCorr_single[0]<0.01): continue\n",
    "#     if(entry.peakPhi_single[0]<0):\n",
    "#         phi.append(entry.peakPhi_single[0]+180) #extract variables of interest\n",
    "#     else:\n",
    "    corr_val.append(entry.corr_val[0]) \n",
    "    snr_val.append(entry.snr_val[0]) \n",
    "    failsRcut.append(entry.failsRcut[0])\n",
    "    this_y_val.append(entry.this_y_val[0])\n",
    "    weight.append(entry.weight)\n",
    "    energy.append(entry.energy)\n",
    "    peakTheta_300m.append(entry.peakTheta_300m[0]+90)\n",
    "    peakPhi_300m.append(entry.peakPhi_300m[0])"
   ]
  }
 ],
 "metadata": {
  "celltoolbar": "Hide code",
  "kernelspec": {
   "display_name": "Python 3.6 (Conda 5.2) [python/3.6-conda5.2]",
   "language": "python",
   "name": "sys_python36conda"
  },
  "language_info": {
   "codemirror_mode": {
    "name": "ipython",
    "version": 3
   },
   "file_extension": ".py",
   "mimetype": "text/x-python",
   "name": "python",
   "nbconvert_exporter": "python",
   "pygments_lexer": "ipython3",
   "version": "3.6.6"
  }
 },
 "nbformat": 4,
 "nbformat_minor": 2
}
