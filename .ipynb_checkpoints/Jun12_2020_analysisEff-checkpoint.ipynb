{
 "cells": [
  {
   "cell_type": "markdown",
   "metadata": {},
   "source": [
    "# Get analysis efficiency"
   ]
  },
  {
   "cell_type": "markdown",
   "metadata": {},
   "source": [
    "### June 12, 2020"
   ]
  },
  {
   "cell_type": "markdown",
   "metadata": {},
   "source": [
    "## Code"
   ]
  },
  {
   "cell_type": "markdown",
   "metadata": {},
   "source": [
    "### Import needed packages"
   ]
  },
  {
   "cell_type": "code",
   "execution_count": 1,
   "metadata": {},
   "outputs": [
    {
     "name": "stdout",
     "output_type": "stream",
     "text": [
      "Welcome to JupyROOT 6.18/04\n"
     ]
    }
   ],
   "source": [
    "import sys\n",
    "sys.path.insert(0,\"/users/PCON0003/cond0068/.local/lib/python3.7/\")\n",
    "sys.path.append(\"/users/PAS0654/osu8354/ARA_cvmfs/root_build/lib/\") # go to parent dir\n",
    "sys.path.append(\"/users/PCON0003/cond0068/.local/lib/python3.7/site-packages/\")\n",
    "import ROOT\n",
    "import math\n",
    "import numpy as np\n",
    "from ROOT import TH1D,TF1, gRandom, gPad, gStyle\n",
    "import matplotlib.pyplot as plt\n",
    "from ROOT import TChain, TSelector, TTree\n",
    "import os\n",
    "import matplotlib.colors as mcolors\n",
    "import scipy\n",
    "from matplotlib.colors import LogNorm\n",
    "import seaborn as sns\n",
    "import pandas as pd"
   ]
  },
  {
   "cell_type": "markdown",
   "metadata": {},
   "source": [
    "### Get data from ROOT files"
   ]
  },
  {
   "cell_type": "code",
   "execution_count": 2,
   "metadata": {},
   "outputs": [],
   "source": [
    "file_list=[]#Define an empty list\n",
    "for filename in os.listdir(\"/users/PAS0654/osu8354/ARA_cvmfs/source/AraRoot/analysis/allCuts/data/\"):#Loop over desired directory\n",
    "    if filename.endswith(\".root\"): #extension, .root in this case\n",
    "        file_list.append(os.path.join(\"/users/PAS0654/osu8354/ARA_cvmfs/source/AraRoot/analysis/allCuts/data/\", str(filename))) #add file name to the list\n",
    "        \n",
    "        "
   ]
  },
  {
   "cell_type": "code",
   "execution_count": 3,
   "metadata": {},
   "outputs": [],
   "source": [
    "chain = TChain(\"allCuts\") #Define chain and tree that needs to be read. \"allCuts\" in this case.\n",
    "for line in file_list:\n",
    "    chain.AddFile(line)"
   ]
  },
  {
   "cell_type": "code",
   "execution_count": 4,
   "metadata": {},
   "outputs": [],
   "source": [
    "corr_val = []\n",
    "snr_val = []\n",
    "failsRcut_V = []\n",
    "failsRcut_H = []\n",
    "# this_y_val = []\n",
    "weight = []\n",
    "energy = []\n",
    "failsTopV = []\n",
    "failsTopH = []\n",
    "isSurface = []\n",
    "# peakTheta_300m = []\n",
    "# peakPhi_300m = []\n",
    "for entry in chain:\n",
    "#     if(entry.peakCorr_single[0]<0.01): continue\n",
    "#     if(entry.peakPhi_single[0]<0):\n",
    "#         phi.append(entry.peakPhi_single[0]+180) #extract variables of interest\n",
    "#     else:\n",
    "    corr_val.append(entry.corr_val[0]) \n",
    "    snr_val.append(entry.snr_val[0]) \n",
    "    failsRcut_V.append(entry.failsRcut[0])\n",
    "    failsRcut_H.append(entry.failsRcut[1])\n",
    "    failsTopV.append(entry.failsTopV)\n",
    "    failsTopH.append(entry.failsTopH)\n",
    "    isSurface.append(entry.isSurface)\n",
    "\n",
    "    \n",
    "#     this_y_val.append(entry.this_y_val[0])\n",
    "    weight.append(entry.weight)\n",
    "    energy.append(entry.energy)\n",
    "#     peakTheta_300m.append(entry.peakTheta_300m[0]+90)\n",
    "#     peakPhi_300m.append(entry.peakPhi_300m[0])"
   ]
  },
  {
   "cell_type": "markdown",
   "metadata": {},
   "source": [
    "### Let's first bin up the energies"
   ]
  },
  {
   "cell_type": "code",
   "execution_count": 28,
   "metadata": {},
   "outputs": [
    {
     "data": {
      "text/html": [
       "<div>\n",
       "<style scoped>\n",
       "    .dataframe tbody tr th:only-of-type {\n",
       "        vertical-align: middle;\n",
       "    }\n",
       "\n",
       "    .dataframe tbody tr th {\n",
       "        vertical-align: top;\n",
       "    }\n",
       "\n",
       "    .dataframe thead th {\n",
       "        text-align: right;\n",
       "    }\n",
       "</style>\n",
       "<table border=\"1\" class=\"dataframe\">\n",
       "  <thead>\n",
       "    <tr style=\"text-align: right;\">\n",
       "      <th></th>\n",
       "      <th>energy</th>\n",
       "      <th>snr</th>\n",
       "      <th>corr</th>\n",
       "      <th>failsCutV</th>\n",
       "      <th>failsCutH</th>\n",
       "      <th>failsTopV</th>\n",
       "      <th>failsTopH</th>\n",
       "      <th>isSurface</th>\n",
       "      <th>failsCut</th>\n",
       "      <th>failsTopCut</th>\n",
       "      <th>passes</th>\n",
       "    </tr>\n",
       "  </thead>\n",
       "  <tbody>\n",
       "    <tr>\n",
       "      <th>0</th>\n",
       "      <td>5.724450e+17</td>\n",
       "      <td>5.266871</td>\n",
       "      <td>0.005361</td>\n",
       "      <td>1</td>\n",
       "      <td>1</td>\n",
       "      <td>1</td>\n",
       "      <td>1</td>\n",
       "      <td>1</td>\n",
       "      <td>True</td>\n",
       "      <td>True</td>\n",
       "      <td>False</td>\n",
       "    </tr>\n",
       "    <tr>\n",
       "      <th>1</th>\n",
       "      <td>7.536998e+16</td>\n",
       "      <td>5.756939</td>\n",
       "      <td>0.006587</td>\n",
       "      <td>1</td>\n",
       "      <td>1</td>\n",
       "      <td>0</td>\n",
       "      <td>0</td>\n",
       "      <td>0</td>\n",
       "      <td>True</td>\n",
       "      <td>False</td>\n",
       "      <td>False</td>\n",
       "    </tr>\n",
       "    <tr>\n",
       "      <th>2</th>\n",
       "      <td>1.427773e+18</td>\n",
       "      <td>8.434304</td>\n",
       "      <td>0.010894</td>\n",
       "      <td>0</td>\n",
       "      <td>1</td>\n",
       "      <td>0</td>\n",
       "      <td>1</td>\n",
       "      <td>1</td>\n",
       "      <td>False</td>\n",
       "      <td>True</td>\n",
       "      <td>False</td>\n",
       "    </tr>\n",
       "    <tr>\n",
       "      <th>3</th>\n",
       "      <td>1.754024e+18</td>\n",
       "      <td>10.980052</td>\n",
       "      <td>0.014154</td>\n",
       "      <td>0</td>\n",
       "      <td>1</td>\n",
       "      <td>0</td>\n",
       "      <td>0</td>\n",
       "      <td>1</td>\n",
       "      <td>False</td>\n",
       "      <td>False</td>\n",
       "      <td>False</td>\n",
       "    </tr>\n",
       "    <tr>\n",
       "      <th>4</th>\n",
       "      <td>2.848059e+18</td>\n",
       "      <td>40.007315</td>\n",
       "      <td>0.029302</td>\n",
       "      <td>0</td>\n",
       "      <td>0</td>\n",
       "      <td>0</td>\n",
       "      <td>0</td>\n",
       "      <td>0</td>\n",
       "      <td>False</td>\n",
       "      <td>False</td>\n",
       "      <td>True</td>\n",
       "    </tr>\n",
       "  </tbody>\n",
       "</table>\n",
       "</div>"
      ],
      "text/plain": [
       "         energy        snr      corr  failsCutV  failsCutH  failsTopV  \\\n",
       "0  5.724450e+17   5.266871  0.005361          1          1          1   \n",
       "1  7.536998e+16   5.756939  0.006587          1          1          0   \n",
       "2  1.427773e+18   8.434304  0.010894          0          1          0   \n",
       "3  1.754024e+18  10.980052  0.014154          0          1          0   \n",
       "4  2.848059e+18  40.007315  0.029302          0          0          0   \n",
       "\n",
       "   failsTopH  isSurface  failsCut  failsTopCut  passes  \n",
       "0          1          1      True         True   False  \n",
       "1          0          0      True        False   False  \n",
       "2          1          1     False         True   False  \n",
       "3          0          1     False        False   False  \n",
       "4          0          0     False        False    True  "
      ]
     },
     "execution_count": 28,
     "metadata": {},
     "output_type": "execute_result"
    }
   ],
   "source": [
    "d = {'energy':np.array(energy), 'snr':np.array(snr_val), 'corr':np.array(corr_val), \"failsCutV\":np.array(failsRcut_V), \"failsCutH\":np.array(failsRcut_H), \"failsTopV\":failsTopV, \"failsTopH\":np.array(failsTopH), \"isSurface\":np.array(isSurface)}\n",
    "cuts = pd.DataFrame(data=d)\n",
    "cuts[\"failsCut\"] = ((cuts.failsCutV==1) & (cuts.failsCutH==1))\n",
    "cuts[\"failsTopCut\"] = ((cuts.failsTopV==1) | (cuts.failsTopH==1))\n",
    "\n",
    "cuts[\"passes\"] = ((cuts.failsCut==False) & (cuts.failsTopCut==False) & (cuts.isSurface==False))\n",
    "# cuts.energy.value_counts()\n",
    "cuts.head()"
   ]
  },
  {
   "cell_type": "code",
   "execution_count": 29,
   "metadata": {},
   "outputs": [
    {
     "data": {
      "text/plain": [
       "array([3.16227766e+15, 3.16227766e+16, 3.16227766e+17, 3.16227766e+18,\n",
       "       3.16227766e+19, 3.16227766e+20])"
      ]
     },
     "execution_count": 29,
     "metadata": {},
     "output_type": "execute_result"
    }
   ],
   "source": [
    "forBins_half = np.logspace(15.5, 20.5, num=6)\n",
    "forBins_half"
   ]
  },
  {
   "cell_type": "code",
   "execution_count": 30,
   "metadata": {},
   "outputs": [
    {
     "data": {
      "text/plain": [
       "array([1.e+15, 1.e+16, 1.e+17, 1.e+18, 1.e+19, 1.e+20])"
      ]
     },
     "execution_count": 30,
     "metadata": {},
     "output_type": "execute_result"
    }
   ],
   "source": [
    "forBins = np.logspace(15, 20, num=6)\n",
    "forBins"
   ]
  },
  {
   "cell_type": "code",
   "execution_count": 31,
   "metadata": {},
   "outputs": [],
   "source": [
    "Ebins = np.concatenate([forBins_half,forBins])\n",
    "Ebins = np.sort(Ebins)"
   ]
  },
  {
   "cell_type": "code",
   "execution_count": 32,
   "metadata": {},
   "outputs": [],
   "source": [
    "cuts[\"binnedE\"] = pd.cut(cuts.energy, bins=Ebins, labels=Ebins[1:]).astype(float)"
   ]
  },
  {
   "cell_type": "code",
   "execution_count": 33,
   "metadata": {},
   "outputs": [
    {
     "data": {
      "text/html": [
       "<div>\n",
       "<style scoped>\n",
       "    .dataframe tbody tr th:only-of-type {\n",
       "        vertical-align: middle;\n",
       "    }\n",
       "\n",
       "    .dataframe tbody tr th {\n",
       "        vertical-align: top;\n",
       "    }\n",
       "\n",
       "    .dataframe thead th {\n",
       "        text-align: right;\n",
       "    }\n",
       "</style>\n",
       "<table border=\"1\" class=\"dataframe\">\n",
       "  <thead>\n",
       "    <tr style=\"text-align: right;\">\n",
       "      <th></th>\n",
       "      <th>energy</th>\n",
       "      <th>snr</th>\n",
       "      <th>corr</th>\n",
       "      <th>failsCutV</th>\n",
       "      <th>failsCutH</th>\n",
       "      <th>failsTopV</th>\n",
       "      <th>failsTopH</th>\n",
       "      <th>isSurface</th>\n",
       "      <th>failsCut</th>\n",
       "      <th>failsTopCut</th>\n",
       "      <th>passes</th>\n",
       "      <th>binnedE</th>\n",
       "    </tr>\n",
       "  </thead>\n",
       "  <tbody>\n",
       "    <tr>\n",
       "      <th>0</th>\n",
       "      <td>5.724450e+17</td>\n",
       "      <td>5.266871</td>\n",
       "      <td>0.005361</td>\n",
       "      <td>1</td>\n",
       "      <td>1</td>\n",
       "      <td>1</td>\n",
       "      <td>1</td>\n",
       "      <td>1</td>\n",
       "      <td>True</td>\n",
       "      <td>True</td>\n",
       "      <td>False</td>\n",
       "      <td>1.000000e+18</td>\n",
       "    </tr>\n",
       "    <tr>\n",
       "      <th>1</th>\n",
       "      <td>7.536998e+16</td>\n",
       "      <td>5.756939</td>\n",
       "      <td>0.006587</td>\n",
       "      <td>1</td>\n",
       "      <td>1</td>\n",
       "      <td>0</td>\n",
       "      <td>0</td>\n",
       "      <td>0</td>\n",
       "      <td>True</td>\n",
       "      <td>False</td>\n",
       "      <td>False</td>\n",
       "      <td>1.000000e+17</td>\n",
       "    </tr>\n",
       "    <tr>\n",
       "      <th>2</th>\n",
       "      <td>1.427773e+18</td>\n",
       "      <td>8.434304</td>\n",
       "      <td>0.010894</td>\n",
       "      <td>0</td>\n",
       "      <td>1</td>\n",
       "      <td>0</td>\n",
       "      <td>1</td>\n",
       "      <td>1</td>\n",
       "      <td>False</td>\n",
       "      <td>True</td>\n",
       "      <td>False</td>\n",
       "      <td>3.162278e+18</td>\n",
       "    </tr>\n",
       "    <tr>\n",
       "      <th>3</th>\n",
       "      <td>1.754024e+18</td>\n",
       "      <td>10.980052</td>\n",
       "      <td>0.014154</td>\n",
       "      <td>0</td>\n",
       "      <td>1</td>\n",
       "      <td>0</td>\n",
       "      <td>0</td>\n",
       "      <td>1</td>\n",
       "      <td>False</td>\n",
       "      <td>False</td>\n",
       "      <td>False</td>\n",
       "      <td>3.162278e+18</td>\n",
       "    </tr>\n",
       "    <tr>\n",
       "      <th>4</th>\n",
       "      <td>2.848059e+18</td>\n",
       "      <td>40.007315</td>\n",
       "      <td>0.029302</td>\n",
       "      <td>0</td>\n",
       "      <td>0</td>\n",
       "      <td>0</td>\n",
       "      <td>0</td>\n",
       "      <td>0</td>\n",
       "      <td>False</td>\n",
       "      <td>False</td>\n",
       "      <td>True</td>\n",
       "      <td>3.162278e+18</td>\n",
       "    </tr>\n",
       "  </tbody>\n",
       "</table>\n",
       "</div>"
      ],
      "text/plain": [
       "         energy        snr      corr  failsCutV  failsCutH  failsTopV  \\\n",
       "0  5.724450e+17   5.266871  0.005361          1          1          1   \n",
       "1  7.536998e+16   5.756939  0.006587          1          1          0   \n",
       "2  1.427773e+18   8.434304  0.010894          0          1          0   \n",
       "3  1.754024e+18  10.980052  0.014154          0          1          0   \n",
       "4  2.848059e+18  40.007315  0.029302          0          0          0   \n",
       "\n",
       "   failsTopH  isSurface  failsCut  failsTopCut  passes       binnedE  \n",
       "0          1          1      True         True   False  1.000000e+18  \n",
       "1          0          0      True        False   False  1.000000e+17  \n",
       "2          1          1     False         True   False  3.162278e+18  \n",
       "3          0          1     False        False   False  3.162278e+18  \n",
       "4          0          0     False        False    True  3.162278e+18  "
      ]
     },
     "execution_count": 33,
     "metadata": {},
     "output_type": "execute_result"
    }
   ],
   "source": [
    "cuts.head()"
   ]
  },
  {
   "cell_type": "code",
   "execution_count": 34,
   "metadata": {},
   "outputs": [],
   "source": [
    "total_num = cuts.binnedE.value_counts(sort=False)\n",
    "total_num=total_num.sort_index()\n",
    "forEff = pd.DataFrame(data = total_num)\n",
    "forEff.index.name = 'Energy'\n",
    "# forEff.index"
   ]
  },
  {
   "cell_type": "code",
   "execution_count": 35,
   "metadata": {},
   "outputs": [
    {
     "data": {
      "text/plain": [
       "1.000000e+16      2\n",
       "3.162278e+16     41\n",
       "1.000000e+17    213\n",
       "3.162278e+17    523\n",
       "1.000000e+18    799\n",
       "3.162278e+18    834\n",
       "1.000000e+19    673\n",
       "3.162278e+19    379\n",
       "1.000000e+20    151\n",
       "3.162278e+20     64\n",
       "Name: binnedE, dtype: int64"
      ]
     },
     "execution_count": 35,
     "metadata": {},
     "output_type": "execute_result"
    }
   ],
   "source": [
    "passesCuts = cuts.loc[cuts.passes == True].binnedE.value_counts()\n",
    "passesCuts = passesCuts.sort_index()\n",
    "forEff[\"passesCuts\"]=passesCuts\n",
    "passesCuts"
   ]
  },
  {
   "cell_type": "code",
   "execution_count": 36,
   "metadata": {
    "scrolled": true
   },
   "outputs": [
    {
     "data": {
      "text/html": [
       "<div>\n",
       "<style scoped>\n",
       "    .dataframe tbody tr th:only-of-type {\n",
       "        vertical-align: middle;\n",
       "    }\n",
       "\n",
       "    .dataframe tbody tr th {\n",
       "        vertical-align: top;\n",
       "    }\n",
       "\n",
       "    .dataframe thead th {\n",
       "        text-align: right;\n",
       "    }\n",
       "</style>\n",
       "<table border=\"1\" class=\"dataframe\">\n",
       "  <thead>\n",
       "    <tr style=\"text-align: right;\">\n",
       "      <th></th>\n",
       "      <th>binnedE</th>\n",
       "      <th>passesCuts</th>\n",
       "    </tr>\n",
       "    <tr>\n",
       "      <th>Energy</th>\n",
       "      <th></th>\n",
       "      <th></th>\n",
       "    </tr>\n",
       "  </thead>\n",
       "  <tbody>\n",
       "    <tr>\n",
       "      <th>3.162278e+15</th>\n",
       "      <td>28</td>\n",
       "      <td>0.0</td>\n",
       "    </tr>\n",
       "    <tr>\n",
       "      <th>1.000000e+16</th>\n",
       "      <td>76</td>\n",
       "      <td>2.0</td>\n",
       "    </tr>\n",
       "    <tr>\n",
       "      <th>3.162278e+16</th>\n",
       "      <td>259</td>\n",
       "      <td>41.0</td>\n",
       "    </tr>\n",
       "    <tr>\n",
       "      <th>1.000000e+17</th>\n",
       "      <td>863</td>\n",
       "      <td>213.0</td>\n",
       "    </tr>\n",
       "    <tr>\n",
       "      <th>3.162278e+17</th>\n",
       "      <td>1571</td>\n",
       "      <td>523.0</td>\n",
       "    </tr>\n",
       "  </tbody>\n",
       "</table>\n",
       "</div>"
      ],
      "text/plain": [
       "              binnedE  passesCuts\n",
       "Energy                           \n",
       "3.162278e+15       28         0.0\n",
       "1.000000e+16       76         2.0\n",
       "3.162278e+16      259        41.0\n",
       "1.000000e+17      863       213.0\n",
       "3.162278e+17     1571       523.0"
      ]
     },
     "execution_count": 36,
     "metadata": {},
     "output_type": "execute_result"
    }
   ],
   "source": [
    "forEff.passesCuts=forEff.passesCuts.fillna(0)\n",
    "forEff.head()"
   ]
  },
  {
   "cell_type": "markdown",
   "metadata": {},
   "source": [
    "### Energies are binned up, let's calculate the efficiency"
   ]
  },
  {
   "cell_type": "code",
   "execution_count": 37,
   "metadata": {},
   "outputs": [
    {
     "data": {
      "text/html": [
       "<div>\n",
       "<style scoped>\n",
       "    .dataframe tbody tr th:only-of-type {\n",
       "        vertical-align: middle;\n",
       "    }\n",
       "\n",
       "    .dataframe tbody tr th {\n",
       "        vertical-align: top;\n",
       "    }\n",
       "\n",
       "    .dataframe thead th {\n",
       "        text-align: right;\n",
       "    }\n",
       "</style>\n",
       "<table border=\"1\" class=\"dataframe\">\n",
       "  <thead>\n",
       "    <tr style=\"text-align: right;\">\n",
       "      <th></th>\n",
       "      <th>energy</th>\n",
       "      <th>eff</th>\n",
       "    </tr>\n",
       "  </thead>\n",
       "  <tbody>\n",
       "    <tr>\n",
       "      <th>0</th>\n",
       "      <td>11300000.0</td>\n",
       "      <td>0.0688</td>\n",
       "    </tr>\n",
       "    <tr>\n",
       "      <th>1</th>\n",
       "      <td>18200000.0</td>\n",
       "      <td>0.1100</td>\n",
       "    </tr>\n",
       "    <tr>\n",
       "      <th>2</th>\n",
       "      <td>28800000.0</td>\n",
       "      <td>0.1490</td>\n",
       "    </tr>\n",
       "    <tr>\n",
       "      <th>3</th>\n",
       "      <td>39600000.0</td>\n",
       "      <td>0.1820</td>\n",
       "    </tr>\n",
       "    <tr>\n",
       "      <th>4</th>\n",
       "      <td>60900000.0</td>\n",
       "      <td>0.2090</td>\n",
       "    </tr>\n",
       "  </tbody>\n",
       "</table>\n",
       "</div>"
      ],
      "text/plain": [
       "       energy     eff\n",
       "0  11300000.0  0.0688\n",
       "1  18200000.0  0.1100\n",
       "2  28800000.0  0.1490\n",
       "3  39600000.0  0.1820\n",
       "4  60900000.0  0.2090"
      ]
     },
     "execution_count": 37,
     "metadata": {},
     "output_type": "execute_result"
    }
   ],
   "source": [
    "diffuseEff = pd.read_csv(\"./data/diffuse_eff.txt\")\n",
    "diffuseEff.head()"
   ]
  },
  {
   "cell_type": "code",
   "execution_count": 38,
   "metadata": {},
   "outputs": [
    {
     "data": {
      "image/png": "[encoded data removed]",
      "text/plain": [
       "<Figure size 432x288 with 1 Axes>"
      ]
     },
     "metadata": {},
     "output_type": "display_data"
    }
   ],
   "source": [
    "plt.plot(forEff.index/1E9, 100*forEff.passesCuts/forEff.binnedE, label = \"Cen A source search\")\n",
    "plt.plot(diffuseEff.energy, 100*diffuseEff[\" eff\"], label = \"Diffuse search (A2)\")\n",
    "\n",
    "plt.xscale('log')\n",
    "plt.xlabel(\"Neutrino energy [GeV]\", fontsize=12)\n",
    "plt.ylabel(\"Efficiency [%]\", fontsize=12)\n",
    "plt.title(\"Analysis efficiency\")\n",
    "plt.grid()\n",
    "plt.legend()\n",
    "plt.tight_layout()\n",
    "# plt.savefig(\"./plots/CenA_search_efficiency.png\", dpi=200)"
   ]
  },
  {
   "cell_type": "markdown",
   "metadata": {},
   "source": [
    "#### Put cut line in the SNR vs $C_{sky}$ plot"
   ]
  },
  {
   "cell_type": "code",
   "execution_count": 69,
   "metadata": {},
   "outputs": [],
   "source": [
    "m = -2080\n",
    "y = np.linspace(0,1,50);\n",
    "interc = 20.6-0.54\n",
    "interc2 = 20.6\n",
    "\n",
    "x = m*y+interc\n",
    "x2 = m*y+interc2"
   ]
  },
  {
   "cell_type": "code",
   "execution_count": 70,
   "metadata": {},
   "outputs": [
    {
     "data": {
      "image/png": "[encoded data removed]",
      "text/plain": [
       "<Figure size 360x360 with 1 Axes>"
      ]
     },
     "metadata": {},
     "output_type": "display_data"
    }
   ],
   "source": [
    "# sns.catplot(x=\"snr\", y=\"corr\", data=df2, hue='failsRcut');\n",
    "sns.lmplot( x=\"snr\", y=\"corr\", data=cuts, fit_reg=False, hue='failsCut', legend=True, palette=\"Set1\", legend_out=False, scatter_kws={\"s\": 1})\n",
    "plt.plot(x,y, color=\"C2\", label = \"Cen A cut\")\n",
    "plt.plot(x2,y, color=\"C1\", label = \"Diffuse cut\")\n",
    "\n",
    "\n",
    "plt.xlabel(\"SNR\", fontsize=14)\n",
    "plt.ylabel(\"$C_{sky}$\", fontsize=14)\n",
    "# plt.xscale('log')\n",
    "# plt.xscale('log')\n",
    "\n",
    "plt.xlim(0,10)\n",
    "plt.ylim(1e-4,0.02)\n",
    "plt.grid()\n",
    "plt.grid(which='minor', axis='both')\n",
    "plt.title(\"Simulated neutrinos from Cen A\", fontsize=16)\n",
    "plt.legend()\n",
    "plt.tight_layout()\n",
    "# plt.savefig(\"./plots/SNRvsCsky_CenA.png\", dpi=200)\n"
   ]
  },
  {
   "cell_type": "code",
   "execution_count": 71,
   "metadata": {
    "scrolled": true
   },
   "outputs": [
    {
     "data": {
      "image/png": "[encoded data removed]",
      "text/plain": [
       "<Figure size 504x288 with 2 Axes>"
      ]
     },
     "metadata": {},
     "output_type": "display_data"
    }
   ],
   "source": [
    "plt.figure(figsize=(7,4))\n",
    "plt.hist2d(snr_val,corr_val, bins=120, weights=weight,norm=LogNorm());\n",
    "\n",
    "# plt.hist2d(snr_val,corr_val, bins=420, weights=weight,norm=LogNorm());\n",
    "\n",
    "plt.colorbar(label=\"Weighted event\" )\n",
    "plt.xlabel(\"SNR\", fontsize=14)\n",
    "plt.ylabel(\"$C_{sky}$\", fontsize=14)\n",
    "# plt.xscale('log')\n",
    "# plt.xscale('log')\n",
    "plt.plot(x,y, color=\"C0\", label = \"Cen A cut\")\n",
    "plt.plot(x2,y, color=\"C3\", label = \"Diffuse cut\")\n",
    "\n",
    "plt.xlim(0,45)\n",
    "plt.ylim(1e-4,0.04)\n",
    "plt.grid()\n",
    "plt.grid(which='minor', axis='both')\n",
    "plt.legend()\n",
    "plt.title(\"Simulated neutrinos from Cen A\", fontsize=16)\n",
    "plt.tight_layout()\n",
    "# plt.savefig(\"./plots/SNRvsCsky_CenADiffuse.png\", dpi=200)"
   ]
  },
  {
   "cell_type": "markdown",
   "metadata": {},
   "source": [
    "## Comments"
   ]
  }
 ],
 "metadata": {
  "kernelspec": {
   "display_name": "Python 3.6 (Conda 5.2) [python/3.6-conda5.2]",
   "language": "python",
   "name": "sys_python36conda"
  },
  "language_info": {
   "codemirror_mode": {
    "name": "ipython",
    "version": 3
   },
   "file_extension": ".py",
   "mimetype": "text/x-python",
   "name": "python",
   "nbconvert_exporter": "python",
   "pygments_lexer": "ipython3",
   "version": "3.6.6"
  }
 },
 "nbformat": 4,
 "nbformat_minor": 2
}
