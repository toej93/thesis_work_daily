{
 "cells": [
  {
   "cell_type": "markdown",
   "metadata": {},
   "source": [
    "# Polarization reconstruction of SpiceCore events"
   ]
  },
  {
   "cell_type": "markdown",
   "metadata": {},
   "source": [
    "### Feb 2, 2021"
   ]
  },
  {
   "cell_type": "markdown",
   "metadata": {},
   "source": [
    "## Code"
   ]
  },
  {
   "cell_type": "code",
   "execution_count": 1,
   "metadata": {},
   "outputs": [],
   "source": [
    "import sys\n",
    "import csv\n",
    "# sys.path.insert(0,\"/users/PCON0003/cond0068/.local/lib/python3.7/\")\n",
    "sys.path.append(\"/users/PAS0654/osu8354/ARA_cvmfs/root_build/lib/\") # go to parent dir\n",
    "sys.path.append(\"/users/PCON0003/cond0068/.local/lib/python3.7/site-packages/\")\n",
    "# sys.path.append(\"/users/PCON0003/cond0068/pyrex_sims/fromBen/thesis_work/pyrex-custom/analysis/custom/analysis/\")\n",
    "# import ROOT\n",
    "import math\n",
    "import numpy as np\n",
    "# from ROOT import TH1D,TF1, gRandom, gPad, gStyle\n",
    "import matplotlib as mpl\n",
    "import matplotlib.pyplot as plt\n",
    "# from ROOT import TChain, TSelector, TTree\n",
    "import os\n",
    "import matplotlib.colors as mcolors\n",
    "import scipy\n",
    "from matplotlib.colors import LogNorm\n",
    "import pandas as pd\n",
    "# import pyrex\n",
    "import seaborn as sns\n",
    "%matplotlib inline\n",
    "sys.path.insert(1, \"/users/PAS0654/osu8354/ARA_cvmfs/source/AraRoot/analysis/ARA_analysis/CenA_sourceSearch/Stokes\")\n",
    "# import deDisperse_util as util\n",
    "# from pyrex.internal_functions import normalize\n",
    "my_path_plots = os.path.abspath(\"./plots/\")\n",
    "# import pyrex.custom.ara as ara\n"
   ]
  },
  {
   "cell_type": "code",
   "execution_count": 2,
   "metadata": {},
   "outputs": [],
   "source": [
    "# mpl.use('agg') \n",
    "mpl.rcParams['text.usetex'] = True\n",
    "mpl.rcParams['text.latex.unicode'] = True\n",
    "mpl.rcParams['mathtext.rm'] = 'Times New Roman'\n",
    "mpl.rcParams['mathtext.it'] = 'Times New Roman:italic'\n",
    "mpl.rcParams['mathtext.bf'] = 'Times New Roman:bold'\n",
    "\n",
    "mpl.rc('font', family='serif', size=12)\n",
    "mpl.rcParams['xtick.labelsize'] = 14\n",
    "mpl.rcParams['ytick.labelsize'] = 14\n",
    "mpl.rcParams['xtick.major.size'] = 5\n",
    "mpl.rcParams['ytick.major.size'] = 5\n",
    "\n",
    "mpl.rcParams['axes.titlesize'] = 18\n",
    "mpl.rcParams['axes.labelsize'] = 18\n",
    "# mpl.rc('font', size=16)\n",
    "mpl.rc('axes', titlesize=20)\n",
    "\n",
    "current_palette = sns.color_palette('colorblind', 10)\n",
    "import warnings\n",
    "warnings.filterwarnings(\"ignore\")"
   ]
  },
  {
   "cell_type": "code",
   "execution_count": 3,
   "metadata": {},
   "outputs": [
    {
     "name": "stdout",
     "output_type": "stream",
     "text": [
      "/users/PAS0654/osu8354/ARA_cvmfs/source/AraRoot/analysis/thesis_work_daily\n"
     ]
    }
   ],
   "source": [
    "!pwd"
   ]
  },
  {
   "cell_type": "code",
   "execution_count": 3,
   "metadata": {},
   "outputs": [],
   "source": [
    "# SpiceCore0 = pd.read_pickle(\"../ARA_analysis/ARA_Reconstruction/evNumVsOmega.pkl\")\n",
    "# SpiceCore1 = pd.read_pickle(\"../ARA_analysis/ARA_Reconstruction/evNumVsOmegaCh1_9.pkl\")\n",
    "SpiceCore2 = pd.read_pickle(\"../ARA_analysis/ARA_Reconstruction/evNumVsOmegaCh2_10.pkl\")"
   ]
  },
  {
   "cell_type": "code",
   "execution_count": 4,
   "metadata": {},
   "outputs": [
    {
     "data": {
      "text/plain": [
       "2170"
      ]
     },
     "execution_count": 4,
     "metadata": {},
     "output_type": "execute_result"
    }
   ],
   "source": [
    "# SpiceCore2 = SpiceCore2.dropna()\n",
    "len(SpiceCore2)"
   ]
  },
  {
   "cell_type": "code",
   "execution_count": 5,
   "metadata": {},
   "outputs": [
    {
     "data": {
      "text/html": [
       "<div>\n",
       "<style scoped>\n",
       "    .dataframe tbody tr th:only-of-type {\n",
       "        vertical-align: middle;\n",
       "    }\n",
       "\n",
       "    .dataframe tbody tr th {\n",
       "        vertical-align: top;\n",
       "    }\n",
       "\n",
       "    .dataframe thead th {\n",
       "        text-align: right;\n",
       "    }\n",
       "</style>\n",
       "<table border=\"1\" class=\"dataframe\">\n",
       "  <thead>\n",
       "    <tr style=\"text-align: right;\">\n",
       "      <th></th>\n",
       "      <th>EvNum</th>\n",
       "      <th>Omega_reco</th>\n",
       "      <th>unixtime</th>\n",
       "    </tr>\n",
       "  </thead>\n",
       "  <tbody>\n",
       "    <tr>\n",
       "      <th>0</th>\n",
       "      <td>26</td>\n",
       "      <td>1.185386</td>\n",
       "      <td>1545617008</td>\n",
       "    </tr>\n",
       "    <tr>\n",
       "      <th>1</th>\n",
       "      <td>70</td>\n",
       "      <td>1.049403</td>\n",
       "      <td>1545617015</td>\n",
       "    </tr>\n",
       "    <tr>\n",
       "      <th>2</th>\n",
       "      <td>84</td>\n",
       "      <td>6.423568</td>\n",
       "      <td>1545617017</td>\n",
       "    </tr>\n",
       "    <tr>\n",
       "      <th>3</th>\n",
       "      <td>91</td>\n",
       "      <td>0.441382</td>\n",
       "      <td>1545617018</td>\n",
       "    </tr>\n",
       "    <tr>\n",
       "      <th>4</th>\n",
       "      <td>99</td>\n",
       "      <td>7.121544</td>\n",
       "      <td>1545617019</td>\n",
       "    </tr>\n",
       "    <tr>\n",
       "      <th>...</th>\n",
       "      <td>...</td>\n",
       "      <td>...</td>\n",
       "      <td>...</td>\n",
       "    </tr>\n",
       "    <tr>\n",
       "      <th>2165</th>\n",
       "      <td>58999</td>\n",
       "      <td>15.619022</td>\n",
       "      <td>1545626777</td>\n",
       "    </tr>\n",
       "    <tr>\n",
       "      <th>2166</th>\n",
       "      <td>60924</td>\n",
       "      <td>21.416728</td>\n",
       "      <td>1545627128</td>\n",
       "    </tr>\n",
       "    <tr>\n",
       "      <th>2167</th>\n",
       "      <td>62595</td>\n",
       "      <td>19.382587</td>\n",
       "      <td>1545627420</td>\n",
       "    </tr>\n",
       "    <tr>\n",
       "      <th>2168</th>\n",
       "      <td>63428</td>\n",
       "      <td>64.764536</td>\n",
       "      <td>1545627570</td>\n",
       "    </tr>\n",
       "    <tr>\n",
       "      <th>2169</th>\n",
       "      <td>64504</td>\n",
       "      <td>28.551777</td>\n",
       "      <td>1545627760</td>\n",
       "    </tr>\n",
       "  </tbody>\n",
       "</table>\n",
       "<p>2170 rows × 3 columns</p>\n",
       "</div>"
      ],
      "text/plain": [
       "      EvNum  Omega_reco    unixtime\n",
       "0        26    1.185386  1545617008\n",
       "1        70    1.049403  1545617015\n",
       "2        84    6.423568  1545617017\n",
       "3        91    0.441382  1545617018\n",
       "4        99    7.121544  1545617019\n",
       "...     ...         ...         ...\n",
       "2165  58999   15.619022  1545626777\n",
       "2166  60924   21.416728  1545627128\n",
       "2167  62595   19.382587  1545627420\n",
       "2168  63428   64.764536  1545627570\n",
       "2169  64504   28.551777  1545627760\n",
       "\n",
       "[2170 rows x 3 columns]"
      ]
     },
     "execution_count": 5,
     "metadata": {},
     "output_type": "execute_result"
    }
   ],
   "source": [
    "SpiceCore2"
   ]
  },
  {
   "cell_type": "markdown",
   "metadata": {},
   "source": [
    "## Events debugging"
   ]
  },
  {
   "cell_type": "code",
   "execution_count": 6,
   "metadata": {},
   "outputs": [
    {
     "ename": "NameError",
     "evalue": "name 'SpiceCore0' is not defined",
     "output_type": "error",
     "traceback": [
      "\u001b[0;31m---------------------------------------------------------------------------\u001b[0m",
      "\u001b[0;31mNameError\u001b[0m                                 Traceback (most recent call last)",
      "\u001b[0;32m<ipython-input-6-21a9a9c81862>\u001b[0m in \u001b[0;36m<module>\u001b[0;34m()\u001b[0m\n\u001b[0;32m----> 1\u001b[0;31m \u001b[0mmean\u001b[0m \u001b[0;34m=\u001b[0m \u001b[0mSpiceCore0\u001b[0m\u001b[0;34m.\u001b[0m\u001b[0mOmega_reco\u001b[0m\u001b[0;34m.\u001b[0m\u001b[0mmean\u001b[0m\u001b[0;34m(\u001b[0m\u001b[0;34m)\u001b[0m\u001b[0;34m\u001b[0m\u001b[0m\n\u001b[0m",
      "\u001b[0;31mNameError\u001b[0m: name 'SpiceCore0' is not defined"
     ]
    }
   ],
   "source": [
    "mean = SpiceCore0.Omega_reco.mean()"
   ]
  },
  {
   "cell_type": "code",
   "execution_count": 19,
   "metadata": {},
   "outputs": [
    {
     "data": {
      "text/plain": [
       "(0, 30000)"
      ]
     },
     "execution_count": 19,
     "metadata": {},
     "output_type": "execute_result"
    },
    {
     "data": {
      "image/png": "[encoded data removed]",
      "text/plain": [
       "<Figure size 504x360 with 1 Axes>"
      ]
     },
     "metadata": {},
     "output_type": "display_data"
    }
   ],
   "source": [
    "plt.figure(figsize=(7,5))\n",
    "# plt.scatter(SpiceCore0., SpiceCore0.Omega_reco, alpha = 0.5, label = \"$\\Omega_{reco}$ [Ch0, Ch8]\")\n",
    "# plt.scatter(SpiceCore1.EvNum, SpiceCore1.Omega_reco, alpha = 0.5, label = \"$\\Omega_{reco}$ [Ch1, Ch9]\")\n",
    "plt.scatter(SpiceCore2.EvNum, SpiceCore2.Omega_reco, alpha = 0.5, label = \"$\\Omega_{reco}$ [Ch2, Ch10]\")\n",
    "# plt.hist2d(SpiceCore2.EvNum, SpiceCore2.Omega_reco, bins = 100)\n",
    "# plt.colorbar()\n",
    "# plt.axhline(mean, linestyle = \"--\", color = \"C1\", lw = 2, label = \"Mean = %0.2f\"%mean)\n",
    "plt.legend()\n",
    "plt.grid()\n",
    "plt.ylabel(\"$\\Omega_{reco}$\")\n",
    "plt.xlabel(\"Event number [Run 012559]\")\n",
    "plt.title(\"Reconstructed polarizations of SpiceCore pulsers\")\n",
    "plt.tight_layout()\n",
    "plt.ylim(0,30)\n",
    "plt.xlim(0,30000)\n",
    "\n",
    "# plt.savefig(my_path_plots+'/SpiceCorePolReco/Hist2DOmegaReco_SpiceCore_run012559.png', dpi=250)\n"
   ]
  },
  {
   "cell_type": "code",
   "execution_count": 154,
   "metadata": {},
   "outputs": [
    {
     "data": {
      "text/html": [
       "<div>\n",
       "<style scoped>\n",
       "    .dataframe tbody tr th:only-of-type {\n",
       "        vertical-align: middle;\n",
       "    }\n",
       "\n",
       "    .dataframe tbody tr th {\n",
       "        vertical-align: top;\n",
       "    }\n",
       "\n",
       "    .dataframe thead th {\n",
       "        text-align: right;\n",
       "    }\n",
       "</style>\n",
       "<table border=\"1\" class=\"dataframe\">\n",
       "  <thead>\n",
       "    <tr style=\"text-align: right;\">\n",
       "      <th></th>\n",
       "      <th>NZ_Time</th>\n",
       "      <th>depth</th>\n",
       "    </tr>\n",
       "  </thead>\n",
       "  <tbody>\n",
       "    <tr>\n",
       "      <th>0</th>\n",
       "      <td>12:45</td>\n",
       "      <td>0.0</td>\n",
       "    </tr>\n",
       "    <tr>\n",
       "      <th>1</th>\n",
       "      <td>12:53</td>\n",
       "      <td>85.0</td>\n",
       "    </tr>\n",
       "    <tr>\n",
       "      <th>2</th>\n",
       "      <td>13:00</td>\n",
       "      <td>150.0</td>\n",
       "    </tr>\n",
       "    <tr>\n",
       "      <th>3</th>\n",
       "      <td>13:07</td>\n",
       "      <td>223.0</td>\n",
       "    </tr>\n",
       "    <tr>\n",
       "      <th>4</th>\n",
       "      <td>13:10</td>\n",
       "      <td>267.0</td>\n",
       "    </tr>\n",
       "  </tbody>\n",
       "</table>\n",
       "</div>"
      ],
      "text/plain": [
       "  NZ_Time  depth\n",
       "0   12:45    0.0\n",
       "1   12:53   85.0\n",
       "2   13:00  150.0\n",
       "3   13:07  223.0\n",
       "4   13:10  267.0"
      ]
     },
     "execution_count": 154,
     "metadata": {},
     "output_type": "execute_result"
    }
   ],
   "source": [
    "depth_1227 = pd.read_csv(\"./plots/SpiceCorePolReco/A2_1227Depth.txt\")\n",
    "depth_1227.head()"
   ]
  },
  {
   "cell_type": "code",
   "execution_count": 280,
   "metadata": {},
   "outputs": [
    {
     "data": {
      "text/plain": [
       "[<matplotlib.lines.Line2D at 0x2b73751c6be0>]"
      ]
     },
     "execution_count": 280,
     "metadata": {},
     "output_type": "execute_result"
    },
    {
     "data": {
      "image/png": "[encoded data removed]",
      "text/plain": [
       "<Figure size 432x288 with 1 Axes>"
      ]
     },
     "metadata": {},
     "output_type": "display_data"
    }
   ],
   "source": [
    "plt.plot(depth_1227.depth)"
   ]
  },
  {
   "cell_type": "code",
   "execution_count": 122,
   "metadata": {},
   "outputs": [],
   "source": [
    "SpiceCore2.set_index(SpiceCore2.unixtime, drop = True, inplace=True)"
   ]
  },
  {
   "cell_type": "code",
   "execution_count": 125,
   "metadata": {},
   "outputs": [
    {
     "data": {
      "text/html": [
       "<div>\n",
       "<style scoped>\n",
       "    .dataframe tbody tr th:only-of-type {\n",
       "        vertical-align: middle;\n",
       "    }\n",
       "\n",
       "    .dataframe tbody tr th {\n",
       "        vertical-align: top;\n",
       "    }\n",
       "\n",
       "    .dataframe thead th {\n",
       "        text-align: right;\n",
       "    }\n",
       "</style>\n",
       "<table border=\"1\" class=\"dataframe\">\n",
       "  <thead>\n",
       "    <tr style=\"text-align: right;\">\n",
       "      <th></th>\n",
       "      <th>EvNum</th>\n",
       "      <th>Omega_reco</th>\n",
       "      <th>unixtime</th>\n",
       "    </tr>\n",
       "    <tr>\n",
       "      <th>unixtime</th>\n",
       "      <th></th>\n",
       "      <th></th>\n",
       "      <th></th>\n",
       "    </tr>\n",
       "  </thead>\n",
       "  <tbody>\n",
       "    <tr>\n",
       "      <th>1545617239</th>\n",
       "      <td>1189</td>\n",
       "      <td>3.473020</td>\n",
       "      <td>1545617239</td>\n",
       "    </tr>\n",
       "    <tr>\n",
       "      <th>1545617359</th>\n",
       "      <td>1828</td>\n",
       "      <td>6.963259</td>\n",
       "      <td>1545617359</td>\n",
       "    </tr>\n",
       "    <tr>\n",
       "      <th>1545617478</th>\n",
       "      <td>2506</td>\n",
       "      <td>9.863654</td>\n",
       "      <td>1545617478</td>\n",
       "    </tr>\n",
       "    <tr>\n",
       "      <th>1545617525</th>\n",
       "      <td>2818</td>\n",
       "      <td>3.965398</td>\n",
       "      <td>1545617525</td>\n",
       "    </tr>\n",
       "    <tr>\n",
       "      <th>1545617551</th>\n",
       "      <td>2987</td>\n",
       "      <td>41.055364</td>\n",
       "      <td>1545617551</td>\n",
       "    </tr>\n",
       "    <tr>\n",
       "      <th>1545617562</th>\n",
       "      <td>3074</td>\n",
       "      <td>6.236521</td>\n",
       "      <td>1545617562</td>\n",
       "    </tr>\n",
       "    <tr>\n",
       "      <th>1545617565</th>\n",
       "      <td>3097</td>\n",
       "      <td>2.716338</td>\n",
       "      <td>1545617565</td>\n",
       "    </tr>\n",
       "    <tr>\n",
       "      <th>1545617568</th>\n",
       "      <td>3118</td>\n",
       "      <td>65.824440</td>\n",
       "      <td>1545617568</td>\n",
       "    </tr>\n",
       "    <tr>\n",
       "      <th>1545617573</th>\n",
       "      <td>3153</td>\n",
       "      <td>5.275017</td>\n",
       "      <td>1545617573</td>\n",
       "    </tr>\n",
       "    <tr>\n",
       "      <th>1545617742</th>\n",
       "      <td>4314</td>\n",
       "      <td>4.740380</td>\n",
       "      <td>1545617742</td>\n",
       "    </tr>\n",
       "    <tr>\n",
       "      <th>1545617833</th>\n",
       "      <td>4905</td>\n",
       "      <td>39.021511</td>\n",
       "      <td>1545617833</td>\n",
       "    </tr>\n",
       "    <tr>\n",
       "      <th>1545617920</th>\n",
       "      <td>5499</td>\n",
       "      <td>42.219798</td>\n",
       "      <td>1545617920</td>\n",
       "    </tr>\n",
       "    <tr>\n",
       "      <th>1545618023</th>\n",
       "      <td>6178</td>\n",
       "      <td>33.248039</td>\n",
       "      <td>1545618023</td>\n",
       "    </tr>\n",
       "    <tr>\n",
       "      <th>1545618254</th>\n",
       "      <td>7731</td>\n",
       "      <td>50.297517</td>\n",
       "      <td>1545618254</td>\n",
       "    </tr>\n",
       "    <tr>\n",
       "      <th>1545618292</th>\n",
       "      <td>7978</td>\n",
       "      <td>39.538723</td>\n",
       "      <td>1545618292</td>\n",
       "    </tr>\n",
       "    <tr>\n",
       "      <th>1545618293</th>\n",
       "      <td>7984</td>\n",
       "      <td>57.078819</td>\n",
       "      <td>1545618293</td>\n",
       "    </tr>\n",
       "    <tr>\n",
       "      <th>1545618341</th>\n",
       "      <td>8309</td>\n",
       "      <td>6.206100</td>\n",
       "      <td>1545618341</td>\n",
       "    </tr>\n",
       "    <tr>\n",
       "      <th>1545618347</th>\n",
       "      <td>8344</td>\n",
       "      <td>12.480423</td>\n",
       "      <td>1545618347</td>\n",
       "    </tr>\n",
       "    <tr>\n",
       "      <th>1545618357</th>\n",
       "      <td>8407</td>\n",
       "      <td>50.130404</td>\n",
       "      <td>1545618357</td>\n",
       "    </tr>\n",
       "    <tr>\n",
       "      <th>1545618441</th>\n",
       "      <td>8971</td>\n",
       "      <td>37.221104</td>\n",
       "      <td>1545618441</td>\n",
       "    </tr>\n",
       "    <tr>\n",
       "      <th>1545618481</th>\n",
       "      <td>9220</td>\n",
       "      <td>34.355353</td>\n",
       "      <td>1545618481</td>\n",
       "    </tr>\n",
       "    <tr>\n",
       "      <th>1545618579</th>\n",
       "      <td>9885</td>\n",
       "      <td>5.734345</td>\n",
       "      <td>1545618579</td>\n",
       "    </tr>\n",
       "    <tr>\n",
       "      <th>1545618726</th>\n",
       "      <td>10873</td>\n",
       "      <td>37.554038</td>\n",
       "      <td>1545618726</td>\n",
       "    </tr>\n",
       "    <tr>\n",
       "      <th>1545618901</th>\n",
       "      <td>11990</td>\n",
       "      <td>54.077464</td>\n",
       "      <td>1545618901</td>\n",
       "    </tr>\n",
       "    <tr>\n",
       "      <th>1545618929</th>\n",
       "      <td>12187</td>\n",
       "      <td>7.078283</td>\n",
       "      <td>1545618929</td>\n",
       "    </tr>\n",
       "    <tr>\n",
       "      <th>1545618945</th>\n",
       "      <td>12288</td>\n",
       "      <td>10.120736</td>\n",
       "      <td>1545618945</td>\n",
       "    </tr>\n",
       "    <tr>\n",
       "      <th>1545619011</th>\n",
       "      <td>12698</td>\n",
       "      <td>5.740335</td>\n",
       "      <td>1545619011</td>\n",
       "    </tr>\n",
       "    <tr>\n",
       "      <th>1545619261</th>\n",
       "      <td>14354</td>\n",
       "      <td>7.818154</td>\n",
       "      <td>1545619261</td>\n",
       "    </tr>\n",
       "    <tr>\n",
       "      <th>1545619430</th>\n",
       "      <td>15465</td>\n",
       "      <td>57.324554</td>\n",
       "      <td>1545619430</td>\n",
       "    </tr>\n",
       "    <tr>\n",
       "      <th>1545619445</th>\n",
       "      <td>15557</td>\n",
       "      <td>42.554816</td>\n",
       "      <td>1545619445</td>\n",
       "    </tr>\n",
       "    <tr>\n",
       "      <th>1545619487</th>\n",
       "      <td>15860</td>\n",
       "      <td>11.627389</td>\n",
       "      <td>1545619487</td>\n",
       "    </tr>\n",
       "    <tr>\n",
       "      <th>1545619554</th>\n",
       "      <td>16303</td>\n",
       "      <td>3.351980</td>\n",
       "      <td>1545619554</td>\n",
       "    </tr>\n",
       "    <tr>\n",
       "      <th>1545619569</th>\n",
       "      <td>16404</td>\n",
       "      <td>32.671432</td>\n",
       "      <td>1545619569</td>\n",
       "    </tr>\n",
       "    <tr>\n",
       "      <th>1545619615</th>\n",
       "      <td>16703</td>\n",
       "      <td>51.421157</td>\n",
       "      <td>1545619615</td>\n",
       "    </tr>\n",
       "    <tr>\n",
       "      <th>1545619636</th>\n",
       "      <td>16843</td>\n",
       "      <td>0.985025</td>\n",
       "      <td>1545619636</td>\n",
       "    </tr>\n",
       "    <tr>\n",
       "      <th>1545619707</th>\n",
       "      <td>17293</td>\n",
       "      <td>3.377078</td>\n",
       "      <td>1545619707</td>\n",
       "    </tr>\n",
       "    <tr>\n",
       "      <th>1545619837</th>\n",
       "      <td>18183</td>\n",
       "      <td>35.339015</td>\n",
       "      <td>1545619837</td>\n",
       "    </tr>\n",
       "    <tr>\n",
       "      <th>1545620017</th>\n",
       "      <td>19352</td>\n",
       "      <td>64.629232</td>\n",
       "      <td>1545620017</td>\n",
       "    </tr>\n",
       "    <tr>\n",
       "      <th>1545620058</th>\n",
       "      <td>19616</td>\n",
       "      <td>5.326601</td>\n",
       "      <td>1545620058</td>\n",
       "    </tr>\n",
       "  </tbody>\n",
       "</table>\n",
       "</div>"
      ],
      "text/plain": [
       "            EvNum  Omega_reco    unixtime\n",
       "unixtime                                 \n",
       "1545617239   1189    3.473020  1545617239\n",
       "1545617359   1828    6.963259  1545617359\n",
       "1545617478   2506    9.863654  1545617478\n",
       "1545617525   2818    3.965398  1545617525\n",
       "1545617551   2987   41.055364  1545617551\n",
       "1545617562   3074    6.236521  1545617562\n",
       "1545617565   3097    2.716338  1545617565\n",
       "1545617568   3118   65.824440  1545617568\n",
       "1545617573   3153    5.275017  1545617573\n",
       "1545617742   4314    4.740380  1545617742\n",
       "1545617833   4905   39.021511  1545617833\n",
       "1545617920   5499   42.219798  1545617920\n",
       "1545618023   6178   33.248039  1545618023\n",
       "1545618254   7731   50.297517  1545618254\n",
       "1545618292   7978   39.538723  1545618292\n",
       "1545618293   7984   57.078819  1545618293\n",
       "1545618341   8309    6.206100  1545618341\n",
       "1545618347   8344   12.480423  1545618347\n",
       "1545618357   8407   50.130404  1545618357\n",
       "1545618441   8971   37.221104  1545618441\n",
       "1545618481   9220   34.355353  1545618481\n",
       "1545618579   9885    5.734345  1545618579\n",
       "1545618726  10873   37.554038  1545618726\n",
       "1545618901  11990   54.077464  1545618901\n",
       "1545618929  12187    7.078283  1545618929\n",
       "1545618945  12288   10.120736  1545618945\n",
       "1545619011  12698    5.740335  1545619011\n",
       "1545619261  14354    7.818154  1545619261\n",
       "1545619430  15465   57.324554  1545619430\n",
       "1545619445  15557   42.554816  1545619445\n",
       "1545619487  15860   11.627389  1545619487\n",
       "1545619554  16303    3.351980  1545619554\n",
       "1545619569  16404   32.671432  1545619569\n",
       "1545619615  16703   51.421157  1545619615\n",
       "1545619636  16843    0.985025  1545619636\n",
       "1545619707  17293    3.377078  1545619707\n",
       "1545619837  18183   35.339015  1545619837\n",
       "1545620017  19352   64.629232  1545620017\n",
       "1545620058  19616    5.326601  1545620058"
      ]
     },
     "execution_count": 125,
     "metadata": {},
     "output_type": "execute_result"
    }
   ],
   "source": [
    "# pd.to_datetime(SpiceCore2.unixtime, unit=\"s\")[0]\n",
    "SpiceCore2"
   ]
  },
  {
   "cell_type": "code",
   "execution_count": 139,
   "metadata": {},
   "outputs": [
    {
     "data": {
      "text/plain": [
       "unixtime\n",
       "1545617239   2018-12-24 15:07:19+13:00\n",
       "1545617359   2018-12-24 15:09:19+13:00\n",
       "1545617478   2018-12-24 15:11:18+13:00\n",
       "1545617525   2018-12-24 15:12:05+13:00\n",
       "1545617551   2018-12-24 15:12:31+13:00\n",
       "1545617562   2018-12-24 15:12:42+13:00\n",
       "1545617565   2018-12-24 15:12:45+13:00\n",
       "1545617568   2018-12-24 15:12:48+13:00\n",
       "1545617573   2018-12-24 15:12:53+13:00\n",
       "1545617742   2018-12-24 15:15:42+13:00\n",
       "1545617833   2018-12-24 15:17:13+13:00\n",
       "1545617920   2018-12-24 15:18:40+13:00\n",
       "1545618023   2018-12-24 15:20:23+13:00\n",
       "1545618254   2018-12-24 15:24:14+13:00\n",
       "1545618292   2018-12-24 15:24:52+13:00\n",
       "1545618293   2018-12-24 15:24:53+13:00\n",
       "1545618341   2018-12-24 15:25:41+13:00\n",
       "1545618347   2018-12-24 15:25:47+13:00\n",
       "1545618357   2018-12-24 15:25:57+13:00\n",
       "1545618441   2018-12-24 15:27:21+13:00\n",
       "1545618481   2018-12-24 15:28:01+13:00\n",
       "1545618579   2018-12-24 15:29:39+13:00\n",
       "1545618726   2018-12-24 15:32:06+13:00\n",
       "1545618901   2018-12-24 15:35:01+13:00\n",
       "1545618929   2018-12-24 15:35:29+13:00\n",
       "1545618945   2018-12-24 15:35:45+13:00\n",
       "1545619011   2018-12-24 15:36:51+13:00\n",
       "1545619261   2018-12-24 15:41:01+13:00\n",
       "1545619430   2018-12-24 15:43:50+13:00\n",
       "1545619445   2018-12-24 15:44:05+13:00\n",
       "1545619487   2018-12-24 15:44:47+13:00\n",
       "1545619554   2018-12-24 15:45:54+13:00\n",
       "1545619569   2018-12-24 15:46:09+13:00\n",
       "1545619615   2018-12-24 15:46:55+13:00\n",
       "1545619636   2018-12-24 15:47:16+13:00\n",
       "1545619707   2018-12-24 15:48:27+13:00\n",
       "1545619837   2018-12-24 15:50:37+13:00\n",
       "1545620017   2018-12-24 15:53:37+13:00\n",
       "1545620058   2018-12-24 15:54:18+13:00\n",
       "Name: time, dtype: datetime64[ns, NZ]"
      ]
     },
     "execution_count": 139,
     "metadata": {},
     "output_type": "execute_result"
    }
   ],
   "source": [
    "SpiceCore2[\"time\"] = pd.to_datetime(SpiceCore2.index, unit=\"s\").tz_localize('UTC').tz_convert(\"NZ\")\n",
    "SpiceCore2[\"time\"]"
   ]
  },
  {
   "cell_type": "code",
   "execution_count": 100,
   "metadata": {},
   "outputs": [
    {
     "data": {
      "text/plain": [
       "datetime.datetime(2011, 1, 21, 15, 37, 21, tzinfo=tzfile('/usr/share/zoneinfo/NZ'))"
      ]
     },
     "execution_count": 100,
     "metadata": {},
     "output_type": "execute_result"
    }
   ],
   "source": [
    "from datetime import datetime\n",
    "from dateutil import tz\n",
    "\n",
    "# METHOD 1: Hardcode zones:\n",
    "from_zone = tz.gettz('UTC')\n",
    "to_zone = tz.gettz('NZ')\n",
    "\n",
    "utc = datetime.strptime('2011-01-21 02:37:21', '%Y-%m-%d %H:%M:%S')\n",
    "\n",
    "# Tell the datetime object that it's in UTC time zone since \n",
    "# datetime objects are 'naive' by default\n",
    "utc = utc.replace(tzinfo=from_zone)\n",
    "\n",
    "# Convert time zone\n",
    "central = utc.astimezone(to_zone)\n",
    "central"
   ]
  },
  {
   "cell_type": "code",
   "execution_count": 132,
   "metadata": {},
   "outputs": [
    {
     "data": {
      "text/html": [
       "<div>\n",
       "<style scoped>\n",
       "    .dataframe tbody tr th:only-of-type {\n",
       "        vertical-align: middle;\n",
       "    }\n",
       "\n",
       "    .dataframe tbody tr th {\n",
       "        vertical-align: top;\n",
       "    }\n",
       "\n",
       "    .dataframe thead th {\n",
       "        text-align: right;\n",
       "    }\n",
       "</style>\n",
       "<table border=\"1\" class=\"dataframe\">\n",
       "  <thead>\n",
       "    <tr style=\"text-align: right;\">\n",
       "      <th></th>\n",
       "      <th>EvNum</th>\n",
       "      <th>Omega_reco</th>\n",
       "      <th>unixtime</th>\n",
       "    </tr>\n",
       "    <tr>\n",
       "      <th>unixtime</th>\n",
       "      <th></th>\n",
       "      <th></th>\n",
       "      <th></th>\n",
       "    </tr>\n",
       "  </thead>\n",
       "  <tbody>\n",
       "    <tr>\n",
       "      <th>1545617239</th>\n",
       "      <td>1189</td>\n",
       "      <td>3.473020</td>\n",
       "      <td>1545617239</td>\n",
       "    </tr>\n",
       "    <tr>\n",
       "      <th>1545617359</th>\n",
       "      <td>1828</td>\n",
       "      <td>6.963259</td>\n",
       "      <td>1545617359</td>\n",
       "    </tr>\n",
       "    <tr>\n",
       "      <th>1545617478</th>\n",
       "      <td>2506</td>\n",
       "      <td>9.863654</td>\n",
       "      <td>1545617478</td>\n",
       "    </tr>\n",
       "    <tr>\n",
       "      <th>1545617525</th>\n",
       "      <td>2818</td>\n",
       "      <td>3.965398</td>\n",
       "      <td>1545617525</td>\n",
       "    </tr>\n",
       "    <tr>\n",
       "      <th>1545617551</th>\n",
       "      <td>2987</td>\n",
       "      <td>41.055364</td>\n",
       "      <td>1545617551</td>\n",
       "    </tr>\n",
       "    <tr>\n",
       "      <th>1545617562</th>\n",
       "      <td>3074</td>\n",
       "      <td>6.236521</td>\n",
       "      <td>1545617562</td>\n",
       "    </tr>\n",
       "    <tr>\n",
       "      <th>1545617565</th>\n",
       "      <td>3097</td>\n",
       "      <td>2.716338</td>\n",
       "      <td>1545617565</td>\n",
       "    </tr>\n",
       "    <tr>\n",
       "      <th>1545617568</th>\n",
       "      <td>3118</td>\n",
       "      <td>65.824440</td>\n",
       "      <td>1545617568</td>\n",
       "    </tr>\n",
       "    <tr>\n",
       "      <th>1545617573</th>\n",
       "      <td>3153</td>\n",
       "      <td>5.275017</td>\n",
       "      <td>1545617573</td>\n",
       "    </tr>\n",
       "    <tr>\n",
       "      <th>1545617742</th>\n",
       "      <td>4314</td>\n",
       "      <td>4.740380</td>\n",
       "      <td>1545617742</td>\n",
       "    </tr>\n",
       "    <tr>\n",
       "      <th>1545617833</th>\n",
       "      <td>4905</td>\n",
       "      <td>39.021511</td>\n",
       "      <td>1545617833</td>\n",
       "    </tr>\n",
       "    <tr>\n",
       "      <th>1545617920</th>\n",
       "      <td>5499</td>\n",
       "      <td>42.219798</td>\n",
       "      <td>1545617920</td>\n",
       "    </tr>\n",
       "    <tr>\n",
       "      <th>1545618023</th>\n",
       "      <td>6178</td>\n",
       "      <td>33.248039</td>\n",
       "      <td>1545618023</td>\n",
       "    </tr>\n",
       "    <tr>\n",
       "      <th>1545618254</th>\n",
       "      <td>7731</td>\n",
       "      <td>50.297517</td>\n",
       "      <td>1545618254</td>\n",
       "    </tr>\n",
       "    <tr>\n",
       "      <th>1545618292</th>\n",
       "      <td>7978</td>\n",
       "      <td>39.538723</td>\n",
       "      <td>1545618292</td>\n",
       "    </tr>\n",
       "    <tr>\n",
       "      <th>1545618293</th>\n",
       "      <td>7984</td>\n",
       "      <td>57.078819</td>\n",
       "      <td>1545618293</td>\n",
       "    </tr>\n",
       "    <tr>\n",
       "      <th>1545618341</th>\n",
       "      <td>8309</td>\n",
       "      <td>6.206100</td>\n",
       "      <td>1545618341</td>\n",
       "    </tr>\n",
       "    <tr>\n",
       "      <th>1545618347</th>\n",
       "      <td>8344</td>\n",
       "      <td>12.480423</td>\n",
       "      <td>1545618347</td>\n",
       "    </tr>\n",
       "    <tr>\n",
       "      <th>1545618357</th>\n",
       "      <td>8407</td>\n",
       "      <td>50.130404</td>\n",
       "      <td>1545618357</td>\n",
       "    </tr>\n",
       "    <tr>\n",
       "      <th>1545618441</th>\n",
       "      <td>8971</td>\n",
       "      <td>37.221104</td>\n",
       "      <td>1545618441</td>\n",
       "    </tr>\n",
       "    <tr>\n",
       "      <th>1545618481</th>\n",
       "      <td>9220</td>\n",
       "      <td>34.355353</td>\n",
       "      <td>1545618481</td>\n",
       "    </tr>\n",
       "    <tr>\n",
       "      <th>1545618579</th>\n",
       "      <td>9885</td>\n",
       "      <td>5.734345</td>\n",
       "      <td>1545618579</td>\n",
       "    </tr>\n",
       "    <tr>\n",
       "      <th>1545618726</th>\n",
       "      <td>10873</td>\n",
       "      <td>37.554038</td>\n",
       "      <td>1545618726</td>\n",
       "    </tr>\n",
       "    <tr>\n",
       "      <th>1545618901</th>\n",
       "      <td>11990</td>\n",
       "      <td>54.077464</td>\n",
       "      <td>1545618901</td>\n",
       "    </tr>\n",
       "    <tr>\n",
       "      <th>1545618929</th>\n",
       "      <td>12187</td>\n",
       "      <td>7.078283</td>\n",
       "      <td>1545618929</td>\n",
       "    </tr>\n",
       "    <tr>\n",
       "      <th>1545618945</th>\n",
       "      <td>12288</td>\n",
       "      <td>10.120736</td>\n",
       "      <td>1545618945</td>\n",
       "    </tr>\n",
       "    <tr>\n",
       "      <th>1545619011</th>\n",
       "      <td>12698</td>\n",
       "      <td>5.740335</td>\n",
       "      <td>1545619011</td>\n",
       "    </tr>\n",
       "    <tr>\n",
       "      <th>1545619261</th>\n",
       "      <td>14354</td>\n",
       "      <td>7.818154</td>\n",
       "      <td>1545619261</td>\n",
       "    </tr>\n",
       "    <tr>\n",
       "      <th>1545619430</th>\n",
       "      <td>15465</td>\n",
       "      <td>57.324554</td>\n",
       "      <td>1545619430</td>\n",
       "    </tr>\n",
       "    <tr>\n",
       "      <th>1545619445</th>\n",
       "      <td>15557</td>\n",
       "      <td>42.554816</td>\n",
       "      <td>1545619445</td>\n",
       "    </tr>\n",
       "    <tr>\n",
       "      <th>1545619487</th>\n",
       "      <td>15860</td>\n",
       "      <td>11.627389</td>\n",
       "      <td>1545619487</td>\n",
       "    </tr>\n",
       "    <tr>\n",
       "      <th>1545619554</th>\n",
       "      <td>16303</td>\n",
       "      <td>3.351980</td>\n",
       "      <td>1545619554</td>\n",
       "    </tr>\n",
       "    <tr>\n",
       "      <th>1545619569</th>\n",
       "      <td>16404</td>\n",
       "      <td>32.671432</td>\n",
       "      <td>1545619569</td>\n",
       "    </tr>\n",
       "    <tr>\n",
       "      <th>1545619615</th>\n",
       "      <td>16703</td>\n",
       "      <td>51.421157</td>\n",
       "      <td>1545619615</td>\n",
       "    </tr>\n",
       "    <tr>\n",
       "      <th>1545619636</th>\n",
       "      <td>16843</td>\n",
       "      <td>0.985025</td>\n",
       "      <td>1545619636</td>\n",
       "    </tr>\n",
       "    <tr>\n",
       "      <th>1545619707</th>\n",
       "      <td>17293</td>\n",
       "      <td>3.377078</td>\n",
       "      <td>1545619707</td>\n",
       "    </tr>\n",
       "    <tr>\n",
       "      <th>1545619837</th>\n",
       "      <td>18183</td>\n",
       "      <td>35.339015</td>\n",
       "      <td>1545619837</td>\n",
       "    </tr>\n",
       "    <tr>\n",
       "      <th>1545620017</th>\n",
       "      <td>19352</td>\n",
       "      <td>64.629232</td>\n",
       "      <td>1545620017</td>\n",
       "    </tr>\n",
       "    <tr>\n",
       "      <th>1545620058</th>\n",
       "      <td>19616</td>\n",
       "      <td>5.326601</td>\n",
       "      <td>1545620058</td>\n",
       "    </tr>\n",
       "  </tbody>\n",
       "</table>\n",
       "</div>"
      ],
      "text/plain": [
       "            EvNum  Omega_reco    unixtime\n",
       "unixtime                                 \n",
       "1545617239   1189    3.473020  1545617239\n",
       "1545617359   1828    6.963259  1545617359\n",
       "1545617478   2506    9.863654  1545617478\n",
       "1545617525   2818    3.965398  1545617525\n",
       "1545617551   2987   41.055364  1545617551\n",
       "1545617562   3074    6.236521  1545617562\n",
       "1545617565   3097    2.716338  1545617565\n",
       "1545617568   3118   65.824440  1545617568\n",
       "1545617573   3153    5.275017  1545617573\n",
       "1545617742   4314    4.740380  1545617742\n",
       "1545617833   4905   39.021511  1545617833\n",
       "1545617920   5499   42.219798  1545617920\n",
       "1545618023   6178   33.248039  1545618023\n",
       "1545618254   7731   50.297517  1545618254\n",
       "1545618292   7978   39.538723  1545618292\n",
       "1545618293   7984   57.078819  1545618293\n",
       "1545618341   8309    6.206100  1545618341\n",
       "1545618347   8344   12.480423  1545618347\n",
       "1545618357   8407   50.130404  1545618357\n",
       "1545618441   8971   37.221104  1545618441\n",
       "1545618481   9220   34.355353  1545618481\n",
       "1545618579   9885    5.734345  1545618579\n",
       "1545618726  10873   37.554038  1545618726\n",
       "1545618901  11990   54.077464  1545618901\n",
       "1545618929  12187    7.078283  1545618929\n",
       "1545618945  12288   10.120736  1545618945\n",
       "1545619011  12698    5.740335  1545619011\n",
       "1545619261  14354    7.818154  1545619261\n",
       "1545619430  15465   57.324554  1545619430\n",
       "1545619445  15557   42.554816  1545619445\n",
       "1545619487  15860   11.627389  1545619487\n",
       "1545619554  16303    3.351980  1545619554\n",
       "1545619569  16404   32.671432  1545619569\n",
       "1545619615  16703   51.421157  1545619615\n",
       "1545619636  16843    0.985025  1545619636\n",
       "1545619707  17293    3.377078  1545619707\n",
       "1545619837  18183   35.339015  1545619837\n",
       "1545620017  19352   64.629232  1545620017\n",
       "1545620058  19616    5.326601  1545620058"
      ]
     },
     "execution_count": 132,
     "metadata": {},
     "output_type": "execute_result"
    }
   ],
   "source": [
    "SpiceCore2"
   ]
  },
  {
   "cell_type": "code",
   "execution_count": 3,
   "metadata": {},
   "outputs": [],
   "source": [
    "wf = pd.read_pickle(\"../ARA_analysis/ARA_Reconstruction/exampleWF.pkl\")"
   ]
  },
  {
   "cell_type": "code",
   "execution_count": 4,
   "metadata": {},
   "outputs": [
    {
     "data": {
      "text/plain": [
       "[<matplotlib.lines.Line2D at 0x2b4371a26d30>]"
      ]
     },
     "execution_count": 4,
     "metadata": {},
     "output_type": "execute_result"
    },
    {
     "data": {
      "image/png": "[encoded data removed]",
      "text/plain": [
       "<Figure size 432x288 with 1 Axes>"
      ]
     },
     "metadata": {},
     "output_type": "display_data"
    }
   ],
   "source": [
    "plt.plot(wf.t, wf.v)"
   ]
  },
  {
   "cell_type": "code",
   "execution_count": 5,
   "metadata": {},
   "outputs": [
    {
     "data": {
      "text/plain": [
       "2075"
      ]
     },
     "execution_count": 5,
     "metadata": {},
     "output_type": "execute_result"
    }
   ],
   "source": [
    "len(wf.t)"
   ]
  },
  {
   "cell_type": "code",
   "execution_count": 6,
   "metadata": {},
   "outputs": [
    {
     "data": {
      "text/plain": [
       "1839.495421686747"
      ]
     },
     "execution_count": 6,
     "metadata": {},
     "output_type": "execute_result"
    }
   ],
   "source": [
    "max(abs(wf.v))"
   ]
  },
  {
   "cell_type": "code",
   "execution_count": 7,
   "metadata": {},
   "outputs": [
    {
     "data": {
      "text/plain": [
       "0       1564\n",
       "1        459\n",
       "2       1187\n",
       "3       1778\n",
       "4        186\n",
       "        ... \n",
       "2070    1285\n",
       "2071    1288\n",
       "2072    1276\n",
       "2073    1286\n",
       "2074     214\n",
       "Name: v, Length: 2075, dtype: int64"
      ]
     },
     "execution_count": 7,
     "metadata": {},
     "output_type": "execute_result"
    }
   ],
   "source": [
    "abs(wf.v).argsort()"
   ]
  },
  {
   "cell_type": "code",
   "execution_count": 8,
   "metadata": {},
   "outputs": [
    {
     "data": {
      "text/plain": [
       "-42.50457831325303"
      ]
     },
     "execution_count": 8,
     "metadata": {},
     "output_type": "execute_result"
    }
   ],
   "source": [
    "wf.v[60]"
   ]
  },
  {
   "cell_type": "code",
   "execution_count": 9,
   "metadata": {},
   "outputs": [],
   "source": [
    "from scipy.signal import hilbert, chirp"
   ]
  },
  {
   "cell_type": "code",
   "execution_count": 10,
   "metadata": {},
   "outputs": [],
   "source": [
    "normWF = wf.v/max(abs(wf.v))\n",
    "analytic_signal = hilbert(normWF)\n",
    "amplitude_envelope = np.abs(analytic_signal)"
   ]
  },
  {
   "cell_type": "code",
   "execution_count": 11,
   "metadata": {},
   "outputs": [
    {
     "data": {
      "text/plain": [
       "[<matplotlib.lines.Line2D at 0x2b4372a44278>]"
      ]
     },
     "execution_count": 11,
     "metadata": {},
     "output_type": "execute_result"
    },
    {
     "data": {
      "image/png": "[encoded data removed]",
      "text/plain": [
       "<Figure size 432x288 with 1 Axes>"
      ]
     },
     "metadata": {},
     "output_type": "display_data"
    }
   ],
   "source": [
    "plt.plot(wf.t, normWF)\n",
    "plt.plot(wf.t, amplitude_envelope, alpha = 0.3)"
   ]
  },
  {
   "cell_type": "code",
   "execution_count": 12,
   "metadata": {},
   "outputs": [],
   "source": [
    "peaks,_ = scipy.signal.find_peaks(amplitude_envelope, width=2, prominence=0.5)"
   ]
  },
  {
   "cell_type": "code",
   "execution_count": 13,
   "metadata": {},
   "outputs": [
    {
     "data": {
      "text/plain": [
       "<matplotlib.legend.Legend at 0x2b437b71ba90>"
      ]
     },
     "execution_count": 13,
     "metadata": {},
     "output_type": "execute_result"
    },
    {
     "data": {
      "image/png": "[encoded data removed]",
      "text/plain": [
       "<Figure size 432x288 with 1 Axes>"
      ]
     },
     "metadata": {},
     "output_type": "display_data"
    }
   ],
   "source": [
    "plt.plot(wf.t, normWF, label = \"Normalized waveform\")\n",
    "plt.plot(wf.t, amplitude_envelope, alpha = 0.3, label = \"Hilbert envelope\")\n",
    "plt.plot(wf.t[peaks], amplitude_envelope[peaks], \"x\", markersize=15)\n",
    "plt.legend()"
   ]
  },
  {
   "cell_type": "code",
   "execution_count": 33,
   "metadata": {},
   "outputs": [
    {
     "data": {
      "text/plain": [
       "array([ 214, 1287, 1302])"
      ]
     },
     "execution_count": 33,
     "metadata": {},
     "output_type": "execute_result"
    }
   ],
   "source": [
    "peaks"
   ]
  },
  {
   "cell_type": "code",
   "execution_count": null,
   "metadata": {},
   "outputs": [],
   "source": []
  }
 ],
 "metadata": {
  "kernelspec": {
   "display_name": "Python 3.6 (Conda 5.2) [python/3.6-conda5.2]",
   "language": "python",
   "name": "sys_python36conda"
  },
  "language_info": {
   "codemirror_mode": {
    "name": "ipython",
    "version": 3
   },
   "file_extension": ".py",
   "mimetype": "text/x-python",
   "name": "python",
   "nbconvert_exporter": "python",
   "pygments_lexer": "ipython3",
   "version": "3.6.6"
  }
 },
 "nbformat": 4,
 "nbformat_minor": 4
}
