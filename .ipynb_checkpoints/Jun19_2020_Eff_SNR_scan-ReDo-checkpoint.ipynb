{
 "cells": [
  {
   "cell_type": "markdown",
   "metadata": {},
   "source": [
    "# Get analysis efficiency from scanning $\\alpha_{sky}$ parameter space"
   ]
  },
  {
   "cell_type": "markdown",
   "metadata": {},
   "source": [
    "### June 17, 2020"
   ]
  },
  {
   "cell_type": "markdown",
   "metadata": {},
   "source": [
    "We have the parameter $\\alpha_{sky}$ that tells us what fraction of the background events are taken out by constraining the fraction of sky that we expect Cen A events to come from. \n",
    "\n",
    "We can get the SNR intercept change by assuming that the background events for the source search will follow a similar distribution as in the diffuse analysis:\n",
    "\\begin{equation}\n",
    "\\text{SNR}_{new}-\\text{SNR}_{old} = -\\frac{\\log(\\alpha_{sky})}{b},\n",
    "\\end{equation}\n",
    "where\n",
    "$$\n",
    "\\alpha_{sky} \\equiv \\frac{\\Delta \\cos(\\theta_{reco})\\Delta\\phi_{reco}}{(2)(2\\pi)}, \\qquad b = -5.96\n",
    "$$\n",
    "is the fraction of sky that we constraint from simulations."
   ]
  },
  {
   "cell_type": "markdown",
   "metadata": {},
   "source": [
    "We want to see how the efficiency changes as a function of $\\alpha_{sky}$ so we can set a goal in terms of efficiency improvement."
   ]
  },
  {
   "cell_type": "markdown",
   "metadata": {},
   "source": [
    "## Code"
   ]
  },
  {
   "cell_type": "markdown",
   "metadata": {},
   "source": [
    "### Import needed packages"
   ]
  },
  {
   "cell_type": "code",
   "execution_count": 1,
   "metadata": {},
   "outputs": [
    {
     "name": "stdout",
     "output_type": "stream",
     "text": [
      "Welcome to JupyROOT 6.18/04\n"
     ]
    }
   ],
   "source": [
    "import sys\n",
    "sys.path.insert(0,\"/users/PCON0003/cond0068/.local/lib/python3.7/\")\n",
    "sys.path.append(\"/users/PAS0654/osu8354/ARA_cvmfs/root_build/lib/\") # go to parent dir\n",
    "sys.path.append(\"/users/PCON0003/cond0068/.local/lib/python3.7/site-packages/\")\n",
    "import ROOT\n",
    "import math\n",
    "import numpy as np\n",
    "from ROOT import TH1D,TF1, gRandom, gPad, gStyle\n",
    "import matplotlib.pyplot as plt\n",
    "from ROOT import TChain, TSelector, TTree\n",
    "import os\n",
    "import matplotlib.colors as mcolors\n",
    "import scipy\n",
    "from matplotlib.colors import LogNorm\n",
    "import seaborn as sns\n",
    "import pandas as pd"
   ]
  },
  {
   "cell_type": "markdown",
   "metadata": {},
   "source": [
    "### Get data from ROOT files"
   ]
  },
  {
   "cell_type": "code",
   "execution_count": 2,
   "metadata": {},
   "outputs": [],
   "source": [
    "file_list=[]#Define an empty list\n",
    "for filename in os.listdir(\"/users/PAS0654/osu8354/ARA_cvmfs/source/AraRoot/analysis/allCuts/data/\"):#Loop over desired directory\n",
    "    if filename.endswith(\".root\"): #extension, .root in this case\n",
    "        file_list.append(os.path.join(\"/users/PAS0654/osu8354/ARA_cvmfs/source/AraRoot/analysis/allCuts/data/\", str(filename))) #add file name to the list\n",
    "        \n",
    "        "
   ]
  },
  {
   "cell_type": "code",
   "execution_count": 3,
   "metadata": {},
   "outputs": [],
   "source": [
    "chain = TChain(\"allCuts\") #Define chain and tree that needs to be read. \"allCuts\" in this case.\n",
    "for line in file_list:\n",
    "    chain.AddFile(line)"
   ]
  },
  {
   "cell_type": "code",
   "execution_count": 4,
   "metadata": {},
   "outputs": [],
   "source": [
    "corr_val = [[],[]]\n",
    "snr_val = [[],[]]\n",
    "failsRcut_V = []\n",
    "failsRcut_H = []\n",
    "# this_y_val = [[],[]]\n",
    "weight = []\n",
    "energy = []\n",
    "failsTopV = []\n",
    "failsTopH = []\n",
    "isSurface = []\n",
    "# peakTheta_300m = []\n",
    "# peakPhi_300m = []\n",
    "for entry in chain:\n",
    "#     if(entry.peakCorr_single[0]<0.01): continue\n",
    "#     if(entry.peakPhi_single[0]<0):\n",
    "#         phi.append(entry.peakPhi_single[0]+180) #extract variables of interest\n",
    "#     else:\n",
    "    corr_val[0].append(entry.corr_val[0]) \n",
    "    corr_val[1].append(entry.corr_val[1]) \n",
    "    snr_val[0].append(entry.snr_val[0]) \n",
    "    snr_val[1].append(entry.snr_val[1]) \n",
    "\n",
    "    failsRcut_V.append(entry.failsRcut[0])\n",
    "    failsRcut_H.append(entry.failsRcut[1])\n",
    "    failsTopV.append(entry.failsTopV)\n",
    "    failsTopH.append(entry.failsTopH)\n",
    "    isSurface.append(entry.isSurface)\n",
    "\n",
    "    \n",
    "#     this_y_val[0].append(entry.this_y_val[0])\n",
    "#     this_y_val[1].append(entry.this_y_val[1])\n",
    "    weight.append(entry.weight)\n",
    "    energy.append(entry.energy)\n",
    "#     peakTheta_300m.append(entry.peakTheta_300m[0]+90)\n",
    "#     peakPhi_300m.append(entry.peakPhi_300m[0])"
   ]
  },
  {
   "cell_type": "markdown",
   "metadata": {},
   "source": [
    "### Let's first bin up the energies"
   ]
  },
  {
   "cell_type": "code",
   "execution_count": 42,
   "metadata": {},
   "outputs": [
    {
     "data": {
      "text/html": [
       "<div>\n",
       "<style scoped>\n",
       "    .dataframe tbody tr th:only-of-type {\n",
       "        vertical-align: middle;\n",
       "    }\n",
       "\n",
       "    .dataframe tbody tr th {\n",
       "        vertical-align: top;\n",
       "    }\n",
       "\n",
       "    .dataframe thead th {\n",
       "        text-align: right;\n",
       "    }\n",
       "</style>\n",
       "<table border=\"1\" class=\"dataframe\">\n",
       "  <thead>\n",
       "    <tr style=\"text-align: right;\">\n",
       "      <th></th>\n",
       "      <th>energy</th>\n",
       "      <th>snrV</th>\n",
       "      <th>snrH</th>\n",
       "      <th>corrV</th>\n",
       "      <th>corrH</th>\n",
       "      <th>failsTopV</th>\n",
       "      <th>failsTopH</th>\n",
       "      <th>isSurface</th>\n",
       "      <th>failsTopCut</th>\n",
       "    </tr>\n",
       "  </thead>\n",
       "  <tbody>\n",
       "    <tr>\n",
       "      <th>0</th>\n",
       "      <td>3.459365e+19</td>\n",
       "      <td>36.247292</td>\n",
       "      <td>27.692433</td>\n",
       "      <td>0.027403</td>\n",
       "      <td>0.020264</td>\n",
       "      <td>0</td>\n",
       "      <td>0</td>\n",
       "      <td>0</td>\n",
       "      <td>False</td>\n",
       "    </tr>\n",
       "    <tr>\n",
       "      <th>1</th>\n",
       "      <td>1.922015e+16</td>\n",
       "      <td>6.897789</td>\n",
       "      <td>5.842386</td>\n",
       "      <td>0.010513</td>\n",
       "      <td>0.003364</td>\n",
       "      <td>0</td>\n",
       "      <td>0</td>\n",
       "      <td>0</td>\n",
       "      <td>False</td>\n",
       "    </tr>\n",
       "    <tr>\n",
       "      <th>2</th>\n",
       "      <td>1.836782e+18</td>\n",
       "      <td>12.622632</td>\n",
       "      <td>3.258172</td>\n",
       "      <td>0.012572</td>\n",
       "      <td>0.003045</td>\n",
       "      <td>1</td>\n",
       "      <td>0</td>\n",
       "      <td>0</td>\n",
       "      <td>True</td>\n",
       "    </tr>\n",
       "    <tr>\n",
       "      <th>3</th>\n",
       "      <td>2.743933e+16</td>\n",
       "      <td>4.209637</td>\n",
       "      <td>3.899341</td>\n",
       "      <td>0.003144</td>\n",
       "      <td>0.003219</td>\n",
       "      <td>0</td>\n",
       "      <td>0</td>\n",
       "      <td>1</td>\n",
       "      <td>False</td>\n",
       "    </tr>\n",
       "    <tr>\n",
       "      <th>4</th>\n",
       "      <td>2.423597e+18</td>\n",
       "      <td>10.712566</td>\n",
       "      <td>3.626430</td>\n",
       "      <td>0.015349</td>\n",
       "      <td>0.003120</td>\n",
       "      <td>0</td>\n",
       "      <td>0</td>\n",
       "      <td>1</td>\n",
       "      <td>False</td>\n",
       "    </tr>\n",
       "  </tbody>\n",
       "</table>\n",
       "</div>"
      ],
      "text/plain": [
       "         energy       snrV       snrH     corrV     corrH  failsTopV  \\\n",
       "0  3.459365e+19  36.247292  27.692433  0.027403  0.020264          0   \n",
       "1  1.922015e+16   6.897789   5.842386  0.010513  0.003364          0   \n",
       "2  1.836782e+18  12.622632   3.258172  0.012572  0.003045          1   \n",
       "3  2.743933e+16   4.209637   3.899341  0.003144  0.003219          0   \n",
       "4  2.423597e+18  10.712566   3.626430  0.015349  0.003120          0   \n",
       "\n",
       "   failsTopH  isSurface  failsTopCut  \n",
       "0          0          0        False  \n",
       "1          0          0        False  \n",
       "2          0          0         True  \n",
       "3          0          1        False  \n",
       "4          0          1        False  "
      ]
     },
     "execution_count": 42,
     "metadata": {},
     "output_type": "execute_result"
    }
   ],
   "source": [
    "d = {'energy':np.array(energy),'snrV':np.array(snr_val[0]),'snrH':np.array(snr_val[1]),'corrV':np.array(corr_val[0]),'corrH':np.array(corr_val[1]), \"failsTopV\":np.array(failsTopV), \"failsTopH\":np.array(failsTopH), \"isSurface\":np.array(isSurface)}\n",
    "cuts = pd.DataFrame(data=d)\n",
    "# cuts[\"failsCut\"] = ((cuts.failsCutV==1) & (cuts.failsCutH==1))\n",
    "cuts[\"failsTopCut\"] = ((cuts.failsTopV==1) | (cuts.failsTopH==1))\n",
    "\n",
    "# cuts[\"passes\"] = ((cuts.failsCut==False) & (cuts.failsTopCut==False) & (cuts.isSurface==False))\n",
    "# cuts.energy.value_counts()\n",
    "cuts.head()"
   ]
  },
  {
   "cell_type": "code",
   "execution_count": 43,
   "metadata": {},
   "outputs": [
    {
     "data": {
      "text/plain": [
       "array([3.16227766e+15, 3.16227766e+16, 3.16227766e+17, 3.16227766e+18,\n",
       "       3.16227766e+19, 3.16227766e+20])"
      ]
     },
     "execution_count": 43,
     "metadata": {},
     "output_type": "execute_result"
    }
   ],
   "source": [
    "forBins_half = np.logspace(15.5, 20.5, num=6)\n",
    "forBins_half"
   ]
  },
  {
   "cell_type": "code",
   "execution_count": 44,
   "metadata": {},
   "outputs": [
    {
     "data": {
      "text/plain": [
       "array([1.e+15, 1.e+16, 1.e+17, 1.e+18, 1.e+19, 1.e+20])"
      ]
     },
     "execution_count": 44,
     "metadata": {},
     "output_type": "execute_result"
    }
   ],
   "source": [
    "forBins = np.logspace(15, 20, num=6)\n",
    "forBins"
   ]
  },
  {
   "cell_type": "code",
   "execution_count": 45,
   "metadata": {},
   "outputs": [],
   "source": [
    "Ebins = np.concatenate([forBins_half,forBins])\n",
    "Ebins = np.sort(Ebins)"
   ]
  },
  {
   "cell_type": "code",
   "execution_count": 46,
   "metadata": {},
   "outputs": [],
   "source": [
    "cuts[\"binnedE\"] = pd.cut(cuts.energy, bins=Ebins, labels=Ebins[1:]).astype(float)"
   ]
  },
  {
   "cell_type": "code",
   "execution_count": 47,
   "metadata": {},
   "outputs": [
    {
     "data": {
      "text/html": [
       "<div>\n",
       "<style scoped>\n",
       "    .dataframe tbody tr th:only-of-type {\n",
       "        vertical-align: middle;\n",
       "    }\n",
       "\n",
       "    .dataframe tbody tr th {\n",
       "        vertical-align: top;\n",
       "    }\n",
       "\n",
       "    .dataframe thead th {\n",
       "        text-align: right;\n",
       "    }\n",
       "</style>\n",
       "<table border=\"1\" class=\"dataframe\">\n",
       "  <thead>\n",
       "    <tr style=\"text-align: right;\">\n",
       "      <th></th>\n",
       "      <th>energy</th>\n",
       "      <th>snrV</th>\n",
       "      <th>snrH</th>\n",
       "      <th>corrV</th>\n",
       "      <th>corrH</th>\n",
       "      <th>failsTopV</th>\n",
       "      <th>failsTopH</th>\n",
       "      <th>isSurface</th>\n",
       "      <th>failsTopCut</th>\n",
       "      <th>binnedE</th>\n",
       "    </tr>\n",
       "  </thead>\n",
       "  <tbody>\n",
       "    <tr>\n",
       "      <th>0</th>\n",
       "      <td>3.459365e+19</td>\n",
       "      <td>36.247292</td>\n",
       "      <td>27.692433</td>\n",
       "      <td>0.027403</td>\n",
       "      <td>0.020264</td>\n",
       "      <td>0</td>\n",
       "      <td>0</td>\n",
       "      <td>0</td>\n",
       "      <td>False</td>\n",
       "      <td>1.000000e+20</td>\n",
       "    </tr>\n",
       "    <tr>\n",
       "      <th>1</th>\n",
       "      <td>1.922015e+16</td>\n",
       "      <td>6.897789</td>\n",
       "      <td>5.842386</td>\n",
       "      <td>0.010513</td>\n",
       "      <td>0.003364</td>\n",
       "      <td>0</td>\n",
       "      <td>0</td>\n",
       "      <td>0</td>\n",
       "      <td>False</td>\n",
       "      <td>3.162278e+16</td>\n",
       "    </tr>\n",
       "    <tr>\n",
       "      <th>2</th>\n",
       "      <td>1.836782e+18</td>\n",
       "      <td>12.622632</td>\n",
       "      <td>3.258172</td>\n",
       "      <td>0.012572</td>\n",
       "      <td>0.003045</td>\n",
       "      <td>1</td>\n",
       "      <td>0</td>\n",
       "      <td>0</td>\n",
       "      <td>True</td>\n",
       "      <td>3.162278e+18</td>\n",
       "    </tr>\n",
       "    <tr>\n",
       "      <th>3</th>\n",
       "      <td>2.743933e+16</td>\n",
       "      <td>4.209637</td>\n",
       "      <td>3.899341</td>\n",
       "      <td>0.003144</td>\n",
       "      <td>0.003219</td>\n",
       "      <td>0</td>\n",
       "      <td>0</td>\n",
       "      <td>1</td>\n",
       "      <td>False</td>\n",
       "      <td>3.162278e+16</td>\n",
       "    </tr>\n",
       "    <tr>\n",
       "      <th>4</th>\n",
       "      <td>2.423597e+18</td>\n",
       "      <td>10.712566</td>\n",
       "      <td>3.626430</td>\n",
       "      <td>0.015349</td>\n",
       "      <td>0.003120</td>\n",
       "      <td>0</td>\n",
       "      <td>0</td>\n",
       "      <td>1</td>\n",
       "      <td>False</td>\n",
       "      <td>3.162278e+18</td>\n",
       "    </tr>\n",
       "  </tbody>\n",
       "</table>\n",
       "</div>"
      ],
      "text/plain": [
       "         energy       snrV       snrH     corrV     corrH  failsTopV  \\\n",
       "0  3.459365e+19  36.247292  27.692433  0.027403  0.020264          0   \n",
       "1  1.922015e+16   6.897789   5.842386  0.010513  0.003364          0   \n",
       "2  1.836782e+18  12.622632   3.258172  0.012572  0.003045          1   \n",
       "3  2.743933e+16   4.209637   3.899341  0.003144  0.003219          0   \n",
       "4  2.423597e+18  10.712566   3.626430  0.015349  0.003120          0   \n",
       "\n",
       "   failsTopH  isSurface  failsTopCut       binnedE  \n",
       "0          0          0        False  1.000000e+20  \n",
       "1          0          0        False  3.162278e+16  \n",
       "2          0          0         True  3.162278e+18  \n",
       "3          0          1        False  3.162278e+16  \n",
       "4          0          1        False  3.162278e+18  "
      ]
     },
     "execution_count": 47,
     "metadata": {},
     "output_type": "execute_result"
    }
   ],
   "source": [
    "cuts.head()"
   ]
  },
  {
   "cell_type": "markdown",
   "metadata": {},
   "source": [
    "### Can now bin up the SNRs"
   ]
  },
  {
   "cell_type": "code",
   "execution_count": 48,
   "metadata": {},
   "outputs": [],
   "source": [
    "SNR_bins = np.linspace(0,45,45)\n",
    "# SNR_bins\n",
    "cuts[\"binnedSNR\"] = pd.cut(cuts.snrV, bins=SNR_bins, labels=SNR_bins[1:]).astype(float)"
   ]
  },
  {
   "cell_type": "code",
   "execution_count": 49,
   "metadata": {},
   "outputs": [
    {
     "data": {
      "text/html": [
       "<div>\n",
       "<style scoped>\n",
       "    .dataframe tbody tr th:only-of-type {\n",
       "        vertical-align: middle;\n",
       "    }\n",
       "\n",
       "    .dataframe tbody tr th {\n",
       "        vertical-align: top;\n",
       "    }\n",
       "\n",
       "    .dataframe thead th {\n",
       "        text-align: right;\n",
       "    }\n",
       "</style>\n",
       "<table border=\"1\" class=\"dataframe\">\n",
       "  <thead>\n",
       "    <tr style=\"text-align: right;\">\n",
       "      <th></th>\n",
       "      <th>energy</th>\n",
       "      <th>snrV</th>\n",
       "      <th>snrH</th>\n",
       "      <th>corrV</th>\n",
       "      <th>corrH</th>\n",
       "      <th>failsTopV</th>\n",
       "      <th>failsTopH</th>\n",
       "      <th>isSurface</th>\n",
       "      <th>failsTopCut</th>\n",
       "      <th>binnedE</th>\n",
       "      <th>binnedSNR</th>\n",
       "    </tr>\n",
       "  </thead>\n",
       "  <tbody>\n",
       "    <tr>\n",
       "      <th>0</th>\n",
       "      <td>3.459365e+19</td>\n",
       "      <td>36.247292</td>\n",
       "      <td>27.692433</td>\n",
       "      <td>0.027403</td>\n",
       "      <td>0.020264</td>\n",
       "      <td>0</td>\n",
       "      <td>0</td>\n",
       "      <td>0</td>\n",
       "      <td>False</td>\n",
       "      <td>1.000000e+20</td>\n",
       "      <td>36.818182</td>\n",
       "    </tr>\n",
       "    <tr>\n",
       "      <th>1</th>\n",
       "      <td>1.922015e+16</td>\n",
       "      <td>6.897789</td>\n",
       "      <td>5.842386</td>\n",
       "      <td>0.010513</td>\n",
       "      <td>0.003364</td>\n",
       "      <td>0</td>\n",
       "      <td>0</td>\n",
       "      <td>0</td>\n",
       "      <td>False</td>\n",
       "      <td>3.162278e+16</td>\n",
       "      <td>7.159091</td>\n",
       "    </tr>\n",
       "    <tr>\n",
       "      <th>2</th>\n",
       "      <td>1.836782e+18</td>\n",
       "      <td>12.622632</td>\n",
       "      <td>3.258172</td>\n",
       "      <td>0.012572</td>\n",
       "      <td>0.003045</td>\n",
       "      <td>1</td>\n",
       "      <td>0</td>\n",
       "      <td>0</td>\n",
       "      <td>True</td>\n",
       "      <td>3.162278e+18</td>\n",
       "      <td>13.295455</td>\n",
       "    </tr>\n",
       "    <tr>\n",
       "      <th>3</th>\n",
       "      <td>2.743933e+16</td>\n",
       "      <td>4.209637</td>\n",
       "      <td>3.899341</td>\n",
       "      <td>0.003144</td>\n",
       "      <td>0.003219</td>\n",
       "      <td>0</td>\n",
       "      <td>0</td>\n",
       "      <td>1</td>\n",
       "      <td>False</td>\n",
       "      <td>3.162278e+16</td>\n",
       "      <td>5.113636</td>\n",
       "    </tr>\n",
       "    <tr>\n",
       "      <th>4</th>\n",
       "      <td>2.423597e+18</td>\n",
       "      <td>10.712566</td>\n",
       "      <td>3.626430</td>\n",
       "      <td>0.015349</td>\n",
       "      <td>0.003120</td>\n",
       "      <td>0</td>\n",
       "      <td>0</td>\n",
       "      <td>1</td>\n",
       "      <td>False</td>\n",
       "      <td>3.162278e+18</td>\n",
       "      <td>11.250000</td>\n",
       "    </tr>\n",
       "  </tbody>\n",
       "</table>\n",
       "</div>"
      ],
      "text/plain": [
       "         energy       snrV       snrH     corrV     corrH  failsTopV  \\\n",
       "0  3.459365e+19  36.247292  27.692433  0.027403  0.020264          0   \n",
       "1  1.922015e+16   6.897789   5.842386  0.010513  0.003364          0   \n",
       "2  1.836782e+18  12.622632   3.258172  0.012572  0.003045          1   \n",
       "3  2.743933e+16   4.209637   3.899341  0.003144  0.003219          0   \n",
       "4  2.423597e+18  10.712566   3.626430  0.015349  0.003120          0   \n",
       "\n",
       "   failsTopH  isSurface  failsTopCut       binnedE  binnedSNR  \n",
       "0          0          0        False  1.000000e+20  36.818182  \n",
       "1          0          0        False  3.162278e+16   7.159091  \n",
       "2          0          0         True  3.162278e+18  13.295455  \n",
       "3          0          1        False  3.162278e+16   5.113636  \n",
       "4          0          1        False  3.162278e+18  11.250000  "
      ]
     },
     "execution_count": 49,
     "metadata": {},
     "output_type": "execute_result"
    }
   ],
   "source": [
    "cuts.head()"
   ]
  },
  {
   "cell_type": "markdown",
   "metadata": {},
   "source": [
    "### The code below will be an iterative function that returns the expected efficiency for each value of $\\alpha_{sky}$"
   ]
  },
  {
   "cell_type": "markdown",
   "metadata": {},
   "source": [
    "An event will pass the cut if \n",
    "$$\n",
    "SNR_{pol} > m_{pol}\\times C_{sky,pol} + SNR_{0,pol}\n",
    "$$\n",
    "where\n",
    "$$\n",
    "SNR_{0,V} = 20.6, \\quad m_V = -2080 \\\\\n",
    "SNR_{0,H} = 12.7, \\quad m_H = -640\n",
    "$$\n",
    "$\\text{SNR}_{new}-\\text{SNR}_{old} = -\\frac{\\log(\\alpha_{sky})}{b}$\n"
   ]
  },
  {
   "cell_type": "code",
   "execution_count": 91,
   "metadata": {
    "scrolled": true
   },
   "outputs": [
    {
     "name": "stdout",
     "output_type": "stream",
     "text": [
      "2.146620689669848\n"
     ]
    }
   ],
   "source": [
    "diffuseEff = pd.read_csv(\"./data/diffuse_eff.txt\")\n",
    "diffuseEff_OSU = pd.read_csv(\"./data/diffuse_eff_OSU.txt\")\n",
    "\n",
    "def loop_alpha_E(alpha, m=np.array([-2080,-640]), SNR_0 = np.array([20.6,12.7]), b = -5.96):\n",
    "    SNR_new = np.array([SNR_0[0]-np.log(alpha)/b, SNR_0[1]])\n",
    "    print(np.log(alpha)/b)\n",
    "    cuts[\"failsRCutV\"] = cuts.snrV < m[0]*cuts[\"corrV\"]+SNR_new[0]\n",
    "    cuts[\"failsRCutH\"] = cuts.snrH < m[1]*cuts[\"corrH\"]+SNR_new[1]\n",
    "    cuts[\"failsRCut\"] = (cuts[\"failsRCutV\"] == True) & (cuts[\"failsRCutH\"] == True)\n",
    "    cuts[\"passes\"] = ((cuts.failsTopCut == False) & (cuts.isSurface == False) & (cuts.failsRCut == False))\n",
    "    total_num = cuts.binnedE.value_counts(sort=False)\n",
    "    total_num=total_num.sort_index()\n",
    "    forEff = pd.DataFrame(data = total_num)\n",
    "    forEff.index.name = 'Energy'\n",
    "    passesCuts = cuts.loc[cuts.passes == True].binnedE.value_counts()\n",
    "    passesCuts = passesCuts.sort_index()\n",
    "    forEff[\"passesCuts\"]=passesCuts\n",
    "    forEff.passesCuts=forEff.passesCuts.fillna(0)\n",
    "#     print(forEff.passesCuts)\n",
    "    return (forEff.index/1E9,100*forEff.passesCuts/forEff.binnedE)\n",
    "eff = loop_alpha(0.002/(360*2))"
   ]
  },
  {
   "cell_type": "code",
   "execution_count": 92,
   "metadata": {},
   "outputs": [
    {
     "data": {
      "text/plain": [
       "array([1.e-03, 1.e-02, 1.e-01, 1.e+00, 1.e+01, 1.e+02])"
      ]
     },
     "execution_count": 92,
     "metadata": {},
     "output_type": "execute_result"
    }
   ],
   "source": [
    "sky_frac = np.logspace(-3, 2, 6)\n",
    "sky_frac"
   ]
  },
  {
   "cell_type": "code",
   "execution_count": 93,
   "metadata": {},
   "outputs": [
    {
     "name": "stdout",
     "output_type": "stream",
     "text": [
      "0.001\n",
      "2.2629205521799056\n",
      "0.01\n",
      "1.8765807714762068\n",
      "0.1\n",
      "1.4902409907725078\n",
      "1.0\n",
      "1.103901210068809\n",
      "10.0\n",
      "0.7175614293651099\n",
      "100.0\n",
      "0.331221648661411\n"
     ]
    },
    {
     "data": {
      "image/png": "[encoded data removed]",
      "text/plain": [
       "<Figure size 432x288 with 1 Axes>"
      ]
     },
     "metadata": {},
     "output_type": "display_data"
    }
   ],
   "source": [
    "plt.plot(np.power(10,diffuseEff_OSU.E)/1E9, 100*diffuseEff_OSU[\"a2_eff\"],\"--\", linewidth = 3, label = \"Diffuse search (A2, OSU)\")\n",
    "for sky_constraint in sky_frac:\n",
    "    print(sky_constraint)\n",
    "    eff = loop_alpha(sky_constraint/(360*2))\n",
    "    plt.plot(eff[0], eff[1], label = \"$10^{%i}$ deg\"%np.log10(sky_constraint))\n",
    "\n",
    "\n",
    "plt.xscale('log')\n",
    "plt.xlabel(\"Neutrino energy [GeV]\", fontsize=12)\n",
    "plt.ylabel(\"Efficiency [%]\", fontsize=12)\n",
    "plt.title(\"Analysis efficiency for different $\\Delta \\cos(\\\\theta_{reco})\\Delta\\phi_{reco}$\")\n",
    "plt.xlim(1E6,1E12)\n",
    "plt.ylim(0,100)\n",
    "\n",
    "plt.grid()\n",
    "plt.legend(ncol=2)\n",
    "plt.tight_layout()"
   ]
  },
  {
   "cell_type": "markdown",
   "metadata": {},
   "source": [
    "### Efficiencies as a function of SNR"
   ]
  },
  {
   "cell_type": "code",
   "execution_count": 101,
   "metadata": {},
   "outputs": [],
   "source": [
    "def loop_alpha_SNR(alpha, m=np.array([-2080,-640]), SNR_0 = np.array([20.6,12.7]), b = -5.96):\n",
    "    SNR_new = np.array([SNR_0[0]-np.log(alpha)/b, SNR_0[1]])\n",
    "    print(np.log(alpha)/b)\n",
    "    cuts[\"failsRCutV\"] = cuts.snrV < m[0]*cuts[\"corrV\"]+SNR_new[0]\n",
    "    cuts[\"failsRCutH\"] = cuts.snrH < m[1]*cuts[\"corrH\"]+SNR_new[1]\n",
    "    cuts[\"failsRCut\"] = (cuts[\"failsRCutV\"] == True) & (cuts[\"failsRCutH\"] == True)\n",
    "    cuts[\"passes\"] = ((cuts.failsTopCut == False) & (cuts.isSurface == False) & (cuts.failsRCut == False))\n",
    "    total_num = cuts.binnedSNR.value_counts(sort=False)\n",
    "    total_num=total_num.sort_index()\n",
    "    forEff_SNR = pd.DataFrame(data = total_num)\n",
    "    forEff_SNR.index.name = 'SNR'\n",
    "    passesCuts_SNR = cuts.loc[cuts.passes == True].binnedSNR.value_counts()\n",
    "    passesCuts_SNR = passesCuts_SNR.sort_index()\n",
    "    forEff_SNR[\"passesCuts_SNR\"]=passesCuts_SNR\n",
    "    forEff_SNR.passesCuts_SNR=forEff_SNR.passesCuts_SNR.fillna(0)\n",
    "#     print(forEff.passesCuts)\n",
    "    return (forEff_SNR.index,100*forEff_SNR.passesCuts_SNR/forEff_SNR.binnedSNR)"
   ]
  },
  {
   "cell_type": "code",
   "execution_count": 102,
   "metadata": {},
   "outputs": [],
   "source": [
    "diffuse_EffSNR = pd.read_csv(\"./data/Eff_vs_SNR.txt\")\n",
    "diffuse_EffSNR_Brian = pd.read_csv(\"./data/Eff_vs_SNR_Brian.txt\")"
   ]
  },
  {
   "cell_type": "code",
   "execution_count": 104,
   "metadata": {},
   "outputs": [
    {
     "name": "stdout",
     "output_type": "stream",
     "text": [
      "0.001\n",
      "2.2629205521799056\n",
      "0.01\n",
      "1.8765807714762068\n",
      "0.1\n",
      "1.4902409907725078\n",
      "1.0\n",
      "1.103901210068809\n",
      "10.0\n",
      "0.7175614293651099\n",
      "100.0\n",
      "0.331221648661411\n"
     ]
    },
    {
     "data": {
      "image/png": "[encoded data removed]",
      "text/plain": [
       "<Figure size 432x288 with 1 Axes>"
      ]
     },
     "metadata": {},
     "output_type": "display_data"
    }
   ],
   "source": [
    "for sky_constraint in sky_frac:\n",
    "    print(sky_constraint)\n",
    "    eff = loop_alpha_SNR(sky_constraint/(360*2))\n",
    "    plt.plot(eff[0], eff[1], label = \"$10^{%i}$ deg\"%np.log10(sky_constraint))\n",
    "# plt.plot(diffuse_EffSNR.snr, 100*diffuse_EffSNR[\"eff\"], label = \"Diffuse search (A2, MYL)\")\n",
    "plt.plot(diffuse_EffSNR_Brian.snr, 100*diffuse_EffSNR_Brian[\"a2_eff\"],\"--\", linewidth = 3, label = \"Diffuse search (A2, OSU)\")\n",
    "plt.scatter(8.0,100*0.4719, s=70, color=\"C3\",marker = \"o\", label=r'50% point, SNR$\\approx 8.0$')\n",
    "\n",
    "# plt.xscale('log')\n",
    "plt.xlabel(\"SNR\", fontsize=12)\n",
    "plt.ylabel(\"Efficiency [%]\", fontsize=12)\n",
    "plt.title(\"Signal efficiency vs. SNR\", fontsize=14)\n",
    "plt.grid()\n",
    "plt.xlim(0,25)\n",
    "plt.ylim(0,100)\n",
    "\n",
    "plt.legend(ncol=2)\n",
    "plt.tight_layout()\n",
    "# plt.savefig(\"./plots/CenA_search_SNRefficiency.png\", dpi=200)"
   ]
  },
  {
   "cell_type": "markdown",
   "metadata": {},
   "source": [
    "#### Put cut line in the SNR vs $C_{sky}$ plot"
   ]
  },
  {
   "cell_type": "code",
   "execution_count": 61,
   "metadata": {},
   "outputs": [],
   "source": [
    "m = -2080\n",
    "y = np.linspace(0,1,50);\n",
    "interc = 20.6-0.54\n",
    "interc2 = 20.6\n",
    "\n",
    "x = m*y+interc\n",
    "x2 = m*y+interc2"
   ]
  },
  {
   "cell_type": "code",
   "execution_count": 66,
   "metadata": {},
   "outputs": [
    {
     "data": {
      "image/png": "[encoded data removed]",
      "text/plain": [
       "<Figure size 360x360 with 1 Axes>"
      ]
     },
     "metadata": {},
     "output_type": "display_data"
    }
   ],
   "source": [
    "# sns.catplot(x=\"snr\", y=\"corr\", data=df2, hue='failsRcut');\n",
    "sns.lmplot( x=\"snrV\", y=\"corrV\", data=cuts, fit_reg=False, hue='failsRCutV', legend=True, palette=\"Set1\", legend_out=False, scatter_kws={\"s\": 1})\n",
    "plt.plot(x,y, color=\"C2\", label = \"Cen A cut\")\n",
    "plt.plot(x2,y, color=\"C1\", label = \"Diffuse cut\")\n",
    "\n",
    "\n",
    "plt.xlabel(\"SNR\", fontsize=14)\n",
    "plt.ylabel(\"$C_{sky}$\", fontsize=14)\n",
    "# plt.xscale('log')\n",
    "# plt.xscale('log')\n",
    "\n",
    "plt.xlim(0,40)\n",
    "plt.ylim(1e-4,0.04)\n",
    "plt.grid()\n",
    "plt.grid(which='minor', axis='both')\n",
    "plt.title(\"Simulated neutrinos from Cen A\", fontsize=16)\n",
    "plt.legend()\n",
    "plt.tight_layout()\n",
    "# plt.savefig(\"./plots/SNRvsCsky_CenA.png\", dpi=200)\n"
   ]
  },
  {
   "cell_type": "markdown",
   "metadata": {},
   "source": [
    "## Comments"
   ]
  }
 ],
 "metadata": {
  "kernelspec": {
   "display_name": "Python 3.6 (Conda 5.2) [python/3.6-conda5.2]",
   "language": "python",
   "name": "sys_python36conda"
  },
  "language_info": {
   "codemirror_mode": {
    "name": "ipython",
    "version": 3
   },
   "file_extension": ".py",
   "mimetype": "text/x-python",
   "name": "python",
   "nbconvert_exporter": "python",
   "pygments_lexer": "ipython3",
   "version": "3.6.6"
  }
 },
 "nbformat": 4,
 "nbformat_minor": 2
}
