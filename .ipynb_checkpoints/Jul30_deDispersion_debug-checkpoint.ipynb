{
 "cells": [
  {
   "cell_type": "markdown",
   "metadata": {},
   "source": [
    "# Helper functions for the de-dispersion code"
   ]
  },
  {
   "cell_type": "markdown",
   "metadata": {},
   "source": [
    "### Jul 30, 2020"
   ]
  },
  {
   "cell_type": "markdown",
   "metadata": {},
   "source": [
    "## Code"
   ]
  },
  {
   "cell_type": "code",
   "execution_count": 6,
   "metadata": {},
   "outputs": [],
   "source": [
    "import sys\n",
    "import csv\n",
    "sys.path.insert(0,\"/users/PCON0003/cond0068/.local/lib/python3.7/\")\n",
    "sys.path.append(\"/users/PAS0654/osu8354/ARA_cvmfs/root_build/lib/\") # go to parent dir\n",
    "sys.path.append(\"/users/PCON0003/cond0068/.local/lib/python3.7/site-packages/\")\n",
    "# sys.path.append(\"/users/PCON0003/cond0068/pyrex_sims/fromBen/thesis_work/pyrex-custom/analysis/custom/analysis/\")\n",
    "import ROOT\n",
    "import math\n",
    "import numpy as np\n",
    "from ROOT import TH1D,TF1, gRandom, gPad, gStyle\n",
    "import matplotlib.pyplot as plt\n",
    "from ROOT import TChain, TSelector, TTree\n",
    "import os\n",
    "import matplotlib.colors as mcolors\n",
    "import scipy\n",
    "from matplotlib.colors import LogNorm\n",
    "import pandas as pd\n",
    "import pyrex\n",
    "# import pyrex.custom.analysis\n",
    "# import pyrex.custom.araroot as araroot\n",
    "\n"
   ]
  },
  {
   "cell_type": "code",
   "execution_count": 18,
   "metadata": {},
   "outputs": [],
   "source": [
    "def read_ARA_antenna_model(finame):\n",
    "    fi = open(finame, 'r')\n",
    "    rdr = csv.reader(fi, delimiter=' ', skipinitialspace=True)\n",
    "    freq = 0.\n",
    "    SWR = 999.\n",
    "    impedance = 0.\n",
    "    table = []\n",
    "    for row in rdr:\n",
    "    #    print(row)\n",
    "        if( row[0] == 'freq'):\n",
    "            freq = float(row[2])\n",
    "        elif( row[0] == 'SWR'):\n",
    "            SWR = float(row[2])\n",
    "#         elif( row[0] == 'Impedance'):\n",
    "#             impedance = float(row[2])\n",
    "        elif( row[0] == 'Theta' ):\n",
    "            continue\n",
    "        else:\n",
    "            theta = float(row[0])\n",
    "            phi = float(row[2])\n",
    "            gaindb= float(row[4])\n",
    "            gain = float(row[6])\n",
    "            phase = float(row[8])\n",
    "            row = {'freq':freq, 'SWR':SWR, 'theta':theta, 'phi':phi, 'gaindb':gaindb, 'gain':gain, 'phase':phase}\n",
    "#             print(row)\n",
    "            table.append(row)\n",
    "    return pd.DataFrame(table)"
   ]
  },
  {
   "cell_type": "code",
   "execution_count": 33,
   "metadata": {},
   "outputs": [],
   "source": [
    "bicone = read_ARA_antenna_model(\"/users/PCON0003/cond0068/ARA/AraSim/ARA_bicone6in_output.txt\")\n",
    "dipole = read_ARA_antenna_model(\"/users/PCON0003/cond0068/ARA/AraSim/ARA_dipoletest1_output.txt\")"
   ]
  },
  {
   "cell_type": "code",
   "execution_count": 34,
   "metadata": {},
   "outputs": [],
   "source": [
    "borehole_bicone = bicone.loc[(bicone['phi']==90) & (bicone['theta']==90)]\n",
    "borehole_dipole = dipole.loc[(dipole['phi']==90) & (dipole['theta']==90)]"
   ]
  },
  {
   "cell_type": "code",
   "execution_count": 35,
   "metadata": {},
   "outputs": [
    {
     "data": {
      "text/html": [
       "<div>\n",
       "<style scoped>\n",
       "    .dataframe tbody tr th:only-of-type {\n",
       "        vertical-align: middle;\n",
       "    }\n",
       "\n",
       "    .dataframe tbody tr th {\n",
       "        vertical-align: top;\n",
       "    }\n",
       "\n",
       "    .dataframe thead th {\n",
       "        text-align: right;\n",
       "    }\n",
       "</style>\n",
       "<table border=\"1\" class=\"dataframe\">\n",
       "  <thead>\n",
       "    <tr style=\"text-align: right;\">\n",
       "      <th></th>\n",
       "      <th>freq</th>\n",
       "      <th>SWR</th>\n",
       "      <th>theta</th>\n",
       "      <th>phi</th>\n",
       "      <th>gaindb</th>\n",
       "      <th>gain</th>\n",
       "      <th>phase</th>\n",
       "    </tr>\n",
       "  </thead>\n",
       "  <tbody>\n",
       "    <tr>\n",
       "      <th>147204</th>\n",
       "      <td>1000.0</td>\n",
       "      <td>1.45</td>\n",
       "      <td>90.0</td>\n",
       "      <td>90.0</td>\n",
       "      <td>-0.16</td>\n",
       "      <td>0.96</td>\n",
       "      <td>22.10</td>\n",
       "    </tr>\n",
       "    <tr>\n",
       "      <th>149868</th>\n",
       "      <td>1016.7</td>\n",
       "      <td>1.45</td>\n",
       "      <td>90.0</td>\n",
       "      <td>90.0</td>\n",
       "      <td>-0.80</td>\n",
       "      <td>0.83</td>\n",
       "      <td>3.58</td>\n",
       "    </tr>\n",
       "    <tr>\n",
       "      <th>152532</th>\n",
       "      <td>1033.4</td>\n",
       "      <td>1.47</td>\n",
       "      <td>90.0</td>\n",
       "      <td>90.0</td>\n",
       "      <td>-2.10</td>\n",
       "      <td>0.62</td>\n",
       "      <td>-5.10</td>\n",
       "    </tr>\n",
       "    <tr>\n",
       "      <th>155196</th>\n",
       "      <td>1050.0</td>\n",
       "      <td>1.48</td>\n",
       "      <td>90.0</td>\n",
       "      <td>90.0</td>\n",
       "      <td>-1.46</td>\n",
       "      <td>0.71</td>\n",
       "      <td>-7.13</td>\n",
       "    </tr>\n",
       "    <tr>\n",
       "      <th>157860</th>\n",
       "      <td>1066.7</td>\n",
       "      <td>1.46</td>\n",
       "      <td>90.0</td>\n",
       "      <td>90.0</td>\n",
       "      <td>-0.59</td>\n",
       "      <td>0.87</td>\n",
       "      <td>-21.57</td>\n",
       "    </tr>\n",
       "  </tbody>\n",
       "</table>\n",
       "</div>"
      ],
      "text/plain": [
       "          freq   SWR  theta   phi  gaindb  gain  phase\n",
       "147204  1000.0  1.45   90.0  90.0   -0.16  0.96  22.10\n",
       "149868  1016.7  1.45   90.0  90.0   -0.80  0.83   3.58\n",
       "152532  1033.4  1.47   90.0  90.0   -2.10  0.62  -5.10\n",
       "155196  1050.0  1.48   90.0  90.0   -1.46  0.71  -7.13\n",
       "157860  1066.7  1.46   90.0  90.0   -0.59  0.87 -21.57"
      ]
     },
     "execution_count": 35,
     "metadata": {},
     "output_type": "execute_result"
    }
   ],
   "source": [
    "borehole_bicone.tail()"
   ]
  },
  {
   "cell_type": "code",
   "execution_count": 38,
   "metadata": {},
   "outputs": [
    {
     "data": {
      "text/plain": [
       "<matplotlib.legend.Legend at 0x2b8160aba5c0>"
      ]
     },
     "execution_count": 38,
     "metadata": {},
     "output_type": "execute_result"
    },
    {
     "data": {
      "image/png": "[encoded data removed]",
      "text/plain": [
       "<Figure size 432x288 with 1 Axes>"
      ]
     },
     "metadata": {},
     "output_type": "display_data"
    }
   ],
   "source": [
    "plt.plot(borehole_bicone[\"freq\"], borehole_bicone[\"gain\"], label = \"bicone\")\n",
    "plt.plot(borehole_dipole[\"freq\"], borehole_dipole[\"gain\"], label = \"dipole\")\n",
    "plt.legend()"
   ]
  },
  {
   "cell_type": "markdown",
   "metadata": {},
   "source": [
    "### Antenna gain as a function of theta at 400 MHz"
   ]
  },
  {
   "cell_type": "code",
   "execution_count": 24,
   "metadata": {},
   "outputs": [
    {
     "data": {
      "text/plain": [
       "array([  83.33,  100.  ,  116.67,  133.33,  150.  ,  166.67,  183.34,\n",
       "        200.  ,  216.67,  233.34,  250.  ,  266.67,  283.34,  300.  ,\n",
       "        316.67,  333.34,  350.  ,  366.67,  383.34,  400.01,  416.67,\n",
       "        433.34,  450.01,  466.67,  483.34,  500.01,  516.68,  533.34,\n",
       "        550.01,  566.68,  583.34,  600.01,  616.68,  633.34,  650.01,\n",
       "        666.68,  683.35,  700.01,  716.68,  733.35,  750.01,  766.68,\n",
       "        783.35,  800.01,  816.68,  833.35,  850.02,  866.68,  883.35,\n",
       "        900.02,  916.68,  933.35,  950.02,  966.68,  983.35, 1000.  ,\n",
       "       1016.7 , 1033.4 , 1050.  , 1066.7 ])"
      ]
     },
     "execution_count": 24,
     "metadata": {},
     "output_type": "execute_result"
    }
   ],
   "source": [
    "bicone.freq.unique()"
   ]
  },
  {
   "cell_type": "code",
   "execution_count": 39,
   "metadata": {},
   "outputs": [],
   "source": [
    "at400MHz = bicone.loc[(bicone['phi']==90) & (bicone['freq']==400.01)]\n",
    "at400MHz_dipole = dipole.loc[(dipole['phi']==90) & (dipole['freq']==400.01)]\n"
   ]
  },
  {
   "cell_type": "code",
   "execution_count": 26,
   "metadata": {
    "scrolled": true
   },
   "outputs": [
    {
     "data": {
      "text/html": [
       "<div>\n",
       "<style scoped>\n",
       "    .dataframe tbody tr th:only-of-type {\n",
       "        vertical-align: middle;\n",
       "    }\n",
       "\n",
       "    .dataframe tbody tr th {\n",
       "        vertical-align: top;\n",
       "    }\n",
       "\n",
       "    .dataframe thead th {\n",
       "        text-align: right;\n",
       "    }\n",
       "</style>\n",
       "<table border=\"1\" class=\"dataframe\">\n",
       "  <thead>\n",
       "    <tr style=\"text-align: right;\">\n",
       "      <th></th>\n",
       "      <th>freq</th>\n",
       "      <th>SWR</th>\n",
       "      <th>theta</th>\n",
       "      <th>phi</th>\n",
       "      <th>gaindb</th>\n",
       "      <th>gain</th>\n",
       "      <th>phase</th>\n",
       "    </tr>\n",
       "  </thead>\n",
       "  <tbody>\n",
       "    <tr>\n",
       "      <th>51314</th>\n",
       "      <td>400.01</td>\n",
       "      <td>1.87</td>\n",
       "      <td>160.0</td>\n",
       "      <td>90.0</td>\n",
       "      <td>-7.27</td>\n",
       "      <td>0.19</td>\n",
       "      <td>-46.43</td>\n",
       "    </tr>\n",
       "    <tr>\n",
       "      <th>51315</th>\n",
       "      <td>400.01</td>\n",
       "      <td>1.87</td>\n",
       "      <td>165.0</td>\n",
       "      <td>90.0</td>\n",
       "      <td>-9.47</td>\n",
       "      <td>0.11</td>\n",
       "      <td>-43.95</td>\n",
       "    </tr>\n",
       "    <tr>\n",
       "      <th>51316</th>\n",
       "      <td>400.01</td>\n",
       "      <td>1.87</td>\n",
       "      <td>170.0</td>\n",
       "      <td>90.0</td>\n",
       "      <td>-12.78</td>\n",
       "      <td>0.05</td>\n",
       "      <td>-42.23</td>\n",
       "    </tr>\n",
       "    <tr>\n",
       "      <th>51317</th>\n",
       "      <td>400.01</td>\n",
       "      <td>1.87</td>\n",
       "      <td>175.0</td>\n",
       "      <td>90.0</td>\n",
       "      <td>-18.67</td>\n",
       "      <td>0.01</td>\n",
       "      <td>-41.23</td>\n",
       "    </tr>\n",
       "    <tr>\n",
       "      <th>51318</th>\n",
       "      <td>400.01</td>\n",
       "      <td>1.87</td>\n",
       "      <td>180.0</td>\n",
       "      <td>90.0</td>\n",
       "      <td>-57.17</td>\n",
       "      <td>0.00</td>\n",
       "      <td>177.37</td>\n",
       "    </tr>\n",
       "  </tbody>\n",
       "</table>\n",
       "</div>"
      ],
      "text/plain": [
       "         freq   SWR  theta   phi  gaindb  gain   phase\n",
       "51314  400.01  1.87  160.0  90.0   -7.27  0.19  -46.43\n",
       "51315  400.01  1.87  165.0  90.0   -9.47  0.11  -43.95\n",
       "51316  400.01  1.87  170.0  90.0  -12.78  0.05  -42.23\n",
       "51317  400.01  1.87  175.0  90.0  -18.67  0.01  -41.23\n",
       "51318  400.01  1.87  180.0  90.0  -57.17  0.00  177.37"
      ]
     },
     "execution_count": 26,
     "metadata": {},
     "output_type": "execute_result"
    }
   ],
   "source": [
    "at400MHz.tail()"
   ]
  },
  {
   "cell_type": "code",
   "execution_count": 41,
   "metadata": {
    "scrolled": true
   },
   "outputs": [
    {
     "data": {
      "text/plain": [
       "<matplotlib.legend.Legend at 0x2b815bcd1f28>"
      ]
     },
     "execution_count": 41,
     "metadata": {},
     "output_type": "execute_result"
    },
    {
     "data": {
      "image/png": "[encoded data removed]",
      "text/plain": [
       "<Figure size 432x288 with 1 Axes>"
      ]
     },
     "metadata": {},
     "output_type": "display_data"
    }
   ],
   "source": [
    "plt.plot(at400MHz.theta, at400MHz.gain, label = \"bicone\")\n",
    "plt.plot(at400MHz_dipole.theta, at400MHz_dipole.gain, label = \"dipole\")\n",
    "\n",
    "plt.ylabel(\"Gain [unitless]\")\n",
    "plt.xlabel(\"$\\\\theta$\")\n",
    "plt.title(\"Gain as a function of $\\\\theta$ at 400 MHz for ARA vpol antenna \")\n",
    "plt.legend()"
   ]
  },
  {
   "cell_type": "markdown",
   "metadata": {},
   "source": [
    "### Debug for function"
   ]
  },
  {
   "cell_type": "code",
   "execution_count": 46,
   "metadata": {},
   "outputs": [
    {
     "data": {
      "text/plain": [
       "array([ 80.,  85.,  90.,  95., 100.])"
      ]
     },
     "execution_count": 46,
     "metadata": {},
     "output_type": "execute_result"
    }
   ],
   "source": [
    "at400MHz = bicone.loc[(bicone['phi']>=80) & (bicone['phi']<=100) & (bicone['freq']==400.01)]\n",
    "at400MHz.phi.unique()"
   ]
  },
  {
   "cell_type": "markdown",
   "metadata": {},
   "source": [
    "### Function that will return the response for an input direction"
   ]
  },
  {
   "cell_type": "code",
   "execution_count": null,
   "metadata": {},
   "outputs": [],
   "source": [
    "def getAntennaResponse(phi_in, theta_in, pol):\n",
    "    \"\"\"                                                                                                               \n",
    "    Gets the antenna response for a given direction and polarization.                                                            \n",
    "                                                                                                                      \n",
    "    Parameters                                                                                                        \n",
    "    ----------                                                                                                        \n",
    "    phi_in : double                                                                                                    \n",
    "        Incoming phi angle of signal, in degrees.       \n",
    "    theta_in : double                                                                                                    \n",
    "        Incoming theta angle of signal, in degrees.       \n",
    "    pol : str                                                                                              \n",
    "        vpol or hpol, depending on what response wants to be returned.                                                                     \n",
    "                                                                                                                      \n",
    "    Returns                                                                                                           \n",
    "    -------                                                                                                           \n",
    "    array (double freq, double gain, double phase)                                                                                                               \n",
    "        An array containing the gain and phase as a function of frequency                                                                           \n",
    "                                                                                                                      \n",
    "    \"\"\"\n",
    "    if(pol==\"vpol\"):\n",
    "        antenna = read_ARA_antenna_model(\"/users/PCON0003/cond0068/ARA/AraSim/ARA_bicone6in_output.txt\")\n",
    "    if(pol==\"hpol\"):\n",
    "        antenna = read_ARA_antenna_model(\"/users/PCON0003/cond0068/ARA/AraSim/ARA_dipoletest1_output.txt\")\n",
    "    \n",
    "    antenna_atPhiThe \n"
   ]
  },
  {
   "cell_type": "code",
   "execution_count": null,
   "metadata": {},
   "outputs": [],
   "source": []
  },
  {
   "cell_type": "markdown",
   "metadata": {},
   "source": [
    "## Plots"
   ]
  },
  {
   "cell_type": "markdown",
   "metadata": {},
   "source": [
    "## Comments"
   ]
  },
  {
   "cell_type": "code",
   "execution_count": null,
   "metadata": {},
   "outputs": [],
   "source": []
  }
 ],
 "metadata": {
  "kernelspec": {
   "display_name": "Python 3.6 (Conda 5.2) [python/3.6-conda5.2]",
   "language": "python",
   "name": "sys_python36conda"
  },
  "language_info": {
   "codemirror_mode": {
    "name": "ipython",
    "version": 3
   },
   "file_extension": ".py",
   "mimetype": "text/x-python",
   "name": "python",
   "nbconvert_exporter": "python",
   "pygments_lexer": "ipython3",
   "version": "3.6.6"
  }
 },
 "nbformat": 4,
 "nbformat_minor": 2
}
