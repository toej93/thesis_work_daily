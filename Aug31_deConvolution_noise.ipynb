{
 "cells": [
  {
   "cell_type": "markdown",
   "metadata": {},
   "source": [
    "# De-disperse signal generated with PyREx"
   ]
  },
  {
   "cell_type": "markdown",
   "metadata": {},
   "source": [
    "### Aug 31, 2020"
   ]
  },
  {
   "cell_type": "markdown",
   "metadata": {},
   "source": [
    "## Code"
   ]
  },
  {
   "cell_type": "code",
   "execution_count": 1,
   "metadata": {},
   "outputs": [
    {
     "name": "stdout",
     "output_type": "stream",
     "text": [
      "Welcome to JupyROOT 6.18/04\n"
     ]
    }
   ],
   "source": [
    "import sys\n",
    "import csv\n",
    "# sys.path.insert(0,\"/users/PCON0003/cond0068/.local/lib/python3.7/\")\n",
    "sys.path.append(\"/users/PAS0654/osu8354/ARA_cvmfs/root_build/lib/\") # go to parent dir\n",
    "sys.path.append(\"/users/PCON0003/cond0068/.local/lib/python3.7/site-packages/\")\n",
    "# sys.path.append(\"/users/PCON0003/cond0068/pyrex_sims/fromBen/thesis_work/pyrex-custom/analysis/custom/analysis/\")\n",
    "import ROOT\n",
    "import math\n",
    "import numpy as np\n",
    "from ROOT import TH1D,TF1, gRandom, gPad, gStyle\n",
    "import matplotlib as mpl\n",
    "mpl.use('agg')\n",
    "import matplotlib.pyplot as plt\n",
    "from ROOT import TChain, TSelector, TTree\n",
    "import os\n",
    "import matplotlib.colors as mcolors\n",
    "import scipy\n",
    "from matplotlib.colors import LogNorm\n",
    "import pandas as pd\n",
    "import pyrex\n",
    "import seaborn as sns"
   ]
  },
  {
   "cell_type": "code",
   "execution_count": 2,
   "metadata": {},
   "outputs": [],
   "source": [
    "mpl.use('agg')\n",
    "mpl.rcParams['text.usetex'] = True\n",
    "mpl.rcParams['text.latex.unicode'] = True\n",
    "mpl.rcParams['mathtext.rm'] = 'Times New Roman'\n",
    "mpl.rcParams['mathtext.it'] = 'Times New Roman:italic'\n",
    "mpl.rcParams['mathtext.bf'] = 'Times New Roman:bold'\n",
    "\n",
    "mpl.rc('font', family='serif', size=12)\n",
    "mpl.rcParams['xtick.labelsize'] = 16\n",
    "mpl.rcParams['ytick.labelsize'] = 16\n",
    "mpl.rcParams['xtick.major.size'] = 5\n",
    "mpl.rcParams['ytick.major.size'] = 5\n",
    "\n",
    "current_palette = sns.color_palette('colorblind', 10)"
   ]
  },
  {
   "cell_type": "code",
   "execution_count": 3,
   "metadata": {},
   "outputs": [],
   "source": [
    "import pyrex.custom.ara as ara\n",
    "from pyrex.internal_functions import (normalize, complex_bilinear_interp,\n",
    "                                      complex_interp)"
   ]
  },
  {
   "cell_type": "code",
   "execution_count": 4,
   "metadata": {},
   "outputs": [],
   "source": [
    "# ara_antenna = ara.antenna.VPOL_RESPONSE_DATA\n",
    "VPOL_DATA_FILE = os.path.join(ara.antenna.ARA_DATA_DIR,\n",
    "                              \"ARA_bicone6in_output_MY_fixed.txt\")\n",
    "VPOL_THETA_RESPONSE_DATA = ara.antenna._read_arasim_antenna_data(VPOL_DATA_FILE)\n",
    "VPOL_RESPONSE_DATA = (\n",
    "    VPOL_THETA_RESPONSE_DATA[0],\n",
    "    np.zeros(VPOL_THETA_RESPONSE_DATA[0].shape),\n",
    "    *VPOL_THETA_RESPONSE_DATA[1:]\n",
    ")\n",
    "ara_antenna = VPOL_RESPONSE_DATA\n",
    "\n",
    "theta_response = ara_antenna[0]\n",
    "phi_response = ara_antenna[1]\n",
    "response_freqs = ara_antenna[2]\n",
    "response_zens = ara_antenna[3]\n",
    "response_azis = ara_antenna[4]"
   ]
  },
  {
   "cell_type": "code",
   "execution_count": 5,
   "metadata": {},
   "outputs": [],
   "source": [
    "def directional_response(theta, phi, polarization=np.array([0,0,1])):\n",
    "        \"\"\"\n",
    "        Generate the (complex) frequency-dependent directional response.\n",
    "        For given angles and polarization direction, use the model of the\n",
    "        directional and polarization gains of the antenna to generate a\n",
    "        function for the interpolated response of the antenna with respect to\n",
    "        frequency. Used with the `frequency_response` method to calculate\n",
    "        effective heights.\n",
    "        Parameters\n",
    "        ----------\n",
    "        theta : float\n",
    "            Polar angle (radians) from which a signal is arriving.\n",
    "        phi : float\n",
    "            Azimuthal angle (radians) from which a signal is arriving.\n",
    "        polarization : array_like\n",
    "            Normalized polarization vector in the antenna coordinate system.\n",
    "        Returns\n",
    "        -------\n",
    "        function\n",
    "            A function which returns complex-valued voltage gains for given\n",
    "            frequencies, using the values of incoming angle and polarization.\n",
    "        See Also\n",
    "        --------\n",
    "        ARAAntenna.frequency_response : Calculate the (complex) frequency\n",
    "                                        response of the antenna.\n",
    "        \"\"\"\n",
    "#         e_theta = [np.cos(theta) * np.cos(phi),\n",
    "#                    np.cos(theta) * np.sin(phi),\n",
    "#                    -np.sin(theta)]\n",
    "#         e_phi = [-np.sin(phi), np.cos(phi), 0]\n",
    "#         theta_factor = np.dot(polarization, e_theta)\n",
    "#         phi_factor = np.dot(polarization, e_phi)\n",
    "        theta_factor = 1\n",
    "        phi_factor = 1\n",
    "        theta_gains = complex_bilinear_interp(\n",
    "            x=np.degrees(theta), y=np.degrees(phi),\n",
    "            xp=response_zens,\n",
    "            yp=response_azis,\n",
    "            fp=theta_response,\n",
    "            method='cartesian'\n",
    "        )\n",
    "        phi_gains = complex_bilinear_interp(\n",
    "            x=np.degrees(theta), y=np.degrees(phi),\n",
    "            xp=response_zens,\n",
    "            yp=response_azis,\n",
    "            fp=phi_response,\n",
    "            method='cartesian'\n",
    "        )\n",
    "        freq_interpolator = lambda frequencies: complex_interp(\n",
    "            x=frequencies, xp=response_freqs,\n",
    "            fp=theta_factor*theta_gains + phi_factor*phi_gains,\n",
    "            method='euler', outer=0\n",
    "        )\n",
    "        return freq_interpolator\n",
    "    \n",
    "def frequency_response(frequencies):\n",
    "    \"\"\"\n",
    "    Calculate the (complex) frequency response of the antenna.\n",
    "    Rather than handling the entire frequency response of the antenna, this\n",
    "    method is being used to convert the frequency-dependent gains from the\n",
    "    `directional_response` method into effective heights.\n",
    "    Parameters\n",
    "    ----------\n",
    "    frequencies : array_like\n",
    "        1D array of frequencies (Hz) at which to calculate gains.\n",
    "    Returns\n",
    "    -------\n",
    "    array_like\n",
    "        Complex gains in voltage for the given `frequencies`.\n",
    "    See Also\n",
    "    --------\n",
    "    ARAAntenna.directional_response : Generate the (complex) frequency\n",
    "                                      dependent directional response.\n",
    "    \"\"\"\n",
    "    # From AraSim GaintoHeight function, with gain calculation moved to\n",
    "    # the directional_response method.\n",
    "    # gain=4*pi*A_eff/lambda^2 and h_eff=2*sqrt(A_eff*Z_rx/Z_air)\n",
    "    # Then 0.5 to calculate power with heff (cancels 2 above)\n",
    "    heff = np.zeros(len(frequencies))\n",
    "    # The index of refraction in this calculation should be the index of\n",
    "    # the ice used in the production of the antenna model.\n",
    "    n = 1.78\n",
    "    heff[frequencies!=0] = np.sqrt((3e8/frequencies[frequencies!=0]/n)**2\n",
    "                                   * n*50/377 /(4*np.pi))\n",
    "    return heff"
   ]
  },
  {
   "cell_type": "markdown",
   "metadata": {},
   "source": [
    "## Debug FFT"
   ]
  },
  {
   "cell_type": "markdown",
   "metadata": {},
   "source": [
    "### FFT function"
   ]
  },
  {
   "cell_type": "code",
   "execution_count": 6,
   "metadata": {},
   "outputs": [],
   "source": [
    "def doFFT(time, volts):\n",
    "    fft = scipy.fft.rfft(np.array(volts))\n",
    "    dT = abs(time[1]-time[0])\n",
    "    freq = 1000*scipy.fft.rfftfreq(n=len(time), d=dT)\n",
    "    return fft, freq, dT\n",
    "    "
   ]
  },
  {
   "cell_type": "markdown",
   "metadata": {},
   "source": [
    "### Inverse FFT"
   ]
  },
  {
   "cell_type": "code",
   "execution_count": 7,
   "metadata": {},
   "outputs": [],
   "source": [
    "def doInvFFT(spectrum):\n",
    "    fft_i_v= scipy.fft.irfft(spectrum)\n",
    "    return fft_i_v\n",
    "    "
   ]
  },
  {
   "cell_type": "markdown",
   "metadata": {},
   "source": [
    "## Get filter response"
   ]
  },
  {
   "cell_type": "code",
   "execution_count": 8,
   "metadata": {},
   "outputs": [],
   "source": [
    "def interpolate_filter(frequencies):\n",
    "        \"\"\"\n",
    "        Generate interpolated filter values for given frequencies.\n",
    "        Calculate the interpolated values of the antenna system's filter gain\n",
    "        data for some frequencies.\n",
    "        Parameters\n",
    "        ----------\n",
    "        frequencies : array_like\n",
    "            1D array of frequencies (Hz) at which to calculate gains.\n",
    "        Returns\n",
    "        -------\n",
    "        array_like\n",
    "            Complex filter gain in voltage for the given `frequencies`.\n",
    "        \"\"\"\n",
    "        ARAfilter = ara.antenna.ALL_FILTERS_DATA\n",
    "        filt_response = ARAfilter[0]\n",
    "        filt_freqs = ARAfilter[1]\n",
    "        return complex_interp(\n",
    "            x=frequencies, xp=filt_freqs, fp=filt_response,\n",
    "            method='euler', outer=0\n",
    "        )"
   ]
  },
  {
   "cell_type": "markdown",
   "metadata": {},
   "source": [
    "## Define de-dispersion function"
   ]
  },
  {
   "cell_type": "code",
   "execution_count": 9,
   "metadata": {},
   "outputs": [],
   "source": [
    "def deDisperse_filter(time, voltage):\n",
    "    fft_v, fft_f, dT = doFFT(time,voltage)\n",
    "    response = np.array(interpolate_filter(fft_f*1E6))\n",
    "    response = np.divide(response,abs(response))\n",
    "    deDis_wf = np.divide(fft_v,response)\n",
    "    deDis_wf = np.nan_to_num(deDis_wf)\n",
    "    deDis_wf = doInvFFT(deDis_wf)\n",
    "    return time, deDis_wf\n"
   ]
  },
  {
   "cell_type": "code",
   "execution_count": 10,
   "metadata": {},
   "outputs": [],
   "source": [
    "def deDisperse_antenna(time, voltage, theta, phi):\n",
    "    fft_v, fft_f, dT = doFFT(time, voltage)\n",
    "    dir_res = directional_response(theta,phi)(fft_f*1E6)\n",
    "    heff = dir_res * frequency_response(fft_f*1E6)\n",
    "    response = dir_res*heff\n",
    "    response = np.divide(response,abs(response))\n",
    "    deDis_wf = np.divide(fft_v,response)\n",
    "    deDis_wf = np.nan_to_num(deDis_wf)\n",
    "    deDis_wf = doInvFFT(deDis_wf)\n",
    "    return time, deDis_wf"
   ]
  },
  {
   "cell_type": "markdown",
   "metadata": {},
   "source": [
    "## Define function"
   ]
  },
  {
   "cell_type": "markdown",
   "metadata": {},
   "source": [
    "## Simultaneous de-dispersion"
   ]
  },
  {
   "cell_type": "code",
   "execution_count": 11,
   "metadata": {},
   "outputs": [],
   "source": [
    "def deDisperse(time, voltage, theta, phi):\n",
    "    sampRate = len(time)/(max(time)-min(time))\n",
    "    b,a = signal.bessel(4, [0.15,0.4], 'bandpass', analog=False, fs=sampRate)\n",
    "    voltage = signal.lfilter(b, a, voltage)\n",
    "    fft_v, fft_f, dT = doFFT(time,voltage)\n",
    "    response_filter = np.array(interpolate_filter(fft_f*1E6))\n",
    "    dir_res = directional_response(theta,phi)(fft_f*1E6)\n",
    "    heff = dir_res * frequency_response(fft_f*1E6)\n",
    "    response_antenna = dir_res*heff\n",
    "    response = response_filter + response_antenna\n",
    "    response = np.divide(response,abs(response))\n",
    "    deDis_wf = np.divide(fft_v,response)\n",
    "    deDis_wf = np.nan_to_num(deDis_wf)\n",
    "    deDis_wf = doInvFFT(deDis_wf)\n",
    "    return time, deDis_wf"
   ]
  },
  {
   "cell_type": "markdown",
   "metadata": {},
   "source": [
    "# Debug using PyREx event"
   ]
  },
  {
   "cell_type": "markdown",
   "metadata": {},
   "source": [
    "### Create impulse"
   ]
  },
  {
   "cell_type": "code",
   "execution_count": 12,
   "metadata": {},
   "outputs": [],
   "source": [
    "det = ara.HexagonalGrid(station_type=ara.RegularStation,\n",
    "                        stations=1, lowest_antenna=-100)\n",
    "det.build_antennas(power_threshold=-6.15)\n",
    "p = pyrex.Particle(particle_id=pyrex.Particle.Type.electron_neutrino,\n",
    "                   vertex=[1002.65674195, -421.95118348, -586.0953201],\n",
    "                   direction=[-0.90615395, -0.41800062, -0.06450191],\n",
    "                   energy=1e9)\n",
    "p.interaction.kind = p.interaction.Type.charged_current\n",
    "p.interaction.em_frac = 1\n",
    "p.interaction.had_frac = 0\n",
    "gen = pyrex.ListGenerator(pyrex.Event(p))\n",
    "kern = pyrex.EventKernel(antennas=det, generator=gen)\n"
   ]
  },
  {
   "cell_type": "code",
   "execution_count": 13,
   "metadata": {},
   "outputs": [
    {
     "data": {
      "text/plain": [
       "<pyrex.particle.Event at 0x2b1a7be8fe48>"
      ]
     },
     "execution_count": 13,
     "metadata": {},
     "output_type": "execute_result"
    }
   ],
   "source": [
    "det.clear(reset_noise=True)\n",
    "kern.event()"
   ]
  },
  {
   "cell_type": "code",
   "execution_count": 14,
   "metadata": {},
   "outputs": [
    {
     "ename": "NameError",
     "evalue": "name 'output' is not defined",
     "output_type": "error",
     "traceback": [
      "\u001b[0;31m---------------------------------------------------------------------------\u001b[0m",
      "\u001b[0;31mNameError\u001b[0m                                 Traceback (most recent call last)",
      "\u001b[0;32m<ipython-input-14-78bc5a3dca33>\u001b[0m in \u001b[0;36m<module>\u001b[0;34m()\u001b[0m\n\u001b[0;32m----> 1\u001b[0;31m \u001b[0mplt\u001b[0m\u001b[0;34m.\u001b[0m\u001b[0mplot\u001b[0m\u001b[0;34m(\u001b[0m\u001b[0moutput\u001b[0m\u001b[0;34m.\u001b[0m\u001b[0mtimes\u001b[0m\u001b[0;34m,\u001b[0m\u001b[0moutput\u001b[0m\u001b[0;34m.\u001b[0m\u001b[0mvalues\u001b[0m\u001b[0;34m)\u001b[0m\u001b[0;34m\u001b[0m\u001b[0m\n\u001b[0m\u001b[1;32m      2\u001b[0m \u001b[0mlen\u001b[0m\u001b[0;34m(\u001b[0m\u001b[0moutput\u001b[0m\u001b[0;34m.\u001b[0m\u001b[0mtimes\u001b[0m\u001b[0;34m)\u001b[0m\u001b[0;34m\u001b[0m\u001b[0m\n",
      "\u001b[0;31mNameError\u001b[0m: name 'output' is not defined"
     ]
    }
   ],
   "source": [
    "plt.plot(output.times,output.values)\n",
    "len(output.times)"
   ]
  },
  {
   "cell_type": "code",
   "execution_count": 22,
   "metadata": {},
   "outputs": [
    {
     "name": "stderr",
     "output_type": "stream",
     "text": [
      "/apps/python/3.6-conda5.2/lib/python3.6/site-packages/ipykernel_launcher.py:11: RuntimeWarning: invalid value encountered in true_divide\n",
      "  # This is added back by InteractiveShellApp.init_path()\n"
     ]
    }
   ],
   "source": [
    "phi = np.deg2rad(0)\n",
    "theta = np.deg2rad(0)\n",
    "\n",
    "wform = pd.read_pickle(\"./wform_forDebug_PyREx.pkl\")\n",
    "\n",
    "sig = pyrex.Signal(wform[\"time\"]*1E-9,wform.voltage*1E-3,'voltage') # times in seconds\n",
    "ant = ara.VpolAntenna(name=\"Dummy Vpol\", position=(0, 0, 0), power_threshold=0)\n",
    "sig = ant.apply_response(sig, direction=np.array([1,0,0]), polarization=np.array([0,0,-1]), force_real=True)\n",
    "output = ant.front_end(sig)\n",
    "\n",
    "plt.figure(figsize=(10,5))\n",
    "plt.xlabel(\"Time [ns]\", fontsize=12)\n",
    "plt.ylabel(\"Amplitude [mV]\", fontsize=12)\n",
    "b,a = signal.bessel(4, [0.15,0.4], 'bandpass', analog=False, fs = len(wform[\"time\"])/(max(wform[\"time\"])-min(wform[\"time\"])))\n",
    "filtered_noise = signal.lfilter(b, a, wform.voltage*5E2)\n",
    "\n",
    "deD_t, deD_v = deDisperse(wform[\"time\"], wform.voltage, theta, phi)\n",
    "time = output.times*1E9 #in ns\n",
    "voltage = output.values*1E3 #in mV\n",
    "deD_t, deD_v = deDisperse(time,voltage, theta, phi)\n",
    "plt.plot(wform[\"time\"],wform.voltage*1E2, \"-.\",lw=3,color=\"C3\", label=\"Original impulse [arb. units]\")\n",
    "plt.plot(time, voltage,\"--\",lw=3,color=\"C1\", label = \"Signal after electronics response\")\n",
    "plt.plot(deD_t,deD_v,lw=3,color=\"C0\",label =\"De-dispersed signal (antenna+filter)\")\n",
    "plt.plot(output.times*1E9,filtered_noise, \"-.\",lw=3,color=\"C2\", label=\"Bandpassed (Bessel, 200-500 MHz) impulse signal [arb.]\")\n",
    "\n",
    "plt.xlim(-20,40)\n",
    "plt.ylim(-250,250)\n",
    "\n",
    "plt.legend()\n",
    "plt.grid(True)\n",
    "plt.title(\"AraSim neutrino event with noise\", fontsize=15)\n",
    "plt.tight_layout()\n",
    "# plt.savefig(\"./plots/deDispersion/DDP_PyREx_0.pdf\")"
   ]
  },
  {
   "cell_type": "code",
   "execution_count": 16,
   "metadata": {},
   "outputs": [],
   "source": [
    "!tar czf myfiles.tar.gz ./plots/deDispersion/*.pdf"
   ]
  },
  {
   "cell_type": "code",
   "execution_count": 17,
   "metadata": {},
   "outputs": [],
   "source": [
    "from scipy import signal\n",
    "imp = signal.unit_impulse(256, 125)\n",
    "b, a = signal.butter(4, 0.2)\n",
    "response = 1E3*signal.lfilter(b, a, imp)\n",
    "t = np.linspace(-50, 50, 256)\n",
    "# plt.plot(np.arange(-50, 50), imp)\n",
    "plt.plot(t, response)\n",
    "plt.xlabel('Time [ns]')\n",
    "plt.ylabel('Amplitude [$\\mu$V/m]')\n",
    "plt.grid(True)\n",
    "fs_imp = 256/(100*1E-9)"
   ]
  },
  {
   "cell_type": "code",
   "execution_count": 18,
   "metadata": {},
   "outputs": [],
   "source": [
    "sig = pyrex.Signal(t*1E-9,response*1E-6,'voltage') # times in seconds\n",
    "ant = ara.VpolAntenna(name=\"Dummy Vpol\", position=(0, 0, 0), power_threshold=0)\n",
    "sig = ant.apply_response(sig, direction=np.array([1,0,0]), polarization=np.array([0,0,-1]), force_real=True)\n",
    "output = ant.front_end(sig)"
   ]
  },
  {
   "cell_type": "code",
   "execution_count": 19,
   "metadata": {},
   "outputs": [],
   "source": [
    "b,a = signal.bessel(4, [0.15,0.4], 'bandpass', analog=False, fs=2.56)\n",
    "filtered = signal.lfilter(b, a, response)"
   ]
  },
  {
   "cell_type": "code",
   "execution_count": 21,
   "metadata": {},
   "outputs": [
    {
     "name": "stderr",
     "output_type": "stream",
     "text": [
      "/apps/python/3.6-conda5.2/lib/python3.6/site-packages/ipykernel_launcher.py:11: RuntimeWarning: invalid value encountered in true_divide\n",
      "  # This is added back by InteractiveShellApp.init_path()\n"
     ]
    }
   ],
   "source": [
    "plt.figure(figsize=(10,5))\n",
    "plt.xlabel(\"Time [ns]\", fontsize=12)\n",
    "plt.ylabel(\"Amplitude [mV]\", fontsize=12)\n",
    "time = output.times*1E9 #in ns\n",
    "voltage = output.values*1E3 #in mV\n",
    "deD_t, deD_v = deDisperse(time,voltage, theta, phi)\n",
    "plt.plot(deD_t,deD_v,lw=3,label = \"De-dispersed signal (antenna+filter)\")\n",
    "plt.plot(time, voltage,\"--\",lw=3, label = \"Signal after electronics response\")\n",
    "plt.plot(t, response/1E1, \"-.\",lw=3,color=\"C3\", label=\"Original impulse [arb. units]\")\n",
    "plt.plot(output.times*1E9,filtered, \"--\",lw=3, label=\"Bandpassed (Bessel, 200-500 MHz) impulse signal\")\n",
    "\n",
    "plt.xlim(-20,20)\n",
    "plt.legend()\n",
    "plt.grid(True)\n",
    "plt.title(\"AraSim neutrino event with noise\", fontsize=15)\n",
    "plt.tight_layout()\n",
    "plt.show()"
   ]
  },
  {
   "cell_type": "code",
   "execution_count": null,
   "metadata": {},
   "outputs": [],
   "source": []
  }
 ],
 "metadata": {
  "kernelspec": {
   "display_name": "Python 3.6 (Conda 5.2) [python/3.6-conda5.2]",
   "language": "python",
   "name": "sys_python36conda"
  },
  "language_info": {
   "codemirror_mode": {
    "name": "ipython",
    "version": 3
   },
   "file_extension": ".py",
   "mimetype": "text/x-python",
   "name": "python",
   "nbconvert_exporter": "python",
   "pygments_lexer": "ipython3",
   "version": "3.6.6"
  }
 },
 "nbformat": 4,
 "nbformat_minor": 4
}
