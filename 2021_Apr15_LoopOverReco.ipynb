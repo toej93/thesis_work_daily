{
 "cells": [
  {
   "cell_type": "markdown",
   "metadata": {},
   "source": [
    "# Neutrino direction reconstruction using events from a fixed source and Kotera Max flux\n"
   ]
  },
  {
   "cell_type": "markdown",
   "metadata": {},
   "source": [
    "### Apr 15, 2021"
   ]
  },
  {
   "cell_type": "markdown",
   "metadata": {},
   "source": [
    "## Code"
   ]
  },
  {
   "cell_type": "code",
   "execution_count": 1,
   "metadata": {},
   "outputs": [
    {
     "name": "stdout",
     "output_type": "stream",
     "text": [
      "Welcome to JupyROOT 6.18/04\n"
     ]
    }
   ],
   "source": [
    "import sys\n",
    "import csv\n",
    "# sys.path.insert(0,\"/users/PCON0003/cond0068/.local/lib/python3.7/\")\n",
    "sys.path.append(\"/users/PAS0654/osu8354/ARA_cvmfs/root_build/lib/\") # go to parent dir\n",
    "sys.path.append(\"/users/PCON0003/cond0068/.local/lib/python3.7/site-packages/\")\n",
    "# sys.path.append(\"/users/PCON0003/cond0068/pyrex_sims/fromBen/thesis_work/pyrex-custom/analysis/custom/analysis/\")\n",
    "import ROOT\n",
    "import math\n",
    "import numpy as np\n",
    "from ROOT import TH1D,TF1, gRandom, gPad, gStyle\n",
    "import matplotlib as mpl\n",
    "import matplotlib.pyplot as plt\n",
    "from ROOT import TChain, TSelector, TTree\n",
    "import os\n",
    "import matplotlib.colors as mcolors\n",
    "import scipy\n",
    "from matplotlib.colors import LogNorm\n",
    "import pandas as pd\n",
    "import pyrex\n",
    "import seaborn as sns\n",
    "%matplotlib inline\n",
    "sys.path.insert(1, \"/users/PAS0654/osu8354/ARA_cvmfs/source/AraRoot/analysis/ARA_analysis/CenA_sourceSearch/Stokes\")\n",
    "import deDisperse_util as util\n",
    "from pyrex.internal_functions import normalize\n",
    "my_path_plots = os.path.abspath(\"./plots/\")\n",
    "import pyrex.custom.ara as ara\n",
    "import corner\n"
   ]
  },
  {
   "cell_type": "code",
   "execution_count": 2,
   "metadata": {},
   "outputs": [],
   "source": [
    "# mpl.use('agg') \n",
    "mpl.rcParams['text.usetex'] = True\n",
    "mpl.rcParams['text.latex.unicode'] = True\n",
    "mpl.rcParams['mathtext.rm'] = 'Times New Roman'\n",
    "mpl.rcParams['mathtext.it'] = 'Times New Roman:italic'\n",
    "mpl.rcParams['mathtext.bf'] = 'Times New Roman:bold'\n",
    "\n",
    "mpl.rc('font', family='serif', size=12)\n",
    "mpl.rcParams['xtick.labelsize'] = 14\n",
    "mpl.rcParams['ytick.labelsize'] = 14\n",
    "mpl.rcParams['xtick.major.size'] = 5\n",
    "mpl.rcParams['ytick.major.size'] = 5\n",
    "\n",
    "mpl.rcParams['axes.titlesize'] = 18\n",
    "mpl.rcParams['axes.labelsize'] = 18\n",
    "# mpl.rc('font', size=16)\n",
    "mpl.rc('axes', titlesize=20)\n",
    "\n",
    "current_palette = sns.color_palette('colorblind', 10)\n",
    "import warnings\n",
    "warnings.filterwarnings(\"ignore\")\n"
   ]
  },
  {
   "cell_type": "code",
   "execution_count": 9,
   "metadata": {},
   "outputs": [],
   "source": [
    "viewSigmaArr = np.array([1,5,10])\n",
    "LaunchSigmaArr = np.array([1,5,10])\n",
    "polSigmaArr = np.array([1,3,6,20,40])\n",
    "\n",
    "LaunchSigma = 1\n",
    "viewSigma = 1"
   ]
  },
  {
   "cell_type": "code",
   "execution_count": 10,
   "metadata": {},
   "outputs": [],
   "source": [
    "def nuDirReco(polVec,propVec,viewAng, noiseSigma, viewsigma):\n",
    "    propVec = -propVec\n",
    "    noiseSigma = np.radians(noiseSigma)#Convert to radians\n",
    "    noise = np.random.normal(0,noiseSigma,1)[0]\n",
    "    Psi = np.arctan2(polVec[1],polVec[0])+noise\n",
    "    Omega = np.arccos(polVec[2])+noise\n",
    "    polVec = SphericalToCartesian(Psi,Omega)\n",
    "    noiseView = np.random.normal(0,np.radians(viewSigma),1)[0]\n",
    "\n",
    "    recoDir = np.sin(viewAng+noiseView)*polVec-np.cos(viewAng+noiseView)*propVec\n",
    "    return recoDir\n",
    "\n",
    "def SphericalToCartesian(phi, theta):\n",
    "    x = np.sin(theta)*np.cos(phi)\n",
    "    y = np.sin(theta)*np.sin(phi)\n",
    "    z = np.cos(theta)\n",
    "\n",
    "    return np.array([x,y,z])\n",
    "\n",
    "def rotation_matrix_from_vectors(vec1, vec2):\n",
    "    \"\"\" Find the rotation matrix that aligns vec1 to vec2\n",
    "    :param vec1: A 3d \"source\" vector\n",
    "    :param vec2: A 3d \"destination\" vector\n",
    "    :return mat: A transform matrix (3x3) which when applied to vec1, aligns it with vec2.\n",
    "    \"\"\"\n",
    "    a, b = (vec1 / np.linalg.norm(vec1)).reshape(3), (vec2 / np.linalg.norm(vec2)).reshape(3)\n",
    "    v = np.cross(a, b)\n",
    "    c = np.dot(a, b)\n",
    "    s = np.linalg.norm(v)\n",
    "    kmat = np.array([[0, -v[2], v[1]], [v[2], 0, -v[0]], [-v[1], v[0], 0]])\n",
    "    rotation_matrix = np.eye(3) + kmat + kmat.dot(kmat) * ((1 - c) / (s ** 2))\n",
    "    return rotation_matrix\n",
    "\n",
    "def rotatePolVector(launchVecSrc, recVec, PolVecAntenna):\n",
    "    recVec = -recVec #receiving vector needs to be reflected, otherwise rotation matrix will be off by pi\n",
    "    newPol = np.dot(PolVecAntenna,rotation_matrix_from_vectors(launchVecSrc,recVec))\n",
    "    return newPol\n",
    "chAngle = 55.8 #Cherenkov angle in ice"
   ]
  },
  {
   "cell_type": "code",
   "execution_count": 14,
   "metadata": {},
   "outputs": [
    {
     "name": "stdout",
     "output_type": "stream",
     "text": [
      "15281\n"
     ]
    },
    {
     "data": {
      "image/png": "[encoded data removed]",
      "text/plain": [
       "<Figure size 432x288 with 1 Axes>"
      ]
     },
     "metadata": {},
     "output_type": "display_data"
    }
   ],
   "source": [
    "appended_data = []\n",
    "import os\n",
    "for filename in os.listdir(\"/users/PAS0654/osu8354/ARA_cvmfs/source/AraRoot/analysis/ARA_analysis/CenA_sourceSearch/Stokes/1E18FixedNnu/\"):#Loop over desired directory\n",
    "        if (filename.startswith(\"1E18\")): #extension, .root in this case\n",
    "            name = os.path.join(\"/users/PAS0654/osu8354/ARA_cvmfs/source/AraRoot/analysis/ARA_analysis/CenA_sourceSearch/Stokes/1E18FixedNnu/\", str(filename))\n",
    "            data = pd.read_pickle(name)\n",
    "            appended_data.append(data)\n",
    "recoNu = pd.concat(appended_data) \n",
    "# recoNu = pd.read_pickle(\"/users/PAS0654/osu8354/ARA_cvmfs/source/AraRoot/analysis/ARA_analysis/CenA_sourceSearch/Stokes/debug/pol_quant_noiseless.pkl\")\n",
    "# recoNu = recoNu.loc[abs(recoNu.maxV)>1]\n",
    "# recoNu = recoNu.loc[abs(recoNu.maxV)<1350]\n",
    "# recoNu = recoNu.loc[abs(recoNu.maxH)>1]\n",
    "# recoNu = recoNu.loc[abs(recoNu.maxH)<1350]\n",
    "# recoNu = recoNu.loc[recoNu.theta_reco>=np.pi/2]\n",
    "recoNu = recoNu.loc[recoNu.weight<1]\n",
    "recoNu[\"SNR_V\"] = abs(recoNu.maxV)/recoNu.rmsV\n",
    "recoNu[\"SNR_H\"] = abs(recoNu.maxH)/recoNu.rmsH\n",
    "# recoNu = recoNu.loc[abs(recoNu.SNR_H-5)<1]\n",
    "recoNu = recoNu.loc[recoNu.SNR_H>=3]\n",
    "recoNu = recoNu.loc[recoNu.SNR_V>=3]\n",
    "\n",
    "for polSigma in np.array([1]):\n",
    "    array2 = []\n",
    "    R_True = []\n",
    "    R_Reco = []\n",
    "    propVec = []\n",
    "    dot = []\n",
    "    nnu_Reco = []\n",
    "    rec_angle = []\n",
    "    for i in recoNu.itertuples(): \n",
    "        thetaHat = np.array([np.cos(i.theta_reco)*np.cos(i.phi_reco), np.cos(i.theta_reco)*np.sin(i.phi_reco), -np.sin(i.theta_reco)])\n",
    "        phiHat = np.array([-np.sin(i.phi_reco), np.cos(i.phi_reco),0])\n",
    "        if(i.powerH==0 or i.powerV==0):\n",
    "            R_Reco.append(np.nan)\n",
    "            R_True.append(np.nan)\n",
    "            array2.append(np.nan)\n",
    "            dot.append(np.nan)\n",
    "            nnu_Reco.append(np.nan)\n",
    "            rec_angle.append(np.nan)\n",
    "            continue\n",
    "        R_Reco.append(np.sqrt(i.powerH/i.powerV))\n",
    "    #     R_Reco.append(abs(i.peak_H/i.peak_V))\n",
    "        R = np.dot(i.PolTrue,phiHat)/(np.dot(i.PolTrue,thetaHat))\n",
    "        R_True.append(R)\n",
    "    #     array2.append(util.PolVectorRecoPower_debug(i.powerV,i.powerH, i.theta_reco, i.phi_reco,np.sign(R)))\n",
    "        array2.append(i.PolTrue)\n",
    "\n",
    "    #     PolTrue\n",
    "        phi_launch = np.arctan2(i.dirProp[1],i.dirProp[0])\n",
    "        theta_launch = np.pi-i.launch_ang\n",
    "        noiseLaunch = np.random.normal(0,np.radians(LaunchSigma),1)[0]\n",
    "        launchVec = -1*SphericalToCartesian(phi_launch+noiseLaunch,theta_launch+noiseLaunch)\n",
    "        propVec = np.array([np.sin(i.theta_reco)*np.cos(i.phi_reco),np.sin(i.theta_reco)*np.sin(i.phi_reco),np.cos(i.theta_reco)])\n",
    "        polVecSrc = rotatePolVector(launchVec,i.dirProp,i.PolTrue)\n",
    "        nnu_Reco.append(nuDirReco(-polVecSrc,launchVec,i.view_ang,polSigma,viewSigma))\n",
    "\n",
    "        dot.append(np.dot(propVec,i.PolTrue))\n",
    "        rec_angle.append(np.arccos(i.dirProp[2]))\n",
    "#     recoNu[\"PolReco2\"] = array2\n",
    "    recoNu[\"nnu_Reco\"] = nnu_Reco\n",
    "#     recoNu[\"rec_angle\"] = rec_angle\n",
    "\n",
    "#     recoNu[\"R_True\"] = R_True\n",
    "#     recoNu[\"R_Reco\"] = R_Reco\n",
    "#     recoNu[\"dotProd\"] = dot\n",
    "    recoNu = recoNu.dropna()\n",
    "\n",
    "#     Px_true = np.array([element[0] for element in recoNu.PolTrue])\n",
    "#     Py_true = np.array([element[1] for element in recoNu.PolTrue])\n",
    "#     Pz_true = np.array([element[2] for element in recoNu.PolTrue])\n",
    "\n",
    "#     Px_reco = np.array([element[0] for element in recoNu.PolReco2])\n",
    "#     Py_reco = np.array([element[1] for element in recoNu.PolReco2])\n",
    "#     Pz_reco = np.array([element[2] for element in recoNu.PolReco2])\n",
    "\n",
    "\n",
    "    nnuX_true = np.array([element[0] for element in recoNu.nnu])\n",
    "    nnuY_true = np.array([element[1] for element in recoNu.nnu])\n",
    "    nnuZ_true = np.array([element[2] for element in recoNu.nnu])\n",
    "\n",
    "    nnuX_reco = np.array([element[0] for element in recoNu.nnu_Reco])\n",
    "    nnuY_reco = np.array([element[1] for element in recoNu.nnu_Reco])\n",
    "    nnuZ_reco = np.array([element[2] for element in recoNu.nnu_Reco])\n",
    "\n",
    "    thetaNnu_true = np.degrees(np.arccos((nnuZ_true)))\n",
    "    thetaNnu_reco = np.degrees(np.arccos((-nnuZ_reco)))\n",
    "    phiNnu_true = np.degrees(np.arctan((nnuY_true)/(nnuX_true)))\n",
    "    phiNnu_reco = np.degrees(np.arctan((nnuY_reco)/(nnuX_reco)))\n",
    "\n",
    "    recoNu[\"thetaNnu_reco\"] = thetaNnu_reco\n",
    "    recoNu[\"phiNnu_reco\"] = phiNnu_reco\n",
    "    recoNu[\"thetaNnu_true\"] = thetaNnu_true\n",
    "    recoNu[\"phiNnu_true\"] = phiNnu_true\n",
    "#     recoNu[\"delta\"] = thetaNnu_reco-thetaNnu_true\n",
    "#     recoNu[\"deltaPhi\"] = phiNnu_reco-phiNnu_true\n",
    "\n",
    "    recoNu = recoNu.dropna()\n",
    "\n",
    "    noise_Th = np.random.normal(0,6,len(recoNu.phiNnu_reco))\n",
    "    noise_Ph = np.random.normal(0,6,len(recoNu.phiNnu_reco))\n",
    "\n",
    "    nnuPhi = (recoNu.phiNnu_reco)#+noise_Ph\n",
    "    nnuTheta = (recoNu.thetaNnu_reco)#+noise_Th\n",
    "    plt.figure()\n",
    "    plt.hist2d(nnuPhi,nnuTheta, bins=100, weights=recoNu.weight);\n",
    "    plt.scatter(recoNu.phiNnu_true,recoNu.thetaNnu_true-recoNu.thetaNnu_true,s=100,c=\"red\",marker=\"*\",label =\"True source\")\n",
    "    x=nnuPhi\n",
    "    y=np.cos(np.radians(nnuTheta))\n",
    "    # plt.ylim(50,125)\n",
    "    print(len(recoNu))\n"
   ]
  },
  {
   "cell_type": "code",
   "execution_count": 84,
   "metadata": {},
   "outputs": [
    {
     "data": {
      "image/png": "[encoded data removed]",
      "text/plain": [
       "<Figure size 396x396 with 4 Axes>"
      ]
     },
     "metadata": {},
     "output_type": "display_data"
    }
   ],
   "source": [
    "# fig = plt.figure(figsize=(10,6))\n",
    "x=nnuPhi\n",
    "y=np.cos(np.radians(nnuTheta))\n",
    "# y = nnuTheta\n",
    "\n",
    "data = np.vstack([x,y]).T\n",
    "\n",
    "\n",
    "# Plot it.\n",
    "figure = corner.corner(data, labels=[r\"$\\phi_\\nu$\", r\"$\\cos\\theta_\\nu$\"],\n",
    "                       quantiles=[0.16, 0.5, 0.84],\n",
    "                       show_titles=True,smooth=True, weights=recoNu.weight)\n",
    "\n",
    "corner.overplot_lines(figure, [0,np.cos(np.radians(180-recoNu.thetaNnu_true.unique()[0]))], color=\"C1\",ls = \"-\",alpha = 0.6, label = \"T\")\n",
    "# corner.overplot_points(figure, [0,np.cos(np.radians(180-recoNu.thetaNnu_true.unique()[0]))], color=\"C1\", marker=\"s\")\n",
    "plt.tight_layout()\n",
    "# plt.savefig(my_path_plots+\"/NuDirReco/KDE_Fixed_recoNnu_1E18_cornerPlot.png\", dpi=200)"
   ]
  },
  {
   "cell_type": "code",
   "execution_count": 103,
   "metadata": {},
   "outputs": [
    {
     "name": "stdout",
     "output_type": "stream",
     "text": [
      "-9.678_{-33.012}^{15.904}\n"
     ]
    }
   ],
   "source": [
    "qs = corner.quantile(x, q = [0.16,0.5,0.84])\n",
    "print(\"%0.3f_{%0.3f}^{%0.3f}\"%(qs[1],-qs[1]+qs[0],-qs[1]+qs[2]))"
   ]
  },
  {
   "cell_type": "code",
   "execution_count": 95,
   "metadata": {},
   "outputs": [
    {
     "name": "stdout",
     "output_type": "stream",
     "text": [
      "-33.012, 15.904\n"
     ]
    }
   ],
   "source": []
  },
  {
   "cell_type": "code",
   "execution_count": 81,
   "metadata": {},
   "outputs": [
    {
     "data": {
      "text/plain": [
       "-9.678160642350948"
      ]
     },
     "execution_count": 81,
     "metadata": {},
     "output_type": "execute_result"
    }
   ],
   "source": [
    "x.median()"
   ]
  },
  {
   "cell_type": "code",
   "execution_count": null,
   "metadata": {},
   "outputs": [],
   "source": []
  }
 ],
 "metadata": {
  "kernelspec": {
   "display_name": "Python 3.6 (Conda 5.2) [python/3.6-conda5.2]",
   "language": "python",
   "name": "sys_python36conda"
  },
  "language_info": {
   "codemirror_mode": {
    "name": "ipython",
    "version": 3
   },
   "file_extension": ".py",
   "mimetype": "text/x-python",
   "name": "python",
   "nbconvert_exporter": "python",
   "pygments_lexer": "ipython3",
   "version": "3.6.6"
  }
 },
 "nbformat": 4,
 "nbformat_minor": 4
}
