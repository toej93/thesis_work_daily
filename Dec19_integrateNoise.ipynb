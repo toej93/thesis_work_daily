{
 "cells": [
  {
   "cell_type": "markdown",
   "metadata": {},
   "source": [
    "# Plots for Gen2 call"
   ]
  },
  {
   "cell_type": "markdown",
   "metadata": {},
   "source": [
    "### Dec 18, 2020"
   ]
  },
  {
   "cell_type": "markdown",
   "metadata": {},
   "source": [
    "## Code"
   ]
  },
  {
   "cell_type": "code",
   "execution_count": 1,
   "metadata": {},
   "outputs": [
    {
     "name": "stdout",
     "output_type": "stream",
     "text": [
      "Welcome to JupyROOT 6.18/04\n"
     ]
    }
   ],
   "source": [
    "import sys\n",
    "import csv\n",
    "# sys.path.insert(0,\"/users/PCON0003/cond0068/.local/lib/python3.7/\")\n",
    "sys.path.append(\"/users/PAS0654/osu8354/ARA_cvmfs/root_build/lib/\") # go to parent dir\n",
    "sys.path.append(\"/users/PCON0003/cond0068/.local/lib/python3.7/site-packages/\")\n",
    "# sys.path.append(\"/users/PCON0003/cond0068/pyrex_sims/fromBen/thesis_work/pyrex-custom/analysis/custom/analysis/\")\n",
    "import ROOT\n",
    "import math\n",
    "import numpy as np\n",
    "from ROOT import TH1D,TF1, gRandom, gPad, gStyle\n",
    "import matplotlib as mpl\n",
    "import matplotlib.pyplot as plt\n",
    "from ROOT import TChain, TSelector, TTree\n",
    "import os\n",
    "import matplotlib.colors as mcolors\n",
    "import scipy\n",
    "from matplotlib.colors import LogNorm\n",
    "import pandas as pd\n",
    "import pyrex\n",
    "import seaborn as sns\n",
    "%matplotlib inline\n",
    "sys.path.insert(1, \"/users/PAS0654/osu8354/ARA_cvmfs/source/AraRoot/analysis/ARA_analysis/CenA_sourceSearch/Stokes\")\n",
    "import deDisperse_util as util\n",
    "from pyrex.internal_functions import normalize\n",
    "my_path_plots = os.path.abspath(\"./plots/\")\n",
    "import pyrex.custom.ara as ara\n"
   ]
  },
  {
   "cell_type": "code",
   "execution_count": 2,
   "metadata": {},
   "outputs": [],
   "source": [
    "# mpl.use('agg') \n",
    "mpl.rcParams['text.usetex'] = True\n",
    "mpl.rcParams['text.latex.unicode'] = True\n",
    "mpl.rcParams['mathtext.rm'] = 'Times New Roman'\n",
    "mpl.rcParams['mathtext.it'] = 'Times New Roman:italic'\n",
    "mpl.rcParams['mathtext.bf'] = 'Times New Roman:bold'\n",
    "\n",
    "mpl.rc('font', family='serif', size=12)\n",
    "mpl.rcParams['xtick.labelsize'] = 14\n",
    "mpl.rcParams['ytick.labelsize'] = 14\n",
    "mpl.rcParams['xtick.major.size'] = 5\n",
    "mpl.rcParams['ytick.major.size'] = 5\n",
    "\n",
    "mpl.rcParams['axes.titlesize'] = 18\n",
    "mpl.rcParams['axes.labelsize'] = 18\n",
    "# mpl.rc('font', size=16)\n",
    "mpl.rc('axes', titlesize=20)\n",
    "\n",
    "current_palette = sns.color_palette('colorblind', 10)\n",
    "import warnings\n",
    "warnings.filterwarnings(\"ignore\")\n"
   ]
  },
  {
   "cell_type": "markdown",
   "metadata": {},
   "source": [
    "## Integrate noise"
   ]
  },
  {
   "cell_type": "code",
   "execution_count": 4,
   "metadata": {},
   "outputs": [
    {
     "data": {
      "text/html": [
       "<div>\n",
       "<style scoped>\n",
       "    .dataframe tbody tr th:only-of-type {\n",
       "        vertical-align: middle;\n",
       "    }\n",
       "\n",
       "    .dataframe tbody tr th {\n",
       "        vertical-align: top;\n",
       "    }\n",
       "\n",
       "    .dataframe thead th {\n",
       "        text-align: right;\n",
       "    }\n",
       "</style>\n",
       "<table border=\"1\" class=\"dataframe\">\n",
       "  <thead>\n",
       "    <tr style=\"text-align: right;\">\n",
       "      <th></th>\n",
       "      <th>time</th>\n",
       "      <th>traceH</th>\n",
       "      <th>traceV</th>\n",
       "    </tr>\n",
       "  </thead>\n",
       "  <tbody>\n",
       "    <tr>\n",
       "      <th>1275</th>\n",
       "      <td>198.4375</td>\n",
       "      <td>36.293780</td>\n",
       "      <td>-24.876276</td>\n",
       "    </tr>\n",
       "    <tr>\n",
       "      <th>1276</th>\n",
       "      <td>198.7500</td>\n",
       "      <td>67.280380</td>\n",
       "      <td>22.046611</td>\n",
       "    </tr>\n",
       "    <tr>\n",
       "      <th>1277</th>\n",
       "      <td>199.0625</td>\n",
       "      <td>36.860234</td>\n",
       "      <td>24.829893</td>\n",
       "    </tr>\n",
       "    <tr>\n",
       "      <th>1278</th>\n",
       "      <td>199.3750</td>\n",
       "      <td>22.753557</td>\n",
       "      <td>-50.166415</td>\n",
       "    </tr>\n",
       "    <tr>\n",
       "      <th>1279</th>\n",
       "      <td>199.6875</td>\n",
       "      <td>57.495126</td>\n",
       "      <td>-103.286321</td>\n",
       "    </tr>\n",
       "  </tbody>\n",
       "</table>\n",
       "</div>"
      ],
      "text/plain": [
       "          time     traceH      traceV\n",
       "1275  198.4375  36.293780  -24.876276\n",
       "1276  198.7500  67.280380   22.046611\n",
       "1277  199.0625  36.860234   24.829893\n",
       "1278  199.3750  22.753557  -50.166415\n",
       "1279  199.6875  57.495126 -103.286321"
      ]
     },
     "execution_count": 4,
     "metadata": {},
     "output_type": "execute_result"
    }
   ],
   "source": [
    "wform = pd.read_pickle(\"../ARA_analysis/CenA_sourceSearch/Stokes/Traces.pkl\")\n",
    "wform.tail()"
   ]
  },
  {
   "cell_type": "code",
   "execution_count": 13,
   "metadata": {},
   "outputs": [
    {
     "data": {
      "text/plain": [
       "<matplotlib.legend.Legend at 0x2ad43a31fef0>"
      ]
     },
     "execution_count": 13,
     "metadata": {},
     "output_type": "execute_result"
    },
    {
     "data": {
      "image/png": "[encoded data removed]",
      "text/plain": [
       "<Figure size 504x360 with 1 Axes>"
      ]
     },
     "metadata": {},
     "output_type": "display_data"
    }
   ],
   "source": [
    "plt.figure(figsize=(7,5))\n",
    "plt.plot(wform.time, wform.traceV, label=\"Vpol\")\n",
    "plt.plot(wform.time, wform.traceH, label=\"Hpol\")\n",
    "\n",
    "plt.xlabel(\"Time [ns]\")\n",
    "plt.ylabel(\"Amplitude [mV]\")\n",
    "plt.legend()"
   ]
  },
  {
   "cell_type": "code",
   "execution_count": 85,
   "metadata": {},
   "outputs": [],
   "source": [
    "def findHighestPeakBin(values):\n",
    "    if abs(max(values))>=abs(min(values)):\n",
    "        peakBin = np.argmax(values)\n",
    "    else:\n",
    "        peakBin = np.argmin(values)\n",
    "    return peakBin"
   ]
  },
  {
   "cell_type": "code",
   "execution_count": 28,
   "metadata": {},
   "outputs": [
    {
     "data": {
      "text/plain": [
       "64.0"
      ]
     },
     "execution_count": 28,
     "metadata": {},
     "output_type": "execute_result"
    }
   ],
   "source": [
    "20/(wform.time[1]-wform.time[0])#Number of bins in 20 ns"
   ]
  },
  {
   "cell_type": "code",
   "execution_count": 29,
   "metadata": {},
   "outputs": [
    {
     "data": {
      "text/plain": [
       "192.0"
      ]
     },
     "execution_count": 29,
     "metadata": {},
     "output_type": "execute_result"
    }
   ],
   "source": [
    "60/(wform.time[1]-wform.time[0])#Number of bins in 60 ns"
   ]
  },
  {
   "cell_type": "code",
   "execution_count": 76,
   "metadata": {},
   "outputs": [],
   "source": [
    "def integratePowerWindow(times, values):\n",
    "    times = np.array(times)\n",
    "    values = np.array(values)\n",
    "    dT = times[1]-times[0]\n",
    "    leftNumBins = int(20/dT)#Number of bins in 20 ns\n",
    "    rightNumBins = int(60/dT)#Number of bins in 60 ns\n",
    "\n",
    "    peakBin = findHighestPeakBin(values)#Find bin where peak happens\n",
    "    lowerEdgeBin = peakBin-leftNumBins\n",
    "    upperEdgeBin = peakBin+rightNumBins\n",
    "    if((lowerEdgeBin<0) or (upperEdgeBin<0)):\n",
    "        return -1\n",
    "    cutWform = values[lowerEdgeBin:upperEdgeBin]\n",
    "    cutTimes = times[lowerEdgeBin:upperEdgeBin]\n",
    "    power = np.sum(cutWform**2)*dT\n",
    "    return power"
   ]
  },
  {
   "cell_type": "code",
   "execution_count": 77,
   "metadata": {},
   "outputs": [],
   "source": [
    "def integratePowerNoise(times, values):\n",
    "    times = np.array(times)\n",
    "    values = np.array(values)\n",
    "    dT = times[1]-times[0]\n",
    "    #need to integrate first 80 ns of the waveform\n",
    "    numBins = int(80/dT)\n",
    "    cutWform = values[0:numBins]\n",
    "    power = np.sum(cutWform**2)*dT\n",
    "    return power"
   ]
  },
  {
   "cell_type": "code",
   "execution_count": 78,
   "metadata": {},
   "outputs": [
    {
     "data": {
      "text/plain": [
       "207484.48491134396"
      ]
     },
     "execution_count": 78,
     "metadata": {},
     "output_type": "execute_result"
    }
   ],
   "source": [
    "integratePowerNoise(wform.time, wform.traceV)"
   ]
  },
  {
   "cell_type": "markdown",
   "metadata": {},
   "source": [
    "### Test functions"
   ]
  },
  {
   "cell_type": "code",
   "execution_count": 72,
   "metadata": {},
   "outputs": [],
   "source": [
    "theta = np.radians(150.94)\n",
    "phi = np.radians(319.28)\n",
    "decT_V, decV_V= util.deConvolve_antenna(wform.time, wform.traceV, theta, phi, 0)\n",
    "decT_H, decV_H= util.deConvolve_antenna(wform.time, wform.traceH, theta, phi, 1)"
   ]
  },
  {
   "cell_type": "code",
   "execution_count": 74,
   "metadata": {},
   "outputs": [
    {
     "data": {
      "text/plain": [
       "[<matplotlib.lines.Line2D at 0x2ad43a562f60>]"
      ]
     },
     "execution_count": 74,
     "metadata": {},
     "output_type": "execute_result"
    },
    {
     "data": {
      "image/png": "[encoded data removed]",
      "text/plain": [
       "<Figure size 432x288 with 1 Axes>"
      ]
     },
     "metadata": {},
     "output_type": "display_data"
    }
   ],
   "source": [
    "plt.plot(decT_V, decV_V)\n",
    "plt.plot(decT_H, decV_H)"
   ]
  },
  {
   "cell_type": "code",
   "execution_count": 82,
   "metadata": {},
   "outputs": [],
   "source": [
    "powerV = integratePowerWindow(decT_V, decV_V)\n",
    "powerV_noise = integratePowerNoise(decT_V, decV_V)\n",
    "\n",
    "powerH = integratePowerWindow(decT_H, decV_H)\n",
    "powerH_noise = integratePowerNoise(decT_H, decV_H)\n",
    "\n",
    "newPowerV = powerV - powerV_noise\n",
    "newPowerH = powerH - powerH_noise"
   ]
  },
  {
   "cell_type": "code",
   "execution_count": 83,
   "metadata": {},
   "outputs": [
    {
     "data": {
      "text/plain": [
       "array([-0.52504305, -0.84673742,  0.08582267])"
      ]
     },
     "execution_count": 83,
     "metadata": {},
     "output_type": "execute_result"
    }
   ],
   "source": [
    "util.PolVectorRecoPower(newPowerV,newPowerH,theta,phi)\n"
   ]
  },
  {
   "cell_type": "code",
   "execution_count": 84,
   "metadata": {},
   "outputs": [
    {
     "data": {
      "text/plain": [
       "85.07666673457555"
      ]
     },
     "execution_count": 84,
     "metadata": {},
     "output_type": "execute_result"
    }
   ],
   "source": [
    "np.degrees(np.arccos(0.08582267))"
   ]
  },
  {
   "cell_type": "code",
   "execution_count": null,
   "metadata": {},
   "outputs": [],
   "source": []
  }
 ],
 "metadata": {
  "kernelspec": {
   "display_name": "Python 3.6 (Conda 5.2) [python/3.6-conda5.2]",
   "language": "python",
   "name": "sys_python36conda"
  },
  "language_info": {
   "codemirror_mode": {
    "name": "ipython",
    "version": 3
   },
   "file_extension": ".py",
   "mimetype": "text/x-python",
   "name": "python",
   "nbconvert_exporter": "python",
   "pygments_lexer": "ipython3",
   "version": "3.6.6"
  }
 },
 "nbformat": 4,
 "nbformat_minor": 4
}
