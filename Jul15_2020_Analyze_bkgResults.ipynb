{
 "cells": [
  {
   "cell_type": "markdown",
   "metadata": {},
   "source": [
    "# Analyze the results from calculating background numbers"
   ]
  },
  {
   "cell_type": "markdown",
   "metadata": {},
   "source": [
    "## July 15th"
   ]
  },
  {
   "cell_type": "markdown",
   "metadata": {},
   "source": [
    "I performed a scan (~1000 times) scrambling the position of the source for a fixed SNR cut (starting with diffuse cut), and calculated the number of events that passed all cuts, then this result was averaged by the number of times the scrambling was done. We'd like to lower the SNR cut until we get a number of backgrounds similar to that obtained in the diffuse analysis."
   ]
  },
  {
   "cell_type": "code",
   "execution_count": 1,
   "metadata": {},
   "outputs": [
    {
     "name": "stdout",
     "output_type": "stream",
     "text": [
      "Welcome to JupyROOT 6.18/04\n"
     ]
    }
   ],
   "source": [
    "import sys\n",
    "sys.path.insert(0,\"/users/PCON0003/cond0068/.local/lib/python3.7/\")\n",
    "sys.path.append(\"/users/PAS0654/osu8354/ARA_cvmfs/root_build/lib/\") # go to parent dir\n",
    "sys.path.append(\"/users/PCON0003/cond0068/.local/lib/python3.7/site-packages/\")\n",
    "import ROOT\n",
    "import math\n",
    "import numpy as np\n",
    "from ROOT import TH1D,TF1, gRandom, gPad, gStyle\n",
    "import matplotlib.pyplot as plt\n",
    "from ROOT import TChain, TSelector, TTree\n",
    "import os\n",
    "import matplotlib.colors as mcolors\n",
    "import scipy\n",
    "from matplotlib.colors import LogNorm\n",
    "import pandas as pd"
   ]
  },
  {
   "cell_type": "code",
   "execution_count": 4,
   "metadata": {},
   "outputs": [
    {
     "data": {
      "text/html": [
       "<div>\n",
       "<style scoped>\n",
       "    .dataframe tbody tr th:only-of-type {\n",
       "        vertical-align: middle;\n",
       "    }\n",
       "\n",
       "    .dataframe tbody tr th {\n",
       "        vertical-align: top;\n",
       "    }\n",
       "\n",
       "    .dataframe thead th {\n",
       "        text-align: right;\n",
       "    }\n",
       "</style>\n",
       "<table border=\"1\" class=\"dataframe\">\n",
       "  <thead>\n",
       "    <tr style=\"text-align: right;\">\n",
       "      <th></th>\n",
       "      <th>phi</th>\n",
       "      <th>theta</th>\n",
       "      <th>19</th>\n",
       "      <th>18.9</th>\n",
       "      <th>18.8</th>\n",
       "      <th>18.7</th>\n",
       "      <th>18.6</th>\n",
       "      <th>18.5</th>\n",
       "    </tr>\n",
       "  </thead>\n",
       "  <tbody>\n",
       "    <tr>\n",
       "      <th>0</th>\n",
       "      <td>-6.454</td>\n",
       "      <td>-48.382</td>\n",
       "      <td>0</td>\n",
       "      <td>0</td>\n",
       "      <td>0</td>\n",
       "      <td>0</td>\n",
       "      <td>0</td>\n",
       "      <td>0</td>\n",
       "    </tr>\n",
       "    <tr>\n",
       "      <th>1</th>\n",
       "      <td>-167.075</td>\n",
       "      <td>36.611</td>\n",
       "      <td>0</td>\n",
       "      <td>0</td>\n",
       "      <td>0</td>\n",
       "      <td>0</td>\n",
       "      <td>0</td>\n",
       "      <td>0</td>\n",
       "    </tr>\n",
       "    <tr>\n",
       "      <th>2</th>\n",
       "      <td>36.075</td>\n",
       "      <td>31.286</td>\n",
       "      <td>0</td>\n",
       "      <td>0</td>\n",
       "      <td>0</td>\n",
       "      <td>0</td>\n",
       "      <td>0</td>\n",
       "      <td>0</td>\n",
       "    </tr>\n",
       "    <tr>\n",
       "      <th>3</th>\n",
       "      <td>159.267</td>\n",
       "      <td>-15.855</td>\n",
       "      <td>0</td>\n",
       "      <td>0</td>\n",
       "      <td>0</td>\n",
       "      <td>0</td>\n",
       "      <td>0</td>\n",
       "      <td>0</td>\n",
       "    </tr>\n",
       "    <tr>\n",
       "      <th>4</th>\n",
       "      <td>128.002</td>\n",
       "      <td>-68.619</td>\n",
       "      <td>0</td>\n",
       "      <td>0</td>\n",
       "      <td>0</td>\n",
       "      <td>0</td>\n",
       "      <td>0</td>\n",
       "      <td>0</td>\n",
       "    </tr>\n",
       "    <tr>\n",
       "      <th>...</th>\n",
       "      <td>...</td>\n",
       "      <td>...</td>\n",
       "      <td>...</td>\n",
       "      <td>...</td>\n",
       "      <td>...</td>\n",
       "      <td>...</td>\n",
       "      <td>...</td>\n",
       "      <td>...</td>\n",
       "    </tr>\n",
       "    <tr>\n",
       "      <th>1000</th>\n",
       "      <td>34.023</td>\n",
       "      <td>16.223</td>\n",
       "      <td>0</td>\n",
       "      <td>0</td>\n",
       "      <td>0</td>\n",
       "      <td>0</td>\n",
       "      <td>0</td>\n",
       "      <td>0</td>\n",
       "    </tr>\n",
       "    <tr>\n",
       "      <th>1001</th>\n",
       "      <td>9.403</td>\n",
       "      <td>-66.639</td>\n",
       "      <td>0</td>\n",
       "      <td>0</td>\n",
       "      <td>0</td>\n",
       "      <td>0</td>\n",
       "      <td>0</td>\n",
       "      <td>0</td>\n",
       "    </tr>\n",
       "    <tr>\n",
       "      <th>1002</th>\n",
       "      <td>-132.452</td>\n",
       "      <td>12.438</td>\n",
       "      <td>0</td>\n",
       "      <td>0</td>\n",
       "      <td>0</td>\n",
       "      <td>0</td>\n",
       "      <td>0</td>\n",
       "      <td>0</td>\n",
       "    </tr>\n",
       "    <tr>\n",
       "      <th>1003</th>\n",
       "      <td>-37.289</td>\n",
       "      <td>-88.418</td>\n",
       "      <td>0</td>\n",
       "      <td>0</td>\n",
       "      <td>0</td>\n",
       "      <td>0</td>\n",
       "      <td>0</td>\n",
       "      <td>0</td>\n",
       "    </tr>\n",
       "    <tr>\n",
       "      <th>1004</th>\n",
       "      <td>22.670</td>\n",
       "      <td>-80.026</td>\n",
       "      <td>0</td>\n",
       "      <td>0</td>\n",
       "      <td>0</td>\n",
       "      <td>0</td>\n",
       "      <td>0</td>\n",
       "      <td>0</td>\n",
       "    </tr>\n",
       "  </tbody>\n",
       "</table>\n",
       "<p>1005 rows × 8 columns</p>\n",
       "</div>"
      ],
      "text/plain": [
       "          phi   theta  19  18.9  18.8  18.7  18.6  18.5\n",
       "0      -6.454 -48.382   0     0     0     0     0     0\n",
       "1    -167.075  36.611   0     0     0     0     0     0\n",
       "2      36.075  31.286   0     0     0     0     0     0\n",
       "3     159.267 -15.855   0     0     0     0     0     0\n",
       "4     128.002 -68.619   0     0     0     0     0     0\n",
       "...       ...     ...  ..   ...   ...   ...   ...   ...\n",
       "1000   34.023  16.223   0     0     0     0     0     0\n",
       "1001    9.403 -66.639   0     0     0     0     0     0\n",
       "1002 -132.452  12.438   0     0     0     0     0     0\n",
       "1003  -37.289 -88.418   0     0     0     0     0     0\n",
       "1004   22.670 -80.026   0     0     0     0     0     0\n",
       "\n",
       "[1005 rows x 8 columns]"
      ]
     },
     "execution_count": 4,
     "metadata": {},
     "output_type": "execute_result"
    }
   ],
   "source": [
    "#colNames = [\"phi\", 'theta', '20.6', '20.4', '20.2', '20.0', '19.8', '19.6']\n",
    "# colNames = [\"phi\", 'theta', '19.5', '19', '18.5', '18', '17.5', '17']\n",
    "colNames = [\"phi\", 'theta', '19', '18.9', '18.8', '18.7', '18.6', '18.5']\n",
    "\n",
    "SNR = pd.read_csv(\"/users/PAS0654/osu8354/ARA_cvmfs/source/AraRoot/analysis/files/source_optimization/bkg_random_SNR_scan_fine_config3.csv\", names=colNames)\n",
    "SNR = SNR.dropna()\n",
    "SNR"
   ]
  },
  {
   "cell_type": "code",
   "execution_count": 18,
   "metadata": {
    "scrolled": false
   },
   "outputs": [
    {
     "data": {
      "text/html": [
       "<div>\n",
       "<style scoped>\n",
       "    .dataframe tbody tr th:only-of-type {\n",
       "        vertical-align: middle;\n",
       "    }\n",
       "\n",
       "    .dataframe tbody tr th {\n",
       "        vertical-align: top;\n",
       "    }\n",
       "\n",
       "    .dataframe thead th {\n",
       "        text-align: right;\n",
       "    }\n",
       "</style>\n",
       "<table border=\"1\" class=\"dataframe\">\n",
       "  <thead>\n",
       "    <tr style=\"text-align: right;\">\n",
       "      <th></th>\n",
       "      <th>index</th>\n",
       "      <th>bkg</th>\n",
       "      <th>snr</th>\n",
       "    </tr>\n",
       "  </thead>\n",
       "  <tbody>\n",
       "    <tr>\n",
       "      <th>0</th>\n",
       "      <td>18.5</td>\n",
       "      <td>0.272727</td>\n",
       "      <td>18.5</td>\n",
       "    </tr>\n",
       "    <tr>\n",
       "      <th>1</th>\n",
       "      <td>18.6</td>\n",
       "      <td>0.090909</td>\n",
       "      <td>18.6</td>\n",
       "    </tr>\n",
       "    <tr>\n",
       "      <th>2</th>\n",
       "      <td>18.7</td>\n",
       "      <td>0.090909</td>\n",
       "      <td>18.7</td>\n",
       "    </tr>\n",
       "    <tr>\n",
       "      <th>3</th>\n",
       "      <td>18.8</td>\n",
       "      <td>0.000000</td>\n",
       "      <td>18.8</td>\n",
       "    </tr>\n",
       "    <tr>\n",
       "      <th>4</th>\n",
       "      <td>18.9</td>\n",
       "      <td>0.000000</td>\n",
       "      <td>18.9</td>\n",
       "    </tr>\n",
       "    <tr>\n",
       "      <th>5</th>\n",
       "      <td>19</td>\n",
       "      <td>0.000000</td>\n",
       "      <td>19</td>\n",
       "    </tr>\n",
       "  </tbody>\n",
       "</table>\n",
       "</div>"
      ],
      "text/plain": [
       "  index       bkg   snr\n",
       "0  18.5  0.272727  18.5\n",
       "1  18.6  0.090909  18.6\n",
       "2  18.7  0.090909  18.7\n",
       "3  18.8  0.000000  18.8\n",
       "4  18.9  0.000000  18.9\n",
       "5    19  0.000000    19"
      ]
     },
     "execution_count": 18,
     "metadata": {},
     "output_type": "execute_result"
    }
   ],
   "source": [
    "bkg = SNR.mean()\n",
    "bkg = bkg[2:]\n",
    "bkg = bkg.sort_index()\n",
    "bkg = pd.DataFrame(bkg, columns=[\"bkg\"])\n",
    "bkg.reset_index(level=0, inplace=True)\n",
    "bkg[\"snr\"] = bkg[\"index\"]\n",
    "bkg"
   ]
  },
  {
   "cell_type": "code",
   "execution_count": 20,
   "metadata": {},
   "outputs": [
    {
     "data": {
      "image/png": "[encoded data removed]",
      "text/plain": [
       "<Figure size 432x288 with 1 Axes>"
      ]
     },
     "metadata": {},
     "output_type": "display_data"
    }
   ],
   "source": [
    "plt.axhline(5E-2, ls=\"--\", c=\"C1\", label=\"Diffuse $N_{bkg}$ SNR cut = 20.6\")\n",
    "# plt.axvline(20.6, ls=\"--\", c=\"C2\", label=\"Diffuse SNR cut\")\n",
    "\n",
    "plt.plot(bkg.snr, bkg.bkg)\n",
    "plt.yscale('log')\n",
    "plt.ylim(0.01,1)\n",
    "plt.xlabel(\"SNR-intercept cut\", fontsize=14)\n",
    "plt.ylabel(\"$N_{bkg}$\", fontsize=14)\n",
    "plt.title(\"SNR scan\",fontsize=18)\n",
    "plt.legend()\n",
    "plt.tight_layout()\n",
    "# plt.savefig(\"./plots/scan_yinterc_scrambled_source.png\", dpi=150)"
   ]
  },
  {
   "cell_type": "code",
   "execution_count": 3,
   "metadata": {},
   "outputs": [
    {
     "data": {
      "image/png": "[encoded data removed]",
      "text/plain": [
       "<Figure size 432x288 with 1 Axes>"
      ]
     },
     "metadata": {},
     "output_type": "display_data"
    }
   ],
   "source": [
    "#colNames = [\"phi\", 'theta', '20.6', '20.4', '20.2', '20.0', '19.8', '19.6']\n",
    "# colNames = [\"phi\", 'theta', '19.5', '19', '18.5', '18', '17.5', '17']\n",
    "colNames = [\"phi\", 'theta', '19', '18.9', '18.8', '18.7', '18.6', '18.5']\n",
    "colNames = [\"phi\", 'theta', \"20\", \"19.5\", \"19\", \"18.5\", \"18\", \"17.5\"]\n",
    "\n",
    "for i in range(1,6):\n",
    "    SNR = pd.read_csv(\"/users/PAS0654/osu8354/ARA_cvmfs/source/AraRoot/analysis/files/source_optimization/bkg_random_SNR_scan_fine_config%i.csv\"%i, names=colNames)\n",
    "    SNR = SNR.dropna()\n",
    "\n",
    "    bkg = SNR.mean()\n",
    "    bkg = bkg[2:]\n",
    "    bkg = bkg.sort_index()\n",
    "    bkg = pd.DataFrame(bkg, columns=[\"bkg\"])\n",
    "    bkg.reset_index(level=0, inplace=True)\n",
    "    bkg[\"snr\"] = bkg[\"index\"]\n",
    "\n",
    "    # plt.axvline(20.6, ls=\"--\", c=\"C2\", label=\"Diffuse SNR cut\")\n",
    "\n",
    "    plt.plot(bkg.snr, bkg.bkg, label=\"config%i\"%i)\n",
    "plt.axhline(5E-2, ls=\"--\", c=\"C1\", label=\"Diffuse $N_{bkg}$, SNR cut = 20.6\")\n",
    "\n",
    "plt.yscale('log')\n",
    "# plt.ylim(0.01,10)\n",
    "plt.xlabel(\"SNR-intercept cut\", fontsize=14)\n",
    "plt.ylabel(\"$N_{bkg}$\", fontsize=14)\n",
    "plt.title(\"SNR scan\",fontsize=18)\n",
    "plt.legend()\n",
    "plt.tight_layout()\n",
    "# plt.savefig(\"./plots/scan_yinterc_scrambled_source_allConfigs.png\", dpi=150)"
   ]
  },
  {
   "cell_type": "code",
   "execution_count": 5,
   "metadata": {},
   "outputs": [
    {
     "data": {
      "text/plain": [
       "<matplotlib.collections.PathCollection at 0x2b63a6e4af28>"
      ]
     },
     "execution_count": 5,
     "metadata": {},
     "output_type": "execute_result"
    },
    {
     "data": {
      "image/png": "[encoded data removed]",
      "text/plain": [
       "<Figure size 432x288 with 1 Axes>"
      ]
     },
     "metadata": {},
     "output_type": "display_data"
    }
   ],
   "source": [
    "plt.scatter(SNR.phi, SNR.theta)"
   ]
  },
  {
   "cell_type": "code",
   "execution_count": null,
   "metadata": {},
   "outputs": [],
   "source": []
  }
 ],
 "metadata": {
  "kernelspec": {
   "display_name": "Python 3.6 (Conda 5.2) [python/3.6-conda5.2]",
   "language": "python",
   "name": "sys_python36conda"
  },
  "language_info": {
   "codemirror_mode": {
    "name": "ipython",
    "version": 3
   },
   "file_extension": ".py",
   "mimetype": "text/x-python",
   "name": "python",
   "nbconvert_exporter": "python",
   "pygments_lexer": "ipython3",
   "version": "3.6.6"
  }
 },
 "nbformat": 4,
 "nbformat_minor": 2
}
