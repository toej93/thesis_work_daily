{
 "cells": [
  {
   "cell_type": "markdown",
   "metadata": {},
   "source": [
    "# Plots for sources call"
   ]
  },
  {
   "cell_type": "markdown",
   "metadata": {},
   "source": [
    "### Jan 13, 2021"
   ]
  },
  {
   "cell_type": "markdown",
   "metadata": {},
   "source": [
    "## Code"
   ]
  },
  {
   "cell_type": "code",
   "execution_count": 4,
   "metadata": {},
   "outputs": [],
   "source": [
    "import sys\n",
    "import csv\n",
    "# sys.path.insert(0,\"/users/PCON0003/cond0068/.local/lib/python3.7/\")\n",
    "sys.path.append(\"/users/PAS0654/osu8354/ARA_cvmfs/root_build/lib/\") # go to parent dir\n",
    "sys.path.append(\"/users/PCON0003/cond0068/.local/lib/python3.7/site-packages/\")\n",
    "# sys.path.append(\"/users/PCON0003/cond0068/pyrex_sims/fromBen/thesis_work/pyrex-custom/analysis/custom/analysis/\")\n",
    "import ROOT\n",
    "import math\n",
    "import numpy as np\n",
    "from ROOT import TH1D,TF1, gRandom, gPad, gStyle\n",
    "import matplotlib as mpl\n",
    "import matplotlib.pyplot as plt\n",
    "from ROOT import TChain, TSelector, TTree\n",
    "import os\n",
    "import matplotlib.colors as mcolors\n",
    "import scipy\n",
    "from matplotlib.colors import LogNorm\n",
    "import pandas as pd\n",
    "import pyrex\n",
    "import seaborn as sns\n",
    "%matplotlib inline\n",
    "sys.path.insert(1, \"/users/PAS0654/osu8354/ARA_cvmfs/source/AraRoot/analysis/ARA_analysis/CenA_sourceSearch/Stokes\")\n",
    "import deDisperse_util as util\n",
    "from pyrex.internal_functions import normalize\n",
    "my_path_plots = os.path.abspath(\"./plots/\")\n",
    "import pyrex.custom.ara as ara\n"
   ]
  },
  {
   "cell_type": "code",
   "execution_count": 5,
   "metadata": {},
   "outputs": [],
   "source": [
    "# mpl.use('agg') \n",
    "mpl.rcParams['text.usetex'] = True\n",
    "mpl.rcParams['text.latex.unicode'] = True\n",
    "mpl.rcParams['mathtext.rm'] = 'Times New Roman'\n",
    "mpl.rcParams['mathtext.it'] = 'Times New Roman:italic'\n",
    "mpl.rcParams['mathtext.bf'] = 'Times New Roman:bold'\n",
    "\n",
    "mpl.rc('font', family='serif', size=12)\n",
    "mpl.rcParams['xtick.labelsize'] = 14\n",
    "mpl.rcParams['ytick.labelsize'] = 14\n",
    "mpl.rcParams['xtick.major.size'] = 5\n",
    "mpl.rcParams['ytick.major.size'] = 5\n",
    "\n",
    "mpl.rcParams['axes.titlesize'] = 18\n",
    "mpl.rcParams['axes.labelsize'] = 18\n",
    "# mpl.rc('font', size=16)\n",
    "mpl.rc('axes', titlesize=20)\n",
    "\n",
    "current_palette = sns.color_palette('colorblind', 10)\n",
    "import warnings\n",
    "warnings.filterwarnings(\"ignore\")\n"
   ]
  },
  {
   "cell_type": "markdown",
   "metadata": {},
   "source": [
    "## Events"
   ]
  },
  {
   "cell_type": "code",
   "execution_count": 6,
   "metadata": {},
   "outputs": [
    {
     "name": "stdout",
     "output_type": "stream",
     "text": [
      "158887\n"
     ]
    }
   ],
   "source": [
    "SNR_cutV = 5\n",
    "SNR_cutH = 3\n",
    "appended_data = []\n",
    "import os\n",
    "for filename in os.listdir(\"/users/PAS0654/osu8354/ARA_cvmfs/source/AraRoot/analysis/ARA_analysis/CenA_sourceSearch/Stokes/noiseOn/window_Sol0/\"):#Loop over desired directory\n",
    "        if (filename.startswith(\"pol_quant_noise\")): #extension, .root in this case\n",
    "            name = os.path.join(\"/users/PAS0654/osu8354/ARA_cvmfs/source/AraRoot/analysis/ARA_analysis/CenA_sourceSearch/Stokes/noiseOn/window_Sol0/\", str(filename))\n",
    "            data = pd.read_pickle(name)\n",
    "            appended_data.append(data)\n",
    "recoNu = pd.concat(appended_data) \n",
    "# recoNu = pd.read_pickle(\"/users/PAS0654/osu8354/ARA_cvmfs/source/AraRoot/analysis/ARA_analysis/CenA_sourceSearch/Stokes/debug/pol_quant_noiseless.pkl\")\n",
    "recoNu = recoNu.loc[abs(recoNu.maxV)>1]\n",
    "# recoNu = recoNu.loc[abs(recoNu.maxV)<1450]\n",
    "recoNu = recoNu.loc[abs(recoNu.maxH)>1]\n",
    "# recoNu = recoNu.loc[abs(recoNu.maxH)<1450]\n",
    "recoNu = recoNu.loc[recoNu.theta_reco>=np.pi/2]\n",
    "# recoNu = recoNu.loc[recoNu.weight>1E-100]\n",
    "recoNu[\"SNR_V\"] = abs(recoNu.maxV)/recoNu.rmsV\n",
    "recoNu[\"SNR_H\"] = abs(recoNu.maxH)/recoNu.rmsH\n",
    "# recoNu = recoNu.loc[abs(recoNu.SNR_H-5)<1]\n",
    "# recoNu = recoNu.loc[(recoNu.SNR_H>=SNR_cutH) & (recoNu.SNR_V>=SNR_cutV)]\n",
    "# recoNu = recoNu.loc[recoNu.SNR_V>=5]\n",
    "print(len(recoNu))\n",
    "recoNu.batch = recoNu.batch.astype(int)\n",
    "\n",
    "array2 = []\n",
    "R_True = []\n",
    "R_Reco = []\n",
    "propVec = []\n",
    "dot = []\n",
    "for i in recoNu.itertuples(): \n",
    "    thetaHat = np.array([np.cos(i.theta_reco)*np.cos(i.phi_reco), np.cos(i.theta_reco)*np.sin(i.phi_reco), -np.sin(i.theta_reco)])\n",
    "    phiHat = np.array([-np.sin(i.phi_reco), np.cos(i.phi_reco),0])\n",
    "    if(i.powerH==0 or i.powerV==0):\n",
    "        R_Reco.append(np.nan)\n",
    "        R_True.append(np.nan)\n",
    "        array2.append(np.nan)\n",
    "        dot.append(np.nan)\n",
    "        continue\n",
    "    R_Reco.append(np.sqrt(i.powerH/i.powerV))\n",
    "#     R_Reco.append(abs(i.peak_H/i.peak_V))\n",
    "    R = np.dot(i.PolTrue,phiHat)/(np.dot(i.PolTrue,thetaHat))\n",
    "    R_True.append(R)\n",
    "    PolReco = util.PolVectorRecoPower_debug(i.powerV,i.powerH, i.theta_reco, i.phi_reco,np.sign(R))\n",
    "    array2.append(PolReco)\n",
    "#     array2.append(util.PolVectorReco_debug(i.peak_V,i.peak_H, i.theta_reco, i.phi_reco,np.sign(R)))\n",
    "\n",
    "    propVec = np.array([np.sin(i.theta_reco)*np.cos(i.phi_reco),np.sin(i.theta_reco)*np.sin(i.phi_reco),np.cos(i.theta_reco)])\n",
    "    dot.append(np.dot(i.PolTrue,PolReco))\n",
    "recoNu[\"PolReco2\"] = array2\n",
    "# recoNu[\"PolReco2\"] = util.PolVectorReco(recoNu.maxV, recoNu.maxH, recoNu.theta_reco,recoNu.phi_reco)\n",
    "\n",
    "recoNu[\"R_True\"] = R_True\n",
    "recoNu[\"R_Reco\"] = R_Reco\n",
    "recoNu[\"dotProd\"] = dot\n",
    "# recoNu = recoNu.loc[abs(recoNu.dotProd)<1E-2]\n",
    "recoNu = recoNu.dropna()\n",
    "\n",
    "# recoNu = recoNu.loc[abs(np.degrees(recoNu.view_ang)-56.037)<5]\n",
    "\n",
    "\n",
    "Px_true = np.array([element[0] for element in recoNu.PolTrue])\n",
    "Py_true = np.array([element[1] for element in recoNu.PolTrue])\n",
    "Pz_true = np.array([element[2] for element in recoNu.PolTrue])\n",
    "\n",
    "Px_reco = np.array([element[0] for element in recoNu.PolReco2])\n",
    "Py_reco = np.array([element[1] for element in recoNu.PolReco2])\n",
    "Pz_reco = np.array([element[2] for element in recoNu.PolReco2])\n",
    "\n",
    "\n",
    "thetaPol_true = np.degrees(np.arccos(abs(Pz_true)))\n",
    "thetaPol_reco = np.degrees(np.arccos(abs(Pz_reco)))\n",
    "phiPol_true = np.degrees(np.arctan2(abs(Py_true),abs(Px_true)))\n",
    "phiPol_reco = np.degrees(np.arctan2(abs(Py_reco),abs(Px_reco)))\n",
    "\n",
    "\n",
    "recoNu[\"delta\"] = thetaPol_reco-thetaPol_true\n",
    "recoNu[\"thetaPol_reco\"] = thetaPol_reco\n",
    "recoNu[\"thetaPol_true\"] = thetaPol_true\n",
    "\n",
    "recoNu[\"deltaPhi\"] = phiPol_reco-phiPol_true\n",
    "recoNu[\"phiPol_reco\"] = phiPol_reco\n",
    "recoNu[\"phiPol_true\"] = phiPol_true\n",
    "\n",
    "# delta = thetaPol_reco-thetaPol_true\n",
    "# deltaPhi = phiPol_reco-phiPol_true\n",
    "recoNu = recoNu.dropna()\n",
    "# delta = delta[~np.isnan(delta)]\n"
   ]
  },
  {
   "cell_type": "code",
   "execution_count": null,
   "metadata": {},
   "outputs": [],
   "source": [
    "delta = recoNu[\"delta\"]\n",
    "plt.figure(figsize=(7,5))\n",
    "delta_mean= np.ma.average(delta,weights=recoNu.weight)\n",
    "variance = np.dot(recoNu.weight, (delta - delta_mean) ** 2) / recoNu.weight.sum()\n",
    "delta_std = np.sqrt(variance)\n",
    "\n",
    "sns.distplot(delta, bins=100,hist_kws={'weights': recoNu.weight},norm_hist=False,label = \"No noise [$\\mu$=%0.2f, $\\sigma$=%0.2f]\"%(delta_mean, delta_std));\n",
    "\n",
    "# delta_std = recoNu_noise.deltaTheta.std()\n",
    "# delta_mean = recoNu_noise.deltaTheta.mean()\n",
    "# plt.hist(recoNu_noise.deltaTheta, bins=500, density=True, alpha=0.5, color=\"C1\",label = \"W/noise [$\\mu$=%0.2f, $\\sigma$=%0.2f]\"%(delta_mean, delta_std));\n",
    "\n",
    "plt.xlabel(\"$\\Omega_{reco}-\\Omega_{true}$ [deg]\")\n",
    "# plt.xlabel(\"$\\\\theta$\")\n",
    "plt.ylabel('Counts [norm, weighted.]')\n",
    "# plt.title(\"Polarization reconstruction vs. MC truth \\n $10^{18}-10^{21}$ eV events (no cuts)\")\n",
    "plt.title(\"Polarization reconstruction vs. MC truth \\n $10^{18}-10^{20}$ eV (SNR$_{H}>$5 +saturation cut+no 2nd solution+no mag.)\", fontsize=16)\n",
    "# plt.xlim(-20,20)\n",
    "# plt.yscale('log')\n",
    "plt.grid()\n",
    "plt.legend()\n",
    "plt.tight_layout()\n",
    "# plt.savefig(my_path_plots+'/Dumpster/recoVsTrue_AraSim_noCuts.pdf')\n",
    "# plt.savefig(my_path_plots+'/Dumpster/recoVsTrue_noNoiseOmega.png', dpi=250)\n"
   ]
  },
  {
   "cell_type": "code",
   "execution_count": null,
   "metadata": {},
   "outputs": [],
   "source": [
    "plt.figure(figsize=(7,5))\n",
    "deltaPhi = recoNu[\"deltaPhi\"]\n",
    "# plt.hist(recoNu.AngStokes-np.degrees(np.arccos(abs(recoNu.pol_z))), bins=100, density=False, alpha=1);\n",
    "delta_mean = np.ma.average(deltaPhi,weights=recoNu.weight)\n",
    "variance = np.dot(recoNu.weight, (deltaPhi - delta_mean) ** 2) / recoNu.weight.sum()\n",
    "delta_std = np.sqrt(variance)\n",
    "sns.distplot(deltaPhi, hist_kws={'weights': recoNu.weight},bins=100,label = \"No noise [$\\mu$=%0.2f, $\\sigma$=%0.2f]\"%(delta_mean, delta_std));\n",
    "\n",
    "# delta_std = recoNu_noise.deltaTheta.std()\n",
    "# delta_mean = recoNu_noise.deltaTheta.mean()\n",
    "# plt.hist(recoNu_noise.deltaTheta, bins=500, density=True, alpha=0.5, color=\"C1\",label = \"W/noise [$\\mu$=%0.2f, $\\sigma$=%0.2f]\"%(delta_mean, delta_std));\n",
    "\n",
    "plt.xlabel(\"$\\psi_{reco}-\\psi_{true}$ [deg]\")\n",
    "# plt.xlabel(\"$\\\\theta$\")\n",
    "plt.ylabel('Counts [norm, weighted.]')\n",
    "# plt.title(\"Polarization reconstruction vs. MC truth \\n $10^{18}-10^{21}$ eV events (no cuts)\")\n",
    "# plt.title(\"Polarization reconstruction vs. MC truth \\n $10^{18}-10^{20}$ eV (SNR$_{H}>$5 +saturation cut+no 2nd solution+no mag.)\", fontsize=16)\n",
    "# plt.xlim(-20,20)\n",
    "\n",
    "# plt.yscale(\"log\")\n",
    "# mplcyberpunk.add_glow_effects()\n",
    "# plt.yscale('log')\n",
    "plt.grid()\n",
    "plt.legend()\n",
    "plt.tight_layout()\n",
    "# plt.savefig(my_path_plots+'/Dumpster/recoVsTrue_AraSim_noCuts.pdf')\n",
    "# plt.savefig(my_path_plots+'/Dumpster/recoVsTrue_noNoisePsi.png', dpi=250)\n"
   ]
  },
  {
   "cell_type": "markdown",
   "metadata": {},
   "source": [
    "## Resolution as a function of neutrino energy"
   ]
  },
  {
   "cell_type": "code",
   "execution_count": null,
   "metadata": {},
   "outputs": [],
   "source": [
    "from scipy.optimize import curve_fit\n",
    "\n",
    "# scipy.stats.norm.fit(delta)\n",
    "def gauss(x,A, mu, sig):\n",
    "    return A*np.exp(-np.power(x - mu, 2.) / (2 * np.power(sig, 2.)))\n",
    "bins=100\n"
   ]
  },
  {
   "cell_type": "code",
   "execution_count": null,
   "metadata": {},
   "outputs": [],
   "source": [
    "mean = [[],[],[]]\n",
    "mean_err = [[],[]]\n",
    "resolution = [[],[],[]]\n",
    "resolution_err = [[],[],[]]\n",
    "meanH = [[],[],[]]\n",
    "meanH_err = [[],[]]\n",
    "resolutionH = [[],[],[]]\n",
    "resolutionH_err = [[],[],[]]\n",
    "for energy in np.arange(17,21,0.5):\n",
    "    SNR_recoNu = recoNu.loc[recoNu.energyArr==energy]\n",
    "#     SNR_recoNu = recoNu.loc[abs(np.sqrt(recoNu.SNR_V**2+recoNu.SNR_H**2)-SNR)<=1]\n",
    "#     SNR_recoNu = recoNu.loc[abs(np.sqrt(recoNu.SNR_V*recoNu.SNR_H)-SNR)<=1]\n",
    "\n",
    "    delta = SNR_recoNu.delta\n",
    "    deltaPhi = SNR_recoNu.deltaPhi\n",
    "    delta_mean = np.ma.average(delta,weights=SNR_recoNu.weight)\n",
    "    variance = np.dot(SNR_recoNu.weight, (delta - delta_mean) ** 2) / SNR_recoNu.weight.sum()\n",
    "    delta_std = np.sqrt(variance)\n",
    "    \n",
    "    data_entries_Om, bins_Om = np.histogram(delta, bins=bins, weights=SNR_recoNu.weight, density=True)\n",
    "    binscenters_Om = np.array([0.5 * (bins_Om[i] + bins_Om[i+1]) for i in range(len(bins_Om)-1)])\n",
    "    poptOm, pcov = curve_fit(gauss, xdata=binscenters_Om, ydata=data_entries_Om)\n",
    "    perr_Om = np.sqrt(np.diag(pcov))   \n",
    "    mean_err[0].append(perr_Om[1])\n",
    "    resolution_err[0].append(perr_Om[2])\n",
    "\n",
    "    data_entries_Psi, bins_Psi = np.histogram(deltaPhi, bins=bins, weights=SNR_recoNu.weight, density=True)\n",
    "    binscenters_Psi = np.array([0.5 * (bins_Psi[i] + bins_Psi[i+1]) for i in range(len(bins_Psi)-1)])\n",
    "    poptPsi, pcov = curve_fit(gauss, xdata=binscenters_Psi, ydata=data_entries_Psi)\n",
    "    perr_Psi = np.sqrt(np.diag(pcov))    \n",
    "    mean_err[1].append(perr_Psi[1])\n",
    "    resolution_err[1].append(perr_Psi[2])\n",
    "    \n",
    "    deltaPhi_mean = np.ma.average(deltaPhi,weights=SNR_recoNu.weight)\n",
    "    variancePhi = np.dot(SNR_recoNu.weight, (deltaPhi - deltaPhi_mean) ** 2) / SNR_recoNu.weight.sum()\n",
    "    deltaPhi_std = np.sqrt(variancePhi)\n",
    "    \n",
    "    resolution[0].append(energy)\n",
    "#     resolution[1].append(delta_std)\n",
    "#     resolution[2].append(deltaPhi_std)\n",
    "    resolution[1].append(poptOm[2])\n",
    "    resolution[2].append(poptPsi[2])\n",
    "    \n",
    "    mean[0].append(energy)\n",
    "#     mean[1].append(delta_mean)\n",
    "#     mean[2].append(deltaPhi_mean)\n",
    "    \n",
    "    mean[1].append(poptOm[1])\n",
    "    mean[2].append(poptPsi[1])\n",
    "    \n",
    "for energy in np.arange(17,21,0.5):\n",
    "    SNR_recoNu = recoNu.loc[recoNu.energyArr==energy]\n",
    "#     SNR_recoNu = recoNu.loc[abs(np.sqrt(recoNu.SNR_V**2+recoNu.SNR_H**2)-SNR)<=1]\n",
    "#     SNR_recoNu = recoNu.loc[abs(np.sqrt(recoNu.SNR_V*recoNu.SNR_H)-SNR)<=1]\n",
    "\n",
    "    delta = SNR_recoNu.delta\n",
    "    deltaPhi = SNR_recoNu.deltaPhi\n",
    "    \n",
    "    delta_mean = np.ma.average(delta,weights=SNR_recoNu.weight)\n",
    "    variance = np.dot(SNR_recoNu.weight, (delta - delta_mean) ** 2) / SNR_recoNu.weight.sum()\n",
    "    delta_std = np.sqrt(variance)\n",
    "    \n",
    "    deltaPhi_mean = np.ma.average(deltaPhi,weights=SNR_recoNu.weight)\n",
    "    variancePhi = np.dot(SNR_recoNu.weight, (deltaPhi - deltaPhi_mean) ** 2) / SNR_recoNu.weight.sum()\n",
    "    deltaPhi_std = np.sqrt(variancePhi)\n",
    "    \n",
    "    data_entries_Om, bins_Om = np.histogram(delta, bins=bins, weights=SNR_recoNu.weight, density=True)\n",
    "    binscenters_Om = np.array([0.5 * (bins_Om[i] + bins_Om[i+1]) for i in range(len(bins_Om)-1)])\n",
    "    poptOm, pcov = curve_fit(gauss, xdata=binscenters_Om, ydata=data_entries_Om)\n",
    "    perr_Om = np.sqrt(np.diag(pcov))   \n",
    "    meanH_err[0].append(perr_Om[1])\n",
    "    resolutionH_err[0].append(perr_Om[2])\n",
    "    \n",
    "    data_entries_Psi, bins_Psi = np.histogram(deltaPhi, bins=bins, weights=SNR_recoNu.weight, density=True)\n",
    "    binscenters_Psi = np.array([0.5 * (bins_Psi[i] + bins_Psi[i+1]) for i in range(len(bins_Psi)-1)])\n",
    "    poptPsi, pcov = curve_fit(gauss, xdata=binscenters_Psi, ydata=data_entries_Psi)\n",
    "    perr_Psi = np.sqrt(np.diag(pcov))    \n",
    "    meanH_err[1].append(perr_Psi[1])\n",
    "    resolutionH_err[1].append(perr_Psi[2])\n",
    "    \n",
    "    resolutionH[0].append(energy)\n",
    "#     resolutionH[1].append(delta_std)\n",
    "#     resolutionH[2].append(deltaPhi_std)\n",
    "    resolutionH[1].append(poptOm[2])\n",
    "    resolutionH[2].append(poptPsi[2])\n",
    "    \n",
    "    meanH[0].append(energy)\n",
    "#     meanH[1].append(delta_mean)\n",
    "#     meanH[2].append(deltaPhi_mean)\n",
    "    meanH[1].append(poptOm[1])\n",
    "    meanH[2].append(poptPsi[1])\n",
    "    "
   ]
  },
  {
   "cell_type": "code",
   "execution_count": null,
   "metadata": {},
   "outputs": [],
   "source": [
    "fig, axes = plt.subplots(nrows=1, ncols=2, figsize=(12, 5))\n",
    "\n",
    "axes[0].plot(resolution[0],resolution[1], label=\"$\\Omega_{reco}-\\Omega_{true}$ [deg]\")\n",
    "axes[0].fill_between(resolution[0],resolution[1]+np.array(resolution_err[0]),resolution[1]-np.array(resolution_err[0]),alpha=0.4)\n",
    "axes[0].plot(resolution[0],resolution[2], label=\"$\\Psi_{reco}-\\Psi_{true}$ [deg]\")\n",
    "axes[0].fill_between(resolution[0],resolution[2]+np.array(resolution_err[1]),resolution[2]-np.array(resolution_err[1]),alpha=0.4)\n",
    "axes[0].set_xlabel(\"$\\log_{10}{(E_{\\\\nu}}$/eV)\")\n",
    "axes[0].set_ylabel(\"$\\sigma$ [deg]\")\n",
    "axes[0].legend()\n",
    "axes[0].grid()\n",
    "axes[0].set_ylim(0,20)\n",
    "\n",
    "\n",
    "axes[1].plot(mean[0],mean[1], label=\"$\\Omega_{reco}-\\Omega_{true}$ [deg]\")\n",
    "axes[1].fill_between(mean[0],mean[1]+np.array(mean_err[0]),mean[1]-np.array(mean_err[0]),alpha=0.4)\n",
    "axes[1].plot(mean[0],mean[2], label=\"$\\Psi_{reco}-\\Psi_{true}$ [deg]\")\n",
    "axes[1].fill_between(mean[0],mean[2]+np.array(mean_err[1]),mean[2]-np.array(mean_err[1]),alpha=0.4)\n",
    "axes[1].set_xlabel(\"$\\log_{10}{(E_{\\\\nu}}$/eV)\")\n",
    "axes[1].set_ylabel(\"$\\mu$ [deg]\")\n",
    "axes[1].legend()\n",
    "axes[1].grid()\n",
    "axes[1].set_ylim(-1,12)\n",
    "plt.suptitle(\"Energy vs. resolution [$SNR_{H,V}>3$]\", fontsize=20)\n",
    "fig.tight_layout(rect=[0, 0.03, 1, 0.95])\n",
    "# plt.savefig(my_path_plots+'/PolReco_finalPlots/EnergyVsResolution_SNR_3.png', dpi=250)"
   ]
  },
  {
   "cell_type": "markdown",
   "metadata": {},
   "source": [
    "## Fraction of events with resolution better than $\\sigma= 6$"
   ]
  },
  {
   "cell_type": "code",
   "execution_count": null,
   "metadata": {},
   "outputs": [],
   "source": [
    "E_array = []\n",
    "fractionOmega = []\n",
    "fractionPsi = []\n",
    "\n",
    "recoNu2 = recoNu.loc[ (recoNu.SNR_V>=5) & (recoNu.SNR_H>=3) & (abs(recoNu.maxV)<1450) & (abs(recoNu.maxH)<1450)]\n",
    "for energy in np.arange(17,21,0.5):\n",
    "    frac_recoNu = recoNu2.loc[recoNu2.energyArr==energy]\n",
    "    totEvents = len(recoNu.loc[recoNu.energyArr==energy])\n",
    "    frac_recoNuOmega = frac_recoNu.loc[abs(frac_recoNu.delta)<=6]\n",
    "    frac_recoNuPsi = frac_recoNu.loc[abs(frac_recoNu.deltaPhi)<=6]\n",
    "\n",
    "    E_array.append(energy)\n",
    "    fractionOmega.append(len(frac_recoNuOmega)/totEvents)\n",
    "    fractionPsi.append(len(frac_recoNuPsi)/totEvents)"
   ]
  },
  {
   "cell_type": "code",
   "execution_count": null,
   "metadata": {},
   "outputs": [],
   "source": [
    "plt.plot(E_array,fractionOmega,label = \"abs($\\Delta\\Omega)<6$ deg\")\n",
    "plt.plot(E_array,fractionPsi, label = \"abs($\\Delta\\Psi)<6$ deg\")\n",
    "\n",
    "plt.title(\"Fraction of events with abs($\\Delta)<6$ deg \\n [$SNR_{V}>5$]\")\n",
    "plt.xlabel(\"$\\log_{10}{(E_{\\\\nu}}$/eV)\")\n",
    "plt.ylim(0,1)\n",
    "plt.grid()\n",
    "plt.legend()\n",
    "plt.tight_layout()\n",
    "# plt.savefig(my_path_plots+'/PolReco_finalPlots/EnergyvsDeltaOmega_SNR_5_delta6.png', dpi=250)"
   ]
  },
  {
   "cell_type": "markdown",
   "metadata": {},
   "source": [
    "## SNR"
   ]
  },
  {
   "cell_type": "code",
   "execution_count": null,
   "metadata": {},
   "outputs": [],
   "source": [
    "SNR_array = []\n",
    "fractionOmega = []\n",
    "fractionPsi = []\n",
    "for SNR in np.arange(5,30,1):\n",
    "    frac_recoNu = recoNu.loc[abs(recoNu.SNR_V-SNR)<=1]\n",
    "    totEvents = len(frac_recoNu)\n",
    "    fracOmega = frac_recoNu.loc[abs(frac_recoNu.delta)<=6]\n",
    "    fracPsi = frac_recoNu.loc[abs(frac_recoNu.deltaPhi)<=6]\n",
    "\n",
    "    SNR_array.append(SNR)\n",
    "    fractionOmega.append(len(fracOmega)/totEvents)\n",
    "    fractionPsi.append(len(fracPsi)/totEvents)"
   ]
  },
  {
   "cell_type": "code",
   "execution_count": null,
   "metadata": {},
   "outputs": [],
   "source": [
    "plt.plot(SNR_array,fractionOmega,label = \"abs($\\Delta\\Omega)<6$ deg\")\n",
    "plt.plot(SNR_array,fractionPsi,label = \"abs($\\Delta\\Psi)<6$ deg\")\n",
    "\n",
    "plt.title(\"Fraction of events with abs($\\Delta)<6$ deg\")\n",
    "plt.xlabel(\"SNR [Vpol]\")\n",
    "plt.ylim(0,1)\n",
    "plt.grid()\n",
    "plt.legend()\n",
    "plt.tight_layout()\n",
    "# plt.savefig(my_path_plots+'/PolReco_finalPlots/SNRvsFrac_DeltaOmega_6Vpol.png', dpi=250)\n"
   ]
  },
  {
   "cell_type": "markdown",
   "metadata": {},
   "source": [
    "## As a function of SNR"
   ]
  },
  {
   "cell_type": "code",
   "execution_count": null,
   "metadata": {},
   "outputs": [],
   "source": [
    "SNR_array = []\n",
    "fraction = []\n",
    "for SNR in np.arange(1,30,1):\n",
    "    totEvents = len(recoNu)\n",
    "    frac_recoNu = recoNu.loc[abs(recoNu.SNR_V-SNR)<=1]\n",
    "#     frac_recoNu = frac_recoNu.loc[abs(frac_recoNu.delta)<=6]\n",
    "    SNR_array.append(SNR)\n",
    "    fraction.append(1-len(frac_recoNu)/totEvents)"
   ]
  },
  {
   "cell_type": "code",
   "execution_count": null,
   "metadata": {},
   "outputs": [],
   "source": [
    "plt.plot(SNR_array,fraction)\n",
    "plt.title(\"Fraction of events rejected as a function \\n of SNR (as first cut)\")\n",
    "plt.xlabel(\"SNR [Vpol]\")\n",
    "plt.ylim(0,1)"
   ]
  },
  {
   "cell_type": "code",
   "execution_count": null,
   "metadata": {},
   "outputs": [],
   "source": [
    "plt.hist(recoNu.SNR_V, bins = 100, alpha = 0.5, label = \"SNR$_{Vpol}$\");\n",
    "plt.hist(recoNu.SNR_H, bins = 100,alpha = 0.5, label = \"SNR$_{Hpol}$\");\n",
    "plt.xlabel(\"SNR\")\n",
    "plt.legend()\n",
    "plt.title(\"Distribution of SNR values\")\n",
    "plt.xlim(0,4)"
   ]
  },
  {
   "cell_type": "markdown",
   "metadata": {},
   "source": [
    "## As a function of energy"
   ]
  },
  {
   "cell_type": "code",
   "execution_count": null,
   "metadata": {},
   "outputs": [],
   "source": [
    "E_array = []\n",
    "fraction_saturated = []\n",
    "fractionSNR_V = []\n",
    "fractionSNR_H = []\n",
    "\n",
    "for energy in np.arange(17,21,0.5):\n",
    "    frac_recoNu = recoNu.loc[recoNu.energyArr==energy]\n",
    "    totEvents = len(frac_recoNu)\n",
    "    frac_recoNu_saturated = frac_recoNu.loc[(abs(frac_recoNu.maxH)<1450) | (abs(frac_recoNu.maxV)<1450)]\n",
    "    frac_recoNu_SNRV = frac_recoNu.loc[frac_recoNu.SNR_V>=5]\n",
    "    frac_recoNu_SNRH = frac_recoNu.loc[frac_recoNu.SNR_H>=5]\n",
    "\n",
    "    \n",
    "    E_array.append(energy)\n",
    "    fraction_saturated.append(1-len(frac_recoNu_saturated)/totEvents)\n",
    "    fractionSNR_V.append(1-len(frac_recoNu_SNRV)/totEvents)\n",
    "    fractionSNR_H.append(1-len(frac_recoNu_SNRH)/totEvents)"
   ]
  },
  {
   "cell_type": "code",
   "execution_count": null,
   "metadata": {},
   "outputs": [],
   "source": [
    "plt.plot(E_array,fraction_saturated, label = \"Saturation cut\")\n",
    "plt.plot(E_array,fractionSNR_V, label = \"SNR$_V>5$\")\n",
    "plt.plot(E_array,fractionSNR_H, label = \"SNR$_H>5$\")\n",
    "\n",
    "plt.title(\"Fraction of events rejected per cut (as first cut)\")\n",
    "plt.xlabel(\"$\\log_{10}{(E_{\\\\nu}}$/eV)\")\n",
    "plt.ylim(0,1)\n",
    "plt.grid()\n",
    "plt.legend()\n",
    "plt.tight_layout()\n",
    "# plt.savefig(my_path_plots+'/PolReco_finalPlots/EnergyvsFractionCut.png', dpi=250)"
   ]
  },
  {
   "cell_type": "markdown",
   "metadata": {},
   "source": [
    "### Cumulative"
   ]
  },
  {
   "cell_type": "code",
   "execution_count": null,
   "metadata": {},
   "outputs": [],
   "source": [
    "E_array = []\n",
    "fraction_1 = []\n",
    "fraction_2 = []\n",
    "fraction_2_ = []\n",
    "fraction_3 = []\n",
    "\n",
    "for energy in np.arange(17,21,0.5):\n",
    "    frac_recoNu = recoNu.loc[recoNu.energyArr==energy]\n",
    "    totEvents = len(frac_recoNu)\n",
    "    frac_recoNu_1 = frac_recoNu.loc[(abs(frac_recoNu.maxH)<1450) | (abs(frac_recoNu.maxV)<1450)]\n",
    "    frac_recoNu_2 = frac_recoNu_1.loc[frac_recoNu_1.SNR_V>=5]\n",
    "    frac_recoNu_2_ = frac_recoNu_1.loc[frac_recoNu_1.SNR_H>=3]\n",
    "    frac_recoNu_3 = frac_recoNu_2.loc[frac_recoNu_2.SNR_H>=3]\n",
    "\n",
    "    \n",
    "    E_array.append(energy)\n",
    "    fraction_1.append(1-len(frac_recoNu_1)/totEvents)\n",
    "    fraction_2.append(1-len(frac_recoNu_2)/totEvents)\n",
    "    fraction_2_.append(1-len(frac_recoNu_2_)/totEvents)\n",
    "    fraction_3.append(1-len(frac_recoNu_3)/totEvents)"
   ]
  },
  {
   "cell_type": "code",
   "execution_count": null,
   "metadata": {},
   "outputs": [],
   "source": [
    "plt.plot(E_array,fraction_1, label = \"Saturation cut\")\n",
    "plt.plot(E_array,fraction_2, label = \"Saturation cut + SNR$_V>5$\")\n",
    "plt.plot(E_array,fraction_2_, label = \"Saturation cut + SNR$_H>3$\")\n",
    "plt.plot(E_array,fraction_3, label = \"Saturation cut + SNR$_V>5$ + SNR$_H>3$\")\n",
    "\n",
    "plt.title(\"Fraction of events rejected per cut (as first cut)\")\n",
    "plt.xlabel(\"$\\log_{10}{(E_{\\\\nu}}$/eV)\")\n",
    "plt.ylim(0,1)\n",
    "plt.grid()\n",
    "plt.legend()\n",
    "plt.tight_layout()\n",
    "plt.savefig(my_path_plots+'/PolReco_finalPlots/EnergyvsFractionCut_cumulative_SNR_5.png', dpi=250)"
   ]
  },
  {
   "cell_type": "markdown",
   "metadata": {},
   "source": [
    "## Calculate SNR at ARIANNA's station"
   ]
  },
  {
   "cell_type": "code",
   "execution_count": null,
   "metadata": {},
   "outputs": [],
   "source": [
    "SNR_ARA = 10 #VPol\n",
    "dARA = 1353 #m\n",
    "zARA = 800 #m\n",
    "R_ARA = np.sqrt(dARA**2+zARA**2)\n",
    "\n",
    "dARIANNA = 953 #m\n",
    "zARIANNA = zARA\n",
    "R_ARIANNA = np.sqrt(dARIANNA**2+zARIANNA**2)\n",
    "\n",
    "def Fatten(R):\n",
    "    Latten = 690 #m\n",
    "    return np.exp(-R/Latten)"
   ]
  },
  {
   "cell_type": "code",
   "execution_count": null,
   "metadata": {},
   "outputs": [],
   "source": [
    "R_ARA_1110 = np.sqrt(1100**2+dARA**2)\n",
    "SNR_ARIANNA = SNR_ARA*((Fatten(R_ARIANNA)*R_ARA)/(Fatten(R_ARA)*R_ARIANNA))\n",
    "SNR_ARIANNA"
   ]
  },
  {
   "cell_type": "code",
   "execution_count": null,
   "metadata": {},
   "outputs": [],
   "source": [
    "Fatten(R_ARIANNA)"
   ]
  },
  {
   "cell_type": "code",
   "execution_count": null,
   "metadata": {},
   "outputs": [],
   "source": [
    "Fatten(R_ARA)"
   ]
  },
  {
   "cell_type": "code",
   "execution_count": null,
   "metadata": {},
   "outputs": [],
   "source": [
    "2.5+2.5/2"
   ]
  },
  {
   "cell_type": "markdown",
   "metadata": {},
   "source": [
    "### Plot for talk"
   ]
  },
  {
   "cell_type": "code",
   "execution_count": null,
   "metadata": {},
   "outputs": [],
   "source": [
    "def energy_convert(energy):\n",
    "    mass = 0.145\n",
    "    return np.sqrt(2*(energy*2e-10)/mass)*2.23\n",
    "\n",
    "def speed_convert(speed):\n",
    "    mass = 0.145\n",
    "    return 0.5*mass*speed**2\n",
    "\n",
    "def flux_convert(flux): #convert to events/year*km^2\n",
    "    return flux*3.154E7*4*np.pi*1E10\n",
    "\n",
    "def flux_to_rate(flux):\n",
    "        return flux*5E38*1E-42*5/2 #5 stations\n",
    "    "
   ]
  },
  {
   "cell_type": "code",
   "execution_count": null,
   "metadata": {},
   "outputs": [],
   "source": [
    "ara = pd.read_csv(\"./data/ara.csv\")"
   ]
  },
  {
   "cell_type": "code",
   "execution_count": null,
   "metadata": {},
   "outputs": [],
   "source": [
    "fig, ax = plt.subplots(constrained_layout=True, figsize=(7,5.5))\n",
    "# ax.loglog(data_nu[\"energy\"], flux_convert(data_nu[\"flux\"]))\n",
    "ax.loglog(ara[\"energy\"], flux_convert(ara[\"flux\"]), lw=3)\n",
    "\n",
    "ax.grid(True,'major', linestyle='--', lw=0.7, color='k')\n",
    "ax.set_xlabel('$E_{\\\\nu}$ [GeV]')\n",
    "ax.set_ylabel('$\\\\nu$ flux on Earth [events year$^{-1}$ km$^{-2}$]')\n",
    "ax.set_title('Energy vs. UHE-$\\\\nu$ flux', y=1.15)\n",
    "\n",
    "ax.set_ylim(5,1E4)\n",
    "secax = ax.secondary_xaxis('top', functions=(energy_convert, energy_convert))\n",
    "secax.set_xlabel('Speed of a baseball with KE=$E_\\\\nu$ [mph]',color='b')\n",
    "secax.tick_params(axis='x', labelcolor=\"blue\")\n",
    "secay = ax.secondary_yaxis('right', functions=(flux_to_rate, flux_to_rate))\n",
    "secay.set_ylim(1E-2,1)\n",
    "secay.set_ylabel(r'Rate in ARA (5 stations) [events year$^{-1}$]',color='darkgreen')\n",
    "secay.tick_params(axis='y', labelcolor=\"darkgreen\")\n",
    "\n",
    "# plt.show()\n",
    "# plt.savefig(my_path_plots+'/PlotsForTalks/Energy_vs_Flux.png', dpi=250)"
   ]
  },
  {
   "cell_type": "markdown",
   "metadata": {},
   "source": [
    "## Fraction of events better than $\\sigma$"
   ]
  },
  {
   "cell_type": "code",
   "execution_count": 52,
   "metadata": {},
   "outputs": [],
   "source": [
    "E_array = []\n",
    "fractionOmega = []\n",
    "fractionPsi = []\n",
    "\n",
    "recoNu2 = recoNu.loc[ (abs(recoNu.maxV)<1450) & (abs(recoNu.maxH)<1450) & (recoNu.SNR_V>=5)]\n",
    "for energy in np.arange(17,21,0.5):\n",
    "    frac_recoNu = recoNu2.loc[recoNu2.energyArr==energy]\n",
    "    totEvents = len(recoNu.loc[recoNu.energyArr==energy])\n",
    "    frac_recoNuOmega = frac_recoNu.loc[abs(frac_recoNu.delta)<=3]\n",
    "    frac_recoNuPsi = frac_recoNu.loc[abs(frac_recoNu.deltaPhi)<=3]\n",
    "\n",
    "    E_array.append(energy)\n",
    "    fractionOmega.append(len(frac_recoNuOmega)/totEvents)\n",
    "    fractionPsi.append(len(frac_recoNuPsi)/totEvents)"
   ]
  },
  {
   "cell_type": "code",
   "execution_count": 53,
   "metadata": {},
   "outputs": [
    {
     "data": {
      "image/png": "[encoded data removed]",
      "text/plain": [
       "<Figure size 432x288 with 1 Axes>"
      ]
     },
     "metadata": {},
     "output_type": "display_data"
    }
   ],
   "source": [
    "plt.plot(E_array,fractionOmega,label = \"abs($\\Delta\\Omega)<6$ deg\")\n",
    "plt.plot(E_array,fractionPsi, label = \"abs($\\Delta\\Psi)<6$ deg\")\n",
    "\n",
    "# plt.title(\"Fraction of events with abs($\\Delta)<3$ deg \\n [$SNR_{H}>3, SNR_{V}>3$]\")\n",
    "plt.title(\"Fraction of events with abs($\\Delta)<6$ deg \\n [Saturation cut, $SNR_{V}>5$]\")\n",
    "plt.xlabel(\"$\\log_{10}{(E_{\\\\nu}}$/eV)\")\n",
    "plt.ylim(0,1)\n",
    "plt.grid()\n",
    "plt.legend()\n",
    "plt.tight_layout()\n",
    "# plt.savefig(my_path_plots+'/PolReco_finalPlots/EnergyvsDeltaOmega_OnlyVpolSNRCut5_delta6forAmy.png', dpi=250)"
   ]
  },
  {
   "cell_type": "code",
   "execution_count": 54,
   "metadata": {},
   "outputs": [],
   "source": [
    "d = {'log10E': E_array, 'fractionPsi': fractionPsi, 'fractionOmega': fractionOmega}\n",
    "df = pd.DataFrame(data=d)\n",
    "df.to_pickle(\"./data/fraction_3deg_SNRV_5.pkl\")"
   ]
  },
  {
   "cell_type": "code",
   "execution_count": 55,
   "metadata": {},
   "outputs": [
    {
     "data": {
      "text/html": [
       "<div>\n",
       "<style scoped>\n",
       "    .dataframe tbody tr th:only-of-type {\n",
       "        vertical-align: middle;\n",
       "    }\n",
       "\n",
       "    .dataframe tbody tr th {\n",
       "        vertical-align: top;\n",
       "    }\n",
       "\n",
       "    .dataframe thead th {\n",
       "        text-align: right;\n",
       "    }\n",
       "</style>\n",
       "<table border=\"1\" class=\"dataframe\">\n",
       "  <thead>\n",
       "    <tr style=\"text-align: right;\">\n",
       "      <th></th>\n",
       "      <th>log10E</th>\n",
       "      <th>fractionPsi</th>\n",
       "      <th>fractionOmega</th>\n",
       "    </tr>\n",
       "  </thead>\n",
       "  <tbody>\n",
       "    <tr>\n",
       "      <th>0</th>\n",
       "      <td>17.0</td>\n",
       "      <td>0.123340</td>\n",
       "      <td>0.108159</td>\n",
       "    </tr>\n",
       "    <tr>\n",
       "      <th>1</th>\n",
       "      <td>17.5</td>\n",
       "      <td>0.177507</td>\n",
       "      <td>0.159892</td>\n",
       "    </tr>\n",
       "    <tr>\n",
       "      <th>2</th>\n",
       "      <td>18.0</td>\n",
       "      <td>0.198887</td>\n",
       "      <td>0.175598</td>\n",
       "    </tr>\n",
       "    <tr>\n",
       "      <th>3</th>\n",
       "      <td>18.5</td>\n",
       "      <td>0.230521</td>\n",
       "      <td>0.189834</td>\n",
       "    </tr>\n",
       "    <tr>\n",
       "      <th>4</th>\n",
       "      <td>19.0</td>\n",
       "      <td>0.215207</td>\n",
       "      <td>0.183664</td>\n",
       "    </tr>\n",
       "    <tr>\n",
       "      <th>5</th>\n",
       "      <td>19.5</td>\n",
       "      <td>0.208969</td>\n",
       "      <td>0.173270</td>\n",
       "    </tr>\n",
       "    <tr>\n",
       "      <th>6</th>\n",
       "      <td>20.0</td>\n",
       "      <td>0.197354</td>\n",
       "      <td>0.163921</td>\n",
       "    </tr>\n",
       "    <tr>\n",
       "      <th>7</th>\n",
       "      <td>20.5</td>\n",
       "      <td>0.181639</td>\n",
       "      <td>0.145436</td>\n",
       "    </tr>\n",
       "  </tbody>\n",
       "</table>\n",
       "</div>"
      ],
      "text/plain": [
       "   log10E  fractionPsi  fractionOmega\n",
       "0    17.0     0.123340       0.108159\n",
       "1    17.5     0.177507       0.159892\n",
       "2    18.0     0.198887       0.175598\n",
       "3    18.5     0.230521       0.189834\n",
       "4    19.0     0.215207       0.183664\n",
       "5    19.5     0.208969       0.173270\n",
       "6    20.0     0.197354       0.163921\n",
       "7    20.5     0.181639       0.145436"
      ]
     },
     "execution_count": 55,
     "metadata": {},
     "output_type": "execute_result"
    }
   ],
   "source": [
    "pd.read_pickle(\"./data/fraction_3deg_SNRV_5.pkl\")"
   ]
  },
  {
   "cell_type": "code",
   "execution_count": null,
   "metadata": {},
   "outputs": [],
   "source": []
  }
 ],
 "metadata": {
  "kernelspec": {
   "display_name": "Python 3.6 (Conda 5.2) [python/3.6-conda5.2]",
   "language": "python",
   "name": "sys_python36conda"
  },
  "language_info": {
   "codemirror_mode": {
    "name": "ipython",
    "version": 3
   },
   "file_extension": ".py",
   "mimetype": "text/x-python",
   "name": "python",
   "nbconvert_exporter": "python",
   "pygments_lexer": "ipython3",
   "version": "3.6.6"
  }
 },
 "nbformat": 4,
 "nbformat_minor": 4
}
